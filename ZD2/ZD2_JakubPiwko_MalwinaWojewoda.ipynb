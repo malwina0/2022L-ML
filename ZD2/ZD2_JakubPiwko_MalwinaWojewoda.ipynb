{
 "cells": [
  {
   "cell_type": "markdown",
   "metadata": {},
   "source": [
    "# Wstęp do uczenia maszynowego\n",
    "##  Praca domowa nr 2\n",
    "#### Jakub Piwko, Malwina Wojewoda\n",
    "***\n",
    "***\n",
    "***"
   ]
  },
  {
   "cell_type": "markdown",
   "metadata": {},
   "source": [
    "### Pakiety"
   ]
  },
  {
   "cell_type": "code",
   "execution_count": 115,
   "metadata": {},
   "outputs": [],
   "source": [
    "import pandas as pd\n",
    "import plotly.express as px\n",
    "import numpy as np\n",
    "import sklearn \n",
    "import seaborn as sns\n",
    "import matplotlib.pyplot as plt\n",
    "import matplotlib\n",
    "import warnings\n",
    "warnings.filterwarnings('ignore')\n",
    "np.random.seed(23)\n",
    "from sklearn.model_selection import train_test_split\n",
    "from sklearn import metrics"
   ]
  },
  {
   "cell_type": "markdown",
   "metadata": {},
   "source": [
    "### Wczytanie i analiza danych"
   ]
  },
  {
   "cell_type": "markdown",
   "metadata": {},
   "source": [
    "Zbiór danych opisuje transakcje zarejestrowane na stronie allegro.pl w ciągu jednego pełnego dnia 3 kwietnia 2016r. \n",
    "Zmienna, którą przewidujemy: cena"
   ]
  },
  {
   "cell_type": "code",
   "execution_count": 2,
   "metadata": {},
   "outputs": [
    {
     "data": {
      "text/html": [
       "<div>\n",
       "<style scoped>\n",
       "    .dataframe tbody tr th:only-of-type {\n",
       "        vertical-align: middle;\n",
       "    }\n",
       "\n",
       "    .dataframe tbody tr th {\n",
       "        vertical-align: top;\n",
       "    }\n",
       "\n",
       "    .dataframe thead th {\n",
       "        text-align: right;\n",
       "    }\n",
       "</style>\n",
       "<table border=\"1\" class=\"dataframe\">\n",
       "  <thead>\n",
       "    <tr style=\"text-align: right;\">\n",
       "      <th></th>\n",
       "      <th>lp</th>\n",
       "      <th>date</th>\n",
       "      <th>item_id</th>\n",
       "      <th>categories</th>\n",
       "      <th>pay_option_on_delivery</th>\n",
       "      <th>pay_option_transfer</th>\n",
       "      <th>seller</th>\n",
       "      <th>price</th>\n",
       "      <th>it_is_allegro_standard</th>\n",
       "      <th>it_quantity</th>\n",
       "      <th>it_is_brand_zone</th>\n",
       "      <th>it_seller_rating</th>\n",
       "      <th>it_location</th>\n",
       "      <th>main_category</th>\n",
       "    </tr>\n",
       "  </thead>\n",
       "  <tbody>\n",
       "    <tr>\n",
       "      <th>0</th>\n",
       "      <td>0</td>\n",
       "      <td>2016-04-03 21:21:08</td>\n",
       "      <td>4753602474</td>\n",
       "      <td>['Komputery', 'Dyski i napędy', 'Nośniki', 'No...</td>\n",
       "      <td>1</td>\n",
       "      <td>1</td>\n",
       "      <td>radzioch666</td>\n",
       "      <td>59.99</td>\n",
       "      <td>1</td>\n",
       "      <td>997</td>\n",
       "      <td>0</td>\n",
       "      <td>50177</td>\n",
       "      <td>Warszawa</td>\n",
       "      <td>Komputery</td>\n",
       "    </tr>\n",
       "    <tr>\n",
       "      <th>1</th>\n",
       "      <td>1</td>\n",
       "      <td>2016-04-03 15:35:26</td>\n",
       "      <td>4773181874</td>\n",
       "      <td>['Odzież, Obuwie, Dodatki', 'Bielizna damska',...</td>\n",
       "      <td>1</td>\n",
       "      <td>1</td>\n",
       "      <td>InwestycjeNET</td>\n",
       "      <td>4.90</td>\n",
       "      <td>1</td>\n",
       "      <td>9288</td>\n",
       "      <td>0</td>\n",
       "      <td>12428</td>\n",
       "      <td>Warszawa</td>\n",
       "      <td>Odzież, Obuwie, Dodatki</td>\n",
       "    </tr>\n",
       "    <tr>\n",
       "      <th>2</th>\n",
       "      <td>2</td>\n",
       "      <td>2016-04-03 14:14:31</td>\n",
       "      <td>4781627074</td>\n",
       "      <td>['Dom i Ogród', 'Budownictwo i Akcesoria', 'Śc...</td>\n",
       "      <td>1</td>\n",
       "      <td>1</td>\n",
       "      <td>otostyl_com</td>\n",
       "      <td>109.90</td>\n",
       "      <td>1</td>\n",
       "      <td>895</td>\n",
       "      <td>0</td>\n",
       "      <td>7389</td>\n",
       "      <td>Leszno</td>\n",
       "      <td>Dom i Ogród</td>\n",
       "    </tr>\n",
       "    <tr>\n",
       "      <th>3</th>\n",
       "      <td>3</td>\n",
       "      <td>2016-04-03 19:55:44</td>\n",
       "      <td>4783971474</td>\n",
       "      <td>['Książki i Komiksy', 'Poradniki i albumy', 'Z...</td>\n",
       "      <td>1</td>\n",
       "      <td>1</td>\n",
       "      <td>Matfel1</td>\n",
       "      <td>18.50</td>\n",
       "      <td>0</td>\n",
       "      <td>971</td>\n",
       "      <td>0</td>\n",
       "      <td>15006</td>\n",
       "      <td>Wola Krzysztoporska</td>\n",
       "      <td>Książki i Komiksy</td>\n",
       "    </tr>\n",
       "    <tr>\n",
       "      <th>4</th>\n",
       "      <td>4</td>\n",
       "      <td>2016-04-03 18:05:54</td>\n",
       "      <td>4787908274</td>\n",
       "      <td>['Odzież, Obuwie, Dodatki', 'Ślub i wesele', '...</td>\n",
       "      <td>1</td>\n",
       "      <td>1</td>\n",
       "      <td>PPHU_RICO</td>\n",
       "      <td>19.90</td>\n",
       "      <td>1</td>\n",
       "      <td>950</td>\n",
       "      <td>0</td>\n",
       "      <td>32975</td>\n",
       "      <td>BIAŁYSTOK</td>\n",
       "      <td>Odzież, Obuwie, Dodatki</td>\n",
       "    </tr>\n",
       "  </tbody>\n",
       "</table>\n",
       "</div>"
      ],
      "text/plain": [
       "   lp                 date     item_id  \\\n",
       "0   0  2016-04-03 21:21:08  4753602474   \n",
       "1   1  2016-04-03 15:35:26  4773181874   \n",
       "2   2  2016-04-03 14:14:31  4781627074   \n",
       "3   3  2016-04-03 19:55:44  4783971474   \n",
       "4   4  2016-04-03 18:05:54  4787908274   \n",
       "\n",
       "                                          categories  pay_option_on_delivery  \\\n",
       "0  ['Komputery', 'Dyski i napędy', 'Nośniki', 'No...                       1   \n",
       "1  ['Odzież, Obuwie, Dodatki', 'Bielizna damska',...                       1   \n",
       "2  ['Dom i Ogród', 'Budownictwo i Akcesoria', 'Śc...                       1   \n",
       "3  ['Książki i Komiksy', 'Poradniki i albumy', 'Z...                       1   \n",
       "4  ['Odzież, Obuwie, Dodatki', 'Ślub i wesele', '...                       1   \n",
       "\n",
       "   pay_option_transfer         seller   price  it_is_allegro_standard  \\\n",
       "0                    1    radzioch666   59.99                       1   \n",
       "1                    1  InwestycjeNET    4.90                       1   \n",
       "2                    1    otostyl_com  109.90                       1   \n",
       "3                    1        Matfel1   18.50                       0   \n",
       "4                    1      PPHU_RICO   19.90                       1   \n",
       "\n",
       "   it_quantity  it_is_brand_zone  it_seller_rating          it_location  \\\n",
       "0          997                 0             50177             Warszawa   \n",
       "1         9288                 0             12428             Warszawa   \n",
       "2          895                 0              7389               Leszno   \n",
       "3          971                 0             15006  Wola Krzysztoporska   \n",
       "4          950                 0             32975            BIAŁYSTOK   \n",
       "\n",
       "             main_category  \n",
       "0                Komputery  \n",
       "1  Odzież, Obuwie, Dodatki  \n",
       "2              Dom i Ogród  \n",
       "3        Książki i Komiksy  \n",
       "4  Odzież, Obuwie, Dodatki  "
      ]
     },
     "execution_count": 2,
     "metadata": {},
     "output_type": "execute_result"
    }
   ],
   "source": [
    "df = pd.read_csv('allegro-api-transactions.csv')\n",
    "df.head()"
   ]
  },
  {
   "cell_type": "markdown",
   "metadata": {},
   "source": [
    "#### Analiza braków danych"
   ]
  },
  {
   "cell_type": "code",
   "execution_count": 3,
   "metadata": {},
   "outputs": [
    {
     "name": "stdout",
     "output_type": "stream",
     "text": [
      "<class 'pandas.core.frame.DataFrame'>\n",
      "RangeIndex: 420020 entries, 0 to 420019\n",
      "Data columns (total 14 columns):\n",
      " #   Column                  Non-Null Count   Dtype  \n",
      "---  ------                  --------------   -----  \n",
      " 0   lp                      420020 non-null  int64  \n",
      " 1   date                    420020 non-null  object \n",
      " 2   item_id                 420020 non-null  int64  \n",
      " 3   categories              420020 non-null  object \n",
      " 4   pay_option_on_delivery  420020 non-null  int64  \n",
      " 5   pay_option_transfer     420020 non-null  int64  \n",
      " 6   seller                  420020 non-null  object \n",
      " 7   price                   420020 non-null  float64\n",
      " 8   it_is_allegro_standard  420020 non-null  int64  \n",
      " 9   it_quantity             420020 non-null  int64  \n",
      " 10  it_is_brand_zone        420020 non-null  int64  \n",
      " 11  it_seller_rating        420020 non-null  int64  \n",
      " 12  it_location             420020 non-null  object \n",
      " 13  main_category           420020 non-null  object \n",
      "dtypes: float64(1), int64(8), object(5)\n",
      "memory usage: 44.9+ MB\n"
     ]
    }
   ],
   "source": [
    "df.info()"
   ]
  },
  {
   "cell_type": "markdown",
   "metadata": {},
   "source": [
    "W ramce danych nie wystąpują wartości None/Null, więc nie będziemy musieli zajmować się uzupełnianiem brakujących wartości."
   ]
  },
  {
   "cell_type": "markdown",
   "metadata": {},
   "source": [
    "#### Rozkłady zmiennych\n",
    "Pomimo, że niektóre zmienne są typu *int* i *float*, to mogą to być zmienne dyskretne/kategoryczne. Sprawdźmy to zatem:"
   ]
  },
  {
   "cell_type": "code",
   "execution_count": 4,
   "metadata": {},
   "outputs": [
    {
     "data": {
      "image/png": "[encoded data removed]",
      "text/plain": [
       "<Figure size 1296x864 with 9 Axes>"
      ]
     },
     "metadata": {
      "needs_background": "light"
     },
     "output_type": "display_data"
    }
   ],
   "source": [
    "df.hist(figsize=(18, 12), bins=40)\n",
    "plt.show()"
   ]
  },
  {
   "cell_type": "markdown",
   "metadata": {},
   "source": [
    "Mimo, że z histogramu niektóre wielkości wyglądają na kategoryczne lepiej upewnic się korzystając ze zliczenia występujących wartości:"
   ]
  },
  {
   "cell_type": "code",
   "execution_count": 18,
   "metadata": {},
   "outputs": [
    {
     "data": {
      "text/plain": [
       "1    368766\n",
       "0     51254\n",
       "Name: pay_option_on_delivery, dtype: int64"
      ]
     },
     "execution_count": 18,
     "metadata": {},
     "output_type": "execute_result"
    }
   ],
   "source": [
    "df['pay_option_on_delivery'].value_counts()"
   ]
  },
  {
   "cell_type": "code",
   "execution_count": 19,
   "metadata": {},
   "outputs": [
    {
     "data": {
      "text/plain": [
       "1    341264\n",
       "0     78756\n",
       "Name: pay_option_transfer, dtype: int64"
      ]
     },
     "execution_count": 19,
     "metadata": {},
     "output_type": "execute_result"
    }
   ],
   "source": [
    "df['pay_option_transfer'].value_counts()"
   ]
  },
  {
   "cell_type": "code",
   "execution_count": 20,
   "metadata": {},
   "outputs": [
    {
     "data": {
      "text/plain": [
       "1    245063\n",
       "0    174957\n",
       "Name: it_is_allegro_standard, dtype: int64"
      ]
     },
     "execution_count": 20,
     "metadata": {},
     "output_type": "execute_result"
    }
   ],
   "source": [
    "df['it_is_allegro_standard'].value_counts()"
   ]
  },
  {
   "cell_type": "code",
   "execution_count": 21,
   "metadata": {},
   "outputs": [
    {
     "data": {
      "text/plain": [
       "0    413008\n",
       "1      7012\n",
       "Name: it_is_brand_zone, dtype: int64"
      ]
     },
     "execution_count": 21,
     "metadata": {},
     "output_type": "execute_result"
    }
   ],
   "source": [
    "df['it_is_brand_zone'].value_counts()"
   ]
  },
  {
   "cell_type": "code",
   "execution_count": 22,
   "metadata": {},
   "outputs": [
    {
     "data": {
      "text/plain": [
       "0        63480\n",
       "1        11349\n",
       "2         8579\n",
       "3         7234\n",
       "4         6865\n",
       "         ...  \n",
       "19969        1\n",
       "7997         1\n",
       "3314         1\n",
       "8106         1\n",
       "65505        1\n",
       "Name: it_quantity, Length: 7305, dtype: int64"
      ]
     },
     "execution_count": 22,
     "metadata": {},
     "output_type": "execute_result"
    }
   ],
   "source": [
    "df['it_quantity'].value_counts()"
   ]
  },
  {
   "cell_type": "code",
   "execution_count": 23,
   "metadata": {},
   "outputs": [
    {
     "data": {
      "text/plain": [
       "1.00      7904\n",
       "9.99      4441\n",
       "19.99     4201\n",
       "99.00     3583\n",
       "15.00     3393\n",
       "          ... \n",
       "58.66        1\n",
       "443.00       1\n",
       "169.87       1\n",
       "209.49       1\n",
       "116.62       1\n",
       "Name: price, Length: 9722, dtype: int64"
      ]
     },
     "execution_count": 23,
     "metadata": {},
     "output_type": "execute_result"
    }
   ],
   "source": [
    "df['price'].value_counts()"
   ]
  },
  {
   "cell_type": "markdown",
   "metadata": {},
   "source": [
    "Widać więc, że zmienne *pay_option_on_delivery*, *pay_option_transfer*, *it_is_allegro_standard*, *it_is_brand_zone* są kategoryczne z dwiema wartościami: 0 i 1. Natomiast zmienne *it_quantity* oraz *price* okazały się być ciągłe."
   ]
  },
  {
   "cell_type": "code",
   "execution_count": 25,
   "metadata": {},
   "outputs": [],
   "source": [
    "# NIE WIEM  W SUMIE CO Z TYMI CO MAJA TYP OBJECT"
   ]
  },
  {
   "cell_type": "markdown",
   "metadata": {},
   "source": [
    "### Podział na zbiór treningowy, testowy i walidacyjny"
   ]
  },
  {
   "cell_type": "code",
   "execution_count": 123,
   "metadata": {},
   "outputs": [],
   "source": [
    "#do zignorowania na razie ten chunk\n",
    "\n",
    "# df1['price'] = pd.cut(df1['price'], bins=[0, 150, 1000, np.inf], labels=[1, 2, 3])\n",
    "\n",
    "# ydf = np.array(df1['price'])\n",
    "# Xdf = df1.drop(['price'],axis=1)\n",
    "\n",
    "#Wyróżnienie zbioru, na którym będziemy pracować i zbiory do walidacji\n",
    "# X, X_val, y, y_val = train_test_split(\n",
    "#     Xdf, ydf, stratify=ydf, test_size=0.3, random_state=100\n",
    "# )\n",
    "\n",
    "# #Wyróżnienie zbioru treningowego i testowego\n",
    "# X_train, X_test, y_train, y_test = train_test_split(\n",
    "#     X, y, stratify=y, test_size=0.3, random_state=100\n",
    "# )"
   ]
  },
  {
   "cell_type": "code",
   "execution_count": 74,
   "metadata": {},
   "outputs": [],
   "source": [
    "#Wyróżnienie zbioru, na którym będziemy pracować i zbioru do walidacji\n",
    "X, X_valid = sklearn.model_selection.train_test_split(\n",
    "    df,\n",
    "    test_size=0.30, random_state=100)\n",
    "\n",
    "#Wyróżnienie zbioru treningowego i testowego\n",
    "X_train, X_test = sklearn.model_selection.train_test_split(\n",
    "    X,\n",
    "    test_size=0.30, random_state=100)"
   ]
  },
  {
   "cell_type": "markdown",
   "metadata": {},
   "source": [
    "### Zamiana zmiennych ciągłych na kategoryczne"
   ]
  },
  {
   "cell_type": "markdown",
   "metadata": {},
   "source": [
    "Nie ma sensu zmienać zmiennej *item_id* ponieważ to numer identyfikujący konketną rzecz. Do zmiany pozostają zatem tylko zmienne *it_quantity*,  *it_seller_rating* oraz *price*."
   ]
  },
  {
   "cell_type": "markdown",
   "metadata": {},
   "source": [
    "##### it_guantity"
   ]
  },
  {
   "cell_type": "code",
   "execution_count": 75,
   "metadata": {},
   "outputs": [
    {
     "data": {
      "text/plain": [
       "Text(0.5, 1.0, 'Zmienna it_quantity')"
      ]
     },
     "execution_count": 75,
     "metadata": {},
     "output_type": "execute_result"
    },
    {
     "data": {
      "image/png": "[encoded data removed]",
      "text/plain": [
       "<Figure size 1440x432 with 1 Axes>"
      ]
     },
     "metadata": {
      "needs_background": "light"
     },
     "output_type": "display_data"
    }
   ],
   "source": [
    "plt.figure(figsize=(20, 6))\n",
    "box_plot = sns.boxplot(X_train['it_quantity'])\n",
    "box_plot.set_title('Zmienna it_quantity')"
   ]
  },
  {
   "cell_type": "code",
   "execution_count": 58,
   "metadata": {},
   "outputs": [
    {
     "data": {
      "text/plain": [
       "99999"
      ]
     },
     "execution_count": 58,
     "metadata": {},
     "output_type": "execute_result"
    }
   ],
   "source": [
    "X_train['it_quantity'].max()"
   ]
  },
  {
   "cell_type": "code",
   "execution_count": 92,
   "metadata": {},
   "outputs": [],
   "source": [
    "# NIE WIEM JAK TU PODZIELIC\n",
    "\n",
    "# Może tak? Zostawiam obie wersje"
   ]
  },
  {
   "cell_type": "markdown",
   "metadata": {},
   "source": [
    "Jako, że zmienna `it_quantity` mówi nam o tym, ile egzemplarzy danego produktu ktoś kupił, możemy podzielić go na następujące kategorie:\n",
    "\n",
    "* 1: 1 egzemplarz\n",
    "* 2: od 2 do 10 egzeplarzy\n",
    "* 3: od 11 do 1000 egzemplarzy\n",
    "* 4: od 1001 do 10000 egzemplarzy\n",
    "* 5 od 10000 egzemplarzy\n",
    "\n",
    "Gdzie pierwsze dwie opcje odpowiadają bardziej zakupom detalicznym, a dwie ostatnie hurtowym. W wyniku otrzymamy dosyć równomierny podział."
   ]
  },
  {
   "cell_type": "code",
   "execution_count": 76,
   "metadata": {},
   "outputs": [],
   "source": [
    "X_train['it_quantity'] = pd.cut(X_train['it_quantity'], bins=[-1, 1, 10, 100, 1000, 100000], labels=[1, 2, 3, 4, 5])"
   ]
  },
  {
   "cell_type": "code",
   "execution_count": 7,
   "metadata": {},
   "outputs": [
    {
     "data": {
      "text/plain": [
       "4    71868\n",
       "3    46182\n",
       "1    36748\n",
       "5    26979\n",
       "2    24032\n",
       "Name: it_quantity, dtype: int64"
      ]
     },
     "execution_count": 7,
     "metadata": {},
     "output_type": "execute_result"
    }
   ],
   "source": [
    "X_train['it_quantity'].value_counts()"
   ]
  },
  {
   "cell_type": "markdown",
   "metadata": {},
   "source": [
    "Podzielimy tę zmienną na 5 grup: \n",
    "* A: 0-19 999\n",
    "* B: 20 000 - 39 999\n",
    "* C: 40 000 - 59 999\n",
    "* D: 60 000 - 79 999\n",
    "* E: 80 000 - 100 000"
   ]
  },
  {
   "cell_type": "code",
   "execution_count": 61,
   "metadata": {},
   "outputs": [],
   "source": [
    "X_train['it_quantity'] = pd.cut(X_train['it_quantity'], bins=[-1, 20000, 40000, 60000, 80000, 100000], labels=['A', 'B', 'C', 'D', 'E'])"
   ]
  },
  {
   "cell_type": "markdown",
   "metadata": {},
   "source": [
    "##### it_seller_rating"
   ]
  },
  {
   "cell_type": "code",
   "execution_count": 129,
   "metadata": {},
   "outputs": [
    {
     "data": {
      "text/plain": [
       "Text(0.5, 1.0, 'Zmienna it_seller_rating')"
      ]
     },
     "execution_count": 129,
     "metadata": {},
     "output_type": "execute_result"
    },
    {
     "data": {
      "image/png": "[encoded data removed]",
      "text/plain": [
       "<Figure size 1440x432 with 1 Axes>"
      ]
     },
     "metadata": {
      "needs_background": "light"
     },
     "output_type": "display_data"
    }
   ],
   "source": [
    "plt.figure(figsize=(20, 6))\n",
    "box_plot = sns.boxplot(X_train['it_seller_rating'])\n",
    "box_plot.set_title('Zmienna it_seller_rating')"
   ]
  },
  {
   "cell_type": "code",
   "execution_count": 130,
   "metadata": {},
   "outputs": [
    {
     "data": {
      "text/plain": [
       "count    205793.000000\n",
       "mean      20398.155666\n",
       "std       36740.823635\n",
       "min          -1.000000\n",
       "25%        1584.000000\n",
       "50%        6683.000000\n",
       "75%       20923.000000\n",
       "max      292074.000000\n",
       "Name: it_seller_rating, dtype: float64"
      ]
     },
     "execution_count": 130,
     "metadata": {},
     "output_type": "execute_result"
    }
   ],
   "source": [
    "X_train[\"it_seller_rating\"].describe()"
   ]
  },
  {
   "cell_type": "code",
   "execution_count": 131,
   "metadata": {},
   "outputs": [
    {
     "data": {
      "text/html": [
       "<div>\n",
       "<style scoped>\n",
       "    .dataframe tbody tr th:only-of-type {\n",
       "        vertical-align: middle;\n",
       "    }\n",
       "\n",
       "    .dataframe tbody tr th {\n",
       "        vertical-align: top;\n",
       "    }\n",
       "\n",
       "    .dataframe thead th {\n",
       "        text-align: right;\n",
       "    }\n",
       "</style>\n",
       "<table border=\"1\" class=\"dataframe\">\n",
       "  <thead>\n",
       "    <tr style=\"text-align: right;\">\n",
       "      <th></th>\n",
       "      <th>seller</th>\n",
       "      <th>it_seller_rating</th>\n",
       "    </tr>\n",
       "  </thead>\n",
       "  <tbody>\n",
       "    <tr>\n",
       "      <th>48179</th>\n",
       "      <td>ezebra_pl</td>\n",
       "      <td>95744</td>\n",
       "    </tr>\n",
       "    <tr>\n",
       "      <th>296364</th>\n",
       "      <td>ezebra_pl</td>\n",
       "      <td>95771</td>\n",
       "    </tr>\n",
       "    <tr>\n",
       "      <th>254348</th>\n",
       "      <td>ezebra_pl</td>\n",
       "      <td>95742</td>\n",
       "    </tr>\n",
       "    <tr>\n",
       "      <th>273602</th>\n",
       "      <td>ezebra_pl</td>\n",
       "      <td>95762</td>\n",
       "    </tr>\n",
       "    <tr>\n",
       "      <th>131295</th>\n",
       "      <td>ezebra_pl</td>\n",
       "      <td>95759</td>\n",
       "    </tr>\n",
       "    <tr>\n",
       "      <th>...</th>\n",
       "      <td>...</td>\n",
       "      <td>...</td>\n",
       "    </tr>\n",
       "    <tr>\n",
       "      <th>74325</th>\n",
       "      <td>ezebra_pl</td>\n",
       "      <td>95754</td>\n",
       "    </tr>\n",
       "    <tr>\n",
       "      <th>20899</th>\n",
       "      <td>ezebra_pl</td>\n",
       "      <td>95761</td>\n",
       "    </tr>\n",
       "    <tr>\n",
       "      <th>302310</th>\n",
       "      <td>ezebra_pl</td>\n",
       "      <td>95766</td>\n",
       "    </tr>\n",
       "    <tr>\n",
       "      <th>27705</th>\n",
       "      <td>ezebra_pl</td>\n",
       "      <td>95629</td>\n",
       "    </tr>\n",
       "    <tr>\n",
       "      <th>198288</th>\n",
       "      <td>ezebra_pl</td>\n",
       "      <td>95782</td>\n",
       "    </tr>\n",
       "  </tbody>\n",
       "</table>\n",
       "<p>566 rows × 2 columns</p>\n",
       "</div>"
      ],
      "text/plain": [
       "           seller  it_seller_rating\n",
       "48179   ezebra_pl             95744\n",
       "296364  ezebra_pl             95771\n",
       "254348  ezebra_pl             95742\n",
       "273602  ezebra_pl             95762\n",
       "131295  ezebra_pl             95759\n",
       "...           ...               ...\n",
       "74325   ezebra_pl             95754\n",
       "20899   ezebra_pl             95761\n",
       "302310  ezebra_pl             95766\n",
       "27705   ezebra_pl             95629\n",
       "198288  ezebra_pl             95782\n",
       "\n",
       "[566 rows x 2 columns]"
      ]
     },
     "execution_count": 131,
     "metadata": {},
     "output_type": "execute_result"
    }
   ],
   "source": [
    "X_train[X_train.seller == \"ezebra_pl\"][['seller', 'it_seller_rating']]"
   ]
  },
  {
   "cell_type": "markdown",
   "metadata": {},
   "source": [
    "Jako, że zmienna `it_seller_rating` mówi nam o ocenie sprzedającego. Jak widać na powyższej tabeli, dla jednego konretnego sprzedającego, rating nie zmienia się w ciągu dnia. Klienci oceniają sprzedawcę między transakcjami, ale ocena nie zmienia się drastycznie. Można na początek zamienić ocenę dla każdego unikalnego sklepu średnią ratingów z dnia, aby później kategoryzacja była jednoznaczna."
   ]
  },
  {
   "cell_type": "code",
   "execution_count": 218,
   "metadata": {},
   "outputs": [],
   "source": [
    "#A może jednak nie zmieniać bo to trwa wieczność z taką ilością wartości :((\n",
    "# sellers = X_train1.seller.unique()[1:1000]\n",
    "# for sel in sellers:\n",
    "#     X_train1[X_train1.seller == sel]['it_seller_rating'] = X_train1[X_train1.seller == sel]['it_seller_rating'].mean()"
   ]
  },
  {
   "cell_type": "markdown",
   "metadata": {},
   "source": [
    "Możemy teraz dokonać kategoryzacji zmienniej `it_seller_rating` na następujące grupy:\n",
    "\n",
    "* 0 - 1000 - 1\n",
    "* 10001 - 3000 - 2\n",
    "* 3000 - 10000 - 3\n",
    "* 10000 - 50000 - 4\n",
    "* 50000 - 300000 - 5"
   ]
  },
  {
   "cell_type": "code",
   "execution_count": 44,
   "metadata": {},
   "outputs": [
    {
     "data": {
      "text/plain": [
       "258120    NaN\n",
       "258119    NaN\n",
       "69151     NaN\n",
       "79733     NaN\n",
       "Name: it_seller_rating, dtype: category\n",
       "Categories (5, int64): [1 < 2 < 3 < 4 < 5]"
      ]
     },
     "execution_count": 44,
     "metadata": {},
     "output_type": "execute_result"
    }
   ],
   "source": [
    "tmp = pd.cut(X_train['it_seller_rating'], bins=[-1, 1001, 3001, 10001, 50001, 300000], labels=[1,2,3,4,5])\n",
    "tmp[tmp.isna()]"
   ]
  },
  {
   "cell_type": "markdown",
   "metadata": {},
   "source": [
    "Przy kategoryzowaniu pojawiły się wartości `NaN`. Przyjrzyjmy się jakie wartości znajdowały się na tych pozycjach w oryginalnej ramce"
   ]
  },
  {
   "cell_type": "code",
   "execution_count": 49,
   "metadata": {},
   "outputs": [
    {
     "data": {
      "text/plain": [
       "lp                                                                   258120\n",
       "date                                                    2016-04-03 16:24:32\n",
       "item_id                                                          6095156330\n",
       "categories                ['Odzież, Obuwie, Dodatki', 'Obuwie', 'Damskie...\n",
       "pay_option_on_delivery                                                    1\n",
       "pay_option_transfer                                                       0\n",
       "seller                                                     Galaktykastylu16\n",
       "price                                                                 86.99\n",
       "it_is_allegro_standard                                                    0\n",
       "it_quantity                                                               1\n",
       "it_is_brand_zone                                                          0\n",
       "it_seller_rating                                                         -1\n",
       "it_location                                              Wola Radziszowska \n",
       "main_category                                       Odzież, Obuwie, Dodatki\n",
       "Name: 258120, dtype: object"
      ]
     },
     "execution_count": 49,
     "metadata": {},
     "output_type": "execute_result"
    }
   ],
   "source": [
    "X_train.loc[79733, 'it_seller_rating']\n",
    "X_train.loc[258120]"
   ]
  },
  {
   "cell_type": "markdown",
   "metadata": {},
   "source": [
    "Okazuje się, że w ramce występują rekordy, dla których ocena wynosi -1. Być może jest to związane z brakiem jakiejkolwiek oceny. Jako, że znajdują się tylko 4 takie rekordy w zbiorze testowym, możemy uznać, że sprzedawcy o takiej ocenie zaliczymy do najniższej grupy w kategoryzowaniu."
   ]
  },
  {
   "cell_type": "code",
   "execution_count": 77,
   "metadata": {},
   "outputs": [],
   "source": [
    "X_train['it_seller_rating'] = pd.cut(X_train['it_seller_rating'], bins=[-2, 1001, 3001, 10001, 50001, 300000], labels=[1,2,3,4,5])"
   ]
  },
  {
   "cell_type": "code",
   "execution_count": 51,
   "metadata": {},
   "outputs": [
    {
     "data": {
      "text/plain": [
       "4    61097\n",
       "3    49970\n",
       "1    40195\n",
       "2    30868\n",
       "5    23679\n",
       "Name: it_seller_rating, dtype: int64"
      ]
     },
     "execution_count": 51,
     "metadata": {},
     "output_type": "execute_result"
    }
   ],
   "source": [
    "X_train['it_seller_rating'].value_counts()"
   ]
  },
  {
   "cell_type": "markdown",
   "metadata": {},
   "source": [
    "## W sumie to ja tak podzieliłem nierównomiernie podziałami, ale można najpierw przetransfromować te zmienne jakimś logarytmem a potem dzielić, efekt będzie raczej ten sam."
   ]
  },
  {
   "cell_type": "markdown",
   "metadata": {},
   "source": [
    "##### price"
   ]
  },
  {
   "cell_type": "code",
   "execution_count": 61,
   "metadata": {},
   "outputs": [
    {
     "data": {
      "text/plain": [
       "Text(0.5, 1.0, 'Zmienna price')"
      ]
     },
     "execution_count": 61,
     "metadata": {},
     "output_type": "execute_result"
    },
    {
     "data": {
      "image/png": "[encoded data removed]",
      "text/plain": [
       "<Figure size 1440x432 with 1 Axes>"
      ]
     },
     "metadata": {
      "needs_background": "light"
     },
     "output_type": "display_data"
    }
   ],
   "source": [
    "plt.figure(figsize=(20, 6))\n",
    "box_plot = sns.boxplot(X_train['price'])\n",
    "box_plot.set_title('Zmienna price')"
   ]
  },
  {
   "cell_type": "markdown",
   "metadata": {},
   "source": [
    "Jeśli mamy podzielić zmienną *price* na 3 kategorie: cena wysoka, cena średnia oraz cena niska, to widać, że dane większe niż 10000 będą z pewnością zaliczać się do ostaniej grupy, ponieważ są to wartości odstające. "
   ]
  },
  {
   "cell_type": "code",
   "execution_count": 78,
   "metadata": {},
   "outputs": [
    {
     "data": {
      "text/plain": [
       "count    205809.000000\n",
       "mean         76.939211\n",
       "std         432.166615\n",
       "min           0.000000\n",
       "25%           9.000000\n",
       "50%          24.990000\n",
       "75%          68.000000\n",
       "max      119000.000000\n",
       "Name: price, dtype: float64"
      ]
     },
     "execution_count": 78,
     "metadata": {},
     "output_type": "execute_result"
    }
   ],
   "source": [
    "X_train['price'].describe()"
   ]
  },
  {
   "cell_type": "code",
   "execution_count": 79,
   "metadata": {},
   "outputs": [
    {
     "data": {
      "image/png": "[encoded data removed]",
      "text/plain": [
       "<Figure size 1440x432 with 1 Axes>"
      ]
     },
     "metadata": {
      "needs_background": "light"
     },
     "output_type": "display_data"
    }
   ],
   "source": [
    "plt.figure(figsize=(20, 6))\n",
    "tmp = X_train.loc[X_train['price'] < 400]\n",
    "box_plot = sns.boxplot(tmp['price'])"
   ]
  },
  {
   "cell_type": "code",
   "execution_count": 80,
   "metadata": {},
   "outputs": [
    {
     "data": {
      "text/plain": [
       "168.72000000000116"
      ]
     },
     "execution_count": 80,
     "metadata": {},
     "output_type": "execute_result"
    }
   ],
   "source": [
    "np.percentile(X_train['price'], 90)"
   ]
  },
  {
   "cell_type": "code",
   "execution_count": 81,
   "metadata": {},
   "outputs": [],
   "source": [
    "#NIE WIEM TU W SUMIE JAK DOKŁADNIE PODZIELIĆ"
   ]
  },
  {
   "cell_type": "code",
   "execution_count": 10,
   "metadata": {},
   "outputs": [],
   "source": [
    "tmp = pd.cut(X_train['price'], bins=[0, 150, 1000, np.inf], labels=['niska cena', 'średnia cena', 'wysoka cena'])"
   ]
  },
  {
   "cell_type": "code",
   "execution_count": 11,
   "metadata": {},
   "outputs": [
    {
     "data": {
      "text/plain": [
       "206090    NaN\n",
       "247789    NaN\n",
       "127751    NaN\n",
       "58547     NaN\n",
       "8433      NaN\n",
       "336570    NaN\n",
       "224534    NaN\n",
       "328635    NaN\n",
       "182919    NaN\n",
       "45669     NaN\n",
       "201684    NaN\n",
       "346869    NaN\n",
       "12741     NaN\n",
       "320207    NaN\n",
       "417758    NaN\n",
       "379219    NaN\n",
       "Name: price, dtype: category\n",
       "Categories (3, object): [niska cena < średnia cena < wysoka cena]"
      ]
     },
     "execution_count": 11,
     "metadata": {},
     "output_type": "execute_result"
    }
   ],
   "source": [
    "# sprawdzamy czy przy takim podziale wstąpią jakieś braki dnaych\n",
    "tmp[tmp.isna()]"
   ]
  },
  {
   "cell_type": "code",
   "execution_count": 12,
   "metadata": {},
   "outputs": [
    {
     "data": {
      "text/plain": [
       "0.0"
      ]
     },
     "execution_count": 12,
     "metadata": {},
     "output_type": "execute_result"
    }
   ],
   "source": [
    "#sprawdzamy dlaczego wystapiły\n",
    "X_train.loc[379219, 'price']"
   ]
  },
  {
   "cell_type": "markdown",
   "metadata": {},
   "source": [
    "Nie wiadomo jak interpretować cenę wynoszącą 0, zatem ze względu na to, że wartości tych jest stosunkowo niewiele lepiej je usunąć."
   ]
  },
  {
   "cell_type": "code",
   "execution_count": 78,
   "metadata": {},
   "outputs": [],
   "source": [
    "X_train = X_train[X_train.price != 0]"
   ]
  },
  {
   "cell_type": "code",
   "execution_count": 169,
   "metadata": {},
   "outputs": [],
   "source": [
    "#zmiana pice na zmienną kategoryczną:\n",
    "X_train['price'] = pd.cut(X_train['price'], bins=[0, 150, 1000, np.inf], labels=['niska cena', 'średnia cena', 'wysoka cena'])"
   ]
  },
  {
   "cell_type": "code",
   "execution_count": 79,
   "metadata": {},
   "outputs": [],
   "source": [
    "#Wersja z podziałem numerycznym\n",
    "X_train['price'] = pd.cut(X_train['price'], bins=[0, 150, 1000, np.inf], labels=[1, 2, 3])"
   ]
  },
  {
   "cell_type": "markdown",
   "metadata": {},
   "source": [
    "#### Kodowanie zmiennych kategorycznych"
   ]
  },
  {
   "cell_type": "markdown",
   "metadata": {},
   "source": [
    "Jak wynika już z wcześniejszej analizy, zmienne `pay_option_on_delievery`, `pay_option_delievry`, `it_is_allegro_standar`, `it_is_brand_zone` są kategoryczne. Można uznać nawet, że są już zmiennymi w kodowaniu \"one-hot\". Przyjrzyjmy się innym zmiennym."
   ]
  },
  {
   "cell_type": "markdown",
   "metadata": {},
   "source": [
    "Na pierwszy rzut oka wydaje się, że zmienne `categories` i `main_category` niosą podobną informację. "
   ]
  },
  {
   "cell_type": "code",
   "execution_count": 134,
   "metadata": {
    "scrolled": false
   },
   "outputs": [
    {
     "data": {
      "text/plain": [
       "Dom i Ogród                            44752\n",
       "Odzież, Obuwie, Dodatki                26708\n",
       "Motoryzacja                            22425\n",
       "Dla Dzieci                             20586\n",
       "Uroda                                  13730\n",
       "Sport i Turystyka                      13368\n",
       "RTV i AGD                               9977\n",
       "Telefony i Akcesoria                    9787\n",
       "Komputery                               7137\n",
       "Zdrowie                                 6476\n",
       "Książki i Komiksy                       5694\n",
       "Delikatesy                              3918\n",
       "Gry                                     3506\n",
       "Rękodzieło                              3154\n",
       "Kolekcje                                3042\n",
       "Przemysł                                2874\n",
       "Biżuteria i Zegarki                     2845\n",
       "Biuro i Reklama                         1547\n",
       "Fotografia                              1165\n",
       "Muzyka                                   941\n",
       "Antyki i Sztuka                          615\n",
       "Filmy                                    501\n",
       "Konsole i automaty                       487\n",
       "Instrumenty                              312\n",
       "Sprzęt estradowy, studyjny i DJ-ski      189\n",
       "Bilety                                    55\n",
       "Nieruchomości                              2\n",
       "Name: main_category, dtype: int64"
      ]
     },
     "execution_count": 134,
     "metadata": {},
     "output_type": "execute_result"
    }
   ],
   "source": [
    "X_train['main_category'].value_counts()"
   ]
  },
  {
   "cell_type": "code",
   "execution_count": 111,
   "metadata": {},
   "outputs": [
    {
     "data": {
      "text/plain": [
       "['Motoryzacja', 'Opony', 'Opony samochodowe', 'Letnie']                                                                                              1224\n",
       "['Motoryzacja', 'Części samochodowe', 'Oświetlenie', 'Żarówki']                                                                                       561\n",
       "['Motoryzacja', 'Akcesoria samochodowe', 'Dywaniki', 'Dywaniki gumowe']                                                                               249\n",
       "['Motoryzacja', 'Akcesoria samochodowe', 'Dywaniki', 'Dywaniki welurowe']                                                                             248\n",
       "['Motoryzacja', 'Chemia', 'Oleje silnikowe', 'Syntetyczne']                                                                                           202\n",
       "                                                                                                                                                     ... \n",
       "['Motoryzacja', 'Samochody', 'Osobowe', 'Opel', 'Zafira', 'B (2005-2011)']                                                                              1\n",
       "['Motoryzacja', 'Części samochodowe', 'Chłodzenie silnika', 'Chłodnice', 'Korki chłodnic']                                                              1\n",
       "['Motoryzacja', 'Akcesoria samochodowe', 'Zabezpieczenia antykradzieżowe', 'Blokady kierownicy']                                                        1\n",
       "['Motoryzacja', 'Narzędzia i sprzęt warsztatowy', 'Odzież i obuwie robocze', 'Obuwie']                                                                  1\n",
       "['Motoryzacja', 'Narzędzia i sprzęt warsztatowy', 'Narzędzia specjalistyczne', 'Obsługa układu napędowego', 'Narzędzia do rozrządu', 'Pozostałe']       1\n",
       "Name: categories, Length: 1059, dtype: int64"
      ]
     },
     "execution_count": 111,
     "metadata": {},
     "output_type": "execute_result"
    }
   ],
   "source": [
    "X_train.loc[X_train.main_category == \"Motoryzacja\"]['categories'].value_counts()"
   ]
  },
  {
   "cell_type": "markdown",
   "metadata": {},
   "source": [
    "Okazuje się, że zmienna `categories` jest rozszerzeniem zmiennej `main_catogery`. Wydaje się, więc że ze względu na duże rozdrobnienie lepiej będzie usunąć zmienną `categories` i pozostawić bardziej ogólną zmienną. "
   ]
  },
  {
   "cell_type": "code",
   "execution_count": 80,
   "metadata": {},
   "outputs": [],
   "source": [
    "X_train.drop('categories', axis = 1, inplace = True)"
   ]
  },
  {
   "cell_type": "markdown",
   "metadata": {},
   "source": [
    "Dodatkowo, można popracować nad redukcją różnych kategorii w zmiennej `main_category`. Wydaje się, że niektóre kategorie dotyczą podobnych produktów, dzięki czemu możliwe jest ich scalenie. \n",
    "* Na początek do grupy 'RTV i AGD' dodamy też grupy 'telefony i akcesoria', 'Komputery', 'Konsole i automaty' i 'Sprzęt estradowy, studyjny i DJ-ski'.\n",
    "* Kategorie 'Książki i komiksy', 'Gry', 'Rękodzieło', 'Kolekcje', 'Fotografia', 'Muzyka', 'Antyki i Sztuka', 'Filmy', 'Instrumenty' połączymy w jedną kategorię 'Rozrywka i sztuka'.\n",
    "* Kategorię 'Biżuteria i `zegarki' dołączymy do kategorii 'Odzież, obuwie, dodatki'.\n",
    "* Kategorię 'Uroda' i 'Zdrowie' połączymy w kategorię 'Uroda i zdrowie'\n",
    "* Kategorie 'Delikatesy', 'Przemysł', 'Biuro i Reklama', 'Bilety' i 'Nieruchomości' połączymy w grupę \"Przemysł i usługi\""
   ]
  },
  {
   "cell_type": "code",
   "execution_count": 81,
   "metadata": {},
   "outputs": [],
   "source": [
    "rtv = ['Komputery', 'Telefony i Akcesoria', 'Konsole i automaty', 'Sprzęt estradowy, studyjny i DJ-ski']\n",
    "art = ['Książki i Komiksy', 'Gry', 'Rękodzieło', 'Kolekcje', 'Fotografia', 'Muzyka', 'Antyki i Sztuka', 'Filmy', 'Instrumenty']\n",
    "ind = ['Delikatesy', 'Przemysł', 'Biuro i Reklama', 'Bilety', 'Nieruchomości']\n",
    "\n",
    "X_train['main_category'] = X_train['main_category'].replace(rtv, 'RTV i AGD')\n",
    "X_train['main_category'] = X_train['main_category'].replace(art,'Sztuka i Rozrywka')\n",
    "X_train['main_category'] = X_train['main_category'].replace('Biżuteria i Zegarki','Odzież, Obuwie, Dodatki')\n",
    "X_train['main_category'] = X_train['main_category'].replace(['Uroda', \"Zdrowie\"],'Uroda i Zdrowie')\n",
    "X_train['main_category'] = X_train['main_category'].replace(ind,'Przemysł i usługi')"
   ]
  },
  {
   "cell_type": "code",
   "execution_count": 17,
   "metadata": {
    "scrolled": true
   },
   "outputs": [
    {
     "data": {
      "text/plain": [
       "Dom i Ogród                44689\n",
       "Odzież, Obuwie, Dodatki    29577\n",
       "RTV i AGD                  27479\n",
       "Motoryzacja                22370\n",
       "Dla Dzieci                 20506\n",
       "Uroda i Zdrowie            20264\n",
       "Sztuka i Rozrywka          18967\n",
       "Sport i Turystyka          13496\n",
       "Przemysł i usługi           8445\n",
       "Name: main_category, dtype: int64"
      ]
     },
     "execution_count": 17,
     "metadata": {},
     "output_type": "execute_result"
    }
   ],
   "source": [
    "X_train['main_category'].value_counts()"
   ]
  },
  {
   "cell_type": "markdown",
   "metadata": {},
   "source": [
    "Dane w naszej ramce pochodzą z jednego konretnego dnia, 3 kwietnia 2016 roku. Dlatego wydaje się, że można ze zmiennej `date` wyciągnąć informacje o godzinie i umieścić w zmiennej 'time' informującej o godzinie dokonania zakupu. Następnie można pogrupować uczynić zmienną 'type' kategoryczną dzieląc na 4 grupy:\n",
    "\n",
    "* 0:00 - 6:00 - 1 jako 'noc'\n",
    "* 6:00 - 12:00 - 2  jako 'ranek'\n",
    "* 12:00 - 18:00 - 3 jako 'popołudnie'\n",
    "* 18:00 - 24:00 - 4 jako 'wieczór'\n",
    "\n",
    "Dodatkowo można pozbyć się kolumny 'date'."
   ]
  },
  {
   "cell_type": "code",
   "execution_count": 82,
   "metadata": {},
   "outputs": [],
   "source": [
    "X_train['date'] = pd.to_datetime(X_train['date'])\n",
    "X_train['time'] = X_train['date'].apply(lambda x:x.time())\n",
    "X_train['time'] = X_train['time'].apply(lambda x:x.hour)\n",
    "X_train['time'] = pd.cut(X_train['time'], bins=[-1, 5, 11, 17, 24], labels=[1, 2, 3, 4])\n",
    "X_train.drop('date', axis = 1, inplace = True)"
   ]
  },
  {
   "cell_type": "markdown",
   "metadata": {},
   "source": [
    "Pozostały jeszcze kolumny `seller` i `it_location`."
   ]
  },
  {
   "cell_type": "code",
   "execution_count": 183,
   "metadata": {},
   "outputs": [
    {
     "data": {
      "text/plain": [
       "Allegro             798\n",
       "darmarsklep         714\n",
       "ezebra_pl           561\n",
       "sklepogrodnik       536\n",
       "leobert             501\n",
       "                   ... \n",
       "1moni                 1\n",
       "anka_res              1\n",
       "rybka1100             1\n",
       "pe4pp                 1\n",
       "HouseofPostcards      1\n",
       "Name: seller, Length: 37467, dtype: int64"
      ]
     },
     "execution_count": 183,
     "metadata": {},
     "output_type": "execute_result"
    }
   ],
   "source": [
    "X_train['seller'].value_counts()"
   ]
  },
  {
   "cell_type": "code",
   "execution_count": 174,
   "metadata": {},
   "outputs": [
    {
     "data": {
      "text/plain": [
       "Warszawa                    11227\n",
       "Kraków                       7514\n",
       "Łódź                         5358\n",
       "Poznań                       5174\n",
       "Wrocław                      4245\n",
       "                            ...  \n",
       "WARSZAWA - WAWER                1\n",
       "Majków                          1\n",
       "Czerwionka - Leszczyny          1\n",
       "Stróżewo Chodzież Poznań        1\n",
       "Krokowa                         1\n",
       "Name: it_location, Length: 7970, dtype: int64"
      ]
     },
     "execution_count": 174,
     "metadata": {},
     "output_type": "execute_result"
    }
   ],
   "source": [
    "X_train['it_location'].value_counts()"
   ]
  },
  {
   "cell_type": "code",
   "execution_count": 184,
   "metadata": {},
   "outputs": [],
   "source": [
    "tmp = X_train.groupby(['it_location']).size().reset_index(name='counts').sort_values(by = 'counts', ascending=False)"
   ]
  },
  {
   "cell_type": "code",
   "execution_count": 185,
   "metadata": {},
   "outputs": [
    {
     "data": {
      "text/html": [
       "<div>\n",
       "<style scoped>\n",
       "    .dataframe tbody tr th:only-of-type {\n",
       "        vertical-align: middle;\n",
       "    }\n",
       "\n",
       "    .dataframe tbody tr th {\n",
       "        vertical-align: top;\n",
       "    }\n",
       "\n",
       "    .dataframe thead th {\n",
       "        text-align: right;\n",
       "    }\n",
       "</style>\n",
       "<table border=\"1\" class=\"dataframe\">\n",
       "  <thead>\n",
       "    <tr style=\"text-align: right;\">\n",
       "      <th></th>\n",
       "      <th>it_location</th>\n",
       "      <th>counts</th>\n",
       "    </tr>\n",
       "  </thead>\n",
       "  <tbody>\n",
       "    <tr>\n",
       "      <th>5900</th>\n",
       "      <td>Warszawa</td>\n",
       "      <td>11227</td>\n",
       "    </tr>\n",
       "    <tr>\n",
       "      <th>2528</th>\n",
       "      <td>Kraków</td>\n",
       "      <td>7514</td>\n",
       "    </tr>\n",
       "    <tr>\n",
       "      <th>7674</th>\n",
       "      <td>Łódź</td>\n",
       "      <td>5358</td>\n",
       "    </tr>\n",
       "    <tr>\n",
       "      <th>4206</th>\n",
       "      <td>Poznań</td>\n",
       "      <td>5174</td>\n",
       "    </tr>\n",
       "    <tr>\n",
       "      <th>6241</th>\n",
       "      <td>Wrocław</td>\n",
       "      <td>4245</td>\n",
       "    </tr>\n",
       "    <tr>\n",
       "      <th>367</th>\n",
       "      <td>Białystok</td>\n",
       "      <td>3584</td>\n",
       "    </tr>\n",
       "    <tr>\n",
       "      <th>2917</th>\n",
       "      <td>Lublin</td>\n",
       "      <td>3225</td>\n",
       "    </tr>\n",
       "    <tr>\n",
       "      <th>4714</th>\n",
       "      <td>Rzeszów</td>\n",
       "      <td>2936</td>\n",
       "    </tr>\n",
       "    <tr>\n",
       "      <th>2300</th>\n",
       "      <td>Kielce</td>\n",
       "      <td>2827</td>\n",
       "    </tr>\n",
       "    <tr>\n",
       "      <th>995</th>\n",
       "      <td>Częstochowa</td>\n",
       "      <td>2763</td>\n",
       "    </tr>\n",
       "    <tr>\n",
       "      <th>1784</th>\n",
       "      <td>Internet</td>\n",
       "      <td>2281</td>\n",
       "    </tr>\n",
       "    <tr>\n",
       "      <th>1758</th>\n",
       "      <td>INTERNET</td>\n",
       "      <td>1974</td>\n",
       "    </tr>\n",
       "    <tr>\n",
       "      <th>1407</th>\n",
       "      <td>Gdańsk</td>\n",
       "      <td>1963</td>\n",
       "    </tr>\n",
       "    <tr>\n",
       "      <th>5355</th>\n",
       "      <td>Szczecin</td>\n",
       "      <td>1957</td>\n",
       "    </tr>\n",
       "    <tr>\n",
       "      <th>641</th>\n",
       "      <td>Bydgoszcz</td>\n",
       "      <td>1820</td>\n",
       "    </tr>\n",
       "    <tr>\n",
       "      <th>2248</th>\n",
       "      <td>Katowice</td>\n",
       "      <td>1805</td>\n",
       "    </tr>\n",
       "    <tr>\n",
       "      <th>2466</th>\n",
       "      <td>Koszalin</td>\n",
       "      <td>1634</td>\n",
       "    </tr>\n",
       "    <tr>\n",
       "      <th>6612</th>\n",
       "      <td>Zielona Góra</td>\n",
       "      <td>1520</td>\n",
       "    </tr>\n",
       "    <tr>\n",
       "      <th>1424</th>\n",
       "      <td>Gdynia</td>\n",
       "      <td>1392</td>\n",
       "    </tr>\n",
       "    <tr>\n",
       "      <th>5743</th>\n",
       "      <td>WARSZAWA</td>\n",
       "      <td>1285</td>\n",
       "    </tr>\n",
       "    <tr>\n",
       "      <th>6858</th>\n",
       "      <td>internet</td>\n",
       "      <td>1240</td>\n",
       "    </tr>\n",
       "    <tr>\n",
       "      <th>1235</th>\n",
       "      <td>Dębica</td>\n",
       "      <td>1152</td>\n",
       "    </tr>\n",
       "    <tr>\n",
       "      <th>773</th>\n",
       "      <td>Cała Polska</td>\n",
       "      <td>1100</td>\n",
       "    </tr>\n",
       "    <tr>\n",
       "      <th>428</th>\n",
       "      <td>Bielsko-Biała</td>\n",
       "      <td>1088</td>\n",
       "    </tr>\n",
       "    <tr>\n",
       "      <th>4168</th>\n",
       "      <td>Polska</td>\n",
       "      <td>1074</td>\n",
       "    </tr>\n",
       "    <tr>\n",
       "      <th>4493</th>\n",
       "      <td>Radom</td>\n",
       "      <td>1044</td>\n",
       "    </tr>\n",
       "  </tbody>\n",
       "</table>\n",
       "</div>"
      ],
      "text/plain": [
       "        it_location  counts\n",
       "5900       Warszawa   11227\n",
       "2528         Kraków    7514\n",
       "7674           Łódź    5358\n",
       "4206         Poznań    5174\n",
       "6241        Wrocław    4245\n",
       "367       Białystok    3584\n",
       "2917         Lublin    3225\n",
       "4714        Rzeszów    2936\n",
       "2300         Kielce    2827\n",
       "995     Częstochowa    2763\n",
       "1784       Internet    2281\n",
       "1758       INTERNET    1974\n",
       "1407         Gdańsk    1963\n",
       "5355       Szczecin    1957\n",
       "641       Bydgoszcz    1820\n",
       "2248       Katowice    1805\n",
       "2466       Koszalin    1634\n",
       "6612   Zielona Góra    1520\n",
       "1424         Gdynia    1392\n",
       "5743       WARSZAWA    1285\n",
       "6858       internet    1240\n",
       "1235         Dębica    1152\n",
       "773     Cała Polska    1100\n",
       "428   Bielsko-Biała    1088\n",
       "4168         Polska    1074\n",
       "4493          Radom    1044"
      ]
     },
     "execution_count": 185,
     "metadata": {},
     "output_type": "execute_result"
    }
   ],
   "source": [
    "tmp[tmp.counts > 1000]"
   ]
  },
  {
   "cell_type": "markdown",
   "metadata": {},
   "source": [
    "### Komentarz od autora\n",
    "\n",
    "Nie mam bladego pojęcia co zrobić z tymi location i seller. Czy upakować jakieś kategorie które nie przekraczają progu do others czy jakoś wybierać? ale to jest tyle róznych wartości. A jeszcze te nazwy miast są takie jak widać - dramat. :(\n",
    "\n",
    "Ok trochę to przemyślałem, skoro każdy sklep ma swoją ocenę wstawioną, i sobie już ją skategoryzowaliśmy, to może wyrzucić nazwę sklepu, bo jak mamy ocenę sklepu, to sama nazwa nic nie wnosi? :') "
   ]
  },
  {
   "cell_type": "code",
   "execution_count": 83,
   "metadata": {},
   "outputs": [],
   "source": [
    "X_train.drop('seller', inplace = True, axis = 1)"
   ]
  },
  {
   "cell_type": "markdown",
   "metadata": {},
   "source": [
    "Na koniec, aby w ramce mieć jedynie zmienne numeryczne, użyjemy `LabelEncoder`, aby zakodować dzieki temu pozostałe zmienne tesktowe."
   ]
  },
  {
   "cell_type": "code",
   "execution_count": 84,
   "metadata": {},
   "outputs": [],
   "source": [
    "from sklearn.preprocessing import LabelEncoder\n",
    "labelencoder_X = LabelEncoder()\n",
    "X_train['main_category'] = labelencoder_X.fit_transform(X_train['main_category'])\n",
    "X_train['it_location'] = labelencoder_X.fit_transform(X_train['it_location'])"
   ]
  },
  {
   "cell_type": "code",
   "execution_count": 85,
   "metadata": {},
   "outputs": [
    {
     "data": {
      "text/html": [
       "<div>\n",
       "<style scoped>\n",
       "    .dataframe tbody tr th:only-of-type {\n",
       "        vertical-align: middle;\n",
       "    }\n",
       "\n",
       "    .dataframe tbody tr th {\n",
       "        vertical-align: top;\n",
       "    }\n",
       "\n",
       "    .dataframe thead th {\n",
       "        text-align: right;\n",
       "    }\n",
       "</style>\n",
       "<table border=\"1\" class=\"dataframe\">\n",
       "  <thead>\n",
       "    <tr style=\"text-align: right;\">\n",
       "      <th></th>\n",
       "      <th>lp</th>\n",
       "      <th>item_id</th>\n",
       "      <th>pay_option_on_delivery</th>\n",
       "      <th>pay_option_transfer</th>\n",
       "      <th>price</th>\n",
       "      <th>it_is_allegro_standard</th>\n",
       "      <th>it_quantity</th>\n",
       "      <th>it_is_brand_zone</th>\n",
       "      <th>it_seller_rating</th>\n",
       "      <th>it_location</th>\n",
       "      <th>main_category</th>\n",
       "      <th>time</th>\n",
       "    </tr>\n",
       "  </thead>\n",
       "  <tbody>\n",
       "    <tr>\n",
       "      <th>258810</th>\n",
       "      <td>258810</td>\n",
       "      <td>5758939933</td>\n",
       "      <td>1</td>\n",
       "      <td>1</td>\n",
       "      <td>1</td>\n",
       "      <td>1</td>\n",
       "      <td>2</td>\n",
       "      <td>0</td>\n",
       "      <td>2</td>\n",
       "      <td>5118</td>\n",
       "      <td>2</td>\n",
       "      <td>4</td>\n",
       "    </tr>\n",
       "    <tr>\n",
       "      <th>365240</th>\n",
       "      <td>365240</td>\n",
       "      <td>4837911549</td>\n",
       "      <td>1</td>\n",
       "      <td>1</td>\n",
       "      <td>1</td>\n",
       "      <td>1</td>\n",
       "      <td>4</td>\n",
       "      <td>0</td>\n",
       "      <td>5</td>\n",
       "      <td>4899</td>\n",
       "      <td>1</td>\n",
       "      <td>2</td>\n",
       "    </tr>\n",
       "    <tr>\n",
       "      <th>271612</th>\n",
       "      <td>271612</td>\n",
       "      <td>5983284139</td>\n",
       "      <td>1</td>\n",
       "      <td>1</td>\n",
       "      <td>1</td>\n",
       "      <td>0</td>\n",
       "      <td>5</td>\n",
       "      <td>0</td>\n",
       "      <td>2</td>\n",
       "      <td>2299</td>\n",
       "      <td>1</td>\n",
       "      <td>4</td>\n",
       "    </tr>\n",
       "    <tr>\n",
       "      <th>271568</th>\n",
       "      <td>271568</td>\n",
       "      <td>5970379539</td>\n",
       "      <td>1</td>\n",
       "      <td>1</td>\n",
       "      <td>1</td>\n",
       "      <td>1</td>\n",
       "      <td>3</td>\n",
       "      <td>0</td>\n",
       "      <td>1</td>\n",
       "      <td>2527</td>\n",
       "      <td>8</td>\n",
       "      <td>3</td>\n",
       "    </tr>\n",
       "    <tr>\n",
       "      <th>99302</th>\n",
       "      <td>99302</td>\n",
       "      <td>6086525489</td>\n",
       "      <td>1</td>\n",
       "      <td>1</td>\n",
       "      <td>1</td>\n",
       "      <td>1</td>\n",
       "      <td>2</td>\n",
       "      <td>0</td>\n",
       "      <td>3</td>\n",
       "      <td>7672</td>\n",
       "      <td>3</td>\n",
       "      <td>3</td>\n",
       "    </tr>\n",
       "    <tr>\n",
       "      <th>362471</th>\n",
       "      <td>362471</td>\n",
       "      <td>6028323623</td>\n",
       "      <td>1</td>\n",
       "      <td>0</td>\n",
       "      <td>1</td>\n",
       "      <td>0</td>\n",
       "      <td>2</td>\n",
       "      <td>0</td>\n",
       "      <td>4</td>\n",
       "      <td>196</td>\n",
       "      <td>5</td>\n",
       "      <td>3</td>\n",
       "    </tr>\n",
       "    <tr>\n",
       "      <th>278236</th>\n",
       "      <td>278236</td>\n",
       "      <td>6045632208</td>\n",
       "      <td>1</td>\n",
       "      <td>0</td>\n",
       "      <td>1</td>\n",
       "      <td>0</td>\n",
       "      <td>4</td>\n",
       "      <td>0</td>\n",
       "      <td>1</td>\n",
       "      <td>905</td>\n",
       "      <td>3</td>\n",
       "      <td>3</td>\n",
       "    </tr>\n",
       "    <tr>\n",
       "      <th>12647</th>\n",
       "      <td>12647</td>\n",
       "      <td>6077106797</td>\n",
       "      <td>1</td>\n",
       "      <td>1</td>\n",
       "      <td>1</td>\n",
       "      <td>1</td>\n",
       "      <td>1</td>\n",
       "      <td>0</td>\n",
       "      <td>3</td>\n",
       "      <td>4205</td>\n",
       "      <td>2</td>\n",
       "      <td>3</td>\n",
       "    </tr>\n",
       "    <tr>\n",
       "      <th>307986</th>\n",
       "      <td>307986</td>\n",
       "      <td>5005242449</td>\n",
       "      <td>0</td>\n",
       "      <td>1</td>\n",
       "      <td>1</td>\n",
       "      <td>0</td>\n",
       "      <td>3</td>\n",
       "      <td>0</td>\n",
       "      <td>4</td>\n",
       "      <td>4999</td>\n",
       "      <td>1</td>\n",
       "      <td>2</td>\n",
       "    </tr>\n",
       "    <tr>\n",
       "      <th>269733</th>\n",
       "      <td>269733</td>\n",
       "      <td>6020491736</td>\n",
       "      <td>1</td>\n",
       "      <td>1</td>\n",
       "      <td>1</td>\n",
       "      <td>0</td>\n",
       "      <td>5</td>\n",
       "      <td>0</td>\n",
       "      <td>3</td>\n",
       "      <td>6610</td>\n",
       "      <td>6</td>\n",
       "      <td>2</td>\n",
       "    </tr>\n",
       "  </tbody>\n",
       "</table>\n",
       "</div>"
      ],
      "text/plain": [
       "            lp     item_id  pay_option_on_delivery  pay_option_transfer price  \\\n",
       "258810  258810  5758939933                       1                    1     1   \n",
       "365240  365240  4837911549                       1                    1     1   \n",
       "271612  271612  5983284139                       1                    1     1   \n",
       "271568  271568  5970379539                       1                    1     1   \n",
       "99302    99302  6086525489                       1                    1     1   \n",
       "362471  362471  6028323623                       1                    0     1   \n",
       "278236  278236  6045632208                       1                    0     1   \n",
       "12647    12647  6077106797                       1                    1     1   \n",
       "307986  307986  5005242449                       0                    1     1   \n",
       "269733  269733  6020491736                       1                    1     1   \n",
       "\n",
       "        it_is_allegro_standard it_quantity  it_is_brand_zone it_seller_rating  \\\n",
       "258810                       1           2                 0                2   \n",
       "365240                       1           4                 0                5   \n",
       "271612                       0           5                 0                2   \n",
       "271568                       1           3                 0                1   \n",
       "99302                        1           2                 0                3   \n",
       "362471                       0           2                 0                4   \n",
       "278236                       0           4                 0                1   \n",
       "12647                        1           1                 0                3   \n",
       "307986                       0           3                 0                4   \n",
       "269733                       0           5                 0                3   \n",
       "\n",
       "        it_location  main_category time  \n",
       "258810         5118              2    4  \n",
       "365240         4899              1    2  \n",
       "271612         2299              1    4  \n",
       "271568         2527              8    3  \n",
       "99302          7672              3    3  \n",
       "362471          196              5    3  \n",
       "278236          905              3    3  \n",
       "12647          4205              2    3  \n",
       "307986         4999              1    2  \n",
       "269733         6610              6    2  "
      ]
     },
     "execution_count": 85,
     "metadata": {},
     "output_type": "execute_result"
    }
   ],
   "source": [
    "X_train.head(10)"
   ]
  },
  {
   "cell_type": "markdown",
   "metadata": {},
   "source": [
    "#### Zmiany w zbiorze testowym\n",
    "\n",
    "Przeprowadzimy teraz zmiany w zbiorze testowym"
   ]
  },
  {
   "cell_type": "code",
   "execution_count": 86,
   "metadata": {},
   "outputs": [],
   "source": [
    "X_test['it_quantity'] = pd.cut(X_test['it_quantity'], bins=[-1, 1, 10, 100, 1000, 100000], labels=[1, 2, 3, 4, 5])\n",
    "X_test['it_seller_rating'] = pd.cut(X_test['it_seller_rating'], bins=[-2, 1001, 3001, 10001, 50001, 300000], labels=[1,2,3,4,5])\n",
    "X_test = X_test[X_test.price != 0]\n",
    "X_test['price'] = pd.cut(X_test['price'], bins=[0, 150, 1000, np.inf], labels=[1, 2, 3])"
   ]
  },
  {
   "cell_type": "code",
   "execution_count": 87,
   "metadata": {},
   "outputs": [],
   "source": [
    "X_test.drop('categories', axis = 1, inplace = True)\n",
    "\n",
    "X_test['main_category'] = X_test['main_category'].replace(rtv, 'RTV i AGD')\n",
    "X_test['main_category'] = X_test['main_category'].replace(art,'Sztuka i Rozrywka')\n",
    "X_test['main_category'] = X_test['main_category'].replace('Biżuteria i Zegarki','Odzież, Obuwie, Dodatki')\n",
    "X_test['main_category'] = X_test['main_category'].replace(['Uroda', \"Zdrowie\"],'Uroda i Zdrowie')\n",
    "X_test['main_category'] = X_test['main_category'].replace(ind,'Przemysł i usługi')"
   ]
  },
  {
   "cell_type": "code",
   "execution_count": 88,
   "metadata": {},
   "outputs": [],
   "source": [
    "X_test['date'] = pd.to_datetime(X_test['date'])\n",
    "X_test['time'] = X_test['date'].apply(lambda x:x.time())\n",
    "X_test['time'] = X_test['time'].apply(lambda x:x.hour)\n",
    "X_test['time'] = pd.cut(X_test['time'], bins=[-1, 5, 11, 17, 24], labels=[1, 2, 3, 4])\n",
    "X_test.drop('date', axis = 1, inplace = True)"
   ]
  },
  {
   "cell_type": "code",
   "execution_count": 89,
   "metadata": {},
   "outputs": [],
   "source": [
    "X_test.drop('seller', inplace = True, axis = 1)\n",
    "from sklearn.preprocessing import LabelEncoder\n",
    "labelencoder_X = LabelEncoder()\n",
    "X_test['main_category'] = labelencoder_X.fit_transform(X_test['main_category'])\n",
    "X_test['it_location'] = labelencoder_X.fit_transform(X_test['it_location'])"
   ]
  },
  {
   "cell_type": "code",
   "execution_count": 90,
   "metadata": {},
   "outputs": [
    {
     "data": {
      "text/html": [
       "<div>\n",
       "<style scoped>\n",
       "    .dataframe tbody tr th:only-of-type {\n",
       "        vertical-align: middle;\n",
       "    }\n",
       "\n",
       "    .dataframe tbody tr th {\n",
       "        vertical-align: top;\n",
       "    }\n",
       "\n",
       "    .dataframe thead th {\n",
       "        text-align: right;\n",
       "    }\n",
       "</style>\n",
       "<table border=\"1\" class=\"dataframe\">\n",
       "  <thead>\n",
       "    <tr style=\"text-align: right;\">\n",
       "      <th></th>\n",
       "      <th>lp</th>\n",
       "      <th>item_id</th>\n",
       "      <th>pay_option_on_delivery</th>\n",
       "      <th>pay_option_transfer</th>\n",
       "      <th>price</th>\n",
       "      <th>it_is_allegro_standard</th>\n",
       "      <th>it_quantity</th>\n",
       "      <th>it_is_brand_zone</th>\n",
       "      <th>it_seller_rating</th>\n",
       "      <th>it_location</th>\n",
       "      <th>main_category</th>\n",
       "      <th>time</th>\n",
       "    </tr>\n",
       "  </thead>\n",
       "  <tbody>\n",
       "    <tr>\n",
       "      <th>3010</th>\n",
       "      <td>3010</td>\n",
       "      <td>5797991277</td>\n",
       "      <td>1</td>\n",
       "      <td>1</td>\n",
       "      <td>1</td>\n",
       "      <td>0</td>\n",
       "      <td>4</td>\n",
       "      <td>0</td>\n",
       "      <td>1</td>\n",
       "      <td>1077</td>\n",
       "      <td>0</td>\n",
       "      <td>4</td>\n",
       "    </tr>\n",
       "    <tr>\n",
       "      <th>299769</th>\n",
       "      <td>299769</td>\n",
       "      <td>5104848053</td>\n",
       "      <td>1</td>\n",
       "      <td>0</td>\n",
       "      <td>1</td>\n",
       "      <td>1</td>\n",
       "      <td>1</td>\n",
       "      <td>0</td>\n",
       "      <td>1</td>\n",
       "      <td>5625</td>\n",
       "      <td>0</td>\n",
       "      <td>4</td>\n",
       "    </tr>\n",
       "    <tr>\n",
       "      <th>150362</th>\n",
       "      <td>150362</td>\n",
       "      <td>6010321461</td>\n",
       "      <td>1</td>\n",
       "      <td>1</td>\n",
       "      <td>1</td>\n",
       "      <td>0</td>\n",
       "      <td>1</td>\n",
       "      <td>0</td>\n",
       "      <td>3</td>\n",
       "      <td>3622</td>\n",
       "      <td>7</td>\n",
       "      <td>4</td>\n",
       "    </tr>\n",
       "    <tr>\n",
       "      <th>259319</th>\n",
       "      <td>259319</td>\n",
       "      <td>5999855933</td>\n",
       "      <td>1</td>\n",
       "      <td>1</td>\n",
       "      <td>1</td>\n",
       "      <td>1</td>\n",
       "      <td>5</td>\n",
       "      <td>0</td>\n",
       "      <td>3</td>\n",
       "      <td>889</td>\n",
       "      <td>4</td>\n",
       "      <td>4</td>\n",
       "    </tr>\n",
       "    <tr>\n",
       "      <th>277629</th>\n",
       "      <td>277629</td>\n",
       "      <td>5818588008</td>\n",
       "      <td>1</td>\n",
       "      <td>1</td>\n",
       "      <td>1</td>\n",
       "      <td>0</td>\n",
       "      <td>4</td>\n",
       "      <td>0</td>\n",
       "      <td>4</td>\n",
       "      <td>1836</td>\n",
       "      <td>6</td>\n",
       "      <td>1</td>\n",
       "    </tr>\n",
       "  </tbody>\n",
       "</table>\n",
       "</div>"
      ],
      "text/plain": [
       "            lp     item_id  pay_option_on_delivery  pay_option_transfer price  \\\n",
       "3010      3010  5797991277                       1                    1     1   \n",
       "299769  299769  5104848053                       1                    0     1   \n",
       "150362  150362  6010321461                       1                    1     1   \n",
       "259319  259319  5999855933                       1                    1     1   \n",
       "277629  277629  5818588008                       1                    1     1   \n",
       "\n",
       "        it_is_allegro_standard it_quantity  it_is_brand_zone it_seller_rating  \\\n",
       "3010                         0           4                 0                1   \n",
       "299769                       1           1                 0                1   \n",
       "150362                       0           1                 0                3   \n",
       "259319                       1           5                 0                3   \n",
       "277629                       0           4                 0                4   \n",
       "\n",
       "        it_location  main_category time  \n",
       "3010           1077              0    4  \n",
       "299769         5625              0    4  \n",
       "150362         3622              7    4  \n",
       "259319          889              4    4  \n",
       "277629         1836              6    1  "
      ]
     },
     "execution_count": 90,
     "metadata": {},
     "output_type": "execute_result"
    }
   ],
   "source": [
    "X_test.head()"
   ]
  },
  {
   "cell_type": "markdown",
   "metadata": {},
   "source": [
    "### Wstępne modele (XDXD) \n",
    "\n",
    "Ja jestem jakimś debilem ogólnie, no ale robię jak w przykładzie, proszę być wyrozumiałym :')\n",
    "\n",
    "Przetestujemy teraz kilka modeli na danych treningowych, a następnie na naszym zbiorze testowym."
   ]
  },
  {
   "cell_type": "code",
   "execution_count": 91,
   "metadata": {},
   "outputs": [],
   "source": [
    "#Wyciągnięcie zmiennej przewidywanej ze zbiorów\n",
    "y_train = np.array(X_train['price'])\n",
    "X_train = X_train.drop(['price'],axis=1)\n",
    "y_test = np.array(X_test['price'])\n",
    "X_test = X_test.drop(['price'],axis=1)"
   ]
  },
  {
   "cell_type": "markdown",
   "metadata": {},
   "source": [
    "Na początek użyjemy regresji logistycznej z parametrem `multi_class` ustawionym na 'multinomial', gdyż dokonujemy przewidujemy jedną z 3 klas ceny. "
   ]
  },
  {
   "cell_type": "code",
   "execution_count": 110,
   "metadata": {},
   "outputs": [
    {
     "name": "stdout",
     "output_type": "stream",
     "text": [
      "y:     [1 1 1 1 1 1 1 1 1 1 1 1 1 1 1 1 1 1 1 1]\n",
      "y_hat: [1 1 1 1 1 1 1 1 1 1 1 1 1 1 1 1 1 1 1 1]\n"
     ]
    }
   ],
   "source": [
    "from sklearn.linear_model import LogisticRegression\n",
    "lr = LogisticRegression(max_iter=100, multi_class = 'multinomial')\n",
    "\n",
    "lr.fit(X_train, y_train)\n",
    "y_hat = lr.predict(X_train)\n",
    "print('y:     ' + str(y_hat[0:20]) + '\\ny_hat: ' + str(y_train[0:20]))"
   ]
  },
  {
   "cell_type": "code",
   "execution_count": 111,
   "metadata": {},
   "outputs": [
    {
     "data": {
      "text/plain": [
       "0.8896318144932044"
      ]
     },
     "execution_count": 111,
     "metadata": {},
     "output_type": "execute_result"
    }
   ],
   "source": [
    "from sklearn.metrics import accuracy_score\n",
    "accuracy_score(y_train, y_hat)"
   ]
  },
  {
   "cell_type": "code",
   "execution_count": 104,
   "metadata": {},
   "outputs": [
    {
     "data": {
      "text/plain": [
       "0.8912446994262908"
      ]
     },
     "execution_count": 104,
     "metadata": {},
     "output_type": "execute_result"
    }
   ],
   "source": [
    "y_hat = lr.predict(X_test)\n",
    "accuracy_score(y_test, y_hat)"
   ]
  },
  {
   "cell_type": "code",
   "execution_count": 107,
   "metadata": {},
   "outputs": [
    {
     "data": {
      "text/plain": [
       "array([ 8.96084259e-20, -1.18059447e-20, -7.78024812e-20])"
      ]
     },
     "execution_count": 107,
     "metadata": {},
     "output_type": "execute_result"
    }
   ],
   "source": [
    "#Nie wiem jak to interpretować\n",
    "lr.coef_\n",
    "lr.intercept_"
   ]
  },
  {
   "cell_type": "markdown",
   "metadata": {},
   "source": [
    "No w sumie spoko wynik, lol. Wskaźnik dokładności na poziomie 89% bardzo dobry a przynajmniej tak myślę.\n",
    "\n",
    "Teraz wykorzystamy model drzewa decyzyjnego."
   ]
  },
  {
   "cell_type": "code",
   "execution_count": 132,
   "metadata": {},
   "outputs": [
    {
     "name": "stdout",
     "output_type": "stream",
     "text": [
      "y:     [1 1 1 1 1 1 1 1 1 1 1 1 1 1 1 1 1 1 1 1]\n",
      "y_hat: [1 1 1 1 1 1 1 1 1 1 1 1 1 1 1 1 1 1 1 1]\n"
     ]
    }
   ],
   "source": [
    "from sklearn.tree import DecisionTreeClassifier #, plot_tree, export_text, export_graphviz\n",
    "\n",
    "tree = DecisionTreeClassifier()\n",
    "\n",
    "tree.fit(X_train, y_train)\n",
    "y_hat = tree1.predict(X_train)\n",
    "print('y:     ' + str(y_hat[0:20]) + '\\ny_hat: ' + str(y_train[0:20]))"
   ]
  },
  {
   "cell_type": "code",
   "execution_count": 124,
   "metadata": {},
   "outputs": [
    {
     "data": {
      "text/plain": [
       "1.0"
      ]
     },
     "execution_count": 124,
     "metadata": {},
     "output_type": "execute_result"
    }
   ],
   "source": [
    "accuracy_score(y_train, y_hat)"
   ]
  },
  {
   "cell_type": "code",
   "execution_count": 125,
   "metadata": {},
   "outputs": [
    {
     "name": "stdout",
     "output_type": "stream",
     "text": [
      "y:     [1 1 1 1 1 1 1 1 1 1 1 1 1 1 1 1 1 1 2 1]\n",
      "y_hat: [1 1 1 1 1 2 2 1 1 1 1 1 1 1 1 1 1 1 1 1]\n"
     ]
    }
   ],
   "source": [
    "y_hat = tree.predict(X_test)\n",
    "print('y:     ' + str(y_hat[0:20]) + '\\ny_hat: ' + str(y_test[0:20]))"
   ]
  },
  {
   "cell_type": "code",
   "execution_count": 126,
   "metadata": {},
   "outputs": [
    {
     "data": {
      "text/plain": [
       "0.8218553708700878"
      ]
     },
     "execution_count": 126,
     "metadata": {},
     "output_type": "execute_result"
    }
   ],
   "source": [
    "accuracy_score(y_test, y_hat)"
   ]
  },
  {
   "cell_type": "markdown",
   "metadata": {},
   "source": [
    "Dla zbioru testowego dokładność predykcji na poziomie 1. To nie jest dobry znak, najwyraźniej nasz model drzewiasty jest przetrenowany lub próbka do treningu nie została dobrze podzielona."
   ]
  }
 ],
 "metadata": {
  "kernelspec": {
   "display_name": "Python 3",
   "language": "python",
   "name": "python3"
  },
  "language_info": {
   "codemirror_mode": {
    "name": "ipython",
    "version": 3
   },
   "file_extension": ".py",
   "mimetype": "text/x-python",
   "name": "python",
   "nbconvert_exporter": "python",
   "pygments_lexer": "ipython3",
   "version": "3.8.3"
  }
 },
 "nbformat": 4,
 "nbformat_minor": 5
}
