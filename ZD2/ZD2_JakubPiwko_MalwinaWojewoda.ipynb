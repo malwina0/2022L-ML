{
 "cells": [
  {
   "cell_type": "markdown",
   "id": "91f6e708",
   "metadata": {},
   "source": [
    "# Wstęp do uczenia maszynowego\n",
    "##  Praca domowa nr 2\n",
    "#### Jakub Piwko, Malwina Wojewoda\n",
    "***\n",
    "***\n",
    "***"
   ]
  },
  {
   "cell_type": "markdown",
   "id": "5acfd534",
   "metadata": {},
   "source": [
    "### Pakiety"
   ]
  },
  {
   "cell_type": "code",
   "execution_count": 5,
   "id": "65eaffe2",
   "metadata": {},
   "outputs": [],
   "source": [
    "import pandas as pd\n",
    "import plotly.express as px\n",
    "import numpy as np\n",
    "import sklearn \n",
    "import seaborn as sns\n",
    "import matplotlib.pyplot as plt\n",
    "import matplotlib\n",
    "import warnings\n",
    "warnings.filterwarnings('ignore')\n",
    "np.random.seed(23)\n",
    "from sklearn.model_selection import train_test_split"
   ]
  },
  {
   "cell_type": "markdown",
   "id": "9fc9df4d",
   "metadata": {},
   "source": [
    "### Wczytanie i analiza danych"
   ]
  },
  {
   "cell_type": "code",
   "execution_count": 2,
   "id": "62830583",
   "metadata": {},
   "outputs": [
    {
     "data": {
      "text/html": [
       "<div>\n",
       "<style scoped>\n",
       "    .dataframe tbody tr th:only-of-type {\n",
       "        vertical-align: middle;\n",
       "    }\n",
       "\n",
       "    .dataframe tbody tr th {\n",
       "        vertical-align: top;\n",
       "    }\n",
       "\n",
       "    .dataframe thead th {\n",
       "        text-align: right;\n",
       "    }\n",
       "</style>\n",
       "<table border=\"1\" class=\"dataframe\">\n",
       "  <thead>\n",
       "    <tr style=\"text-align: right;\">\n",
       "      <th></th>\n",
       "      <th>lp</th>\n",
       "      <th>date</th>\n",
       "      <th>item_id</th>\n",
       "      <th>categories</th>\n",
       "      <th>pay_option_on_delivery</th>\n",
       "      <th>pay_option_transfer</th>\n",
       "      <th>seller</th>\n",
       "      <th>price</th>\n",
       "      <th>it_is_allegro_standard</th>\n",
       "      <th>it_quantity</th>\n",
       "      <th>it_is_brand_zone</th>\n",
       "      <th>it_seller_rating</th>\n",
       "      <th>it_location</th>\n",
       "      <th>main_category</th>\n",
       "    </tr>\n",
       "  </thead>\n",
       "  <tbody>\n",
       "    <tr>\n",
       "      <th>0</th>\n",
       "      <td>0</td>\n",
       "      <td>2016-04-03 21:21:08</td>\n",
       "      <td>4753602474</td>\n",
       "      <td>['Komputery', 'Dyski i napędy', 'Nośniki', 'No...</td>\n",
       "      <td>1</td>\n",
       "      <td>1</td>\n",
       "      <td>radzioch666</td>\n",
       "      <td>59.99</td>\n",
       "      <td>1</td>\n",
       "      <td>997</td>\n",
       "      <td>0</td>\n",
       "      <td>50177</td>\n",
       "      <td>Warszawa</td>\n",
       "      <td>Komputery</td>\n",
       "    </tr>\n",
       "    <tr>\n",
       "      <th>1</th>\n",
       "      <td>1</td>\n",
       "      <td>2016-04-03 15:35:26</td>\n",
       "      <td>4773181874</td>\n",
       "      <td>['Odzież, Obuwie, Dodatki', 'Bielizna damska',...</td>\n",
       "      <td>1</td>\n",
       "      <td>1</td>\n",
       "      <td>InwestycjeNET</td>\n",
       "      <td>4.90</td>\n",
       "      <td>1</td>\n",
       "      <td>9288</td>\n",
       "      <td>0</td>\n",
       "      <td>12428</td>\n",
       "      <td>Warszawa</td>\n",
       "      <td>Odzież, Obuwie, Dodatki</td>\n",
       "    </tr>\n",
       "    <tr>\n",
       "      <th>2</th>\n",
       "      <td>2</td>\n",
       "      <td>2016-04-03 14:14:31</td>\n",
       "      <td>4781627074</td>\n",
       "      <td>['Dom i Ogród', 'Budownictwo i Akcesoria', 'Śc...</td>\n",
       "      <td>1</td>\n",
       "      <td>1</td>\n",
       "      <td>otostyl_com</td>\n",
       "      <td>109.90</td>\n",
       "      <td>1</td>\n",
       "      <td>895</td>\n",
       "      <td>0</td>\n",
       "      <td>7389</td>\n",
       "      <td>Leszno</td>\n",
       "      <td>Dom i Ogród</td>\n",
       "    </tr>\n",
       "    <tr>\n",
       "      <th>3</th>\n",
       "      <td>3</td>\n",
       "      <td>2016-04-03 19:55:44</td>\n",
       "      <td>4783971474</td>\n",
       "      <td>['Książki i Komiksy', 'Poradniki i albumy', 'Z...</td>\n",
       "      <td>1</td>\n",
       "      <td>1</td>\n",
       "      <td>Matfel1</td>\n",
       "      <td>18.50</td>\n",
       "      <td>0</td>\n",
       "      <td>971</td>\n",
       "      <td>0</td>\n",
       "      <td>15006</td>\n",
       "      <td>Wola Krzysztoporska</td>\n",
       "      <td>Książki i Komiksy</td>\n",
       "    </tr>\n",
       "    <tr>\n",
       "      <th>4</th>\n",
       "      <td>4</td>\n",
       "      <td>2016-04-03 18:05:54</td>\n",
       "      <td>4787908274</td>\n",
       "      <td>['Odzież, Obuwie, Dodatki', 'Ślub i wesele', '...</td>\n",
       "      <td>1</td>\n",
       "      <td>1</td>\n",
       "      <td>PPHU_RICO</td>\n",
       "      <td>19.90</td>\n",
       "      <td>1</td>\n",
       "      <td>950</td>\n",
       "      <td>0</td>\n",
       "      <td>32975</td>\n",
       "      <td>BIAŁYSTOK</td>\n",
       "      <td>Odzież, Obuwie, Dodatki</td>\n",
       "    </tr>\n",
       "  </tbody>\n",
       "</table>\n",
       "</div>"
      ],
      "text/plain": [
       "   lp                 date     item_id  \\\n",
       "0   0  2016-04-03 21:21:08  4753602474   \n",
       "1   1  2016-04-03 15:35:26  4773181874   \n",
       "2   2  2016-04-03 14:14:31  4781627074   \n",
       "3   3  2016-04-03 19:55:44  4783971474   \n",
       "4   4  2016-04-03 18:05:54  4787908274   \n",
       "\n",
       "                                          categories  pay_option_on_delivery  \\\n",
       "0  ['Komputery', 'Dyski i napędy', 'Nośniki', 'No...                       1   \n",
       "1  ['Odzież, Obuwie, Dodatki', 'Bielizna damska',...                       1   \n",
       "2  ['Dom i Ogród', 'Budownictwo i Akcesoria', 'Śc...                       1   \n",
       "3  ['Książki i Komiksy', 'Poradniki i albumy', 'Z...                       1   \n",
       "4  ['Odzież, Obuwie, Dodatki', 'Ślub i wesele', '...                       1   \n",
       "\n",
       "   pay_option_transfer         seller   price  it_is_allegro_standard  \\\n",
       "0                    1    radzioch666   59.99                       1   \n",
       "1                    1  InwestycjeNET    4.90                       1   \n",
       "2                    1    otostyl_com  109.90                       1   \n",
       "3                    1        Matfel1   18.50                       0   \n",
       "4                    1      PPHU_RICO   19.90                       1   \n",
       "\n",
       "   it_quantity  it_is_brand_zone  it_seller_rating          it_location  \\\n",
       "0          997                 0             50177             Warszawa   \n",
       "1         9288                 0             12428             Warszawa   \n",
       "2          895                 0              7389               Leszno   \n",
       "3          971                 0             15006  Wola Krzysztoporska   \n",
       "4          950                 0             32975            BIAŁYSTOK   \n",
       "\n",
       "             main_category  \n",
       "0                Komputery  \n",
       "1  Odzież, Obuwie, Dodatki  \n",
       "2              Dom i Ogród  \n",
       "3        Książki i Komiksy  \n",
       "4  Odzież, Obuwie, Dodatki  "
      ]
     },
     "execution_count": 2,
     "metadata": {},
     "output_type": "execute_result"
    }
   ],
   "source": [
    "df = pd.read_csv('allegro-api-transactions.csv')\n",
    "df.head()"
   ]
  },
  {
   "cell_type": "markdown",
   "id": "a65affde",
   "metadata": {},
   "source": [
    "#### Analiza braków danych"
   ]
  },
  {
   "cell_type": "code",
   "execution_count": 10,
   "id": "323c7f8a",
   "metadata": {},
   "outputs": [
    {
     "name": "stdout",
     "output_type": "stream",
     "text": [
      "<class 'pandas.core.frame.DataFrame'>\n",
      "RangeIndex: 420020 entries, 0 to 420019\n",
      "Data columns (total 14 columns):\n",
      " #   Column                  Non-Null Count   Dtype  \n",
      "---  ------                  --------------   -----  \n",
      " 0   lp                      420020 non-null  int64  \n",
      " 1   date                    420020 non-null  object \n",
      " 2   item_id                 420020 non-null  int64  \n",
      " 3   categories              420020 non-null  object \n",
      " 4   pay_option_on_delivery  420020 non-null  int64  \n",
      " 5   pay_option_transfer     420020 non-null  int64  \n",
      " 6   seller                  420020 non-null  object \n",
      " 7   price                   420020 non-null  float64\n",
      " 8   it_is_allegro_standard  420020 non-null  int64  \n",
      " 9   it_quantity             420020 non-null  int64  \n",
      " 10  it_is_brand_zone        420020 non-null  int64  \n",
      " 11  it_seller_rating        420020 non-null  int64  \n",
      " 12  it_location             420020 non-null  object \n",
      " 13  main_category           420020 non-null  object \n",
      "dtypes: float64(1), int64(8), object(5)\n",
      "memory usage: 44.9+ MB\n"
     ]
    }
   ],
   "source": [
    "df.info()"
   ]
  },
  {
   "cell_type": "markdown",
   "id": "13ac1152",
   "metadata": {},
   "source": [
    "W ramce danych nie wystąpują wartości None/Null, więc nie będziemy musieli zajmować się uzupełnianiem brakujących wartości."
   ]
  },
  {
   "cell_type": "markdown",
   "id": "bc6cc295",
   "metadata": {},
   "source": [
    "#### Rozkłady zmiennych\n",
    "Pomimo, że niektóre zmienne są typu *int* i *float*, to mogą to być zmienne dyskretne/kategoryczne. Sprawdźmy to zatem:"
   ]
  },
  {
   "cell_type": "code",
   "execution_count": 19,
   "id": "3066fc28",
   "metadata": {},
   "outputs": [
    {
     "data": {
      "image/png": "[encoded data removed]",
      "text/plain": [
       "<Figure size 1296x864 with 9 Axes>"
      ]
     },
     "metadata": {
      "needs_background": "light"
     },
     "output_type": "display_data"
    }
   ],
   "source": [
    "df.hist(figsize=(18, 12), bins=40)\n",
    "plt.show()"
   ]
  },
  {
   "cell_type": "markdown",
   "id": "95d2a6ae",
   "metadata": {},
   "source": [
    "Mimo, że z histogramu niektóre wielkości wyglądają na kategoryczne lepiej upewnic się korzystając ze zliczenia występujących wartości:"
   ]
  },
  {
   "cell_type": "code",
   "execution_count": 13,
   "id": "a5a47917",
   "metadata": {},
   "outputs": [
    {
     "data": {
      "text/plain": [
       "1    368766\n",
       "0     51254\n",
       "Name: pay_option_on_delivery, dtype: int64"
      ]
     },
     "execution_count": 13,
     "metadata": {},
     "output_type": "execute_result"
    }
   ],
   "source": [
    "df['pay_option_on_delivery'].value_counts()"
   ]
  },
  {
   "cell_type": "code",
   "execution_count": 15,
   "id": "8bba33a1",
   "metadata": {},
   "outputs": [
    {
     "data": {
      "text/plain": [
       "1    341264\n",
       "0     78756\n",
       "Name: pay_option_transfer, dtype: int64"
      ]
     },
     "execution_count": 15,
     "metadata": {},
     "output_type": "execute_result"
    }
   ],
   "source": [
    "df['pay_option_transfer'].value_counts()"
   ]
  },
  {
   "cell_type": "code",
   "execution_count": 20,
   "id": "9d8e0833",
   "metadata": {},
   "outputs": [
    {
     "data": {
      "text/plain": [
       "1    245063\n",
       "0    174957\n",
       "Name: it_is_allegro_standard, dtype: int64"
      ]
     },
     "execution_count": 20,
     "metadata": {},
     "output_type": "execute_result"
    }
   ],
   "source": [
    "df['it_is_allegro_standard'].value_counts()"
   ]
  },
  {
   "cell_type": "code",
   "execution_count": 22,
   "id": "580f48ce",
   "metadata": {},
   "outputs": [
    {
     "data": {
      "text/plain": [
       "0    413008\n",
       "1      7012\n",
       "Name: it_is_brand_zone, dtype: int64"
      ]
     },
     "execution_count": 22,
     "metadata": {},
     "output_type": "execute_result"
    }
   ],
   "source": [
    "df['it_is_brand_zone'].value_counts()"
   ]
  },
  {
   "cell_type": "code",
   "execution_count": 21,
   "id": "9c568613",
   "metadata": {},
   "outputs": [
    {
     "data": {
      "text/plain": [
       "0        63480\n",
       "1        11349\n",
       "2         8579\n",
       "3         7234\n",
       "4         6865\n",
       "         ...  \n",
       "19969        1\n",
       "7997         1\n",
       "3314         1\n",
       "8106         1\n",
       "65505        1\n",
       "Name: it_quantity, Length: 7305, dtype: int64"
      ]
     },
     "execution_count": 21,
     "metadata": {},
     "output_type": "execute_result"
    }
   ],
   "source": [
    "df['it_quantity'].value_counts()"
   ]
  },
  {
   "cell_type": "code",
   "execution_count": 16,
   "id": "9ca52c5b",
   "metadata": {},
   "outputs": [
    {
     "data": {
      "text/plain": [
       "1.00      7904\n",
       "9.99      4441\n",
       "19.99     4201\n",
       "99.00     3583\n",
       "15.00     3393\n",
       "          ... \n",
       "58.66        1\n",
       "443.00       1\n",
       "169.87       1\n",
       "209.49       1\n",
       "116.62       1\n",
       "Name: price, Length: 9722, dtype: int64"
      ]
     },
     "execution_count": 16,
     "metadata": {},
     "output_type": "execute_result"
    }
   ],
   "source": [
    "df['price'].value_counts()"
   ]
  },
  {
   "cell_type": "markdown",
   "id": "f3e232a2",
   "metadata": {},
   "source": [
    "Widać więc, że zmienne *pay_option_on_delivery*, *pay_option_transfer*, *it_is_allegro_standard*, *it_is_brand_zone* są kategoryczne z dwiema wartościami: 0 i 1. Natomiast zmienne *it_quantity* oraz *price* okazały się być ciągłe."
   ]
  },
  {
   "cell_type": "code",
   "execution_count": null,
   "id": "168f7d1b",
   "metadata": {},
   "outputs": [],
   "source": [
    "NIE WIEM  W SUMIE CO Z TYMI CO MAJA TYP OBJECT"
   ]
  },
  {
   "cell_type": "markdown",
   "id": "f2f8ec40",
   "metadata": {},
   "source": [
    "### Podział na zbiór treningowy, testowy i walidacyjny"
   ]
  },
  {
   "cell_type": "code",
   "execution_count": 6,
   "id": "9831fcee",
   "metadata": {},
   "outputs": [],
   "source": [
    "#Wyróżnienie zbioru, na którym będziemy pracować i zbiory do walidacji\n",
    "X, X_valid = sklearn.model_selection.train_test_split(\n",
    "    df,\n",
    "    test_size=0.30, random_state=100)\n",
    "\n",
    "#Wyróżnienie zbioru treningowego i testowego\n",
    "X_train, X_test = sklearn.model_selection.train_test_split(\n",
    "    X,\n",
    "    test_size=0.30, random_state=100)"
   ]
  },
  {
   "cell_type": "markdown",
   "id": "4eff0595",
   "metadata": {},
   "source": [
    "### Zamiana zmiennych ciągłych na kategoryczne"
   ]
  },
  {
   "cell_type": "markdown",
   "id": "257cae0f",
   "metadata": {},
   "source": [
    "Nie ma sensu zmienać zmiennej *item_id* ponieważ to numer identyfikujący konketną rzecz. Do zmiany pozostają zatem tylko zmienne *price*, *it_quantity* i *it_seller_rating*."
   ]
  },
  {
   "cell_type": "code",
   "execution_count": null,
   "id": "5db9be74",
   "metadata": {},
   "outputs": [],
   "source": []
  }
 ],
 "metadata": {
  "kernelspec": {
   "display_name": "Python 3 (ipykernel)",
   "language": "python",
   "name": "python3"
  },
  "language_info": {
   "codemirror_mode": {
    "name": "ipython",
    "version": 3
   },
   "file_extension": ".py",
   "mimetype": "text/x-python",
   "name": "python",
   "nbconvert_exporter": "python",
   "pygments_lexer": "ipython3",
   "version": "3.8.12"
  }
 },
 "nbformat": 4,
 "nbformat_minor": 5
}
