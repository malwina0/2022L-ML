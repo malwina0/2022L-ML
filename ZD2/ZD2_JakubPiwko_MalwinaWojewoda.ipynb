{
 "cells": [
  {
   "cell_type": "markdown",
   "metadata": {},
   "source": [
    "# Wstęp do uczenia maszynowego\n",
    "##  Praca domowa nr 2\n",
    "#### Jakub Piwko, Malwina Wojewoda\n",
    "***\n",
    "***\n",
    "***"
   ]
  },
  {
   "cell_type": "markdown",
   "metadata": {},
   "source": [
    "### Pakiety"
   ]
  },
  {
   "cell_type": "code",
   "execution_count": 2,
   "metadata": {},
   "outputs": [],
   "source": [
    "import pandas as pd\n",
    "import plotly.express as px\n",
    "import numpy as np\n",
    "import sklearn \n",
    "import seaborn as sns\n",
    "import matplotlib.pyplot as plt\n",
    "import matplotlib\n",
    "import warnings\n",
    "warnings.filterwarnings('ignore')\n",
    "np.random.seed(23)\n",
    "from sklearn.model_selection import train_test_split\n",
    "from sklearn import metrics\n",
    "from unidecode import unidecode"
   ]
  },
  {
   "cell_type": "markdown",
   "metadata": {},
   "source": [
    "### Wczytanie i analiza danych"
   ]
  },
  {
   "cell_type": "markdown",
   "metadata": {},
   "source": [
    "Zbiór danych opisuje transakcje zarejestrowane na stronie allegro.pl w ciągu jednego pełnego dnia 3 kwietnia 2016r. \n",
    "Zmienna, którą przewidujemy: cena"
   ]
  },
  {
   "cell_type": "code",
   "execution_count": 3,
   "metadata": {},
   "outputs": [
    {
     "data": {
      "text/html": [
       "<div>\n",
       "<style scoped>\n",
       "    .dataframe tbody tr th:only-of-type {\n",
       "        vertical-align: middle;\n",
       "    }\n",
       "\n",
       "    .dataframe tbody tr th {\n",
       "        vertical-align: top;\n",
       "    }\n",
       "\n",
       "    .dataframe thead th {\n",
       "        text-align: right;\n",
       "    }\n",
       "</style>\n",
       "<table border=\"1\" class=\"dataframe\">\n",
       "  <thead>\n",
       "    <tr style=\"text-align: right;\">\n",
       "      <th></th>\n",
       "      <th>lp</th>\n",
       "      <th>date</th>\n",
       "      <th>item_id</th>\n",
       "      <th>categories</th>\n",
       "      <th>pay_option_on_delivery</th>\n",
       "      <th>pay_option_transfer</th>\n",
       "      <th>seller</th>\n",
       "      <th>price</th>\n",
       "      <th>it_is_allegro_standard</th>\n",
       "      <th>it_quantity</th>\n",
       "      <th>it_is_brand_zone</th>\n",
       "      <th>it_seller_rating</th>\n",
       "      <th>it_location</th>\n",
       "      <th>main_category</th>\n",
       "    </tr>\n",
       "  </thead>\n",
       "  <tbody>\n",
       "    <tr>\n",
       "      <th>0</th>\n",
       "      <td>0</td>\n",
       "      <td>2016-04-03 21:21:08</td>\n",
       "      <td>4753602474</td>\n",
       "      <td>['Komputery', 'Dyski i napędy', 'Nośniki', 'No...</td>\n",
       "      <td>1</td>\n",
       "      <td>1</td>\n",
       "      <td>radzioch666</td>\n",
       "      <td>59.99</td>\n",
       "      <td>1</td>\n",
       "      <td>997</td>\n",
       "      <td>0</td>\n",
       "      <td>50177</td>\n",
       "      <td>Warszawa</td>\n",
       "      <td>Komputery</td>\n",
       "    </tr>\n",
       "    <tr>\n",
       "      <th>1</th>\n",
       "      <td>1</td>\n",
       "      <td>2016-04-03 15:35:26</td>\n",
       "      <td>4773181874</td>\n",
       "      <td>['Odzież, Obuwie, Dodatki', 'Bielizna damska',...</td>\n",
       "      <td>1</td>\n",
       "      <td>1</td>\n",
       "      <td>InwestycjeNET</td>\n",
       "      <td>4.90</td>\n",
       "      <td>1</td>\n",
       "      <td>9288</td>\n",
       "      <td>0</td>\n",
       "      <td>12428</td>\n",
       "      <td>Warszawa</td>\n",
       "      <td>Odzież, Obuwie, Dodatki</td>\n",
       "    </tr>\n",
       "    <tr>\n",
       "      <th>2</th>\n",
       "      <td>2</td>\n",
       "      <td>2016-04-03 14:14:31</td>\n",
       "      <td>4781627074</td>\n",
       "      <td>['Dom i Ogród', 'Budownictwo i Akcesoria', 'Śc...</td>\n",
       "      <td>1</td>\n",
       "      <td>1</td>\n",
       "      <td>otostyl_com</td>\n",
       "      <td>109.90</td>\n",
       "      <td>1</td>\n",
       "      <td>895</td>\n",
       "      <td>0</td>\n",
       "      <td>7389</td>\n",
       "      <td>Leszno</td>\n",
       "      <td>Dom i Ogród</td>\n",
       "    </tr>\n",
       "    <tr>\n",
       "      <th>3</th>\n",
       "      <td>3</td>\n",
       "      <td>2016-04-03 19:55:44</td>\n",
       "      <td>4783971474</td>\n",
       "      <td>['Książki i Komiksy', 'Poradniki i albumy', 'Z...</td>\n",
       "      <td>1</td>\n",
       "      <td>1</td>\n",
       "      <td>Matfel1</td>\n",
       "      <td>18.50</td>\n",
       "      <td>0</td>\n",
       "      <td>971</td>\n",
       "      <td>0</td>\n",
       "      <td>15006</td>\n",
       "      <td>Wola Krzysztoporska</td>\n",
       "      <td>Książki i Komiksy</td>\n",
       "    </tr>\n",
       "    <tr>\n",
       "      <th>4</th>\n",
       "      <td>4</td>\n",
       "      <td>2016-04-03 18:05:54</td>\n",
       "      <td>4787908274</td>\n",
       "      <td>['Odzież, Obuwie, Dodatki', 'Ślub i wesele', '...</td>\n",
       "      <td>1</td>\n",
       "      <td>1</td>\n",
       "      <td>PPHU_RICO</td>\n",
       "      <td>19.90</td>\n",
       "      <td>1</td>\n",
       "      <td>950</td>\n",
       "      <td>0</td>\n",
       "      <td>32975</td>\n",
       "      <td>BIAŁYSTOK</td>\n",
       "      <td>Odzież, Obuwie, Dodatki</td>\n",
       "    </tr>\n",
       "  </tbody>\n",
       "</table>\n",
       "</div>"
      ],
      "text/plain": [
       "   lp                 date     item_id  \\\n",
       "0   0  2016-04-03 21:21:08  4753602474   \n",
       "1   1  2016-04-03 15:35:26  4773181874   \n",
       "2   2  2016-04-03 14:14:31  4781627074   \n",
       "3   3  2016-04-03 19:55:44  4783971474   \n",
       "4   4  2016-04-03 18:05:54  4787908274   \n",
       "\n",
       "                                          categories  pay_option_on_delivery  \\\n",
       "0  ['Komputery', 'Dyski i napędy', 'Nośniki', 'No...                       1   \n",
       "1  ['Odzież, Obuwie, Dodatki', 'Bielizna damska',...                       1   \n",
       "2  ['Dom i Ogród', 'Budownictwo i Akcesoria', 'Śc...                       1   \n",
       "3  ['Książki i Komiksy', 'Poradniki i albumy', 'Z...                       1   \n",
       "4  ['Odzież, Obuwie, Dodatki', 'Ślub i wesele', '...                       1   \n",
       "\n",
       "   pay_option_transfer         seller   price  it_is_allegro_standard  \\\n",
       "0                    1    radzioch666   59.99                       1   \n",
       "1                    1  InwestycjeNET    4.90                       1   \n",
       "2                    1    otostyl_com  109.90                       1   \n",
       "3                    1        Matfel1   18.50                       0   \n",
       "4                    1      PPHU_RICO   19.90                       1   \n",
       "\n",
       "   it_quantity  it_is_brand_zone  it_seller_rating          it_location  \\\n",
       "0          997                 0             50177             Warszawa   \n",
       "1         9288                 0             12428             Warszawa   \n",
       "2          895                 0              7389               Leszno   \n",
       "3          971                 0             15006  Wola Krzysztoporska   \n",
       "4          950                 0             32975            BIAŁYSTOK   \n",
       "\n",
       "             main_category  \n",
       "0                Komputery  \n",
       "1  Odzież, Obuwie, Dodatki  \n",
       "2              Dom i Ogród  \n",
       "3        Książki i Komiksy  \n",
       "4  Odzież, Obuwie, Dodatki  "
      ]
     },
     "execution_count": 3,
     "metadata": {},
     "output_type": "execute_result"
    }
   ],
   "source": [
    "df = pd.read_csv('allegro-api-transactions.csv')\n",
    "df.head()"
   ]
  },
  {
   "cell_type": "markdown",
   "metadata": {},
   "source": [
    "### Podział na zbiór treningowy, testowy i walidacyjny"
   ]
  },
  {
   "cell_type": "code",
   "execution_count": 89,
   "metadata": {},
   "outputs": [],
   "source": [
    "#Wyróżnienie zbioru, na którym będziemy pracować i zbioru do walidacji\n",
    "X, X_valid = sklearn.model_selection.train_test_split(\n",
    "    df,\n",
    "    test_size=0.30, random_state=100)\n",
    "\n",
    "#Wyróżnienie zbioru treningowego i testowego\n",
    "X_train, X_test = sklearn.model_selection.train_test_split(\n",
    "    X,\n",
    "    test_size=0.30, random_state=100)"
   ]
  },
  {
   "cell_type": "markdown",
   "metadata": {},
   "source": [
    "#### Analiza braków danych"
   ]
  },
  {
   "cell_type": "code",
   "execution_count": 5,
   "metadata": {},
   "outputs": [
    {
     "name": "stdout",
     "output_type": "stream",
     "text": [
      "<class 'pandas.core.frame.DataFrame'>\n",
      "Int64Index: 205809 entries, 258810 to 414402\n",
      "Data columns (total 14 columns):\n",
      " #   Column                  Non-Null Count   Dtype  \n",
      "---  ------                  --------------   -----  \n",
      " 0   lp                      205809 non-null  int64  \n",
      " 1   date                    205809 non-null  object \n",
      " 2   item_id                 205809 non-null  int64  \n",
      " 3   categories              205809 non-null  object \n",
      " 4   pay_option_on_delivery  205809 non-null  int64  \n",
      " 5   pay_option_transfer     205809 non-null  int64  \n",
      " 6   seller                  205809 non-null  object \n",
      " 7   price                   205809 non-null  float64\n",
      " 8   it_is_allegro_standard  205809 non-null  int64  \n",
      " 9   it_quantity             205809 non-null  int64  \n",
      " 10  it_is_brand_zone        205809 non-null  int64  \n",
      " 11  it_seller_rating        205809 non-null  int64  \n",
      " 12  it_location             205809 non-null  object \n",
      " 13  main_category           205809 non-null  object \n",
      "dtypes: float64(1), int64(8), object(5)\n",
      "memory usage: 23.6+ MB\n"
     ]
    }
   ],
   "source": [
    "X_train.info()"
   ]
  },
  {
   "cell_type": "markdown",
   "metadata": {},
   "source": [
    "W ramce danych nie wystąpują wartości None/Null, więc nie będziemy musieli zajmować się uzupełnianiem brakujących wartości."
   ]
  },
  {
   "cell_type": "markdown",
   "metadata": {},
   "source": [
    "#### Rozkłady zmiennych\n",
    "Pomimo, że niektóre zmienne są typu *int* i *float*, to mogą to być zmienne dyskretne/kategoryczne. Sprawdźmy to zatem:"
   ]
  },
  {
   "cell_type": "code",
   "execution_count": 6,
   "metadata": {},
   "outputs": [
    {
     "data": {
      "image/png": "[encoded data removed]",
      "text/plain": [
       "<Figure size 1296x864 with 9 Axes>"
      ]
     },
     "metadata": {
      "needs_background": "light"
     },
     "output_type": "display_data"
    }
   ],
   "source": [
    "X_train.hist(figsize=(18, 12), bins=40)\n",
    "plt.show()"
   ]
  },
  {
   "cell_type": "markdown",
   "metadata": {},
   "source": [
    "Mimo, że z histogramu niektóre wielkości wyglądają na kategoryczne, lepiej upewnic się, korzystając ze zliczenia występujących wartości:"
   ]
  },
  {
   "cell_type": "code",
   "execution_count": 6,
   "metadata": {},
   "outputs": [
    {
     "data": {
      "text/plain": [
       "1    180652\n",
       "0     25157\n",
       "Name: pay_option_on_delivery, dtype: int64"
      ]
     },
     "execution_count": 6,
     "metadata": {},
     "output_type": "execute_result"
    }
   ],
   "source": [
    "X_train['pay_option_on_delivery'].value_counts()"
   ]
  },
  {
   "cell_type": "code",
   "execution_count": 7,
   "metadata": {},
   "outputs": [
    {
     "data": {
      "text/plain": [
       "1    167212\n",
       "0     38597\n",
       "Name: pay_option_transfer, dtype: int64"
      ]
     },
     "execution_count": 7,
     "metadata": {},
     "output_type": "execute_result"
    }
   ],
   "source": [
    "X_train['pay_option_transfer'].value_counts()"
   ]
  },
  {
   "cell_type": "code",
   "execution_count": 8,
   "metadata": {},
   "outputs": [
    {
     "data": {
      "text/plain": [
       "1    120044\n",
       "0     85765\n",
       "Name: it_is_allegro_standard, dtype: int64"
      ]
     },
     "execution_count": 8,
     "metadata": {},
     "output_type": "execute_result"
    }
   ],
   "source": [
    "X_train['it_is_allegro_standard'].value_counts()"
   ]
  },
  {
   "cell_type": "code",
   "execution_count": 9,
   "metadata": {},
   "outputs": [
    {
     "data": {
      "text/plain": [
       "0    202406\n",
       "1      3403\n",
       "Name: it_is_brand_zone, dtype: int64"
      ]
     },
     "execution_count": 9,
     "metadata": {},
     "output_type": "execute_result"
    }
   ],
   "source": [
    "X_train['it_is_brand_zone'].value_counts()"
   ]
  },
  {
   "cell_type": "code",
   "execution_count": 10,
   "metadata": {},
   "outputs": [
    {
     "data": {
      "text/plain": [
       "0        31216\n",
       "1         5532\n",
       "2         4191\n",
       "3         3554\n",
       "4         3345\n",
       "         ...  \n",
       "2882         1\n",
       "2905         1\n",
       "48642        1\n",
       "49997        1\n",
       "96822        1\n",
       "Name: it_quantity, Length: 6241, dtype: int64"
      ]
     },
     "execution_count": 10,
     "metadata": {},
     "output_type": "execute_result"
    }
   ],
   "source": [
    "X_train['it_quantity'].value_counts()"
   ]
  },
  {
   "cell_type": "markdown",
   "metadata": {},
   "source": [
    "Widać więc, że zmienne `pay_option_on_delivery`, `pay_option_transfer`, `it_is_allegro_standard`, `it_is_brand_zone` są kategoryczne z dwiema wartościami: 0 i 1. Natomiast zmienna `it_quantity` okazała się być ciągła."
   ]
  },
  {
   "cell_type": "markdown",
   "metadata": {},
   "source": [
    "### Zamiana zmiennych ciągłych na kategoryczne"
   ]
  },
  {
   "cell_type": "markdown",
   "metadata": {},
   "source": [
    "Zmienna `item_id` to numer identyfikujący konketną rzecz, który nie ma żadnego wpływu na nasza zmienną celu, dlatego można usunąć tę kolumnę. Podobnie kolumna `lp` jest identyfikatorem zamówienia i nie wnosi żadnej informacji. Do zmiany pozostają zatem tylko zmienne `it_quantity`,  `it_seller_rating` oraz `price`."
   ]
  },
  {
   "cell_type": "code",
   "execution_count": 90,
   "metadata": {},
   "outputs": [],
   "source": [
    "X_train.drop(['item_id', 'lp'],  axis=1, inplace = True)"
   ]
  },
  {
   "cell_type": "markdown",
   "metadata": {},
   "source": [
    "####  `it_quantity`"
   ]
  },
  {
   "cell_type": "code",
   "execution_count": 8,
   "metadata": {},
   "outputs": [
    {
     "data": {
      "image/png": "[encoded data removed]",
      "text/plain": [
       "<Figure size 1440x432 with 1 Axes>"
      ]
     },
     "metadata": {
      "needs_background": "light"
     },
     "output_type": "display_data"
    }
   ],
   "source": [
    "plt.figure(figsize=(20, 6))\n",
    "box_plot = sns.boxplot(X_train['it_quantity'])\n",
    "box_plot.set_title('Zmienna it_quantity')\n",
    "plt.show()"
   ]
  },
  {
   "cell_type": "code",
   "execution_count": 9,
   "metadata": {},
   "outputs": [
    {
     "data": {
      "text/plain": [
       "99999"
      ]
     },
     "execution_count": 9,
     "metadata": {},
     "output_type": "execute_result"
    }
   ],
   "source": [
    "X_train['it_quantity'].max()"
   ]
  },
  {
   "cell_type": "markdown",
   "metadata": {},
   "source": [
    "Jako, że zmienna `it_quantity` mówi nam o tym, ile egzemplarzy danego produktu ktoś kupił, możemy podzielić go na 5 kategorii, które odpowiadają kwintylom: "
   ]
  },
  {
   "cell_type": "code",
   "execution_count": 91,
   "metadata": {},
   "outputs": [],
   "source": [
    "X_train['it_quantity'] = pd.qcut(X_train['it_quantity'], 5, labels=[1, 2, 3, 4, 5])"
   ]
  },
  {
   "cell_type": "markdown",
   "metadata": {},
   "source": [
    "#### `it_seller_rating`"
   ]
  },
  {
   "cell_type": "code",
   "execution_count": 11,
   "metadata": {},
   "outputs": [
    {
     "data": {
      "text/plain": [
       "Text(0.5, 1.0, 'Zmienna it_seller_rating')"
      ]
     },
     "execution_count": 11,
     "metadata": {},
     "output_type": "execute_result"
    },
    {
     "data": {
      "image/png": "[encoded data removed]",
      "text/plain": [
       "<Figure size 1440x432 with 1 Axes>"
      ]
     },
     "metadata": {
      "needs_background": "light"
     },
     "output_type": "display_data"
    }
   ],
   "source": [
    "plt.figure(figsize=(20, 6))\n",
    "box_plot = sns.boxplot(X_train['it_seller_rating'])\n",
    "box_plot.set_title('Zmienna it_seller_rating')"
   ]
  },
  {
   "cell_type": "code",
   "execution_count": 12,
   "metadata": {},
   "outputs": [
    {
     "data": {
      "text/plain": [
       "count    205809.000000\n",
       "mean      20485.224801\n",
       "std       36916.108466\n",
       "min          -1.000000\n",
       "25%        1577.000000\n",
       "50%        6709.000000\n",
       "75%       21051.000000\n",
       "max      292074.000000\n",
       "Name: it_seller_rating, dtype: float64"
      ]
     },
     "execution_count": 12,
     "metadata": {},
     "output_type": "execute_result"
    }
   ],
   "source": [
    "X_train[\"it_seller_rating\"].describe()"
   ]
  },
  {
   "cell_type": "code",
   "execution_count": 13,
   "metadata": {},
   "outputs": [
    {
     "data": {
      "text/html": [
       "<div>\n",
       "<style scoped>\n",
       "    .dataframe tbody tr th:only-of-type {\n",
       "        vertical-align: middle;\n",
       "    }\n",
       "\n",
       "    .dataframe tbody tr th {\n",
       "        vertical-align: top;\n",
       "    }\n",
       "\n",
       "    .dataframe thead th {\n",
       "        text-align: right;\n",
       "    }\n",
       "</style>\n",
       "<table border=\"1\" class=\"dataframe\">\n",
       "  <thead>\n",
       "    <tr style=\"text-align: right;\">\n",
       "      <th></th>\n",
       "      <th>seller</th>\n",
       "      <th>it_seller_rating</th>\n",
       "    </tr>\n",
       "  </thead>\n",
       "  <tbody>\n",
       "    <tr>\n",
       "      <th>387776</th>\n",
       "      <td>ezebra_pl</td>\n",
       "      <td>95755</td>\n",
       "    </tr>\n",
       "    <tr>\n",
       "      <th>319097</th>\n",
       "      <td>ezebra_pl</td>\n",
       "      <td>95775</td>\n",
       "    </tr>\n",
       "    <tr>\n",
       "      <th>198298</th>\n",
       "      <td>ezebra_pl</td>\n",
       "      <td>95782</td>\n",
       "    </tr>\n",
       "    <tr>\n",
       "      <th>335130</th>\n",
       "      <td>ezebra_pl</td>\n",
       "      <td>95271</td>\n",
       "    </tr>\n",
       "    <tr>\n",
       "      <th>91461</th>\n",
       "      <td>ezebra_pl</td>\n",
       "      <td>94531</td>\n",
       "    </tr>\n",
       "    <tr>\n",
       "      <th>...</th>\n",
       "      <td>...</td>\n",
       "      <td>...</td>\n",
       "    </tr>\n",
       "    <tr>\n",
       "      <th>64397</th>\n",
       "      <td>ezebra_pl</td>\n",
       "      <td>95458</td>\n",
       "    </tr>\n",
       "    <tr>\n",
       "      <th>349837</th>\n",
       "      <td>ezebra_pl</td>\n",
       "      <td>95766</td>\n",
       "    </tr>\n",
       "    <tr>\n",
       "      <th>387729</th>\n",
       "      <td>ezebra_pl</td>\n",
       "      <td>95743</td>\n",
       "    </tr>\n",
       "    <tr>\n",
       "      <th>130334</th>\n",
       "      <td>ezebra_pl</td>\n",
       "      <td>95769</td>\n",
       "    </tr>\n",
       "    <tr>\n",
       "      <th>131297</th>\n",
       "      <td>ezebra_pl</td>\n",
       "      <td>95759</td>\n",
       "    </tr>\n",
       "  </tbody>\n",
       "</table>\n",
       "<p>561 rows × 2 columns</p>\n",
       "</div>"
      ],
      "text/plain": [
       "           seller  it_seller_rating\n",
       "387776  ezebra_pl             95755\n",
       "319097  ezebra_pl             95775\n",
       "198298  ezebra_pl             95782\n",
       "335130  ezebra_pl             95271\n",
       "91461   ezebra_pl             94531\n",
       "...           ...               ...\n",
       "64397   ezebra_pl             95458\n",
       "349837  ezebra_pl             95766\n",
       "387729  ezebra_pl             95743\n",
       "130334  ezebra_pl             95769\n",
       "131297  ezebra_pl             95759\n",
       "\n",
       "[561 rows x 2 columns]"
      ]
     },
     "execution_count": 13,
     "metadata": {},
     "output_type": "execute_result"
    }
   ],
   "source": [
    "X_train[X_train.seller == \"ezebra_pl\"][['seller', 'it_seller_rating']]"
   ]
  },
  {
   "cell_type": "markdown",
   "metadata": {},
   "source": [
    "Jako, że zmienna `it_seller_rating` mówi nam o ocenie sprzedającego. Jak widać na powyższej tabeli, dla jednego konretnego sprzedającego, rating nie zmienia się w ciągu dnia. Klienci oceniają sprzedawcę między transakcjami, ale ocena nie zmienia się drastycznie. "
   ]
  },
  {
   "cell_type": "code",
   "execution_count": 21,
   "metadata": {},
   "outputs": [
    {
     "data": {
      "text/html": [
       "<div>\n",
       "<style scoped>\n",
       "    .dataframe tbody tr th:only-of-type {\n",
       "        vertical-align: middle;\n",
       "    }\n",
       "\n",
       "    .dataframe tbody tr th {\n",
       "        vertical-align: top;\n",
       "    }\n",
       "\n",
       "    .dataframe thead th {\n",
       "        text-align: right;\n",
       "    }\n",
       "</style>\n",
       "<table border=\"1\" class=\"dataframe\">\n",
       "  <thead>\n",
       "    <tr style=\"text-align: right;\">\n",
       "      <th></th>\n",
       "      <th>date</th>\n",
       "      <th>categories</th>\n",
       "      <th>pay_option_on_delivery</th>\n",
       "      <th>pay_option_transfer</th>\n",
       "      <th>seller</th>\n",
       "      <th>price</th>\n",
       "      <th>it_is_allegro_standard</th>\n",
       "      <th>it_quantity</th>\n",
       "      <th>it_is_brand_zone</th>\n",
       "      <th>it_seller_rating</th>\n",
       "      <th>it_location</th>\n",
       "      <th>main_category</th>\n",
       "    </tr>\n",
       "  </thead>\n",
       "  <tbody>\n",
       "    <tr>\n",
       "      <th>258120</th>\n",
       "      <td>2016-04-03 16:24:32</td>\n",
       "      <td>['Odzież, Obuwie, Dodatki', 'Obuwie', 'Damskie...</td>\n",
       "      <td>1</td>\n",
       "      <td>0</td>\n",
       "      <td>Galaktykastylu16</td>\n",
       "      <td>86.99</td>\n",
       "      <td>0</td>\n",
       "      <td>1</td>\n",
       "      <td>0</td>\n",
       "      <td>-1</td>\n",
       "      <td>Wola Radziszowska</td>\n",
       "      <td>Odzież, Obuwie, Dodatki</td>\n",
       "    </tr>\n",
       "    <tr>\n",
       "      <th>258119</th>\n",
       "      <td>2016-04-03 23:51:10</td>\n",
       "      <td>['Odzież, Obuwie, Dodatki', 'Obuwie', 'Damskie...</td>\n",
       "      <td>1</td>\n",
       "      <td>0</td>\n",
       "      <td>Galaktykastylu16</td>\n",
       "      <td>86.99</td>\n",
       "      <td>0</td>\n",
       "      <td>1</td>\n",
       "      <td>0</td>\n",
       "      <td>-1</td>\n",
       "      <td>Wola Radziszowska</td>\n",
       "      <td>Odzież, Obuwie, Dodatki</td>\n",
       "    </tr>\n",
       "    <tr>\n",
       "      <th>69151</th>\n",
       "      <td>2016-04-03 19:26:59</td>\n",
       "      <td>['Motoryzacja', 'Opony', 'Opony dostawcze', 'L...</td>\n",
       "      <td>1</td>\n",
       "      <td>0</td>\n",
       "      <td>Grzesiek4423</td>\n",
       "      <td>400.00</td>\n",
       "      <td>0</td>\n",
       "      <td>1</td>\n",
       "      <td>0</td>\n",
       "      <td>-1</td>\n",
       "      <td>Choroszcz</td>\n",
       "      <td>Motoryzacja</td>\n",
       "    </tr>\n",
       "    <tr>\n",
       "      <th>79733</th>\n",
       "      <td>2016-04-03 20:33:47</td>\n",
       "      <td>['Gry', 'Gadżety', 'Pozostałe']</td>\n",
       "      <td>0</td>\n",
       "      <td>0</td>\n",
       "      <td>Kajman997</td>\n",
       "      <td>2.00</td>\n",
       "      <td>0</td>\n",
       "      <td>5</td>\n",
       "      <td>0</td>\n",
       "      <td>-1</td>\n",
       "      <td>Szczecinek</td>\n",
       "      <td>Gry</td>\n",
       "    </tr>\n",
       "  </tbody>\n",
       "</table>\n",
       "</div>"
      ],
      "text/plain": [
       "                       date  \\\n",
       "258120  2016-04-03 16:24:32   \n",
       "258119  2016-04-03 23:51:10   \n",
       "69151   2016-04-03 19:26:59   \n",
       "79733   2016-04-03 20:33:47   \n",
       "\n",
       "                                               categories  \\\n",
       "258120  ['Odzież, Obuwie, Dodatki', 'Obuwie', 'Damskie...   \n",
       "258119  ['Odzież, Obuwie, Dodatki', 'Obuwie', 'Damskie...   \n",
       "69151   ['Motoryzacja', 'Opony', 'Opony dostawcze', 'L...   \n",
       "79733                     ['Gry', 'Gadżety', 'Pozostałe']   \n",
       "\n",
       "        pay_option_on_delivery  pay_option_transfer            seller   price  \\\n",
       "258120                       1                    0  Galaktykastylu16   86.99   \n",
       "258119                       1                    0  Galaktykastylu16   86.99   \n",
       "69151                        1                    0      Grzesiek4423  400.00   \n",
       "79733                        0                    0         Kajman997    2.00   \n",
       "\n",
       "        it_is_allegro_standard it_quantity  it_is_brand_zone  \\\n",
       "258120                       0           1                 0   \n",
       "258119                       0           1                 0   \n",
       "69151                        0           1                 0   \n",
       "79733                        0           5                 0   \n",
       "\n",
       "        it_seller_rating         it_location            main_category  \n",
       "258120                -1  Wola Radziszowska   Odzież, Obuwie, Dodatki  \n",
       "258119                -1  Wola Radziszowska   Odzież, Obuwie, Dodatki  \n",
       "69151                 -1           Choroszcz              Motoryzacja  \n",
       "79733                 -1         Szczecinek                       Gry  "
      ]
     },
     "execution_count": 21,
     "metadata": {},
     "output_type": "execute_result"
    }
   ],
   "source": [
    "X_train[X_train.it_seller_rating < 0]"
   ]
  },
  {
   "cell_type": "markdown",
   "metadata": {},
   "source": [
    "Najpierw zauważamy, że niektóre rekordy mają wartość oceny ustawioną na -1, co można traktować jako brak oceny. Jako, że są to tylko 4 takie obserwacje, pozbędziemy się ich z zestawu. "
   ]
  },
  {
   "cell_type": "code",
   "execution_count": 92,
   "metadata": {},
   "outputs": [],
   "source": [
    "X_train = X_train[X_train.it_seller_rating != -1]"
   ]
  },
  {
   "cell_type": "markdown",
   "metadata": {},
   "source": [
    "Dane ciągłe z kolumny `it_seller_rating` możemy podzielić go na 5 kategorii, które odpowiadają kwintylom: "
   ]
  },
  {
   "cell_type": "code",
   "execution_count": 93,
   "metadata": {},
   "outputs": [],
   "source": [
    "X_train['it_seller_rating'] = pd.qcut(X_train['it_seller_rating'], 5, labels=[1, 2, 3, 4, 5])"
   ]
  },
  {
   "cell_type": "code",
   "execution_count": 25,
   "metadata": {},
   "outputs": [
    {
     "data": {
      "text/plain": [
       "3    41183\n",
       "2    41172\n",
       "1    41168\n",
       "5    41157\n",
       "4    41125\n",
       "Name: it_seller_rating, dtype: int64"
      ]
     },
     "execution_count": 25,
     "metadata": {},
     "output_type": "execute_result"
    }
   ],
   "source": [
    "X_train['it_seller_rating'].value_counts()"
   ]
  },
  {
   "cell_type": "markdown",
   "metadata": {},
   "source": [
    "#### `price`"
   ]
  },
  {
   "cell_type": "code",
   "execution_count": 27,
   "metadata": {},
   "outputs": [
    {
     "data": {
      "text/plain": [
       "Text(0.5, 1.0, 'Zmienna price')"
      ]
     },
     "execution_count": 27,
     "metadata": {},
     "output_type": "execute_result"
    },
    {
     "data": {
      "image/png": "[encoded data removed]",
      "text/plain": [
       "<Figure size 1440x432 with 1 Axes>"
      ]
     },
     "metadata": {
      "needs_background": "light"
     },
     "output_type": "display_data"
    }
   ],
   "source": [
    "plt.figure(figsize=(20, 6))\n",
    "box_plot = sns.boxplot(X_train['price'])\n",
    "box_plot.set_title('Zmienna price')"
   ]
  },
  {
   "cell_type": "markdown",
   "metadata": {},
   "source": [
    "Jeśli mamy podzielić zmienną *price* na 3 kategorie: cena wysoka, cena średnia oraz cena niska, to widać, że dane większe niż 10000 będą z pewnością zaliczać się do ostaniej grupy, ponieważ są to wartości odstające. "
   ]
  },
  {
   "cell_type": "code",
   "execution_count": 28,
   "metadata": {},
   "outputs": [
    {
     "data": {
      "text/plain": [
       "count    205805.000000\n",
       "mean         76.937907\n",
       "std         432.170195\n",
       "min           0.000000\n",
       "25%           9.000000\n",
       "50%          24.990000\n",
       "75%          68.000000\n",
       "max      119000.000000\n",
       "Name: price, dtype: float64"
      ]
     },
     "execution_count": 28,
     "metadata": {},
     "output_type": "execute_result"
    }
   ],
   "source": [
    "X_train['price'].describe()"
   ]
  },
  {
   "cell_type": "code",
   "execution_count": 29,
   "metadata": {},
   "outputs": [
    {
     "data": {
      "image/png": "[encoded data removed]",
      "text/plain": [
       "<Figure size 1440x432 with 1 Axes>"
      ]
     },
     "metadata": {
      "needs_background": "light"
     },
     "output_type": "display_data"
    }
   ],
   "source": [
    "plt.figure(figsize=(20, 6))\n",
    "tmp = X_train.loc[X_train['price'] < 400]\n",
    "box_plot = sns.boxplot(tmp['price'])"
   ]
  },
  {
   "cell_type": "code",
   "execution_count": 30,
   "metadata": {},
   "outputs": [
    {
     "data": {
      "text/plain": [
       "168.7"
      ]
     },
     "execution_count": 30,
     "metadata": {},
     "output_type": "execute_result"
    }
   ],
   "source": [
    "np.percentile(X_train['price'], 90)"
   ]
  },
  {
   "cell_type": "code",
   "execution_count": 31,
   "metadata": {},
   "outputs": [
    {
     "data": {
      "text/plain": [
       "35.0"
      ]
     },
     "execution_count": 31,
     "metadata": {},
     "output_type": "execute_result"
    }
   ],
   "source": [
    "np.percentile(X_train['price'], 60)"
   ]
  },
  {
   "cell_type": "markdown",
   "metadata": {},
   "source": [
    "Podział ceny zależy w dużej mierze od celu binzesowego naszego modelu. Bez określonego celu podział staje się kwestią subiektywną. My podzielimy zmienną ceny następująco:\n",
    "* 0-35 - produkty tanie\n",
    "* 35 - 150 - średnio drogie\n",
    "* \\> 150 - drogie"
   ]
  },
  {
   "cell_type": "code",
   "execution_count": 94,
   "metadata": {},
   "outputs": [],
   "source": [
    "tmp = pd.cut(X_train['price'], bins=[0, 35, 150, np.inf], labels=[1, 2, 3])"
   ]
  },
  {
   "cell_type": "code",
   "execution_count": 27,
   "metadata": {},
   "outputs": [
    {
     "data": {
      "text/plain": [
       "206090    NaN\n",
       "247789    NaN\n",
       "127751    NaN\n",
       "58547     NaN\n",
       "8433      NaN\n",
       "336570    NaN\n",
       "224534    NaN\n",
       "328635    NaN\n",
       "182919    NaN\n",
       "45669     NaN\n",
       "201684    NaN\n",
       "346869    NaN\n",
       "12741     NaN\n",
       "320207    NaN\n",
       "417758    NaN\n",
       "379219    NaN\n",
       "Name: price, dtype: category\n",
       "Categories (3, int64): [1 < 2 < 3]"
      ]
     },
     "execution_count": 27,
     "metadata": {},
     "output_type": "execute_result"
    }
   ],
   "source": [
    "# sprawdzamy czy przy takim podziale wstąpią jakieś braki dnaych\n",
    "tmp[tmp.isna()]"
   ]
  },
  {
   "cell_type": "code",
   "execution_count": 28,
   "metadata": {},
   "outputs": [
    {
     "data": {
      "text/plain": [
       "0.0"
      ]
     },
     "execution_count": 28,
     "metadata": {},
     "output_type": "execute_result"
    }
   ],
   "source": [
    "#sprawdzamy dlaczego wystapiły\n",
    "X_train.loc[379219, 'price']"
   ]
  },
  {
   "cell_type": "markdown",
   "metadata": {},
   "source": [
    "Nie wiadomo jak interpretować cenę wynoszącą 0, zatem ze względu na to, że wartości tych jest stosunkowo niewiele lepiej je usunąć."
   ]
  },
  {
   "cell_type": "code",
   "execution_count": 95,
   "metadata": {},
   "outputs": [],
   "source": [
    "X_train = X_train[X_train.price != 0]"
   ]
  },
  {
   "cell_type": "code",
   "execution_count": 96,
   "metadata": {},
   "outputs": [],
   "source": [
    "X_train['price'] = pd.cut(X_train['price'], bins=[0, 35, 150, np.inf], labels=[1, 2, 3])"
   ]
  },
  {
   "cell_type": "markdown",
   "metadata": {},
   "source": [
    "### Kodowanie zmiennych kategorycznych"
   ]
  },
  {
   "cell_type": "markdown",
   "metadata": {},
   "source": [
    "Jak wynika już z wcześniejszej analizy, zmienne `pay_option_on_delievery`, `pay_option_delievry`, `it_is_allegro_standar`, `it_is_brand_zone` są kategoryczne. Przyjrzyjmy się innym zmiennym."
   ]
  },
  {
   "cell_type": "markdown",
   "metadata": {},
   "source": [
    "Na pierwszy rzut oka wydaje się, że zmienne `categories` i `main_category` niosą podobną informację. "
   ]
  },
  {
   "cell_type": "code",
   "execution_count": 64,
   "metadata": {
    "scrolled": false
   },
   "outputs": [
    {
     "data": {
      "text/plain": [
       "Dom i Ogród                            44689\n",
       "Odzież, Obuwie, Dodatki                26746\n",
       "Motoryzacja                            22369\n",
       "Dla Dzieci                             20506\n",
       "Uroda                                  13775\n",
       "Sport i Turystyka                      13496\n",
       "RTV i AGD                               9926\n",
       "Telefony i Akcesoria                    9725\n",
       "Komputery                               7103\n",
       "Zdrowie                                 6489\n",
       "Książki i Komiksy                       5708\n",
       "Delikatesy                              3902\n",
       "Gry                                     3526\n",
       "Rękodzieło                              3246\n",
       "Kolekcje                                3008\n",
       "Przemysł                                2909\n",
       "Biżuteria i Zegarki                     2829\n",
       "Biuro i Reklama                         1575\n",
       "Fotografia                              1163\n",
       "Muzyka                                   941\n",
       "Antyki i Sztuka                          563\n",
       "Konsole i automaty                       525\n",
       "Filmy                                    519\n",
       "Instrumenty                              292\n",
       "Sprzęt estradowy, studyjny i DJ-ski      200\n",
       "Bilety                                    58\n",
       "Nieruchomości                              1\n",
       "Name: main_category, dtype: int64"
      ]
     },
     "execution_count": 64,
     "metadata": {},
     "output_type": "execute_result"
    }
   ],
   "source": [
    "X_train['main_category'].value_counts()"
   ]
  },
  {
   "cell_type": "code",
   "execution_count": 39,
   "metadata": {},
   "outputs": [
    {
     "data": {
      "text/plain": [
       "['Motoryzacja', 'Opony', 'Opony samochodowe', 'Letnie']                                                                        1224\n",
       "['Motoryzacja', 'Części samochodowe', 'Oświetlenie', 'Żarówki']                                                                 561\n",
       "['Motoryzacja', 'Akcesoria samochodowe', 'Dywaniki', 'Dywaniki gumowe']                                                         249\n",
       "['Motoryzacja', 'Akcesoria samochodowe', 'Dywaniki', 'Dywaniki welurowe']                                                       248\n",
       "['Motoryzacja', 'Chemia', 'Oleje silnikowe', 'Syntetyczne']                                                                     202\n",
       "                                                                                                                               ... \n",
       "['Motoryzacja', 'Części samochodowe', 'Układ elektryczny, zapłon', 'Wyposażenie elektryczne', 'Silniczki regulacji fotela']       1\n",
       "['Motoryzacja', 'Narzędzia i sprzęt warsztatowy', 'Sprzęt warsztatowy', 'Meble warsztatowe', 'Taborety']                          1\n",
       "['Motoryzacja', 'Chemia', 'Środki do napraw i zabezpieczania', 'Czyszczenie części', 'Czyszczenie hamulców']                      1\n",
       "['Motoryzacja', 'Chemia', 'Mycie i pielęgnacja', 'Felgi i opony', 'Pozostałe']                                                    1\n",
       "['Motoryzacja', 'Samochody', 'Osobowe', 'Audi', 'A6', 'C5 (1997-2004)']                                                           1\n",
       "Name: categories, Length: 1059, dtype: int64"
      ]
     },
     "execution_count": 39,
     "metadata": {},
     "output_type": "execute_result"
    }
   ],
   "source": [
    "X_train.loc[X_train.main_category == \"Motoryzacja\"]['categories'].value_counts()"
   ]
  },
  {
   "cell_type": "markdown",
   "metadata": {},
   "source": [
    "Okazuje się, że zmienna `categories` jest rozszerzeniem zmiennej `main_category`. Wydaje się, więc że ze względu na duże rozdrobnienie lepiej będzie usunąć zmienną `categories` i pozostawić bardziej ogólną zmienną. "
   ]
  },
  {
   "cell_type": "code",
   "execution_count": 97,
   "metadata": {},
   "outputs": [],
   "source": [
    "X_train.drop('categories', axis = 1, inplace = True)"
   ]
  },
  {
   "cell_type": "markdown",
   "metadata": {},
   "source": [
    "Dodatkowo, można popracować nad redukcją różnych kategorii w zmiennej `main_category`. Wydaje się, że niektóre kategorie dotyczą podobnych produktów, dzięki czemu możliwe jest ich scalenie. \n",
    "* Na początek do grupy 'RTV i AGD' dodamy też grupy 'telefony i akcesoria', 'Komputery', 'Konsole i automaty' i 'Sprzęt estradowy, studyjny i DJ-ski'.\n",
    "* Kategorie 'Książki i komiksy', 'Gry', 'Rękodzieło', 'Kolekcje', 'Fotografia', 'Muzyka', 'Antyki i Sztuka', 'Filmy', 'Instrumenty' połączymy w jedną kategorię 'Rozrywka i sztuka'.\n",
    "* Kategorię 'Biżuteria i `zegarki' dołączymy do kategorii 'Odzież, obuwie, dodatki'.\n",
    "* Kategorię 'Uroda' i 'Zdrowie' połączymy w kategorię 'Uroda i zdrowie'\n",
    "* Kategorie 'Delikatesy', 'Przemysł', 'Biuro i Reklama', 'Bilety' i 'Nieruchomości' połączymy w grupę \"Przemysł i usługi\""
   ]
  },
  {
   "cell_type": "code",
   "execution_count": 98,
   "metadata": {},
   "outputs": [],
   "source": [
    "rtv = ['Komputery', 'Telefony i Akcesoria', 'Konsole i automaty', 'Sprzęt estradowy, studyjny i DJ-ski']\n",
    "art = ['Książki i Komiksy', 'Gry', 'Rękodzieło', 'Kolekcje', 'Fotografia', 'Muzyka', 'Antyki i Sztuka', 'Filmy', 'Instrumenty']\n",
    "ind = ['Delikatesy', 'Przemysł', 'Biuro i Reklama', 'Bilety', 'Nieruchomości']\n",
    "\n",
    "X_train['main_category'] = X_train['main_category'].replace(rtv, 'RTV i AGD')\n",
    "X_train['main_category'] = X_train['main_category'].replace(art,'Sztuka i Rozrywka')\n",
    "X_train['main_category'] = X_train['main_category'].replace('Biżuteria i Zegarki','Odzież, Obuwie, Dodatki')\n",
    "X_train['main_category'] = X_train['main_category'].replace(['Uroda', \"Zdrowie\"],'Uroda i Zdrowie')\n",
    "X_train['main_category'] = X_train['main_category'].replace(ind,'Przemysł i usługi')"
   ]
  },
  {
   "cell_type": "code",
   "execution_count": 42,
   "metadata": {
    "scrolled": true
   },
   "outputs": [
    {
     "data": {
      "text/plain": [
       "Dom i Ogród                44689\n",
       "Odzież, Obuwie, Dodatki    29575\n",
       "RTV i AGD                  27479\n",
       "Motoryzacja                22369\n",
       "Dla Dzieci                 20506\n",
       "Uroda i Zdrowie            20264\n",
       "Sztuka i Rozrywka          18966\n",
       "Sport i Turystyka          13496\n",
       "Przemysł i usługi           8445\n",
       "Name: main_category, dtype: int64"
      ]
     },
     "execution_count": 42,
     "metadata": {},
     "output_type": "execute_result"
    }
   ],
   "source": [
    "X_train['main_category'].value_counts()"
   ]
  },
  {
   "cell_type": "markdown",
   "metadata": {},
   "source": [
    "#### `date`"
   ]
  },
  {
   "cell_type": "markdown",
   "metadata": {},
   "source": [
    "Dane w naszej ramce pochodzą z jednego konretnego dnia, 3 kwietnia 2016 roku. Dlatego wydaje się, że można ze zmiennej `date` wyciągnąć informacje o godzinie i umieścić w zmiennej 'time' informującej o godzinie dokonania zakupu. Następnie można pogrupować uczynić zmienną 'type' kategoryczną dzieląc na 4 grupy:\n",
    "\n",
    "* 0:00 - 6:00 - 1 jako 'noc'\n",
    "* 6:00 - 12:00 - 2  jako 'ranek'\n",
    "* 12:00 - 18:00 - 3 jako 'popołudnie'\n",
    "* 18:00 - 24:00 - 4 jako 'wieczór'\n",
    "\n",
    "Dodatkowo można pozbyć się kolumny 'date'."
   ]
  },
  {
   "cell_type": "code",
   "execution_count": 99,
   "metadata": {},
   "outputs": [],
   "source": [
    "X_train['date'] = pd.to_datetime(X_train['date'])\n",
    "X_train['time'] = X_train['date'].apply(lambda x:x.time())\n",
    "X_train['time'] = X_train['time'].apply(lambda x:x.hour)\n",
    "X_train['time'] = pd.cut(X_train['time'], bins=[-1, 5, 11, 17, 24], labels=[1, 2, 3, 4])\n",
    "X_train.drop('date', axis = 1, inplace = True)"
   ]
  },
  {
   "cell_type": "markdown",
   "metadata": {},
   "source": [
    "#### `location`"
   ]
  },
  {
   "cell_type": "markdown",
   "metadata": {},
   "source": [
    "Ze względu na dużą ilość rekordów zliczymy wystąpienia danych lokalizacji i wybierzemy te występujące najczęściej. "
   ]
  },
  {
   "cell_type": "code",
   "execution_count": 68,
   "metadata": {},
   "outputs": [
    {
     "data": {
      "text/html": [
       "<div>\n",
       "<style scoped>\n",
       "    .dataframe tbody tr th:only-of-type {\n",
       "        vertical-align: middle;\n",
       "    }\n",
       "\n",
       "    .dataframe tbody tr th {\n",
       "        vertical-align: top;\n",
       "    }\n",
       "\n",
       "    .dataframe thead th {\n",
       "        text-align: right;\n",
       "    }\n",
       "</style>\n",
       "<table border=\"1\" class=\"dataframe\">\n",
       "  <thead>\n",
       "    <tr style=\"text-align: right;\">\n",
       "      <th></th>\n",
       "      <th>it_location</th>\n",
       "      <th>counts</th>\n",
       "    </tr>\n",
       "  </thead>\n",
       "  <tbody>\n",
       "    <tr>\n",
       "      <th>5898</th>\n",
       "      <td>Warszawa</td>\n",
       "      <td>11226</td>\n",
       "    </tr>\n",
       "    <tr>\n",
       "      <th>2527</th>\n",
       "      <td>Kraków</td>\n",
       "      <td>7514</td>\n",
       "    </tr>\n",
       "    <tr>\n",
       "      <th>7670</th>\n",
       "      <td>Łódź</td>\n",
       "      <td>5358</td>\n",
       "    </tr>\n",
       "    <tr>\n",
       "      <th>4205</th>\n",
       "      <td>Poznań</td>\n",
       "      <td>5174</td>\n",
       "    </tr>\n",
       "    <tr>\n",
       "      <th>6237</th>\n",
       "      <td>Wrocław</td>\n",
       "      <td>4244</td>\n",
       "    </tr>\n",
       "    <tr>\n",
       "      <th>367</th>\n",
       "      <td>Białystok</td>\n",
       "      <td>3584</td>\n",
       "    </tr>\n",
       "    <tr>\n",
       "      <th>2916</th>\n",
       "      <td>Lublin</td>\n",
       "      <td>3224</td>\n",
       "    </tr>\n",
       "    <tr>\n",
       "      <th>4713</th>\n",
       "      <td>Rzeszów</td>\n",
       "      <td>2936</td>\n",
       "    </tr>\n",
       "    <tr>\n",
       "      <th>2299</th>\n",
       "      <td>Kielce</td>\n",
       "      <td>2827</td>\n",
       "    </tr>\n",
       "    <tr>\n",
       "      <th>995</th>\n",
       "      <td>Częstochowa</td>\n",
       "      <td>2762</td>\n",
       "    </tr>\n",
       "    <tr>\n",
       "      <th>1783</th>\n",
       "      <td>Internet</td>\n",
       "      <td>2281</td>\n",
       "    </tr>\n",
       "    <tr>\n",
       "      <th>1757</th>\n",
       "      <td>INTERNET</td>\n",
       "      <td>1974</td>\n",
       "    </tr>\n",
       "    <tr>\n",
       "      <th>1407</th>\n",
       "      <td>Gdańsk</td>\n",
       "      <td>1963</td>\n",
       "    </tr>\n",
       "    <tr>\n",
       "      <th>5354</th>\n",
       "      <td>Szczecin</td>\n",
       "      <td>1957</td>\n",
       "    </tr>\n",
       "    <tr>\n",
       "      <th>641</th>\n",
       "      <td>Bydgoszcz</td>\n",
       "      <td>1819</td>\n",
       "    </tr>\n",
       "    <tr>\n",
       "      <th>2247</th>\n",
       "      <td>Katowice</td>\n",
       "      <td>1805</td>\n",
       "    </tr>\n",
       "    <tr>\n",
       "      <th>2465</th>\n",
       "      <td>Koszalin</td>\n",
       "      <td>1634</td>\n",
       "    </tr>\n",
       "    <tr>\n",
       "      <th>6608</th>\n",
       "      <td>Zielona Góra</td>\n",
       "      <td>1519</td>\n",
       "    </tr>\n",
       "    <tr>\n",
       "      <th>1424</th>\n",
       "      <td>Gdynia</td>\n",
       "      <td>1391</td>\n",
       "    </tr>\n",
       "    <tr>\n",
       "      <th>5741</th>\n",
       "      <td>WARSZAWA</td>\n",
       "      <td>1285</td>\n",
       "    </tr>\n",
       "    <tr>\n",
       "      <th>6854</th>\n",
       "      <td>internet</td>\n",
       "      <td>1240</td>\n",
       "    </tr>\n",
       "    <tr>\n",
       "      <th>1235</th>\n",
       "      <td>Dębica</td>\n",
       "      <td>1152</td>\n",
       "    </tr>\n",
       "    <tr>\n",
       "      <th>773</th>\n",
       "      <td>Cała Polska</td>\n",
       "      <td>1100</td>\n",
       "    </tr>\n",
       "    <tr>\n",
       "      <th>428</th>\n",
       "      <td>Bielsko-Biała</td>\n",
       "      <td>1088</td>\n",
       "    </tr>\n",
       "    <tr>\n",
       "      <th>4167</th>\n",
       "      <td>Polska</td>\n",
       "      <td>1074</td>\n",
       "    </tr>\n",
       "    <tr>\n",
       "      <th>4492</th>\n",
       "      <td>Radom</td>\n",
       "      <td>1044</td>\n",
       "    </tr>\n",
       "  </tbody>\n",
       "</table>\n",
       "</div>"
      ],
      "text/plain": [
       "        it_location  counts\n",
       "5898       Warszawa   11226\n",
       "2527         Kraków    7514\n",
       "7670           Łódź    5358\n",
       "4205         Poznań    5174\n",
       "6237        Wrocław    4244\n",
       "367       Białystok    3584\n",
       "2916         Lublin    3224\n",
       "4713        Rzeszów    2936\n",
       "2299         Kielce    2827\n",
       "995     Częstochowa    2762\n",
       "1783       Internet    2281\n",
       "1757       INTERNET    1974\n",
       "1407         Gdańsk    1963\n",
       "5354       Szczecin    1957\n",
       "641       Bydgoszcz    1819\n",
       "2247       Katowice    1805\n",
       "2465       Koszalin    1634\n",
       "6608   Zielona Góra    1519\n",
       "1424         Gdynia    1391\n",
       "5741       WARSZAWA    1285\n",
       "6854       internet    1240\n",
       "1235         Dębica    1152\n",
       "773     Cała Polska    1100\n",
       "428   Bielsko-Biała    1088\n",
       "4167         Polska    1074\n",
       "4492          Radom    1044"
      ]
     },
     "execution_count": 68,
     "metadata": {},
     "output_type": "execute_result"
    }
   ],
   "source": [
    "tmp = X_train.groupby(['it_location']).size().reset_index(name='counts').sort_values(by = 'counts', ascending=False)\n",
    "tmp[tmp.counts > 1000]"
   ]
  },
  {
   "cell_type": "markdown",
   "metadata": {},
   "source": [
    "Widać, że znaczenie ma wielkość liter, więc dla ujednolicenia zamienimy wszytstkie litery na duże i usuniemy polskie znaki.\n"
   ]
  },
  {
   "cell_type": "code",
   "execution_count": 100,
   "metadata": {},
   "outputs": [],
   "source": [
    "X_train['it_location'] = X_train['it_location'].str.upper()\n",
    "X_train['it_location'] = X_train['it_location'].apply(unidecode)"
   ]
  },
  {
   "cell_type": "code",
   "execution_count": 101,
   "metadata": {},
   "outputs": [
    {
     "data": {
      "text/html": [
       "<div>\n",
       "<style scoped>\n",
       "    .dataframe tbody tr th:only-of-type {\n",
       "        vertical-align: middle;\n",
       "    }\n",
       "\n",
       "    .dataframe tbody tr th {\n",
       "        vertical-align: top;\n",
       "    }\n",
       "\n",
       "    .dataframe thead th {\n",
       "        text-align: right;\n",
       "    }\n",
       "</style>\n",
       "<table border=\"1\" class=\"dataframe\">\n",
       "  <thead>\n",
       "    <tr style=\"text-align: right;\">\n",
       "      <th></th>\n",
       "      <th>it_location</th>\n",
       "      <th>counts</th>\n",
       "    </tr>\n",
       "  </thead>\n",
       "  <tbody>\n",
       "    <tr>\n",
       "      <th>5125</th>\n",
       "      <td>WARSZAWA</td>\n",
       "      <td>13057</td>\n",
       "    </tr>\n",
       "    <tr>\n",
       "      <th>2109</th>\n",
       "      <td>KRAKOW</td>\n",
       "      <td>8450</td>\n",
       "    </tr>\n",
       "    <tr>\n",
       "      <th>2489</th>\n",
       "      <td>LODZ</td>\n",
       "      <td>6348</td>\n",
       "    </tr>\n",
       "    <tr>\n",
       "      <th>3704</th>\n",
       "      <td>POZNAN</td>\n",
       "      <td>5650</td>\n",
       "    </tr>\n",
       "    <tr>\n",
       "      <th>1493</th>\n",
       "      <td>INTERNET</td>\n",
       "      <td>5496</td>\n",
       "    </tr>\n",
       "    <tr>\n",
       "      <th>5530</th>\n",
       "      <td>WROCLAW</td>\n",
       "      <td>4941</td>\n",
       "    </tr>\n",
       "    <tr>\n",
       "      <th>256</th>\n",
       "      <td>BIALYSTOK</td>\n",
       "      <td>4792</td>\n",
       "    </tr>\n",
       "    <tr>\n",
       "      <th>2611</th>\n",
       "      <td>LUBLIN</td>\n",
       "      <td>3575</td>\n",
       "    </tr>\n",
       "    <tr>\n",
       "      <th>4151</th>\n",
       "      <td>RZESZOW</td>\n",
       "      <td>3386</td>\n",
       "    </tr>\n",
       "    <tr>\n",
       "      <th>1844</th>\n",
       "      <td>KIELCE</td>\n",
       "      <td>3154</td>\n",
       "    </tr>\n",
       "    <tr>\n",
       "      <th>824</th>\n",
       "      <td>CZESTOCHOWA</td>\n",
       "      <td>3030</td>\n",
       "    </tr>\n",
       "    <tr>\n",
       "      <th>1134</th>\n",
       "      <td>GDANSK</td>\n",
       "      <td>2366</td>\n",
       "    </tr>\n",
       "    <tr>\n",
       "      <th>4770</th>\n",
       "      <td>SZCZECIN</td>\n",
       "      <td>2256</td>\n",
       "    </tr>\n",
       "    <tr>\n",
       "      <th>1767</th>\n",
       "      <td>KATOWICE</td>\n",
       "      <td>2071</td>\n",
       "    </tr>\n",
       "    <tr>\n",
       "      <th>559</th>\n",
       "      <td>BYDGOSZCZ</td>\n",
       "      <td>2041</td>\n",
       "    </tr>\n",
       "    <tr>\n",
       "      <th>2054</th>\n",
       "      <td>KOSZALIN</td>\n",
       "      <td>1854</td>\n",
       "    </tr>\n",
       "    <tr>\n",
       "      <th>5888</th>\n",
       "      <td>ZIELONA GORA</td>\n",
       "      <td>1758</td>\n",
       "    </tr>\n",
       "    <tr>\n",
       "      <th>3654</th>\n",
       "      <td>POLSKA</td>\n",
       "      <td>1702</td>\n",
       "    </tr>\n",
       "    <tr>\n",
       "      <th>1158</th>\n",
       "      <td>GDYNIA</td>\n",
       "      <td>1556</td>\n",
       "    </tr>\n",
       "    <tr>\n",
       "      <th>4489</th>\n",
       "      <td>SPRZEDAZ WYSYLKOWA</td>\n",
       "      <td>1403</td>\n",
       "    </tr>\n",
       "    <tr>\n",
       "      <th>594</th>\n",
       "      <td>CALA POLSKA</td>\n",
       "      <td>1378</td>\n",
       "    </tr>\n",
       "    <tr>\n",
       "      <th>322</th>\n",
       "      <td>BIELSKO-BIALA</td>\n",
       "      <td>1334</td>\n",
       "    </tr>\n",
       "    <tr>\n",
       "      <th>3910</th>\n",
       "      <td>RADOM</td>\n",
       "      <td>1203</td>\n",
       "    </tr>\n",
       "    <tr>\n",
       "      <th>891</th>\n",
       "      <td>DEBICA</td>\n",
       "      <td>1193</td>\n",
       "    </tr>\n",
       "    <tr>\n",
       "      <th>4921</th>\n",
       "      <td>TORUN</td>\n",
       "      <td>1030</td>\n",
       "    </tr>\n",
       "  </tbody>\n",
       "</table>\n",
       "</div>"
      ],
      "text/plain": [
       "             it_location  counts\n",
       "5125            WARSZAWA   13057\n",
       "2109              KRAKOW    8450\n",
       "2489                LODZ    6348\n",
       "3704              POZNAN    5650\n",
       "1493            INTERNET    5496\n",
       "5530             WROCLAW    4941\n",
       "256            BIALYSTOK    4792\n",
       "2611              LUBLIN    3575\n",
       "4151             RZESZOW    3386\n",
       "1844              KIELCE    3154\n",
       "824          CZESTOCHOWA    3030\n",
       "1134              GDANSK    2366\n",
       "4770            SZCZECIN    2256\n",
       "1767            KATOWICE    2071\n",
       "559            BYDGOSZCZ    2041\n",
       "2054            KOSZALIN    1854\n",
       "5888        ZIELONA GORA    1758\n",
       "3654              POLSKA    1702\n",
       "1158              GDYNIA    1556\n",
       "4489  SPRZEDAZ WYSYLKOWA    1403\n",
       "594          CALA POLSKA    1378\n",
       "322        BIELSKO-BIALA    1334\n",
       "3910               RADOM    1203\n",
       "891               DEBICA    1193\n",
       "4921               TORUN    1030"
      ]
     },
     "execution_count": 101,
     "metadata": {},
     "output_type": "execute_result"
    }
   ],
   "source": [
    "tmp = X_train.groupby(['it_location']).size().reset_index(name='counts').sort_values(by = 'counts', ascending=False)\n",
    "tmp[tmp.counts > 1000]"
   ]
  },
  {
   "cell_type": "markdown",
   "metadata": {},
   "source": [
    "Widać, że w powyższej tabeli miejsca oznaczone jako **INTERNET**, **SPRZEDAZ WYSYLKOWA**, **CALA POLSKA**, **POLSKA** mogą być potraktowane jako jedna kategoria, którą nazwiemy **WYSYLKA**. Wszystkie pozostałe lokalizaje oznaczymy jako **OTHERS**."
   ]
  },
  {
   "cell_type": "code",
   "execution_count": 102,
   "metadata": {},
   "outputs": [],
   "source": [
    "X_train['it_location'] = X_train['it_location'].replace(['INTERNET', 'SPRZEDAZ WYSYLKOWA', 'CALA POLSKA', 'POLSKA'],'WYSYLKA')"
   ]
  },
  {
   "cell_type": "code",
   "execution_count": 103,
   "metadata": {},
   "outputs": [],
   "source": [
    "others = X_train['it_location'].value_counts()[X_train['it_location'].value_counts() < 1000].index\n",
    "X_train['it_location'] = np.where(X_train['it_location'].isin(others), 'OTHERS', X_train['it_location'])"
   ]
  },
  {
   "cell_type": "markdown",
   "metadata": {},
   "source": [
    "#### `seller`\n",
    "\n",
    "Każdy sklep ma wstawioną oceną, którą już skategoryzowaliśmy, dlatego nazwa sklepu już nic nie wnosi, dlatego ją usuwamy."
   ]
  },
  {
   "cell_type": "code",
   "execution_count": 104,
   "metadata": {},
   "outputs": [],
   "source": [
    "X_train.drop('seller', inplace = True, axis = 1)"
   ]
  },
  {
   "cell_type": "markdown",
   "metadata": {},
   "source": [
    "### Zamiana zmiennych na numeryczne\n",
    "Na koniec, aby w ramce mieć jedynie zmienne numeryczne, użyjemy `LabelEncoder` oraz one-hot-encoding, aby zakodować dzieki temu pozostałe zmienne tesktowe."
   ]
  },
  {
   "cell_type": "code",
   "execution_count": 105,
   "metadata": {},
   "outputs": [
    {
     "data": {
      "text/plain": [
       "(205789, 9)"
      ]
     },
     "execution_count": 105,
     "metadata": {},
     "output_type": "execute_result"
    }
   ],
   "source": [
    "cat_df = pd.get_dummies(X_train['main_category'], prefix='cat_')\n",
    "cat_df.shape"
   ]
  },
  {
   "cell_type": "code",
   "execution_count": 106,
   "metadata": {},
   "outputs": [
    {
     "data": {
      "text/plain": [
       "(205789, 10)"
      ]
     },
     "execution_count": 106,
     "metadata": {},
     "output_type": "execute_result"
    }
   ],
   "source": [
    "X_train.shape"
   ]
  },
  {
   "cell_type": "code",
   "execution_count": 107,
   "metadata": {},
   "outputs": [
    {
     "data": {
      "text/html": [
       "<div>\n",
       "<style scoped>\n",
       "    .dataframe tbody tr th:only-of-type {\n",
       "        vertical-align: middle;\n",
       "    }\n",
       "\n",
       "    .dataframe tbody tr th {\n",
       "        vertical-align: top;\n",
       "    }\n",
       "\n",
       "    .dataframe thead th {\n",
       "        text-align: right;\n",
       "    }\n",
       "</style>\n",
       "<table border=\"1\" class=\"dataframe\">\n",
       "  <thead>\n",
       "    <tr style=\"text-align: right;\">\n",
       "      <th></th>\n",
       "      <th>pay_option_on_delivery</th>\n",
       "      <th>pay_option_transfer</th>\n",
       "      <th>price</th>\n",
       "      <th>it_is_allegro_standard</th>\n",
       "      <th>it_quantity</th>\n",
       "      <th>it_is_brand_zone</th>\n",
       "      <th>it_seller_rating</th>\n",
       "      <th>it_location</th>\n",
       "      <th>main_category</th>\n",
       "      <th>time</th>\n",
       "      <th>cat__Dla Dzieci</th>\n",
       "      <th>cat__Dom i Ogród</th>\n",
       "      <th>cat__Motoryzacja</th>\n",
       "      <th>cat__Odzież, Obuwie, Dodatki</th>\n",
       "      <th>cat__Przemysł i usługi</th>\n",
       "      <th>cat__RTV i AGD</th>\n",
       "      <th>cat__Sport i Turystyka</th>\n",
       "      <th>cat__Sztuka i Rozrywka</th>\n",
       "      <th>cat__Uroda i Zdrowie</th>\n",
       "    </tr>\n",
       "  </thead>\n",
       "  <tbody>\n",
       "    <tr>\n",
       "      <th>258810</th>\n",
       "      <td>1</td>\n",
       "      <td>1</td>\n",
       "      <td>2</td>\n",
       "      <td>1</td>\n",
       "      <td>1</td>\n",
       "      <td>0</td>\n",
       "      <td>1</td>\n",
       "      <td>OTHERS</td>\n",
       "      <td>Motoryzacja</td>\n",
       "      <td>4</td>\n",
       "      <td>0</td>\n",
       "      <td>0</td>\n",
       "      <td>1</td>\n",
       "      <td>0</td>\n",
       "      <td>0</td>\n",
       "      <td>0</td>\n",
       "      <td>0</td>\n",
       "      <td>0</td>\n",
       "      <td>0</td>\n",
       "    </tr>\n",
       "    <tr>\n",
       "      <th>365240</th>\n",
       "      <td>1</td>\n",
       "      <td>1</td>\n",
       "      <td>1</td>\n",
       "      <td>1</td>\n",
       "      <td>3</td>\n",
       "      <td>0</td>\n",
       "      <td>5</td>\n",
       "      <td>OTHERS</td>\n",
       "      <td>Dom i Ogród</td>\n",
       "      <td>2</td>\n",
       "      <td>0</td>\n",
       "      <td>1</td>\n",
       "      <td>0</td>\n",
       "      <td>0</td>\n",
       "      <td>0</td>\n",
       "      <td>0</td>\n",
       "      <td>0</td>\n",
       "      <td>0</td>\n",
       "      <td>0</td>\n",
       "    </tr>\n",
       "    <tr>\n",
       "      <th>271612</th>\n",
       "      <td>1</td>\n",
       "      <td>1</td>\n",
       "      <td>2</td>\n",
       "      <td>0</td>\n",
       "      <td>5</td>\n",
       "      <td>0</td>\n",
       "      <td>2</td>\n",
       "      <td>KIELCE</td>\n",
       "      <td>Dom i Ogród</td>\n",
       "      <td>4</td>\n",
       "      <td>0</td>\n",
       "      <td>1</td>\n",
       "      <td>0</td>\n",
       "      <td>0</td>\n",
       "      <td>0</td>\n",
       "      <td>0</td>\n",
       "      <td>0</td>\n",
       "      <td>0</td>\n",
       "      <td>0</td>\n",
       "    </tr>\n",
       "    <tr>\n",
       "      <th>271568</th>\n",
       "      <td>1</td>\n",
       "      <td>1</td>\n",
       "      <td>1</td>\n",
       "      <td>1</td>\n",
       "      <td>2</td>\n",
       "      <td>0</td>\n",
       "      <td>1</td>\n",
       "      <td>KRAKOW</td>\n",
       "      <td>Uroda i Zdrowie</td>\n",
       "      <td>3</td>\n",
       "      <td>0</td>\n",
       "      <td>0</td>\n",
       "      <td>0</td>\n",
       "      <td>0</td>\n",
       "      <td>0</td>\n",
       "      <td>0</td>\n",
       "      <td>0</td>\n",
       "      <td>0</td>\n",
       "      <td>1</td>\n",
       "    </tr>\n",
       "    <tr>\n",
       "      <th>99302</th>\n",
       "      <td>1</td>\n",
       "      <td>1</td>\n",
       "      <td>2</td>\n",
       "      <td>1</td>\n",
       "      <td>1</td>\n",
       "      <td>0</td>\n",
       "      <td>3</td>\n",
       "      <td>LODZ</td>\n",
       "      <td>Odzież, Obuwie, Dodatki</td>\n",
       "      <td>3</td>\n",
       "      <td>0</td>\n",
       "      <td>0</td>\n",
       "      <td>0</td>\n",
       "      <td>1</td>\n",
       "      <td>0</td>\n",
       "      <td>0</td>\n",
       "      <td>0</td>\n",
       "      <td>0</td>\n",
       "      <td>0</td>\n",
       "    </tr>\n",
       "    <tr>\n",
       "      <th>...</th>\n",
       "      <td>...</td>\n",
       "      <td>...</td>\n",
       "      <td>...</td>\n",
       "      <td>...</td>\n",
       "      <td>...</td>\n",
       "      <td>...</td>\n",
       "      <td>...</td>\n",
       "      <td>...</td>\n",
       "      <td>...</td>\n",
       "      <td>...</td>\n",
       "      <td>...</td>\n",
       "      <td>...</td>\n",
       "      <td>...</td>\n",
       "      <td>...</td>\n",
       "      <td>...</td>\n",
       "      <td>...</td>\n",
       "      <td>...</td>\n",
       "      <td>...</td>\n",
       "      <td>...</td>\n",
       "    </tr>\n",
       "    <tr>\n",
       "      <th>381825</th>\n",
       "      <td>1</td>\n",
       "      <td>0</td>\n",
       "      <td>2</td>\n",
       "      <td>0</td>\n",
       "      <td>4</td>\n",
       "      <td>0</td>\n",
       "      <td>2</td>\n",
       "      <td>OTHERS</td>\n",
       "      <td>Uroda i Zdrowie</td>\n",
       "      <td>4</td>\n",
       "      <td>0</td>\n",
       "      <td>0</td>\n",
       "      <td>0</td>\n",
       "      <td>0</td>\n",
       "      <td>0</td>\n",
       "      <td>0</td>\n",
       "      <td>0</td>\n",
       "      <td>0</td>\n",
       "      <td>1</td>\n",
       "    </tr>\n",
       "    <tr>\n",
       "      <th>294111</th>\n",
       "      <td>1</td>\n",
       "      <td>1</td>\n",
       "      <td>3</td>\n",
       "      <td>1</td>\n",
       "      <td>2</td>\n",
       "      <td>0</td>\n",
       "      <td>5</td>\n",
       "      <td>WARSZAWA</td>\n",
       "      <td>Dla Dzieci</td>\n",
       "      <td>2</td>\n",
       "      <td>1</td>\n",
       "      <td>0</td>\n",
       "      <td>0</td>\n",
       "      <td>0</td>\n",
       "      <td>0</td>\n",
       "      <td>0</td>\n",
       "      <td>0</td>\n",
       "      <td>0</td>\n",
       "      <td>0</td>\n",
       "    </tr>\n",
       "    <tr>\n",
       "      <th>197946</th>\n",
       "      <td>1</td>\n",
       "      <td>1</td>\n",
       "      <td>1</td>\n",
       "      <td>1</td>\n",
       "      <td>5</td>\n",
       "      <td>0</td>\n",
       "      <td>5</td>\n",
       "      <td>RADOM</td>\n",
       "      <td>Dla Dzieci</td>\n",
       "      <td>4</td>\n",
       "      <td>1</td>\n",
       "      <td>0</td>\n",
       "      <td>0</td>\n",
       "      <td>0</td>\n",
       "      <td>0</td>\n",
       "      <td>0</td>\n",
       "      <td>0</td>\n",
       "      <td>0</td>\n",
       "      <td>0</td>\n",
       "    </tr>\n",
       "    <tr>\n",
       "      <th>125128</th>\n",
       "      <td>1</td>\n",
       "      <td>1</td>\n",
       "      <td>1</td>\n",
       "      <td>0</td>\n",
       "      <td>4</td>\n",
       "      <td>0</td>\n",
       "      <td>1</td>\n",
       "      <td>OTHERS</td>\n",
       "      <td>Motoryzacja</td>\n",
       "      <td>4</td>\n",
       "      <td>0</td>\n",
       "      <td>0</td>\n",
       "      <td>1</td>\n",
       "      <td>0</td>\n",
       "      <td>0</td>\n",
       "      <td>0</td>\n",
       "      <td>0</td>\n",
       "      <td>0</td>\n",
       "      <td>0</td>\n",
       "    </tr>\n",
       "    <tr>\n",
       "      <th>414402</th>\n",
       "      <td>1</td>\n",
       "      <td>1</td>\n",
       "      <td>1</td>\n",
       "      <td>1</td>\n",
       "      <td>3</td>\n",
       "      <td>0</td>\n",
       "      <td>4</td>\n",
       "      <td>OTHERS</td>\n",
       "      <td>Sport i Turystyka</td>\n",
       "      <td>3</td>\n",
       "      <td>0</td>\n",
       "      <td>0</td>\n",
       "      <td>0</td>\n",
       "      <td>0</td>\n",
       "      <td>0</td>\n",
       "      <td>0</td>\n",
       "      <td>1</td>\n",
       "      <td>0</td>\n",
       "      <td>0</td>\n",
       "    </tr>\n",
       "  </tbody>\n",
       "</table>\n",
       "<p>205789 rows × 19 columns</p>\n",
       "</div>"
      ],
      "text/plain": [
       "        pay_option_on_delivery  pay_option_transfer price  \\\n",
       "258810                       1                    1     2   \n",
       "365240                       1                    1     1   \n",
       "271612                       1                    1     2   \n",
       "271568                       1                    1     1   \n",
       "99302                        1                    1     2   \n",
       "...                        ...                  ...   ...   \n",
       "381825                       1                    0     2   \n",
       "294111                       1                    1     3   \n",
       "197946                       1                    1     1   \n",
       "125128                       1                    1     1   \n",
       "414402                       1                    1     1   \n",
       "\n",
       "        it_is_allegro_standard it_quantity  it_is_brand_zone it_seller_rating  \\\n",
       "258810                       1           1                 0                1   \n",
       "365240                       1           3                 0                5   \n",
       "271612                       0           5                 0                2   \n",
       "271568                       1           2                 0                1   \n",
       "99302                        1           1                 0                3   \n",
       "...                        ...         ...               ...              ...   \n",
       "381825                       0           4                 0                2   \n",
       "294111                       1           2                 0                5   \n",
       "197946                       1           5                 0                5   \n",
       "125128                       0           4                 0                1   \n",
       "414402                       1           3                 0                4   \n",
       "\n",
       "       it_location            main_category time  cat__Dla Dzieci  \\\n",
       "258810      OTHERS              Motoryzacja    4                0   \n",
       "365240      OTHERS              Dom i Ogród    2                0   \n",
       "271612      KIELCE              Dom i Ogród    4                0   \n",
       "271568      KRAKOW          Uroda i Zdrowie    3                0   \n",
       "99302         LODZ  Odzież, Obuwie, Dodatki    3                0   \n",
       "...            ...                      ...  ...              ...   \n",
       "381825      OTHERS          Uroda i Zdrowie    4                0   \n",
       "294111    WARSZAWA               Dla Dzieci    2                1   \n",
       "197946       RADOM               Dla Dzieci    4                1   \n",
       "125128      OTHERS              Motoryzacja    4                0   \n",
       "414402      OTHERS        Sport i Turystyka    3                0   \n",
       "\n",
       "        cat__Dom i Ogród  cat__Motoryzacja  cat__Odzież, Obuwie, Dodatki  \\\n",
       "258810                 0                 1                             0   \n",
       "365240                 1                 0                             0   \n",
       "271612                 1                 0                             0   \n",
       "271568                 0                 0                             0   \n",
       "99302                  0                 0                             1   \n",
       "...                  ...               ...                           ...   \n",
       "381825                 0                 0                             0   \n",
       "294111                 0                 0                             0   \n",
       "197946                 0                 0                             0   \n",
       "125128                 0                 1                             0   \n",
       "414402                 0                 0                             0   \n",
       "\n",
       "        cat__Przemysł i usługi  cat__RTV i AGD  cat__Sport i Turystyka  \\\n",
       "258810                       0               0                       0   \n",
       "365240                       0               0                       0   \n",
       "271612                       0               0                       0   \n",
       "271568                       0               0                       0   \n",
       "99302                        0               0                       0   \n",
       "...                        ...             ...                     ...   \n",
       "381825                       0               0                       0   \n",
       "294111                       0               0                       0   \n",
       "197946                       0               0                       0   \n",
       "125128                       0               0                       0   \n",
       "414402                       0               0                       1   \n",
       "\n",
       "        cat__Sztuka i Rozrywka  cat__Uroda i Zdrowie  \n",
       "258810                       0                     0  \n",
       "365240                       0                     0  \n",
       "271612                       0                     0  \n",
       "271568                       0                     1  \n",
       "99302                        0                     0  \n",
       "...                        ...                   ...  \n",
       "381825                       0                     1  \n",
       "294111                       0                     0  \n",
       "197946                       0                     0  \n",
       "125128                       0                     0  \n",
       "414402                       0                     0  \n",
       "\n",
       "[205789 rows x 19 columns]"
      ]
     },
     "execution_count": 107,
     "metadata": {},
     "output_type": "execute_result"
    }
   ],
   "source": [
    "# mają tyle samo wierszy więc łączenie obu ramek:\n",
    "X_train = pd.concat([X_train, cat_df], axis=1)\n",
    "X_train"
   ]
  },
  {
   "cell_type": "code",
   "execution_count": 108,
   "metadata": {},
   "outputs": [],
   "source": [
    "local_df = pd.get_dummies(X_train['it_location'], prefix='loc_')"
   ]
  },
  {
   "cell_type": "code",
   "execution_count": 109,
   "metadata": {},
   "outputs": [],
   "source": [
    "X_train = pd.concat([X_train, local_df], axis=1)\n",
    "X_train.drop(['it_location', 'main_category'],  axis=1, inplace = True)"
   ]
  },
  {
   "cell_type": "code",
   "execution_count": 110,
   "metadata": {},
   "outputs": [
    {
     "data": {
      "text/html": [
       "<div>\n",
       "<style scoped>\n",
       "    .dataframe tbody tr th:only-of-type {\n",
       "        vertical-align: middle;\n",
       "    }\n",
       "\n",
       "    .dataframe tbody tr th {\n",
       "        vertical-align: top;\n",
       "    }\n",
       "\n",
       "    .dataframe thead th {\n",
       "        text-align: right;\n",
       "    }\n",
       "</style>\n",
       "<table border=\"1\" class=\"dataframe\">\n",
       "  <thead>\n",
       "    <tr style=\"text-align: right;\">\n",
       "      <th></th>\n",
       "      <th>pay_option_on_delivery</th>\n",
       "      <th>pay_option_transfer</th>\n",
       "      <th>price</th>\n",
       "      <th>it_is_allegro_standard</th>\n",
       "      <th>it_quantity</th>\n",
       "      <th>it_is_brand_zone</th>\n",
       "      <th>it_seller_rating</th>\n",
       "      <th>time</th>\n",
       "      <th>cat__Dla Dzieci</th>\n",
       "      <th>cat__Dom i Ogród</th>\n",
       "      <th>...</th>\n",
       "      <th>loc__OTHERS</th>\n",
       "      <th>loc__POZNAN</th>\n",
       "      <th>loc__RADOM</th>\n",
       "      <th>loc__RZESZOW</th>\n",
       "      <th>loc__SZCZECIN</th>\n",
       "      <th>loc__TORUN</th>\n",
       "      <th>loc__WARSZAWA</th>\n",
       "      <th>loc__WROCLAW</th>\n",
       "      <th>loc__WYSYLKA</th>\n",
       "      <th>loc__ZIELONA GORA</th>\n",
       "    </tr>\n",
       "  </thead>\n",
       "  <tbody>\n",
       "    <tr>\n",
       "      <th>258810</th>\n",
       "      <td>1</td>\n",
       "      <td>1</td>\n",
       "      <td>2</td>\n",
       "      <td>1</td>\n",
       "      <td>1</td>\n",
       "      <td>0</td>\n",
       "      <td>1</td>\n",
       "      <td>4</td>\n",
       "      <td>0</td>\n",
       "      <td>0</td>\n",
       "      <td>...</td>\n",
       "      <td>1</td>\n",
       "      <td>0</td>\n",
       "      <td>0</td>\n",
       "      <td>0</td>\n",
       "      <td>0</td>\n",
       "      <td>0</td>\n",
       "      <td>0</td>\n",
       "      <td>0</td>\n",
       "      <td>0</td>\n",
       "      <td>0</td>\n",
       "    </tr>\n",
       "    <tr>\n",
       "      <th>365240</th>\n",
       "      <td>1</td>\n",
       "      <td>1</td>\n",
       "      <td>1</td>\n",
       "      <td>1</td>\n",
       "      <td>3</td>\n",
       "      <td>0</td>\n",
       "      <td>5</td>\n",
       "      <td>2</td>\n",
       "      <td>0</td>\n",
       "      <td>1</td>\n",
       "      <td>...</td>\n",
       "      <td>1</td>\n",
       "      <td>0</td>\n",
       "      <td>0</td>\n",
       "      <td>0</td>\n",
       "      <td>0</td>\n",
       "      <td>0</td>\n",
       "      <td>0</td>\n",
       "      <td>0</td>\n",
       "      <td>0</td>\n",
       "      <td>0</td>\n",
       "    </tr>\n",
       "    <tr>\n",
       "      <th>271612</th>\n",
       "      <td>1</td>\n",
       "      <td>1</td>\n",
       "      <td>2</td>\n",
       "      <td>0</td>\n",
       "      <td>5</td>\n",
       "      <td>0</td>\n",
       "      <td>2</td>\n",
       "      <td>4</td>\n",
       "      <td>0</td>\n",
       "      <td>1</td>\n",
       "      <td>...</td>\n",
       "      <td>0</td>\n",
       "      <td>0</td>\n",
       "      <td>0</td>\n",
       "      <td>0</td>\n",
       "      <td>0</td>\n",
       "      <td>0</td>\n",
       "      <td>0</td>\n",
       "      <td>0</td>\n",
       "      <td>0</td>\n",
       "      <td>0</td>\n",
       "    </tr>\n",
       "    <tr>\n",
       "      <th>271568</th>\n",
       "      <td>1</td>\n",
       "      <td>1</td>\n",
       "      <td>1</td>\n",
       "      <td>1</td>\n",
       "      <td>2</td>\n",
       "      <td>0</td>\n",
       "      <td>1</td>\n",
       "      <td>3</td>\n",
       "      <td>0</td>\n",
       "      <td>0</td>\n",
       "      <td>...</td>\n",
       "      <td>0</td>\n",
       "      <td>0</td>\n",
       "      <td>0</td>\n",
       "      <td>0</td>\n",
       "      <td>0</td>\n",
       "      <td>0</td>\n",
       "      <td>0</td>\n",
       "      <td>0</td>\n",
       "      <td>0</td>\n",
       "      <td>0</td>\n",
       "    </tr>\n",
       "    <tr>\n",
       "      <th>99302</th>\n",
       "      <td>1</td>\n",
       "      <td>1</td>\n",
       "      <td>2</td>\n",
       "      <td>1</td>\n",
       "      <td>1</td>\n",
       "      <td>0</td>\n",
       "      <td>3</td>\n",
       "      <td>3</td>\n",
       "      <td>0</td>\n",
       "      <td>0</td>\n",
       "      <td>...</td>\n",
       "      <td>0</td>\n",
       "      <td>0</td>\n",
       "      <td>0</td>\n",
       "      <td>0</td>\n",
       "      <td>0</td>\n",
       "      <td>0</td>\n",
       "      <td>0</td>\n",
       "      <td>0</td>\n",
       "      <td>0</td>\n",
       "      <td>0</td>\n",
       "    </tr>\n",
       "  </tbody>\n",
       "</table>\n",
       "<p>5 rows × 40 columns</p>\n",
       "</div>"
      ],
      "text/plain": [
       "        pay_option_on_delivery  pay_option_transfer price  \\\n",
       "258810                       1                    1     2   \n",
       "365240                       1                    1     1   \n",
       "271612                       1                    1     2   \n",
       "271568                       1                    1     1   \n",
       "99302                        1                    1     2   \n",
       "\n",
       "        it_is_allegro_standard it_quantity  it_is_brand_zone it_seller_rating  \\\n",
       "258810                       1           1                 0                1   \n",
       "365240                       1           3                 0                5   \n",
       "271612                       0           5                 0                2   \n",
       "271568                       1           2                 0                1   \n",
       "99302                        1           1                 0                3   \n",
       "\n",
       "       time  cat__Dla Dzieci  cat__Dom i Ogród  ...  loc__OTHERS  loc__POZNAN  \\\n",
       "258810    4                0                 0  ...            1            0   \n",
       "365240    2                0                 1  ...            1            0   \n",
       "271612    4                0                 1  ...            0            0   \n",
       "271568    3                0                 0  ...            0            0   \n",
       "99302     3                0                 0  ...            0            0   \n",
       "\n",
       "        loc__RADOM  loc__RZESZOW  loc__SZCZECIN  loc__TORUN  loc__WARSZAWA  \\\n",
       "258810           0             0              0           0              0   \n",
       "365240           0             0              0           0              0   \n",
       "271612           0             0              0           0              0   \n",
       "271568           0             0              0           0              0   \n",
       "99302            0             0              0           0              0   \n",
       "\n",
       "        loc__WROCLAW  loc__WYSYLKA  loc__ZIELONA GORA  \n",
       "258810             0             0                  0  \n",
       "365240             0             0                  0  \n",
       "271612             0             0                  0  \n",
       "271568             0             0                  0  \n",
       "99302              0             0                  0  \n",
       "\n",
       "[5 rows x 40 columns]"
      ]
     },
     "execution_count": 110,
     "metadata": {},
     "output_type": "execute_result"
    }
   ],
   "source": [
    "X_train.head()"
   ]
  },
  {
   "cell_type": "markdown",
   "metadata": {},
   "source": [
    "### Podsumowanie wprowadzonych zmian\n",
    "\n",
    "* usunięcie kolumn `item_id`, `lp` , `categories`, `seller`\n",
    "* zamiana ciągłej zmiennej `it_quantity` na 5 kategorii ponumerowanych kolejnymi liczbami naturalnymi oznaczającymi, w którym kwartylu znajduje się dana wartość\n",
    "* zamiana ciągłej zmiennej `price` na 3 kategorie ponumerowane kolejnymi liczbami naturalnymi, gdzie 1 oznacza niską cenę, 2 - średnią, a 3 - wysoką\n",
    "* usunięcie wierszy, dla których `it_seller_rating` = -1 oraz tych, gdzie `price` = 0\n",
    "* redukcja unikalnych wartości kolumny `categories` a następnie przekształcenie tej kolumny na zmienną liczbową przy pomocy one-hot encoding\n",
    "* zamiana w kolumne `date` z godzin na 4 pory dnia oznaczane numerami, usunięcie daty\n",
    "* w kolumnie `location` wybranie miejsc, z których było ponad 1000 ofert, pozostałe zgrupowanie do *Others*, następnie przekształcenie tej kolumny na zmienną liczbową przy pomocy one-hot encoding, jednak jest to bardzo niedokładne zgupowanie, ponieważ niektóre miasta wpisane są jako cały adres, albo dzielnice, więc tym samym wpadły do kategorii *Others*. "
   ]
  },
  {
   "cell_type": "markdown",
   "metadata": {},
   "source": [
    "### Zmiany w zbiorze testowym\n",
    "\n",
    "Przeprowadzimy teraz te same zmiany w zbiorze testowym"
   ]
  },
  {
   "cell_type": "code",
   "execution_count": 111,
   "metadata": {},
   "outputs": [],
   "source": [
    "X_test.drop(['item_id', 'lp'],  axis=1, inplace = True)\n",
    "X_test['it_quantity'] = pd.qcut(X_test['it_quantity'], 5, labels=[1, 2, 3, 4, 5])\n",
    "X_test = X_test[X_test.it_seller_rating != -1]\n",
    "X_test['it_seller_rating'] = pd.qcut(X_test['it_seller_rating'], 5, labels=[1, 2, 3, 4, 5])\n",
    "X_test = X_test[X_test.price != 0]\n",
    "X_test['price'] = pd.cut(X_test['price'], bins=[0, 35, 150, np.inf], labels=[1, 2, 3])\n",
    "X_test.drop('categories', axis = 1, inplace = True)\n",
    "\n",
    "X_test['main_category'] = X_test['main_category'].replace(rtv, 'RTV i AGD')\n",
    "X_test['main_category'] = X_test['main_category'].replace(art,'Sztuka i Rozrywka')\n",
    "X_test['main_category'] = X_test['main_category'].replace('Biżuteria i Zegarki','Odzież, Obuwie, Dodatki')\n",
    "X_test['main_category'] = X_test['main_category'].replace(['Uroda', \"Zdrowie\"],'Uroda i Zdrowie')\n",
    "X_test['main_category'] = X_test['main_category'].replace(ind,'Przemysł i usługi')\n",
    "\n",
    "X_test['date'] = pd.to_datetime(X_test['date'])\n",
    "X_test['time'] = X_test['date'].apply(lambda x:x.time())\n",
    "X_test['time'] = X_test['time'].apply(lambda x:x.hour)\n",
    "X_test['time'] = pd.cut(X_test['time'], bins=[-1, 5, 11, 17, 24], labels=[1, 2, 3, 4])\n",
    "X_test.drop('date', axis = 1, inplace = True)\n",
    "\n",
    "X_test['it_location'] = X_test['it_location'].str.upper()\n",
    "X_test['it_location'] = X_test['it_location'].apply(unidecode)\n",
    "X_test['it_location'] = X_test['it_location'].replace(['INTERNET', 'SPRZEDAZ WYSYLKOWA', 'CALA POLSKA', 'POLSKA'],'WYSYLKA')\n",
    "others = X_test['it_location'].value_counts()[X_test['it_location'].value_counts() < 1000].index\n",
    "X_test['it_location'] = np.where(X_test['it_location'].isin(others), 'OTHERS', X_test['it_location'])\n",
    "\n",
    "X_test.drop('seller', inplace = True, axis = 1)\n",
    "\n",
    "cat_df = pd.get_dummies(X_test['main_category'], prefix='cat_')\n",
    "X_test = pd.concat([X_test, cat_df], axis=1)\n",
    "\n",
    "local_df = pd.get_dummies(X_test['it_location'], prefix='loc_')\n",
    "X_test = pd.concat([X_test, local_df], axis=1)\n",
    "X_test.drop(['it_location', 'main_category'],  axis=1, inplace = True)"
   ]
  },
  {
   "cell_type": "code",
   "execution_count": 115,
   "metadata": {},
   "outputs": [
    {
     "data": {
      "text/html": [
       "<div>\n",
       "<style scoped>\n",
       "    .dataframe tbody tr th:only-of-type {\n",
       "        vertical-align: middle;\n",
       "    }\n",
       "\n",
       "    .dataframe tbody tr th {\n",
       "        vertical-align: top;\n",
       "    }\n",
       "\n",
       "    .dataframe thead th {\n",
       "        text-align: right;\n",
       "    }\n",
       "</style>\n",
       "<table border=\"1\" class=\"dataframe\">\n",
       "  <thead>\n",
       "    <tr style=\"text-align: right;\">\n",
       "      <th></th>\n",
       "      <th>pay_option_on_delivery</th>\n",
       "      <th>pay_option_transfer</th>\n",
       "      <th>it_is_allegro_standard</th>\n",
       "      <th>it_quantity</th>\n",
       "      <th>it_is_brand_zone</th>\n",
       "      <th>it_seller_rating</th>\n",
       "      <th>time</th>\n",
       "      <th>cat__Dla Dzieci</th>\n",
       "      <th>cat__Dom i Ogród</th>\n",
       "      <th>cat__Motoryzacja</th>\n",
       "      <th>...</th>\n",
       "      <th>loc__KIELCE</th>\n",
       "      <th>loc__KRAKOW</th>\n",
       "      <th>loc__LODZ</th>\n",
       "      <th>loc__LUBLIN</th>\n",
       "      <th>loc__OTHERS</th>\n",
       "      <th>loc__POZNAN</th>\n",
       "      <th>loc__RZESZOW</th>\n",
       "      <th>loc__WARSZAWA</th>\n",
       "      <th>loc__WROCLAW</th>\n",
       "      <th>loc__WYSYLKA</th>\n",
       "    </tr>\n",
       "  </thead>\n",
       "  <tbody>\n",
       "    <tr>\n",
       "      <th>3010</th>\n",
       "      <td>1</td>\n",
       "      <td>1</td>\n",
       "      <td>0</td>\n",
       "      <td>4</td>\n",
       "      <td>0</td>\n",
       "      <td>1</td>\n",
       "      <td>4</td>\n",
       "      <td>1</td>\n",
       "      <td>0</td>\n",
       "      <td>0</td>\n",
       "      <td>...</td>\n",
       "      <td>0</td>\n",
       "      <td>0</td>\n",
       "      <td>0</td>\n",
       "      <td>0</td>\n",
       "      <td>1</td>\n",
       "      <td>0</td>\n",
       "      <td>0</td>\n",
       "      <td>0</td>\n",
       "      <td>0</td>\n",
       "      <td>0</td>\n",
       "    </tr>\n",
       "    <tr>\n",
       "      <th>299769</th>\n",
       "      <td>1</td>\n",
       "      <td>0</td>\n",
       "      <td>1</td>\n",
       "      <td>1</td>\n",
       "      <td>0</td>\n",
       "      <td>1</td>\n",
       "      <td>4</td>\n",
       "      <td>1</td>\n",
       "      <td>0</td>\n",
       "      <td>0</td>\n",
       "      <td>...</td>\n",
       "      <td>0</td>\n",
       "      <td>0</td>\n",
       "      <td>1</td>\n",
       "      <td>0</td>\n",
       "      <td>0</td>\n",
       "      <td>0</td>\n",
       "      <td>0</td>\n",
       "      <td>0</td>\n",
       "      <td>0</td>\n",
       "      <td>0</td>\n",
       "    </tr>\n",
       "    <tr>\n",
       "      <th>150362</th>\n",
       "      <td>1</td>\n",
       "      <td>1</td>\n",
       "      <td>0</td>\n",
       "      <td>1</td>\n",
       "      <td>0</td>\n",
       "      <td>3</td>\n",
       "      <td>4</td>\n",
       "      <td>0</td>\n",
       "      <td>0</td>\n",
       "      <td>0</td>\n",
       "      <td>...</td>\n",
       "      <td>0</td>\n",
       "      <td>0</td>\n",
       "      <td>0</td>\n",
       "      <td>0</td>\n",
       "      <td>1</td>\n",
       "      <td>0</td>\n",
       "      <td>0</td>\n",
       "      <td>0</td>\n",
       "      <td>0</td>\n",
       "      <td>0</td>\n",
       "    </tr>\n",
       "    <tr>\n",
       "      <th>259319</th>\n",
       "      <td>1</td>\n",
       "      <td>1</td>\n",
       "      <td>1</td>\n",
       "      <td>5</td>\n",
       "      <td>0</td>\n",
       "      <td>3</td>\n",
       "      <td>4</td>\n",
       "      <td>0</td>\n",
       "      <td>0</td>\n",
       "      <td>0</td>\n",
       "      <td>...</td>\n",
       "      <td>0</td>\n",
       "      <td>0</td>\n",
       "      <td>0</td>\n",
       "      <td>0</td>\n",
       "      <td>1</td>\n",
       "      <td>0</td>\n",
       "      <td>0</td>\n",
       "      <td>0</td>\n",
       "      <td>0</td>\n",
       "      <td>0</td>\n",
       "    </tr>\n",
       "    <tr>\n",
       "      <th>277629</th>\n",
       "      <td>1</td>\n",
       "      <td>1</td>\n",
       "      <td>0</td>\n",
       "      <td>3</td>\n",
       "      <td>0</td>\n",
       "      <td>4</td>\n",
       "      <td>1</td>\n",
       "      <td>0</td>\n",
       "      <td>0</td>\n",
       "      <td>0</td>\n",
       "      <td>...</td>\n",
       "      <td>0</td>\n",
       "      <td>1</td>\n",
       "      <td>0</td>\n",
       "      <td>0</td>\n",
       "      <td>0</td>\n",
       "      <td>0</td>\n",
       "      <td>0</td>\n",
       "      <td>0</td>\n",
       "      <td>0</td>\n",
       "      <td>0</td>\n",
       "    </tr>\n",
       "  </tbody>\n",
       "</table>\n",
       "<p>5 rows × 29 columns</p>\n",
       "</div>"
      ],
      "text/plain": [
       "        pay_option_on_delivery  pay_option_transfer  it_is_allegro_standard  \\\n",
       "3010                         1                    1                       0   \n",
       "299769                       1                    0                       1   \n",
       "150362                       1                    1                       0   \n",
       "259319                       1                    1                       1   \n",
       "277629                       1                    1                       0   \n",
       "\n",
       "       it_quantity  it_is_brand_zone it_seller_rating time  cat__Dla Dzieci  \\\n",
       "3010             4                 0                1    4                1   \n",
       "299769           1                 0                1    4                1   \n",
       "150362           1                 0                3    4                0   \n",
       "259319           5                 0                3    4                0   \n",
       "277629           3                 0                4    1                0   \n",
       "\n",
       "        cat__Dom i Ogród  cat__Motoryzacja  ...  loc__KIELCE  loc__KRAKOW  \\\n",
       "3010                   0                 0  ...            0            0   \n",
       "299769                 0                 0  ...            0            0   \n",
       "150362                 0                 0  ...            0            0   \n",
       "259319                 0                 0  ...            0            0   \n",
       "277629                 0                 0  ...            0            1   \n",
       "\n",
       "        loc__LODZ  loc__LUBLIN  loc__OTHERS  loc__POZNAN  loc__RZESZOW  \\\n",
       "3010            0            0            1            0             0   \n",
       "299769          1            0            0            0             0   \n",
       "150362          0            0            1            0             0   \n",
       "259319          0            0            1            0             0   \n",
       "277629          0            0            0            0             0   \n",
       "\n",
       "        loc__WARSZAWA  loc__WROCLAW  loc__WYSYLKA  \n",
       "3010                0             0             0  \n",
       "299769              0             0             0  \n",
       "150362              0             0             0  \n",
       "259319              0             0             0  \n",
       "277629              0             0             0  \n",
       "\n",
       "[5 rows x 29 columns]"
      ]
     },
     "execution_count": 115,
     "metadata": {},
     "output_type": "execute_result"
    }
   ],
   "source": [
    "X_test.head()"
   ]
  },
  {
   "cell_type": "markdown",
   "metadata": {},
   "source": [
    "### Wstępne modele    \n",
    "\n",
    "Przetestujemy teraz bazowe modele na prztworzonych zbiorach"
   ]
  },
  {
   "cell_type": "code",
   "execution_count": 112,
   "metadata": {},
   "outputs": [],
   "source": [
    "#Wyciągnięcie zmiennej przewidywanej ze zbiorów\n",
    "y_train = np.array(X_train['price'])\n",
    "X_train = X_train.drop(['price'],axis=1)\n",
    "y_test = np.array(X_test['price'])\n",
    "X_test = X_test.drop(['price'],axis=1)"
   ]
  },
  {
   "cell_type": "code",
   "execution_count": 113,
   "metadata": {},
   "outputs": [
    {
     "name": "stdout",
     "output_type": "stream",
     "text": [
      "y:     [2 1 1 1 2 1 1 2 1 1 1 1 1 1 1 1 1 1 1 1]\n",
      "y_hat: [2 1 2 1 2 1 1 1 1 1 1 1 1 1 2 1 1 1 2 1]\n"
     ]
    }
   ],
   "source": [
    "from sklearn.linear_model import LogisticRegression\n",
    "lr = LogisticRegression(max_iter=100, multi_class = 'multinomial')\n",
    "\n",
    "lr.fit(X_train, y_train)\n",
    "y_hat = lr.predict(X_train)\n",
    "print('y:     ' + str(y_hat[0:20]) + '\\ny_hat: ' + str(y_train[0:20]))"
   ]
  },
  {
   "cell_type": "code",
   "execution_count": 84,
   "metadata": {},
   "outputs": [
    {
     "data": {
      "text/plain": [
       "0.6235853228306664"
      ]
     },
     "execution_count": 84,
     "metadata": {},
     "output_type": "execute_result"
    }
   ],
   "source": [
    "from sklearn.metrics import accuracy_score\n",
    "accuracy_score(y_train, y_hat)"
   ]
  },
  {
   "cell_type": "code",
   "execution_count": 128,
   "metadata": {},
   "outputs": [
    {
     "data": {
      "text/plain": [
       "0.6204773513237712"
      ]
     },
     "execution_count": 128,
     "metadata": {},
     "output_type": "execute_result"
    }
   ],
   "source": [
    "lr.fit(X_test, y_test)\n",
    "y_hatt = lr.predict(X_test)\n",
    "accuracy_score(y_test, y_hatt)"
   ]
  },
  {
   "cell_type": "code",
   "execution_count": 118,
   "metadata": {},
   "outputs": [
    {
     "name": "stdout",
     "output_type": "stream",
     "text": [
      "y:     [2 2 2 1 2 1 1 3 1 1 1 1 1 1 1 1 1 1 1 1]\n",
      "y_hat: [2 1 2 1 2 1 1 1 1 1 1 1 1 1 2 1 1 1 2 1]\n"
     ]
    }
   ],
   "source": [
    "from sklearn.tree import DecisionTreeClassifier\n",
    "tree = DecisionTreeClassifier()\n",
    "\n",
    "tree.fit(X_train, y_train)\n",
    "y_hat = tree.predict(X_train)\n",
    "print('y:     ' + str(y_hat[0:20]) + '\\ny_hat: ' + str(y_train[0:20]))"
   ]
  },
  {
   "cell_type": "code",
   "execution_count": 119,
   "metadata": {},
   "outputs": [
    {
     "data": {
      "text/plain": [
       "0.7064274572499016"
      ]
     },
     "execution_count": 119,
     "metadata": {},
     "output_type": "execute_result"
    }
   ],
   "source": [
    "accuracy_score(y_train, y_hat)"
   ]
  },
  {
   "cell_type": "code",
   "execution_count": 130,
   "metadata": {},
   "outputs": [
    {
     "name": "stdout",
     "output_type": "stream",
     "text": [
      "y:     [2 2 2 1 2 1 1 3 1 1 1 1 1 1 1 1 1 1 1 1]\n",
      "y_hat: [2 1 1 1 1 3 3 1 1 1 2 1 1 1 1 2 2 2 1 1]\n"
     ]
    }
   ],
   "source": [
    "tree.fit(X_test, y_test)\n",
    "y_hatt = tree.predict(X_test)\n",
    "print('y:     ' + str(y_hat[0:20]) + '\\ny_hat: ' + str(y_test[0:20]))"
   ]
  },
  {
   "cell_type": "code",
   "execution_count": 131,
   "metadata": {},
   "outputs": [
    {
     "data": {
      "text/plain": [
       "0.7093599410397415"
      ]
     },
     "execution_count": 131,
     "metadata": {},
     "output_type": "execute_result"
    }
   ],
   "source": [
    "accuracy_score(y_test, y_hatt)"
   ]
  },
  {
   "cell_type": "markdown",
   "metadata": {},
   "source": [
    "Dla najprostszej regresji logistycznej zarówno dla zbioru treningowe i testowego dokładność jest na poziomie 0.62. Przy użyciu drzewa decyzyjnego wynik jest już na poziomie 0.7. Choć jest wyższy to nadal jest nad czym pracować. Mimo to, oba wyniki są zadowlające jak na bazowy model. Na pewno dają możliwości dalszych poprawek danych i doboru regulujących hiperparametrów. "
   ]
  }
 ],
 "metadata": {
  "kernelspec": {
   "display_name": "Python 3",
   "language": "python",
   "name": "python3"
  },
  "language_info": {
   "codemirror_mode": {
    "name": "ipython",
    "version": 3
   },
   "file_extension": ".py",
   "mimetype": "text/x-python",
   "name": "python",
   "nbconvert_exporter": "python",
   "pygments_lexer": "ipython3",
   "version": "3.8.3"
  }
 },
 "nbformat": 4,
 "nbformat_minor": 5
}
