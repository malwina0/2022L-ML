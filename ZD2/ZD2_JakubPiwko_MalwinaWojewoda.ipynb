{
 "cells": [
  {
   "cell_type": "markdown",
   "id": "983c6eb2",
   "metadata": {},
   "source": [
    "# Wstęp do uczenia maszynowego\n",
    "##  Praca domowa nr 2\n",
    "#### Jakub Piwko, Malwina Wojewoda\n",
    "***\n",
    "***\n",
    "***"
   ]
  },
  {
   "cell_type": "markdown",
   "id": "2ba9f048",
   "metadata": {},
   "source": [
    "### Pakiety"
   ]
  },
  {
   "cell_type": "code",
   "execution_count": 14,
   "id": "1bba4b4f",
   "metadata": {},
   "outputs": [],
   "source": [
    "import pandas as pd\n",
    "import plotly.express as px\n",
    "import numpy as np\n",
    "import sklearn \n",
    "import seaborn as sns\n",
    "import matplotlib.pyplot as plt\n",
    "import matplotlib\n",
    "import warnings\n",
    "warnings.filterwarnings('ignore')\n",
    "np.random.seed(23)\n",
    "from sklearn.model_selection import train_test_split"
   ]
  },
  {
   "cell_type": "markdown",
   "id": "7abcf6af",
   "metadata": {},
   "source": [
    "### Wczytanie i analiza danych"
   ]
  },
  {
   "cell_type": "code",
   "execution_count": 98,
   "id": "730d0248",
   "metadata": {},
   "outputs": [
    {
     "data": {
      "text/html": [
       "<div>\n",
       "<style scoped>\n",
       "    .dataframe tbody tr th:only-of-type {\n",
       "        vertical-align: middle;\n",
       "    }\n",
       "\n",
       "    .dataframe tbody tr th {\n",
       "        vertical-align: top;\n",
       "    }\n",
       "\n",
       "    .dataframe thead th {\n",
       "        text-align: right;\n",
       "    }\n",
       "</style>\n",
       "<table border=\"1\" class=\"dataframe\">\n",
       "  <thead>\n",
       "    <tr style=\"text-align: right;\">\n",
       "      <th></th>\n",
       "      <th>lp</th>\n",
       "      <th>date</th>\n",
       "      <th>item_id</th>\n",
       "      <th>categories</th>\n",
       "      <th>pay_option_on_delivery</th>\n",
       "      <th>pay_option_transfer</th>\n",
       "      <th>seller</th>\n",
       "      <th>price</th>\n",
       "      <th>it_is_allegro_standard</th>\n",
       "      <th>it_quantity</th>\n",
       "      <th>it_is_brand_zone</th>\n",
       "      <th>it_seller_rating</th>\n",
       "      <th>it_location</th>\n",
       "      <th>main_category</th>\n",
       "    </tr>\n",
       "  </thead>\n",
       "  <tbody>\n",
       "    <tr>\n",
       "      <th>0</th>\n",
       "      <td>0</td>\n",
       "      <td>2016-04-03 21:21:08</td>\n",
       "      <td>4753602474</td>\n",
       "      <td>['Komputery', 'Dyski i napędy', 'Nośniki', 'No...</td>\n",
       "      <td>1</td>\n",
       "      <td>1</td>\n",
       "      <td>radzioch666</td>\n",
       "      <td>59.99</td>\n",
       "      <td>1</td>\n",
       "      <td>997</td>\n",
       "      <td>0</td>\n",
       "      <td>50177</td>\n",
       "      <td>Warszawa</td>\n",
       "      <td>Komputery</td>\n",
       "    </tr>\n",
       "    <tr>\n",
       "      <th>1</th>\n",
       "      <td>1</td>\n",
       "      <td>2016-04-03 15:35:26</td>\n",
       "      <td>4773181874</td>\n",
       "      <td>['Odzież, Obuwie, Dodatki', 'Bielizna damska',...</td>\n",
       "      <td>1</td>\n",
       "      <td>1</td>\n",
       "      <td>InwestycjeNET</td>\n",
       "      <td>4.90</td>\n",
       "      <td>1</td>\n",
       "      <td>9288</td>\n",
       "      <td>0</td>\n",
       "      <td>12428</td>\n",
       "      <td>Warszawa</td>\n",
       "      <td>Odzież, Obuwie, Dodatki</td>\n",
       "    </tr>\n",
       "    <tr>\n",
       "      <th>2</th>\n",
       "      <td>2</td>\n",
       "      <td>2016-04-03 14:14:31</td>\n",
       "      <td>4781627074</td>\n",
       "      <td>['Dom i Ogród', 'Budownictwo i Akcesoria', 'Śc...</td>\n",
       "      <td>1</td>\n",
       "      <td>1</td>\n",
       "      <td>otostyl_com</td>\n",
       "      <td>109.90</td>\n",
       "      <td>1</td>\n",
       "      <td>895</td>\n",
       "      <td>0</td>\n",
       "      <td>7389</td>\n",
       "      <td>Leszno</td>\n",
       "      <td>Dom i Ogród</td>\n",
       "    </tr>\n",
       "    <tr>\n",
       "      <th>3</th>\n",
       "      <td>3</td>\n",
       "      <td>2016-04-03 19:55:44</td>\n",
       "      <td>4783971474</td>\n",
       "      <td>['Książki i Komiksy', 'Poradniki i albumy', 'Z...</td>\n",
       "      <td>1</td>\n",
       "      <td>1</td>\n",
       "      <td>Matfel1</td>\n",
       "      <td>18.50</td>\n",
       "      <td>0</td>\n",
       "      <td>971</td>\n",
       "      <td>0</td>\n",
       "      <td>15006</td>\n",
       "      <td>Wola Krzysztoporska</td>\n",
       "      <td>Książki i Komiksy</td>\n",
       "    </tr>\n",
       "    <tr>\n",
       "      <th>4</th>\n",
       "      <td>4</td>\n",
       "      <td>2016-04-03 18:05:54</td>\n",
       "      <td>4787908274</td>\n",
       "      <td>['Odzież, Obuwie, Dodatki', 'Ślub i wesele', '...</td>\n",
       "      <td>1</td>\n",
       "      <td>1</td>\n",
       "      <td>PPHU_RICO</td>\n",
       "      <td>19.90</td>\n",
       "      <td>1</td>\n",
       "      <td>950</td>\n",
       "      <td>0</td>\n",
       "      <td>32975</td>\n",
       "      <td>BIAŁYSTOK</td>\n",
       "      <td>Odzież, Obuwie, Dodatki</td>\n",
       "    </tr>\n",
       "  </tbody>\n",
       "</table>\n",
       "</div>"
      ],
      "text/plain": [
       "   lp                 date     item_id  \\\n",
       "0   0  2016-04-03 21:21:08  4753602474   \n",
       "1   1  2016-04-03 15:35:26  4773181874   \n",
       "2   2  2016-04-03 14:14:31  4781627074   \n",
       "3   3  2016-04-03 19:55:44  4783971474   \n",
       "4   4  2016-04-03 18:05:54  4787908274   \n",
       "\n",
       "                                          categories  pay_option_on_delivery  \\\n",
       "0  ['Komputery', 'Dyski i napędy', 'Nośniki', 'No...                       1   \n",
       "1  ['Odzież, Obuwie, Dodatki', 'Bielizna damska',...                       1   \n",
       "2  ['Dom i Ogród', 'Budownictwo i Akcesoria', 'Śc...                       1   \n",
       "3  ['Książki i Komiksy', 'Poradniki i albumy', 'Z...                       1   \n",
       "4  ['Odzież, Obuwie, Dodatki', 'Ślub i wesele', '...                       1   \n",
       "\n",
       "   pay_option_transfer         seller   price  it_is_allegro_standard  \\\n",
       "0                    1    radzioch666   59.99                       1   \n",
       "1                    1  InwestycjeNET    4.90                       1   \n",
       "2                    1    otostyl_com  109.90                       1   \n",
       "3                    1        Matfel1   18.50                       0   \n",
       "4                    1      PPHU_RICO   19.90                       1   \n",
       "\n",
       "   it_quantity  it_is_brand_zone  it_seller_rating          it_location  \\\n",
       "0          997                 0             50177             Warszawa   \n",
       "1         9288                 0             12428             Warszawa   \n",
       "2          895                 0              7389               Leszno   \n",
       "3          971                 0             15006  Wola Krzysztoporska   \n",
       "4          950                 0             32975            BIAŁYSTOK   \n",
       "\n",
       "             main_category  \n",
       "0                Komputery  \n",
       "1  Odzież, Obuwie, Dodatki  \n",
       "2              Dom i Ogród  \n",
       "3        Książki i Komiksy  \n",
       "4  Odzież, Obuwie, Dodatki  "
      ]
     },
     "execution_count": 98,
     "metadata": {},
     "output_type": "execute_result"
    }
   ],
   "source": [
    "df = pd.read_csv('allegro-api-transactions.csv')\n",
    "df.head()"
   ]
  },
  {
   "cell_type": "markdown",
   "id": "7d02f7df",
   "metadata": {},
   "source": [
    "#### Analiza braków danych"
   ]
  },
  {
   "cell_type": "code",
   "execution_count": 16,
   "id": "0ab20a2b",
   "metadata": {},
   "outputs": [
    {
     "name": "stdout",
     "output_type": "stream",
     "text": [
      "<class 'pandas.core.frame.DataFrame'>\n",
      "RangeIndex: 420020 entries, 0 to 420019\n",
      "Data columns (total 14 columns):\n",
      " #   Column                  Non-Null Count   Dtype  \n",
      "---  ------                  --------------   -----  \n",
      " 0   lp                      420020 non-null  int64  \n",
      " 1   date                    420020 non-null  object \n",
      " 2   item_id                 420020 non-null  int64  \n",
      " 3   categories              420020 non-null  object \n",
      " 4   pay_option_on_delivery  420020 non-null  int64  \n",
      " 5   pay_option_transfer     420020 non-null  int64  \n",
      " 6   seller                  420020 non-null  object \n",
      " 7   price                   420020 non-null  float64\n",
      " 8   it_is_allegro_standard  420020 non-null  int64  \n",
      " 9   it_quantity             420020 non-null  int64  \n",
      " 10  it_is_brand_zone        420020 non-null  int64  \n",
      " 11  it_seller_rating        420020 non-null  int64  \n",
      " 12  it_location             420020 non-null  object \n",
      " 13  main_category           420020 non-null  object \n",
      "dtypes: float64(1), int64(8), object(5)\n",
      "memory usage: 44.9+ MB\n"
     ]
    }
   ],
   "source": [
    "df.info()"
   ]
  },
  {
   "cell_type": "markdown",
   "id": "7656554b",
   "metadata": {},
   "source": [
    "W ramce danych nie wystąpują wartości None/Null, więc nie będziemy musieli zajmować się uzupełnianiem brakujących wartości."
   ]
  },
  {
   "cell_type": "markdown",
   "id": "dff89691",
   "metadata": {},
   "source": [
    "#### Rozkłady zmiennych\n",
    "Pomimo, że niektóre zmienne są typu *int* i *float*, to mogą to być zmienne dyskretne/kategoryczne. Sprawdźmy to zatem:"
   ]
  },
  {
   "cell_type": "code",
   "execution_count": 17,
   "id": "3e84088e",
   "metadata": {},
   "outputs": [
    {
     "data": {
      "image/png": "[encoded data removed]",
      "text/plain": [
       "<Figure size 1296x864 with 9 Axes>"
      ]
     },
     "metadata": {
      "needs_background": "light"
     },
     "output_type": "display_data"
    }
   ],
   "source": [
    "df.hist(figsize=(18, 12), bins=40)\n",
    "plt.show()"
   ]
  },
  {
   "cell_type": "markdown",
   "id": "eb5dc1c1",
   "metadata": {},
   "source": [
    "Mimo, że z histogramu niektóre wielkości wyglądają na kategoryczne lepiej upewnic się korzystając ze zliczenia występujących wartości:"
   ]
  },
  {
   "cell_type": "code",
   "execution_count": 18,
   "id": "cf3bab07",
   "metadata": {},
   "outputs": [
    {
     "data": {
      "text/plain": [
       "1    368766\n",
       "0     51254\n",
       "Name: pay_option_on_delivery, dtype: int64"
      ]
     },
     "execution_count": 18,
     "metadata": {},
     "output_type": "execute_result"
    }
   ],
   "source": [
    "df['pay_option_on_delivery'].value_counts()"
   ]
  },
  {
   "cell_type": "code",
   "execution_count": 19,
   "id": "f4da9069",
   "metadata": {},
   "outputs": [
    {
     "data": {
      "text/plain": [
       "1    341264\n",
       "0     78756\n",
       "Name: pay_option_transfer, dtype: int64"
      ]
     },
     "execution_count": 19,
     "metadata": {},
     "output_type": "execute_result"
    }
   ],
   "source": [
    "df['pay_option_transfer'].value_counts()"
   ]
  },
  {
   "cell_type": "code",
   "execution_count": 20,
   "id": "a1a1f950",
   "metadata": {},
   "outputs": [
    {
     "data": {
      "text/plain": [
       "1    245063\n",
       "0    174957\n",
       "Name: it_is_allegro_standard, dtype: int64"
      ]
     },
     "execution_count": 20,
     "metadata": {},
     "output_type": "execute_result"
    }
   ],
   "source": [
    "df['it_is_allegro_standard'].value_counts()"
   ]
  },
  {
   "cell_type": "code",
   "execution_count": 21,
   "id": "a1c1585d",
   "metadata": {},
   "outputs": [
    {
     "data": {
      "text/plain": [
       "0    413008\n",
       "1      7012\n",
       "Name: it_is_brand_zone, dtype: int64"
      ]
     },
     "execution_count": 21,
     "metadata": {},
     "output_type": "execute_result"
    }
   ],
   "source": [
    "df['it_is_brand_zone'].value_counts()"
   ]
  },
  {
   "cell_type": "code",
   "execution_count": 22,
   "id": "150786fd",
   "metadata": {},
   "outputs": [
    {
     "data": {
      "text/plain": [
       "0        63480\n",
       "1        11349\n",
       "2         8579\n",
       "3         7234\n",
       "4         6865\n",
       "         ...  \n",
       "19969        1\n",
       "7997         1\n",
       "3314         1\n",
       "8106         1\n",
       "65505        1\n",
       "Name: it_quantity, Length: 7305, dtype: int64"
      ]
     },
     "execution_count": 22,
     "metadata": {},
     "output_type": "execute_result"
    }
   ],
   "source": [
    "df['it_quantity'].value_counts()"
   ]
  },
  {
   "cell_type": "code",
   "execution_count": 23,
   "id": "7e097d12",
   "metadata": {},
   "outputs": [
    {
     "data": {
      "text/plain": [
       "1.00      7904\n",
       "9.99      4441\n",
       "19.99     4201\n",
       "99.00     3583\n",
       "15.00     3393\n",
       "          ... \n",
       "58.66        1\n",
       "443.00       1\n",
       "169.87       1\n",
       "209.49       1\n",
       "116.62       1\n",
       "Name: price, Length: 9722, dtype: int64"
      ]
     },
     "execution_count": 23,
     "metadata": {},
     "output_type": "execute_result"
    }
   ],
   "source": [
    "df['price'].value_counts()"
   ]
  },
  {
   "cell_type": "markdown",
   "id": "a8b0019e",
   "metadata": {},
   "source": [
    "Widać więc, że zmienne *pay_option_on_delivery*, *pay_option_transfer*, *it_is_allegro_standard*, *it_is_brand_zone* są kategoryczne z dwiema wartościami: 0 i 1. Natomiast zmienne *it_quantity* oraz *price* okazały się być ciągłe."
   ]
  },
  {
   "cell_type": "code",
   "execution_count": 25,
   "id": "26f5acb5",
   "metadata": {},
   "outputs": [],
   "source": [
    "# NIE WIEM  W SUMIE CO Z TYMI CO MAJA TYP OBJECT"
   ]
  },
  {
   "cell_type": "markdown",
   "id": "8b280ac2",
   "metadata": {},
   "source": [
    "### Podział na zbiór treningowy, testowy i walidacyjny"
   ]
  },
  {
   "cell_type": "code",
   "execution_count": 89,
   "id": "ff1da840",
   "metadata": {},
   "outputs": [],
   "source": [
    "#Wyróżnienie zbioru, na którym będziemy pracować i zbiory do walidacji\n",
    "X, X_valid = sklearn.model_selection.train_test_split(\n",
    "    df,\n",
    "    test_size=0.30, random_state=100)\n",
    "\n",
    "#Wyróżnienie zbioru treningowego i testowego\n",
    "X_train, X_test = sklearn.model_selection.train_test_split(\n",
    "    X,\n",
    "    test_size=0.30, random_state=100)"
   ]
  },
  {
   "cell_type": "markdown",
   "id": "44e2a439",
   "metadata": {},
   "source": [
    "### Zamiana zmiennych ciągłych na kategoryczne"
   ]
  },
  {
   "cell_type": "markdown",
   "id": "d6a0ea57",
   "metadata": {},
   "source": [
    "Nie ma sensu zmienać zmiennej *item_id* ponieważ to numer identyfikujący konketną rzecz. Do zmiany pozostają zatem tylko zmienne *it_quantity*,  *it_seller_rating* oraz *price*."
   ]
  },
  {
   "cell_type": "markdown",
   "id": "c9fff8e6",
   "metadata": {},
   "source": [
    "##### it_guantity"
   ]
  },
  {
   "cell_type": "code",
   "execution_count": 90,
   "id": "0a799335",
   "metadata": {},
   "outputs": [
    {
     "data": {
      "text/plain": [
       "Text(0.5, 1.0, 'Zmienna it_quantity')"
      ]
     },
     "execution_count": 90,
     "metadata": {},
     "output_type": "execute_result"
    },
    {
     "data": {
      "image/png": "[encoded data removed]",
      "text/plain": [
       "<Figure size 1440x432 with 1 Axes>"
      ]
     },
     "metadata": {
      "needs_background": "light"
     },
     "output_type": "display_data"
    }
   ],
   "source": [
    "plt.figure(figsize=(20, 6))\n",
    "box_plot = sns.boxplot(X_train['it_quantity'])\n",
    "box_plot.set_title('Zmienna it_quantity')"
   ]
  },
  {
   "cell_type": "code",
   "execution_count": 91,
   "id": "5e0527fd",
   "metadata": {},
   "outputs": [
    {
     "data": {
      "text/plain": [
       "99999"
      ]
     },
     "execution_count": 91,
     "metadata": {},
     "output_type": "execute_result"
    }
   ],
   "source": [
    "X_train['it_quantity'].max()"
   ]
  },
  {
   "cell_type": "code",
   "execution_count": 92,
   "id": "e5470e54",
   "metadata": {},
   "outputs": [],
   "source": [
    "# NIE WIEM JAK TU PODZIELIC"
   ]
  },
  {
   "cell_type": "markdown",
   "id": "9916f47e",
   "metadata": {},
   "source": [
    "Podzielimy tę zmienną na 5 grup: \n",
    "* A: 0-19 999\n",
    "* B: 20 000 - 39 999\n",
    "* C: 40 000 - 59 999\n",
    "* D: 60 000 - 79 999\n",
    "* E: 80 000 - 100 000"
   ]
  },
  {
   "cell_type": "code",
   "execution_count": 94,
   "id": "3faa40f0",
   "metadata": {},
   "outputs": [],
   "source": [
    "X_train['it_quantity'] = pd.cut(X_train['it_quantity'], bins=[-1, 20000, 40000, 60000, 80000, 100000], labels=['A', 'B', 'C', 'D', 'E'])"
   ]
  },
  {
   "cell_type": "markdown",
   "id": "dba63b8e",
   "metadata": {},
   "source": [
    "##### it_seller_rating"
   ]
  },
  {
   "cell_type": "code",
   "execution_count": 99,
   "id": "354d4a4a",
   "metadata": {},
   "outputs": [
    {
     "data": {
      "text/plain": [
       "Text(0.5, 1.0, 'Zmienna it_seller_rating')"
      ]
     },
     "execution_count": 99,
     "metadata": {},
     "output_type": "execute_result"
    },
    {
     "data": {
      "image/png": "[encoded data removed]",
      "text/plain": [
       "<Figure size 1440x432 with 1 Axes>"
      ]
     },
     "metadata": {
      "needs_background": "light"
     },
     "output_type": "display_data"
    }
   ],
   "source": [
    "plt.figure(figsize=(20, 6))\n",
    "box_plot = sns.boxplot(X_train['it_seller_rating'])\n",
    "box_plot.set_title('Zmienna it_seller_rating')"
   ]
  },
  {
   "cell_type": "code",
   "execution_count": null,
   "id": "629ac51e",
   "metadata": {},
   "outputs": [],
   "source": []
  },
  {
   "cell_type": "markdown",
   "id": "95e93c05",
   "metadata": {},
   "source": [
    "##### price"
   ]
  },
  {
   "cell_type": "code",
   "execution_count": 61,
   "id": "fb9e5e36",
   "metadata": {},
   "outputs": [
    {
     "data": {
      "text/plain": [
       "Text(0.5, 1.0, 'Zmienna price')"
      ]
     },
     "execution_count": 61,
     "metadata": {},
     "output_type": "execute_result"
    },
    {
     "data": {
      "image/png": "[encoded data removed]",
      "text/plain": [
       "<Figure size 1440x432 with 1 Axes>"
      ]
     },
     "metadata": {
      "needs_background": "light"
     },
     "output_type": "display_data"
    }
   ],
   "source": [
    "plt.figure(figsize=(20, 6))\n",
    "box_plot = sns.boxplot(X_train['price'])\n",
    "box_plot.set_title('Zmienna price')"
   ]
  },
  {
   "cell_type": "markdown",
   "id": "49f06824",
   "metadata": {},
   "source": [
    "Jeśli mamy podzielić zmienną *price* na 3 kategorie: cena wysoka, cena średnia oraz cena niska, to widać, że dane większe niż 10000 będą z pewnością zaliczać się do ostaniej grupy, ponieważ są to wartości odstające. "
   ]
  },
  {
   "cell_type": "code",
   "execution_count": 29,
   "id": "1787b9f1",
   "metadata": {},
   "outputs": [
    {
     "data": {
      "text/plain": [
       "count    205809.000000\n",
       "mean         76.939211\n",
       "std         432.166615\n",
       "min           0.000000\n",
       "25%           9.000000\n",
       "50%          24.990000\n",
       "75%          68.000000\n",
       "max      119000.000000\n",
       "Name: price, dtype: float64"
      ]
     },
     "execution_count": 29,
     "metadata": {},
     "output_type": "execute_result"
    }
   ],
   "source": [
    "X_train['price'].describe()"
   ]
  },
  {
   "cell_type": "code",
   "execution_count": 62,
   "id": "f2223a45",
   "metadata": {},
   "outputs": [
    {
     "data": {
      "image/png": "[encoded data removed]",
      "text/plain": [
       "<Figure size 1440x432 with 1 Axes>"
      ]
     },
     "metadata": {
      "needs_background": "light"
     },
     "output_type": "display_data"
    }
   ],
   "source": [
    "plt.figure(figsize=(20, 6))\n",
    "tmp = X_train.loc[X_train['price'] < 400]\n",
    "box_plot = sns.boxplot(tmp['price'])"
   ]
  },
  {
   "cell_type": "code",
   "execution_count": 31,
   "id": "8b375e12",
   "metadata": {},
   "outputs": [
    {
     "data": {
      "text/plain": [
       "168.72000000000116"
      ]
     },
     "execution_count": 31,
     "metadata": {},
     "output_type": "execute_result"
    }
   ],
   "source": [
    "np.percentile(X_train['price'], 90)"
   ]
  },
  {
   "cell_type": "code",
   "execution_count": 32,
   "id": "d644e647",
   "metadata": {},
   "outputs": [],
   "source": [
    "#NIE WIEM TU W SUMIE JAK DOKŁADNIE PODZIELIĆ"
   ]
  },
  {
   "cell_type": "code",
   "execution_count": 49,
   "id": "99de5a21",
   "metadata": {},
   "outputs": [],
   "source": [
    "tmp = pd.cut(X_train['price'], bins=[0, 150, 1000, np.inf], labels=['niska cena', 'średnia cena', 'wysoka cena'])"
   ]
  },
  {
   "cell_type": "code",
   "execution_count": 50,
   "id": "4eda9f4b",
   "metadata": {},
   "outputs": [
    {
     "data": {
      "text/plain": [
       "206090    NaN\n",
       "247789    NaN\n",
       "127751    NaN\n",
       "58547     NaN\n",
       "8433      NaN\n",
       "336570    NaN\n",
       "224534    NaN\n",
       "328635    NaN\n",
       "182919    NaN\n",
       "45669     NaN\n",
       "201684    NaN\n",
       "346869    NaN\n",
       "12741     NaN\n",
       "320207    NaN\n",
       "417758    NaN\n",
       "379219    NaN\n",
       "Name: price, dtype: category\n",
       "Categories (3, object): ['niska cena' < 'średnia cena' < 'wysoka cena']"
      ]
     },
     "execution_count": 50,
     "metadata": {},
     "output_type": "execute_result"
    }
   ],
   "source": [
    "# sprawdzamy czy przy takim podziale wstąpią jakieś braki dnaych\n",
    "tmp[tmp.isna()]"
   ]
  },
  {
   "cell_type": "code",
   "execution_count": 51,
   "id": "96df65c5",
   "metadata": {},
   "outputs": [
    {
     "data": {
      "text/plain": [
       "0.0"
      ]
     },
     "execution_count": 51,
     "metadata": {},
     "output_type": "execute_result"
    }
   ],
   "source": [
    "#sprawdzamy dlaczego wystapiły\n",
    "X_train.loc[379219, 'price']"
   ]
  },
  {
   "cell_type": "markdown",
   "id": "3dbc0ef3",
   "metadata": {},
   "source": [
    "Nie wiadomo jak interpretować cenę wynoszącą 0, zatem ze względu na to, że wartości tych jest stosunkowo niewiele lepiej je usunąć."
   ]
  },
  {
   "cell_type": "code",
   "execution_count": 58,
   "id": "669f65ec",
   "metadata": {},
   "outputs": [],
   "source": [
    "X_train = X_train[X_train.price != 0]"
   ]
  },
  {
   "cell_type": "code",
   "execution_count": 78,
   "id": "65983671",
   "metadata": {},
   "outputs": [],
   "source": [
    "#zmiana pice na zmienną kategoryczną:\n",
    "X_train['price'] = pd.cut(X_train['price'], bins=[0, 150, 1000, np.inf], labels=['niska cena', 'średnia cena', 'wysoka cena'])"
   ]
  },
  {
   "cell_type": "code",
   "execution_count": 79,
   "id": "cc7cdab1",
   "metadata": {},
   "outputs": [
    {
     "data": {
      "text/html": [
       "<div>\n",
       "<style scoped>\n",
       "    .dataframe tbody tr th:only-of-type {\n",
       "        vertical-align: middle;\n",
       "    }\n",
       "\n",
       "    .dataframe tbody tr th {\n",
       "        vertical-align: top;\n",
       "    }\n",
       "\n",
       "    .dataframe thead th {\n",
       "        text-align: right;\n",
       "    }\n",
       "</style>\n",
       "<table border=\"1\" class=\"dataframe\">\n",
       "  <thead>\n",
       "    <tr style=\"text-align: right;\">\n",
       "      <th></th>\n",
       "      <th>lp</th>\n",
       "      <th>date</th>\n",
       "      <th>item_id</th>\n",
       "      <th>categories</th>\n",
       "      <th>pay_option_on_delivery</th>\n",
       "      <th>pay_option_transfer</th>\n",
       "      <th>seller</th>\n",
       "      <th>price</th>\n",
       "      <th>it_is_allegro_standard</th>\n",
       "      <th>it_quantity</th>\n",
       "      <th>it_is_brand_zone</th>\n",
       "      <th>it_seller_rating</th>\n",
       "      <th>it_location</th>\n",
       "      <th>main_category</th>\n",
       "    </tr>\n",
       "  </thead>\n",
       "  <tbody>\n",
       "    <tr>\n",
       "      <th>258810</th>\n",
       "      <td>258810</td>\n",
       "      <td>2016-04-03 21:38:53</td>\n",
       "      <td>5758939933</td>\n",
       "      <td>['Motoryzacja', 'Akcesoria samochodowe', 'Chla...</td>\n",
       "      <td>1</td>\n",
       "      <td>1</td>\n",
       "      <td>AutoCentrumSopot</td>\n",
       "      <td>niska cena</td>\n",
       "      <td>1</td>\n",
       "      <td>2</td>\n",
       "      <td>0</td>\n",
       "      <td>1017</td>\n",
       "      <td>Sopot</td>\n",
       "      <td>Motoryzacja</td>\n",
       "    </tr>\n",
       "    <tr>\n",
       "      <th>365240</th>\n",
       "      <td>365240</td>\n",
       "      <td>2016-04-03 11:11:25</td>\n",
       "      <td>4837911549</td>\n",
       "      <td>['Dom i Ogród', 'Utrzymanie czystości', 'Środk...</td>\n",
       "      <td>1</td>\n",
       "      <td>1</td>\n",
       "      <td>niemchem_com</td>\n",
       "      <td>niska cena</td>\n",
       "      <td>1</td>\n",
       "      <td>110</td>\n",
       "      <td>0</td>\n",
       "      <td>52680</td>\n",
       "      <td>SZEWCE</td>\n",
       "      <td>Dom i Ogród</td>\n",
       "    </tr>\n",
       "    <tr>\n",
       "      <th>271612</th>\n",
       "      <td>271612</td>\n",
       "      <td>2016-04-03 20:54:46</td>\n",
       "      <td>5983284139</td>\n",
       "      <td>['Dom i Ogród', 'Ogród', 'Narzędzia ogrodnicze...</td>\n",
       "      <td>1</td>\n",
       "      <td>1</td>\n",
       "      <td>agrowysylka</td>\n",
       "      <td>niska cena</td>\n",
       "      <td>0</td>\n",
       "      <td>3987</td>\n",
       "      <td>0</td>\n",
       "      <td>2471</td>\n",
       "      <td>Kielce</td>\n",
       "      <td>Dom i Ogród</td>\n",
       "    </tr>\n",
       "    <tr>\n",
       "      <th>271568</th>\n",
       "      <td>271568</td>\n",
       "      <td>2016-04-03 13:37:29</td>\n",
       "      <td>5970379539</td>\n",
       "      <td>['Zdrowie', 'Pozostałe', 'Profesjonalne wyposa...</td>\n",
       "      <td>1</td>\n",
       "      <td>1</td>\n",
       "      <td>siima_pl</td>\n",
       "      <td>niska cena</td>\n",
       "      <td>1</td>\n",
       "      <td>22</td>\n",
       "      <td>0</td>\n",
       "      <td>837</td>\n",
       "      <td>Kraków</td>\n",
       "      <td>Zdrowie</td>\n",
       "    </tr>\n",
       "    <tr>\n",
       "      <th>99302</th>\n",
       "      <td>99302</td>\n",
       "      <td>2016-04-03 13:37:31</td>\n",
       "      <td>6086525489</td>\n",
       "      <td>['Odzież, Obuwie, Dodatki', 'Odzież damska', '...</td>\n",
       "      <td>1</td>\n",
       "      <td>1</td>\n",
       "      <td>Miss_Fergee</td>\n",
       "      <td>niska cena</td>\n",
       "      <td>1</td>\n",
       "      <td>3</td>\n",
       "      <td>0</td>\n",
       "      <td>4485</td>\n",
       "      <td>Łódź</td>\n",
       "      <td>Odzież, Obuwie, Dodatki</td>\n",
       "    </tr>\n",
       "    <tr>\n",
       "      <th>362471</th>\n",
       "      <td>362471</td>\n",
       "      <td>2016-04-03 12:56:59</td>\n",
       "      <td>6028323623</td>\n",
       "      <td>['RTV i AGD', 'AGD drobne', 'Do domu', 'Odkurz...</td>\n",
       "      <td>1</td>\n",
       "      <td>0</td>\n",
       "      <td>udane--zakupy</td>\n",
       "      <td>niska cena</td>\n",
       "      <td>0</td>\n",
       "      <td>5</td>\n",
       "      <td>0</td>\n",
       "      <td>10584</td>\n",
       "      <td>BIAŁYSTOK</td>\n",
       "      <td>RTV i AGD</td>\n",
       "    </tr>\n",
       "    <tr>\n",
       "      <th>278236</th>\n",
       "      <td>278236</td>\n",
       "      <td>2016-04-03 17:22:25</td>\n",
       "      <td>6045632208</td>\n",
       "      <td>['Biżuteria i Zegarki', 'Zegarki', 'Damskie', ...</td>\n",
       "      <td>1</td>\n",
       "      <td>0</td>\n",
       "      <td>tanie_zegarki</td>\n",
       "      <td>niska cena</td>\n",
       "      <td>0</td>\n",
       "      <td>993</td>\n",
       "      <td>0</td>\n",
       "      <td>40</td>\n",
       "      <td>Ciężkowice</td>\n",
       "      <td>Biżuteria i Zegarki</td>\n",
       "    </tr>\n",
       "    <tr>\n",
       "      <th>12647</th>\n",
       "      <td>12647</td>\n",
       "      <td>2016-04-03 16:35:47</td>\n",
       "      <td>6077106797</td>\n",
       "      <td>['Motoryzacja', 'Akcesoria samochodowe', 'Gadż...</td>\n",
       "      <td>1</td>\n",
       "      <td>1</td>\n",
       "      <td>FlexGraf</td>\n",
       "      <td>niska cena</td>\n",
       "      <td>1</td>\n",
       "      <td>0</td>\n",
       "      <td>0</td>\n",
       "      <td>3100</td>\n",
       "      <td>Poznań</td>\n",
       "      <td>Motoryzacja</td>\n",
       "    </tr>\n",
       "    <tr>\n",
       "      <th>307986</th>\n",
       "      <td>307986</td>\n",
       "      <td>2016-04-03 11:08:15</td>\n",
       "      <td>5005242449</td>\n",
       "      <td>['Dom i Ogród', 'Ogród', 'Rośliny', 'Nasiona',...</td>\n",
       "      <td>0</td>\n",
       "      <td>1</td>\n",
       "      <td>HURTPOL1</td>\n",
       "      <td>niska cena</td>\n",
       "      <td>0</td>\n",
       "      <td>91</td>\n",
       "      <td>0</td>\n",
       "      <td>20374</td>\n",
       "      <td>Sierpc</td>\n",
       "      <td>Dom i Ogród</td>\n",
       "    </tr>\n",
       "    <tr>\n",
       "      <th>269733</th>\n",
       "      <td>269733</td>\n",
       "      <td>2016-04-03 07:32:26</td>\n",
       "      <td>6020491736</td>\n",
       "      <td>['Sport i Turystyka', 'Bieganie', 'Sprzęt pomi...</td>\n",
       "      <td>1</td>\n",
       "      <td>1</td>\n",
       "      <td>Martomzoo</td>\n",
       "      <td>niska cena</td>\n",
       "      <td>0</td>\n",
       "      <td>9905</td>\n",
       "      <td>0</td>\n",
       "      <td>7897</td>\n",
       "      <td>Zielona Góra</td>\n",
       "      <td>Sport i Turystyka</td>\n",
       "    </tr>\n",
       "  </tbody>\n",
       "</table>\n",
       "</div>"
      ],
      "text/plain": [
       "            lp                 date     item_id  \\\n",
       "258810  258810  2016-04-03 21:38:53  5758939933   \n",
       "365240  365240  2016-04-03 11:11:25  4837911549   \n",
       "271612  271612  2016-04-03 20:54:46  5983284139   \n",
       "271568  271568  2016-04-03 13:37:29  5970379539   \n",
       "99302    99302  2016-04-03 13:37:31  6086525489   \n",
       "362471  362471  2016-04-03 12:56:59  6028323623   \n",
       "278236  278236  2016-04-03 17:22:25  6045632208   \n",
       "12647    12647  2016-04-03 16:35:47  6077106797   \n",
       "307986  307986  2016-04-03 11:08:15  5005242449   \n",
       "269733  269733  2016-04-03 07:32:26  6020491736   \n",
       "\n",
       "                                               categories  \\\n",
       "258810  ['Motoryzacja', 'Akcesoria samochodowe', 'Chla...   \n",
       "365240  ['Dom i Ogród', 'Utrzymanie czystości', 'Środk...   \n",
       "271612  ['Dom i Ogród', 'Ogród', 'Narzędzia ogrodnicze...   \n",
       "271568  ['Zdrowie', 'Pozostałe', 'Profesjonalne wyposa...   \n",
       "99302   ['Odzież, Obuwie, Dodatki', 'Odzież damska', '...   \n",
       "362471  ['RTV i AGD', 'AGD drobne', 'Do domu', 'Odkurz...   \n",
       "278236  ['Biżuteria i Zegarki', 'Zegarki', 'Damskie', ...   \n",
       "12647   ['Motoryzacja', 'Akcesoria samochodowe', 'Gadż...   \n",
       "307986  ['Dom i Ogród', 'Ogród', 'Rośliny', 'Nasiona',...   \n",
       "269733  ['Sport i Turystyka', 'Bieganie', 'Sprzęt pomi...   \n",
       "\n",
       "        pay_option_on_delivery  pay_option_transfer            seller  \\\n",
       "258810                       1                    1  AutoCentrumSopot   \n",
       "365240                       1                    1      niemchem_com   \n",
       "271612                       1                    1       agrowysylka   \n",
       "271568                       1                    1          siima_pl   \n",
       "99302                        1                    1       Miss_Fergee   \n",
       "362471                       1                    0     udane--zakupy   \n",
       "278236                       1                    0     tanie_zegarki   \n",
       "12647                        1                    1          FlexGraf   \n",
       "307986                       0                    1          HURTPOL1   \n",
       "269733                       1                    1         Martomzoo   \n",
       "\n",
       "             price  it_is_allegro_standard  it_quantity  it_is_brand_zone  \\\n",
       "258810  niska cena                       1            2                 0   \n",
       "365240  niska cena                       1          110                 0   \n",
       "271612  niska cena                       0         3987                 0   \n",
       "271568  niska cena                       1           22                 0   \n",
       "99302   niska cena                       1            3                 0   \n",
       "362471  niska cena                       0            5                 0   \n",
       "278236  niska cena                       0          993                 0   \n",
       "12647   niska cena                       1            0                 0   \n",
       "307986  niska cena                       0           91                 0   \n",
       "269733  niska cena                       0         9905                 0   \n",
       "\n",
       "        it_seller_rating   it_location            main_category  \n",
       "258810              1017         Sopot              Motoryzacja  \n",
       "365240             52680        SZEWCE              Dom i Ogród  \n",
       "271612              2471        Kielce              Dom i Ogród  \n",
       "271568               837        Kraków                  Zdrowie  \n",
       "99302               4485          Łódź  Odzież, Obuwie, Dodatki  \n",
       "362471             10584     BIAŁYSTOK                RTV i AGD  \n",
       "278236                40    Ciężkowice      Biżuteria i Zegarki  \n",
       "12647               3100        Poznań              Motoryzacja  \n",
       "307986             20374        Sierpc              Dom i Ogród  \n",
       "269733              7897  Zielona Góra        Sport i Turystyka  "
      ]
     },
     "execution_count": 79,
     "metadata": {},
     "output_type": "execute_result"
    }
   ],
   "source": []
  },
  {
   "cell_type": "code",
   "execution_count": null,
   "id": "c72e5b64",
   "metadata": {},
   "outputs": [],
   "source": []
  }
 ],
 "metadata": {
  "kernelspec": {
   "display_name": "Python 3 (ipykernel)",
   "language": "python",
   "name": "python3"
  },
  "language_info": {
   "codemirror_mode": {
    "name": "ipython",
    "version": 3
   },
   "file_extension": ".py",
   "mimetype": "text/x-python",
   "name": "python",
   "nbconvert_exporter": "python",
   "pygments_lexer": "ipython3",
   "version": "3.8.12"
  }
 },
 "nbformat": 4,
 "nbformat_minor": 5
}
