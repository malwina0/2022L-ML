{
 "cells": [
  {
   "cell_type": "markdown",
   "metadata": {},
   "source": [
    "## Wstęp do uczenia maszynowego \n",
    "### Praca domowa 4\n",
    "#### Jakub Piwko, Malwina Wojewoda\n",
    "***"
   ]
  },
  {
   "cell_type": "markdown",
   "metadata": {},
   "source": [
    "### Pakiety"
   ]
  },
  {
   "cell_type": "code",
   "execution_count": 1,
   "metadata": {},
   "outputs": [],
   "source": [
    "import pandas as pd\n",
    "import plotly.express as px\n",
    "import numpy as np\n",
    "import sklearn \n",
    "import copy\n",
    "import seaborn as sns\n",
    "import matplotlib.pyplot as plt\n",
    "import matplotlib\n",
    "import warnings\n",
    "warnings.filterwarnings('ignore')\n",
    "np.random.seed(23)\n",
    "from sklearn.model_selection import train_test_split\n",
    "from sklearn.preprocessing import MinMaxScaler\n",
    "from imblearn.over_sampling import SMOTE"
   ]
  },
  {
   "cell_type": "markdown",
   "metadata": {},
   "source": [
    "### Wczytanie i analiza danych"
   ]
  },
  {
   "cell_type": "markdown",
   "metadata": {},
   "source": [
    "Dane opisują Tajwańskie spółki z lat 1999-2009. Przewidujemy zmienną `Bankrupt?`, która wskazuje, czy dana spółka zbankrutuje. "
   ]
  },
  {
   "cell_type": "code",
   "execution_count": 2,
   "metadata": {},
   "outputs": [],
   "source": [
    "df = pd.read_csv('data.csv')"
   ]
  },
  {
   "cell_type": "markdown",
   "metadata": {},
   "source": [
    "Jak wiemy z poprzedniego zadania domowego, w tym zbiorze nie występują braki danych."
   ]
  },
  {
   "cell_type": "code",
   "execution_count": 3,
   "metadata": {},
   "outputs": [],
   "source": [
    "#Wyróżnienie zbioru, na którym będziemy pracować i zbioru do walidacji\n",
    "y_all = df[\"Bankrupt?\"]\n",
    "y_all = y_all.astype('int')\n",
    "X_all = df.drop(\"Bankrupt?\", axis=1)\n",
    "\n",
    "X, X_val, y, y_val = train_test_split(X_all, y_all, random_state=420, test_size=0.3)\n",
    "\n",
    "#Wyróżnienie zbioru treningowego i testowego\n",
    "X_train, X_test, y_train, y_test = train_test_split(X, y, test_size=0.3)"
   ]
  },
  {
   "cell_type": "code",
   "execution_count": 4,
   "metadata": {},
   "outputs": [],
   "source": [
    "X_train_0 = copy.deepcopy(X_train)"
   ]
  },
  {
   "cell_type": "markdown",
   "metadata": {},
   "source": [
    "Z racji, że występują duże dyspropocje w licznościach na zmiennej celu, dorobimy sztucznie więcej rekordów za pomocą `SMOTE`."
   ]
  },
  {
   "cell_type": "code",
   "execution_count": 5,
   "metadata": {},
   "outputs": [],
   "source": [
    "sm = SMOTE(random_state=420)\n",
    "X_train, y_train = sm.fit_resample(X_train, y_train)"
   ]
  },
  {
   "cell_type": "markdown",
   "metadata": {},
   "source": [
    "Wykonamy teraz preprocesing z zadanie domowego nr 3 na tych danych:"
   ]
  },
  {
   "cell_type": "code",
   "execution_count": 6,
   "metadata": {},
   "outputs": [],
   "source": [
    "def preprocessing(df, y):\n",
    "    \n",
    "    col_names = df.columns\n",
    "    indexes_set = set()\n",
    "    num_of_outliers = []\n",
    "\n",
    "    for col in col_names:\n",
    "        tmp_data1 = X_train[col]\n",
    "        upper_lim1 = tmp_data1.quantile(.975)\n",
    "        lower_lim1 = tmp_data1.quantile(.025)\n",
    "        df[col] = np.where(df[col] < upper_lim1, df[col], upper_lim1)\n",
    "        df[col] = np.where(df[col] > lower_lim1, df[col], lower_lim1)\n",
    "\n",
    "    cols_to_scale = []\n",
    "    for col in df.columns:\n",
    "        if df[col].max() > 1:\n",
    "            cols_to_scale.append(col)\n",
    "\n",
    "    for col in cols_to_scale:\n",
    "        min_max_scaler1 = MinMaxScaler()\n",
    "        scaled_col1 = min_max_scaler1.fit_transform(df[col].values.reshape(-1, 1))\n",
    "        df[col] = scaled_col1\n",
    "\n",
    "    corr = df.corr(method = 'spearman')\n",
    "    correlated_features = set()\n",
    "\n",
    "    for i in range(len(corr .columns)):\n",
    "        for j in range(i):\n",
    "            if abs(corr.iloc[i, j]) >= 0.95:\n",
    "                colname = corr.columns[i]\n",
    "                correlated_features.add(colname)\n",
    "                \n",
    "    df_y = pd.concat([df, y], axis=1)\n",
    "    corr = df_y.corr(method = 'spearman')\n",
    "\n",
    "    columns = df.columns\n",
    "\n",
    "    for col in columns:\n",
    "        if corr[\"Bankrupt?\"][col] < 0:\n",
    "            df[col] *= -1     \n",
    "        \n",
    "    return df, y"
   ]
  },
  {
   "cell_type": "code",
   "execution_count": 7,
   "metadata": {},
   "outputs": [],
   "source": [
    "X_train, y_train = preprocessing(X_train, y_train);"
   ]
  },
  {
   "cell_type": "code",
   "execution_count": 8,
   "metadata": {},
   "outputs": [],
   "source": [
    "X_test, y_test = preprocessing(X_test, y_test)"
   ]
  },
  {
   "cell_type": "markdown",
   "metadata": {},
   "source": [
    "## Modele i dobór hiperparametrów "
   ]
  },
  {
   "cell_type": "code",
   "execution_count": 9,
   "metadata": {},
   "outputs": [],
   "source": [
    "from sklearn.model_selection import GridSearchCV, RepeatedStratifiedKFold, RandomizedSearchCV\n",
    "from sklearn.tree import DecisionTreeClassifier\n",
    "from sklearn.svm import SVC\n",
    "from sklearn.ensemble import RandomForestClassifier\n",
    "from sklearn.metrics import accuracy_score, precision_score, recall_score, roc_auc_score, confusion_matrix\n",
    "from scipy.stats import poisson,expon"
   ]
  },
  {
   "cell_type": "code",
   "execution_count": 10,
   "metadata": {},
   "outputs": [],
   "source": [
    "def Scores(model, X, y):\n",
    "    print(f\"Model score: {model.score(X, y)}\")\n",
    "    print(f\"Precision score: {precision_score(y, model.predict(X), average='binary')}\")\n",
    "    print(f\"Gini score: {roc_auc_score(y, model.predict(X))}\")"
   ]
  },
  {
   "cell_type": "code",
   "execution_count": 11,
   "metadata": {},
   "outputs": [],
   "source": [
    "def print_scores(model):\n",
    "    print(f\"ZBIÓR TRENINGOWY:\")\n",
    "    print(f\"Model score: {model.score(X_train, y_train)}\")\n",
    "    print(f\"Precision score: {precision_score(y_train, model.predict(X_train), average='binary')}\")\n",
    "    print(f\"Gini score: {roc_auc_score(y_train, model.predict(X_train))}\")\n",
    "    print(\"-------------------------------\")\n",
    "    print(f\"ZBIÓR TESTOWY:\")\n",
    "    print(f\"Model score: {model.score(X_test, y_test)}\")\n",
    "    print(f\"Precision score: {precision_score(y_test, model.predict(X_test), average='binary')}\")\n",
    "    print(f\"Gini score: {roc_auc_score(y_test, model.predict(X_test))}\")"
   ]
  },
  {
   "cell_type": "code",
   "execution_count": 12,
   "metadata": {},
   "outputs": [],
   "source": [
    "def show_confusion_matrix(y_test, y_pred):\n",
    "    cf_matrix = confusion_matrix(y_test, y_pred)\n",
    "    ax = sns.heatmap(cf_matrix, annot=True, cmap='Blues')\n",
    "\n",
    "    ax.set_title('Confusion Matrix\\n\\n');\n",
    "    ax.set_xlabel('\\nPredicted Values')\n",
    "    ax.set_ylabel('Actual Values ');\n",
    "\n",
    "    ax.xaxis.set_ticklabels(['False','True'])\n",
    "    ax.yaxis.set_ticklabels(['False','True'])\n",
    "\n",
    "    plt.show()"
   ]
  },
  {
   "cell_type": "markdown",
   "metadata": {},
   "source": [
    "### Decision Trees"
   ]
  },
  {
   "cell_type": "markdown",
   "metadata": {},
   "source": [
    "Na początek wytrenujemy model drzewa decyzyjnego z użyciem domyślnych parametrów. "
   ]
  },
  {
   "cell_type": "code",
   "execution_count": 13,
   "metadata": {},
   "outputs": [],
   "source": [
    "tree_base = DecisionTreeClassifier()\n",
    "tree_base.fit(X_train, y_train)\n",
    "pred = tree_base.predict(X_test)"
   ]
  },
  {
   "cell_type": "code",
   "execution_count": 14,
   "metadata": {},
   "outputs": [
    {
     "name": "stdout",
     "output_type": "stream",
     "text": [
      "ZBIÓR TRENINGOWY:\n",
      "Model score: 1.0\n",
      "Precision score: 1.0\n",
      "Gini score: 1.0\n",
      "-------------------------------\n",
      "ZBIÓR TESTOWY:\n",
      "Model score: 0.9343575418994413\n",
      "Precision score: 0.0196078431372549\n",
      "Gini score: 0.4930865977729712\n"
     ]
    }
   ],
   "source": [
    "print_scores(tree_base)"
   ]
  },
  {
   "cell_type": "markdown",
   "metadata": {},
   "source": [
    "# ZMIENIC\n",
    "Bazowy model drzewa okazał się już wysoki score, także wyoski gini na zbiorze testowym, jednak patrząc na wyniki zbioru treningowego widać, że jest przetrenowany. Precision score jest niski.\n",
    "\n",
    "Użyjemy teraz grid search to znalezienia optymalnych parametrów. Do tuningu wybraliśmy parametry `max_depth`, `splitter`, `criterion` i `ccp_alpha`."
   ]
  },
  {
   "cell_type": "code",
   "execution_count": 15,
   "metadata": {},
   "outputs": [],
   "source": [
    "max_depth=[3, 4, 5]\n",
    "splitter = [\"best\", \"random\"]\n",
    "criterion=[\"gini\",\"entrophy\"]\n",
    "ccp_alpha=[0, 0.05, 0.1]\n",
    "param_grid = dict(max_depth=max_depth, splitter=splitter, criterion=criterion, ccp_alpha=ccp_alpha)"
   ]
  },
  {
   "cell_type": "code",
   "execution_count": 16,
   "metadata": {},
   "outputs": [
    {
     "name": "stdout",
     "output_type": "stream",
     "text": [
      "Best score: 0.93984496124031\n",
      "Best parameters: {'ccp_alpha': 0, 'criterion': 'gini', 'max_depth': 5, 'splitter': 'best'} \n"
     ]
    }
   ],
   "source": [
    "tree = DecisionTreeClassifier()\n",
    "grid = GridSearchCV(estimator=tree, param_grid=param_grid, cv = 5, n_jobs=-1)\n",
    "\n",
    "grid_result = grid.fit(X_train, y_train)\n",
    "\n",
    "print(f\"Best score: {grid_result.best_score_}\")\n",
    "print(f\"Best parameters: {grid_result.best_params_} \")"
   ]
  },
  {
   "cell_type": "code",
   "execution_count": 17,
   "metadata": {},
   "outputs": [
    {
     "data": {
      "text/plain": [
       "DecisionTreeClassifier(ccp_alpha=0, max_depth=5)"
      ]
     },
     "execution_count": 17,
     "metadata": {},
     "output_type": "execute_result"
    }
   ],
   "source": [
    "tree1 = DecisionTreeClassifier(ccp_alpha = 0,\n",
    "                             criterion = 'gini',\n",
    "                             max_depth = 5,\n",
    "                             splitter = 'best')\n",
    "tree1.fit(X_train, y_train)"
   ]
  },
  {
   "cell_type": "code",
   "execution_count": 18,
   "metadata": {},
   "outputs": [
    {
     "name": "stdout",
     "output_type": "stream",
     "text": [
      "ZBIÓR TRENINGOWY:\n",
      "Model score: 0.9555038759689922\n",
      "Precision score: 0.928030303030303\n",
      "Gini score: 0.9555038759689923\n",
      "-------------------------------\n",
      "ZBIÓR TESTOWY:\n",
      "Model score: 0.8659217877094972\n",
      "Precision score: 0.1111111111111111\n",
      "Gini score: 0.6727709685171834\n"
     ]
    }
   ],
   "source": [
    "print_scores(tree1)"
   ]
  },
  {
   "cell_type": "code",
   "execution_count": 19,
   "metadata": {},
   "outputs": [
    {
     "data": {
      "image/png": "[encoded data removed]",
      "text/plain": [
       "<Figure size 432x288 with 2 Axes>"
      ]
     },
     "metadata": {
      "needs_background": "light"
     },
     "output_type": "display_data"
    }
   ],
   "source": [
    "show_confusion_matrix(y_train, tree1.predict(X_train))"
   ]
  },
  {
   "cell_type": "markdown",
   "metadata": {},
   "source": [
    "Teraz użyjemy Random Search"
   ]
  },
  {
   "cell_type": "code",
   "execution_count": 20,
   "metadata": {},
   "outputs": [
    {
     "name": "stdout",
     "output_type": "stream",
     "text": [
      "Best score: 0.8849612403100775\n",
      "Best parameters: {'splitter': 'random', 'max_depth': 3, 'criterion': 'gini', 'ccp_alpha': 0}\n"
     ]
    }
   ],
   "source": [
    "random = RandomizedSearchCV(estimator=tree, param_distributions=param_grid, cv = 5, n_jobs=-1, random_state = 420)\n",
    "\n",
    "random_result = random.fit(X_train, y_train)\n",
    "\n",
    "print(f\"Best score: {random_result.best_score_}\")\n",
    "print(f\"Best parameters: {random_result.best_params_}\")"
   ]
  },
  {
   "cell_type": "code",
   "execution_count": 21,
   "metadata": {},
   "outputs": [
    {
     "data": {
      "text/plain": [
       "DecisionTreeClassifier(ccp_alpha=0, max_depth=3, splitter='random')"
      ]
     },
     "execution_count": 21,
     "metadata": {},
     "output_type": "execute_result"
    }
   ],
   "source": [
    "tree2 = DecisionTreeClassifier(ccp_alpha = 0,\n",
    "                             criterion = 'gini',\n",
    "                             max_depth = 3,\n",
    "                             splitter = 'random')\n",
    "tree2.fit(X_train, y_train)"
   ]
  },
  {
   "cell_type": "code",
   "execution_count": 22,
   "metadata": {},
   "outputs": [
    {
     "name": "stdout",
     "output_type": "stream",
     "text": [
      "ZBIÓR TRENINGOWY:\n",
      "Model score: 0.9023255813953488\n",
      "Precision score: 0.8577336641852771\n",
      "Gini score: 0.9023255813953488\n",
      "-------------------------------\n",
      "ZBIÓR TESTOWY:\n",
      "Model score: 0.031424581005586594\n",
      "Precision score: 0.031424581005586594\n",
      "Gini score: 0.5\n"
     ]
    }
   ],
   "source": [
    "print_scores(tree2)"
   ]
  },
  {
   "cell_type": "code",
   "execution_count": 23,
   "metadata": {},
   "outputs": [
    {
     "data": {
      "image/png": "[encoded data removed]",
      "text/plain": [
       "<Figure size 432x288 with 2 Axes>"
      ]
     },
     "metadata": {
      "needs_background": "light"
     },
     "output_type": "display_data"
    }
   ],
   "source": [
    "show_confusion_matrix(y_test, tree1.predict(X_test))"
   ]
  },
  {
   "cell_type": "markdown",
   "metadata": {},
   "source": [
    "Udało się nieznacznie podbić wynik accuracy na zbiorze testowym, ale zapłaciliśmy za to cenę w postaci sporo niższego gini. Precision score jest równy zero. Sprawdziliśmy na macierzy konfucji, że jest to skutkiem tego, że każdej wartości przypisywany jest fałsz. Model w ogóle nie przewiduje prawdy. \n",
    "\n",
    "Sprawdzimy teraz, czy jeśli wybierzemy więcej parametrów i więcej wartości do wyboru to uzyskamy lepsze wyniki."
   ]
  },
  {
   "cell_type": "code",
   "execution_count": 24,
   "metadata": {},
   "outputs": [],
   "source": [
    "max_depth=[3, 4, 5, 6, 7, 8, 9, 10]\n",
    "splitter = [\"best\", \"random\"]\n",
    "criterion=[\"gini\",\"entrophy\"]\n",
    "ccp_alpha=[0, 0.05, 0.1, 0.02]\n",
    "min_samples_split=range(1,20)\n",
    "min_samples_leaf=[0.5, 1, 1.5, 2]\n",
    "max_features=[\"sqrt\", \"log2\"]\n",
    "param_grid = dict(max_depth=max_depth, splitter=splitter, criterion=criterion, min_samples_leaf=min_samples_leaf,\n",
    "                  ccp_alpha=ccp_alpha, min_samples_split=min_samples_split, max_features=max_features)"
   ]
  },
  {
   "cell_type": "code",
   "execution_count": 25,
   "metadata": {},
   "outputs": [
    {
     "name": "stdout",
     "output_type": "stream",
     "text": [
      "Best score: 0.952093023255814\n",
      "Best parameters: {'ccp_alpha': 0, 'criterion': 'gini', 'max_depth': 10, 'max_features': 'sqrt', 'min_samples_leaf': 1, 'min_samples_split': 2, 'splitter': 'best'} \n"
     ]
    }
   ],
   "source": [
    "tree = DecisionTreeClassifier()\n",
    "grid = GridSearchCV(estimator=tree, param_grid=param_grid, cv = 5, n_jobs=-1)\n",
    "\n",
    "grid_result = grid.fit(X_train, y_train)\n",
    "\n",
    "print(f\"Best score: {grid_result.best_score_}\")\n",
    "print(f\"Best parameters: {grid_result.best_params_} \")"
   ]
  },
  {
   "cell_type": "code",
   "execution_count": 26,
   "metadata": {},
   "outputs": [
    {
     "data": {
      "text/plain": [
       "DecisionTreeClassifier(ccp_alpha=0, max_depth=9, max_features='sqrt',\n",
       "                       min_samples_split=14)"
      ]
     },
     "execution_count": 26,
     "metadata": {},
     "output_type": "execute_result"
    }
   ],
   "source": [
    "tree2 = DecisionTreeClassifier(ccp_alpha = 0,\n",
    "                              criterion = 'gini',\n",
    "                              max_depth = 9,\n",
    "                              max_features ='sqrt',\n",
    "                              min_samples_leaf = 1,\n",
    "                              min_samples_split = 14,\n",
    "                              splitter = 'best')\n",
    "tree2.fit(X_train, y_train)"
   ]
  },
  {
   "cell_type": "code",
   "execution_count": 27,
   "metadata": {},
   "outputs": [
    {
     "name": "stdout",
     "output_type": "stream",
     "text": [
      "ZBIÓR TRENINGOWY:\n",
      "Model score: 0.9737984496124031\n",
      "Precision score: 0.9605183845690175\n",
      "Gini score: 0.973798449612403\n",
      "-------------------------------\n",
      "ZBIÓR TESTOWY:\n",
      "Model score: 0.6236033519553073\n",
      "Precision score: 0.07118055555555555\n",
      "Gini score: 0.7626932628374589\n"
     ]
    }
   ],
   "source": [
    "print_scores(tree2)"
   ]
  },
  {
   "cell_type": "code",
   "execution_count": 28,
   "metadata": {},
   "outputs": [
    {
     "data": {
      "image/png": "[encoded data removed]",
      "text/plain": [
       "<Figure size 432x288 with 2 Axes>"
      ]
     },
     "metadata": {
      "needs_background": "light"
     },
     "output_type": "display_data"
    }
   ],
   "source": [
    "show_confusion_matrix(y_train, tree2.predict(X_train))"
   ]
  },
  {
   "cell_type": "code",
   "execution_count": 29,
   "metadata": {},
   "outputs": [
    {
     "data": {
      "image/png": "[encoded data removed]",
      "text/plain": [
       "<Figure size 432x288 with 2 Axes>"
      ]
     },
     "metadata": {
      "needs_background": "light"
     },
     "output_type": "display_data"
    }
   ],
   "source": [
    "show_confusion_matrix(y_test, tree2.predict(X_test))"
   ]
  },
  {
   "cell_type": "markdown",
   "metadata": {},
   "source": [
    "Widać, że w tym przypadku widać największą poprawę dla precision score. Także gini jest trochę lepsze niż przy pierwszym tuningu, jednak nie tak dobre jak dla modelu bazowego. Accuracy na zbiorze testowym także jest najlepsze ze wszystkich, jednak względem poprzedniego modelu jest to nieznaczna poprawa. "
   ]
  },
  {
   "cell_type": "markdown",
   "metadata": {},
   "source": [
    "Sprawdzimy jakie wyniki dla takiego wyboru parametrów da zastosowanie Random Search:"
   ]
  },
  {
   "cell_type": "code",
   "execution_count": 30,
   "metadata": {},
   "outputs": [
    {
     "name": "stdout",
     "output_type": "stream",
     "text": [
      "Best score: 0.8655813953488373\n",
      "Best parameters: {'splitter': 'best', 'min_samples_split': 2, 'min_samples_leaf': 1, 'max_features': 'log2', 'max_depth': 8, 'criterion': 'gini', 'ccp_alpha': 0.02}\n"
     ]
    }
   ],
   "source": [
    "tree = DecisionTreeClassifier()\n",
    "random = RandomizedSearchCV(estimator=tree, param_distributions=param_grid, cv = 5, n_jobs=-1, random_state = 100)\n",
    "\n",
    "random_result = random.fit(X_train, y_train)\n",
    "\n",
    "print(f\"Best score: {random_result.best_score_}\")\n",
    "print(f\"Best parameters: {random_result.best_params_}\")"
   ]
  },
  {
   "cell_type": "code",
   "execution_count": 31,
   "metadata": {},
   "outputs": [
    {
     "data": {
      "text/plain": [
       "DecisionTreeClassifier(ccp_alpha=0.05, max_depth=5, max_features='log2',\n",
       "                       min_samples_leaf=0.5, min_samples_split=9)"
      ]
     },
     "execution_count": 31,
     "metadata": {},
     "output_type": "execute_result"
    }
   ],
   "source": [
    "tree3 = DecisionTreeClassifier(ccp_alpha = 0.05,\n",
    "                              criterion = 'gini',\n",
    "                              max_depth = 5,\n",
    "                              max_features ='log2',\n",
    "                              min_samples_leaf = 0.5,\n",
    "                              min_samples_split = 9,\n",
    "                              splitter = 'best')\n",
    "tree3.fit(X_train, y_train)"
   ]
  },
  {
   "cell_type": "code",
   "execution_count": 32,
   "metadata": {},
   "outputs": [
    {
     "data": {
      "image/png": "[encoded data removed]",
      "text/plain": [
       "<Figure size 432x288 with 2 Axes>"
      ]
     },
     "metadata": {
      "needs_background": "light"
     },
     "output_type": "display_data"
    }
   ],
   "source": [
    "show_confusion_matrix(y_train, tree2.predict(X_train))"
   ]
  },
  {
   "cell_type": "code",
   "execution_count": 33,
   "metadata": {},
   "outputs": [
    {
     "name": "stdout",
     "output_type": "stream",
     "text": [
      "ZBIÓR TRENINGOWY:\n",
      "Model score: 0.8511627906976744\n",
      "Precision score: 0.8511627906976744\n",
      "Gini score: 0.8511627906976744\n",
      "-------------------------------\n",
      "ZBIÓR TESTOWY:\n",
      "Model score: 0.031424581005586594\n",
      "Precision score: 0.031424581005586594\n",
      "Gini score: 0.5\n"
     ]
    }
   ],
   "source": [
    "print_scores(tree3)"
   ]
  },
  {
   "cell_type": "markdown",
   "metadata": {},
   "source": [
    "W tym przypadku model nie jest przetrenowany, wuniki w zbiorze treniniowym i testowym są bardzo zbliżone. Wartość 0 w precision score bierze się z tego, że wartości *true positive* jest bardzo mało w porównaiu do *true negative*."
   ]
  },
  {
   "cell_type": "markdown",
   "metadata": {},
   "source": [
    "### Random Forest"
   ]
  },
  {
   "cell_type": "code",
   "execution_count": 34,
   "metadata": {},
   "outputs": [],
   "source": [
    "forest_base = RandomForestClassifier()\n",
    "forest_base.fit(X_train, y_train)\n",
    "pred = forest_base.predict(X_test)"
   ]
  },
  {
   "cell_type": "code",
   "execution_count": 35,
   "metadata": {},
   "outputs": [
    {
     "name": "stdout",
     "output_type": "stream",
     "text": [
      "ZBIÓR TRENINGOWY:\n",
      "Model score: 1.0\n",
      "Precision score: 1.0\n",
      "Gini score: 1.0\n",
      "-------------------------------\n",
      "ZBIÓR TESTOWY:\n",
      "Model score: 0.5900837988826816\n",
      "Precision score: 0.005474452554744526\n",
      "Gini score: 0.3368661379476088\n"
     ]
    }
   ],
   "source": [
    "print_scores(forest_base)"
   ]
  },
  {
   "cell_type": "markdown",
   "metadata": {},
   "source": [
    "Podobnie jak w przypadku drzew decyzyjnych, acuuruacy score dla zbioru testowego jest bardzo wysoki, ale wydaje się, że model jest przetrenowany. Małe gini na zbiorze testowym to potwierdza.\n",
    "\n",
    "Spróbujemy dobrać odpowiedznie hiperparametry:"
   ]
  },
  {
   "cell_type": "code",
   "execution_count": 36,
   "metadata": {},
   "outputs": [],
   "source": [
    "max_depth=[3, 4, 5]\n",
    "n_estimators = [80, 90, 100, 110, 120]\n",
    "criterion=[\"gini\",\"entrophy\"]\n",
    "min_samples_split = [2, 5, 10, 20, 50]\n",
    "param_grid = dict(max_depth=max_depth, n_estimators = n_estimators, criterion=criterion, min_samples_split=min_samples_split)"
   ]
  },
  {
   "cell_type": "code",
   "execution_count": 37,
   "metadata": {},
   "outputs": [
    {
     "name": "stdout",
     "output_type": "stream",
     "text": [
      "Best score: 0.9452713178294573\n",
      "Best parameters: {'criterion': 'gini', 'max_depth': 5, 'min_samples_split': 10, 'n_estimators': 80} \n"
     ]
    }
   ],
   "source": [
    "forest = RandomForestClassifier()\n",
    "grid = GridSearchCV(estimator=forest, param_grid=param_grid, cv = 5, n_jobs=-1)\n",
    "\n",
    "grid_result = grid.fit(X_train, y_train)\n",
    "\n",
    "print(f\"Best score: {grid_result.best_score_}\")\n",
    "print(f\"Best parameters: {grid_result.best_params_} \")"
   ]
  },
  {
   "cell_type": "code",
   "execution_count": 60,
   "metadata": {},
   "outputs": [
    {
     "data": {
      "text/plain": [
       "RandomForestClassifier(max_depth=5, min_samples_split=10, n_estimators=110)"
      ]
     },
     "execution_count": 60,
     "metadata": {},
     "output_type": "execute_result"
    }
   ],
   "source": [
    "forest = RandomForestClassifier(min_samples_split = 10,\n",
    "                             criterion = 'gini',\n",
    "                             max_depth = 5,\n",
    "                             n_estimators = 110)\n",
    "forest.fit(X_train, y_train)"
   ]
  },
  {
   "cell_type": "code",
   "execution_count": 61,
   "metadata": {},
   "outputs": [
    {
     "name": "stdout",
     "output_type": "stream",
     "text": [
      "ZBIÓR TRENINGOWY:\n",
      "Model score: 0.9564341085271317\n",
      "Precision score: 0.9279069767441861\n",
      "Gini score: 0.9564341085271317\n",
      "-------------------------------\n",
      "ZBIÓR TESTOWY:\n",
      "Model score: 0.031424581005586594\n",
      "Precision score: 0.031424581005586594\n",
      "Gini score: 0.5\n"
     ]
    }
   ],
   "source": [
    "print_scores(forest)"
   ]
  },
  {
   "cell_type": "code",
   "execution_count": 62,
   "metadata": {},
   "outputs": [
    {
     "data": {
      "image/png": "[encoded data removed]",
      "text/plain": [
       "<Figure size 432x288 with 2 Axes>"
      ]
     },
     "metadata": {
      "needs_background": "light"
     },
     "output_type": "display_data"
    }
   ],
   "source": [
    "show_confusion_matrix(y_train, forest.predict(X_train))"
   ]
  },
  {
   "cell_type": "markdown",
   "metadata": {},
   "source": [
    "Właściwie jedyne co się znacznie zmieniło to spadły wyniki dla zbioru testowego.\n",
    "\n",
    "Sprawdźmy jakie hiperparametry wybierze random search:"
   ]
  },
  {
   "cell_type": "code",
   "execution_count": 40,
   "metadata": {},
   "outputs": [
    {
     "name": "stdout",
     "output_type": "stream",
     "text": [
      "Best score: 0.9291472868217054\n",
      "Best parameters: {'n_estimators': 100, 'min_samples_split': 5, 'max_depth': 4, 'criterion': 'gini'}\n"
     ]
    }
   ],
   "source": [
    "forest = RandomForestClassifier()\n",
    "random = RandomizedSearchCV(estimator=forest, param_distributions=param_grid, cv = 5, n_jobs=-1, random_state = 100)\n",
    "\n",
    "random_result = random.fit(X_train, y_train)\n",
    "\n",
    "print(f\"Best score: {random_result.best_score_}\")\n",
    "print(f\"Best parameters: {random_result.best_params_}\")"
   ]
  },
  {
   "cell_type": "code",
   "execution_count": 55,
   "metadata": {},
   "outputs": [
    {
     "data": {
      "text/plain": [
       "RandomForestClassifier(max_depth=4, min_samples_split=5)"
      ]
     },
     "execution_count": 55,
     "metadata": {},
     "output_type": "execute_result"
    }
   ],
   "source": [
    "forest2 = RandomForestClassifier(min_samples_split = 5,\n",
    "                                 criterion = 'gini',\n",
    "                                 max_depth = 4,\n",
    "                                 n_estimators = 100)\n",
    "forest2.fit(X_train, y_train)"
   ]
  },
  {
   "cell_type": "code",
   "execution_count": 56,
   "metadata": {},
   "outputs": [
    {
     "name": "stdout",
     "output_type": "stream",
     "text": [
      "ZBIÓR TRENINGOWY:\n",
      "Model score: 0.9355038759689922\n",
      "Precision score: 0.9103125912941864\n",
      "Gini score: 0.9355038759689922\n",
      "-------------------------------\n",
      "ZBIÓR TESTOWY:\n",
      "Model score: 0.031424581005586594\n",
      "Precision score: 0.031424581005586594\n",
      "Gini score: 0.5\n"
     ]
    }
   ],
   "source": [
    "print_scores(forest2)"
   ]
  },
  {
   "cell_type": "markdown",
   "metadata": {},
   "source": [
    "W tym przypadku jest nieco niższe accuracy, jednak precision score jest równy 1, gini się jednak zmniejszyło"
   ]
  },
  {
   "cell_type": "markdown",
   "metadata": {},
   "source": [
    "### Support Vector Machine (SVM)"
   ]
  },
  {
   "cell_type": "code",
   "execution_count": 43,
   "metadata": {},
   "outputs": [],
   "source": [
    "svm_base = SVC()\n",
    "svm_base.fit(X_train, y_train)\n",
    "pred = svm_base.predict(X_test)"
   ]
  },
  {
   "cell_type": "code",
   "execution_count": 44,
   "metadata": {},
   "outputs": [
    {
     "name": "stdout",
     "output_type": "stream",
     "text": [
      "ZBIÓR TRENINGOWY:\n",
      "Model score: 0.9210852713178295\n",
      "Precision score: 0.8961493582263711\n",
      "Gini score: 0.9210852713178295\n",
      "-------------------------------\n",
      "ZBIÓR TESTOWY:\n",
      "Model score: 0.031424581005586594\n",
      "Precision score: 0.031424581005586594\n",
      "Gini score: 0.5\n"
     ]
    }
   ],
   "source": [
    "print_scores(svm_base)"
   ]
  },
  {
   "cell_type": "markdown",
   "metadata": {},
   "source": [
    "Model daje dobre wyniki accuracy, nie jest przetrenowany, jednak precision score jest zerowy. Sprawdźmy to na macierzy konfuzji."
   ]
  },
  {
   "cell_type": "code",
   "execution_count": 45,
   "metadata": {},
   "outputs": [
    {
     "data": {
      "image/png": "[encoded data removed]",
      "text/plain": [
       "<Figure size 432x288 with 2 Axes>"
      ]
     },
     "metadata": {
      "needs_background": "light"
     },
     "output_type": "display_data"
    }
   ],
   "source": [
    "show_confusion_matrix(y_train, svm_base.predict(X_train))"
   ]
  },
  {
   "cell_type": "markdown",
   "metadata": {},
   "source": [
    "Model ponownie nie przewiduje wartości *true*."
   ]
  },
  {
   "cell_type": "markdown",
   "metadata": {},
   "source": [
    "Spróbujmy teraz dobrać hiperparametry:"
   ]
  },
  {
   "cell_type": "code",
   "execution_count": 46,
   "metadata": {},
   "outputs": [],
   "source": [
    "# Feature Scaling dla szybszego liczenia\n",
    "from sklearn.preprocessing import StandardScaler\n",
    "sc = StandardScaler()\n",
    "X_train_scaled = sc.fit_transform(X_train)\n",
    "X_test_scaled = sc.transform(X_test)"
   ]
  },
  {
   "cell_type": "code",
   "execution_count": 47,
   "metadata": {},
   "outputs": [],
   "source": [
    "C= [0.001, 0.01, 0.1,  1, 5]\n",
    "kernel = ['linear', 'poly', 'sigmoid'] \n",
    "degree = [3,4,5]\n",
    "gamma = ['scale', 'auto']\n",
    "param_grid = dict(C=C, kernel=kernel, degree=degree, gamma=gamma)"
   ]
  },
  {
   "cell_type": "code",
   "execution_count": 48,
   "metadata": {},
   "outputs": [
    {
     "name": "stdout",
     "output_type": "stream",
     "text": [
      "Best score: 0.9809302325581395\n",
      "Best parameters: {'C': 5, 'degree': 3, 'gamma': 'scale', 'kernel': 'poly'} \n"
     ]
    }
   ],
   "source": [
    "# długo działa\n",
    "svm_model = SVC()\n",
    "grid = GridSearchCV(estimator=svm_model, param_grid=param_grid, cv = 5, n_jobs=-1)\n",
    "\n",
    "grid_result = grid.fit(X_train_scaled, y_train)\n",
    "\n",
    "print(f\"Best score: {grid_result.best_score_}\")\n",
    "print(f\"Best parameters: {grid_result.best_params_} \")"
   ]
  },
  {
   "cell_type": "code",
   "execution_count": 49,
   "metadata": {},
   "outputs": [
    {
     "data": {
      "text/plain": [
       "SVC(C=0.01, degree=5, kernel='poly')"
      ]
     },
     "execution_count": 49,
     "metadata": {},
     "output_type": "execute_result"
    }
   ],
   "source": [
    "svm_1 = SVC(C = 0.01, \n",
    "            degree = 5, \n",
    "            gamma = 'scale',\n",
    "            kernel = 'poly')\n",
    "svm_1.fit(X_train, y_train)"
   ]
  },
  {
   "cell_type": "code",
   "execution_count": 50,
   "metadata": {},
   "outputs": [
    {
     "name": "stdout",
     "output_type": "stream",
     "text": [
      "ZBIÓR TRENINGOWY:\n",
      "Model score: 0.867906976744186\n",
      "Precision score: 0.827671913835957\n",
      "Gini score: 0.867906976744186\n",
      "-------------------------------\n",
      "ZBIÓR TESTOWY:\n",
      "Model score: 0.031424581005586594\n",
      "Precision score: 0.031424581005586594\n",
      "Gini score: 0.5\n"
     ]
    }
   ],
   "source": [
    "print_scores(svm_1)"
   ]
  },
  {
   "cell_type": "code",
   "execution_count": 51,
   "metadata": {},
   "outputs": [
    {
     "data": {
      "image/png": "[encoded data removed]",
      "text/plain": [
       "<Figure size 432x288 with 2 Axes>"
      ]
     },
     "metadata": {
      "needs_background": "light"
     },
     "output_type": "display_data"
    }
   ],
   "source": [
    "show_confusion_matrix(y_train, svm_1.predict(X_train))"
   ]
  },
  {
   "cell_type": "markdown",
   "metadata": {},
   "source": [
    "Widać, że wynik na zbiorze testowym jest nieco niższy, jednak poskutkowało to niewielką poprawą na zbiorze testowym, co jest pożądaną zmianą. Jest to jednak niewielka zmiana. \n",
    "\n",
    "Sprawdźmy jakie wyniki da zastosowanie random search:"
   ]
  },
  {
   "cell_type": "code",
   "execution_count": 52,
   "metadata": {},
   "outputs": [
    {
     "name": "stdout",
     "output_type": "stream",
     "text": [
      "Best score: 0.944186046511628\n",
      "Best parameters: {'kernel': 'linear', 'gamma': 'auto', 'degree': 3, 'C': 5}\n"
     ]
    }
   ],
   "source": [
    "svm_model = SVC()\n",
    "random = RandomizedSearchCV(estimator=svm_model, param_distributions=param_grid, cv = 5, n_jobs=-1, random_state = 100)\n",
    "\n",
    "random_result = random.fit(X_train_scaled, y_train)\n",
    "\n",
    "print(f\"Best score: {random_result.best_score_}\")\n",
    "print(f\"Best parameters: {random_result.best_params_}\")"
   ]
  },
  {
   "cell_type": "code",
   "execution_count": 53,
   "metadata": {},
   "outputs": [
    {
     "data": {
      "text/plain": [
       "SVC(C=0.1, degree=4, kernel='poly')"
      ]
     },
     "execution_count": 53,
     "metadata": {},
     "output_type": "execute_result"
    }
   ],
   "source": [
    "svm_2 = SVC(C = 0.1, \n",
    "            degree = 4, \n",
    "            gamma = 'scale',\n",
    "            kernel = 'poly')\n",
    "svm_2.fit(X_train, y_train)"
   ]
  },
  {
   "cell_type": "code",
   "execution_count": 54,
   "metadata": {},
   "outputs": [
    {
     "name": "stdout",
     "output_type": "stream",
     "text": [
      "ZBIÓR TRENINGOWY:\n",
      "Model score: 0.9037209302325582\n",
      "Precision score: 0.8782684485764091\n",
      "Gini score: 0.9037209302325581\n",
      "-------------------------------\n",
      "ZBIÓR TESTOWY:\n",
      "Model score: 0.031424581005586594\n",
      "Precision score: 0.031424581005586594\n",
      "Gini score: 0.5\n"
     ]
    }
   ],
   "source": [
    "print_scores(svm_2)"
   ]
  },
  {
   "cell_type": "markdown",
   "metadata": {},
   "source": [
    "Wynik jest w tym przypakdu identyczny z tym poprzedni, wybranym przez grid search, jednak różnią się one dwoma hiperparamterami. Dla pierwszego *degree = 5*, *C = 0.01*, a w tym przypadku to *degree = 4*, *C = 0.1*"
   ]
  },
  {
   "cell_type": "markdown",
   "metadata": {},
   "source": [
    "# Podsumowanie\n",
    "\n",
    "* dodanie większej ilości parametrów do testowania nie zawsze jest opłacalne - liczy się dłużej, a wyniki niekoniecznie muszą być dużo lepsze. Nasz zbiór danych nie jest szczególnie duży, dlatego różnice w czasie nie były duże, ale już zauważalne. W przypadku większego zbioru mogłoby to stanowić problem i wtedy warto się zastanowić czy zależy nam na nieznacznym podniesieniu predykcyjności\n",
    "* ranodm search jest niemal tak samo dobry jak grid serach, w jednym przypadku dał dokładnie ten sam wynik, w innych zblizony, lub nawet bardziej optymalny\n"
   ]
  }
 ],
 "metadata": {
  "kernelspec": {
   "display_name": "Python 3 (ipykernel)",
   "language": "python",
   "name": "python3"
  },
  "language_info": {
   "codemirror_mode": {
    "name": "ipython",
    "version": 3
   },
   "file_extension": ".py",
   "mimetype": "text/x-python",
   "name": "python",
   "nbconvert_exporter": "python",
   "pygments_lexer": "ipython3",
   "version": "3.8.12"
  }
 },
 "nbformat": 4,
 "nbformat_minor": 4
}
