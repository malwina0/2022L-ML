{
 "cells": [
  {
   "cell_type": "markdown",
   "metadata": {},
   "source": [
    "## Wstęp do uczenia maszynowego \n",
    "### Praca domowa 4\n",
    "#### Jakub Piwko, Malwina Wojewoda\n",
    "***"
   ]
  },
  {
   "cell_type": "markdown",
   "metadata": {},
   "source": [
    "### Pakiety"
   ]
  },
  {
   "cell_type": "code",
   "execution_count": 9,
   "metadata": {},
   "outputs": [],
   "source": [
    "import pandas as pd\n",
    "import plotly.express as px\n",
    "import numpy as np\n",
    "import sklearn \n",
    "import seaborn as sns\n",
    "import matplotlib.pyplot as plt\n",
    "import matplotlib\n",
    "import warnings\n",
    "warnings.filterwarnings('ignore')\n",
    "np.random.seed(23)\n",
    "from sklearn.model_selection import train_test_split"
   ]
  },
  {
   "cell_type": "markdown",
   "metadata": {},
   "source": [
    "### Wczytanie i analiza danych"
   ]
  },
  {
   "cell_type": "markdown",
   "metadata": {},
   "source": [
    "Dane opisują Tajwańskie spółki z lat 1999-2009. Przewidujemy zmienną `Bankrupt?`, która wskazuje, czy dana spółka zbankrutuje. "
   ]
  },
  {
   "cell_type": "code",
   "execution_count": 10,
   "metadata": {},
   "outputs": [
    {
     "data": {
      "text/html": [
       "<div>\n",
       "<style scoped>\n",
       "    .dataframe tbody tr th:only-of-type {\n",
       "        vertical-align: middle;\n",
       "    }\n",
       "\n",
       "    .dataframe tbody tr th {\n",
       "        vertical-align: top;\n",
       "    }\n",
       "\n",
       "    .dataframe thead th {\n",
       "        text-align: right;\n",
       "    }\n",
       "</style>\n",
       "<table border=\"1\" class=\"dataframe\">\n",
       "  <thead>\n",
       "    <tr style=\"text-align: right;\">\n",
       "      <th></th>\n",
       "      <th>ROA(C) before interest and depreciation before interest</th>\n",
       "      <th>ROA(A) before interest and % after tax</th>\n",
       "      <th>ROA(B) before interest and depreciation after tax</th>\n",
       "      <th>Operating Gross Margin</th>\n",
       "      <th>Realized Sales Gross Margin</th>\n",
       "      <th>Operating Profit Rate</th>\n",
       "      <th>Pre-tax net Interest Rate</th>\n",
       "      <th>After-tax net Interest Rate</th>\n",
       "      <th>Non-industry income and expenditure/revenue</th>\n",
       "      <th>Continuous interest rate (after tax)</th>\n",
       "      <th>...</th>\n",
       "      <th>Net Income to Total Assets</th>\n",
       "      <th>Total assets to GNP price</th>\n",
       "      <th>No-credit Interval</th>\n",
       "      <th>Gross Profit to Sales</th>\n",
       "      <th>Net Income to Stockholder's Equity</th>\n",
       "      <th>Liability to Equity</th>\n",
       "      <th>Degree of Financial Leverage (DFL)</th>\n",
       "      <th>Interest Coverage Ratio (Interest expense to EBIT)</th>\n",
       "      <th>Net Income Flag</th>\n",
       "      <th>Equity to Liability</th>\n",
       "    </tr>\n",
       "  </thead>\n",
       "  <tbody>\n",
       "    <tr>\n",
       "      <th>0</th>\n",
       "      <td>0.370594</td>\n",
       "      <td>0.424389</td>\n",
       "      <td>0.405750</td>\n",
       "      <td>0.601457</td>\n",
       "      <td>0.601457</td>\n",
       "      <td>0.998969</td>\n",
       "      <td>0.796887</td>\n",
       "      <td>0.808809</td>\n",
       "      <td>0.302646</td>\n",
       "      <td>0.780985</td>\n",
       "      <td>...</td>\n",
       "      <td>0.716845</td>\n",
       "      <td>0.009219</td>\n",
       "      <td>0.622879</td>\n",
       "      <td>0.601453</td>\n",
       "      <td>0.827890</td>\n",
       "      <td>0.290202</td>\n",
       "      <td>0.026601</td>\n",
       "      <td>0.564050</td>\n",
       "      <td>1</td>\n",
       "      <td>0.016469</td>\n",
       "    </tr>\n",
       "    <tr>\n",
       "      <th>1</th>\n",
       "      <td>0.464291</td>\n",
       "      <td>0.538214</td>\n",
       "      <td>0.516730</td>\n",
       "      <td>0.610235</td>\n",
       "      <td>0.610235</td>\n",
       "      <td>0.998946</td>\n",
       "      <td>0.797380</td>\n",
       "      <td>0.809301</td>\n",
       "      <td>0.303556</td>\n",
       "      <td>0.781506</td>\n",
       "      <td>...</td>\n",
       "      <td>0.795297</td>\n",
       "      <td>0.008323</td>\n",
       "      <td>0.623652</td>\n",
       "      <td>0.610237</td>\n",
       "      <td>0.839969</td>\n",
       "      <td>0.283846</td>\n",
       "      <td>0.264577</td>\n",
       "      <td>0.570175</td>\n",
       "      <td>1</td>\n",
       "      <td>0.020794</td>\n",
       "    </tr>\n",
       "    <tr>\n",
       "      <th>2</th>\n",
       "      <td>0.426071</td>\n",
       "      <td>0.499019</td>\n",
       "      <td>0.472295</td>\n",
       "      <td>0.601450</td>\n",
       "      <td>0.601364</td>\n",
       "      <td>0.998857</td>\n",
       "      <td>0.796403</td>\n",
       "      <td>0.808388</td>\n",
       "      <td>0.302035</td>\n",
       "      <td>0.780284</td>\n",
       "      <td>...</td>\n",
       "      <td>0.774670</td>\n",
       "      <td>0.040003</td>\n",
       "      <td>0.623841</td>\n",
       "      <td>0.601449</td>\n",
       "      <td>0.836774</td>\n",
       "      <td>0.290189</td>\n",
       "      <td>0.026555</td>\n",
       "      <td>0.563706</td>\n",
       "      <td>1</td>\n",
       "      <td>0.016474</td>\n",
       "    </tr>\n",
       "    <tr>\n",
       "      <th>3</th>\n",
       "      <td>0.399844</td>\n",
       "      <td>0.451265</td>\n",
       "      <td>0.457733</td>\n",
       "      <td>0.583541</td>\n",
       "      <td>0.583541</td>\n",
       "      <td>0.998700</td>\n",
       "      <td>0.796967</td>\n",
       "      <td>0.808966</td>\n",
       "      <td>0.303350</td>\n",
       "      <td>0.781241</td>\n",
       "      <td>...</td>\n",
       "      <td>0.739555</td>\n",
       "      <td>0.003252</td>\n",
       "      <td>0.622929</td>\n",
       "      <td>0.583538</td>\n",
       "      <td>0.834697</td>\n",
       "      <td>0.281721</td>\n",
       "      <td>0.026697</td>\n",
       "      <td>0.564663</td>\n",
       "      <td>1</td>\n",
       "      <td>0.023982</td>\n",
       "    </tr>\n",
       "    <tr>\n",
       "      <th>4</th>\n",
       "      <td>0.465022</td>\n",
       "      <td>0.538432</td>\n",
       "      <td>0.522298</td>\n",
       "      <td>0.598783</td>\n",
       "      <td>0.598783</td>\n",
       "      <td>0.998973</td>\n",
       "      <td>0.797366</td>\n",
       "      <td>0.809304</td>\n",
       "      <td>0.303475</td>\n",
       "      <td>0.781550</td>\n",
       "      <td>...</td>\n",
       "      <td>0.795016</td>\n",
       "      <td>0.003878</td>\n",
       "      <td>0.623521</td>\n",
       "      <td>0.598782</td>\n",
       "      <td>0.839973</td>\n",
       "      <td>0.278514</td>\n",
       "      <td>0.024752</td>\n",
       "      <td>0.575617</td>\n",
       "      <td>1</td>\n",
       "      <td>0.035490</td>\n",
       "    </tr>\n",
       "  </tbody>\n",
       "</table>\n",
       "<p>5 rows × 95 columns</p>\n",
       "</div>"
      ],
      "text/plain": [
       "    ROA(C) before interest and depreciation before interest  \\\n",
       "0                                           0.370594          \n",
       "1                                           0.464291          \n",
       "2                                           0.426071          \n",
       "3                                           0.399844          \n",
       "4                                           0.465022          \n",
       "\n",
       "    ROA(A) before interest and % after tax  \\\n",
       "0                                 0.424389   \n",
       "1                                 0.538214   \n",
       "2                                 0.499019   \n",
       "3                                 0.451265   \n",
       "4                                 0.538432   \n",
       "\n",
       "    ROA(B) before interest and depreciation after tax  \\\n",
       "0                                           0.405750    \n",
       "1                                           0.516730    \n",
       "2                                           0.472295    \n",
       "3                                           0.457733    \n",
       "4                                           0.522298    \n",
       "\n",
       "    Operating Gross Margin   Realized Sales Gross Margin  \\\n",
       "0                 0.601457                      0.601457   \n",
       "1                 0.610235                      0.610235   \n",
       "2                 0.601450                      0.601364   \n",
       "3                 0.583541                      0.583541   \n",
       "4                 0.598783                      0.598783   \n",
       "\n",
       "    Operating Profit Rate   Pre-tax net Interest Rate  \\\n",
       "0                0.998969                    0.796887   \n",
       "1                0.998946                    0.797380   \n",
       "2                0.998857                    0.796403   \n",
       "3                0.998700                    0.796967   \n",
       "4                0.998973                    0.797366   \n",
       "\n",
       "    After-tax net Interest Rate   Non-industry income and expenditure/revenue  \\\n",
       "0                      0.808809                                      0.302646   \n",
       "1                      0.809301                                      0.303556   \n",
       "2                      0.808388                                      0.302035   \n",
       "3                      0.808966                                      0.303350   \n",
       "4                      0.809304                                      0.303475   \n",
       "\n",
       "    Continuous interest rate (after tax)  ...   Net Income to Total Assets  \\\n",
       "0                               0.780985  ...                     0.716845   \n",
       "1                               0.781506  ...                     0.795297   \n",
       "2                               0.780284  ...                     0.774670   \n",
       "3                               0.781241  ...                     0.739555   \n",
       "4                               0.781550  ...                     0.795016   \n",
       "\n",
       "    Total assets to GNP price   No-credit Interval   Gross Profit to Sales  \\\n",
       "0                    0.009219             0.622879                0.601453   \n",
       "1                    0.008323             0.623652                0.610237   \n",
       "2                    0.040003             0.623841                0.601449   \n",
       "3                    0.003252             0.622929                0.583538   \n",
       "4                    0.003878             0.623521                0.598782   \n",
       "\n",
       "    Net Income to Stockholder's Equity   Liability to Equity  \\\n",
       "0                             0.827890              0.290202   \n",
       "1                             0.839969              0.283846   \n",
       "2                             0.836774              0.290189   \n",
       "3                             0.834697              0.281721   \n",
       "4                             0.839973              0.278514   \n",
       "\n",
       "    Degree of Financial Leverage (DFL)  \\\n",
       "0                             0.026601   \n",
       "1                             0.264577   \n",
       "2                             0.026555   \n",
       "3                             0.026697   \n",
       "4                             0.024752   \n",
       "\n",
       "    Interest Coverage Ratio (Interest expense to EBIT)   Net Income Flag  \\\n",
       "0                                           0.564050                   1   \n",
       "1                                           0.570175                   1   \n",
       "2                                           0.563706                   1   \n",
       "3                                           0.564663                   1   \n",
       "4                                           0.575617                   1   \n",
       "\n",
       "    Equity to Liability  \n",
       "0              0.016469  \n",
       "1              0.020794  \n",
       "2              0.016474  \n",
       "3              0.023982  \n",
       "4              0.035490  \n",
       "\n",
       "[5 rows x 95 columns]"
      ]
     },
     "execution_count": 10,
     "metadata": {},
     "output_type": "execute_result"
    }
   ],
   "source": [
    "df = pd.read_csv('data.csv')\n",
    "y = df['Bankrupt?']\n",
    "df.drop('Bankrupt?', axis=1, inplace = True)\n",
    "df.head()"
   ]
  },
  {
   "cell_type": "code",
   "execution_count": 11,
   "metadata": {},
   "outputs": [
    {
     "name": "stdout",
     "output_type": "stream",
     "text": [
      "<class 'pandas.core.frame.DataFrame'>\n",
      "RangeIndex: 6819 entries, 0 to 6818\n",
      "Data columns (total 95 columns):\n",
      " #   Column                                                    Non-Null Count  Dtype  \n",
      "---  ------                                                    --------------  -----  \n",
      " 0    ROA(C) before interest and depreciation before interest  6819 non-null   float64\n",
      " 1    ROA(A) before interest and % after tax                   6819 non-null   float64\n",
      " 2    ROA(B) before interest and depreciation after tax        6819 non-null   float64\n",
      " 3    Operating Gross Margin                                   6819 non-null   float64\n",
      " 4    Realized Sales Gross Margin                              6819 non-null   float64\n",
      " 5    Operating Profit Rate                                    6819 non-null   float64\n",
      " 6    Pre-tax net Interest Rate                                6819 non-null   float64\n",
      " 7    After-tax net Interest Rate                              6819 non-null   float64\n",
      " 8    Non-industry income and expenditure/revenue              6819 non-null   float64\n",
      " 9    Continuous interest rate (after tax)                     6819 non-null   float64\n",
      " 10   Operating Expense Rate                                   6819 non-null   float64\n",
      " 11   Research and development expense rate                    6819 non-null   float64\n",
      " 12   Cash flow rate                                           6819 non-null   float64\n",
      " 13   Interest-bearing debt interest rate                      6819 non-null   float64\n",
      " 14   Tax rate (A)                                             6819 non-null   float64\n",
      " 15   Net Value Per Share (B)                                  6819 non-null   float64\n",
      " 16   Net Value Per Share (A)                                  6819 non-null   float64\n",
      " 17   Net Value Per Share (C)                                  6819 non-null   float64\n",
      " 18   Persistent EPS in the Last Four Seasons                  6819 non-null   float64\n",
      " 19   Cash Flow Per Share                                      6819 non-null   float64\n",
      " 20   Revenue Per Share (Yuan ¥)                               6819 non-null   float64\n",
      " 21   Operating Profit Per Share (Yuan ¥)                      6819 non-null   float64\n",
      " 22   Per Share Net profit before tax (Yuan ¥)                 6819 non-null   float64\n",
      " 23   Realized Sales Gross Profit Growth Rate                  6819 non-null   float64\n",
      " 24   Operating Profit Growth Rate                             6819 non-null   float64\n",
      " 25   After-tax Net Profit Growth Rate                         6819 non-null   float64\n",
      " 26   Regular Net Profit Growth Rate                           6819 non-null   float64\n",
      " 27   Continuous Net Profit Growth Rate                        6819 non-null   float64\n",
      " 28   Total Asset Growth Rate                                  6819 non-null   float64\n",
      " 29   Net Value Growth Rate                                    6819 non-null   float64\n",
      " 30   Total Asset Return Growth Rate Ratio                     6819 non-null   float64\n",
      " 31   Cash Reinvestment %                                      6819 non-null   float64\n",
      " 32   Current Ratio                                            6819 non-null   float64\n",
      " 33   Quick Ratio                                              6819 non-null   float64\n",
      " 34   Interest Expense Ratio                                   6819 non-null   float64\n",
      " 35   Total debt/Total net worth                               6819 non-null   float64\n",
      " 36   Debt ratio %                                             6819 non-null   float64\n",
      " 37   Net worth/Assets                                         6819 non-null   float64\n",
      " 38   Long-term fund suitability ratio (A)                     6819 non-null   float64\n",
      " 39   Borrowing dependency                                     6819 non-null   float64\n",
      " 40   Contingent liabilities/Net worth                         6819 non-null   float64\n",
      " 41   Operating profit/Paid-in capital                         6819 non-null   float64\n",
      " 42   Net profit before tax/Paid-in capital                    6819 non-null   float64\n",
      " 43   Inventory and accounts receivable/Net value              6819 non-null   float64\n",
      " 44   Total Asset Turnover                                     6819 non-null   float64\n",
      " 45   Accounts Receivable Turnover                             6819 non-null   float64\n",
      " 46   Average Collection Days                                  6819 non-null   float64\n",
      " 47   Inventory Turnover Rate (times)                          6819 non-null   float64\n",
      " 48   Fixed Assets Turnover Frequency                          6819 non-null   float64\n",
      " 49   Net Worth Turnover Rate (times)                          6819 non-null   float64\n",
      " 50   Revenue per person                                       6819 non-null   float64\n",
      " 51   Operating profit per person                              6819 non-null   float64\n",
      " 52   Allocation rate per person                               6819 non-null   float64\n",
      " 53   Working Capital to Total Assets                          6819 non-null   float64\n",
      " 54   Quick Assets/Total Assets                                6819 non-null   float64\n",
      " 55   Current Assets/Total Assets                              6819 non-null   float64\n",
      " 56   Cash/Total Assets                                        6819 non-null   float64\n",
      " 57   Quick Assets/Current Liability                           6819 non-null   float64\n",
      " 58   Cash/Current Liability                                   6819 non-null   float64\n",
      " 59   Current Liability to Assets                              6819 non-null   float64\n",
      " 60   Operating Funds to Liability                             6819 non-null   float64\n",
      " 61   Inventory/Working Capital                                6819 non-null   float64\n",
      " 62   Inventory/Current Liability                              6819 non-null   float64\n",
      " 63   Current Liabilities/Liability                            6819 non-null   float64\n",
      " 64   Working Capital/Equity                                   6819 non-null   float64\n",
      " 65   Current Liabilities/Equity                               6819 non-null   float64\n",
      " 66   Long-term Liability to Current Assets                    6819 non-null   float64\n",
      " 67   Retained Earnings to Total Assets                        6819 non-null   float64\n",
      " 68   Total income/Total expense                               6819 non-null   float64\n",
      " 69   Total expense/Assets                                     6819 non-null   float64\n",
      " 70   Current Asset Turnover Rate                              6819 non-null   float64\n",
      " 71   Quick Asset Turnover Rate                                6819 non-null   float64\n",
      " 72   Working capitcal Turnover Rate                           6819 non-null   float64\n",
      " 73   Cash Turnover Rate                                       6819 non-null   float64\n",
      " 74   Cash Flow to Sales                                       6819 non-null   float64\n",
      " 75   Fixed Assets to Assets                                   6819 non-null   float64\n",
      " 76   Current Liability to Liability                           6819 non-null   float64\n",
      " 77   Current Liability to Equity                              6819 non-null   float64\n",
      " 78   Equity to Long-term Liability                            6819 non-null   float64\n",
      " 79   Cash Flow to Total Assets                                6819 non-null   float64\n",
      " 80   Cash Flow to Liability                                   6819 non-null   float64\n",
      " 81   CFO to Assets                                            6819 non-null   float64\n",
      " 82   Cash Flow to Equity                                      6819 non-null   float64\n",
      " 83   Current Liability to Current Assets                      6819 non-null   float64\n",
      " 84   Liability-Assets Flag                                    6819 non-null   int64  \n",
      " 85   Net Income to Total Assets                               6819 non-null   float64\n",
      " 86   Total assets to GNP price                                6819 non-null   float64\n",
      " 87   No-credit Interval                                       6819 non-null   float64\n",
      " 88   Gross Profit to Sales                                    6819 non-null   float64\n",
      " 89   Net Income to Stockholder's Equity                       6819 non-null   float64\n",
      " 90   Liability to Equity                                      6819 non-null   float64\n",
      " 91   Degree of Financial Leverage (DFL)                       6819 non-null   float64\n",
      " 92   Interest Coverage Ratio (Interest expense to EBIT)       6819 non-null   float64\n",
      " 93   Net Income Flag                                          6819 non-null   int64  \n",
      " 94   Equity to Liability                                      6819 non-null   float64\n",
      "dtypes: float64(93), int64(2)\n",
      "memory usage: 4.9 MB\n"
     ]
    }
   ],
   "source": [
    "df.info()"
   ]
  },
  {
   "cell_type": "code",
   "execution_count": 12,
   "metadata": {},
   "outputs": [],
   "source": [
    "#Wyróżnienie zbioru, na którym będziemy pracować i zbioru do walidacji\n",
    "X, X_val, y, y_val = train_test_split(df, y, test_size=0.3)\n",
    "#Wyróżnienie zbioru treningowego i testowego\n",
    "X_train, X_test, y_train, y_test = train_test_split(X, y, test_size=0.3)"
   ]
  },
  {
   "cell_type": "markdown",
   "metadata": {},
   "source": [
    "### Modele i dobór hiperparametrów "
   ]
  },
  {
   "cell_type": "code",
   "execution_count": 83,
   "metadata": {},
   "outputs": [],
   "source": [
    "from sklearn.model_selection import GridSearchCV\n",
    "from sklearn.tree import DecisionTreeClassifier\n",
    "from sklearn.model_selection import RandomizedSearchCV\n",
    "from sklearn.svm import SVC\n",
    "from sklearn.ensemble import RandomForestClassifier\n",
    "from sklearn.metrics import accuracy_score, precision_score, recall_score, roc_auc_score\n",
    "from scipy.stats import poisson,expon"
   ]
  },
  {
   "cell_type": "code",
   "execution_count": 49,
   "metadata": {},
   "outputs": [],
   "source": [
    "def Scores(model, X, y):\n",
    "    print(f\"Model score: {model.score(X, y)}\")\n",
    "    print(f\"Precision score: {precision_score(y, model.predict(X), average='binary')}\")\n",
    "    print(f\"Gini score: {roc_auc_score(y, model.predict(X))}\")"
   ]
  },
  {
   "cell_type": "markdown",
   "metadata": {},
   "source": [
    "#### Decision Trees"
   ]
  },
  {
   "cell_type": "markdown",
   "metadata": {},
   "source": [
    "Na początek wytrenujemy model drzewa decyzyjnego z użyciem domyślnych parametrów. "
   ]
  },
  {
   "cell_type": "code",
   "execution_count": 20,
   "metadata": {},
   "outputs": [],
   "source": [
    "tree_base = DecisionTreeClassifier()\n",
    "tree_base.fit(X_train, y_train)\n",
    "pred = tree_base.predict(X_test)"
   ]
  },
  {
   "cell_type": "code",
   "execution_count": 39,
   "metadata": {},
   "outputs": [
    {
     "name": "stdout",
     "output_type": "stream",
     "text": [
      "Model score: 1.0\n",
      "Precision score: 1.0\n",
      "Gini score: 1.0\n"
     ]
    }
   ],
   "source": [
    "Scores(tree_base, X_train, y_train)"
   ]
  },
  {
   "cell_type": "code",
   "execution_count": 22,
   "metadata": {},
   "outputs": [
    {
     "name": "stdout",
     "output_type": "stream",
     "text": [
      "Model score: 0.9594972067039106\n",
      "Precision score: 0.3888888888888889\n",
      "Gini score: 0.7163561076604555\n"
     ]
    }
   ],
   "source": [
    "Scores(tree_base, X_test, y_test)"
   ]
  },
  {
   "cell_type": "markdown",
   "metadata": {},
   "source": [
    "Bazowy model drzewa okazał się już wysoki score, także wyoski gini na zbiorze testowym, na treningowym może być przetrenowany.\n",
    "\n",
    "Użyjemy teraz grid search to znalezienia optymalnych parametrów. Do tuningu wybraliśmy parametry `max_depth`, `splitter`, `criterion` i `ccp_alpha`."
   ]
  },
  {
   "cell_type": "code",
   "execution_count": 79,
   "metadata": {},
   "outputs": [],
   "source": [
    "max_depth=[3, 4, 5]\n",
    "splitter = [\"best\", \"random\"]\n",
    "criterion=[\"gini\",\"entrophy\"]\n",
    "ccp_alpha=[0, 0.05, 0.1]\n",
    "param_grid = dict(max_depth=max_depth, splitter=splitter, criterion=criterion, ccp_alpha=ccp_alpha)"
   ]
  },
  {
   "cell_type": "code",
   "execution_count": 73,
   "metadata": {},
   "outputs": [
    {
     "name": "stdout",
     "output_type": "stream",
     "text": [
      "Best score: 0.9664773591829793\n",
      "Best parameters: {'ccp_alpha': 0.05, 'criterion': 'gini', 'max_depth': 3, 'splitter': 'best'} \n"
     ]
    }
   ],
   "source": [
    "tree = DecisionTreeClassifier()\n",
    "grid = GridSearchCV(estimator=tree, param_grid=param_grid, cv = 5, n_jobs=-1)\n",
    "\n",
    "grid_result = grid.fit(X_train, y_train)\n",
    "\n",
    "print(f\"Best score: {grid_result.best_score_}\")\n",
    "print(f\"Best parameters: {grid_result.best_params_} \")"
   ]
  },
  {
   "cell_type": "code",
   "execution_count": 74,
   "metadata": {},
   "outputs": [
    {
     "data": {
      "text/plain": [
       "DecisionTreeClassifier(ccp_alpha=0.05, max_depth=3)"
      ]
     },
     "execution_count": 74,
     "metadata": {},
     "output_type": "execute_result"
    }
   ],
   "source": [
    "tree = DecisionTreeClassifier(ccp_alpha = 0.05,\n",
    "                             criterion = 'gini',\n",
    "                             max_depth = 3,\n",
    "                             splitter = 'best')\n",
    "tree.fit(X_train, y_train)"
   ]
  },
  {
   "cell_type": "code",
   "execution_count": 75,
   "metadata": {},
   "outputs": [
    {
     "data": {
      "text/plain": [
       "array([[1386,    0],\n",
       "       [  46,    0]], dtype=int64)"
      ]
     },
     "execution_count": 75,
     "metadata": {},
     "output_type": "execute_result"
    }
   ],
   "source": [
    "sklearn.metrics.confusion_matrix(y_test, tree.predict(X_test))"
   ]
  },
  {
   "cell_type": "code",
   "execution_count": 76,
   "metadata": {},
   "outputs": [
    {
     "data": {
      "text/plain": [
       "array([[3229,    0],\n",
       "       [ 112,    0]], dtype=int64)"
      ]
     },
     "execution_count": 76,
     "metadata": {},
     "output_type": "execute_result"
    }
   ],
   "source": [
    "sklearn.metrics.confusion_matrix(y_train, tree.predict(X_train))"
   ]
  },
  {
   "cell_type": "code",
   "execution_count": 77,
   "metadata": {},
   "outputs": [
    {
     "name": "stdout",
     "output_type": "stream",
     "text": [
      "Model score: 0.9664771026638731\n",
      "Precision score: 0.0\n",
      "Gini score: 0.5\n"
     ]
    }
   ],
   "source": [
    "Scores(tree, X_train, y_train)"
   ]
  },
  {
   "cell_type": "code",
   "execution_count": 78,
   "metadata": {},
   "outputs": [
    {
     "name": "stdout",
     "output_type": "stream",
     "text": [
      "Model score: 0.9678770949720671\n",
      "Precision score: 0.0\n",
      "Gini score: 0.5\n"
     ]
    }
   ],
   "source": [
    "Scores(tree, X_test, y_test)"
   ]
  },
  {
   "cell_type": "markdown",
   "metadata": {},
   "source": [
    "Udało się podbić wynik accuracy na zbiorze testowym nieznacznie, ale zapłaciliśmy za to cenę w postaci niższego gini. Precision score spadł (co jest durne, widać na macierzy konfuzji że nie). Model nie jest już przetrenowany. Chociaż po macierzy konfuzji można zobaczyć, że model przypoisuje wszystkim rekordom 0. \n",
    "\n",
    "Teraz użyjemy Random Search"
   ]
  },
  {
   "cell_type": "code",
   "execution_count": 87,
   "metadata": {},
   "outputs": [
    {
     "name": "stdout",
     "output_type": "stream",
     "text": [
      "Best score: 0.9664773591829793\n",
      "Best parameters: {'splitter': 'best', 'max_depth': 3, 'criterion': 'gini', 'ccp_alpha': 0.05}\n"
     ]
    }
   ],
   "source": [
    "tree = DecisionTreeClassifier()\n",
    "random = RandomizedSearchCV(estimator=tree, param_distributions=param_grid, cv = 5, n_jobs=-1, random_state = 100)\n",
    "\n",
    "random_result = random.fit(X_train, y_train)\n",
    "\n",
    "print(f\"Best score: {random_result.best_score_}\")\n",
    "print(f\"Best parameters: {random_result.best_params_}\")"
   ]
  },
  {
   "cell_type": "markdown",
   "metadata": {},
   "source": [
    "Z użyciem random search uzyskaliśmy dokładnie taki sam wynik."
   ]
  },
  {
   "cell_type": "markdown",
   "metadata": {},
   "source": [
    "#### Random Forest"
   ]
  },
  {
   "cell_type": "code",
   "execution_count": 89,
   "metadata": {},
   "outputs": [],
   "source": [
    "forest_base = RandomForestClassifier()\n",
    "forest_base.fit(X_train, y_train)\n",
    "pred = forest_base.predict(X_test)"
   ]
  },
  {
   "cell_type": "code",
   "execution_count": 90,
   "metadata": {},
   "outputs": [
    {
     "name": "stdout",
     "output_type": "stream",
     "text": [
      "Model score: 1.0\n",
      "Precision score: 1.0\n",
      "Gini score: 1.0\n"
     ]
    }
   ],
   "source": [
    "Scores(forest_base, X_train, y_train)"
   ]
  },
  {
   "cell_type": "code",
   "execution_count": 91,
   "metadata": {},
   "outputs": [
    {
     "name": "stdout",
     "output_type": "stream",
     "text": [
      "Model score: 0.9699720670391061\n",
      "Precision score: 0.8\n",
      "Gini score: 0.5431175105088148\n"
     ]
    }
   ],
   "source": [
    "Scores(forest_base, X_test, y_test)"
   ]
  },
  {
   "cell_type": "markdown",
   "metadata": {},
   "source": [
    "Podobnie jak w przypadku drzew decyzyjnych, acuuruacy score dla zbioru testowego jest bardzo wysoki, ale wydaje się, że model jest przetrenowany. Małe gini na zbiorze testowym to potwierdza."
   ]
  },
  {
   "cell_type": "code",
   "execution_count": 93,
   "metadata": {},
   "outputs": [],
   "source": [
    "max_depth=[3, 4, 5]\n",
    "n_estimators = [80, 90, 100, 110, 120]\n",
    "criterion=[\"gini\",\"entrophy\"]\n",
    "min_samples_split = [2, 5, 10, 20, 50]\n",
    "param_grid = dict(max_depth=max_depth, n_estimators = n_estimators, criterion=criterion, min_samples_split=min_samples_split)"
   ]
  },
  {
   "cell_type": "code",
   "execution_count": 94,
   "metadata": {},
   "outputs": [
    {
     "name": "stdout",
     "output_type": "stream",
     "text": [
      "Best score: 0.9679739176355808\n",
      "Best parameters: {'criterion': 'gini', 'max_depth': 5, 'min_samples_split': 2, 'n_estimators': 120} \n"
     ]
    }
   ],
   "source": [
    "forest = RandomForestClassifier()\n",
    "grid = GridSearchCV(estimator=forest, param_grid=param_grid, cv = 5, n_jobs=-1)\n",
    "\n",
    "grid_result = grid.fit(X_train, y_train)\n",
    "\n",
    "print(f\"Best score: {grid_result.best_score_}\")\n",
    "print(f\"Best parameters: {grid_result.best_params_} \")"
   ]
  },
  {
   "cell_type": "code",
   "execution_count": 121,
   "metadata": {},
   "outputs": [
    {
     "data": {
      "text/plain": [
       "RandomForestClassifier(max_depth=5, n_estimators=120)"
      ]
     },
     "execution_count": 121,
     "metadata": {},
     "output_type": "execute_result"
    }
   ],
   "source": [
    "forest = RandomForestClassifier(min_samples_split = 2,\n",
    "                             criterion = 'gini',\n",
    "                             max_depth = 5,\n",
    "                             n_estimators = 120)\n",
    "forest.fit(X_train, y_train)"
   ]
  },
  {
   "cell_type": "code",
   "execution_count": 122,
   "metadata": {},
   "outputs": [
    {
     "name": "stdout",
     "output_type": "stream",
     "text": [
      "Model score: 0.9778509428314875\n",
      "Precision score: 1.0\n",
      "Gini score: 0.6696428571428572\n"
     ]
    }
   ],
   "source": [
    "Scores(forest, X_train, y_train)"
   ]
  },
  {
   "cell_type": "code",
   "execution_count": 123,
   "metadata": {},
   "outputs": [
    {
     "name": "stdout",
     "output_type": "stream",
     "text": [
      "Model score: 0.9692737430167597\n",
      "Precision score: 0.6666666666666666\n",
      "Gini score: 0.5427567601480645\n"
     ]
    }
   ],
   "source": [
    "Scores(forest, X_test, y_test)"
   ]
  },
  {
   "cell_type": "markdown",
   "metadata": {},
   "source": [
    "Model nie jest już tak przetrenowany po dobraniu hipermarametrów. "
   ]
  },
  {
   "cell_type": "code",
   "execution_count": 118,
   "metadata": {},
   "outputs": [],
   "source": [
    "min_samples_split = [i for i in range(2, 30, 3)]\n",
    "n_estimators = [i for i in range(70, 130, 5)]\n",
    "param_grid = dict(max_depth=max_depth, n_estimators = n_estimators, criterion=criterion, min_samples_split=min_samples_split)"
   ]
  },
  {
   "cell_type": "code",
   "execution_count": 120,
   "metadata": {},
   "outputs": [
    {
     "name": "stdout",
     "output_type": "stream",
     "text": [
      "Best score: 0.9661770629145296\n",
      "Best parameters: {'n_estimators': 85, 'min_samples_split': 20, 'max_depth': 4, 'criterion': 'gini'}\n"
     ]
    }
   ],
   "source": [
    "forest = RandomForestClassifier()\n",
    "random = RandomizedSearchCV(estimator=forest, param_distributions=param_grid, cv = 5, n_jobs=-1, random_state = 100)\n",
    "\n",
    "random_result = random.fit(X_train, y_train)\n",
    "\n",
    "print(f\"Best score: {random_result.best_score_}\")\n",
    "print(f\"Best parameters: {random_result.best_params_}\")"
   ]
  },
  {
   "cell_type": "code",
   "execution_count": 124,
   "metadata": {},
   "outputs": [
    {
     "data": {
      "text/plain": [
       "RandomForestClassifier(max_depth=4, min_samples_split=20, n_estimators=85)"
      ]
     },
     "execution_count": 124,
     "metadata": {},
     "output_type": "execute_result"
    }
   ],
   "source": [
    "forest = RandomForestClassifier(min_samples_split = 20,\n",
    "                             criterion = 'gini',\n",
    "                             max_depth = 4,\n",
    "                             n_estimators = 85)\n",
    "forest.fit(X_train, y_train)"
   ]
  },
  {
   "cell_type": "code",
   "execution_count": 125,
   "metadata": {},
   "outputs": [
    {
     "name": "stdout",
     "output_type": "stream",
     "text": [
      "Model score: 0.9727626459143969\n",
      "Precision score: 1.0\n",
      "Gini score: 0.59375\n"
     ]
    }
   ],
   "source": [
    "Scores(forest, X_train, y_train)"
   ]
  },
  {
   "cell_type": "code",
   "execution_count": 126,
   "metadata": {},
   "outputs": [
    {
     "name": "stdout",
     "output_type": "stream",
     "text": [
      "Model score: 0.9706703910614525\n",
      "Precision score: 1.0\n",
      "Gini score: 0.5434782608695652\n"
     ]
    }
   ],
   "source": [
    "Scores(forest, X_test, y_test)"
   ]
  }
 ],
 "metadata": {
  "kernelspec": {
   "display_name": "Python 3",
   "language": "python",
   "name": "python3"
  },
  "language_info": {
   "codemirror_mode": {
    "name": "ipython",
    "version": 3
   },
   "file_extension": ".py",
   "mimetype": "text/x-python",
   "name": "python",
   "nbconvert_exporter": "python",
   "pygments_lexer": "ipython3",
   "version": "3.8.3"
  }
 },
 "nbformat": 4,
 "nbformat_minor": 4
}
