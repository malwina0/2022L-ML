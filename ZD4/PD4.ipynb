{
 "cells": [
  {
   "cell_type": "markdown",
   "metadata": {},
   "source": [
    "## Wstęp do uczenia maszynowego \n",
    "### Praca domowa 4\n",
    "#### Jakub Piwko, Malwina Wojewoda\n",
    "***"
   ]
  },
  {
   "cell_type": "markdown",
   "metadata": {},
   "source": [
    "### Pakiety"
   ]
  },
  {
   "cell_type": "code",
   "execution_count": 1,
   "metadata": {},
   "outputs": [],
   "source": [
    "import pandas as pd\n",
    "import plotly.express as px\n",
    "import numpy as np\n",
    "import sklearn \n",
    "import seaborn as sns\n",
    "import matplotlib.pyplot as plt\n",
    "import matplotlib\n",
    "import warnings\n",
    "warnings.filterwarnings('ignore')\n",
    "np.random.seed(23)\n",
    "from sklearn.model_selection import train_test_split"
   ]
  },
  {
   "cell_type": "markdown",
   "metadata": {},
   "source": [
    "### Wczytanie i analiza danych"
   ]
  },
  {
   "cell_type": "markdown",
   "metadata": {},
   "source": [
    "Dane opisują Tajwańskie spółki z lat 1999-2009. Przewidujemy zmienną `Bankrupt?`, która wskazuje, czy dana spółka zbankrutuje. "
   ]
  },
  {
   "cell_type": "code",
   "execution_count": 9,
   "metadata": {},
   "outputs": [
    {
     "data": {
      "text/html": [
       "<div>\n",
       "<style scoped>\n",
       "    .dataframe tbody tr th:only-of-type {\n",
       "        vertical-align: middle;\n",
       "    }\n",
       "\n",
       "    .dataframe tbody tr th {\n",
       "        vertical-align: top;\n",
       "    }\n",
       "\n",
       "    .dataframe thead th {\n",
       "        text-align: right;\n",
       "    }\n",
       "</style>\n",
       "<table border=\"1\" class=\"dataframe\">\n",
       "  <thead>\n",
       "    <tr style=\"text-align: right;\">\n",
       "      <th></th>\n",
       "      <th>ROA(C) before interest and depreciation before interest</th>\n",
       "      <th>ROA(A) before interest and % after tax</th>\n",
       "      <th>ROA(B) before interest and depreciation after tax</th>\n",
       "      <th>Operating Gross Margin</th>\n",
       "      <th>Realized Sales Gross Margin</th>\n",
       "      <th>Operating Profit Rate</th>\n",
       "      <th>Pre-tax net Interest Rate</th>\n",
       "      <th>After-tax net Interest Rate</th>\n",
       "      <th>Non-industry income and expenditure/revenue</th>\n",
       "      <th>Continuous interest rate (after tax)</th>\n",
       "      <th>...</th>\n",
       "      <th>Net Income to Total Assets</th>\n",
       "      <th>Total assets to GNP price</th>\n",
       "      <th>No-credit Interval</th>\n",
       "      <th>Gross Profit to Sales</th>\n",
       "      <th>Net Income to Stockholder's Equity</th>\n",
       "      <th>Liability to Equity</th>\n",
       "      <th>Degree of Financial Leverage (DFL)</th>\n",
       "      <th>Interest Coverage Ratio (Interest expense to EBIT)</th>\n",
       "      <th>Net Income Flag</th>\n",
       "      <th>Equity to Liability</th>\n",
       "    </tr>\n",
       "  </thead>\n",
       "  <tbody>\n",
       "    <tr>\n",
       "      <th>0</th>\n",
       "      <td>0.370594</td>\n",
       "      <td>0.424389</td>\n",
       "      <td>0.405750</td>\n",
       "      <td>0.601457</td>\n",
       "      <td>0.601457</td>\n",
       "      <td>0.998969</td>\n",
       "      <td>0.796887</td>\n",
       "      <td>0.808809</td>\n",
       "      <td>0.302646</td>\n",
       "      <td>0.780985</td>\n",
       "      <td>...</td>\n",
       "      <td>0.716845</td>\n",
       "      <td>0.009219</td>\n",
       "      <td>0.622879</td>\n",
       "      <td>0.601453</td>\n",
       "      <td>0.827890</td>\n",
       "      <td>0.290202</td>\n",
       "      <td>0.026601</td>\n",
       "      <td>0.564050</td>\n",
       "      <td>1</td>\n",
       "      <td>0.016469</td>\n",
       "    </tr>\n",
       "    <tr>\n",
       "      <th>1</th>\n",
       "      <td>0.464291</td>\n",
       "      <td>0.538214</td>\n",
       "      <td>0.516730</td>\n",
       "      <td>0.610235</td>\n",
       "      <td>0.610235</td>\n",
       "      <td>0.998946</td>\n",
       "      <td>0.797380</td>\n",
       "      <td>0.809301</td>\n",
       "      <td>0.303556</td>\n",
       "      <td>0.781506</td>\n",
       "      <td>...</td>\n",
       "      <td>0.795297</td>\n",
       "      <td>0.008323</td>\n",
       "      <td>0.623652</td>\n",
       "      <td>0.610237</td>\n",
       "      <td>0.839969</td>\n",
       "      <td>0.283846</td>\n",
       "      <td>0.264577</td>\n",
       "      <td>0.570175</td>\n",
       "      <td>1</td>\n",
       "      <td>0.020794</td>\n",
       "    </tr>\n",
       "    <tr>\n",
       "      <th>2</th>\n",
       "      <td>0.426071</td>\n",
       "      <td>0.499019</td>\n",
       "      <td>0.472295</td>\n",
       "      <td>0.601450</td>\n",
       "      <td>0.601364</td>\n",
       "      <td>0.998857</td>\n",
       "      <td>0.796403</td>\n",
       "      <td>0.808388</td>\n",
       "      <td>0.302035</td>\n",
       "      <td>0.780284</td>\n",
       "      <td>...</td>\n",
       "      <td>0.774670</td>\n",
       "      <td>0.040003</td>\n",
       "      <td>0.623841</td>\n",
       "      <td>0.601449</td>\n",
       "      <td>0.836774</td>\n",
       "      <td>0.290189</td>\n",
       "      <td>0.026555</td>\n",
       "      <td>0.563706</td>\n",
       "      <td>1</td>\n",
       "      <td>0.016474</td>\n",
       "    </tr>\n",
       "    <tr>\n",
       "      <th>3</th>\n",
       "      <td>0.399844</td>\n",
       "      <td>0.451265</td>\n",
       "      <td>0.457733</td>\n",
       "      <td>0.583541</td>\n",
       "      <td>0.583541</td>\n",
       "      <td>0.998700</td>\n",
       "      <td>0.796967</td>\n",
       "      <td>0.808966</td>\n",
       "      <td>0.303350</td>\n",
       "      <td>0.781241</td>\n",
       "      <td>...</td>\n",
       "      <td>0.739555</td>\n",
       "      <td>0.003252</td>\n",
       "      <td>0.622929</td>\n",
       "      <td>0.583538</td>\n",
       "      <td>0.834697</td>\n",
       "      <td>0.281721</td>\n",
       "      <td>0.026697</td>\n",
       "      <td>0.564663</td>\n",
       "      <td>1</td>\n",
       "      <td>0.023982</td>\n",
       "    </tr>\n",
       "    <tr>\n",
       "      <th>4</th>\n",
       "      <td>0.465022</td>\n",
       "      <td>0.538432</td>\n",
       "      <td>0.522298</td>\n",
       "      <td>0.598783</td>\n",
       "      <td>0.598783</td>\n",
       "      <td>0.998973</td>\n",
       "      <td>0.797366</td>\n",
       "      <td>0.809304</td>\n",
       "      <td>0.303475</td>\n",
       "      <td>0.781550</td>\n",
       "      <td>...</td>\n",
       "      <td>0.795016</td>\n",
       "      <td>0.003878</td>\n",
       "      <td>0.623521</td>\n",
       "      <td>0.598782</td>\n",
       "      <td>0.839973</td>\n",
       "      <td>0.278514</td>\n",
       "      <td>0.024752</td>\n",
       "      <td>0.575617</td>\n",
       "      <td>1</td>\n",
       "      <td>0.035490</td>\n",
       "    </tr>\n",
       "  </tbody>\n",
       "</table>\n",
       "<p>5 rows × 95 columns</p>\n",
       "</div>"
      ],
      "text/plain": [
       "    ROA(C) before interest and depreciation before interest  \\\n",
       "0                                           0.370594          \n",
       "1                                           0.464291          \n",
       "2                                           0.426071          \n",
       "3                                           0.399844          \n",
       "4                                           0.465022          \n",
       "\n",
       "    ROA(A) before interest and % after tax  \\\n",
       "0                                 0.424389   \n",
       "1                                 0.538214   \n",
       "2                                 0.499019   \n",
       "3                                 0.451265   \n",
       "4                                 0.538432   \n",
       "\n",
       "    ROA(B) before interest and depreciation after tax  \\\n",
       "0                                           0.405750    \n",
       "1                                           0.516730    \n",
       "2                                           0.472295    \n",
       "3                                           0.457733    \n",
       "4                                           0.522298    \n",
       "\n",
       "    Operating Gross Margin   Realized Sales Gross Margin  \\\n",
       "0                 0.601457                      0.601457   \n",
       "1                 0.610235                      0.610235   \n",
       "2                 0.601450                      0.601364   \n",
       "3                 0.583541                      0.583541   \n",
       "4                 0.598783                      0.598783   \n",
       "\n",
       "    Operating Profit Rate   Pre-tax net Interest Rate  \\\n",
       "0                0.998969                    0.796887   \n",
       "1                0.998946                    0.797380   \n",
       "2                0.998857                    0.796403   \n",
       "3                0.998700                    0.796967   \n",
       "4                0.998973                    0.797366   \n",
       "\n",
       "    After-tax net Interest Rate   Non-industry income and expenditure/revenue  \\\n",
       "0                      0.808809                                      0.302646   \n",
       "1                      0.809301                                      0.303556   \n",
       "2                      0.808388                                      0.302035   \n",
       "3                      0.808966                                      0.303350   \n",
       "4                      0.809304                                      0.303475   \n",
       "\n",
       "    Continuous interest rate (after tax)  ...   Net Income to Total Assets  \\\n",
       "0                               0.780985  ...                     0.716845   \n",
       "1                               0.781506  ...                     0.795297   \n",
       "2                               0.780284  ...                     0.774670   \n",
       "3                               0.781241  ...                     0.739555   \n",
       "4                               0.781550  ...                     0.795016   \n",
       "\n",
       "    Total assets to GNP price   No-credit Interval   Gross Profit to Sales  \\\n",
       "0                    0.009219             0.622879                0.601453   \n",
       "1                    0.008323             0.623652                0.610237   \n",
       "2                    0.040003             0.623841                0.601449   \n",
       "3                    0.003252             0.622929                0.583538   \n",
       "4                    0.003878             0.623521                0.598782   \n",
       "\n",
       "    Net Income to Stockholder's Equity   Liability to Equity  \\\n",
       "0                             0.827890              0.290202   \n",
       "1                             0.839969              0.283846   \n",
       "2                             0.836774              0.290189   \n",
       "3                             0.834697              0.281721   \n",
       "4                             0.839973              0.278514   \n",
       "\n",
       "    Degree of Financial Leverage (DFL)  \\\n",
       "0                             0.026601   \n",
       "1                             0.264577   \n",
       "2                             0.026555   \n",
       "3                             0.026697   \n",
       "4                             0.024752   \n",
       "\n",
       "    Interest Coverage Ratio (Interest expense to EBIT)   Net Income Flag  \\\n",
       "0                                           0.564050                   1   \n",
       "1                                           0.570175                   1   \n",
       "2                                           0.563706                   1   \n",
       "3                                           0.564663                   1   \n",
       "4                                           0.575617                   1   \n",
       "\n",
       "    Equity to Liability  \n",
       "0              0.016469  \n",
       "1              0.020794  \n",
       "2              0.016474  \n",
       "3              0.023982  \n",
       "4              0.035490  \n",
       "\n",
       "[5 rows x 95 columns]"
      ]
     },
     "execution_count": 9,
     "metadata": {},
     "output_type": "execute_result"
    }
   ],
   "source": [
    "df = pd.read_csv('data.csv')\n",
    "y = df['Bankrupt?']\n",
    "df.drop('Bankrupt?', axis=1, inplace = True)\n",
    "df.head()"
   ]
  },
  {
   "cell_type": "markdown",
   "metadata": {},
   "source": [
    "Jak wiemy z ppoprzendiego zadania domowego, w tym zbiorze nie występują braki danych."
   ]
  },
  {
   "cell_type": "code",
   "execution_count": 10,
   "metadata": {},
   "outputs": [],
   "source": [
    "#Wyróżnienie zbioru, na którym będziemy pracować i zbioru do walidacji\n",
    "X, X_val, y, y_val = train_test_split(df, y, test_size=0.3)\n",
    "#Wyróżnienie zbioru treningowego i testowego\n",
    "X_train, X_test, y_train, y_test = train_test_split(X, y, test_size=0.3)"
   ]
  },
  {
   "cell_type": "markdown",
   "metadata": {},
   "source": [
    "## Modele i dobór hiperparametrów "
   ]
  },
  {
   "cell_type": "code",
   "execution_count": 4,
   "metadata": {},
   "outputs": [],
   "source": [
    "from sklearn.model_selection import GridSearchCV, RepeatedStratifiedKFold, RandomizedSearchCV\n",
    "from sklearn.tree import DecisionTreeClassifier\n",
    "from sklearn.svm import SVC\n",
    "from sklearn.ensemble import RandomForestClassifier\n",
    "from sklearn.metrics import accuracy_score, precision_score, recall_score, roc_auc_score, confusion_matrix\n",
    "from scipy.stats import poisson,expon"
   ]
  },
  {
   "cell_type": "code",
   "execution_count": 5,
   "metadata": {},
   "outputs": [],
   "source": [
    "def Scores(model, X, y):\n",
    "    print(f\"Model score: {model.score(X, y)}\")\n",
    "    print(f\"Precision score: {precision_score(y, model.predict(X), average='binary')}\")\n",
    "    print(f\"Gini score: {roc_auc_score(y, model.predict(X))}\")"
   ]
  },
  {
   "cell_type": "code",
   "execution_count": 6,
   "metadata": {},
   "outputs": [],
   "source": [
    "def print_scores(model):\n",
    "    print(f\"ZBIÓR TRENINGOWY:\")\n",
    "    print(f\"Model score: {model.score(X_train, y_train)}\")\n",
    "    print(f\"Precision score: {precision_score(y_train, model.predict(X_train), average='binary')}\")\n",
    "    print(f\"Gini score: {roc_auc_score(y_train, model.predict(X_train))}\")\n",
    "    print(\"-------------------------------\")\n",
    "    print(f\"ZBIÓR TESTOWY:\")\n",
    "    print(f\"Model score: {model.score(X_test, y_test)}\")\n",
    "    print(f\"Precision score: {precision_score(y_test, model.predict(X_test), average='binary')}\")\n",
    "    print(f\"Gini score: {roc_auc_score(y_test, model.predict(X_test))}\")"
   ]
  },
  {
   "cell_type": "code",
   "execution_count": 7,
   "metadata": {},
   "outputs": [],
   "source": [
    "def show_confusion_matrix(y_test, y_pred):\n",
    "    cf_matrix = confusion_matrix(y_test, y_pred)\n",
    "    ax = sns.heatmap(cf_matrix, annot=True, cmap='Blues')\n",
    "\n",
    "    ax.set_title('Confusion Matrix\\n\\n');\n",
    "    ax.set_xlabel('\\nPredicted Values')\n",
    "    ax.set_ylabel('Actual Values ');\n",
    "\n",
    "    ax.xaxis.set_ticklabels(['False','True'])\n",
    "    ax.yaxis.set_ticklabels(['False','True'])\n",
    "\n",
    "    plt.show()"
   ]
  },
  {
   "cell_type": "markdown",
   "metadata": {},
   "source": [
    "### Decision Trees"
   ]
  },
  {
   "cell_type": "markdown",
   "metadata": {},
   "source": [
    "Na początek wytrenujemy model drzewa decyzyjnego z użyciem domyślnych parametrów. "
   ]
  },
  {
   "cell_type": "code",
   "execution_count": 39,
   "metadata": {},
   "outputs": [],
   "source": [
    "tree_base = DecisionTreeClassifier()\n",
    "tree_base.fit(X_train, y_train)\n",
    "pred = tree_base.predict(X_test)"
   ]
  },
  {
   "cell_type": "code",
   "execution_count": 40,
   "metadata": {},
   "outputs": [
    {
     "name": "stdout",
     "output_type": "stream",
     "text": [
      "ZBIÓR TRENINGOWY:\n",
      "Model score: 1.0\n",
      "Precision score: 1.0\n",
      "Gini score: 1.0\n",
      "-------------------------------\n",
      "ZBIÓR TESTOWY:\n",
      "Model score: 0.9539106145251397\n",
      "Precision score: 0.29508196721311475\n",
      "Gini score: 0.7040556890112395\n"
     ]
    }
   ],
   "source": [
    "print_scores(tree_base)"
   ]
  },
  {
   "cell_type": "markdown",
   "metadata": {},
   "source": [
    "Bazowy model drzewa okazał się już wysoki score, także wyoski gini na zbiorze testowym, jednak patrząc na wyniki zbioru treningowego widać, że jest przetrenowany. Precision score jest niski.\n",
    "\n",
    "Użyjemy teraz grid search to znalezienia optymalnych parametrów. Do tuningu wybraliśmy parametry `max_depth`, `splitter`, `criterion` i `ccp_alpha`."
   ]
  },
  {
   "cell_type": "code",
   "execution_count": 10,
   "metadata": {},
   "outputs": [],
   "source": [
    "max_depth=[3, 4, 5]\n",
    "splitter = [\"best\", \"random\"]\n",
    "criterion=[\"gini\",\"entrophy\"]\n",
    "ccp_alpha=[0, 0.05, 0.1]\n",
    "param_grid = dict(max_depth=max_depth, splitter=splitter, criterion=criterion, ccp_alpha=ccp_alpha)"
   ]
  },
  {
   "cell_type": "code",
   "execution_count": 11,
   "metadata": {},
   "outputs": [
    {
     "name": "stdout",
     "output_type": "stream",
     "text": [
      "Best score: 0.9664773591829793\n",
      "Best parameters: {'ccp_alpha': 0.05, 'criterion': 'gini', 'max_depth': 3, 'splitter': 'best'} \n"
     ]
    }
   ],
   "source": [
    "tree = DecisionTreeClassifier()\n",
    "grid = GridSearchCV(estimator=tree, param_grid=param_grid, cv = 5, n_jobs=-1)\n",
    "\n",
    "grid_result = grid.fit(X_train, y_train)\n",
    "\n",
    "print(f\"Best score: {grid_result.best_score_}\")\n",
    "print(f\"Best parameters: {grid_result.best_params_} \")"
   ]
  },
  {
   "cell_type": "markdown",
   "metadata": {},
   "source": [
    "Teraz użyjemy Random Search"
   ]
  },
  {
   "cell_type": "code",
   "execution_count": 12,
   "metadata": {},
   "outputs": [
    {
     "name": "stdout",
     "output_type": "stream",
     "text": [
      "Best score: 0.9664773591829793\n",
      "Best parameters: {'splitter': 'best', 'max_depth': 3, 'criterion': 'gini', 'ccp_alpha': 0.05}\n"
     ]
    }
   ],
   "source": [
    "random = RandomizedSearchCV(estimator=tree, param_distributions=param_grid, cv = 5, n_jobs=-1, random_state = 100)\n",
    "\n",
    "random_result = random.fit(X_train, y_train)\n",
    "\n",
    "print(f\"Best score: {random_result.best_score_}\")\n",
    "print(f\"Best parameters: {random_result.best_params_}\")"
   ]
  },
  {
   "cell_type": "markdown",
   "metadata": {},
   "source": [
    "Z użyciem random search uzyskaliśmy dokładnie taki sam wynik."
   ]
  },
  {
   "cell_type": "code",
   "execution_count": 42,
   "metadata": {},
   "outputs": [
    {
     "data": {
      "text/plain": [
       "DecisionTreeClassifier(ccp_alpha=0.05, max_depth=3)"
      ]
     },
     "execution_count": 42,
     "metadata": {},
     "output_type": "execute_result"
    }
   ],
   "source": [
    "tree1 = DecisionTreeClassifier(ccp_alpha = 0.05,\n",
    "                             criterion = 'gini',\n",
    "                             max_depth = 3,\n",
    "                             splitter = 'best')\n",
    "tree1.fit(X_train, y_train)"
   ]
  },
  {
   "cell_type": "code",
   "execution_count": 43,
   "metadata": {},
   "outputs": [
    {
     "name": "stdout",
     "output_type": "stream",
     "text": [
      "ZBIÓR TRENINGOWY:\n",
      "Model score: 0.9634839868302904\n",
      "Precision score: 0.0\n",
      "Gini score: 0.5\n",
      "-------------------------------\n",
      "ZBIÓR TESTOWY:\n",
      "Model score: 0.9713687150837989\n",
      "Precision score: 0.0\n",
      "Gini score: 0.5\n"
     ]
    }
   ],
   "source": [
    "print_scores(tree1)"
   ]
  },
  {
   "cell_type": "code",
   "execution_count": 44,
   "metadata": {},
   "outputs": [
    {
     "data": {
      "image/png": "[encoded data removed]",
      "text/plain": [
       "<Figure size 432x288 with 2 Axes>"
      ]
     },
     "metadata": {
      "needs_background": "light"
     },
     "output_type": "display_data"
    }
   ],
   "source": [
    "show_confusion_matrix(y_train, tree1.predict(X_train))"
   ]
  },
  {
   "cell_type": "code",
   "execution_count": 45,
   "metadata": {},
   "outputs": [
    {
     "data": {
      "image/png": "[encoded data removed]",
      "text/plain": [
       "<Figure size 432x288 with 2 Axes>"
      ]
     },
     "metadata": {
      "needs_background": "light"
     },
     "output_type": "display_data"
    }
   ],
   "source": [
    "show_confusion_matrix(y_test, tree1.predict(X_test))"
   ]
  },
  {
   "cell_type": "markdown",
   "metadata": {},
   "source": [
    "Udało się nieznacznie podbić wynik accuracy na zbiorze testowym, ale zapłaciliśmy za to cenę w postaci sporo niższego gini. Precision score jest równy zero. Sprawdziliśmy na macierzy konfucji, że jest to skutkiem tego, że każdej wartości przypisywany jest fałsz. Model w ogóle nie przewiduje prawdy. \n",
    "\n",
    "Sprawdzimy teraz, czy jeśli wybierzemy więcej parametrów i więcej wartości do wyboru to uzyskamy lepsze wyniki."
   ]
  },
  {
   "cell_type": "code",
   "execution_count": 16,
   "metadata": {},
   "outputs": [],
   "source": [
    "max_depth=[3, 4, 5, 6, 7, 8, 9, 10]\n",
    "splitter = [\"best\", \"random\"]\n",
    "criterion=[\"gini\",\"entrophy\"]\n",
    "ccp_alpha=[0, 0.05, 0.1, 0.02]\n",
    "min_samples_split=range(1,20)\n",
    "min_samples_leaf=[0.5, 1, 1.5, 2]\n",
    "max_features=[\"sqrt\", \"log2\"]\n",
    "param_grid = dict(max_depth=max_depth, splitter=splitter, criterion=criterion, min_samples_leaf=min_samples_leaf,\n",
    "                  ccp_alpha=ccp_alpha, min_samples_split=min_samples_split, max_features=max_features)"
   ]
  },
  {
   "cell_type": "code",
   "execution_count": 17,
   "metadata": {},
   "outputs": [
    {
     "name": "stdout",
     "output_type": "stream",
     "text": [
      "Best score: 0.9682733188331856\n",
      "Best parameters: {'ccp_alpha': 0, 'criterion': 'gini', 'max_depth': 3, 'max_features': 'sqrt', 'min_samples_leaf': 1, 'min_samples_split': 13, 'splitter': 'random'} \n"
     ]
    }
   ],
   "source": [
    "tree = DecisionTreeClassifier()\n",
    "grid = GridSearchCV(estimator=tree, param_grid=param_grid, cv = 5, n_jobs=-1)\n",
    "\n",
    "grid_result = grid.fit(X_train, y_train)\n",
    "\n",
    "print(f\"Best score: {grid_result.best_score_}\")\n",
    "print(f\"Best parameters: {grid_result.best_params_} \")"
   ]
  },
  {
   "cell_type": "code",
   "execution_count": 47,
   "metadata": {},
   "outputs": [
    {
     "data": {
      "text/plain": [
       "DecisionTreeClassifier(ccp_alpha=0, max_depth=7, max_features='sqrt',\n",
       "                       min_samples_leaf=2, min_samples_split=17,\n",
       "                       splitter='random')"
      ]
     },
     "execution_count": 47,
     "metadata": {},
     "output_type": "execute_result"
    }
   ],
   "source": [
    "tree2 = DecisionTreeClassifier(ccp_alpha = 0,\n",
    "                              criterion = 'gini',\n",
    "                              max_depth = 7,\n",
    "                              max_features ='sqrt',\n",
    "                              min_samples_leaf = 2,\n",
    "                              min_samples_split = 17,\n",
    "                              splitter = 'random')\n",
    "tree2.fit(X_train, y_train)"
   ]
  },
  {
   "cell_type": "code",
   "execution_count": 48,
   "metadata": {},
   "outputs": [
    {
     "name": "stdout",
     "output_type": "stream",
     "text": [
      "ZBIÓR TRENINGOWY:\n",
      "Model score: 0.9640826099970069\n",
      "Precision score: 0.6666666666666666\n",
      "Gini score: 0.5160827871398815\n",
      "-------------------------------\n",
      "ZBIÓR TESTOWY:\n",
      "Model score: 0.9720670391061452\n",
      "Precision score: 1.0\n",
      "Gini score: 0.5121951219512195\n"
     ]
    }
   ],
   "source": [
    "print_scores(tree2)"
   ]
  },
  {
   "cell_type": "code",
   "execution_count": 49,
   "metadata": {},
   "outputs": [
    {
     "data": {
      "image/png": "[encoded data removed]",
      "text/plain": [
       "<Figure size 432x288 with 2 Axes>"
      ]
     },
     "metadata": {
      "needs_background": "light"
     },
     "output_type": "display_data"
    }
   ],
   "source": [
    "show_confusion_matrix(y_train, tree2.predict(X_train))"
   ]
  },
  {
   "cell_type": "code",
   "execution_count": 50,
   "metadata": {},
   "outputs": [
    {
     "data": {
      "image/png": "[encoded data removed]",
      "text/plain": [
       "<Figure size 432x288 with 2 Axes>"
      ]
     },
     "metadata": {
      "needs_background": "light"
     },
     "output_type": "display_data"
    }
   ],
   "source": [
    "show_confusion_matrix(y_test, tree2.predict(X_test))"
   ]
  },
  {
   "cell_type": "markdown",
   "metadata": {},
   "source": [
    "Widać, że w tym przypadku widać największą poprawę dla precision score. Także gini jest trochę lepsze niż przy pierwszym tuningu, jednak nie tak dobre jak dla modelu bazowego. Accuracy na zbiorze testowym także jest najlepsze ze wszystkich, jednak względem poprzedniego modelu jest to nieznaczna poprawa. "
   ]
  },
  {
   "cell_type": "markdown",
   "metadata": {},
   "source": [
    "Sprawdzimy jakie wyniki dla takiego wyboru parametrów da zastosowanie Random Search:"
   ]
  },
  {
   "cell_type": "code",
   "execution_count": 21,
   "metadata": {},
   "outputs": [
    {
     "name": "stdout",
     "output_type": "stream",
     "text": [
      "Best score: 0.9664773591829793\n",
      "Best parameters: {'splitter': 'best', 'min_samples_split': 9, 'min_samples_leaf': 0.5, 'max_features': 'log2', 'max_depth': 5, 'criterion': 'gini', 'ccp_alpha': 0.05}\n"
     ]
    }
   ],
   "source": [
    "tree = DecisionTreeClassifier()\n",
    "random = RandomizedSearchCV(estimator=tree, param_distributions=param_grid, cv = 5, n_jobs=-1, random_state = 100)\n",
    "\n",
    "random_result = random.fit(X_train, y_train)\n",
    "\n",
    "print(f\"Best score: {random_result.best_score_}\")\n",
    "print(f\"Best parameters: {random_result.best_params_}\")"
   ]
  },
  {
   "cell_type": "code",
   "execution_count": 22,
   "metadata": {},
   "outputs": [
    {
     "data": {
      "text/plain": [
       "DecisionTreeClassifier(ccp_alpha=0.05, max_depth=5, max_features='log2',\n",
       "                       min_samples_leaf=0.5, min_samples_split=9)"
      ]
     },
     "execution_count": 22,
     "metadata": {},
     "output_type": "execute_result"
    }
   ],
   "source": [
    "tree3 = DecisionTreeClassifier(ccp_alpha = 0.05,\n",
    "                              criterion = 'gini',\n",
    "                              max_depth = 5,\n",
    "                              max_features ='log2',\n",
    "                              min_samples_leaf = 0.5,\n",
    "                              min_samples_split = 9,\n",
    "                              splitter = 'best')\n",
    "tree3.fit(X_train, y_train)"
   ]
  },
  {
   "cell_type": "code",
   "execution_count": 23,
   "metadata": {},
   "outputs": [
    {
     "data": {
      "image/png": "[encoded data removed]",
      "text/plain": [
       "<Figure size 432x288 with 2 Axes>"
      ]
     },
     "metadata": {
      "needs_background": "light"
     },
     "output_type": "display_data"
    }
   ],
   "source": [
    "show_confusion_matrix(y_train, tree2.predict(X_train))"
   ]
  },
  {
   "cell_type": "code",
   "execution_count": 24,
   "metadata": {},
   "outputs": [
    {
     "name": "stdout",
     "output_type": "stream",
     "text": [
      "ZBIÓR TRENINGOWY:\n",
      "Model score: 0.9664771026638731\n",
      "Precision score: 0.0\n",
      "Gini score: 0.5\n",
      "-------------------------------\n",
      "ZBIÓR TESTOWY:\n",
      "Model score: 0.9678770949720671\n",
      "Precision score: 0.0\n",
      "Gini score: 0.5\n"
     ]
    }
   ],
   "source": [
    "print_scores(tree3)"
   ]
  },
  {
   "cell_type": "markdown",
   "metadata": {},
   "source": [
    "W tym przypadku model nie jest przetrenowany, wuniki w zbiorze treniniowym i testowym są bardzo zbliżone. Wartość 0 w precision score bierze się z tego, że wartości *true positive* jest bardzo mało w porównaiu do *true negative*."
   ]
  },
  {
   "cell_type": "markdown",
   "metadata": {},
   "source": [
    "### Random Forest"
   ]
  },
  {
   "cell_type": "code",
   "execution_count": 25,
   "metadata": {},
   "outputs": [],
   "source": [
    "forest_base = RandomForestClassifier()\n",
    "forest_base.fit(X_train, y_train)\n",
    "pred = forest_base.predict(X_test)"
   ]
  },
  {
   "cell_type": "code",
   "execution_count": 26,
   "metadata": {},
   "outputs": [
    {
     "name": "stdout",
     "output_type": "stream",
     "text": [
      "ZBIÓR TRENINGOWY:\n",
      "Model score: 0.9997006884166417\n",
      "Precision score: 1.0\n",
      "Gini score: 0.9955357142857143\n",
      "-------------------------------\n",
      "ZBIÓR TESTOWY:\n",
      "Model score: 0.9706703910614525\n",
      "Precision score: 0.75\n",
      "Gini score: 0.5644958905828471\n"
     ]
    }
   ],
   "source": [
    "print_scores(forest_base)"
   ]
  },
  {
   "cell_type": "markdown",
   "metadata": {},
   "source": [
    "Podobnie jak w przypadku drzew decyzyjnych, acuuruacy score dla zbioru testowego jest bardzo wysoki, ale wydaje się, że model jest przetrenowany. Małe gini na zbiorze testowym to potwierdza.\n",
    "\n",
    "Spróbujemy dobrać odpowiedznie hiperparametry:"
   ]
  },
  {
   "cell_type": "code",
   "execution_count": 27,
   "metadata": {},
   "outputs": [],
   "source": [
    "max_depth=[3, 4, 5]\n",
    "n_estimators = [80, 90, 100, 110, 120]\n",
    "criterion=[\"gini\",\"entrophy\"]\n",
    "min_samples_split = [2, 5, 10, 20, 50]\n",
    "param_grid = dict(max_depth=max_depth, n_estimators = n_estimators, criterion=criterion, min_samples_split=min_samples_split)"
   ]
  },
  {
   "cell_type": "code",
   "execution_count": 28,
   "metadata": {},
   "outputs": [
    {
     "name": "stdout",
     "output_type": "stream",
     "text": [
      "Best score: 0.9682724237623408\n",
      "Best parameters: {'criterion': 'gini', 'max_depth': 4, 'min_samples_split': 5, 'n_estimators': 80} \n"
     ]
    }
   ],
   "source": [
    "forest = RandomForestClassifier()\n",
    "grid = GridSearchCV(estimator=forest, param_grid=param_grid, cv = 5, n_jobs=-1)\n",
    "\n",
    "grid_result = grid.fit(X_train, y_train)\n",
    "\n",
    "print(f\"Best score: {grid_result.best_score_}\")\n",
    "print(f\"Best parameters: {grid_result.best_params_} \")"
   ]
  },
  {
   "cell_type": "code",
   "execution_count": 29,
   "metadata": {},
   "outputs": [
    {
     "data": {
      "text/plain": [
       "RandomForestClassifier(max_depth=5, min_samples_split=10, n_estimators=110)"
      ]
     },
     "execution_count": 29,
     "metadata": {},
     "output_type": "execute_result"
    }
   ],
   "source": [
    "forest = RandomForestClassifier(min_samples_split = 10,\n",
    "                             criterion = 'gini',\n",
    "                             max_depth = 5,\n",
    "                             n_estimators = 110)\n",
    "forest.fit(X_train, y_train)"
   ]
  },
  {
   "cell_type": "code",
   "execution_count": 30,
   "metadata": {},
   "outputs": [
    {
     "name": "stdout",
     "output_type": "stream",
     "text": [
      "ZBIÓR TRENINGOWY:\n",
      "Model score: 0.977252319664771\n",
      "Precision score: 1.0\n",
      "Gini score: 0.6607142857142857\n",
      "-------------------------------\n",
      "ZBIÓR TESTOWY:\n",
      "Model score: 0.9713687150837989\n",
      "Precision score: 0.8571428571428571\n",
      "Gini score: 0.5648566409435974\n"
     ]
    }
   ],
   "source": [
    "print_scores(forest)"
   ]
  },
  {
   "cell_type": "markdown",
   "metadata": {},
   "source": [
    "Właściwie jedyne co się znacznie zmieniło to spadły wyniki dla zbioru testowego.\n",
    "\n",
    "Sprawdźmy jakie hiperparametry wybierze random search:"
   ]
  },
  {
   "cell_type": "code",
   "execution_count": 31,
   "metadata": {},
   "outputs": [
    {
     "name": "stdout",
     "output_type": "stream",
     "text": [
      "Best score: 0.9670757140427664\n",
      "Best parameters: {'n_estimators': 100, 'min_samples_split': 5, 'max_depth': 4, 'criterion': 'gini'}\n"
     ]
    }
   ],
   "source": [
    "forest = RandomForestClassifier()\n",
    "random = RandomizedSearchCV(estimator=forest, param_distributions=param_grid, cv = 5, n_jobs=-1, random_state = 100)\n",
    "\n",
    "random_result = random.fit(X_train, y_train)\n",
    "\n",
    "print(f\"Best score: {random_result.best_score_}\")\n",
    "print(f\"Best parameters: {random_result.best_params_}\")"
   ]
  },
  {
   "cell_type": "code",
   "execution_count": 32,
   "metadata": {},
   "outputs": [
    {
     "data": {
      "text/plain": [
       "RandomForestClassifier(max_depth=4, min_samples_split=50, n_estimators=80)"
      ]
     },
     "execution_count": 32,
     "metadata": {},
     "output_type": "execute_result"
    }
   ],
   "source": [
    "forest2 = RandomForestClassifier(min_samples_split = 50,\n",
    "                             criterion = 'gini',\n",
    "                             max_depth = 4,\n",
    "                             n_estimators = 80)\n",
    "forest2.fit(X_train, y_train)"
   ]
  },
  {
   "cell_type": "code",
   "execution_count": 33,
   "metadata": {},
   "outputs": [
    {
     "name": "stdout",
     "output_type": "stream",
     "text": [
      "ZBIÓR TRENINGOWY:\n",
      "Model score: 0.9676743489973062\n",
      "Precision score: 1.0\n",
      "Gini score: 0.5178571428571429\n",
      "-------------------------------\n",
      "ZBIÓR TESTOWY:\n",
      "Model score: 0.9692737430167597\n",
      "Precision score: 1.0\n",
      "Gini score: 0.5217391304347826\n"
     ]
    }
   ],
   "source": [
    "print_scores(forest2)"
   ]
  },
  {
   "cell_type": "markdown",
   "metadata": {},
   "source": [
    "W tym przypadku jest nieco niższe accuracy, jednak precision score jest równy 1, gini się jednak zmniejszyło"
   ]
  },
  {
   "cell_type": "markdown",
   "metadata": {},
   "source": [
    "### Support Vector Machine (SVM)"
   ]
  },
  {
   "cell_type": "code",
   "execution_count": 35,
   "metadata": {},
   "outputs": [],
   "source": [
    "svm_base = SVC()\n",
    "svm_base.fit(X_train, y_train)\n",
    "pred = svm_base.predict(X_test)"
   ]
  },
  {
   "cell_type": "code",
   "execution_count": 36,
   "metadata": {},
   "outputs": [
    {
     "name": "stdout",
     "output_type": "stream",
     "text": [
      "ZBIÓR TRENINGOWY:\n",
      "Model score: 0.9664771026638731\n",
      "Precision score: 0.0\n",
      "Gini score: 0.5\n",
      "-------------------------------\n",
      "ZBIÓR TESTOWY:\n",
      "Model score: 0.9678770949720671\n",
      "Precision score: 0.0\n",
      "Gini score: 0.5\n"
     ]
    }
   ],
   "source": [
    "print_scores(svm_base)"
   ]
  },
  {
   "cell_type": "markdown",
   "metadata": {},
   "source": [
    "Model daje dobre wyniki accuracy, nie jest przetrenowany, jednak precision score jest zerowy. Sprawdźmy to na macierzy konfuzji."
   ]
  },
  {
   "cell_type": "code",
   "execution_count": 37,
   "metadata": {},
   "outputs": [
    {
     "data": {
      "image/png": "[encoded data removed]",
      "text/plain": [
       "<Figure size 432x288 with 2 Axes>"
      ]
     },
     "metadata": {
      "needs_background": "light"
     },
     "output_type": "display_data"
    }
   ],
   "source": [
    "show_confusion_matrix(y_train, svm_base.predict(X_train))"
   ]
  },
  {
   "cell_type": "markdown",
   "metadata": {},
   "source": [
    "Model ponownie nie przewiduje wartości *true*."
   ]
  },
  {
   "cell_type": "markdown",
   "metadata": {},
   "source": [
    "Spróbujmy teraz dobrać hiperparametry:"
   ]
  },
  {
   "cell_type": "code",
   "execution_count": 26,
   "metadata": {},
   "outputs": [],
   "source": [
    "# Feature Scaling dla szybszego liczenia\n",
    "from sklearn.preprocessing import StandardScaler\n",
    "sc = StandardScaler()\n",
    "X_train_scaled = sc.fit_transform(X_train)\n",
    "X_test_scaled = sc.transform(X_test)"
   ]
  },
  {
   "cell_type": "code",
   "execution_count": 29,
   "metadata": {},
   "outputs": [],
   "source": [
    "C= [0.001, 0.01, 0.1,  1, 5]\n",
    "kernel = ['linear', 'poly', 'sigmoid'] \n",
    "degree = [3,4,5]\n",
    "gamma = ['scale', 'auto']\n",
    "param_grid = dict(C=C, kernel=kernel, degree=degree, gamma=gamma)"
   ]
  },
  {
   "cell_type": "code",
   "execution_count": 30,
   "metadata": {},
   "outputs": [
    {
     "name": "stdout",
     "output_type": "stream",
     "text": [
      "Best score: 0.9646818470681955\n",
      "Best parameters: {'C': 0.01, 'degree': 5, 'gamma': 'scale', 'kernel': 'poly'} \n"
     ]
    }
   ],
   "source": [
    "svm_model = SVC()\n",
    "grid = GridSearchCV(estimator=svm_model, param_grid=param_grid, cv = 5, n_jobs=-1)\n",
    "\n",
    "grid_result = grid.fit(X_train_scaled, y_train)\n",
    "\n",
    "print(f\"Best score: {grid_result.best_score_}\")\n",
    "print(f\"Best parameters: {grid_result.best_params_} \")"
   ]
  },
  {
   "cell_type": "code",
   "execution_count": 32,
   "metadata": {},
   "outputs": [
    {
     "data": {
      "text/plain": [
       "SVC(C=0.01, degree=5, kernel='poly')"
      ]
     },
     "execution_count": 32,
     "metadata": {},
     "output_type": "execute_result"
    }
   ],
   "source": [
    "svm_1 = SVC(C = 0.01, \n",
    "            degree = 5, \n",
    "            gamma = 'scale',\n",
    "            kernel = 'poly')\n",
    "svm_1.fit(X_train, y_train)"
   ]
  },
  {
   "cell_type": "code",
   "execution_count": 33,
   "metadata": {},
   "outputs": [
    {
     "name": "stdout",
     "output_type": "stream",
     "text": [
      "ZBIÓR TRENINGOWY:\n",
      "Model score: 0.9634839868302904\n",
      "Precision score: 0.0\n",
      "Gini score: 0.5\n",
      "-------------------------------\n",
      "ZBIÓR TESTOWY:\n",
      "Model score: 0.9713687150837989\n",
      "Precision score: 0.0\n",
      "Gini score: 0.5\n"
     ]
    }
   ],
   "source": [
    "print_scores(svm_1)"
   ]
  },
  {
   "cell_type": "code",
   "execution_count": 51,
   "metadata": {},
   "outputs": [
    {
     "data": {
      "image/png": "[encoded data removed]",
      "text/plain": [
       "<Figure size 432x288 with 2 Axes>"
      ]
     },
     "metadata": {
      "needs_background": "light"
     },
     "output_type": "display_data"
    }
   ],
   "source": [
    "show_confusion_matrix(y_train, svm_1.predict(X_train))"
   ]
  },
  {
   "cell_type": "markdown",
   "metadata": {},
   "source": [
    "Widać, że wynik na zbiorze testowym jest nieco niższy, jednak poskutkowało to niewielką poprawą na zbiorze testowym, co jest pożądaną zmianą. Jest to jednak niewielka zmiana. \n",
    "\n",
    "Sprawdźmy jakie wyniki da zastosowanie random search:"
   ]
  },
  {
   "cell_type": "code",
   "execution_count": 34,
   "metadata": {},
   "outputs": [
    {
     "name": "stdout",
     "output_type": "stream",
     "text": [
      "Best score: 0.9637831959399585\n",
      "Best parameters: {'kernel': 'poly', 'gamma': 'scale', 'degree': 4, 'C': 0.1}\n"
     ]
    }
   ],
   "source": [
    "svm_model = SVC()\n",
    "random = RandomizedSearchCV(estimator=svm_model, param_distributions=param_grid, cv = 5, n_jobs=-1, random_state = 100)\n",
    "\n",
    "random_result = random.fit(X_train_scaled, y_train)\n",
    "\n",
    "print(f\"Best score: {random_result.best_score_}\")\n",
    "print(f\"Best parameters: {random_result.best_params_}\")"
   ]
  },
  {
   "cell_type": "code",
   "execution_count": 36,
   "metadata": {},
   "outputs": [
    {
     "data": {
      "text/plain": [
       "SVC(C=0.1, degree=4, kernel='poly')"
      ]
     },
     "execution_count": 36,
     "metadata": {},
     "output_type": "execute_result"
    }
   ],
   "source": [
    "svm_2 = SVC(C = 0.1, \n",
    "            degree = 4, \n",
    "            gamma = 'scale',\n",
    "            kernel = 'poly')\n",
    "svm_2.fit(X_train, y_train)"
   ]
  },
  {
   "cell_type": "code",
   "execution_count": 37,
   "metadata": {},
   "outputs": [
    {
     "name": "stdout",
     "output_type": "stream",
     "text": [
      "ZBIÓR TRENINGOWY:\n",
      "Model score: 0.9634839868302904\n",
      "Precision score: 0.0\n",
      "Gini score: 0.5\n",
      "-------------------------------\n",
      "ZBIÓR TESTOWY:\n",
      "Model score: 0.9713687150837989\n",
      "Precision score: 0.0\n",
      "Gini score: 0.5\n"
     ]
    }
   ],
   "source": [
    "print_scores(svm_2)"
   ]
  },
  {
   "cell_type": "markdown",
   "metadata": {},
   "source": [
    "Wynik jest w tym przypakdu identyczny z tym poprzedni, wybranym przez grid search, jednak różnią się one dwoma hiperparamterami. Dla pierwszego *degree = 5*, *C = 0.01*, a w tym przypadku to *degree = 4*, *C = 0.1*"
   ]
  },
  {
   "cell_type": "markdown",
   "metadata": {},
   "source": [
    "# Podsumowanie\n",
    "\n",
    "* dodanie większej ilości parametrów do testowania nie zawsze jest opłacalne - liczy się dłużej, a wyniki niekoniecznie muszą być dużo lepsze. Nasz zbiór danych nie jest szczególnie duży, dlatego różnice w czasie nie były duże, ale już zauważalne. W przypadku większego zbioru mogłoby to stanowić problem i wtedy warto się zastanowić czy zależy nam na nieznacznym podniesieniu predykcyjności\n",
    "* ranodm search jest niemal tak samo dobry jak grid serach, w jednym przypadku dał dokładnie ten sam wynik, w innych zblizony, lub nawet bardziej optymalny\n"
   ]
  }
 ],
 "metadata": {
  "kernelspec": {
   "display_name": "Python 3 (ipykernel)",
   "language": "python",
   "name": "python3"
  },
  "language_info": {
   "codemirror_mode": {
    "name": "ipython",
    "version": 3
   },
   "file_extension": ".py",
   "mimetype": "text/x-python",
   "name": "python",
   "nbconvert_exporter": "python",
   "pygments_lexer": "ipython3",
   "version": "3.8.12"
  }
 },
 "nbformat": 4,
 "nbformat_minor": 4
}
