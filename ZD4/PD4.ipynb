{
 "cells": [
  {
   "cell_type": "markdown",
   "metadata": {},
   "source": [
    "## Wstęp do uczenia maszynowego \n",
    "### Praca domowa 4\n",
    "#### Jakub Piwko, Malwina Wojewoda\n",
    "***"
   ]
  },
  {
   "cell_type": "markdown",
   "metadata": {},
   "source": [
    "### Pakiety"
   ]
  },
  {
   "cell_type": "code",
   "execution_count": 1,
   "metadata": {},
   "outputs": [],
   "source": [
    "import pandas as pd\n",
    "import plotly.express as px\n",
    "import numpy as np\n",
    "import sklearn \n",
    "import copy\n",
    "import seaborn as sns\n",
    "import matplotlib.pyplot as plt\n",
    "from matplotlib import pyplot\n",
    "plt.rcParams['figure.figsize'] = (15,7)\n",
    "import warnings\n",
    "warnings.filterwarnings('ignore')\n",
    "np.random.seed(23)\n",
    "from sklearn.model_selection import train_test_split\n",
    "from sklearn.preprocessing import MinMaxScaler\n",
    "from imblearn.over_sampling import SMOTE"
   ]
  },
  {
   "cell_type": "markdown",
   "metadata": {},
   "source": [
    "### Wczytanie i analiza danych"
   ]
  },
  {
   "cell_type": "markdown",
   "metadata": {},
   "source": [
    "Dane opisują Tajwańskie spółki z lat 1999-2009. Przewidujemy zmienną `Bankrupt?`, która wskazuje, czy dana spółka zbankrutuje. "
   ]
  },
  {
   "cell_type": "code",
   "execution_count": 2,
   "metadata": {},
   "outputs": [],
   "source": [
    "df = pd.read_csv('data.csv')"
   ]
  },
  {
   "cell_type": "markdown",
   "metadata": {},
   "source": [
    "Jak wiemy z poprzedniego zadania domowego, w tym zbiorze nie występują braki danych."
   ]
  },
  {
   "cell_type": "code",
   "execution_count": 3,
   "metadata": {},
   "outputs": [],
   "source": [
    "#Wyróżnienie zbioru, na którym będziemy pracować i zbioru do walidacji\n",
    "y_all = df[\"Bankrupt?\"]\n",
    "y_all = y_all.astype('int')\n",
    "X_all = df.drop(\"Bankrupt?\", axis=1)\n",
    "\n",
    "X, X_val, y, y_val = train_test_split(X_all, y_all, random_state=420, test_size=0.3)\n",
    "\n",
    "#Wyróżnienie zbioru treningowego i testowego\n",
    "X_train, X_test, y_train, y_test = train_test_split(X, y, test_size=0.3)"
   ]
  },
  {
   "cell_type": "code",
   "execution_count": 4,
   "metadata": {},
   "outputs": [],
   "source": [
    "X_train_0 = copy.deepcopy(X_train)"
   ]
  },
  {
   "cell_type": "markdown",
   "metadata": {},
   "source": [
    "Wykonamy teraz preprocesing z zadanie domowego nr 3 na tych danych:"
   ]
  },
  {
   "cell_type": "code",
   "execution_count": 5,
   "metadata": {},
   "outputs": [],
   "source": [
    "def preprocessing(df, y):\n",
    "    \n",
    "    col_names = df.columns\n",
    "    indexes_set = set()\n",
    "    num_of_outliers = []\n",
    "\n",
    "    for col in col_names:\n",
    "        tmp_data1 = X_train_0[col]  #obcinamy tak samo jak na zbiorze treningowym\n",
    "        upper_lim1 = tmp_data1.quantile(.975)\n",
    "        lower_lim1 = tmp_data1.quantile(.025)\n",
    "        df[col] = np.where(df[col] < upper_lim1, df[col], upper_lim1)\n",
    "        df[col] = np.where(df[col] > lower_lim1, df[col], lower_lim1)\n",
    "\n",
    "    cols_to_scale = []\n",
    "    for col in col_names:\n",
    "        if df[col].max() > 1:\n",
    "            cols_to_scale.append(col)\n",
    "    for col in cols_to_scale:\n",
    "        min_max_scaler1 = MinMaxScaler()\n",
    "        df[col] = min_max_scaler1.fit_transform(df[col].values.reshape(-1, 1))\n",
    "\n",
    "    corr = X_train_0.corr(method = 'spearman') #usuwamy te same kolumny jak na zbiorze treningowym\n",
    "    correlated_features = set()\n",
    "    for i in range(len(corr .columns)):\n",
    "        for j in range(i):\n",
    "            if abs(corr.iloc[i, j]) >= 0.95:\n",
    "                colname = corr.columns[i]\n",
    "                correlated_features.add(colname)\n",
    "    df.drop(labels=correlated_features, axis=1, inplace=True)\n",
    "                \n",
    "    df_y = pd.concat([df, y], axis=1)\n",
    "    corr = df_y.corr(method = 'spearman')\n",
    "\n",
    "    col_names = df_y.columns\n",
    "    for col in col_names:\n",
    "        if corr[\"Bankrupt?\"][col] < 0:\n",
    "            df[col] *= -1     \n",
    "        \n",
    "    return df"
   ]
  },
  {
   "cell_type": "code",
   "execution_count": 6,
   "metadata": {},
   "outputs": [],
   "source": [
    "X_train = preprocessing(X_train, y_train)"
   ]
  },
  {
   "cell_type": "code",
   "execution_count": 7,
   "metadata": {},
   "outputs": [],
   "source": [
    "X_test = preprocessing(X_test, y_test)"
   ]
  },
  {
   "cell_type": "markdown",
   "metadata": {},
   "source": [
    "## Modele i dobór hiperparametrów "
   ]
  },
  {
   "cell_type": "code",
   "execution_count": 8,
   "metadata": {},
   "outputs": [],
   "source": [
    "from sklearn.model_selection import GridSearchCV, RepeatedStratifiedKFold, RandomizedSearchCV, cross_val_score\n",
    "from sklearn.tree import DecisionTreeClassifier\n",
    "from sklearn.svm import SVC\n",
    "from sklearn.ensemble import RandomForestClassifier\n",
    "from sklearn.metrics import accuracy_score, precision_score, recall_score, roc_auc_score, confusion_matrix\n",
    "from scipy.stats import poisson,expon"
   ]
  },
  {
   "cell_type": "code",
   "execution_count": 9,
   "metadata": {},
   "outputs": [],
   "source": [
    "def Scores(model, X, y):\n",
    "    print(f\"Model score: {model.score(X, y)}\")\n",
    "    print(f\"Precision score: {precision_score(y, model.predict(X), average='binary')}\")\n",
    "    print(f\"Gini score: {roc_auc_score(y, model.predict(X))}\")"
   ]
  },
  {
   "cell_type": "code",
   "execution_count": 10,
   "metadata": {},
   "outputs": [],
   "source": [
    "def print_scores(model):\n",
    "    print(f\"ZBIÓR TRENINGOWY:\")\n",
    "    print(f\"Model score: {model.score(X_train, y_train)}\")\n",
    "    print(f\"Precision score: {precision_score(y_train, model.predict(X_train), average='binary')}\")\n",
    "    print(f\"Gini score: {roc_auc_score(y_train, model.predict(X_train))}\")\n",
    "    print(\"-------------------------------\")\n",
    "    print(f\"ZBIÓR TESTOWY:\")\n",
    "    print(f\"Model score: {model.score(X_test, y_test)}\")\n",
    "    print(f\"Precision score: {precision_score(y_test, model.predict(X_test), average='binary')}\")\n",
    "    print(f\"Gini score: {roc_auc_score(y_test, model.predict(X_test))}\")"
   ]
  },
  {
   "cell_type": "code",
   "execution_count": 11,
   "metadata": {},
   "outputs": [],
   "source": [
    "def show_confusion_matrix(y_test, y_pred):\n",
    "    cf_matrix = confusion_matrix(y_test, y_pred)\n",
    "    ax = sns.heatmap(cf_matrix, annot=True, cmap='Blues')\n",
    "\n",
    "    ax.set_title('Confusion Matrix\\n\\n');\n",
    "    ax.set_xlabel('\\nPredicted Values')\n",
    "    ax.set_ylabel('Actual Values ');\n",
    "\n",
    "    ax.xaxis.set_ticklabels(['False','True'])\n",
    "    ax.yaxis.set_ticklabels(['False','True'])\n",
    "\n",
    "    plt.show()"
   ]
  },
  {
   "cell_type": "markdown",
   "metadata": {},
   "source": [
    "### Decision Trees"
   ]
  },
  {
   "cell_type": "markdown",
   "metadata": {},
   "source": [
    "Na początek wytrenujemy model drzewa decyzyjnego z użyciem domyślnych parametrów. "
   ]
  },
  {
   "cell_type": "code",
   "execution_count": 12,
   "metadata": {},
   "outputs": [],
   "source": [
    "tree_base = DecisionTreeClassifier()\n",
    "tree_base.fit(X_train, y_train)\n",
    "pred = tree_base.predict(X_test)"
   ]
  },
  {
   "cell_type": "code",
   "execution_count": 13,
   "metadata": {},
   "outputs": [
    {
     "name": "stdout",
     "output_type": "stream",
     "text": [
      "ZBIÓR TRENINGOWY:\n",
      "Model score: 1.0\n",
      "Precision score: 1.0\n",
      "Gini score: 1.0\n",
      "-------------------------------\n",
      "ZBIÓR TESTOWY:\n",
      "Model score: 0.9189944134078212\n",
      "Precision score: 0.16822429906542055\n",
      "Gini score: 0.667916366258111\n"
     ]
    }
   ],
   "source": [
    "print_scores(tree_base)"
   ]
  },
  {
   "cell_type": "markdown",
   "metadata": {},
   "source": [
    "Bazowy model drzewa okazał się już wysoki score, także wyoski gini na zbiorze testowym, jednak patrząc na wyniki zbioru treningowego widać, że jest przetrenowany. Precision score jest niski.\n",
    "\n",
    "Użyjemy teraz grid search to znalezienia optymalnych parametrów. Do tuningu wybraliśmy parametry `max_depth`, `splitter`, `criterion` i `ccp_alpha`."
   ]
  },
  {
   "cell_type": "code",
   "execution_count": 14,
   "metadata": {},
   "outputs": [],
   "source": [
    "max_depth=[3, 4, 5]\n",
    "splitter = [\"best\", \"random\"]\n",
    "criterion=[\"gini\",\"entrophy\"]\n",
    "ccp_alpha=[0, 0.05, 0.1]\n",
    "param_grid = dict(max_depth=max_depth, splitter=splitter, criterion=criterion, ccp_alpha=ccp_alpha)"
   ]
  },
  {
   "cell_type": "code",
   "execution_count": 15,
   "metadata": {},
   "outputs": [
    {
     "name": "stdout",
     "output_type": "stream",
     "text": [
      "Best score: 0.9652802019279827\n",
      "Best parameters: {'ccp_alpha': 0.05, 'criterion': 'gini', 'max_depth': 3, 'splitter': 'best'} \n"
     ]
    }
   ],
   "source": [
    "tree = DecisionTreeClassifier()\n",
    "grid = GridSearchCV(estimator=tree, param_grid=param_grid, cv = 5, n_jobs=-1)\n",
    "\n",
    "grid_result = grid.fit(X_train, y_train)\n",
    "\n",
    "print(f\"Best score: {grid_result.best_score_}\")\n",
    "print(f\"Best parameters: {grid_result.best_params_} \")"
   ]
  },
  {
   "cell_type": "code",
   "execution_count": 16,
   "metadata": {},
   "outputs": [
    {
     "data": {
      "text/plain": [
       "DecisionTreeClassifier(ccp_alpha=0.05, max_depth=3)"
      ]
     },
     "execution_count": 16,
     "metadata": {},
     "output_type": "execute_result"
    }
   ],
   "source": [
    "tree1 = DecisionTreeClassifier(ccp_alpha = 0.05,\n",
    "                             criterion = 'gini',\n",
    "                             max_depth = 3,\n",
    "                             splitter = 'best')\n",
    "tree1.fit(X_train, y_train)"
   ]
  },
  {
   "cell_type": "code",
   "execution_count": 17,
   "metadata": {},
   "outputs": [
    {
     "name": "stdout",
     "output_type": "stream",
     "text": [
      "ZBIÓR TRENINGOWY:\n",
      "Model score: 0.96527985633044\n",
      "Precision score: 0.0\n",
      "Gini score: 0.5\n",
      "-------------------------------\n",
      "ZBIÓR TESTOWY:\n",
      "Model score: 0.9685754189944135\n",
      "Precision score: 0.0\n",
      "Gini score: 0.5\n"
     ]
    }
   ],
   "source": [
    "print_scores(tree1)"
   ]
  },
  {
   "cell_type": "code",
   "execution_count": 18,
   "metadata": {},
   "outputs": [
    {
     "data": {
      "image/png": "[encoded data removed]",
      "text/plain": [
       "<Figure size 1080x504 with 2 Axes>"
      ]
     },
     "metadata": {
      "needs_background": "light"
     },
     "output_type": "display_data"
    }
   ],
   "source": [
    "show_confusion_matrix(y_train, tree1.predict(X_train))"
   ]
  },
  {
   "cell_type": "markdown",
   "metadata": {},
   "source": [
    "Teraz użyjemy Random Search"
   ]
  },
  {
   "cell_type": "code",
   "execution_count": 19,
   "metadata": {},
   "outputs": [
    {
     "name": "stdout",
     "output_type": "stream",
     "text": [
      "Best score: 0.9652802019279827\n",
      "Best parameters: {'splitter': 'best', 'max_depth': 5, 'criterion': 'gini', 'ccp_alpha': 0.05}\n"
     ]
    }
   ],
   "source": [
    "random = RandomizedSearchCV(estimator=tree, param_distributions=param_grid, cv = 5, n_jobs=-1, random_state = 420)\n",
    "\n",
    "random_result = random.fit(X_train, y_train)\n",
    "\n",
    "print(f\"Best score: {random_result.best_score_}\")\n",
    "print(f\"Best parameters: {random_result.best_params_}\")"
   ]
  },
  {
   "cell_type": "code",
   "execution_count": 20,
   "metadata": {},
   "outputs": [
    {
     "data": {
      "text/plain": [
       "DecisionTreeClassifier(ccp_alpha=0, max_depth=3, splitter='random')"
      ]
     },
     "execution_count": 20,
     "metadata": {},
     "output_type": "execute_result"
    }
   ],
   "source": [
    "tree2 = DecisionTreeClassifier(ccp_alpha = 0,\n",
    "                             criterion = 'gini',\n",
    "                             max_depth = 3,\n",
    "                             splitter = 'random')\n",
    "tree2.fit(X_train, y_train)"
   ]
  },
  {
   "cell_type": "code",
   "execution_count": 21,
   "metadata": {},
   "outputs": [
    {
     "name": "stdout",
     "output_type": "stream",
     "text": [
      "ZBIÓR TRENINGOWY:\n",
      "Model score: 0.9676743489973062\n",
      "Precision score: 0.6666666666666666\n",
      "Gini score: 0.56772520716386\n",
      "-------------------------------\n",
      "ZBIÓR TESTOWY:\n",
      "Model score: 0.9643854748603352\n",
      "Precision score: 0.0\n",
      "Gini score: 0.4978370583994232\n"
     ]
    }
   ],
   "source": [
    "print_scores(tree2)"
   ]
  },
  {
   "cell_type": "code",
   "execution_count": 22,
   "metadata": {},
   "outputs": [
    {
     "data": {
      "image/png": "[encoded data removed]",
      "text/plain": [
       "<Figure size 1080x504 with 2 Axes>"
      ]
     },
     "metadata": {
      "needs_background": "light"
     },
     "output_type": "display_data"
    }
   ],
   "source": [
    "show_confusion_matrix(y_test, tree1.predict(X_test))"
   ]
  },
  {
   "cell_type": "markdown",
   "metadata": {},
   "source": [
    "Udało się nieznacznie podbić wynik accuracy na zbiorze testowym, ale zapłaciliśmy za to cenę w postaci sporo niższego gini. Precision score jest równy zero. Sprawdziliśmy na macierzy konfucji, że jest to skutkiem tego, że każdej wartości przypisywany jest fałsz. Model w ogóle nie przewiduje prawdy. \n",
    "\n",
    "Sprawdzimy teraz, czy jeśli wybierzemy więcej parametrów i więcej wartości do wyboru to uzyskamy lepsze wyniki."
   ]
  },
  {
   "cell_type": "code",
   "execution_count": 23,
   "metadata": {},
   "outputs": [],
   "source": [
    "max_depth=[3, 4, 5, 6, 7, 8, 9, 10]\n",
    "splitter = [\"best\", \"random\"]\n",
    "criterion=[\"gini\",\"entrophy\"]\n",
    "ccp_alpha=[0, 0.05, 0.1, 0.02]\n",
    "min_samples_split=range(1,20)\n",
    "min_samples_leaf=[0.5, 1, 1.5, 2]\n",
    "max_features=[\"sqrt\", \"log2\"]\n",
    "param_grid = dict(max_depth=max_depth, splitter=splitter, criterion=criterion, min_samples_leaf=min_samples_leaf,\n",
    "                  ccp_alpha=ccp_alpha, min_samples_split=min_samples_split, max_features=max_features)"
   ]
  },
  {
   "cell_type": "code",
   "execution_count": 24,
   "metadata": {},
   "outputs": [
    {
     "name": "stdout",
     "output_type": "stream",
     "text": [
      "Best score: 0.9679739176355808\n",
      "Best parameters: {'ccp_alpha': 0, 'criterion': 'gini', 'max_depth': 6, 'max_features': 'log2', 'min_samples_leaf': 2, 'min_samples_split': 10, 'splitter': 'random'} \n"
     ]
    }
   ],
   "source": [
    "# dlugo liczy\n",
    "tree = DecisionTreeClassifier()\n",
    "grid = GridSearchCV(estimator=tree, param_grid=param_grid, cv = 5, n_jobs=-1)\n",
    "\n",
    "grid_result = grid.fit(X_train, y_train)\n",
    "\n",
    "print(f\"Best score: {grid_result.best_score_}\")\n",
    "print(f\"Best parameters: {grid_result.best_params_} \")"
   ]
  },
  {
   "cell_type": "code",
   "execution_count": 25,
   "metadata": {},
   "outputs": [
    {
     "data": {
      "text/plain": [
       "DecisionTreeClassifier(ccp_alpha=0, max_depth=4, max_features='log2',\n",
       "                       min_samples_split=6, splitter='random')"
      ]
     },
     "execution_count": 25,
     "metadata": {},
     "output_type": "execute_result"
    }
   ],
   "source": [
    "tree2 = DecisionTreeClassifier(ccp_alpha = 0,\n",
    "                              criterion = 'gini',\n",
    "                              max_depth = 4,\n",
    "                              max_features ='log2',\n",
    "                              min_samples_leaf = 1,\n",
    "                              min_samples_split = 6,\n",
    "                              splitter = 'random')\n",
    "tree2.fit(X_train, y_train)"
   ]
  },
  {
   "cell_type": "code",
   "execution_count": 26,
   "metadata": {},
   "outputs": [
    {
     "name": "stdout",
     "output_type": "stream",
     "text": [
      "ZBIÓR TRENINGOWY:\n",
      "Model score: 0.9676743489973062\n",
      "Precision score: 0.6\n",
      "Gini score: 0.6009676557070301\n",
      "-------------------------------\n",
      "ZBIÓR TESTOWY:\n",
      "Model score: 0.9643854748603352\n",
      "Precision score: 0.3125\n",
      "Gini score: 0.5515901626211648\n"
     ]
    }
   ],
   "source": [
    "print_scores(tree2)"
   ]
  },
  {
   "cell_type": "code",
   "execution_count": 27,
   "metadata": {},
   "outputs": [
    {
     "data": {
      "image/png": "[encoded data removed]",
      "text/plain": [
       "<Figure size 1080x504 with 2 Axes>"
      ]
     },
     "metadata": {
      "needs_background": "light"
     },
     "output_type": "display_data"
    }
   ],
   "source": [
    "show_confusion_matrix(y_train, tree2.predict(X_train))"
   ]
  },
  {
   "cell_type": "markdown",
   "metadata": {},
   "source": [
    "Widać, że w tym przypadku gini jest trochę lepsze niż przy pierwszym tuningu, ponieważ model zaczął przewidywać jakieś wartości *True*. Accuracy na zbiorze testowym pogorszyło się i model jest przetrenowany."
   ]
  },
  {
   "cell_type": "markdown",
   "metadata": {},
   "source": [
    "Sprawdzimy jakie wyniki dla takiego wyboru parametrów da zastosowanie Random Search:"
   ]
  },
  {
   "cell_type": "code",
   "execution_count": 28,
   "metadata": {},
   "outputs": [
    {
     "name": "stdout",
     "output_type": "stream",
     "text": [
      "Best score: 0.9652802019279827\n",
      "Best parameters: {'splitter': 'best', 'min_samples_split': 9, 'min_samples_leaf': 0.5, 'max_features': 'log2', 'max_depth': 5, 'criterion': 'gini', 'ccp_alpha': 0.05}\n"
     ]
    }
   ],
   "source": [
    "tree = DecisionTreeClassifier()\n",
    "random = RandomizedSearchCV(estimator=tree, param_distributions=param_grid, cv = 5, n_jobs=-1, random_state = 100)\n",
    "\n",
    "random_result = random.fit(X_train, y_train)\n",
    "\n",
    "print(f\"Best score: {random_result.best_score_}\")\n",
    "print(f\"Best parameters: {random_result.best_params_}\")"
   ]
  },
  {
   "cell_type": "code",
   "execution_count": 29,
   "metadata": {},
   "outputs": [
    {
     "data": {
      "text/plain": [
       "DecisionTreeClassifier(ccp_alpha=0.05, max_depth=5, max_features='log2',\n",
       "                       min_samples_leaf=0.5, min_samples_split=9)"
      ]
     },
     "execution_count": 29,
     "metadata": {},
     "output_type": "execute_result"
    }
   ],
   "source": [
    "tree3 = DecisionTreeClassifier(ccp_alpha = 0.05,\n",
    "                              criterion = 'gini',\n",
    "                              max_depth = 5,\n",
    "                              max_features ='log2',\n",
    "                              min_samples_leaf = 0.5,\n",
    "                              min_samples_split = 9,\n",
    "                              splitter = 'best')\n",
    "tree3.fit(X_train, y_train)"
   ]
  },
  {
   "cell_type": "code",
   "execution_count": 30,
   "metadata": {},
   "outputs": [
    {
     "data": {
      "image/png": "[encoded data removed]",
      "text/plain": [
       "<Figure size 1080x504 with 2 Axes>"
      ]
     },
     "metadata": {
      "needs_background": "light"
     },
     "output_type": "display_data"
    }
   ],
   "source": [
    "show_confusion_matrix(y_train, tree2.predict(X_train))"
   ]
  },
  {
   "cell_type": "code",
   "execution_count": 31,
   "metadata": {},
   "outputs": [
    {
     "name": "stdout",
     "output_type": "stream",
     "text": [
      "ZBIÓR TRENINGOWY:\n",
      "Model score: 0.96527985633044\n",
      "Precision score: 0.0\n",
      "Gini score: 0.5\n",
      "-------------------------------\n",
      "ZBIÓR TESTOWY:\n",
      "Model score: 0.9685754189944135\n",
      "Precision score: 0.0\n",
      "Gini score: 0.5\n"
     ]
    }
   ],
   "source": [
    "print_scores(tree3)"
   ]
  },
  {
   "cell_type": "markdown",
   "metadata": {},
   "source": [
    "W tym przypadku model nie jest przetrenowany, wuniki w zbiorze treniniowym i testowym są bardzo zbliżone. Wartość 0 w precision score bierze się z tego, że wartości *true positive* jest bardzo mało w porównaiu do *true negative*."
   ]
  },
  {
   "cell_type": "markdown",
   "metadata": {},
   "source": [
    "### Random Forest"
   ]
  },
  {
   "cell_type": "code",
   "execution_count": 32,
   "metadata": {},
   "outputs": [],
   "source": [
    "forest_base = RandomForestClassifier()\n",
    "forest_base.fit(X_train, y_train)\n",
    "pred = forest_base.predict(X_test)"
   ]
  },
  {
   "cell_type": "code",
   "execution_count": 33,
   "metadata": {},
   "outputs": [
    {
     "name": "stdout",
     "output_type": "stream",
     "text": [
      "ZBIÓR TRENINGOWY:\n",
      "Model score: 0.9997006884166417\n",
      "Precision score: 1.0\n",
      "Gini score: 0.9956896551724138\n",
      "-------------------------------\n",
      "ZBIÓR TESTOWY:\n",
      "Model score: 0.9706703910614525\n",
      "Precision score: 0.6666666666666666\n",
      "Gini score: 0.5655851958663782\n"
     ]
    }
   ],
   "source": [
    "print_scores(forest_base)"
   ]
  },
  {
   "cell_type": "markdown",
   "metadata": {},
   "source": [
    "Podobnie jak w przypadku drzew decyzyjnych, acuuruacy score dla zbioru testowego jest bardzo wysoki, ale wydaje się, że model jest przetrenowany. Małe gini na zbiorze testowym to potwierdza.\n",
    "\n",
    "Spróbujemy dobrać odpowiedznie hiperparametry:"
   ]
  },
  {
   "cell_type": "code",
   "execution_count": 34,
   "metadata": {},
   "outputs": [],
   "source": [
    "max_depth=[3, 4, 5]\n",
    "n_estimators = [80, 90, 100, 110, 120]\n",
    "criterion=[\"gini\",\"entrophy\"]\n",
    "min_samples_split = [2, 5, 10, 20, 50]\n",
    "param_grid = dict(max_depth=max_depth, n_estimators = n_estimators, criterion=criterion, min_samples_split=min_samples_split)"
   ]
  },
  {
   "cell_type": "code",
   "execution_count": 35,
   "metadata": {},
   "outputs": [
    {
     "name": "stdout",
     "output_type": "stream",
     "text": [
      "Best score: 0.9679730225647359\n",
      "Best parameters: {'criterion': 'gini', 'max_depth': 4, 'min_samples_split': 20, 'n_estimators': 90} \n"
     ]
    }
   ],
   "source": [
    "forest = RandomForestClassifier()\n",
    "grid = GridSearchCV(estimator=forest, param_grid=param_grid, cv = 5, n_jobs=-1)\n",
    "\n",
    "grid_result = grid.fit(X_train, y_train)\n",
    "\n",
    "print(f\"Best score: {grid_result.best_score_}\")\n",
    "print(f\"Best parameters: {grid_result.best_params_} \")"
   ]
  },
  {
   "cell_type": "code",
   "execution_count": 36,
   "metadata": {},
   "outputs": [
    {
     "data": {
      "text/plain": [
       "RandomForestClassifier(max_depth=3, min_samples_split=5, n_estimators=110)"
      ]
     },
     "execution_count": 36,
     "metadata": {},
     "output_type": "execute_result"
    }
   ],
   "source": [
    "forest = RandomForestClassifier(min_samples_split = 5,\n",
    "                             criterion = 'gini',\n",
    "                             max_depth = 3,\n",
    "                             n_estimators = 110)\n",
    "forest.fit(X_train, y_train)"
   ]
  },
  {
   "cell_type": "code",
   "execution_count": 37,
   "metadata": {},
   "outputs": [
    {
     "name": "stdout",
     "output_type": "stream",
     "text": [
      "ZBIÓR TRENINGOWY:\n",
      "Model score: 0.9682729721640227\n",
      "Precision score: 1.0\n",
      "Gini score: 0.5431034482758621\n",
      "-------------------------------\n",
      "ZBIÓR TESTOWY:\n",
      "Model score: 0.9699720670391061\n",
      "Precision score: 1.0\n",
      "Gini score: 0.5222222222222223\n"
     ]
    }
   ],
   "source": [
    "print_scores(forest)"
   ]
  },
  {
   "cell_type": "code",
   "execution_count": 38,
   "metadata": {},
   "outputs": [
    {
     "data": {
      "image/png": "[encoded data removed]",
      "text/plain": [
       "<Figure size 1080x504 with 2 Axes>"
      ]
     },
     "metadata": {
      "needs_background": "light"
     },
     "output_type": "display_data"
    }
   ],
   "source": [
    "show_confusion_matrix(y_train, forest.predict(X_train))"
   ]
  },
  {
   "cell_type": "markdown",
   "metadata": {},
   "source": [
    "Właściwie jedyne co się znacznie zmieniło to spadły wyniki dla zbioru testowego.\n",
    "\n",
    "Sprawdźmy jakie hiperparametry wybierze random search:"
   ]
  },
  {
   "cell_type": "code",
   "execution_count": 39,
   "metadata": {},
   "outputs": [
    {
     "name": "stdout",
     "output_type": "stream",
     "text": [
      "Best score: 0.9673742201695263\n",
      "Best parameters: {'n_estimators': 90, 'min_samples_split': 10, 'max_depth': 3, 'criterion': 'gini'}\n"
     ]
    }
   ],
   "source": [
    "forest = RandomForestClassifier()\n",
    "random = RandomizedSearchCV(estimator=forest, param_distributions=param_grid, cv = 5, n_jobs=-1, random_state = 100)\n",
    "\n",
    "random_result = random.fit(X_train, y_train)\n",
    "\n",
    "print(f\"Best score: {random_result.best_score_}\")\n",
    "print(f\"Best parameters: {random_result.best_params_}\")"
   ]
  },
  {
   "cell_type": "code",
   "execution_count": 40,
   "metadata": {},
   "outputs": [
    {
     "data": {
      "text/plain": [
       "RandomForestClassifier(max_depth=3, n_estimators=90)"
      ]
     },
     "execution_count": 40,
     "metadata": {},
     "output_type": "execute_result"
    }
   ],
   "source": [
    "forest2 = RandomForestClassifier(min_samples_split = 2,\n",
    "                                 criterion = 'gini',\n",
    "                                 max_depth = 3,\n",
    "                                 n_estimators = 90)\n",
    "forest2.fit(X_train, y_train)"
   ]
  },
  {
   "cell_type": "code",
   "execution_count": 41,
   "metadata": {},
   "outputs": [
    {
     "name": "stdout",
     "output_type": "stream",
     "text": [
      "ZBIÓR TRENINGOWY:\n",
      "Model score: 0.9694702184974558\n",
      "Precision score: 1.0\n",
      "Gini score: 0.5603448275862069\n",
      "-------------------------------\n",
      "ZBIÓR TESTOWY:\n",
      "Model score: 0.9706703910614525\n",
      "Precision score: 1.0\n",
      "Gini score: 0.5333333333333333\n"
     ]
    }
   ],
   "source": [
    "print_scores(forest2)"
   ]
  },
  {
   "cell_type": "markdown",
   "metadata": {},
   "source": [
    "W tym przypadku zlikwidowaliśmy przetrenowanie."
   ]
  },
  {
   "cell_type": "markdown",
   "metadata": {},
   "source": [
    "### Support Vector Machine (SVM)"
   ]
  },
  {
   "cell_type": "code",
   "execution_count": 42,
   "metadata": {},
   "outputs": [],
   "source": [
    "svm_base = SVC()\n",
    "svm_base.fit(X_train, y_train)\n",
    "pred = svm_base.predict(X_test)"
   ]
  },
  {
   "cell_type": "code",
   "execution_count": 43,
   "metadata": {},
   "outputs": [
    {
     "name": "stdout",
     "output_type": "stream",
     "text": [
      "ZBIÓR TRENINGOWY:\n",
      "Model score: 0.96527985633044\n",
      "Precision score: 0.0\n",
      "Gini score: 0.5\n",
      "-------------------------------\n",
      "ZBIÓR TESTOWY:\n",
      "Model score: 0.9685754189944135\n",
      "Precision score: 0.0\n",
      "Gini score: 0.5\n"
     ]
    }
   ],
   "source": [
    "print_scores(svm_base)"
   ]
  },
  {
   "cell_type": "markdown",
   "metadata": {},
   "source": [
    "Model daje dobre wyniki accuracy, nie jest przetrenowany, jednak precision score jest zerowy. Sprawdźmy to na macierzy konfuzji."
   ]
  },
  {
   "cell_type": "code",
   "execution_count": 44,
   "metadata": {},
   "outputs": [
    {
     "data": {
      "image/png": "[encoded data removed]",
      "text/plain": [
       "<Figure size 1080x504 with 2 Axes>"
      ]
     },
     "metadata": {
      "needs_background": "light"
     },
     "output_type": "display_data"
    }
   ],
   "source": [
    "show_confusion_matrix(y_train, svm_base.predict(X_train))"
   ]
  },
  {
   "cell_type": "markdown",
   "metadata": {},
   "source": [
    "Model ponownie nie przewiduje wartości *true*."
   ]
  },
  {
   "cell_type": "markdown",
   "metadata": {},
   "source": [
    "Spróbujmy teraz dobrać hiperparametry:"
   ]
  },
  {
   "cell_type": "code",
   "execution_count": 45,
   "metadata": {},
   "outputs": [],
   "source": [
    "# Feature Scaling dla szybszego liczenia\n",
    "from sklearn.preprocessing import StandardScaler\n",
    "sc = StandardScaler()\n",
    "X_train_scaled = sc.fit_transform(X_train)\n",
    "X_test_scaled = sc.transform(X_test)"
   ]
  },
  {
   "cell_type": "code",
   "execution_count": 46,
   "metadata": {},
   "outputs": [],
   "source": [
    "C= [0.001, 0.01, 0.1,  1, 5]\n",
    "kernel = ['linear', 'poly', 'sigmoid'] \n",
    "degree = [3,4,5]\n",
    "gamma = ['scale', 'auto']\n",
    "param_grid = dict(C=C, kernel=kernel, degree=degree, gamma=gamma)"
   ]
  },
  {
   "cell_type": "code",
   "execution_count": 47,
   "metadata": {},
   "outputs": [
    {
     "name": "stdout",
     "output_type": "stream",
     "text": [
      "Best score: 0.9676754115088209\n",
      "Best parameters: {'C': 1, 'degree': 3, 'gamma': 'scale', 'kernel': 'poly'} \n"
     ]
    }
   ],
   "source": [
    "# długo działa\n",
    "svm_model = SVC()\n",
    "grid = GridSearchCV(estimator=svm_model, param_grid=param_grid, cv = 5, n_jobs=-1)\n",
    "\n",
    "grid_result = grid.fit(X_train_scaled, y_train)\n",
    "\n",
    "print(f\"Best score: {grid_result.best_score_}\")\n",
    "print(f\"Best parameters: {grid_result.best_params_} \")"
   ]
  },
  {
   "cell_type": "code",
   "execution_count": 48,
   "metadata": {},
   "outputs": [
    {
     "data": {
      "text/plain": [
       "SVC(C=1, kernel='poly')"
      ]
     },
     "execution_count": 48,
     "metadata": {},
     "output_type": "execute_result"
    }
   ],
   "source": [
    "svm_1 = SVC(C = 1, \n",
    "            degree = 3, \n",
    "            gamma = 'scale',\n",
    "            kernel = 'poly')\n",
    "svm_1.fit(X_train, y_train)"
   ]
  },
  {
   "cell_type": "code",
   "execution_count": 49,
   "metadata": {},
   "outputs": [
    {
     "name": "stdout",
     "output_type": "stream",
     "text": [
      "ZBIÓR TRENINGOWY:\n",
      "Model score: 0.96527985633044\n",
      "Precision score: 0.0\n",
      "Gini score: 0.5\n",
      "-------------------------------\n",
      "ZBIÓR TESTOWY:\n",
      "Model score: 0.9685754189944135\n",
      "Precision score: 0.0\n",
      "Gini score: 0.5\n"
     ]
    }
   ],
   "source": [
    "print_scores(svm_1)"
   ]
  },
  {
   "cell_type": "markdown",
   "metadata": {},
   "source": [
    "Widać, że prkatycznie nic się nie zmieniło. \n",
    "\n",
    "Sprawdźmy jakie wyniki da zastosowanie random search:"
   ]
  },
  {
   "cell_type": "code",
   "execution_count": 50,
   "metadata": {},
   "outputs": [
    {
     "name": "stdout",
     "output_type": "stream",
     "text": [
      "Best score: 0.967674516437976\n",
      "Best parameters: {'kernel': 'poly', 'gamma': 'scale', 'degree': 4, 'C': 0.1}\n"
     ]
    }
   ],
   "source": [
    "svm_model = SVC()\n",
    "random = RandomizedSearchCV(estimator=svm_model, param_distributions=param_grid, cv = 5, n_jobs=-1, random_state = 100)\n",
    "\n",
    "random_result = random.fit(X_train_scaled, y_train)\n",
    "\n",
    "print(f\"Best score: {random_result.best_score_}\")\n",
    "print(f\"Best parameters: {random_result.best_params_}\")"
   ]
  },
  {
   "cell_type": "code",
   "execution_count": 51,
   "metadata": {},
   "outputs": [
    {
     "data": {
      "text/plain": [
       "SVC(C=0.1, degree=4, kernel='poly')"
      ]
     },
     "execution_count": 51,
     "metadata": {},
     "output_type": "execute_result"
    }
   ],
   "source": [
    "svm_2 = SVC(C = 0.1, \n",
    "            degree = 4, \n",
    "            gamma = 'scale',\n",
    "            kernel = 'poly')\n",
    "svm_2.fit(X_train, y_train)"
   ]
  },
  {
   "cell_type": "code",
   "execution_count": 52,
   "metadata": {},
   "outputs": [
    {
     "name": "stdout",
     "output_type": "stream",
     "text": [
      "ZBIÓR TRENINGOWY:\n",
      "Model score: 0.96527985633044\n",
      "Precision score: 0.0\n",
      "Gini score: 0.5\n",
      "-------------------------------\n",
      "ZBIÓR TESTOWY:\n",
      "Model score: 0.9685754189944135\n",
      "Precision score: 0.0\n",
      "Gini score: 0.5\n"
     ]
    }
   ],
   "source": [
    "print_scores(svm_2)"
   ]
  },
  {
   "cell_type": "markdown",
   "metadata": {},
   "source": [
    "Wynik jest w tym przypakdu identyczny z tym poprzedni, wybranym przez grid search, jednak różnią się one dwoma hiperparamterami. Dla pierwszego *degree = 3*, *C = 1*, a w tym przypadku to *degree = 4*, *C = 0.1*."
   ]
  },
  {
   "cell_type": "markdown",
   "metadata": {},
   "source": [
    "## Porównanie modeli"
   ]
  },
  {
   "cell_type": "code",
   "execution_count": 53,
   "metadata": {},
   "outputs": [],
   "source": [
    "def get_models():\n",
    "    \n",
    "    models = dict()\n",
    "    models['decTree'] = DecisionTreeClassifier()\n",
    "    \n",
    "    models['decTree1'] = DecisionTreeClassifier(ccp_alpha = 0.05,\n",
    "                                                  criterion = 'gini',\n",
    "                                                  max_depth = 3,\n",
    "                                                  splitter = 'best')\n",
    "    models['decTree2'] = DecisionTreeClassifier(ccp_alpha = 0,\n",
    "                                                  criterion = 'gini',\n",
    "                                                  max_depth = 3,\n",
    "                                                  splitter = 'random')\n",
    "    models['decTree3'] = DecisionTreeClassifier(ccp_alpha = 0,\n",
    "                                                  criterion = 'gini',\n",
    "                                                  max_depth = 4,\n",
    "                                                  max_features ='log2',\n",
    "                                                  min_samples_leaf = 1,\n",
    "                                                  min_samples_split = 6,\n",
    "                                                  splitter = 'random')          \n",
    "    models['decTree4'] = DecisionTreeClassifier(ccp_alpha = 0.05,\n",
    "                                                  criterion = 'gini',\n",
    "                                                  max_depth = 5,\n",
    "                                                  max_features ='log2',\n",
    "                                                  min_samples_leaf = 0.5,\n",
    "                                                  min_samples_split = 9,\n",
    "                                                  splitter = 'best')\n",
    "    models['rf'] = RandomForestClassifier()\n",
    "    models['rf1'] = RandomForestClassifier(min_samples_split = 5,\n",
    "                                             criterion = 'gini',\n",
    "                                             max_depth = 3,\n",
    "                                             n_estimators = 110)\n",
    "    models['rf2'] = RandomForestClassifier(min_samples_split = 2,\n",
    "                                             criterion = 'gini',\n",
    "                                             max_depth = 3,\n",
    "                                             n_estimators = 90)\n",
    "    models['svc'] = SVC()\n",
    "    models['svc1'] = SVC(C = 1, \n",
    "                        degree = 3, \n",
    "                        gamma = 'scale',\n",
    "                        kernel = 'poly')\n",
    "    models['svc2'] = SVC(C = 0.1, \n",
    "                        degree = 4, \n",
    "                        gamma = 'scale',\n",
    "                        kernel = 'poly')\n",
    "\n",
    "    return models"
   ]
  },
  {
   "cell_type": "code",
   "execution_count": 54,
   "metadata": {},
   "outputs": [],
   "source": [
    "def evaluate_model(model, X, y):\n",
    "    \n",
    "    cv = RepeatedStratifiedKFold(n_splits=10, n_repeats=3, random_state=1)\n",
    "    scores = cross_val_score(model, X, y, scoring='accuracy', cv=cv, n_jobs=-1, error_score='raise')\n",
    "\n",
    "    return scores"
   ]
  },
  {
   "cell_type": "code",
   "execution_count": 55,
   "metadata": {},
   "outputs": [
    {
     "name": "stdout",
     "output_type": "stream",
     "text": [
      " decTree mean-0.949 std-0.013\n",
      "decTree1 mean-0.969 std-0.003\n",
      "decTree2 mean-0.967 std-0.008\n",
      "decTree3 mean-0.966 std-0.006\n",
      "decTree4 mean-0.969 std-0.003\n",
      "      rf mean-0.971 std-0.005\n",
      "     rf1 mean-0.970 std-0.004\n",
      "     rf2 mean-0.970 std-0.004\n",
      "     svc mean-0.969 std-0.003\n",
      "    svc1 mean-0.969 std-0.003\n",
      "    svc2 mean-0.969 std-0.003\n"
     ]
    }
   ],
   "source": [
    "models = get_models()\n",
    "results, names = list(), list()\n",
    "for name, model in models.items():\n",
    "    scores = evaluate_model(model, X_test, y_test)\n",
    "    results.append(scores)\n",
    "    names.append(name)\n",
    "    print('%8s mean-%.3f std-%.3f' % (name, np.mean(scores), np.std(scores)))"
   ]
  },
  {
   "cell_type": "code",
   "execution_count": 56,
   "metadata": {},
   "outputs": [
    {
     "data": {
      "image/png": "[encoded data removed]",
      "text/plain": [
       "<Figure size 1080x504 with 1 Axes>"
      ]
     },
     "metadata": {
      "needs_background": "light"
     },
     "output_type": "display_data"
    }
   ],
   "source": [
    "pyplot.boxplot(results, labels=names, showmeans=True)\n",
    "pyplot.show()"
   ]
  },
  {
   "cell_type": "markdown",
   "metadata": {},
   "source": [
    "# Podsumowanie\n",
    "\n",
    "* Dodanie większej ilości parametrów do testowania nie zawsze jest opłacalne - liczy się dłużej, a wyniki niekoniecznie muszą być dużo lepsze, w rozważanym przez nas przypadku otrzymalismy nawet gorsze wyniki. Nasz zbiór danych nie jest szczególnie duży, dlatego różnice w czasie nie były duże, ale już zauważalne. W przypadku większego zbioru mogłoby to stanowić problem i wtedy warto się zastanowić czy zależy nam na nieznacznym podniesieniu predykcyjności\n",
    "* Random search jest niemal tak samo dobry jak grid serach, w jednym przypadku dał dokładnie ten sam wynik, w innych zbliżony, lub nawet bardziej optymalny\n",
    "* Sposód zastosowanych modeli, wnioskując po boxplotach, najbardziej optymlanym wydaje się być Random Forest z dodanymi hiperparametrami.\n"
   ]
  }
 ],
 "metadata": {
  "kernelspec": {
   "display_name": "Python 3 (ipykernel)",
   "language": "python",
   "name": "python3"
  },
  "language_info": {
   "codemirror_mode": {
    "name": "ipython",
    "version": 3
   },
   "file_extension": ".py",
   "mimetype": "text/x-python",
   "name": "python",
   "nbconvert_exporter": "python",
   "pygments_lexer": "ipython3",
   "version": "3.8.12"
  }
 },
 "nbformat": 4,
 "nbformat_minor": 4
}
