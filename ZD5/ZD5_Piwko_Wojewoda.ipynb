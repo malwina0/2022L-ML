{
 "cells": [
  {
   "cell_type": "markdown",
   "id": "8c2f27e8",
   "metadata": {},
   "source": [
    "## Wstęp do uczenia maszynowego \n",
    "### Praca domowa 5\n",
    "#### Jakub Piwko, Malwina Wojewoda \n",
    "zespół walidacyjny\n",
    "***"
   ]
  },
  {
   "cell_type": "markdown",
   "id": "463aaea0",
   "metadata": {},
   "source": [
    "### Pakiety"
   ]
  },
  {
   "cell_type": "code",
   "execution_count": 3,
   "id": "1bba3de6",
   "metadata": {},
   "outputs": [],
   "source": [
    "import pandas as pd\n",
    "import numpy as np\n",
    "from sklearn.cluster import KMeans, AgglomerativeClustering\n",
    "import matplotlib.pyplot as plt\n",
    "import seaborn as sns"
   ]
  },
  {
   "cell_type": "markdown",
   "id": "df31ccff",
   "metadata": {},
   "source": [
    "### Wczytanie i analiza danych"
   ]
  },
  {
   "cell_type": "code",
   "execution_count": 8,
   "id": "ffd515cd",
   "metadata": {},
   "outputs": [],
   "source": [
    "X = pd.read_csv('urbanGB.txt', names = ['x','y'], header=None)"
   ]
  },
  {
   "cell_type": "code",
   "execution_count": 9,
   "id": "9bb939be",
   "metadata": {},
   "outputs": [
    {
     "data": {
      "text/html": [
       "<div>\n",
       "<style scoped>\n",
       "    .dataframe tbody tr th:only-of-type {\n",
       "        vertical-align: middle;\n",
       "    }\n",
       "\n",
       "    .dataframe tbody tr th {\n",
       "        vertical-align: top;\n",
       "    }\n",
       "\n",
       "    .dataframe thead th {\n",
       "        text-align: right;\n",
       "    }\n",
       "</style>\n",
       "<table border=\"1\" class=\"dataframe\">\n",
       "  <thead>\n",
       "    <tr style=\"text-align: right;\">\n",
       "      <th></th>\n",
       "      <th>x</th>\n",
       "      <th>y</th>\n",
       "    </tr>\n",
       "  </thead>\n",
       "  <tbody>\n",
       "    <tr>\n",
       "      <th>0</th>\n",
       "      <td>-0.310990</td>\n",
       "      <td>53.7802</td>\n",
       "    </tr>\n",
       "    <tr>\n",
       "      <th>1</th>\n",
       "      <td>-3.112550</td>\n",
       "      <td>55.8706</td>\n",
       "    </tr>\n",
       "    <tr>\n",
       "      <th>2</th>\n",
       "      <td>-0.088533</td>\n",
       "      <td>51.3806</td>\n",
       "    </tr>\n",
       "    <tr>\n",
       "      <th>3</th>\n",
       "      <td>-0.326795</td>\n",
       "      <td>51.4476</td>\n",
       "    </tr>\n",
       "    <tr>\n",
       "      <th>4</th>\n",
       "      <td>-3.946530</td>\n",
       "      <td>51.6594</td>\n",
       "    </tr>\n",
       "  </tbody>\n",
       "</table>\n",
       "</div>"
      ],
      "text/plain": [
       "          x        y\n",
       "0 -0.310990  53.7802\n",
       "1 -3.112550  55.8706\n",
       "2 -0.088533  51.3806\n",
       "3 -0.326795  51.4476\n",
       "4 -3.946530  51.6594"
      ]
     },
     "execution_count": 9,
     "metadata": {},
     "output_type": "execute_result"
    }
   ],
   "source": [
    "X.head()"
   ]
  },
  {
   "cell_type": "code",
   "execution_count": null,
   "id": "7e5c6b82",
   "metadata": {},
   "outputs": [],
   "source": [
    "## na razie stop bo jednak nie wiem co w tym przypadku w ogóle ma robić walidacja"
   ]
  }
 ],
 "metadata": {
  "kernelspec": {
   "display_name": "Python 3 (ipykernel)",
   "language": "python",
   "name": "python3"
  },
  "language_info": {
   "codemirror_mode": {
    "name": "ipython",
    "version": 3
   },
   "file_extension": ".py",
   "mimetype": "text/x-python",
   "name": "python",
   "nbconvert_exporter": "python",
   "pygments_lexer": "ipython3",
   "version": "3.8.12"
  }
 },
 "nbformat": 4,
 "nbformat_minor": 5
}
