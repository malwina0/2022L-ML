{
 "cells": [
  {
   "cell_type": "markdown",
   "metadata": {},
   "source": [
    "# Wstęp do Uczenia Maszynowego - praca domowa 6\n",
    "### Analiza PCA\n",
    "Mikołaj Piórczyński, Michał Tomczyk"
   ]
  },
  {
   "cell_type": "code",
   "execution_count": 1,
   "metadata": {},
   "outputs": [],
   "source": [
    "import numpy as np\n",
    "import pandas as pd\n",
    "import matplotlib.pyplot as plt\n",
    "import seaborn as sns"
   ]
  },
  {
   "cell_type": "markdown",
   "metadata": {},
   "source": [
    "W ramach pracy domowej nr. 6 należało najpierw graficznie przedstawić korelacje wystepujące w zbiorze danych, a następnie przeprowadzić analizę głównych składowych (`PCA`). "
   ]
  },
  {
   "cell_type": "code",
   "execution_count": 2,
   "metadata": {},
   "outputs": [
    {
     "data": {
      "text/html": [
       "<div>\n",
       "<style scoped>\n",
       "    .dataframe tbody tr th:only-of-type {\n",
       "        vertical-align: middle;\n",
       "    }\n",
       "\n",
       "    .dataframe tbody tr th {\n",
       "        vertical-align: top;\n",
       "    }\n",
       "\n",
       "    .dataframe thead th {\n",
       "        text-align: right;\n",
       "    }\n",
       "</style>\n",
       "<table border=\"1\" class=\"dataframe\">\n",
       "  <thead>\n",
       "    <tr style=\"text-align: right;\">\n",
       "      <th></th>\n",
       "      <th>sbp</th>\n",
       "      <th>tobacco</th>\n",
       "      <th>ldl</th>\n",
       "      <th>adiposity</th>\n",
       "      <th>famhist</th>\n",
       "      <th>typea</th>\n",
       "      <th>obesity</th>\n",
       "      <th>alcohol</th>\n",
       "      <th>age</th>\n",
       "      <th>chd</th>\n",
       "    </tr>\n",
       "  </thead>\n",
       "  <tbody>\n",
       "    <tr>\n",
       "      <th>0</th>\n",
       "      <td>160</td>\n",
       "      <td>12.00</td>\n",
       "      <td>5.73</td>\n",
       "      <td>23.11</td>\n",
       "      <td>Present</td>\n",
       "      <td>49</td>\n",
       "      <td>25.30</td>\n",
       "      <td>97.20</td>\n",
       "      <td>52</td>\n",
       "      <td>1</td>\n",
       "    </tr>\n",
       "    <tr>\n",
       "      <th>1</th>\n",
       "      <td>144</td>\n",
       "      <td>0.01</td>\n",
       "      <td>4.41</td>\n",
       "      <td>28.61</td>\n",
       "      <td>Absent</td>\n",
       "      <td>55</td>\n",
       "      <td>28.87</td>\n",
       "      <td>2.06</td>\n",
       "      <td>63</td>\n",
       "      <td>1</td>\n",
       "    </tr>\n",
       "    <tr>\n",
       "      <th>2</th>\n",
       "      <td>118</td>\n",
       "      <td>0.08</td>\n",
       "      <td>3.48</td>\n",
       "      <td>32.28</td>\n",
       "      <td>Present</td>\n",
       "      <td>52</td>\n",
       "      <td>29.14</td>\n",
       "      <td>3.81</td>\n",
       "      <td>46</td>\n",
       "      <td>0</td>\n",
       "    </tr>\n",
       "    <tr>\n",
       "      <th>3</th>\n",
       "      <td>170</td>\n",
       "      <td>7.50</td>\n",
       "      <td>6.41</td>\n",
       "      <td>38.03</td>\n",
       "      <td>Present</td>\n",
       "      <td>51</td>\n",
       "      <td>31.99</td>\n",
       "      <td>24.26</td>\n",
       "      <td>58</td>\n",
       "      <td>1</td>\n",
       "    </tr>\n",
       "    <tr>\n",
       "      <th>4</th>\n",
       "      <td>134</td>\n",
       "      <td>13.60</td>\n",
       "      <td>3.50</td>\n",
       "      <td>27.78</td>\n",
       "      <td>Present</td>\n",
       "      <td>60</td>\n",
       "      <td>25.99</td>\n",
       "      <td>57.34</td>\n",
       "      <td>49</td>\n",
       "      <td>1</td>\n",
       "    </tr>\n",
       "  </tbody>\n",
       "</table>\n",
       "</div>"
      ],
      "text/plain": [
       "   sbp  tobacco   ldl  adiposity  famhist  typea  obesity  alcohol  age  chd\n",
       "0  160    12.00  5.73      23.11  Present     49    25.30    97.20   52    1\n",
       "1  144     0.01  4.41      28.61   Absent     55    28.87     2.06   63    1\n",
       "2  118     0.08  3.48      32.28  Present     52    29.14     3.81   46    0\n",
       "3  170     7.50  6.41      38.03  Present     51    31.99    24.26   58    1\n",
       "4  134    13.60  3.50      27.78  Present     60    25.99    57.34   49    1"
      ]
     },
     "execution_count": 2,
     "metadata": {},
     "output_type": "execute_result"
    }
   ],
   "source": [
    "df = pd.read_csv('heart.csv')\n",
    "df.head()"
   ]
  },
  {
   "cell_type": "code",
   "execution_count": 3,
   "metadata": {},
   "outputs": [
    {
     "name": "stdout",
     "output_type": "stream",
     "text": [
      "<class 'pandas.core.frame.DataFrame'>\n",
      "RangeIndex: 462 entries, 0 to 461\n",
      "Data columns (total 10 columns):\n",
      " #   Column     Non-Null Count  Dtype  \n",
      "---  ------     --------------  -----  \n",
      " 0   sbp        462 non-null    int64  \n",
      " 1   tobacco    462 non-null    float64\n",
      " 2   ldl        462 non-null    float64\n",
      " 3   adiposity  462 non-null    float64\n",
      " 4   famhist    462 non-null    object \n",
      " 5   typea      462 non-null    int64  \n",
      " 6   obesity    462 non-null    float64\n",
      " 7   alcohol    462 non-null    float64\n",
      " 8   age        462 non-null    int64  \n",
      " 9   chd        462 non-null    int64  \n",
      "dtypes: float64(5), int64(4), object(1)\n",
      "memory usage: 36.2+ KB\n"
     ]
    }
   ],
   "source": [
    "df.info()"
   ]
  },
  {
   "cell_type": "markdown",
   "metadata": {},
   "source": [
    "Sprawdźmy, czy w zbiorze występują braki danych."
   ]
  },
  {
   "cell_type": "code",
   "execution_count": 4,
   "metadata": {},
   "outputs": [
    {
     "data": {
      "text/plain": [
       "sbp          0.0\n",
       "tobacco      0.0\n",
       "ldl          0.0\n",
       "adiposity    0.0\n",
       "famhist      0.0\n",
       "typea        0.0\n",
       "obesity      0.0\n",
       "alcohol      0.0\n",
       "age          0.0\n",
       "chd          0.0\n",
       "dtype: float64"
      ]
     },
     "execution_count": 4,
     "metadata": {},
     "output_type": "execute_result"
    }
   ],
   "source": [
    "df.isna().mean()"
   ]
  },
  {
   "cell_type": "markdown",
   "metadata": {},
   "source": [
    "Zakodujmy zmienną `famhist`, będącą zmienną binarną."
   ]
  },
  {
   "cell_type": "code",
   "execution_count": 5,
   "metadata": {},
   "outputs": [],
   "source": [
    "df['famhist'] = df['famhist'].map({'Absent': 0, 'Present': 1})"
   ]
  },
  {
   "cell_type": "code",
   "execution_count": 19,
   "metadata": {},
   "outputs": [],
   "source": [
    "from sklearn.model_selection import train_test_split"
   ]
  },
  {
   "cell_type": "code",
   "execution_count": 20,
   "metadata": {},
   "outputs": [],
   "source": [
    "df, df_test = train_test_split(df, test_size=0.3, random_state = 123)"
   ]
  },
  {
   "cell_type": "code",
   "execution_count": 22,
   "metadata": {},
   "outputs": [
    {
     "data": {
      "text/html": [
       "<div>\n",
       "<style scoped>\n",
       "    .dataframe tbody tr th:only-of-type {\n",
       "        vertical-align: middle;\n",
       "    }\n",
       "\n",
       "    .dataframe tbody tr th {\n",
       "        vertical-align: top;\n",
       "    }\n",
       "\n",
       "    .dataframe thead th {\n",
       "        text-align: right;\n",
       "    }\n",
       "</style>\n",
       "<table border=\"1\" class=\"dataframe\">\n",
       "  <thead>\n",
       "    <tr style=\"text-align: right;\">\n",
       "      <th></th>\n",
       "      <th>sbp</th>\n",
       "      <th>tobacco</th>\n",
       "      <th>ldl</th>\n",
       "      <th>adiposity</th>\n",
       "      <th>famhist</th>\n",
       "      <th>typea</th>\n",
       "      <th>obesity</th>\n",
       "      <th>alcohol</th>\n",
       "      <th>age</th>\n",
       "      <th>chd</th>\n",
       "    </tr>\n",
       "  </thead>\n",
       "  <tbody>\n",
       "    <tr>\n",
       "      <th>49</th>\n",
       "      <td>126</td>\n",
       "      <td>3.80</td>\n",
       "      <td>3.88</td>\n",
       "      <td>31.79</td>\n",
       "      <td>0</td>\n",
       "      <td>57</td>\n",
       "      <td>30.53</td>\n",
       "      <td>0.00</td>\n",
       "      <td>30</td>\n",
       "      <td>0</td>\n",
       "    </tr>\n",
       "    <tr>\n",
       "      <th>85</th>\n",
       "      <td>130</td>\n",
       "      <td>0.56</td>\n",
       "      <td>3.30</td>\n",
       "      <td>30.86</td>\n",
       "      <td>0</td>\n",
       "      <td>49</td>\n",
       "      <td>27.52</td>\n",
       "      <td>33.33</td>\n",
       "      <td>45</td>\n",
       "      <td>0</td>\n",
       "    </tr>\n",
       "    <tr>\n",
       "      <th>34</th>\n",
       "      <td>148</td>\n",
       "      <td>5.50</td>\n",
       "      <td>7.10</td>\n",
       "      <td>25.31</td>\n",
       "      <td>0</td>\n",
       "      <td>56</td>\n",
       "      <td>29.84</td>\n",
       "      <td>3.60</td>\n",
       "      <td>48</td>\n",
       "      <td>0</td>\n",
       "    </tr>\n",
       "    <tr>\n",
       "      <th>231</th>\n",
       "      <td>136</td>\n",
       "      <td>13.20</td>\n",
       "      <td>7.18</td>\n",
       "      <td>35.95</td>\n",
       "      <td>0</td>\n",
       "      <td>48</td>\n",
       "      <td>29.19</td>\n",
       "      <td>0.00</td>\n",
       "      <td>62</td>\n",
       "      <td>0</td>\n",
       "    </tr>\n",
       "    <tr>\n",
       "      <th>236</th>\n",
       "      <td>126</td>\n",
       "      <td>5.50</td>\n",
       "      <td>3.78</td>\n",
       "      <td>34.15</td>\n",
       "      <td>0</td>\n",
       "      <td>55</td>\n",
       "      <td>28.85</td>\n",
       "      <td>3.18</td>\n",
       "      <td>61</td>\n",
       "      <td>0</td>\n",
       "    </tr>\n",
       "    <tr>\n",
       "      <th>...</th>\n",
       "      <td>...</td>\n",
       "      <td>...</td>\n",
       "      <td>...</td>\n",
       "      <td>...</td>\n",
       "      <td>...</td>\n",
       "      <td>...</td>\n",
       "      <td>...</td>\n",
       "      <td>...</td>\n",
       "      <td>...</td>\n",
       "      <td>...</td>\n",
       "    </tr>\n",
       "    <tr>\n",
       "      <th>347</th>\n",
       "      <td>128</td>\n",
       "      <td>5.40</td>\n",
       "      <td>2.36</td>\n",
       "      <td>12.98</td>\n",
       "      <td>0</td>\n",
       "      <td>51</td>\n",
       "      <td>18.36</td>\n",
       "      <td>6.69</td>\n",
       "      <td>61</td>\n",
       "      <td>0</td>\n",
       "    </tr>\n",
       "    <tr>\n",
       "      <th>191</th>\n",
       "      <td>128</td>\n",
       "      <td>0.70</td>\n",
       "      <td>4.90</td>\n",
       "      <td>37.42</td>\n",
       "      <td>1</td>\n",
       "      <td>72</td>\n",
       "      <td>35.94</td>\n",
       "      <td>3.09</td>\n",
       "      <td>49</td>\n",
       "      <td>1</td>\n",
       "    </tr>\n",
       "    <tr>\n",
       "      <th>277</th>\n",
       "      <td>124</td>\n",
       "      <td>4.25</td>\n",
       "      <td>8.22</td>\n",
       "      <td>30.77</td>\n",
       "      <td>0</td>\n",
       "      <td>56</td>\n",
       "      <td>25.80</td>\n",
       "      <td>0.00</td>\n",
       "      <td>43</td>\n",
       "      <td>0</td>\n",
       "    </tr>\n",
       "    <tr>\n",
       "      <th>6</th>\n",
       "      <td>142</td>\n",
       "      <td>4.05</td>\n",
       "      <td>3.38</td>\n",
       "      <td>16.20</td>\n",
       "      <td>0</td>\n",
       "      <td>59</td>\n",
       "      <td>20.81</td>\n",
       "      <td>2.62</td>\n",
       "      <td>38</td>\n",
       "      <td>0</td>\n",
       "    </tr>\n",
       "    <tr>\n",
       "      <th>190</th>\n",
       "      <td>142</td>\n",
       "      <td>0.00</td>\n",
       "      <td>3.72</td>\n",
       "      <td>25.68</td>\n",
       "      <td>0</td>\n",
       "      <td>48</td>\n",
       "      <td>24.37</td>\n",
       "      <td>5.25</td>\n",
       "      <td>40</td>\n",
       "      <td>1</td>\n",
       "    </tr>\n",
       "  </tbody>\n",
       "</table>\n",
       "<p>139 rows × 10 columns</p>\n",
       "</div>"
      ],
      "text/plain": [
       "     sbp  tobacco   ldl  adiposity  famhist  typea  obesity  alcohol  age  chd\n",
       "49   126     3.80  3.88      31.79        0     57    30.53     0.00   30    0\n",
       "85   130     0.56  3.30      30.86        0     49    27.52    33.33   45    0\n",
       "34   148     5.50  7.10      25.31        0     56    29.84     3.60   48    0\n",
       "231  136    13.20  7.18      35.95        0     48    29.19     0.00   62    0\n",
       "236  126     5.50  3.78      34.15        0     55    28.85     3.18   61    0\n",
       "..   ...      ...   ...        ...      ...    ...      ...      ...  ...  ...\n",
       "347  128     5.40  2.36      12.98        0     51    18.36     6.69   61    0\n",
       "191  128     0.70  4.90      37.42        1     72    35.94     3.09   49    1\n",
       "277  124     4.25  8.22      30.77        0     56    25.80     0.00   43    0\n",
       "6    142     4.05  3.38      16.20        0     59    20.81     2.62   38    0\n",
       "190  142     0.00  3.72      25.68        0     48    24.37     5.25   40    1\n",
       "\n",
       "[139 rows x 10 columns]"
      ]
     },
     "execution_count": 22,
     "metadata": {},
     "output_type": "execute_result"
    }
   ],
   "source": [
    "df_test"
   ]
  },
  {
   "cell_type": "markdown",
   "metadata": {},
   "source": [
    "Sprawdźmy rozkłady poszczególnych zmiennych."
   ]
  },
  {
   "cell_type": "code",
   "execution_count": 23,
   "metadata": {},
   "outputs": [
    {
     "data": {
      "image/png": "[encoded data removed]",
      "text/plain": [
       "<Figure size 1800x1800 with 110 Axes>"
      ]
     },
     "metadata": {
      "needs_background": "light"
     },
     "output_type": "display_data"
    }
   ],
   "source": [
    "grid = sns.PairGrid(df)\n",
    "grid = grid.map_upper(sns.kdeplot, fill=True, thresh=0.05)\n",
    "grid = grid.map_diag(sns.histplot)\n",
    "grid = grid.map_lower(sns.scatterplot)\n",
    "grid.fig.tight_layout()\n",
    "plt.subplots_adjust(top=0.9)\n",
    "plt.show()"
   ]
  },
  {
   "cell_type": "markdown",
   "metadata": {},
   "source": [
    "Oraz ich korelacje:"
   ]
  },
  {
   "cell_type": "code",
   "execution_count": 24,
   "metadata": {},
   "outputs": [
    {
     "data": {
      "image/png": "[encoded data removed]",
      "text/plain": [
       "<Figure size 576x432 with 2 Axes>"
      ]
     },
     "metadata": {
      "needs_background": "light"
     },
     "output_type": "display_data"
    }
   ],
   "source": [
    "mask = np.triu(np.ones_like(df.corr(), dtype=bool))\n",
    "f, ax = plt.subplots(figsize=(8, 6))\n",
    "cmap = sns.diverging_palette(230, 20, as_cmap=True)\n",
    "sns.heatmap(df.corr(), mask=mask, cmap=cmap, center=0, square=True, linewidths=.5, cbar_kws={\"shrink\": .5})\n",
    "plt.show()"
   ]
  },
  {
   "cell_type": "markdown",
   "metadata": {},
   "source": [
    "Najbardziej skorelowane wydają się być `adiposity` z `obesity` oraz z `age`"
   ]
  },
  {
   "cell_type": "markdown",
   "metadata": {},
   "source": [
    "# PCA"
   ]
  },
  {
   "cell_type": "code",
   "execution_count": 25,
   "metadata": {},
   "outputs": [
    {
     "data": {
      "text/plain": [
       "PCA()"
      ]
     },
     "execution_count": 25,
     "metadata": {},
     "output_type": "execute_result"
    }
   ],
   "source": [
    "from sklearn.decomposition import PCA\n",
    "\n",
    "pca = PCA()\n",
    "pca.fit(df)"
   ]
  },
  {
   "cell_type": "code",
   "execution_count": 26,
   "metadata": {},
   "outputs": [
    {
     "data": {
      "image/png": "[encoded data removed]",
      "text/plain": [
       "<Figure size 576x432 with 1 Axes>"
      ]
     },
     "metadata": {
      "needs_background": "light"
     },
     "output_type": "display_data"
    }
   ],
   "source": [
    "plt.figure(figsize=(8, 6))\n",
    "plt.plot(range(10), np.cumsum(pca.explained_variance_ratio_), linestyle='-', marker='o')\n",
    "plt.title(\"PCA cumulated explained variance ratio\")\n",
    "plt.xlabel(\"PC\")\n",
    "plt.ylabel(\"Explained Variance Ratio\")\n",
    "plt.show()"
   ]
  },
  {
   "cell_type": "code",
   "execution_count": 27,
   "metadata": {},
   "outputs": [
    {
     "data": {
      "text/plain": [
       "array([0.45633833, 0.76656299, 0.88899618, 0.95370145, 0.98181273,\n",
       "       0.99249948, 0.99727809, 0.99971091, 0.99988508, 1.        ])"
      ]
     },
     "execution_count": 27,
     "metadata": {},
     "output_type": "execute_result"
    }
   ],
   "source": [
    "np.cumsum(pca.explained_variance_ratio_)"
   ]
  },
  {
   "cell_type": "markdown",
   "metadata": {},
   "source": [
    "Na podstawie 'zasady łokcia' wydaje się, że najlepszą liczbą składowych jest 3. Jeśli jednak chcemy mieć powyżej 95% wariancji występującej w oryginalnych danych możemy wybrać 4 główne składowe."
   ]
  },
  {
   "cell_type": "code",
   "execution_count": 28,
   "metadata": {},
   "outputs": [
    {
     "data": {
      "application/vnd.plotly.v1+json": {
       "config": {
        "plotlyServerURL": "https://plot.ly"
       },
       "data": [
        {
         "hovertemplate": "PC 1=%{x}<br>PC 2=%{y}<br>PC 3=%{z}<extra></extra>",
         "legendgroup": "",
         "marker": {
          "color": "#636efa",
          "symbol": "circle"
         },
         "mode": "markers",
         "name": "",
         "scene": "scene",
         "showlegend": false,
         "type": "scatter3d",
         "x": [
          -15.029806837123173,
          -5.670080331447101,
          38.42848818105441,
          -10.478450955221742,
          -22.903259895474484,
          -18.21764450190195,
          -10.578673777584335,
          4.047643372746645,
          -25.810245454704223,
          -18.615760921613415,
          79.26497332385814,
          -9.667343520470103,
          5.400885775146784,
          33.31949510652299,
          -22.234878410052126,
          -3.806807645044202,
          11.813988704538165,
          37.092433486437656,
          -32.73752755370773,
          -13.78419380650099,
          -19.643075252088945,
          11.85970092882785,
          30.62663811894469,
          57.7334014806142,
          10.825552882311154,
          -22.636250303892776,
          102.96420176987401,
          0.13938958667674214,
          -27.620669789634057,
          13.187017452238747,
          90.33595604101917,
          5.134966404203411,
          -31.948196452679976,
          -13.035227506087907,
          -13.391160990083561,
          2.78667156339962,
          25.619430061423575,
          -6.405064715543609,
          15.295969668072237,
          12.653884942161344,
          -19.552908755065424,
          -15.399288797415036,
          19.6955491265772,
          -29.09630707003487,
          -19.230971489399113,
          12.50122722745751,
          14.306014851051906,
          -11.789276325980078,
          34.53251330686686,
          -4.529089040779719,
          4.698533550759434,
          -8.394898362606428,
          -10.223518000573113,
          -16.48095924438744,
          -17.139113616762174,
          29.955752231922755,
          -15.933509352055884,
          -5.553377899836766,
          -30.869656248366606,
          20.998954830729513,
          54.79801168119267,
          27.419976676566254,
          5.187018363839536,
          -24.98537099052893,
          15.853714442978646,
          25.75425286415938,
          33.74414823348956,
          -13.623843327686107,
          45.61990556453817,
          -2.658510528683847,
          -8.756155664518667,
          -30.795445192149455,
          14.776630357001807,
          -26.399687847968526,
          -27.388690038847695,
          -25.10389792995506,
          -5.403440160360021,
          -26.463992891827886,
          -5.2120095234293515,
          -7.55860216305571,
          1.3364482864979892,
          10.565594121146175,
          -23.949225687980896,
          -10.948477046515931,
          -17.978832440293207,
          0.43665841558200236,
          -0.9344870588237851,
          15.785949757844158,
          12.450019509114611,
          -23.259055570378138,
          -33.70862941499819,
          -29.996839367713857,
          14.110495293331146,
          -16.836951620538592,
          31.281746510767462,
          -11.87380930223784,
          11.78054379311728,
          -30.460790015933444,
          -1.486517397870577,
          -29.94404906783449,
          -26.11098862918171,
          20.450652823147283,
          -5.211711410265384,
          -22.761858940393232,
          -10.27938147264932,
          8.587035548433638,
          -2.090516552902248,
          6.34274202468977,
          -15.287302946996912,
          -17.130450481016805,
          9.055900088429517,
          -4.134699058157819,
          -7.765086900276047,
          -32.621152319530594,
          -16.29178647203999,
          40.262382147323976,
          -9.54992186768653,
          -13.987935265623163,
          -32.85033456175751,
          -4.013759234320073,
          -22.297814358408495,
          26.658328962856704,
          43.772778149161354,
          33.212787402097,
          -12.513636356165307,
          -19.246963889564036,
          -4.9607351573193075,
          71.58199880894446,
          -1.24437868132489,
          13.076396183713639,
          12.4218269735659,
          17.04365985585204,
          -25.958850663886192,
          55.456165480507444,
          -22.269133063320876,
          -6.060504437013462,
          -19.168371240626527,
          -16.787388026113994,
          -9.946388370491778,
          27.101566735497734,
          9.638704775813347,
          60.287751729726104,
          -31.411857415015785,
          25.405795421755023,
          -16.907783374069357,
          -15.275412185747209,
          37.0381609813605,
          -2.574098043375984,
          -5.45484760885154,
          -14.782417017814483,
          17.73114621798981,
          -17.831252578038168,
          -11.740309681570139,
          23.831362966975245,
          -16.857523319734707,
          -11.871356367653101,
          20.747456633363534,
          -17.429842820168954,
          -13.91703079370099,
          14.318351725446202,
          4.638129744095112,
          -15.351004485423058,
          -25.308943846545777,
          10.460757722592524,
          28.148983584176516,
          -5.542454656832509,
          16.01238822667381,
          8.377400830808934,
          2.037991136621379,
          -7.576335478983865,
          -27.39307886079921,
          6.39752977563464,
          -31.923603900285787,
          -15.819190072842503,
          -35.87455654365615,
          16.847051003287646,
          -22.736457318231306,
          50.02460409347791,
          -5.631891703701173,
          39.18074452440144,
          -5.410250583195085,
          -27.97369212334568,
          -8.054515934181335,
          -36.49705903142955,
          74.07721526606643,
          -21.32904525731639,
          -1.921094169558752,
          -10.434012883289732,
          -21.01625009045823,
          13.035273467666444,
          -0.5836831778005933,
          -13.030799752652724,
          3.914572900265037,
          32.99520569966603,
          -2.6058723261668075,
          -12.481164291380464,
          -0.32362370166400967,
          9.652377618653711,
          -13.30532926485822,
          -25.86227425241404,
          32.93350303708088,
          36.18427901615573,
          7.751464515255611,
          -18.454598461697366,
          -28.39646286638071,
          13.044107651450238,
          7.195698392645927,
          -13.581572495300769,
          -10.98509372726874,
          9.622273998506726,
          1.5235338418667874,
          -3.9560126113458813,
          -15.690929391340777,
          13.135614310436178,
          6.1827756319805225,
          12.88571303957412,
          -23.566406415117523,
          -12.295958785513328,
          -28.993313094184302,
          -16.666581608983538,
          6.6932482594448395,
          -5.498397984322308,
          28.289586864049966,
          -13.145837661558488,
          -17.42743952694463,
          -12.806764033805399,
          -14.53792474805866,
          -8.041638369352698,
          -15.713041753941788,
          28.700670822525243,
          51.819211286990246,
          -26.120023938570466,
          -18.406762126747566,
          -25.16900090833358,
          -11.536604482470256,
          6.287883140553134,
          -2.750444459730165,
          46.184129609920966,
          -20.4239723405615,
          -20.958528198970985,
          2.290381728830692,
          -18.026605976282465,
          16.29601547147704,
          -8.993266047938677,
          7.571867737259958,
          -4.489946029608631,
          5.371554214463765,
          -9.241087410036297,
          -13.179781244273565,
          33.89945428056399,
          -12.076541285028819,
          -23.204476448471617,
          97.19175727760302,
          100.6719885633218,
          -15.111086447290639,
          -32.52285728718299,
          -6.085528969619417,
          -22.933943236424724,
          -19.489551023128374,
          -9.576383166679413,
          -15.047636025809377,
          -2.3394979889653347,
          -35.02305196303416,
          -10.94966888931729,
          74.73988450285474,
          3.985343938078602,
          -24.988690661454573,
          -7.036740480004465,
          -3.477052822466567,
          -2.6009866696604425,
          -24.738111246104083,
          -11.229026875674595,
          -32.20682233205832,
          30.325953140040703,
          -6.219403167595849,
          16.702824705371192,
          -14.266323186973828,
          21.952929410449784,
          -0.5765361701286069,
          16.24856603498216,
          -12.310924709988157,
          -24.255899096066404,
          14.464128410032965,
          -5.972015854367443,
          -2.433639740540135,
          -10.80505752379582,
          -8.431845211024251,
          -27.42896966478965,
          -4.733971462367281,
          9.671334670458696,
          -7.486725993722428,
          -18.476727666675394,
          9.44060400423849,
          -2.9143640309280228,
          -16.164554385246433,
          2.160773502510694,
          64.02519900861775,
          50.61768604816415,
          -8.813846307906019,
          -3.7439885385065983,
          45.52379451120097,
          -29.514778420220768,
          8.703139919315188,
          -12.654363588071744,
          -32.37754439220348,
          -4.958804997038981,
          -23.78080327372726,
          -23.75184934613762,
          -11.444963401625616,
          10.968077261640106,
          5.867089007041086,
          3.9588156097016305,
          -21.906754708231084,
          -10.34873130952005,
          11.106860217553137,
          -6.2349011180437195,
          9.000547737157296,
          6.557373662600135,
          65.76184866237242,
          -17.627558771758885,
          37.32650245400722,
          -11.477733329762872,
          18.74118404032859
         ],
         "y": [
          4.519952918212943,
          -19.641675228236988,
          -8.00255985678031,
          29.689911965898766,
          4.859184209418621,
          13.396640044113347,
          2.194374820112029,
          1.38019683629866,
          7.472504032684127,
          16.99455400064855,
          2.5341386816252607,
          -8.71117181523819,
          -33.966284945781766,
          53.43655087878848,
          2.868693061005681,
          18.663656407140472,
          0.29692726131127506,
          31.746315814377432,
          16.58018852520372,
          -9.281113013130385,
          16.62618557760284,
          17.008157123679045,
          -70.48658635032449,
          -5.726504196990862,
          -36.028170220029416,
          2.4052012728679353,
          -16.49305791920067,
          -28.68492068528247,
          13.85797048835594,
          12.657613508881228,
          31.759808177539487,
          0.02112449690681265,
          19.55747155360705,
          15.970967921644563,
          -9.026967391755269,
          -17.59473337467017,
          -22.53838599384807,
          -17.675466566239017,
          -35.79921405102369,
          24.737020453011652,
          -1.17106582719728,
          12.065173484960221,
          -55.637125233895894,
          12.822158379039518,
          15.174339678528197,
          37.83462278798547,
          2.0588381565737413,
          7.321217134911218,
          37.66609667438352,
          -21.548900960168325,
          -33.047854549307814,
          -8.710755587704371,
          -0.2525149553998416,
          -3.2278895780229577,
          -4.455061737487522,
          7.045616655835957,
          -6.234651673742629,
          -20.269336248854117,
          16.46510068877891,
          -9.378616636392842,
          -41.80920199384416,
          -34.363288498510435,
          -29.49615358065911,
          10.02411188777246,
          16.122793077741072,
          -31.017791312333287,
          23.828919373579076,
          -8.4595108595595,
          32.977475167335896,
          -6.035278254705196,
          6.352396835225935,
          13.36936488936616,
          7.394738323709241,
          7.414218627098567,
          9.563081232125011,
          6.710207154577373,
          -22.99500431414929,
          8.873481192470727,
          26.429069388498938,
          -15.030656843311965,
          1.0234729559652014,
          3.911790623496024,
          11.874390957381962,
          -8.786274864911427,
          10.157460472166656,
          2.661974082277751,
          -15.213620754770638,
          30.30609773656476,
          3.7952225359801535,
          2.697496596836487,
          17.846201120094094,
          12.086100887126513,
          7.598168533533862,
          -5.473606981356799,
          -38.08223951476926,
          -11.383476750615134,
          -31.357896771379323,
          13.793311952067127,
          15.272241838801229,
          13.296144185183051,
          7.810513823456443,
          20.585125951581524,
          16.27950013444881,
          2.3664374919552347,
          -14.046749121181488,
          -18.392500697634514,
          16.87587535881387,
          -37.30221546759368,
          6.7063103849384404,
          7.637828709721014,
          -35.78754434682715,
          2.247923774218202,
          5.36250061253347,
          16.251952030313312,
          4.925409040170855,
          -10.702018385450296,
          -4.107214719564083,
          22.482556482610697,
          16.606465746629784,
          -19.971936538949265,
          2.6938333067221873,
          -22.546038132412452,
          25.313486329041286,
          -61.03936004794566,
          -9.87285607196153,
          29.18995072624644,
          -17.631233230549633,
          -30.810788607795427,
          -16.404913473503793,
          22.92960949834923,
          12.316337753735338,
          -5.583711626763283,
          7.91754633842229,
          -47.139611624831815,
          1.3277638800247413,
          18.943681170972248,
          4.141938803711218,
          -1.9185044994862757,
          -9.575401918657686,
          34.348303828080084,
          19.55197862160529,
          21.564799358335556,
          19.520325243182224,
          10.90679999468472,
          -1.4216039743625488,
          14.102112473705445,
          -14.46340141454725,
          1.5980506642018593,
          -6.860444661416688,
          5.303067622145893,
          -9.97052589816613,
          3.902169725918009,
          -9.322518142871427,
          50.43278722059892,
          -3.4634854388188696,
          2.1855542329273265,
          -19.54281467949461,
          2.613682308219497,
          -6.848105939740336,
          -16.1824602344009,
          -33.63894635701984,
          16.645403815562865,
          10.080416815881355,
          -38.88954148070756,
          13.55278339449736,
          -4.215796521324097,
          -49.05550509297578,
          -25.437826655029216,
          -31.376011436104708,
          -12.244086933931552,
          9.010009893849665,
          3.7547187106807316,
          15.765383997169831,
          -6.715929974059492,
          22.420726960311747,
          -46.57125967437056,
          3.695493590434211,
          -5.242318862814861,
          -20.363249272613768,
          23.6204431792618,
          -14.597757746939724,
          14.19462731069793,
          -16.654941194278052,
          26.03243129946187,
          27.01265928367926,
          2.7573622283123522,
          -12.417895626506429,
          15.82769792911153,
          0.7024867652689609,
          -39.38548183607803,
          -1.325745429113729,
          -10.363075633346861,
          -14.032383365132716,
          -0.08907440526705213,
          -6.767949691590836,
          -6.234356103346149,
          -3.066666395661229,
          0.5768702340176246,
          -4.798675919527442,
          7.603928805537085,
          0.04991896233915009,
          27.906277260211212,
          -28.273623507887404,
          -1.7208925001850854,
          10.19254201146676,
          -4.685443734247392,
          21.24024445582363,
          -8.866026133675142,
          12.503520847398002,
          -42.25977782887549,
          7.451436358995784,
          -4.465509402772319,
          -2.5883903477933257,
          -8.7813705299691,
          -29.85819517547187,
          -22.19654281735411,
          6.0967313806492855,
          -9.900671363795368,
          14.68911578689625,
          -5.355610833609584,
          -14.66508180507001,
          -19.944129203685517,
          -0.31864591578785556,
          9.247284367244655,
          -3.8661367522862897,
          6.295080894456651,
          -7.532797863031232,
          -0.07741896797905269,
          28.131972048636595,
          -26.261796133670355,
          6.400071278798181,
          12.76349678431322,
          2.2655205940331036,
          6.434955217615333,
          -11.448944363383589,
          3.566772875721683,
          -20.601366979260774,
          -0.6099133885973699,
          28.787603838895546,
          2.8716048545442776,
          -31.71295319842056,
          0.40100698894635994,
          -3.8986184975840423,
          -10.232973336110872,
          -23.36363287574858,
          0.8204581679718094,
          -27.183622911877105,
          -16.006541464655015,
          -8.620489507831389,
          -11.846756608907556,
          -11.459624069679055,
          9.890523087401325,
          88.59514361044413,
          80.99505530765697,
          -6.889214849162873,
          16.90226532800663,
          0.03335656834027469,
          3.014585907597274,
          2.012784036719096,
          -7.217029585538574,
          19.732944903804825,
          -17.93692697902473,
          19.06663848578762,
          -12.505645188268186,
          -9.417078494498082,
          12.27522538499886,
          9.183682453242449,
          -18.074578535619004,
          -9.291415209607276,
          -21.04940640399774,
          5.158988407668915,
          -12.700112127377585,
          21.15830405240166,
          -21.047920897468344,
          9.132614049933665,
          -11.26103328467046,
          -8.048638839756464,
          7.715361853549231,
          -0.46721515749067977,
          -28.454400515880824,
          -0.7617746915633447,
          5.854147246137194,
          -14.721091424123005,
          14.464058634041974,
          8.036202104498523,
          2.178235040580128,
          -6.076034062752348,
          9.383879683233104,
          23.39229751964931,
          -0.723609897397016,
          18.46233546898602,
          3.9894233812595914,
          28.408226208814888,
          3.698546830605911,
          12.915715069491014,
          -5.6777428648828625,
          36.933693670590415,
          55.613153423088356,
          -15.04231867297185,
          -22.89110256317653,
          53.6865157718939,
          11.547820787317724,
          -31.51022391926181,
          -6.707420485466096,
          16.42856653651078,
          0.777426995799056,
          11.663701697096148,
          10.654732157850287,
          -9.521411811297185,
          -44.27316313540514,
          10.887743769823125,
          -1.6063095805650434,
          3.914488355487355,
          7.315564289543553,
          -0.6984807044925024,
          18.31004321746572,
          -15.241439551373126,
          -11.850515153888965,
          68.59596837118245,
          -3.364945070759448,
          -15.560058452964757,
          -8.015739068211314,
          29.334912794039244
         ],
         "z": [
          16.88098403004423,
          2.7409780500515124,
          2.3396088743999677,
          3.7894148465543163,
          5.40880456084412,
          8.463715042258881,
          -13.999337589327677,
          5.094029672746389,
          3.732109471841184,
          14.045618015188884,
          27.63836350774106,
          17.250420723533395,
          -9.313507017085504,
          12.996185584505863,
          9.790988678510523,
          -9.575297481058497,
          0.8589647930052677,
          -4.4426931600277,
          15.310413852890692,
          -3.4338194283263856,
          -14.695962755529665,
          -20.240531467947516,
          24.866998618337398,
          6.6067618403819255,
          14.52413922484542,
          21.61735120355974,
          33.62830050219038,
          -11.324239630827357,
          16.637371934305342,
          19.91127055348154,
          -6.378260792169878,
          -1.0305761625983223,
          -12.930301959339486,
          -19.793832285171696,
          -25.9171249693939,
          -12.020432973983691,
          2.4614005488679407,
          -1.8051027533454163,
          -1.4560969980473608,
          13.85806299328906,
          5.763978466389556,
          15.253988865415186,
          14.040413850925047,
          -4.559282744771281,
          12.32584133695896,
          7.905821453997036,
          -18.964474477384243,
          2.0335801536972875,
          10.043792756399197,
          -1.848617302728028,
          -7.053572812786902,
          7.404178255181092,
          17.296159842519895,
          -11.722909316965106,
          -8.992138617510474,
          -3.90122358220275,
          26.314434393815684,
          -10.762556704147745,
          9.489345161704172,
          1.4176626393216445,
          11.563064209824786,
          12.253904101002504,
          -2.0908886634824104,
          -12.484603866226744,
          14.846903954901503,
          6.418992232185892,
          -7.835752939968724,
          -13.20361190908851,
          8.731720120419128,
          -13.077625867030191,
          1.1790267561303485,
          13.239655814556999,
          -19.826807044183713,
          20.13116937536672,
          8.624171950040948,
          -13.611651675169572,
          4.978363700919397,
          16.59355568661028,
          -9.626758117782453,
          -13.628719390993066,
          -11.491213501495553,
          -13.636746745715195,
          0.8422618926521873,
          -1.5269356869482924,
          -8.104330752145346,
          -0.03326532796621379,
          -14.650950448237705,
          6.831038990538433,
          -14.20475822842717,
          18.75586753066191,
          11.130333627224896,
          14.71962518375392,
          16.63326823732816,
          -22.36475378329535,
          -0.7001637177297289,
          -19.73488159790275,
          0.6325105321320728,
          13.39013854564926,
          3.116008620571546,
          -7.012474797589837,
          -23.404676287442147,
          5.956063487615538,
          -27.04533759491325,
          25.290387127993554,
          -17.618828409642106,
          9.371577296152171,
          20.56043792411603,
          -3.2771487856248327,
          -3.483374321290026,
          -20.814866775505543,
          0.7989622370095618,
          -12.49926808497096,
          7.239117636732217,
          14.935054389791853,
          22.851746176958255,
          1.193857091600034,
          -16.672525639989203,
          0.9791345260175575,
          15.359040863699304,
          7.753854551934435,
          5.787651846531814,
          13.961498631377616,
          -3.5004220570887945,
          20.9043698583548,
          -12.901899218959171,
          -3.6974377273151817,
          -19.743963845206295,
          20.485096573122192,
          -9.614309501918502,
          3.1449134578731806,
          -22.937655736185967,
          5.1411007064372996,
          4.346330980552268,
          18.874769242364806,
          23.377435338031653,
          11.718954242264541,
          8.32278437267893,
          5.396032659721675,
          -7.4957186405039815,
          -2.6978143807246533,
          -6.200023312870548,
          -5.605742868781622,
          10.763308494190312,
          5.4456013352190045,
          -2.9540181346553025,
          -0.9720765225350212,
          6.057285755189957,
          14.6186128921775,
          19.953782207264204,
          21.415453623822604,
          -3.8407569368376224,
          18.405062188479032,
          -21.63822353791617,
          -1.1551912312898691,
          -8.227594744755471,
          -9.266566176036106,
          -7.827843342842526,
          -10.513773773450394,
          0.3569703383051458,
          11.085793633712955,
          -7.480726380947619,
          6.338273390364291,
          18.65495078345759,
          -0.6351999493631574,
          -5.086615080169856,
          3.564492875504631,
          0.644816694090586,
          4.447997373522816,
          -6.192788871920108,
          -2.012834139332334,
          19.384885642036476,
          -4.807788393001376,
          -10.282733746237088,
          -20.6047423925434,
          6.855194109499938,
          -1.2108962228417006,
          -11.534608702954635,
          -1.7289304394342229,
          -11.35448004101021,
          -10.070785903096219,
          32.62093380491219,
          -0.2320314649316902,
          -11.276654238842113,
          3.0502470960344166,
          3.8294282540545908,
          9.181676397423402,
          -7.322864211278053,
          15.67028878938639,
          -2.586554337061736,
          6.671848044974872,
          -13.891683734277855,
          -1.872984043388495,
          -19.13869184487892,
          12.18067415854607,
          8.776684684493668,
          11.270138077626484,
          -8.8021340158322,
          7.566539945081468,
          6.898449627101386,
          23.54175223321995,
          -1.9584521293818142,
          -20.32466844108447,
          0.19778228393387678,
          -8.278815090207859,
          14.405138468392625,
          -11.008980624499053,
          -13.488017741200975,
          -19.064990839523965,
          12.585350387381274,
          2.105486684968688,
          12.404356748626604,
          29.301049726033284,
          4.253206683895789,
          -11.616656783879098,
          -2.948390928500451,
          -0.20263572170939728,
          -19.853393595697764,
          2.504078916272581,
          9.565775136608542,
          -19.66583257887875,
          -15.037154920780505,
          -10.164316403042031,
          3.659428725973555,
          1.4670581507792655,
          -19.809387197387007,
          2.037735717281484,
          -23.4624277953985,
          -19.553169942545015,
          2.6347843600077265,
          -1.0013611295957214,
          4.48793737961754,
          3.6844988501416074,
          16.623360893801205,
          2.157760815894338,
          -24.306917483416594,
          -9.115705553783268,
          -14.419676574618437,
          -7.228373680854878,
          12.368544211950068,
          20.75887208046192,
          0.355387942397192,
          -9.129199569710217,
          13.622172531026372,
          -8.701493874826095,
          -15.125764856716158,
          -10.544873230067987,
          -14.514009522543551,
          14.737718287760234,
          -22.561392036232082,
          1.6838763034976316,
          -19.361023282281206,
          24.025719959500204,
          -1.7386511435394967,
          0.5597917227204776,
          -6.9075729261603716,
          15.642313728802511,
          -6.316834748844849,
          -4.856822870792754,
          22.07896647043815,
          -3.6506709799410544,
          2.1822096067263748,
          5.567224437194191,
          13.10793868142735,
          -12.920386217823815,
          16.15353165299505,
          -10.311754302450934,
          21.118842595999862,
          17.04917878027819,
          6.342399202479005,
          -6.724278868910664,
          7.990543350278848,
          -14.485733322079566,
          9.746802367290275,
          -3.689236626961795,
          -16.311873232071566,
          -9.001320803494545,
          -9.535424942940201,
          -18.856509485943384,
          -11.818150865529491,
          -0.17770368335047426,
          -4.931535653091315,
          -19.724075210010366,
          16.776582489834663,
          -1.538065730949047,
          -18.086868681424413,
          1.8004139084913253,
          7.903646591752918,
          19.877685156402915,
          -22.982435992752258,
          -14.28408969326988,
          -6.839552477832642,
          -15.509238183656317,
          -16.89498373660373,
          -11.907207303550885,
          -5.041067921689118,
          -14.234180655161452,
          -0.5338381975164044,
          -8.734776810820632,
          3.7314920780452243,
          -12.319266326141475,
          2.197559739480613,
          10.152836827326881,
          6.755376948518444,
          -9.586465186597865,
          14.907023740947823,
          -25.233027693438736,
          15.403476047590036,
          -4.876617336089731,
          17.96176966578222,
          -1.2744907236491398,
          9.513589322966531,
          3.592304863811193,
          19.128139131815328,
          -3.1224274917231956,
          -12.079279533628252,
          -28.479415276506938,
          -9.740280372529195,
          -6.512975054223409,
          -25.758853861748175,
          -18.589125929361757,
          -3.2866449614953193,
          4.274903348132696,
          10.09539259678233
         ]
        }
       ],
       "layout": {
        "legend": {
         "tracegroupgap": 0
        },
        "scene": {
         "domain": {
          "x": [
           0,
           1
          ],
          "y": [
           0,
           1
          ]
         },
         "xaxis": {
          "title": {
           "text": "PC 1"
          }
         },
         "yaxis": {
          "title": {
           "text": "PC 2"
          }
         },
         "zaxis": {
          "title": {
           "text": "PC 3"
          }
         }
        },
        "template": {
         "data": {
          "bar": [
           {
            "error_x": {
             "color": "#2a3f5f"
            },
            "error_y": {
             "color": "#2a3f5f"
            },
            "marker": {
             "line": {
              "color": "#E5ECF6",
              "width": 0.5
             },
             "pattern": {
              "fillmode": "overlay",
              "size": 10,
              "solidity": 0.2
             }
            },
            "type": "bar"
           }
          ],
          "barpolar": [
           {
            "marker": {
             "line": {
              "color": "#E5ECF6",
              "width": 0.5
             },
             "pattern": {
              "fillmode": "overlay",
              "size": 10,
              "solidity": 0.2
             }
            },
            "type": "barpolar"
           }
          ],
          "carpet": [
           {
            "aaxis": {
             "endlinecolor": "#2a3f5f",
             "gridcolor": "white",
             "linecolor": "white",
             "minorgridcolor": "white",
             "startlinecolor": "#2a3f5f"
            },
            "baxis": {
             "endlinecolor": "#2a3f5f",
             "gridcolor": "white",
             "linecolor": "white",
             "minorgridcolor": "white",
             "startlinecolor": "#2a3f5f"
            },
            "type": "carpet"
           }
          ],
          "choropleth": [
           {
            "colorbar": {
             "outlinewidth": 0,
             "ticks": ""
            },
            "type": "choropleth"
           }
          ],
          "contour": [
           {
            "colorbar": {
             "outlinewidth": 0,
             "ticks": ""
            },
            "colorscale": [
             [
              0,
              "#0d0887"
             ],
             [
              0.1111111111111111,
              "#46039f"
             ],
             [
              0.2222222222222222,
              "#7201a8"
             ],
             [
              0.3333333333333333,
              "#9c179e"
             ],
             [
              0.4444444444444444,
              "#bd3786"
             ],
             [
              0.5555555555555556,
              "#d8576b"
             ],
             [
              0.6666666666666666,
              "#ed7953"
             ],
             [
              0.7777777777777778,
              "#fb9f3a"
             ],
             [
              0.8888888888888888,
              "#fdca26"
             ],
             [
              1,
              "#f0f921"
             ]
            ],
            "type": "contour"
           }
          ],
          "contourcarpet": [
           {
            "colorbar": {
             "outlinewidth": 0,
             "ticks": ""
            },
            "type": "contourcarpet"
           }
          ],
          "heatmap": [
           {
            "colorbar": {
             "outlinewidth": 0,
             "ticks": ""
            },
            "colorscale": [
             [
              0,
              "#0d0887"
             ],
             [
              0.1111111111111111,
              "#46039f"
             ],
             [
              0.2222222222222222,
              "#7201a8"
             ],
             [
              0.3333333333333333,
              "#9c179e"
             ],
             [
              0.4444444444444444,
              "#bd3786"
             ],
             [
              0.5555555555555556,
              "#d8576b"
             ],
             [
              0.6666666666666666,
              "#ed7953"
             ],
             [
              0.7777777777777778,
              "#fb9f3a"
             ],
             [
              0.8888888888888888,
              "#fdca26"
             ],
             [
              1,
              "#f0f921"
             ]
            ],
            "type": "heatmap"
           }
          ],
          "heatmapgl": [
           {
            "colorbar": {
             "outlinewidth": 0,
             "ticks": ""
            },
            "colorscale": [
             [
              0,
              "#0d0887"
             ],
             [
              0.1111111111111111,
              "#46039f"
             ],
             [
              0.2222222222222222,
              "#7201a8"
             ],
             [
              0.3333333333333333,
              "#9c179e"
             ],
             [
              0.4444444444444444,
              "#bd3786"
             ],
             [
              0.5555555555555556,
              "#d8576b"
             ],
             [
              0.6666666666666666,
              "#ed7953"
             ],
             [
              0.7777777777777778,
              "#fb9f3a"
             ],
             [
              0.8888888888888888,
              "#fdca26"
             ],
             [
              1,
              "#f0f921"
             ]
            ],
            "type": "heatmapgl"
           }
          ],
          "histogram": [
           {
            "marker": {
             "pattern": {
              "fillmode": "overlay",
              "size": 10,
              "solidity": 0.2
             }
            },
            "type": "histogram"
           }
          ],
          "histogram2d": [
           {
            "colorbar": {
             "outlinewidth": 0,
             "ticks": ""
            },
            "colorscale": [
             [
              0,
              "#0d0887"
             ],
             [
              0.1111111111111111,
              "#46039f"
             ],
             [
              0.2222222222222222,
              "#7201a8"
             ],
             [
              0.3333333333333333,
              "#9c179e"
             ],
             [
              0.4444444444444444,
              "#bd3786"
             ],
             [
              0.5555555555555556,
              "#d8576b"
             ],
             [
              0.6666666666666666,
              "#ed7953"
             ],
             [
              0.7777777777777778,
              "#fb9f3a"
             ],
             [
              0.8888888888888888,
              "#fdca26"
             ],
             [
              1,
              "#f0f921"
             ]
            ],
            "type": "histogram2d"
           }
          ],
          "histogram2dcontour": [
           {
            "colorbar": {
             "outlinewidth": 0,
             "ticks": ""
            },
            "colorscale": [
             [
              0,
              "#0d0887"
             ],
             [
              0.1111111111111111,
              "#46039f"
             ],
             [
              0.2222222222222222,
              "#7201a8"
             ],
             [
              0.3333333333333333,
              "#9c179e"
             ],
             [
              0.4444444444444444,
              "#bd3786"
             ],
             [
              0.5555555555555556,
              "#d8576b"
             ],
             [
              0.6666666666666666,
              "#ed7953"
             ],
             [
              0.7777777777777778,
              "#fb9f3a"
             ],
             [
              0.8888888888888888,
              "#fdca26"
             ],
             [
              1,
              "#f0f921"
             ]
            ],
            "type": "histogram2dcontour"
           }
          ],
          "mesh3d": [
           {
            "colorbar": {
             "outlinewidth": 0,
             "ticks": ""
            },
            "type": "mesh3d"
           }
          ],
          "parcoords": [
           {
            "line": {
             "colorbar": {
              "outlinewidth": 0,
              "ticks": ""
             }
            },
            "type": "parcoords"
           }
          ],
          "pie": [
           {
            "automargin": true,
            "type": "pie"
           }
          ],
          "scatter": [
           {
            "marker": {
             "colorbar": {
              "outlinewidth": 0,
              "ticks": ""
             }
            },
            "type": "scatter"
           }
          ],
          "scatter3d": [
           {
            "line": {
             "colorbar": {
              "outlinewidth": 0,
              "ticks": ""
             }
            },
            "marker": {
             "colorbar": {
              "outlinewidth": 0,
              "ticks": ""
             }
            },
            "type": "scatter3d"
           }
          ],
          "scattercarpet": [
           {
            "marker": {
             "colorbar": {
              "outlinewidth": 0,
              "ticks": ""
             }
            },
            "type": "scattercarpet"
           }
          ],
          "scattergeo": [
           {
            "marker": {
             "colorbar": {
              "outlinewidth": 0,
              "ticks": ""
             }
            },
            "type": "scattergeo"
           }
          ],
          "scattergl": [
           {
            "marker": {
             "colorbar": {
              "outlinewidth": 0,
              "ticks": ""
             }
            },
            "type": "scattergl"
           }
          ],
          "scattermapbox": [
           {
            "marker": {
             "colorbar": {
              "outlinewidth": 0,
              "ticks": ""
             }
            },
            "type": "scattermapbox"
           }
          ],
          "scatterpolar": [
           {
            "marker": {
             "colorbar": {
              "outlinewidth": 0,
              "ticks": ""
             }
            },
            "type": "scatterpolar"
           }
          ],
          "scatterpolargl": [
           {
            "marker": {
             "colorbar": {
              "outlinewidth": 0,
              "ticks": ""
             }
            },
            "type": "scatterpolargl"
           }
          ],
          "scatterternary": [
           {
            "marker": {
             "colorbar": {
              "outlinewidth": 0,
              "ticks": ""
             }
            },
            "type": "scatterternary"
           }
          ],
          "surface": [
           {
            "colorbar": {
             "outlinewidth": 0,
             "ticks": ""
            },
            "colorscale": [
             [
              0,
              "#0d0887"
             ],
             [
              0.1111111111111111,
              "#46039f"
             ],
             [
              0.2222222222222222,
              "#7201a8"
             ],
             [
              0.3333333333333333,
              "#9c179e"
             ],
             [
              0.4444444444444444,
              "#bd3786"
             ],
             [
              0.5555555555555556,
              "#d8576b"
             ],
             [
              0.6666666666666666,
              "#ed7953"
             ],
             [
              0.7777777777777778,
              "#fb9f3a"
             ],
             [
              0.8888888888888888,
              "#fdca26"
             ],
             [
              1,
              "#f0f921"
             ]
            ],
            "type": "surface"
           }
          ],
          "table": [
           {
            "cells": {
             "fill": {
              "color": "#EBF0F8"
             },
             "line": {
              "color": "white"
             }
            },
            "header": {
             "fill": {
              "color": "#C8D4E3"
             },
             "line": {
              "color": "white"
             }
            },
            "type": "table"
           }
          ]
         },
         "layout": {
          "annotationdefaults": {
           "arrowcolor": "#2a3f5f",
           "arrowhead": 0,
           "arrowwidth": 1
          },
          "autotypenumbers": "strict",
          "coloraxis": {
           "colorbar": {
            "outlinewidth": 0,
            "ticks": ""
           }
          },
          "colorscale": {
           "diverging": [
            [
             0,
             "#8e0152"
            ],
            [
             0.1,
             "#c51b7d"
            ],
            [
             0.2,
             "#de77ae"
            ],
            [
             0.3,
             "#f1b6da"
            ],
            [
             0.4,
             "#fde0ef"
            ],
            [
             0.5,
             "#f7f7f7"
            ],
            [
             0.6,
             "#e6f5d0"
            ],
            [
             0.7,
             "#b8e186"
            ],
            [
             0.8,
             "#7fbc41"
            ],
            [
             0.9,
             "#4d9221"
            ],
            [
             1,
             "#276419"
            ]
           ],
           "sequential": [
            [
             0,
             "#0d0887"
            ],
            [
             0.1111111111111111,
             "#46039f"
            ],
            [
             0.2222222222222222,
             "#7201a8"
            ],
            [
             0.3333333333333333,
             "#9c179e"
            ],
            [
             0.4444444444444444,
             "#bd3786"
            ],
            [
             0.5555555555555556,
             "#d8576b"
            ],
            [
             0.6666666666666666,
             "#ed7953"
            ],
            [
             0.7777777777777778,
             "#fb9f3a"
            ],
            [
             0.8888888888888888,
             "#fdca26"
            ],
            [
             1,
             "#f0f921"
            ]
           ],
           "sequentialminus": [
            [
             0,
             "#0d0887"
            ],
            [
             0.1111111111111111,
             "#46039f"
            ],
            [
             0.2222222222222222,
             "#7201a8"
            ],
            [
             0.3333333333333333,
             "#9c179e"
            ],
            [
             0.4444444444444444,
             "#bd3786"
            ],
            [
             0.5555555555555556,
             "#d8576b"
            ],
            [
             0.6666666666666666,
             "#ed7953"
            ],
            [
             0.7777777777777778,
             "#fb9f3a"
            ],
            [
             0.8888888888888888,
             "#fdca26"
            ],
            [
             1,
             "#f0f921"
            ]
           ]
          },
          "colorway": [
           "#636efa",
           "#EF553B",
           "#00cc96",
           "#ab63fa",
           "#FFA15A",
           "#19d3f3",
           "#FF6692",
           "#B6E880",
           "#FF97FF",
           "#FECB52"
          ],
          "font": {
           "color": "#2a3f5f"
          },
          "geo": {
           "bgcolor": "white",
           "lakecolor": "white",
           "landcolor": "#E5ECF6",
           "showlakes": true,
           "showland": true,
           "subunitcolor": "white"
          },
          "hoverlabel": {
           "align": "left"
          },
          "hovermode": "closest",
          "mapbox": {
           "style": "light"
          },
          "paper_bgcolor": "white",
          "plot_bgcolor": "#E5ECF6",
          "polar": {
           "angularaxis": {
            "gridcolor": "white",
            "linecolor": "white",
            "ticks": ""
           },
           "bgcolor": "#E5ECF6",
           "radialaxis": {
            "gridcolor": "white",
            "linecolor": "white",
            "ticks": ""
           }
          },
          "scene": {
           "xaxis": {
            "backgroundcolor": "#E5ECF6",
            "gridcolor": "white",
            "gridwidth": 2,
            "linecolor": "white",
            "showbackground": true,
            "ticks": "",
            "zerolinecolor": "white"
           },
           "yaxis": {
            "backgroundcolor": "#E5ECF6",
            "gridcolor": "white",
            "gridwidth": 2,
            "linecolor": "white",
            "showbackground": true,
            "ticks": "",
            "zerolinecolor": "white"
           },
           "zaxis": {
            "backgroundcolor": "#E5ECF6",
            "gridcolor": "white",
            "gridwidth": 2,
            "linecolor": "white",
            "showbackground": true,
            "ticks": "",
            "zerolinecolor": "white"
           }
          },
          "shapedefaults": {
           "line": {
            "color": "#2a3f5f"
           }
          },
          "ternary": {
           "aaxis": {
            "gridcolor": "white",
            "linecolor": "white",
            "ticks": ""
           },
           "baxis": {
            "gridcolor": "white",
            "linecolor": "white",
            "ticks": ""
           },
           "bgcolor": "#E5ECF6",
           "caxis": {
            "gridcolor": "white",
            "linecolor": "white",
            "ticks": ""
           }
          },
          "title": {
           "x": 0.05
          },
          "xaxis": {
           "automargin": true,
           "gridcolor": "white",
           "linecolor": "white",
           "ticks": "",
           "title": {
            "standoff": 15
           },
           "zerolinecolor": "white",
           "zerolinewidth": 2
          },
          "yaxis": {
           "automargin": true,
           "gridcolor": "white",
           "linecolor": "white",
           "ticks": "",
           "title": {
            "standoff": 15
           },
           "zerolinecolor": "white",
           "zerolinewidth": 2
          }
         }
        },
        "title": {
         "text": "Total Explained Variance: 88.90%"
        }
       }
      },
      "text/html": [
       "<div>                            <div id=\"b96fe47e-feef-4fca-ba39-875ed4b234a3\" class=\"plotly-graph-div\" style=\"height:525px; width:100%;\"></div>            <script type=\"text/javascript\">                require([\"plotly\"], function(Plotly) {                    window.PLOTLYENV=window.PLOTLYENV || {};                                    if (document.getElementById(\"b96fe47e-feef-4fca-ba39-875ed4b234a3\")) {                    Plotly.newPlot(                        \"b96fe47e-feef-4fca-ba39-875ed4b234a3\",                        [{\"hovertemplate\":\"PC 1=%{x}<br>PC 2=%{y}<br>PC 3=%{z}<extra></extra>\",\"legendgroup\":\"\",\"marker\":{\"color\":\"#636efa\",\"symbol\":\"circle\"},\"mode\":\"markers\",\"name\":\"\",\"scene\":\"scene\",\"showlegend\":false,\"x\":[-15.029806837123173,-5.670080331447101,38.42848818105441,-10.478450955221742,-22.903259895474484,-18.21764450190195,-10.578673777584335,4.047643372746645,-25.810245454704223,-18.615760921613415,79.26497332385814,-9.667343520470103,5.400885775146784,33.31949510652299,-22.234878410052126,-3.806807645044202,11.813988704538165,37.092433486437656,-32.73752755370773,-13.78419380650099,-19.643075252088945,11.85970092882785,30.62663811894469,57.7334014806142,10.825552882311154,-22.636250303892776,102.96420176987401,0.13938958667674214,-27.620669789634057,13.187017452238747,90.33595604101917,5.134966404203411,-31.948196452679976,-13.035227506087907,-13.391160990083561,2.78667156339962,25.619430061423575,-6.405064715543609,15.295969668072237,12.653884942161344,-19.552908755065424,-15.399288797415036,19.6955491265772,-29.09630707003487,-19.230971489399113,12.50122722745751,14.306014851051906,-11.789276325980078,34.53251330686686,-4.529089040779719,4.698533550759434,-8.394898362606428,-10.223518000573113,-16.48095924438744,-17.139113616762174,29.955752231922755,-15.933509352055884,-5.553377899836766,-30.869656248366606,20.998954830729513,54.79801168119267,27.419976676566254,5.187018363839536,-24.98537099052893,15.853714442978646,25.75425286415938,33.74414823348956,-13.623843327686107,45.61990556453817,-2.658510528683847,-8.756155664518667,-30.795445192149455,14.776630357001807,-26.399687847968526,-27.388690038847695,-25.10389792995506,-5.403440160360021,-26.463992891827886,-5.2120095234293515,-7.55860216305571,1.3364482864979892,10.565594121146175,-23.949225687980896,-10.948477046515931,-17.978832440293207,0.43665841558200236,-0.9344870588237851,15.785949757844158,12.450019509114611,-23.259055570378138,-33.70862941499819,-29.996839367713857,14.110495293331146,-16.836951620538592,31.281746510767462,-11.87380930223784,11.78054379311728,-30.460790015933444,-1.486517397870577,-29.94404906783449,-26.11098862918171,20.450652823147283,-5.211711410265384,-22.761858940393232,-10.27938147264932,8.587035548433638,-2.090516552902248,6.34274202468977,-15.287302946996912,-17.130450481016805,9.055900088429517,-4.134699058157819,-7.765086900276047,-32.621152319530594,-16.29178647203999,40.262382147323976,-9.54992186768653,-13.987935265623163,-32.85033456175751,-4.013759234320073,-22.297814358408495,26.658328962856704,43.772778149161354,33.212787402097,-12.513636356165307,-19.246963889564036,-4.9607351573193075,71.58199880894446,-1.24437868132489,13.076396183713639,12.4218269735659,17.04365985585204,-25.958850663886192,55.456165480507444,-22.269133063320876,-6.060504437013462,-19.168371240626527,-16.787388026113994,-9.946388370491778,27.101566735497734,9.638704775813347,60.287751729726104,-31.411857415015785,25.405795421755023,-16.907783374069357,-15.275412185747209,37.0381609813605,-2.574098043375984,-5.45484760885154,-14.782417017814483,17.73114621798981,-17.831252578038168,-11.740309681570139,23.831362966975245,-16.857523319734707,-11.871356367653101,20.747456633363534,-17.429842820168954,-13.91703079370099,14.318351725446202,4.638129744095112,-15.351004485423058,-25.308943846545777,10.460757722592524,28.148983584176516,-5.542454656832509,16.01238822667381,8.377400830808934,2.037991136621379,-7.576335478983865,-27.39307886079921,6.39752977563464,-31.923603900285787,-15.819190072842503,-35.87455654365615,16.847051003287646,-22.736457318231306,50.02460409347791,-5.631891703701173,39.18074452440144,-5.410250583195085,-27.97369212334568,-8.054515934181335,-36.49705903142955,74.07721526606643,-21.32904525731639,-1.921094169558752,-10.434012883289732,-21.01625009045823,13.035273467666444,-0.5836831778005933,-13.030799752652724,3.914572900265037,32.99520569966603,-2.6058723261668075,-12.481164291380464,-0.32362370166400967,9.652377618653711,-13.30532926485822,-25.86227425241404,32.93350303708088,36.18427901615573,7.751464515255611,-18.454598461697366,-28.39646286638071,13.044107651450238,7.195698392645927,-13.581572495300769,-10.98509372726874,9.622273998506726,1.5235338418667874,-3.9560126113458813,-15.690929391340777,13.135614310436178,6.1827756319805225,12.88571303957412,-23.566406415117523,-12.295958785513328,-28.993313094184302,-16.666581608983538,6.6932482594448395,-5.498397984322308,28.289586864049966,-13.145837661558488,-17.42743952694463,-12.806764033805399,-14.53792474805866,-8.041638369352698,-15.713041753941788,28.700670822525243,51.819211286990246,-26.120023938570466,-18.406762126747566,-25.16900090833358,-11.536604482470256,6.287883140553134,-2.750444459730165,46.184129609920966,-20.4239723405615,-20.958528198970985,2.290381728830692,-18.026605976282465,16.29601547147704,-8.993266047938677,7.571867737259958,-4.489946029608631,5.371554214463765,-9.241087410036297,-13.179781244273565,33.89945428056399,-12.076541285028819,-23.204476448471617,97.19175727760302,100.6719885633218,-15.111086447290639,-32.52285728718299,-6.085528969619417,-22.933943236424724,-19.489551023128374,-9.576383166679413,-15.047636025809377,-2.3394979889653347,-35.02305196303416,-10.94966888931729,74.73988450285474,3.985343938078602,-24.988690661454573,-7.036740480004465,-3.477052822466567,-2.6009866696604425,-24.738111246104083,-11.229026875674595,-32.20682233205832,30.325953140040703,-6.219403167595849,16.702824705371192,-14.266323186973828,21.952929410449784,-0.5765361701286069,16.24856603498216,-12.310924709988157,-24.255899096066404,14.464128410032965,-5.972015854367443,-2.433639740540135,-10.80505752379582,-8.431845211024251,-27.42896966478965,-4.733971462367281,9.671334670458696,-7.486725993722428,-18.476727666675394,9.44060400423849,-2.9143640309280228,-16.164554385246433,2.160773502510694,64.02519900861775,50.61768604816415,-8.813846307906019,-3.7439885385065983,45.52379451120097,-29.514778420220768,8.703139919315188,-12.654363588071744,-32.37754439220348,-4.958804997038981,-23.78080327372726,-23.75184934613762,-11.444963401625616,10.968077261640106,5.867089007041086,3.9588156097016305,-21.906754708231084,-10.34873130952005,11.106860217553137,-6.2349011180437195,9.000547737157296,6.557373662600135,65.76184866237242,-17.627558771758885,37.32650245400722,-11.477733329762872,18.74118404032859],\"y\":[4.519952918212943,-19.641675228236988,-8.00255985678031,29.689911965898766,4.859184209418621,13.396640044113347,2.194374820112029,1.38019683629866,7.472504032684127,16.99455400064855,2.5341386816252607,-8.71117181523819,-33.966284945781766,53.43655087878848,2.868693061005681,18.663656407140472,0.29692726131127506,31.746315814377432,16.58018852520372,-9.281113013130385,16.62618557760284,17.008157123679045,-70.48658635032449,-5.726504196990862,-36.028170220029416,2.4052012728679353,-16.49305791920067,-28.68492068528247,13.85797048835594,12.657613508881228,31.759808177539487,0.02112449690681265,19.55747155360705,15.970967921644563,-9.026967391755269,-17.59473337467017,-22.53838599384807,-17.675466566239017,-35.79921405102369,24.737020453011652,-1.17106582719728,12.065173484960221,-55.637125233895894,12.822158379039518,15.174339678528197,37.83462278798547,2.0588381565737413,7.321217134911218,37.66609667438352,-21.548900960168325,-33.047854549307814,-8.710755587704371,-0.2525149553998416,-3.2278895780229577,-4.455061737487522,7.045616655835957,-6.234651673742629,-20.269336248854117,16.46510068877891,-9.378616636392842,-41.80920199384416,-34.363288498510435,-29.49615358065911,10.02411188777246,16.122793077741072,-31.017791312333287,23.828919373579076,-8.4595108595595,32.977475167335896,-6.035278254705196,6.352396835225935,13.36936488936616,7.394738323709241,7.414218627098567,9.563081232125011,6.710207154577373,-22.99500431414929,8.873481192470727,26.429069388498938,-15.030656843311965,1.0234729559652014,3.911790623496024,11.874390957381962,-8.786274864911427,10.157460472166656,2.661974082277751,-15.213620754770638,30.30609773656476,3.7952225359801535,2.697496596836487,17.846201120094094,12.086100887126513,7.598168533533862,-5.473606981356799,-38.08223951476926,-11.383476750615134,-31.357896771379323,13.793311952067127,15.272241838801229,13.296144185183051,7.810513823456443,20.585125951581524,16.27950013444881,2.3664374919552347,-14.046749121181488,-18.392500697634514,16.87587535881387,-37.30221546759368,6.7063103849384404,7.637828709721014,-35.78754434682715,2.247923774218202,5.36250061253347,16.251952030313312,4.925409040170855,-10.702018385450296,-4.107214719564083,22.482556482610697,16.606465746629784,-19.971936538949265,2.6938333067221873,-22.546038132412452,25.313486329041286,-61.03936004794566,-9.87285607196153,29.18995072624644,-17.631233230549633,-30.810788607795427,-16.404913473503793,22.92960949834923,12.316337753735338,-5.583711626763283,7.91754633842229,-47.139611624831815,1.3277638800247413,18.943681170972248,4.141938803711218,-1.9185044994862757,-9.575401918657686,34.348303828080084,19.55197862160529,21.564799358335556,19.520325243182224,10.90679999468472,-1.4216039743625488,14.102112473705445,-14.46340141454725,1.5980506642018593,-6.860444661416688,5.303067622145893,-9.97052589816613,3.902169725918009,-9.322518142871427,50.43278722059892,-3.4634854388188696,2.1855542329273265,-19.54281467949461,2.613682308219497,-6.848105939740336,-16.1824602344009,-33.63894635701984,16.645403815562865,10.080416815881355,-38.88954148070756,13.55278339449736,-4.215796521324097,-49.05550509297578,-25.437826655029216,-31.376011436104708,-12.244086933931552,9.010009893849665,3.7547187106807316,15.765383997169831,-6.715929974059492,22.420726960311747,-46.57125967437056,3.695493590434211,-5.242318862814861,-20.363249272613768,23.6204431792618,-14.597757746939724,14.19462731069793,-16.654941194278052,26.03243129946187,27.01265928367926,2.7573622283123522,-12.417895626506429,15.82769792911153,0.7024867652689609,-39.38548183607803,-1.325745429113729,-10.363075633346861,-14.032383365132716,-0.08907440526705213,-6.767949691590836,-6.234356103346149,-3.066666395661229,0.5768702340176246,-4.798675919527442,7.603928805537085,0.04991896233915009,27.906277260211212,-28.273623507887404,-1.7208925001850854,10.19254201146676,-4.685443734247392,21.24024445582363,-8.866026133675142,12.503520847398002,-42.25977782887549,7.451436358995784,-4.465509402772319,-2.5883903477933257,-8.7813705299691,-29.85819517547187,-22.19654281735411,6.0967313806492855,-9.900671363795368,14.68911578689625,-5.355610833609584,-14.66508180507001,-19.944129203685517,-0.31864591578785556,9.247284367244655,-3.8661367522862897,6.295080894456651,-7.532797863031232,-0.07741896797905269,28.131972048636595,-26.261796133670355,6.400071278798181,12.76349678431322,2.2655205940331036,6.434955217615333,-11.448944363383589,3.566772875721683,-20.601366979260774,-0.6099133885973699,28.787603838895546,2.8716048545442776,-31.71295319842056,0.40100698894635994,-3.8986184975840423,-10.232973336110872,-23.36363287574858,0.8204581679718094,-27.183622911877105,-16.006541464655015,-8.620489507831389,-11.846756608907556,-11.459624069679055,9.890523087401325,88.59514361044413,80.99505530765697,-6.889214849162873,16.90226532800663,0.03335656834027469,3.014585907597274,2.012784036719096,-7.217029585538574,19.732944903804825,-17.93692697902473,19.06663848578762,-12.505645188268186,-9.417078494498082,12.27522538499886,9.183682453242449,-18.074578535619004,-9.291415209607276,-21.04940640399774,5.158988407668915,-12.700112127377585,21.15830405240166,-21.047920897468344,9.132614049933665,-11.26103328467046,-8.048638839756464,7.715361853549231,-0.46721515749067977,-28.454400515880824,-0.7617746915633447,5.854147246137194,-14.721091424123005,14.464058634041974,8.036202104498523,2.178235040580128,-6.076034062752348,9.383879683233104,23.39229751964931,-0.723609897397016,18.46233546898602,3.9894233812595914,28.408226208814888,3.698546830605911,12.915715069491014,-5.6777428648828625,36.933693670590415,55.613153423088356,-15.04231867297185,-22.89110256317653,53.6865157718939,11.547820787317724,-31.51022391926181,-6.707420485466096,16.42856653651078,0.777426995799056,11.663701697096148,10.654732157850287,-9.521411811297185,-44.27316313540514,10.887743769823125,-1.6063095805650434,3.914488355487355,7.315564289543553,-0.6984807044925024,18.31004321746572,-15.241439551373126,-11.850515153888965,68.59596837118245,-3.364945070759448,-15.560058452964757,-8.015739068211314,29.334912794039244],\"z\":[16.88098403004423,2.7409780500515124,2.3396088743999677,3.7894148465543163,5.40880456084412,8.463715042258881,-13.999337589327677,5.094029672746389,3.732109471841184,14.045618015188884,27.63836350774106,17.250420723533395,-9.313507017085504,12.996185584505863,9.790988678510523,-9.575297481058497,0.8589647930052677,-4.4426931600277,15.310413852890692,-3.4338194283263856,-14.695962755529665,-20.240531467947516,24.866998618337398,6.6067618403819255,14.52413922484542,21.61735120355974,33.62830050219038,-11.324239630827357,16.637371934305342,19.91127055348154,-6.378260792169878,-1.0305761625983223,-12.930301959339486,-19.793832285171696,-25.9171249693939,-12.020432973983691,2.4614005488679407,-1.8051027533454163,-1.4560969980473608,13.85806299328906,5.763978466389556,15.253988865415186,14.040413850925047,-4.559282744771281,12.32584133695896,7.905821453997036,-18.964474477384243,2.0335801536972875,10.043792756399197,-1.848617302728028,-7.053572812786902,7.404178255181092,17.296159842519895,-11.722909316965106,-8.992138617510474,-3.90122358220275,26.314434393815684,-10.762556704147745,9.489345161704172,1.4176626393216445,11.563064209824786,12.253904101002504,-2.0908886634824104,-12.484603866226744,14.846903954901503,6.418992232185892,-7.835752939968724,-13.20361190908851,8.731720120419128,-13.077625867030191,1.1790267561303485,13.239655814556999,-19.826807044183713,20.13116937536672,8.624171950040948,-13.611651675169572,4.978363700919397,16.59355568661028,-9.626758117782453,-13.628719390993066,-11.491213501495553,-13.636746745715195,0.8422618926521873,-1.5269356869482924,-8.104330752145346,-0.03326532796621379,-14.650950448237705,6.831038990538433,-14.20475822842717,18.75586753066191,11.130333627224896,14.71962518375392,16.63326823732816,-22.36475378329535,-0.7001637177297289,-19.73488159790275,0.6325105321320728,13.39013854564926,3.116008620571546,-7.012474797589837,-23.404676287442147,5.956063487615538,-27.04533759491325,25.290387127993554,-17.618828409642106,9.371577296152171,20.56043792411603,-3.2771487856248327,-3.483374321290026,-20.814866775505543,0.7989622370095618,-12.49926808497096,7.239117636732217,14.935054389791853,22.851746176958255,1.193857091600034,-16.672525639989203,0.9791345260175575,15.359040863699304,7.753854551934435,5.787651846531814,13.961498631377616,-3.5004220570887945,20.9043698583548,-12.901899218959171,-3.6974377273151817,-19.743963845206295,20.485096573122192,-9.614309501918502,3.1449134578731806,-22.937655736185967,5.1411007064372996,4.346330980552268,18.874769242364806,23.377435338031653,11.718954242264541,8.32278437267893,5.396032659721675,-7.4957186405039815,-2.6978143807246533,-6.200023312870548,-5.605742868781622,10.763308494190312,5.4456013352190045,-2.9540181346553025,-0.9720765225350212,6.057285755189957,14.6186128921775,19.953782207264204,21.415453623822604,-3.8407569368376224,18.405062188479032,-21.63822353791617,-1.1551912312898691,-8.227594744755471,-9.266566176036106,-7.827843342842526,-10.513773773450394,0.3569703383051458,11.085793633712955,-7.480726380947619,6.338273390364291,18.65495078345759,-0.6351999493631574,-5.086615080169856,3.564492875504631,0.644816694090586,4.447997373522816,-6.192788871920108,-2.012834139332334,19.384885642036476,-4.807788393001376,-10.282733746237088,-20.6047423925434,6.855194109499938,-1.2108962228417006,-11.534608702954635,-1.7289304394342229,-11.35448004101021,-10.070785903096219,32.62093380491219,-0.2320314649316902,-11.276654238842113,3.0502470960344166,3.8294282540545908,9.181676397423402,-7.322864211278053,15.67028878938639,-2.586554337061736,6.671848044974872,-13.891683734277855,-1.872984043388495,-19.13869184487892,12.18067415854607,8.776684684493668,11.270138077626484,-8.8021340158322,7.566539945081468,6.898449627101386,23.54175223321995,-1.9584521293818142,-20.32466844108447,0.19778228393387678,-8.278815090207859,14.405138468392625,-11.008980624499053,-13.488017741200975,-19.064990839523965,12.585350387381274,2.105486684968688,12.404356748626604,29.301049726033284,4.253206683895789,-11.616656783879098,-2.948390928500451,-0.20263572170939728,-19.853393595697764,2.504078916272581,9.565775136608542,-19.66583257887875,-15.037154920780505,-10.164316403042031,3.659428725973555,1.4670581507792655,-19.809387197387007,2.037735717281484,-23.4624277953985,-19.553169942545015,2.6347843600077265,-1.0013611295957214,4.48793737961754,3.6844988501416074,16.623360893801205,2.157760815894338,-24.306917483416594,-9.115705553783268,-14.419676574618437,-7.228373680854878,12.368544211950068,20.75887208046192,0.355387942397192,-9.129199569710217,13.622172531026372,-8.701493874826095,-15.125764856716158,-10.544873230067987,-14.514009522543551,14.737718287760234,-22.561392036232082,1.6838763034976316,-19.361023282281206,24.025719959500204,-1.7386511435394967,0.5597917227204776,-6.9075729261603716,15.642313728802511,-6.316834748844849,-4.856822870792754,22.07896647043815,-3.6506709799410544,2.1822096067263748,5.567224437194191,13.10793868142735,-12.920386217823815,16.15353165299505,-10.311754302450934,21.118842595999862,17.04917878027819,6.342399202479005,-6.724278868910664,7.990543350278848,-14.485733322079566,9.746802367290275,-3.689236626961795,-16.311873232071566,-9.001320803494545,-9.535424942940201,-18.856509485943384,-11.818150865529491,-0.17770368335047426,-4.931535653091315,-19.724075210010366,16.776582489834663,-1.538065730949047,-18.086868681424413,1.8004139084913253,7.903646591752918,19.877685156402915,-22.982435992752258,-14.28408969326988,-6.839552477832642,-15.509238183656317,-16.89498373660373,-11.907207303550885,-5.041067921689118,-14.234180655161452,-0.5338381975164044,-8.734776810820632,3.7314920780452243,-12.319266326141475,2.197559739480613,10.152836827326881,6.755376948518444,-9.586465186597865,14.907023740947823,-25.233027693438736,15.403476047590036,-4.876617336089731,17.96176966578222,-1.2744907236491398,9.513589322966531,3.592304863811193,19.128139131815328,-3.1224274917231956,-12.079279533628252,-28.479415276506938,-9.740280372529195,-6.512975054223409,-25.758853861748175,-18.589125929361757,-3.2866449614953193,4.274903348132696,10.09539259678233],\"type\":\"scatter3d\"}],                        {\"template\":{\"data\":{\"bar\":[{\"error_x\":{\"color\":\"#2a3f5f\"},\"error_y\":{\"color\":\"#2a3f5f\"},\"marker\":{\"line\":{\"color\":\"#E5ECF6\",\"width\":0.5},\"pattern\":{\"fillmode\":\"overlay\",\"size\":10,\"solidity\":0.2}},\"type\":\"bar\"}],\"barpolar\":[{\"marker\":{\"line\":{\"color\":\"#E5ECF6\",\"width\":0.5},\"pattern\":{\"fillmode\":\"overlay\",\"size\":10,\"solidity\":0.2}},\"type\":\"barpolar\"}],\"carpet\":[{\"aaxis\":{\"endlinecolor\":\"#2a3f5f\",\"gridcolor\":\"white\",\"linecolor\":\"white\",\"minorgridcolor\":\"white\",\"startlinecolor\":\"#2a3f5f\"},\"baxis\":{\"endlinecolor\":\"#2a3f5f\",\"gridcolor\":\"white\",\"linecolor\":\"white\",\"minorgridcolor\":\"white\",\"startlinecolor\":\"#2a3f5f\"},\"type\":\"carpet\"}],\"choropleth\":[{\"colorbar\":{\"outlinewidth\":0,\"ticks\":\"\"},\"type\":\"choropleth\"}],\"contour\":[{\"colorbar\":{\"outlinewidth\":0,\"ticks\":\"\"},\"colorscale\":[[0.0,\"#0d0887\"],[0.1111111111111111,\"#46039f\"],[0.2222222222222222,\"#7201a8\"],[0.3333333333333333,\"#9c179e\"],[0.4444444444444444,\"#bd3786\"],[0.5555555555555556,\"#d8576b\"],[0.6666666666666666,\"#ed7953\"],[0.7777777777777778,\"#fb9f3a\"],[0.8888888888888888,\"#fdca26\"],[1.0,\"#f0f921\"]],\"type\":\"contour\"}],\"contourcarpet\":[{\"colorbar\":{\"outlinewidth\":0,\"ticks\":\"\"},\"type\":\"contourcarpet\"}],\"heatmap\":[{\"colorbar\":{\"outlinewidth\":0,\"ticks\":\"\"},\"colorscale\":[[0.0,\"#0d0887\"],[0.1111111111111111,\"#46039f\"],[0.2222222222222222,\"#7201a8\"],[0.3333333333333333,\"#9c179e\"],[0.4444444444444444,\"#bd3786\"],[0.5555555555555556,\"#d8576b\"],[0.6666666666666666,\"#ed7953\"],[0.7777777777777778,\"#fb9f3a\"],[0.8888888888888888,\"#fdca26\"],[1.0,\"#f0f921\"]],\"type\":\"heatmap\"}],\"heatmapgl\":[{\"colorbar\":{\"outlinewidth\":0,\"ticks\":\"\"},\"colorscale\":[[0.0,\"#0d0887\"],[0.1111111111111111,\"#46039f\"],[0.2222222222222222,\"#7201a8\"],[0.3333333333333333,\"#9c179e\"],[0.4444444444444444,\"#bd3786\"],[0.5555555555555556,\"#d8576b\"],[0.6666666666666666,\"#ed7953\"],[0.7777777777777778,\"#fb9f3a\"],[0.8888888888888888,\"#fdca26\"],[1.0,\"#f0f921\"]],\"type\":\"heatmapgl\"}],\"histogram\":[{\"marker\":{\"pattern\":{\"fillmode\":\"overlay\",\"size\":10,\"solidity\":0.2}},\"type\":\"histogram\"}],\"histogram2d\":[{\"colorbar\":{\"outlinewidth\":0,\"ticks\":\"\"},\"colorscale\":[[0.0,\"#0d0887\"],[0.1111111111111111,\"#46039f\"],[0.2222222222222222,\"#7201a8\"],[0.3333333333333333,\"#9c179e\"],[0.4444444444444444,\"#bd3786\"],[0.5555555555555556,\"#d8576b\"],[0.6666666666666666,\"#ed7953\"],[0.7777777777777778,\"#fb9f3a\"],[0.8888888888888888,\"#fdca26\"],[1.0,\"#f0f921\"]],\"type\":\"histogram2d\"}],\"histogram2dcontour\":[{\"colorbar\":{\"outlinewidth\":0,\"ticks\":\"\"},\"colorscale\":[[0.0,\"#0d0887\"],[0.1111111111111111,\"#46039f\"],[0.2222222222222222,\"#7201a8\"],[0.3333333333333333,\"#9c179e\"],[0.4444444444444444,\"#bd3786\"],[0.5555555555555556,\"#d8576b\"],[0.6666666666666666,\"#ed7953\"],[0.7777777777777778,\"#fb9f3a\"],[0.8888888888888888,\"#fdca26\"],[1.0,\"#f0f921\"]],\"type\":\"histogram2dcontour\"}],\"mesh3d\":[{\"colorbar\":{\"outlinewidth\":0,\"ticks\":\"\"},\"type\":\"mesh3d\"}],\"parcoords\":[{\"line\":{\"colorbar\":{\"outlinewidth\":0,\"ticks\":\"\"}},\"type\":\"parcoords\"}],\"pie\":[{\"automargin\":true,\"type\":\"pie\"}],\"scatter\":[{\"marker\":{\"colorbar\":{\"outlinewidth\":0,\"ticks\":\"\"}},\"type\":\"scatter\"}],\"scatter3d\":[{\"line\":{\"colorbar\":{\"outlinewidth\":0,\"ticks\":\"\"}},\"marker\":{\"colorbar\":{\"outlinewidth\":0,\"ticks\":\"\"}},\"type\":\"scatter3d\"}],\"scattercarpet\":[{\"marker\":{\"colorbar\":{\"outlinewidth\":0,\"ticks\":\"\"}},\"type\":\"scattercarpet\"}],\"scattergeo\":[{\"marker\":{\"colorbar\":{\"outlinewidth\":0,\"ticks\":\"\"}},\"type\":\"scattergeo\"}],\"scattergl\":[{\"marker\":{\"colorbar\":{\"outlinewidth\":0,\"ticks\":\"\"}},\"type\":\"scattergl\"}],\"scattermapbox\":[{\"marker\":{\"colorbar\":{\"outlinewidth\":0,\"ticks\":\"\"}},\"type\":\"scattermapbox\"}],\"scatterpolar\":[{\"marker\":{\"colorbar\":{\"outlinewidth\":0,\"ticks\":\"\"}},\"type\":\"scatterpolar\"}],\"scatterpolargl\":[{\"marker\":{\"colorbar\":{\"outlinewidth\":0,\"ticks\":\"\"}},\"type\":\"scatterpolargl\"}],\"scatterternary\":[{\"marker\":{\"colorbar\":{\"outlinewidth\":0,\"ticks\":\"\"}},\"type\":\"scatterternary\"}],\"surface\":[{\"colorbar\":{\"outlinewidth\":0,\"ticks\":\"\"},\"colorscale\":[[0.0,\"#0d0887\"],[0.1111111111111111,\"#46039f\"],[0.2222222222222222,\"#7201a8\"],[0.3333333333333333,\"#9c179e\"],[0.4444444444444444,\"#bd3786\"],[0.5555555555555556,\"#d8576b\"],[0.6666666666666666,\"#ed7953\"],[0.7777777777777778,\"#fb9f3a\"],[0.8888888888888888,\"#fdca26\"],[1.0,\"#f0f921\"]],\"type\":\"surface\"}],\"table\":[{\"cells\":{\"fill\":{\"color\":\"#EBF0F8\"},\"line\":{\"color\":\"white\"}},\"header\":{\"fill\":{\"color\":\"#C8D4E3\"},\"line\":{\"color\":\"white\"}},\"type\":\"table\"}]},\"layout\":{\"annotationdefaults\":{\"arrowcolor\":\"#2a3f5f\",\"arrowhead\":0,\"arrowwidth\":1},\"autotypenumbers\":\"strict\",\"coloraxis\":{\"colorbar\":{\"outlinewidth\":0,\"ticks\":\"\"}},\"colorscale\":{\"diverging\":[[0,\"#8e0152\"],[0.1,\"#c51b7d\"],[0.2,\"#de77ae\"],[0.3,\"#f1b6da\"],[0.4,\"#fde0ef\"],[0.5,\"#f7f7f7\"],[0.6,\"#e6f5d0\"],[0.7,\"#b8e186\"],[0.8,\"#7fbc41\"],[0.9,\"#4d9221\"],[1,\"#276419\"]],\"sequential\":[[0.0,\"#0d0887\"],[0.1111111111111111,\"#46039f\"],[0.2222222222222222,\"#7201a8\"],[0.3333333333333333,\"#9c179e\"],[0.4444444444444444,\"#bd3786\"],[0.5555555555555556,\"#d8576b\"],[0.6666666666666666,\"#ed7953\"],[0.7777777777777778,\"#fb9f3a\"],[0.8888888888888888,\"#fdca26\"],[1.0,\"#f0f921\"]],\"sequentialminus\":[[0.0,\"#0d0887\"],[0.1111111111111111,\"#46039f\"],[0.2222222222222222,\"#7201a8\"],[0.3333333333333333,\"#9c179e\"],[0.4444444444444444,\"#bd3786\"],[0.5555555555555556,\"#d8576b\"],[0.6666666666666666,\"#ed7953\"],[0.7777777777777778,\"#fb9f3a\"],[0.8888888888888888,\"#fdca26\"],[1.0,\"#f0f921\"]]},\"colorway\":[\"#636efa\",\"#EF553B\",\"#00cc96\",\"#ab63fa\",\"#FFA15A\",\"#19d3f3\",\"#FF6692\",\"#B6E880\",\"#FF97FF\",\"#FECB52\"],\"font\":{\"color\":\"#2a3f5f\"},\"geo\":{\"bgcolor\":\"white\",\"lakecolor\":\"white\",\"landcolor\":\"#E5ECF6\",\"showlakes\":true,\"showland\":true,\"subunitcolor\":\"white\"},\"hoverlabel\":{\"align\":\"left\"},\"hovermode\":\"closest\",\"mapbox\":{\"style\":\"light\"},\"paper_bgcolor\":\"white\",\"plot_bgcolor\":\"#E5ECF6\",\"polar\":{\"angularaxis\":{\"gridcolor\":\"white\",\"linecolor\":\"white\",\"ticks\":\"\"},\"bgcolor\":\"#E5ECF6\",\"radialaxis\":{\"gridcolor\":\"white\",\"linecolor\":\"white\",\"ticks\":\"\"}},\"scene\":{\"xaxis\":{\"backgroundcolor\":\"#E5ECF6\",\"gridcolor\":\"white\",\"gridwidth\":2,\"linecolor\":\"white\",\"showbackground\":true,\"ticks\":\"\",\"zerolinecolor\":\"white\"},\"yaxis\":{\"backgroundcolor\":\"#E5ECF6\",\"gridcolor\":\"white\",\"gridwidth\":2,\"linecolor\":\"white\",\"showbackground\":true,\"ticks\":\"\",\"zerolinecolor\":\"white\"},\"zaxis\":{\"backgroundcolor\":\"#E5ECF6\",\"gridcolor\":\"white\",\"gridwidth\":2,\"linecolor\":\"white\",\"showbackground\":true,\"ticks\":\"\",\"zerolinecolor\":\"white\"}},\"shapedefaults\":{\"line\":{\"color\":\"#2a3f5f\"}},\"ternary\":{\"aaxis\":{\"gridcolor\":\"white\",\"linecolor\":\"white\",\"ticks\":\"\"},\"baxis\":{\"gridcolor\":\"white\",\"linecolor\":\"white\",\"ticks\":\"\"},\"bgcolor\":\"#E5ECF6\",\"caxis\":{\"gridcolor\":\"white\",\"linecolor\":\"white\",\"ticks\":\"\"}},\"title\":{\"x\":0.05},\"xaxis\":{\"automargin\":true,\"gridcolor\":\"white\",\"linecolor\":\"white\",\"ticks\":\"\",\"title\":{\"standoff\":15},\"zerolinecolor\":\"white\",\"zerolinewidth\":2},\"yaxis\":{\"automargin\":true,\"gridcolor\":\"white\",\"linecolor\":\"white\",\"ticks\":\"\",\"title\":{\"standoff\":15},\"zerolinecolor\":\"white\",\"zerolinewidth\":2}}},\"scene\":{\"domain\":{\"x\":[0.0,1.0],\"y\":[0.0,1.0]},\"xaxis\":{\"title\":{\"text\":\"PC 1\"}},\"yaxis\":{\"title\":{\"text\":\"PC 2\"}},\"zaxis\":{\"title\":{\"text\":\"PC 3\"}}},\"legend\":{\"tracegroupgap\":0},\"title\":{\"text\":\"Total Explained Variance: 88.90%\"}},                        {\"responsive\": true}                    ).then(function(){\n",
       "                            \n",
       "var gd = document.getElementById('b96fe47e-feef-4fca-ba39-875ed4b234a3');\n",
       "var x = new MutationObserver(function (mutations, observer) {{\n",
       "        var display = window.getComputedStyle(gd).display;\n",
       "        if (!display || display === 'none') {{\n",
       "            console.log([gd, 'removed!']);\n",
       "            Plotly.purge(gd);\n",
       "            observer.disconnect();\n",
       "        }}\n",
       "}});\n",
       "\n",
       "// Listen for the removal of the full notebook cells\n",
       "var notebookContainer = gd.closest('#notebook-container');\n",
       "if (notebookContainer) {{\n",
       "    x.observe(notebookContainer, {childList: true});\n",
       "}}\n",
       "\n",
       "// Listen for the clearing of the current output cell\n",
       "var outputEl = gd.closest('.output');\n",
       "if (outputEl) {{\n",
       "    x.observe(outputEl, {childList: true});\n",
       "}}\n",
       "\n",
       "                        })                };                });            </script>        </div>"
      ]
     },
     "metadata": {},
     "output_type": "display_data"
    }
   ],
   "source": [
    "import plotly.express as px\n",
    "\n",
    "pca = PCA(n_components=3)\n",
    "components = pca.fit_transform(df)\n",
    "\n",
    "total_var = pca.explained_variance_ratio_.sum() * 100\n",
    "\n",
    "fig = px.scatter_3d(\n",
    "    components, x=0, y=1, z=2, \n",
    "    title=f'Total Explained Variance: {total_var:.2f}%',\n",
    "    labels={'0': 'PC 1', '1': 'PC 2', '2': 'PC 3'}\n",
    ")\n",
    "fig.show()"
   ]
  },
  {
   "cell_type": "code",
   "execution_count": 29,
   "metadata": {},
   "outputs": [
    {
     "data": {
      "image/png": "[encoded data removed]",
      "text/plain": [
       "<Figure size 540x540 with 12 Axes>"
      ]
     },
     "metadata": {
      "needs_background": "light"
     },
     "output_type": "display_data"
    }
   ],
   "source": [
    "grid = sns.PairGrid(pd.DataFrame(components))\n",
    "grid = grid.map_upper(sns.kdeplot, fill=True, thresh=0.05)\n",
    "grid = grid.map_diag(sns.histplot)\n",
    "grid = grid.map_lower(sns.scatterplot)\n",
    "grid.fig.tight_layout()\n",
    "plt.subplots_adjust(top=0.9)\n",
    "plt.show()"
   ]
  },
  {
   "cell_type": "markdown",
   "metadata": {},
   "source": [
    "Standaryzacja zmiennych"
   ]
  },
  {
   "cell_type": "code",
   "execution_count": 30,
   "metadata": {},
   "outputs": [],
   "source": [
    "from sklearn.preprocessing import StandardScaler"
   ]
  },
  {
   "cell_type": "code",
   "execution_count": 31,
   "metadata": {},
   "outputs": [],
   "source": [
    "scaler = StandardScaler()\n",
    "df1 = scaler.fit_transform(df)"
   ]
  },
  {
   "cell_type": "code",
   "execution_count": 32,
   "metadata": {},
   "outputs": [],
   "source": [
    "df1 = pd.DataFrame(df1, columns = df.columns)"
   ]
  },
  {
   "cell_type": "markdown",
   "metadata": {},
   "source": [
    "Biplot:"
   ]
  },
  {
   "cell_type": "markdown",
   "metadata": {},
   "source": [
    "Bez standaryzacji:"
   ]
  },
  {
   "cell_type": "code",
   "execution_count": 33,
   "metadata": {},
   "outputs": [
    {
     "data": {
      "application/vnd.plotly.v1+json": {
       "config": {
        "plotlyServerURL": "https://plot.ly"
       },
       "data": [
        {
         "hovertemplate": "0=%{x}<br>1=%{y}<extra></extra>",
         "legendgroup": "",
         "marker": {
          "color": "#636efa",
          "symbol": "circle"
         },
         "mode": "markers",
         "name": "",
         "orientation": "v",
         "showlegend": false,
         "type": "scatter",
         "x": [
          -2.1554095740661325,
          -0.8131405522750161,
          5.510991075264282,
          -1.5027041767750604,
          -3.2845336065196977,
          -2.6125741868714942,
          -1.517077031543007,
          0.5804684898860188,
          -3.701421499620198,
          -2.669667664647904,
          11.367310587675005,
          -1.3863840703754404,
          0.7745356300545222,
          4.778315485616426,
          -3.188681685838351,
          -0.5459304789260331,
          1.6942323103431658,
          5.3193888070874165,
          -4.694856100627154,
          -1.9767774545133254,
          -2.8169937858335126,
          1.700787854732631,
          4.392135556924267,
          8.279489393526918,
          1.5524817171608372,
          -3.246242027905314,
          14.765993248343214,
          0.019989721285445208,
          -3.9610526437139293,
          1.8911369905119182,
          12.954989152109373,
          0.7364003988920504,
          -4.581658916478311,
          -1.869368946070229,
          -1.9204130112035234,
          0.39963378322958243,
          3.6740568548171493,
          -0.9185439280760813,
          2.193579719584647,
          1.8146809901840595,
          -2.804063098629704,
          -2.2083966126414225,
          2.8245190117187158,
          -4.1726723109852895,
          -2.757894397182929,
          1.7927884999216446,
          2.0516112888774614,
          -1.6906883328377142,
          4.952273213142224,
          -0.6495121318647057,
          0.6738119996568276,
          -1.2039039822774873,
          -1.4661444965909205,
          -2.36351789015712,
          -2.4579031507797717,
          4.295924482513033,
          -2.2850086483524685,
          -0.7964043732185818,
          -4.42698654393322,
          3.01143912081042,
          7.858528076734622,
          3.932271444990401,
          0.7438651183900746,
          -3.5831270772930504,
          2.273565340208148,
          3.69339165818278,
          4.839214566053049,
          -1.9537817526397645,
          6.5423050533774845,
          -0.3812543373563131,
          -1.25571153081628,
          -4.416344010545703,
          2.1191017881380994,
          -3.7859528440060926,
          -3.9277846595506607,
          -3.600124907191491,
          -0.7749019518844785,
          -3.795174766063857,
          -0.7474490756046047,
          -1.0839715802978112,
          0.19165871279510152,
          1.5152012910882013,
          -3.434534515230346,
          -1.5701101486691271,
          -2.578326387843062,
          0.06262074687595552,
          -0.13401385495219192,
          2.2638472744535245,
          1.7854448522235418,
          -3.3355579085888682,
          -4.834120847799351,
          -4.301816747584355,
          2.023572024554543,
          -2.414570400955563,
          4.486083996520857,
          -1.7028111224600166,
          1.6894360090292784,
          -4.36835144626037,
          -0.21317997404146263,
          -4.294246143450125,
          -3.7445507776361144,
          2.932807678009481,
          -0.7474063234937669,
          -3.2642554369020127,
          -1.4741558212778239,
          1.231458184028317,
          -0.2997988890808462,
          0.9096062932811926,
          -2.1923368337788642,
          -2.4566607791425743,
          1.29869757901183,
          -0.5929530587062027,
          -1.1135833500514958,
          -4.678166844627535,
          -2.3363888119800666,
          5.773987975727184,
          -1.3695447485295167,
          -2.0059958134972518,
          -4.711033640884804,
          -0.5756091994663161,
          -3.1977072672786386,
          3.8230443077433485,
          6.27741035720684,
          4.7630126403943365,
          -1.7945680806649271,
          -2.760187851303885,
          -0.7114140699454998,
          10.26550289272523,
          -0.1784551027539913,
          1.8752729049745425,
          1.7814017888829803,
          2.4442142223473624,
          -3.7227328241167825,
          7.952913255175318,
          -3.193594111421188,
          -0.8691308829694467,
          -2.7489169580843718,
          -2.4074625354250467,
          -1.4264016133717343,
          3.886608593638129,
          1.3822770166327443,
          8.645806209312944,
          -4.504743071234615,
          3.6434197247007187,
          -2.424728311922922,
          -2.190631591594564,
          5.311605641387447,
          -0.36914882722068776,
          -0.7822742426835357,
          -2.1199316473806484,
          2.542805954300404,
          -2.557162107324287,
          -1.683666075312063,
          3.417631940231605,
          -2.417520567772917,
          -1.702459349563279,
          2.9753720157346533,
          -2.499596335214838,
          -1.995827474058073,
          2.0533805077018736,
          0.6651495501253577,
          -2.201472207725742,
          -3.629530337116989,
          1.5001668079706256,
          4.036817596863918,
          -0.794837881858688,
          2.2963205889106866,
          1.201394678733699,
          0.2922662716386872,
          -1.0865146974080775,
          -3.928414056119471,
          0.9174633498759882,
          -4.578132123123241,
          -2.268614234798979,
          -5.144734292165646,
          2.4160187433398246,
          -3.2606126156603326,
          7.1739784662853605,
          -0.8076639593449785,
          5.618871405475666,
          -0.7758786278152614,
          -4.011679223695102,
          -1.1550900784780587,
          -5.234006751656789,
          10.623339390514678,
          -3.0587770589145613,
          -0.27550219444750573,
          -1.4963313573015118,
          -3.013919416719025,
          1.8693755373742618,
          -0.0837054210534052,
          -1.8687339663762634,
          0.5613849864504377,
          4.731809465952803,
          -0.3737055453527709,
          -1.789911294314615,
          -0.0464105515473706,
          1.384237825356515,
          -1.908103969290066,
          -3.7088828974895236,
          4.7229607487921195,
          5.189151282334817,
          1.1116297774332409,
          -2.6465555173763167,
          -4.072308353333815,
          1.870642438839663,
          1.0319279133576669,
          -1.9477197348231376,
          -1.5753613102522679,
          1.379920695284118,
          0.21848846527171895,
          -0.567327813991612,
          -2.2502204986797474,
          1.8837653173308182,
          0.8866656728120921,
          1.8479272258886217,
          -3.379634785991731,
          -1.763351157857652,
          -4.1579020478657975,
          -2.3901378079076934,
          0.959872042026208,
          -0.7885197584949576,
          4.056981372677443,
          -1.8852314378955641,
          -2.499251681335974,
          -1.8366052278921738,
          -2.0848692553800254,
          -1.1532433197789551,
          -2.253391610495883,
          4.115934512225058,
          7.431341289939907,
          -3.7458465223234696,
          -2.6396953564004377,
          -3.609461260240998,
          -1.6544529163416861,
          0.9017390355464736,
          -0.39443849050652735,
          6.6232198597030445,
          -2.9289814566728194,
          -3.0056415779621415,
          0.32846135416686034,
          -2.585177542882786,
          2.3369952885618432,
          -1.2897152938767376,
          1.0858739830336002,
          -0.6438986717617088,
          0.7703292202580685,
          -1.325255107682193,
          -1.8900992531612584,
          4.861486851013343,
          -1.7318847134524027,
          -3.3277307712759074,
          13.938172754092092,
          14.437269243787135,
          -2.1670658017096307,
          -4.664070452298535,
          -0.8727196261748604,
          -3.2889338737729754,
          -2.794977029627744,
          -1.3733395369662258,
          -2.1579664401927916,
          -0.3355050679340291,
          -5.022620871459496,
          -1.5702810696538525,
          10.718372123329628,
          0.5715341902374873,
          -3.58360314798201,
          -1.009131918006967,
          -0.49864066945737334,
          -0.37300489823710686,
          -3.54766780451663,
          -1.6103435192190143,
          -4.618748195306332,
          4.349014624677371,
          -0.8919183910802155,
          2.3953353941304782,
          -2.0459191470095304,
          3.1482476616538073,
          -0.08268047582762396,
          2.3301906123066236,
          -1.765497406126001,
          -3.478514242119871,
          2.074286196313775,
          -0.8564408237892,
          -0.3490058424192,
          -1.549542498284201,
          -1.2092024928754177,
          -3.933561120441738,
          -0.678894115135238,
          1.3869564372055783,
          -1.0736638907042564,
          -2.649729044540904,
          1.3538675830113032,
          -0.41794603235091105,
          -2.3181425855997055,
          0.3098743679923045,
          9.181789787464664,
          7.259031756536512,
          -1.263984888314395,
          -0.5369216536541742,
          6.5285218632951665,
          -4.232684868993368,
          1.2481085957934837,
          -1.814749632315595,
          -4.643231275290586,
          -0.71113726758917,
          -3.4103812251645698,
          -3.4062289713525398,
          -1.6413107605461488,
          1.5729209959268613,
          0.8413933695035469,
          0.5677297891838115,
          -3.1416257937668552,
          -1.4841012120583554,
          1.5928237209008973,
          -0.8941409366615223,
          1.290759553648488,
          0.9403864019188393,
          9.43084097827943,
          -2.5279505821869237,
          5.352956403741092,
          -1.6460102631820734,
          2.687654468724467
         ],
         "xaxis": "x",
         "y": [
          0.5682554394307399,
          -2.4693816484244735,
          -1.0060941452866818,
          3.732661440533824,
          0.6109041196141068,
          1.684246210726664,
          0.27588018066602454,
          0.17352047109860227,
          0.9394547110503428,
          2.1365814923988573,
          0.3185958164083592,
          -1.0951819316255194,
          -4.270293635121801,
          6.718125443062073,
          0.3606565080368605,
          2.3464236165577463,
          0.037330152417188414,
          3.9911956982371817,
          2.0844868269024466,
          -1.16683581645978,
          2.090269647143396,
          2.1382916979685165,
          -8.861682151395675,
          -0.7199449237072144,
          -4.529517026111594,
          0.30238560687780874,
          -2.073532632976527,
          -3.6063123895316584,
          1.7422453844037875,
          1.591334656971953,
          3.9928919789056634,
          0.002655804272687026,
          2.4587954328168484,
          2.007894674716347,
          -1.1348842376785095,
          -2.2120369672883538,
          -2.8335605854181116,
          -2.222186868422664,
          -4.500732304061842,
          3.1099762944634923,
          -0.14722819867323272,
          1.5168521850919816,
          -6.994785038812019,
          1.612021491368193,
          1.9077413455675098,
          4.756627024022925,
          0.25884030266473396,
          0.9204346893532922,
          4.735439661571748,
          -2.7091610036529694,
          -4.1548271517361295,
          -1.0951296028591775,
          -0.03174656894441803,
          -0.4058152471461044,
          -0.5600972202887399,
          0.8857857728318,
          -0.7838300067870982,
          -2.548292158232472,
          2.0700178069272184,
          -1.1790941220850084,
          -5.256317240723344,
          -4.320205532965328,
          -3.7083018380467956,
          1.2602467788406024,
          2.0269823670785,
          -3.8996044762629416,
          2.995808428718441,
          -1.0635427288407933,
          4.14597894748423,
          -0.7587644736065626,
          0.7986331097596826,
          1.6808171362812312,
          0.9296778863962404,
          0.9321269801286419,
          1.202285295047191,
          0.8436175739642997,
          -2.8909673436189216,
          1.11558771640955,
          3.322703291574294,
          -1.8896773183216826,
          0.12867259567991896,
          0.49179633946157325,
          1.4928667120115333,
          -1.104624002653004,
          1.2770115681633087,
          0.33466747978340755,
          -1.9126798229466693,
          3.8101292642516014,
          0.47714122004030246,
          0.3391334250013148,
          2.2436518793823996,
          1.5194832103104594,
          0.9552534455600474,
          -0.6881502964176531,
          -4.787757780124818,
          -1.431148222165101,
          -3.942363058172996,
          1.734116413678518,
          1.9200497558792629,
          1.6716117166266715,
          0.9819498223187044,
          2.587993725823582,
          2.046683819501274,
          0.29751216466389013,
          -1.7659789247508912,
          -2.3123335033093135,
          2.121661030839388,
          -4.68969195605213,
          0.8431276660861425,
          0.9602395839678876,
          -4.499265170884522,
          0.28261243761588034,
          0.674181832678828,
          2.043220429438532,
          0.6192300072906572,
          -1.3454742273785354,
          -0.5163653576783418,
          2.8265416133147605,
          2.0877904396344107,
          -2.510902608850756,
          0.3386728705284407,
          -2.8345226240590375,
          3.1824504718780573,
          -7.67396231647703,
          -1.2412306648156632,
          3.669805543784949,
          -2.216625785361738,
          -3.873579777563863,
          -2.0624509775634743,
          2.882745806699982,
          1.5484289436345318,
          -0.7019928219463405,
          0.9954061148787919,
          -5.926464545797558,
          0.1669285191143173,
          2.3816287609700972,
          0.5207309229957039,
          -0.24119733924937842,
          -1.2038342707260088,
          4.318321637129641,
          2.458104852949114,
          2.711159774746438,
          2.4541253414827917,
          1.3712196865566477,
          -0.1787262402430666,
          1.7729392906631314,
          -1.818361092516921,
          0.20090938973268108,
          -0.8625056646176218,
          0.666709825629089,
          -1.2535098657306503,
          0.4905867854065114,
          -1.1720413331148043,
          6.340487651603516,
          -0.43543472146965023,
          0.274771242865703,
          -2.4569527480388973,
          0.3285961636027042,
          -0.8609544215327753,
          -2.0344838138724897,
          -4.229140123798703,
          2.092685793606571,
          1.2673255210849546,
          -4.889253026139226,
          1.7038767931225836,
          -0.5300164289593483,
          -6.167333622166849,
          -3.1980827290855434,
          -3.9446404617101405,
          -1.539345459337296,
          1.1327523149354282,
          0.472049016767254,
          1.9820483472310437,
          -0.8443370556399805,
          2.8187683105836174,
          -5.855010463596991,
          0.46460314347166864,
          -0.6590723980821277,
          -2.560099048160412,
          2.969598480615829,
          -1.8352525774694177,
          1.784570398398168,
          -2.0938848475416196,
          3.272837340388713,
          3.3960731116440455,
          0.3466598243547326,
          -1.5611969557495793,
          1.989882550688231,
          0.08831771762127584,
          -4.9516034111259595,
          -0.16667475635834147,
          -1.3028618227753137,
          -1.7641728397840863,
          -0.011198571361905468,
          -0.8508770546133602,
          -0.7837928472218166,
          -0.3855460204534492,
          0.07252501392333205,
          -0.603296924255331,
          0.9559776358243404,
          0.006275888796464645,
          3.5084201393954193,
          -3.5546034751897664,
          -0.2163532544698222,
          1.281422073292811,
          -0.5890611995988322,
          2.6703562327442274,
          -1.114650454940565,
          1.571961890341715,
          -5.312964328373503,
          0.9368060506801623,
          -0.5614107168527228,
          -0.32541641940047455,
          -1.1040074221137384,
          -3.753818264716539,
          -2.790583534995255,
          0.7664904552085032,
          -1.244727646127181,
          1.8467382509001828,
          -0.673315639065572,
          -1.8437166617042182,
          -2.5074066278514784,
          -0.04006065509426347,
          1.162582827019186,
          -0.4860566644880872,
          0.7914272614471933,
          -0.9470349442250731,
          -0.009733231842292023,
          3.536794835657654,
          -3.3016734404569044,
          0.8046268142012929,
          1.6046464653685684,
          0.2848247368936467,
          0.809012476693869,
          -1.4393789112309794,
          0.4484201770500347,
          -2.5900355728267868,
          -0.07667925018765909,
          3.619221873686551,
          0.3610225832032941,
          -3.9870012987967054,
          0.050415216008180566,
          -0.49014031951318193,
          -1.286505161671858,
          -2.9373118938938267,
          0.10314926398828374,
          -3.4175669221828175,
          -2.0123670353097634,
          -1.0837812123312087,
          -1.4893924791777289,
          -1.4407215803480553,
          1.2434517891954586,
          11.138317848604325,
          10.182823046698234,
          -0.8661226969133204,
          2.1249788183941583,
          0.004193639124807204,
          0.3789983813151524,
          0.25305030781541943,
          -0.9073360702474605,
          2.480856212548254,
          -2.255058074041335,
          2.3970871438837977,
          -1.5722289657463775,
          -1.1839296060987572,
          1.5432602333437124,
          1.154586696474479,
          -2.272363839653542,
          -1.1681310244612813,
          -2.6463637790698864,
          0.6485959649723676,
          -1.596677648716742,
          2.660054559077217,
          -2.6461770189020455,
          1.1481662981897258,
          -1.415754441122505,
          -1.0118872659659097,
          0.9699871701737124,
          -0.058739008886300195,
          -3.5773310389443225,
          -0.09577148698988967,
          0.7359924043547798,
          -1.8507582772394287,
          1.8184437191635996,
          1.0103237004626922,
          0.27385106273577814,
          -0.7638883565385879,
          1.1797558004363264,
          2.9409156570547883,
          -0.09097335031187637,
          2.321113238275576,
          0.5015564492847079,
          3.5715259339737737,
          0.46498700152657574,
          1.6237835825240496,
          -0.7138145739656037,
          4.643360828386602,
          6.991771265852239,
          -1.8911434615001308,
          -2.8779046555279155,
          6.749551414248967,
          1.4518098074701036,
          -3.961513861715308,
          -0.8432672296335001,
          2.0654246770590508,
          0.09773931877542173,
          1.4663785338482993,
          1.3395293300466202,
          -1.197046551309855,
          -5.566090228755171,
          1.3688239086296294,
          -0.20194771341261852,
          0.4921355024807328,
          0.9197240049310069,
          -0.08781406949305315,
          2.3019668219576426,
          -1.9161772448830978,
          -1.4898650092391426,
          8.6239907484158,
          -0.42304607469245936,
          -1.956234503711023,
          -1.0077510560374328,
          3.688030398119705
         ],
         "yaxis": "y"
        }
       ],
       "layout": {
        "annotations": [
         {
          "ax": 0,
          "ay": 0,
          "text": "sbp",
          "x": 12.491920012247945,
          "xanchor": "center",
          "y": -14.431304345107522,
          "yanchor": "bottom"
         },
         {
          "ax": 0,
          "ay": 0,
          "text": "tobacco",
          "x": 1.7677302603874074,
          "xanchor": "center",
          "y": -1.1150876013797428,
          "yanchor": "bottom"
         },
         {
          "ax": 0,
          "ay": 0,
          "text": "ldl",
          "x": 0.19908956536376757,
          "xanchor": "center",
          "y": -0.38896026257505956,
          "yanchor": "bottom"
         },
         {
          "ax": 0,
          "ay": 0,
          "text": "adiposity",
          "x": 3.165144577662132,
          "xanchor": "center",
          "y": -3.241540478182843,
          "yanchor": "bottom"
         },
         {
          "ax": 0,
          "ay": 0,
          "text": "famhist",
          "x": 0.049425677481469636,
          "xanchor": "center",
          "y": -0.035088350627006715,
          "yanchor": "bottom"
         },
         {
          "ax": 0,
          "ay": 0,
          "text": "typea",
          "x": -0.3069798969361022,
          "xanchor": "center",
          "y": 1.3224316061210417,
          "yanchor": "bottom"
         },
         {
          "ax": 0,
          "ay": 0,
          "text": "obesity",
          "x": 0.9952528734380096,
          "xanchor": "center",
          "y": -1.0221627384597087,
          "yanchor": "bottom"
         },
         {
          "ax": 0,
          "ay": 0,
          "text": "alcohol",
          "x": 20.21602276053711,
          "xanchor": "center",
          "y": 12.131664416111283,
          "yanchor": "bottom"
         },
         {
          "ax": 0,
          "ay": 0,
          "text": "age",
          "x": 6.872356682990583,
          "xanchor": "center",
          "y": -7.455470514501196,
          "yanchor": "bottom"
         },
         {
          "ax": 0,
          "ay": 0,
          "text": "chd",
          "x": 0.10022372896353958,
          "xanchor": "center",
          "y": -0.09070619458526352,
          "yanchor": "bottom"
         }
        ],
        "legend": {
         "tracegroupgap": 0
        },
        "margin": {
         "t": 60
        },
        "shapes": [
         {
          "type": "line",
          "x0": 0,
          "x1": 12.491920012247945,
          "y0": 0,
          "y1": -14.431304345107522
         },
         {
          "type": "line",
          "x0": 0,
          "x1": 1.7677302603874074,
          "y0": 0,
          "y1": -1.1150876013797428
         },
         {
          "type": "line",
          "x0": 0,
          "x1": 0.19908956536376757,
          "y0": 0,
          "y1": -0.38896026257505956
         },
         {
          "type": "line",
          "x0": 0,
          "x1": 3.165144577662132,
          "y0": 0,
          "y1": -3.241540478182843
         },
         {
          "type": "line",
          "x0": 0,
          "x1": 0.049425677481469636,
          "y0": 0,
          "y1": -0.035088350627006715
         },
         {
          "type": "line",
          "x0": 0,
          "x1": -0.3069798969361022,
          "y0": 0,
          "y1": 1.3224316061210417
         },
         {
          "type": "line",
          "x0": 0,
          "x1": 0.9952528734380096,
          "y0": 0,
          "y1": -1.0221627384597087
         },
         {
          "type": "line",
          "x0": 0,
          "x1": 20.21602276053711,
          "y0": 0,
          "y1": 12.131664416111283
         },
         {
          "type": "line",
          "x0": 0,
          "x1": 6.872356682990583,
          "y0": 0,
          "y1": -7.455470514501196
         },
         {
          "type": "line",
          "x0": 0,
          "x1": 0.10022372896353958,
          "y0": 0,
          "y1": -0.09070619458526352
         }
        ],
        "template": {
         "data": {
          "bar": [
           {
            "error_x": {
             "color": "#2a3f5f"
            },
            "error_y": {
             "color": "#2a3f5f"
            },
            "marker": {
             "line": {
              "color": "#E5ECF6",
              "width": 0.5
             },
             "pattern": {
              "fillmode": "overlay",
              "size": 10,
              "solidity": 0.2
             }
            },
            "type": "bar"
           }
          ],
          "barpolar": [
           {
            "marker": {
             "line": {
              "color": "#E5ECF6",
              "width": 0.5
             },
             "pattern": {
              "fillmode": "overlay",
              "size": 10,
              "solidity": 0.2
             }
            },
            "type": "barpolar"
           }
          ],
          "carpet": [
           {
            "aaxis": {
             "endlinecolor": "#2a3f5f",
             "gridcolor": "white",
             "linecolor": "white",
             "minorgridcolor": "white",
             "startlinecolor": "#2a3f5f"
            },
            "baxis": {
             "endlinecolor": "#2a3f5f",
             "gridcolor": "white",
             "linecolor": "white",
             "minorgridcolor": "white",
             "startlinecolor": "#2a3f5f"
            },
            "type": "carpet"
           }
          ],
          "choropleth": [
           {
            "colorbar": {
             "outlinewidth": 0,
             "ticks": ""
            },
            "type": "choropleth"
           }
          ],
          "contour": [
           {
            "colorbar": {
             "outlinewidth": 0,
             "ticks": ""
            },
            "colorscale": [
             [
              0,
              "#0d0887"
             ],
             [
              0.1111111111111111,
              "#46039f"
             ],
             [
              0.2222222222222222,
              "#7201a8"
             ],
             [
              0.3333333333333333,
              "#9c179e"
             ],
             [
              0.4444444444444444,
              "#bd3786"
             ],
             [
              0.5555555555555556,
              "#d8576b"
             ],
             [
              0.6666666666666666,
              "#ed7953"
             ],
             [
              0.7777777777777778,
              "#fb9f3a"
             ],
             [
              0.8888888888888888,
              "#fdca26"
             ],
             [
              1,
              "#f0f921"
             ]
            ],
            "type": "contour"
           }
          ],
          "contourcarpet": [
           {
            "colorbar": {
             "outlinewidth": 0,
             "ticks": ""
            },
            "type": "contourcarpet"
           }
          ],
          "heatmap": [
           {
            "colorbar": {
             "outlinewidth": 0,
             "ticks": ""
            },
            "colorscale": [
             [
              0,
              "#0d0887"
             ],
             [
              0.1111111111111111,
              "#46039f"
             ],
             [
              0.2222222222222222,
              "#7201a8"
             ],
             [
              0.3333333333333333,
              "#9c179e"
             ],
             [
              0.4444444444444444,
              "#bd3786"
             ],
             [
              0.5555555555555556,
              "#d8576b"
             ],
             [
              0.6666666666666666,
              "#ed7953"
             ],
             [
              0.7777777777777778,
              "#fb9f3a"
             ],
             [
              0.8888888888888888,
              "#fdca26"
             ],
             [
              1,
              "#f0f921"
             ]
            ],
            "type": "heatmap"
           }
          ],
          "heatmapgl": [
           {
            "colorbar": {
             "outlinewidth": 0,
             "ticks": ""
            },
            "colorscale": [
             [
              0,
              "#0d0887"
             ],
             [
              0.1111111111111111,
              "#46039f"
             ],
             [
              0.2222222222222222,
              "#7201a8"
             ],
             [
              0.3333333333333333,
              "#9c179e"
             ],
             [
              0.4444444444444444,
              "#bd3786"
             ],
             [
              0.5555555555555556,
              "#d8576b"
             ],
             [
              0.6666666666666666,
              "#ed7953"
             ],
             [
              0.7777777777777778,
              "#fb9f3a"
             ],
             [
              0.8888888888888888,
              "#fdca26"
             ],
             [
              1,
              "#f0f921"
             ]
            ],
            "type": "heatmapgl"
           }
          ],
          "histogram": [
           {
            "marker": {
             "pattern": {
              "fillmode": "overlay",
              "size": 10,
              "solidity": 0.2
             }
            },
            "type": "histogram"
           }
          ],
          "histogram2d": [
           {
            "colorbar": {
             "outlinewidth": 0,
             "ticks": ""
            },
            "colorscale": [
             [
              0,
              "#0d0887"
             ],
             [
              0.1111111111111111,
              "#46039f"
             ],
             [
              0.2222222222222222,
              "#7201a8"
             ],
             [
              0.3333333333333333,
              "#9c179e"
             ],
             [
              0.4444444444444444,
              "#bd3786"
             ],
             [
              0.5555555555555556,
              "#d8576b"
             ],
             [
              0.6666666666666666,
              "#ed7953"
             ],
             [
              0.7777777777777778,
              "#fb9f3a"
             ],
             [
              0.8888888888888888,
              "#fdca26"
             ],
             [
              1,
              "#f0f921"
             ]
            ],
            "type": "histogram2d"
           }
          ],
          "histogram2dcontour": [
           {
            "colorbar": {
             "outlinewidth": 0,
             "ticks": ""
            },
            "colorscale": [
             [
              0,
              "#0d0887"
             ],
             [
              0.1111111111111111,
              "#46039f"
             ],
             [
              0.2222222222222222,
              "#7201a8"
             ],
             [
              0.3333333333333333,
              "#9c179e"
             ],
             [
              0.4444444444444444,
              "#bd3786"
             ],
             [
              0.5555555555555556,
              "#d8576b"
             ],
             [
              0.6666666666666666,
              "#ed7953"
             ],
             [
              0.7777777777777778,
              "#fb9f3a"
             ],
             [
              0.8888888888888888,
              "#fdca26"
             ],
             [
              1,
              "#f0f921"
             ]
            ],
            "type": "histogram2dcontour"
           }
          ],
          "mesh3d": [
           {
            "colorbar": {
             "outlinewidth": 0,
             "ticks": ""
            },
            "type": "mesh3d"
           }
          ],
          "parcoords": [
           {
            "line": {
             "colorbar": {
              "outlinewidth": 0,
              "ticks": ""
             }
            },
            "type": "parcoords"
           }
          ],
          "pie": [
           {
            "automargin": true,
            "type": "pie"
           }
          ],
          "scatter": [
           {
            "marker": {
             "colorbar": {
              "outlinewidth": 0,
              "ticks": ""
             }
            },
            "type": "scatter"
           }
          ],
          "scatter3d": [
           {
            "line": {
             "colorbar": {
              "outlinewidth": 0,
              "ticks": ""
             }
            },
            "marker": {
             "colorbar": {
              "outlinewidth": 0,
              "ticks": ""
             }
            },
            "type": "scatter3d"
           }
          ],
          "scattercarpet": [
           {
            "marker": {
             "colorbar": {
              "outlinewidth": 0,
              "ticks": ""
             }
            },
            "type": "scattercarpet"
           }
          ],
          "scattergeo": [
           {
            "marker": {
             "colorbar": {
              "outlinewidth": 0,
              "ticks": ""
             }
            },
            "type": "scattergeo"
           }
          ],
          "scattergl": [
           {
            "marker": {
             "colorbar": {
              "outlinewidth": 0,
              "ticks": ""
             }
            },
            "type": "scattergl"
           }
          ],
          "scattermapbox": [
           {
            "marker": {
             "colorbar": {
              "outlinewidth": 0,
              "ticks": ""
             }
            },
            "type": "scattermapbox"
           }
          ],
          "scatterpolar": [
           {
            "marker": {
             "colorbar": {
              "outlinewidth": 0,
              "ticks": ""
             }
            },
            "type": "scatterpolar"
           }
          ],
          "scatterpolargl": [
           {
            "marker": {
             "colorbar": {
              "outlinewidth": 0,
              "ticks": ""
             }
            },
            "type": "scatterpolargl"
           }
          ],
          "scatterternary": [
           {
            "marker": {
             "colorbar": {
              "outlinewidth": 0,
              "ticks": ""
             }
            },
            "type": "scatterternary"
           }
          ],
          "surface": [
           {
            "colorbar": {
             "outlinewidth": 0,
             "ticks": ""
            },
            "colorscale": [
             [
              0,
              "#0d0887"
             ],
             [
              0.1111111111111111,
              "#46039f"
             ],
             [
              0.2222222222222222,
              "#7201a8"
             ],
             [
              0.3333333333333333,
              "#9c179e"
             ],
             [
              0.4444444444444444,
              "#bd3786"
             ],
             [
              0.5555555555555556,
              "#d8576b"
             ],
             [
              0.6666666666666666,
              "#ed7953"
             ],
             [
              0.7777777777777778,
              "#fb9f3a"
             ],
             [
              0.8888888888888888,
              "#fdca26"
             ],
             [
              1,
              "#f0f921"
             ]
            ],
            "type": "surface"
           }
          ],
          "table": [
           {
            "cells": {
             "fill": {
              "color": "#EBF0F8"
             },
             "line": {
              "color": "white"
             }
            },
            "header": {
             "fill": {
              "color": "#C8D4E3"
             },
             "line": {
              "color": "white"
             }
            },
            "type": "table"
           }
          ]
         },
         "layout": {
          "annotationdefaults": {
           "arrowcolor": "#2a3f5f",
           "arrowhead": 0,
           "arrowwidth": 1
          },
          "autotypenumbers": "strict",
          "coloraxis": {
           "colorbar": {
            "outlinewidth": 0,
            "ticks": ""
           }
          },
          "colorscale": {
           "diverging": [
            [
             0,
             "#8e0152"
            ],
            [
             0.1,
             "#c51b7d"
            ],
            [
             0.2,
             "#de77ae"
            ],
            [
             0.3,
             "#f1b6da"
            ],
            [
             0.4,
             "#fde0ef"
            ],
            [
             0.5,
             "#f7f7f7"
            ],
            [
             0.6,
             "#e6f5d0"
            ],
            [
             0.7,
             "#b8e186"
            ],
            [
             0.8,
             "#7fbc41"
            ],
            [
             0.9,
             "#4d9221"
            ],
            [
             1,
             "#276419"
            ]
           ],
           "sequential": [
            [
             0,
             "#0d0887"
            ],
            [
             0.1111111111111111,
             "#46039f"
            ],
            [
             0.2222222222222222,
             "#7201a8"
            ],
            [
             0.3333333333333333,
             "#9c179e"
            ],
            [
             0.4444444444444444,
             "#bd3786"
            ],
            [
             0.5555555555555556,
             "#d8576b"
            ],
            [
             0.6666666666666666,
             "#ed7953"
            ],
            [
             0.7777777777777778,
             "#fb9f3a"
            ],
            [
             0.8888888888888888,
             "#fdca26"
            ],
            [
             1,
             "#f0f921"
            ]
           ],
           "sequentialminus": [
            [
             0,
             "#0d0887"
            ],
            [
             0.1111111111111111,
             "#46039f"
            ],
            [
             0.2222222222222222,
             "#7201a8"
            ],
            [
             0.3333333333333333,
             "#9c179e"
            ],
            [
             0.4444444444444444,
             "#bd3786"
            ],
            [
             0.5555555555555556,
             "#d8576b"
            ],
            [
             0.6666666666666666,
             "#ed7953"
            ],
            [
             0.7777777777777778,
             "#fb9f3a"
            ],
            [
             0.8888888888888888,
             "#fdca26"
            ],
            [
             1,
             "#f0f921"
            ]
           ]
          },
          "colorway": [
           "#636efa",
           "#EF553B",
           "#00cc96",
           "#ab63fa",
           "#FFA15A",
           "#19d3f3",
           "#FF6692",
           "#B6E880",
           "#FF97FF",
           "#FECB52"
          ],
          "font": {
           "color": "#2a3f5f"
          },
          "geo": {
           "bgcolor": "white",
           "lakecolor": "white",
           "landcolor": "#E5ECF6",
           "showlakes": true,
           "showland": true,
           "subunitcolor": "white"
          },
          "hoverlabel": {
           "align": "left"
          },
          "hovermode": "closest",
          "mapbox": {
           "style": "light"
          },
          "paper_bgcolor": "white",
          "plot_bgcolor": "#E5ECF6",
          "polar": {
           "angularaxis": {
            "gridcolor": "white",
            "linecolor": "white",
            "ticks": ""
           },
           "bgcolor": "#E5ECF6",
           "radialaxis": {
            "gridcolor": "white",
            "linecolor": "white",
            "ticks": ""
           }
          },
          "scene": {
           "xaxis": {
            "backgroundcolor": "#E5ECF6",
            "gridcolor": "white",
            "gridwidth": 2,
            "linecolor": "white",
            "showbackground": true,
            "ticks": "",
            "zerolinecolor": "white"
           },
           "yaxis": {
            "backgroundcolor": "#E5ECF6",
            "gridcolor": "white",
            "gridwidth": 2,
            "linecolor": "white",
            "showbackground": true,
            "ticks": "",
            "zerolinecolor": "white"
           },
           "zaxis": {
            "backgroundcolor": "#E5ECF6",
            "gridcolor": "white",
            "gridwidth": 2,
            "linecolor": "white",
            "showbackground": true,
            "ticks": "",
            "zerolinecolor": "white"
           }
          },
          "shapedefaults": {
           "line": {
            "color": "#2a3f5f"
           }
          },
          "ternary": {
           "aaxis": {
            "gridcolor": "white",
            "linecolor": "white",
            "ticks": ""
           },
           "baxis": {
            "gridcolor": "white",
            "linecolor": "white",
            "ticks": ""
           },
           "bgcolor": "#E5ECF6",
           "caxis": {
            "gridcolor": "white",
            "linecolor": "white",
            "ticks": ""
           }
          },
          "title": {
           "x": 0.05
          },
          "xaxis": {
           "automargin": true,
           "gridcolor": "white",
           "linecolor": "white",
           "ticks": "",
           "title": {
            "standoff": 15
           },
           "zerolinecolor": "white",
           "zerolinewidth": 2
          },
          "yaxis": {
           "automargin": true,
           "gridcolor": "white",
           "linecolor": "white",
           "ticks": "",
           "title": {
            "standoff": 15
           },
           "zerolinecolor": "white",
           "zerolinewidth": 2
          }
         }
        },
        "xaxis": {
         "anchor": "y",
         "domain": [
          0,
          1
         ],
         "title": {
          "text": "0"
         }
        },
        "yaxis": {
         "anchor": "x",
         "domain": [
          0,
          1
         ],
         "title": {
          "text": "1"
         }
        }
       }
      },
      "text/html": [
       "<div>                            <div id=\"41a5dcd0-57de-4450-82d9-0241295545a2\" class=\"plotly-graph-div\" style=\"height:525px; width:100%;\"></div>            <script type=\"text/javascript\">                require([\"plotly\"], function(Plotly) {                    window.PLOTLYENV=window.PLOTLYENV || {};                                    if (document.getElementById(\"41a5dcd0-57de-4450-82d9-0241295545a2\")) {                    Plotly.newPlot(                        \"41a5dcd0-57de-4450-82d9-0241295545a2\",                        [{\"hovertemplate\":\"0=%{x}<br>1=%{y}<extra></extra>\",\"legendgroup\":\"\",\"marker\":{\"color\":\"#636efa\",\"symbol\":\"circle\"},\"mode\":\"markers\",\"name\":\"\",\"orientation\":\"v\",\"showlegend\":false,\"x\":[-2.1554095740661325,-0.8131405522750161,5.510991075264282,-1.5027041767750604,-3.2845336065196977,-2.6125741868714942,-1.517077031543007,0.5804684898860188,-3.701421499620198,-2.669667664647904,11.367310587675005,-1.3863840703754404,0.7745356300545222,4.778315485616426,-3.188681685838351,-0.5459304789260331,1.6942323103431658,5.3193888070874165,-4.694856100627154,-1.9767774545133254,-2.8169937858335126,1.700787854732631,4.392135556924267,8.279489393526918,1.5524817171608372,-3.246242027905314,14.765993248343214,0.019989721285445208,-3.9610526437139293,1.8911369905119182,12.954989152109373,0.7364003988920504,-4.581658916478311,-1.869368946070229,-1.9204130112035234,0.39963378322958243,3.6740568548171493,-0.9185439280760813,2.193579719584647,1.8146809901840595,-2.804063098629704,-2.2083966126414225,2.8245190117187158,-4.1726723109852895,-2.757894397182929,1.7927884999216446,2.0516112888774614,-1.6906883328377142,4.952273213142224,-0.6495121318647057,0.6738119996568276,-1.2039039822774873,-1.4661444965909205,-2.36351789015712,-2.4579031507797717,4.295924482513033,-2.2850086483524685,-0.7964043732185818,-4.42698654393322,3.01143912081042,7.858528076734622,3.932271444990401,0.7438651183900746,-3.5831270772930504,2.273565340208148,3.69339165818278,4.839214566053049,-1.9537817526397645,6.5423050533774845,-0.3812543373563131,-1.25571153081628,-4.416344010545703,2.1191017881380994,-3.7859528440060926,-3.9277846595506607,-3.600124907191491,-0.7749019518844785,-3.795174766063857,-0.7474490756046047,-1.0839715802978112,0.19165871279510152,1.5152012910882013,-3.434534515230346,-1.5701101486691271,-2.578326387843062,0.06262074687595552,-0.13401385495219192,2.2638472744535245,1.7854448522235418,-3.3355579085888682,-4.834120847799351,-4.301816747584355,2.023572024554543,-2.414570400955563,4.486083996520857,-1.7028111224600166,1.6894360090292784,-4.36835144626037,-0.21317997404146263,-4.294246143450125,-3.7445507776361144,2.932807678009481,-0.7474063234937669,-3.2642554369020127,-1.4741558212778239,1.231458184028317,-0.2997988890808462,0.9096062932811926,-2.1923368337788642,-2.4566607791425743,1.29869757901183,-0.5929530587062027,-1.1135833500514958,-4.678166844627535,-2.3363888119800666,5.773987975727184,-1.3695447485295167,-2.0059958134972518,-4.711033640884804,-0.5756091994663161,-3.1977072672786386,3.8230443077433485,6.27741035720684,4.7630126403943365,-1.7945680806649271,-2.760187851303885,-0.7114140699454998,10.26550289272523,-0.1784551027539913,1.8752729049745425,1.7814017888829803,2.4442142223473624,-3.7227328241167825,7.952913255175318,-3.193594111421188,-0.8691308829694467,-2.7489169580843718,-2.4074625354250467,-1.4264016133717343,3.886608593638129,1.3822770166327443,8.645806209312944,-4.504743071234615,3.6434197247007187,-2.424728311922922,-2.190631591594564,5.311605641387447,-0.36914882722068776,-0.7822742426835357,-2.1199316473806484,2.542805954300404,-2.557162107324287,-1.683666075312063,3.417631940231605,-2.417520567772917,-1.702459349563279,2.9753720157346533,-2.499596335214838,-1.995827474058073,2.0533805077018736,0.6651495501253577,-2.201472207725742,-3.629530337116989,1.5001668079706256,4.036817596863918,-0.794837881858688,2.2963205889106866,1.201394678733699,0.2922662716386872,-1.0865146974080775,-3.928414056119471,0.9174633498759882,-4.578132123123241,-2.268614234798979,-5.144734292165646,2.4160187433398246,-3.2606126156603326,7.1739784662853605,-0.8076639593449785,5.618871405475666,-0.7758786278152614,-4.011679223695102,-1.1550900784780587,-5.234006751656789,10.623339390514678,-3.0587770589145613,-0.27550219444750573,-1.4963313573015118,-3.013919416719025,1.8693755373742618,-0.0837054210534052,-1.8687339663762634,0.5613849864504377,4.731809465952803,-0.3737055453527709,-1.789911294314615,-0.0464105515473706,1.384237825356515,-1.908103969290066,-3.7088828974895236,4.7229607487921195,5.189151282334817,1.1116297774332409,-2.6465555173763167,-4.072308353333815,1.870642438839663,1.0319279133576669,-1.9477197348231376,-1.5753613102522679,1.379920695284118,0.21848846527171895,-0.567327813991612,-2.2502204986797474,1.8837653173308182,0.8866656728120921,1.8479272258886217,-3.379634785991731,-1.763351157857652,-4.1579020478657975,-2.3901378079076934,0.959872042026208,-0.7885197584949576,4.056981372677443,-1.8852314378955641,-2.499251681335974,-1.8366052278921738,-2.0848692553800254,-1.1532433197789551,-2.253391610495883,4.115934512225058,7.431341289939907,-3.7458465223234696,-2.6396953564004377,-3.609461260240998,-1.6544529163416861,0.9017390355464736,-0.39443849050652735,6.6232198597030445,-2.9289814566728194,-3.0056415779621415,0.32846135416686034,-2.585177542882786,2.3369952885618432,-1.2897152938767376,1.0858739830336002,-0.6438986717617088,0.7703292202580685,-1.325255107682193,-1.8900992531612584,4.861486851013343,-1.7318847134524027,-3.3277307712759074,13.938172754092092,14.437269243787135,-2.1670658017096307,-4.664070452298535,-0.8727196261748604,-3.2889338737729754,-2.794977029627744,-1.3733395369662258,-2.1579664401927916,-0.3355050679340291,-5.022620871459496,-1.5702810696538525,10.718372123329628,0.5715341902374873,-3.58360314798201,-1.009131918006967,-0.49864066945737334,-0.37300489823710686,-3.54766780451663,-1.6103435192190143,-4.618748195306332,4.349014624677371,-0.8919183910802155,2.3953353941304782,-2.0459191470095304,3.1482476616538073,-0.08268047582762396,2.3301906123066236,-1.765497406126001,-3.478514242119871,2.074286196313775,-0.8564408237892,-0.3490058424192,-1.549542498284201,-1.2092024928754177,-3.933561120441738,-0.678894115135238,1.3869564372055783,-1.0736638907042564,-2.649729044540904,1.3538675830113032,-0.41794603235091105,-2.3181425855997055,0.3098743679923045,9.181789787464664,7.259031756536512,-1.263984888314395,-0.5369216536541742,6.5285218632951665,-4.232684868993368,1.2481085957934837,-1.814749632315595,-4.643231275290586,-0.71113726758917,-3.4103812251645698,-3.4062289713525398,-1.6413107605461488,1.5729209959268613,0.8413933695035469,0.5677297891838115,-3.1416257937668552,-1.4841012120583554,1.5928237209008973,-0.8941409366615223,1.290759553648488,0.9403864019188393,9.43084097827943,-2.5279505821869237,5.352956403741092,-1.6460102631820734,2.687654468724467],\"xaxis\":\"x\",\"y\":[0.5682554394307399,-2.4693816484244735,-1.0060941452866818,3.732661440533824,0.6109041196141068,1.684246210726664,0.27588018066602454,0.17352047109860227,0.9394547110503428,2.1365814923988573,0.3185958164083592,-1.0951819316255194,-4.270293635121801,6.718125443062073,0.3606565080368605,2.3464236165577463,0.037330152417188414,3.9911956982371817,2.0844868269024466,-1.16683581645978,2.090269647143396,2.1382916979685165,-8.861682151395675,-0.7199449237072144,-4.529517026111594,0.30238560687780874,-2.073532632976527,-3.6063123895316584,1.7422453844037875,1.591334656971953,3.9928919789056634,0.002655804272687026,2.4587954328168484,2.007894674716347,-1.1348842376785095,-2.2120369672883538,-2.8335605854181116,-2.222186868422664,-4.500732304061842,3.1099762944634923,-0.14722819867323272,1.5168521850919816,-6.994785038812019,1.612021491368193,1.9077413455675098,4.756627024022925,0.25884030266473396,0.9204346893532922,4.735439661571748,-2.7091610036529694,-4.1548271517361295,-1.0951296028591775,-0.03174656894441803,-0.4058152471461044,-0.5600972202887399,0.8857857728318,-0.7838300067870982,-2.548292158232472,2.0700178069272184,-1.1790941220850084,-5.256317240723344,-4.320205532965328,-3.7083018380467956,1.2602467788406024,2.0269823670785,-3.8996044762629416,2.995808428718441,-1.0635427288407933,4.14597894748423,-0.7587644736065626,0.7986331097596826,1.6808171362812312,0.9296778863962404,0.9321269801286419,1.202285295047191,0.8436175739642997,-2.8909673436189216,1.11558771640955,3.322703291574294,-1.8896773183216826,0.12867259567991896,0.49179633946157325,1.4928667120115333,-1.104624002653004,1.2770115681633087,0.33466747978340755,-1.9126798229466693,3.8101292642516014,0.47714122004030246,0.3391334250013148,2.2436518793823996,1.5194832103104594,0.9552534455600474,-0.6881502964176531,-4.787757780124818,-1.431148222165101,-3.942363058172996,1.734116413678518,1.9200497558792629,1.6716117166266715,0.9819498223187044,2.587993725823582,2.046683819501274,0.29751216466389013,-1.7659789247508912,-2.3123335033093135,2.121661030839388,-4.68969195605213,0.8431276660861425,0.9602395839678876,-4.499265170884522,0.28261243761588034,0.674181832678828,2.043220429438532,0.6192300072906572,-1.3454742273785354,-0.5163653576783418,2.8265416133147605,2.0877904396344107,-2.510902608850756,0.3386728705284407,-2.8345226240590375,3.1824504718780573,-7.67396231647703,-1.2412306648156632,3.669805543784949,-2.216625785361738,-3.873579777563863,-2.0624509775634743,2.882745806699982,1.5484289436345318,-0.7019928219463405,0.9954061148787919,-5.926464545797558,0.1669285191143173,2.3816287609700972,0.5207309229957039,-0.24119733924937842,-1.2038342707260088,4.318321637129641,2.458104852949114,2.711159774746438,2.4541253414827917,1.3712196865566477,-0.1787262402430666,1.7729392906631314,-1.818361092516921,0.20090938973268108,-0.8625056646176218,0.666709825629089,-1.2535098657306503,0.4905867854065114,-1.1720413331148043,6.340487651603516,-0.43543472146965023,0.274771242865703,-2.4569527480388973,0.3285961636027042,-0.8609544215327753,-2.0344838138724897,-4.229140123798703,2.092685793606571,1.2673255210849546,-4.889253026139226,1.7038767931225836,-0.5300164289593483,-6.167333622166849,-3.1980827290855434,-3.9446404617101405,-1.539345459337296,1.1327523149354282,0.472049016767254,1.9820483472310437,-0.8443370556399805,2.8187683105836174,-5.855010463596991,0.46460314347166864,-0.6590723980821277,-2.560099048160412,2.969598480615829,-1.8352525774694177,1.784570398398168,-2.0938848475416196,3.272837340388713,3.3960731116440455,0.3466598243547326,-1.5611969557495793,1.989882550688231,0.08831771762127584,-4.9516034111259595,-0.16667475635834147,-1.3028618227753137,-1.7641728397840863,-0.011198571361905468,-0.8508770546133602,-0.7837928472218166,-0.3855460204534492,0.07252501392333205,-0.603296924255331,0.9559776358243404,0.006275888796464645,3.5084201393954193,-3.5546034751897664,-0.2163532544698222,1.281422073292811,-0.5890611995988322,2.6703562327442274,-1.114650454940565,1.571961890341715,-5.312964328373503,0.9368060506801623,-0.5614107168527228,-0.32541641940047455,-1.1040074221137384,-3.753818264716539,-2.790583534995255,0.7664904552085032,-1.244727646127181,1.8467382509001828,-0.673315639065572,-1.8437166617042182,-2.5074066278514784,-0.04006065509426347,1.162582827019186,-0.4860566644880872,0.7914272614471933,-0.9470349442250731,-0.009733231842292023,3.536794835657654,-3.3016734404569044,0.8046268142012929,1.6046464653685684,0.2848247368936467,0.809012476693869,-1.4393789112309794,0.4484201770500347,-2.5900355728267868,-0.07667925018765909,3.619221873686551,0.3610225832032941,-3.9870012987967054,0.050415216008180566,-0.49014031951318193,-1.286505161671858,-2.9373118938938267,0.10314926398828374,-3.4175669221828175,-2.0123670353097634,-1.0837812123312087,-1.4893924791777289,-1.4407215803480553,1.2434517891954586,11.138317848604325,10.182823046698234,-0.8661226969133204,2.1249788183941583,0.004193639124807204,0.3789983813151524,0.25305030781541943,-0.9073360702474605,2.480856212548254,-2.255058074041335,2.3970871438837977,-1.5722289657463775,-1.1839296060987572,1.5432602333437124,1.154586696474479,-2.272363839653542,-1.1681310244612813,-2.6463637790698864,0.6485959649723676,-1.596677648716742,2.660054559077217,-2.6461770189020455,1.1481662981897258,-1.415754441122505,-1.0118872659659097,0.9699871701737124,-0.058739008886300195,-3.5773310389443225,-0.09577148698988967,0.7359924043547798,-1.8507582772394287,1.8184437191635996,1.0103237004626922,0.27385106273577814,-0.7638883565385879,1.1797558004363264,2.9409156570547883,-0.09097335031187637,2.321113238275576,0.5015564492847079,3.5715259339737737,0.46498700152657574,1.6237835825240496,-0.7138145739656037,4.643360828386602,6.991771265852239,-1.8911434615001308,-2.8779046555279155,6.749551414248967,1.4518098074701036,-3.961513861715308,-0.8432672296335001,2.0654246770590508,0.09773931877542173,1.4663785338482993,1.3395293300466202,-1.197046551309855,-5.566090228755171,1.3688239086296294,-0.20194771341261852,0.4921355024807328,0.9197240049310069,-0.08781406949305315,2.3019668219576426,-1.9161772448830978,-1.4898650092391426,8.6239907484158,-0.42304607469245936,-1.956234503711023,-1.0077510560374328,3.688030398119705],\"yaxis\":\"y\",\"type\":\"scatter\"}],                        {\"template\":{\"data\":{\"bar\":[{\"error_x\":{\"color\":\"#2a3f5f\"},\"error_y\":{\"color\":\"#2a3f5f\"},\"marker\":{\"line\":{\"color\":\"#E5ECF6\",\"width\":0.5},\"pattern\":{\"fillmode\":\"overlay\",\"size\":10,\"solidity\":0.2}},\"type\":\"bar\"}],\"barpolar\":[{\"marker\":{\"line\":{\"color\":\"#E5ECF6\",\"width\":0.5},\"pattern\":{\"fillmode\":\"overlay\",\"size\":10,\"solidity\":0.2}},\"type\":\"barpolar\"}],\"carpet\":[{\"aaxis\":{\"endlinecolor\":\"#2a3f5f\",\"gridcolor\":\"white\",\"linecolor\":\"white\",\"minorgridcolor\":\"white\",\"startlinecolor\":\"#2a3f5f\"},\"baxis\":{\"endlinecolor\":\"#2a3f5f\",\"gridcolor\":\"white\",\"linecolor\":\"white\",\"minorgridcolor\":\"white\",\"startlinecolor\":\"#2a3f5f\"},\"type\":\"carpet\"}],\"choropleth\":[{\"colorbar\":{\"outlinewidth\":0,\"ticks\":\"\"},\"type\":\"choropleth\"}],\"contour\":[{\"colorbar\":{\"outlinewidth\":0,\"ticks\":\"\"},\"colorscale\":[[0.0,\"#0d0887\"],[0.1111111111111111,\"#46039f\"],[0.2222222222222222,\"#7201a8\"],[0.3333333333333333,\"#9c179e\"],[0.4444444444444444,\"#bd3786\"],[0.5555555555555556,\"#d8576b\"],[0.6666666666666666,\"#ed7953\"],[0.7777777777777778,\"#fb9f3a\"],[0.8888888888888888,\"#fdca26\"],[1.0,\"#f0f921\"]],\"type\":\"contour\"}],\"contourcarpet\":[{\"colorbar\":{\"outlinewidth\":0,\"ticks\":\"\"},\"type\":\"contourcarpet\"}],\"heatmap\":[{\"colorbar\":{\"outlinewidth\":0,\"ticks\":\"\"},\"colorscale\":[[0.0,\"#0d0887\"],[0.1111111111111111,\"#46039f\"],[0.2222222222222222,\"#7201a8\"],[0.3333333333333333,\"#9c179e\"],[0.4444444444444444,\"#bd3786\"],[0.5555555555555556,\"#d8576b\"],[0.6666666666666666,\"#ed7953\"],[0.7777777777777778,\"#fb9f3a\"],[0.8888888888888888,\"#fdca26\"],[1.0,\"#f0f921\"]],\"type\":\"heatmap\"}],\"heatmapgl\":[{\"colorbar\":{\"outlinewidth\":0,\"ticks\":\"\"},\"colorscale\":[[0.0,\"#0d0887\"],[0.1111111111111111,\"#46039f\"],[0.2222222222222222,\"#7201a8\"],[0.3333333333333333,\"#9c179e\"],[0.4444444444444444,\"#bd3786\"],[0.5555555555555556,\"#d8576b\"],[0.6666666666666666,\"#ed7953\"],[0.7777777777777778,\"#fb9f3a\"],[0.8888888888888888,\"#fdca26\"],[1.0,\"#f0f921\"]],\"type\":\"heatmapgl\"}],\"histogram\":[{\"marker\":{\"pattern\":{\"fillmode\":\"overlay\",\"size\":10,\"solidity\":0.2}},\"type\":\"histogram\"}],\"histogram2d\":[{\"colorbar\":{\"outlinewidth\":0,\"ticks\":\"\"},\"colorscale\":[[0.0,\"#0d0887\"],[0.1111111111111111,\"#46039f\"],[0.2222222222222222,\"#7201a8\"],[0.3333333333333333,\"#9c179e\"],[0.4444444444444444,\"#bd3786\"],[0.5555555555555556,\"#d8576b\"],[0.6666666666666666,\"#ed7953\"],[0.7777777777777778,\"#fb9f3a\"],[0.8888888888888888,\"#fdca26\"],[1.0,\"#f0f921\"]],\"type\":\"histogram2d\"}],\"histogram2dcontour\":[{\"colorbar\":{\"outlinewidth\":0,\"ticks\":\"\"},\"colorscale\":[[0.0,\"#0d0887\"],[0.1111111111111111,\"#46039f\"],[0.2222222222222222,\"#7201a8\"],[0.3333333333333333,\"#9c179e\"],[0.4444444444444444,\"#bd3786\"],[0.5555555555555556,\"#d8576b\"],[0.6666666666666666,\"#ed7953\"],[0.7777777777777778,\"#fb9f3a\"],[0.8888888888888888,\"#fdca26\"],[1.0,\"#f0f921\"]],\"type\":\"histogram2dcontour\"}],\"mesh3d\":[{\"colorbar\":{\"outlinewidth\":0,\"ticks\":\"\"},\"type\":\"mesh3d\"}],\"parcoords\":[{\"line\":{\"colorbar\":{\"outlinewidth\":0,\"ticks\":\"\"}},\"type\":\"parcoords\"}],\"pie\":[{\"automargin\":true,\"type\":\"pie\"}],\"scatter\":[{\"marker\":{\"colorbar\":{\"outlinewidth\":0,\"ticks\":\"\"}},\"type\":\"scatter\"}],\"scatter3d\":[{\"line\":{\"colorbar\":{\"outlinewidth\":0,\"ticks\":\"\"}},\"marker\":{\"colorbar\":{\"outlinewidth\":0,\"ticks\":\"\"}},\"type\":\"scatter3d\"}],\"scattercarpet\":[{\"marker\":{\"colorbar\":{\"outlinewidth\":0,\"ticks\":\"\"}},\"type\":\"scattercarpet\"}],\"scattergeo\":[{\"marker\":{\"colorbar\":{\"outlinewidth\":0,\"ticks\":\"\"}},\"type\":\"scattergeo\"}],\"scattergl\":[{\"marker\":{\"colorbar\":{\"outlinewidth\":0,\"ticks\":\"\"}},\"type\":\"scattergl\"}],\"scattermapbox\":[{\"marker\":{\"colorbar\":{\"outlinewidth\":0,\"ticks\":\"\"}},\"type\":\"scattermapbox\"}],\"scatterpolar\":[{\"marker\":{\"colorbar\":{\"outlinewidth\":0,\"ticks\":\"\"}},\"type\":\"scatterpolar\"}],\"scatterpolargl\":[{\"marker\":{\"colorbar\":{\"outlinewidth\":0,\"ticks\":\"\"}},\"type\":\"scatterpolargl\"}],\"scatterternary\":[{\"marker\":{\"colorbar\":{\"outlinewidth\":0,\"ticks\":\"\"}},\"type\":\"scatterternary\"}],\"surface\":[{\"colorbar\":{\"outlinewidth\":0,\"ticks\":\"\"},\"colorscale\":[[0.0,\"#0d0887\"],[0.1111111111111111,\"#46039f\"],[0.2222222222222222,\"#7201a8\"],[0.3333333333333333,\"#9c179e\"],[0.4444444444444444,\"#bd3786\"],[0.5555555555555556,\"#d8576b\"],[0.6666666666666666,\"#ed7953\"],[0.7777777777777778,\"#fb9f3a\"],[0.8888888888888888,\"#fdca26\"],[1.0,\"#f0f921\"]],\"type\":\"surface\"}],\"table\":[{\"cells\":{\"fill\":{\"color\":\"#EBF0F8\"},\"line\":{\"color\":\"white\"}},\"header\":{\"fill\":{\"color\":\"#C8D4E3\"},\"line\":{\"color\":\"white\"}},\"type\":\"table\"}]},\"layout\":{\"annotationdefaults\":{\"arrowcolor\":\"#2a3f5f\",\"arrowhead\":0,\"arrowwidth\":1},\"autotypenumbers\":\"strict\",\"coloraxis\":{\"colorbar\":{\"outlinewidth\":0,\"ticks\":\"\"}},\"colorscale\":{\"diverging\":[[0,\"#8e0152\"],[0.1,\"#c51b7d\"],[0.2,\"#de77ae\"],[0.3,\"#f1b6da\"],[0.4,\"#fde0ef\"],[0.5,\"#f7f7f7\"],[0.6,\"#e6f5d0\"],[0.7,\"#b8e186\"],[0.8,\"#7fbc41\"],[0.9,\"#4d9221\"],[1,\"#276419\"]],\"sequential\":[[0.0,\"#0d0887\"],[0.1111111111111111,\"#46039f\"],[0.2222222222222222,\"#7201a8\"],[0.3333333333333333,\"#9c179e\"],[0.4444444444444444,\"#bd3786\"],[0.5555555555555556,\"#d8576b\"],[0.6666666666666666,\"#ed7953\"],[0.7777777777777778,\"#fb9f3a\"],[0.8888888888888888,\"#fdca26\"],[1.0,\"#f0f921\"]],\"sequentialminus\":[[0.0,\"#0d0887\"],[0.1111111111111111,\"#46039f\"],[0.2222222222222222,\"#7201a8\"],[0.3333333333333333,\"#9c179e\"],[0.4444444444444444,\"#bd3786\"],[0.5555555555555556,\"#d8576b\"],[0.6666666666666666,\"#ed7953\"],[0.7777777777777778,\"#fb9f3a\"],[0.8888888888888888,\"#fdca26\"],[1.0,\"#f0f921\"]]},\"colorway\":[\"#636efa\",\"#EF553B\",\"#00cc96\",\"#ab63fa\",\"#FFA15A\",\"#19d3f3\",\"#FF6692\",\"#B6E880\",\"#FF97FF\",\"#FECB52\"],\"font\":{\"color\":\"#2a3f5f\"},\"geo\":{\"bgcolor\":\"white\",\"lakecolor\":\"white\",\"landcolor\":\"#E5ECF6\",\"showlakes\":true,\"showland\":true,\"subunitcolor\":\"white\"},\"hoverlabel\":{\"align\":\"left\"},\"hovermode\":\"closest\",\"mapbox\":{\"style\":\"light\"},\"paper_bgcolor\":\"white\",\"plot_bgcolor\":\"#E5ECF6\",\"polar\":{\"angularaxis\":{\"gridcolor\":\"white\",\"linecolor\":\"white\",\"ticks\":\"\"},\"bgcolor\":\"#E5ECF6\",\"radialaxis\":{\"gridcolor\":\"white\",\"linecolor\":\"white\",\"ticks\":\"\"}},\"scene\":{\"xaxis\":{\"backgroundcolor\":\"#E5ECF6\",\"gridcolor\":\"white\",\"gridwidth\":2,\"linecolor\":\"white\",\"showbackground\":true,\"ticks\":\"\",\"zerolinecolor\":\"white\"},\"yaxis\":{\"backgroundcolor\":\"#E5ECF6\",\"gridcolor\":\"white\",\"gridwidth\":2,\"linecolor\":\"white\",\"showbackground\":true,\"ticks\":\"\",\"zerolinecolor\":\"white\"},\"zaxis\":{\"backgroundcolor\":\"#E5ECF6\",\"gridcolor\":\"white\",\"gridwidth\":2,\"linecolor\":\"white\",\"showbackground\":true,\"ticks\":\"\",\"zerolinecolor\":\"white\"}},\"shapedefaults\":{\"line\":{\"color\":\"#2a3f5f\"}},\"ternary\":{\"aaxis\":{\"gridcolor\":\"white\",\"linecolor\":\"white\",\"ticks\":\"\"},\"baxis\":{\"gridcolor\":\"white\",\"linecolor\":\"white\",\"ticks\":\"\"},\"bgcolor\":\"#E5ECF6\",\"caxis\":{\"gridcolor\":\"white\",\"linecolor\":\"white\",\"ticks\":\"\"}},\"title\":{\"x\":0.05},\"xaxis\":{\"automargin\":true,\"gridcolor\":\"white\",\"linecolor\":\"white\",\"ticks\":\"\",\"title\":{\"standoff\":15},\"zerolinecolor\":\"white\",\"zerolinewidth\":2},\"yaxis\":{\"automargin\":true,\"gridcolor\":\"white\",\"linecolor\":\"white\",\"ticks\":\"\",\"title\":{\"standoff\":15},\"zerolinecolor\":\"white\",\"zerolinewidth\":2}}},\"xaxis\":{\"anchor\":\"y\",\"domain\":[0.0,1.0],\"title\":{\"text\":\"0\"}},\"yaxis\":{\"anchor\":\"x\",\"domain\":[0.0,1.0],\"title\":{\"text\":\"1\"}},\"legend\":{\"tracegroupgap\":0},\"margin\":{\"t\":60},\"shapes\":[{\"type\":\"line\",\"x0\":0,\"x1\":12.491920012247945,\"y0\":0,\"y1\":-14.431304345107522},{\"type\":\"line\",\"x0\":0,\"x1\":1.7677302603874074,\"y0\":0,\"y1\":-1.1150876013797428},{\"type\":\"line\",\"x0\":0,\"x1\":0.19908956536376757,\"y0\":0,\"y1\":-0.38896026257505956},{\"type\":\"line\",\"x0\":0,\"x1\":3.165144577662132,\"y0\":0,\"y1\":-3.241540478182843},{\"type\":\"line\",\"x0\":0,\"x1\":0.049425677481469636,\"y0\":0,\"y1\":-0.035088350627006715},{\"type\":\"line\",\"x0\":0,\"x1\":-0.3069798969361022,\"y0\":0,\"y1\":1.3224316061210417},{\"type\":\"line\",\"x0\":0,\"x1\":0.9952528734380096,\"y0\":0,\"y1\":-1.0221627384597087},{\"type\":\"line\",\"x0\":0,\"x1\":20.21602276053711,\"y0\":0,\"y1\":12.131664416111283},{\"type\":\"line\",\"x0\":0,\"x1\":6.872356682990583,\"y0\":0,\"y1\":-7.455470514501196},{\"type\":\"line\",\"x0\":0,\"x1\":0.10022372896353958,\"y0\":0,\"y1\":-0.09070619458526352}],\"annotations\":[{\"ax\":0,\"ay\":0,\"text\":\"sbp\",\"x\":12.491920012247945,\"xanchor\":\"center\",\"y\":-14.431304345107522,\"yanchor\":\"bottom\"},{\"ax\":0,\"ay\":0,\"text\":\"tobacco\",\"x\":1.7677302603874074,\"xanchor\":\"center\",\"y\":-1.1150876013797428,\"yanchor\":\"bottom\"},{\"ax\":0,\"ay\":0,\"text\":\"ldl\",\"x\":0.19908956536376757,\"xanchor\":\"center\",\"y\":-0.38896026257505956,\"yanchor\":\"bottom\"},{\"ax\":0,\"ay\":0,\"text\":\"adiposity\",\"x\":3.165144577662132,\"xanchor\":\"center\",\"y\":-3.241540478182843,\"yanchor\":\"bottom\"},{\"ax\":0,\"ay\":0,\"text\":\"famhist\",\"x\":0.049425677481469636,\"xanchor\":\"center\",\"y\":-0.035088350627006715,\"yanchor\":\"bottom\"},{\"ax\":0,\"ay\":0,\"text\":\"typea\",\"x\":-0.3069798969361022,\"xanchor\":\"center\",\"y\":1.3224316061210417,\"yanchor\":\"bottom\"},{\"ax\":0,\"ay\":0,\"text\":\"obesity\",\"x\":0.9952528734380096,\"xanchor\":\"center\",\"y\":-1.0221627384597087,\"yanchor\":\"bottom\"},{\"ax\":0,\"ay\":0,\"text\":\"alcohol\",\"x\":20.21602276053711,\"xanchor\":\"center\",\"y\":12.131664416111283,\"yanchor\":\"bottom\"},{\"ax\":0,\"ay\":0,\"text\":\"age\",\"x\":6.872356682990583,\"xanchor\":\"center\",\"y\":-7.455470514501196,\"yanchor\":\"bottom\"},{\"ax\":0,\"ay\":0,\"text\":\"chd\",\"x\":0.10022372896353958,\"xanchor\":\"center\",\"y\":-0.09070619458526352,\"yanchor\":\"bottom\"}]},                        {\"responsive\": true}                    ).then(function(){\n",
       "                            \n",
       "var gd = document.getElementById('41a5dcd0-57de-4450-82d9-0241295545a2');\n",
       "var x = new MutationObserver(function (mutations, observer) {{\n",
       "        var display = window.getComputedStyle(gd).display;\n",
       "        if (!display || display === 'none') {{\n",
       "            console.log([gd, 'removed!']);\n",
       "            Plotly.purge(gd);\n",
       "            observer.disconnect();\n",
       "        }}\n",
       "}});\n",
       "\n",
       "// Listen for the removal of the full notebook cells\n",
       "var notebookContainer = gd.closest('#notebook-container');\n",
       "if (notebookContainer) {{\n",
       "    x.observe(notebookContainer, {childList: true});\n",
       "}}\n",
       "\n",
       "// Listen for the clearing of the current output cell\n",
       "var outputEl = gd.closest('.output');\n",
       "if (outputEl) {{\n",
       "    x.observe(outputEl, {childList: true});\n",
       "}}\n",
       "\n",
       "                        })                };                });            </script>        </div>"
      ]
     },
     "metadata": {},
     "output_type": "display_data"
    }
   ],
   "source": [
    "pca = PCA(n_components=2)\n",
    "components = pca.fit_transform(df)\n",
    "#skalowanie, aby wykres był bardziej czytelny\n",
    "x = components[:,0]\n",
    "scale_x = 20.0/(x.max() - x.min())\n",
    "y = components[:,1]\n",
    "scale_y = 20.0/(y.max() - y.min())\n",
    "data = np.vstack((x .T*scale_x,y .T*scale_y))\n",
    "\n",
    "loadings = pca.components_ .T * np.sqrt(pca.explained_variance_)\n",
    "\n",
    "fig = px.scatter(np.transpose(data), x=0,y=1)\n",
    "for i, feature in enumerate(df.columns.to_list()):\n",
    "    fig.add_shape(\n",
    "        type='line',\n",
    "        x0=0, y0=0,\n",
    "        x1=loadings[i, 0],\n",
    "        y1=loadings[i, 1]\n",
    "    )\n",
    "    fig.add_annotation(\n",
    "        x=loadings[i, 0],\n",
    "        y=loadings[i, 1],\n",
    "        ax=0, ay=0,\n",
    "        xanchor=\"center\",\n",
    "        yanchor=\"bottom\",\n",
    "        text=feature,\n",
    "    )\n",
    "fig.show()"
   ]
  },
  {
   "cell_type": "markdown",
   "metadata": {},
   "source": [
    "Po standaryzacji:"
   ]
  },
  {
   "cell_type": "code",
   "execution_count": 34,
   "metadata": {},
   "outputs": [
    {
     "data": {
      "application/vnd.plotly.v1+json": {
       "config": {
        "plotlyServerURL": "https://plot.ly"
       },
       "data": [
        {
         "hovertemplate": "0=%{x}<br>1=%{y}<extra></extra>",
         "legendgroup": "",
         "marker": {
          "color": "#636efa",
          "symbol": "circle"
         },
         "mode": "markers",
         "name": "",
         "orientation": "v",
         "showlegend": false,
         "type": "scatter",
         "x": [
          -0.20254975493465682,
          0.15641649949802702,
          0.21422464278105227,
          -0.25939593206149325,
          -0.15361948054293656,
          -0.2610997223259163,
          -0.013404404588549934,
          -0.06643401695375609,
          -0.15197069552776224,
          -0.2566785976408054,
          0.11063443636468975,
          -0.12687449344589302,
          0.11915649424085806,
          -0.23542089801290395,
          -0.18895068269355897,
          0.10148690107945911,
          0.12626273031236032,
          0.11964232425955101,
          -0.4032632526536603,
          -0.024979200060207374,
          -0.08353797265244645,
          -0.008429363998867711,
          0.13939297350774954,
          0.2723620555102476,
          0.0959525275067061,
          -0.2963531912046459,
          0.32403074777091656,
          0.2618340210946624,
          -0.30829631788499084,
          -0.16082189695475851,
          0.15119671635636392,
          0.08620915883106432,
          -0.14254380517259585,
          0.01266351677750555,
          0.32888913705669,
          0.14177200116160066,
          0.19647661912063638,
          0.15832592706994444,
          0.2797229085659955,
          -0.17871489606834562,
          -0.11974214739593132,
          -0.3465880854978926,
          0.21373469963070976,
          0.042471323591130934,
          -0.23471778290008274,
          -0.16662166087899447,
          0.2387466268588829,
          -0.07030910153611986,
          -0.03693002185594771,
          0.08522852395133165,
          0.09239954625256151,
          -0.1702004863173944,
          -0.20265976625318963,
          -0.04526641463945618,
          -0.011850721595481216,
          0.05095176859826573,
          -0.26644927501389487,
          0.030556753640593827,
          -0.3585645566908972,
          0.15285535486827065,
          0.5639134952357817,
          0.2284456326888808,
          0.33954201231349396,
          -0.09546646070242346,
          -0.055909565562647305,
          0.1676989611926672,
          0.20471234840688834,
          0.18884191202542677,
          0.12103455256171337,
          0.29234595215549064,
          -0.03965143836928732,
          -0.3550995308220868,
          0.17478597444301824,
          -0.3368353850559342,
          -0.22351864687583536,
          0.011609172387558373,
          -0.07015147463787993,
          -0.3238583881812154,
          -0.023714354263771838,
          0.01693041148212525,
          0.05782396071506016,
          0.04636595633585203,
          -0.11163069710144974,
          -0.004323336997714378,
          -0.13359717893965997,
          0.06737136946434615,
          0.4190000873482942,
          -0.06745537655518717,
          0.20459823055502308,
          -0.25077274399619964,
          -0.16386636269803367,
          -0.32807805076024066,
          0.021028820269177375,
          0.006253957648543385,
          0.18853290667186845,
          0.15907802095454784,
          0.17790405497364706,
          -0.3566013042154699,
          -0.036544089596539396,
          -0.08106657999463478,
          -0.13378987197562123,
          -0.11423011604993577,
          0.15009289502262804,
          -0.3463263282230314,
          0.05933090566299204,
          0.18052630171995765,
          -0.3302680673710476,
          0.09756530209540389,
          -0.1549433889877553,
          -0.02035677463397534,
          0.2755429797898847,
          0.13532618542436914,
          -0.12768749953634456,
          -0.3570633877819727,
          -0.23105820840268076,
          0.2728501861291255,
          -0.12395552814202022,
          -0.26565063924112536,
          -0.3872682951716254,
          -0.0063688854051544294,
          -0.1843272222705647,
          0.1648524965759402,
          0.19797767845280362,
          0.2815731885091063,
          0.13769851963018942,
          -0.11500140438309811,
          0.19108252298704295,
          0.30085225075605565,
          0.14560067254397338,
          -0.03292263762013313,
          0.14676353502685693,
          0.035349148977597736,
          -0.2066473331167699,
          0.4554054301424037,
          -0.3423637034428008,
          -0.24230826073323694,
          -0.2685315291533455,
          -0.22425736624107778,
          0.06568106407708918,
          0.032251515495762044,
          -0.06622219652936683,
          0.3289113175202419,
          -0.19557108588691866,
          -0.07591255753336466,
          -0.06942895357665362,
          -0.1273203669173001,
          0.26910908830086727,
          -0.13085908655279818,
          -0.05126442199109297,
          -0.2899048269512604,
          0.1386287547202344,
          -0.27855647839229447,
          -0.03255436288009625,
          -0.13159527569906732,
          -0.10655047120837502,
          -0.09170978714827988,
          0.19557888519862476,
          0.015182381817622373,
          -0.02055955049961533,
          0.0771161844630122,
          0.3427493842252913,
          -0.20955937378179879,
          -0.34875898314939585,
          0.24821194828611412,
          0.036903774572997046,
          -0.08069389365965855,
          0.5134810433997724,
          0.2787526608039026,
          0.10265157800304542,
          -0.048457487351939076,
          -0.2839361009245009,
          0.20506277674523454,
          -0.26936368792329407,
          0.24714940034318622,
          -0.3778802189916961,
          0.47460233409293917,
          0.11422180344455671,
          0.14880147272116864,
          0.012803728662178524,
          0.07170551271322544,
          -0.07633719743978204,
          -0.19863049543359435,
          0.16787105041592756,
          -0.3103193083004407,
          0.2084852736699487,
          -0.14423007641080668,
          0.03155438588546754,
          -0.1806530945241357,
          -0.1362600781936402,
          0.1121872821391525,
          -0.03662374016732041,
          -0.06898907407759637,
          0.25595563694806034,
          0.02972197537497059,
          -0.062177856705296485,
          -0.20113729350685547,
          -0.12901138623660408,
          0.2370145145977238,
          0.07187766727013109,
          -0.36144845551721616,
          -0.07326998058571867,
          0.2624544349444479,
          0.2568810558466806,
          -0.033520024752745,
          -0.31237362994692963,
          0.15796292859741567,
          0.14465009136630785,
          0.1659631663083723,
          -0.1087174467763316,
          0.0007737653955497193,
          -0.07633267928486007,
          -0.24628396019259827,
          -0.01785475434007339,
          0.14753549799289703,
          0.3780870349564842,
          0.2563834557458844,
          -0.08540566511303319,
          -0.013798609388742443,
          -0.3343164586556946,
          -0.13687246029530942,
          0.1682324967436051,
          0.3016970593342704,
          0.22546938662239227,
          -0.14939742069730058,
          0.026178259476159083,
          -0.072561266177609,
          0.14557355934782787,
          0.10768923630149799,
          -0.3507204287836772,
          0.403973230825223,
          0.16168695110786238,
          -0.2777637839963878,
          -0.3167547913755661,
          -0.18981758197263274,
          0.11215130679506213,
          0.008716410036088732,
          0.12634265676623535,
          0.33562108800470747,
          -0.30046127291167923,
          -0.26739307826383385,
          0.05712039530894186,
          0.1847071493411046,
          -0.017472589830239117,
          0.1410407153151401,
          0.322715551164495,
          0.034997025086876375,
          0.32712548039734624,
          -0.08342441644295688,
          0.22961781009447815,
          0.2884158512962223,
          0.19129843491127685,
          -0.351556178611955,
          0.049896906643779354,
          0.0994378202584978,
          -0.012309205740984229,
          -0.38703912087595543,
          -0.0673114697066961,
          -0.1652132109644448,
          -0.24464657736251422,
          0.19016132691327933,
          -0.24625857147584918,
          0.04147273351592921,
          -0.43608650476421834,
          0.1992686740796796,
          0.28222436776591486,
          0.02439699021400327,
          -0.37276984807500124,
          -0.02566826860048447,
          0.0480408545126249,
          0.24358535857700106,
          -0.15527242743943726,
          0.04700209576617373,
          -0.36991481958853323,
          0.23562169185459925,
          0.03798462375116569,
          0.18312229801162888,
          -0.1353065183945619,
          0.1842233629829148,
          0.04708742837856731,
          0.12691376566099025,
          0.03116397028182848,
          -0.14162290864891866,
          0.0001843447583764742,
          -0.11097622115625073,
          0.1701835802702952,
          -0.08899237081873462,
          -0.00255445447441813,
          -0.3245206501281035,
          -0.2188906809417141,
          0.275709227105046,
          -0.052945328881733644,
          -0.004665536323340561,
          -0.009352770522142898,
          -0.03293692835269297,
          0.031683115657023954,
          0.06885771460325713,
          0.1830342124504632,
          -0.06625011005541842,
          0.05153059014999686,
          0.17610302861714408,
          -0.027448920769754945,
          -0.23166217394742472,
          0.2689080364094979,
          -0.14715874019244415,
          -0.3461586623118162,
          0.23767551624795388,
          -0.29541584058437065,
          0.06886803161768254,
          -0.10453085945960412,
          0.2931892146456518,
          -0.04884927785980021,
          -0.0363210969031765,
          -0.27432025143933686,
          -0.014715847360152443,
          0.09258087531393075,
          -0.01037519171974622,
          0.23391170131544387,
          0.37518127549745545,
          0.12096055126496112,
          0.25065484997574006,
          0.10758797151138769,
          0.21654950478970295,
          -0.14633534078118873
         ],
         "xaxis": "x",
         "y": [
          0.0769651805152574,
          0.06954239306281824,
          0.18996837587670495,
          -0.020631958297162828,
          -0.073127989585822,
          -0.05677613025130809,
          -0.23936576106096896,
          0.12754193043618492,
          0.356535966335449,
          0.1241712366123719,
          -0.019440720416695485,
          -0.170631231247475,
          -0.266954221508687,
          0.09486980618486428,
          0.07620744951954839,
          -0.17171991569573622,
          0.07162585616049504,
          0.28597445401766264,
          0.049654547135400046,
          0.09038369076779594,
          -0.18467221027908678,
          0.07700129053839173,
          0.2743619610692436,
          -0.1182685551452794,
          -0.18218317007086796,
          -0.04568627654405898,
          0.21803419796563683,
          0.1415338820130094,
          -0.06114230669569374,
          -0.034392195396573504,
          0.07366782928238978,
          0.09668416387360909,
          0.23395502564661888,
          -0.2410098197821486,
          0.07571148313552767,
          -0.029806939905270727,
          0.03816055274734175,
          -0.12644677094464946,
          0.07020088974907504,
          -0.08621555074280703,
          0.15313076389096206,
          0.19008294031547138,
          -0.32656302314285374,
          0.14400326045162246,
          0.07026254315519066,
          0.33301606088425806,
          -0.025574472629233864,
          -0.1782853051073594,
          0.46324502273610535,
          -0.06756525874060622,
          -0.2944892282815974,
          -0.0284074861297317,
          -0.08249121075206933,
          -0.3253651849446787,
          0.025160980364502955,
          -0.18375892632662155,
          0.050934176777272404,
          -0.30407233311742393,
          0.0013814985150551048,
          0.19455043421073343,
          0.18065680691873362,
          -0.03261662614794746,
          -0.05513637992141299,
          -0.1458611139652485,
          -0.12884819728966124,
          -0.005363291516713123,
          0.38148387586820254,
          0.1621586133739815,
          -0.0733797903339841,
          0.028373539053893095,
          0.24941705304286302,
          -0.02114173643196508,
          -0.2270139681424162,
          0.15190548177664973,
          -0.10769218079470098,
          0.2045893531419407,
          -0.21783396395579124,
          -0.0679510727740652,
          0.010287873446123828,
          -0.21895091442915016,
          -0.2892437459499139,
          0.24560606599186324,
          -0.18434298371630548,
          -0.024794971868362516,
          -0.05870777870477739,
          -0.17176502164474947,
          -0.41443546324990616,
          0.10978057329907147,
          0.011573917075242938,
          -0.17188219413450193,
          -0.46665036152498646,
          -0.07566529661449434,
          -0.1534765405383202,
          -0.3147226410276659,
          -0.224411872882557,
          -0.12608352213901386,
          -0.18751639887165786,
          -0.029810216469043298,
          -0.17158298505766736,
          -0.27390546219137707,
          0.1298397729083408,
          0.020312025708957522,
          0.08789542401662585,
          0.028715997833656356,
          -0.2517989314266031,
          0.08109442943955038,
          0.17932729410860082,
          0.099612962291332,
          0.04586691497428142,
          0.33476034980065855,
          0.22442061229544785,
          -0.20690431544855026,
          -0.07465052198200178,
          -0.015060881879495872,
          0.04783013239189509,
          -0.2604585033283875,
          -0.06522695241640036,
          0.07472901253021869,
          0.06286910803663102,
          -0.09549120161912811,
          -0.008776679549587642,
          -0.3998850116091409,
          -0.05364138287788547,
          -0.1865593180990448,
          0.23136333097910222,
          0.09938769924838499,
          0.056277365033701586,
          0.1785205695787427,
          -0.08350837797307645,
          -0.034438847677453685,
          -0.04216973034625663,
          -0.027938475128693158,
          0.19756379270041496,
          0.39266749633147113,
          -0.008993763559654793,
          0.21469940202353371,
          0.011128851417869916,
          0.024785906534661662,
          0.08110642869418784,
          -0.1991333427206692,
          -0.1380376099065533,
          0.3277241201898915,
          -0.14382159574055636,
          0.03591958576032236,
          -0.1631644136370047,
          -0.13543964044704387,
          0.1808682964902099,
          -0.14310263832780565,
          -0.27772938465327107,
          0.14578871526599801,
          0.15606215704379145,
          0.23753369826482135,
          0.032106268684652085,
          0.049095386613271036,
          0.007151564482052094,
          -0.1293353091469494,
          0.016301033713180434,
          -0.1835944644886084,
          -0.12122426331477422,
          -0.21954011542450969,
          -0.0792516603109701,
          -0.060880364238141735,
          0.06280115944232008,
          -0.2775388063203888,
          0.06128128768143923,
          -0.21340426300644125,
          0.24935434293310174,
          -0.24847308046304276,
          -0.03791286252917701,
          0.09689535009237484,
          -0.048237105610651886,
          0.16406790686656095,
          0.09063212953978456,
          -0.1704063309973222,
          -0.004942626974872889,
          0.03653970480894135,
          -0.039955527651997835,
          -0.0009159446521788417,
          0.008327081106647743,
          0.1981419682231245,
          -0.04243933505824846,
          -0.003407651905067663,
          0.04477905482283707,
          -0.09707259411873542,
          -0.07762170233800876,
          -0.1654273617112527,
          -0.14348985074869935,
          0.42483981961522554,
          0.08185730685998951,
          0.34513164392885365,
          0.3110596029584957,
          -3.286538687269319e-05,
          0.1420792072413774,
          0.2564417402775094,
          0.0641793931067546,
          -0.05461073684012268,
          0.0643919710331796,
          -0.011574924324800109,
          -0.1051470539801026,
          0.10358334521430175,
          0.08455476450687599,
          0.16044849707709924,
          0.215035670142717,
          0.3444771617576872,
          -0.057736069226424123,
          -0.19493505417761192,
          -0.07541812939766922,
          0.0564208413108829,
          -0.19004815151560897,
          -0.11718076778465021,
          0.23006615389425086,
          -0.1178636677415187,
          -0.2853167571463934,
          0.23454648715081053,
          -0.07450783734037553,
          0.016935576909896843,
          0.19858128051121401,
          -0.15495526471488288,
          -0.06469330645874768,
          0.13930958155298204,
          -0.27313439079104174,
          -0.2633732655797128,
          -0.24373912291783995,
          0.1886572549544399,
          -0.052171415733281115,
          -0.31061619288147924,
          0.20803705130953595,
          -0.21252837250920845,
          0.014423899776849186,
          0.007623946406490999,
          0.3784006075468898,
          -0.07119300501600498,
          0.043486431892072595,
          -0.12730744326541776,
          -0.01900013026439335,
          -0.1568138164069861,
          -0.07077665255592445,
          0.10862428188193393,
          0.1542741385822336,
          -0.10852839737387714,
          0.21127636943187564,
          0.08426670657287554,
          0.33651025572784304,
          -0.2594411105087715,
          -0.057170250901784944,
          0.18325206587751133,
          -0.10479020929351412,
          -0.1849660236471057,
          0.053790417672339844,
          0.3190158081134709,
          -0.0872863964291612,
          0.23399713862051147,
          0.5333496384750135,
          0.32703724416588226,
          0.29775152741221994,
          0.03450143070248968,
          0.09714795630582179,
          -0.17075328761835923,
          -0.10028003708699562,
          -0.24798307327596267,
          0.12897758146543345,
          -0.28544290824089247,
          0.06536423006035809,
          -0.3091589233383242,
          -0.20562802133578667,
          -0.038337022846597624,
          0.033700281098240456,
          0.041570485368901636,
          -0.03770987714702734,
          -0.0827319246509027,
          -0.05905711357625777,
          -0.29460558070988113,
          -0.05415788271776363,
          -0.372932097510542,
          0.12099659182342558,
          0.20968062103171387,
          -0.08462770412880836,
          0.34366402990109113,
          -0.08136414732595901,
          -0.31274706695799565,
          0.11073147886103762,
          -0.06968507866342026,
          0.08445710718366169,
          -0.2111090190033055,
          0.12096768943917252,
          -0.023331851277160722,
          -0.08928901013974115,
          0.17199829647579803,
          0.08581848931157246,
          0.2691457766422452,
          -0.11920825089447892,
          -0.14682153117447028,
          -0.0036439931520393753,
          -0.0779947485687462,
          -0.12266316359100743,
          -0.0519206555313157,
          0.28133447772741826,
          0.11550348604565427,
          0.0751761558514131,
          -0.08815658334066218,
          -0.0827293421908585,
          -0.2093703379317984,
          0.2385879923224866,
          0.1768654413202487,
          0.03534160471682878,
          0.0863809082430546,
          0.16696369886265142,
          0.0015522463652672032,
          -0.10744000638131339,
          -0.046425759742914956,
          -0.04320487587133146,
          -0.0325363528260427,
          -0.05455155413945635,
          0.08399890654407098,
          0.1016969351382793,
          0.17389201544767197,
          0.11152508344166058,
          0.10302348331299863,
          0.33348756415497477,
          -0.01017414432412256,
          -0.0719713716948301,
          0.0014500201791429394,
          -0.07028091524011797
         ],
         "yaxis": "y"
        }
       ],
       "layout": {
        "annotations": [
         {
          "ax": 0,
          "ay": 0,
          "text": "sbp",
          "x": 0.5779927618614552,
          "xanchor": "center",
          "y": -0.004586743707790334,
          "yanchor": "bottom"
         },
         {
          "ax": 0,
          "ay": 0,
          "text": "tobacco",
          "x": 0.6127730697164941,
          "xanchor": "center",
          "y": 0.3680272186784547,
          "yanchor": "bottom"
         },
         {
          "ax": 0,
          "ay": 0,
          "text": "ldl",
          "x": 0.5169903388945577,
          "xanchor": "center",
          "y": -0.15188232640712498,
          "yanchor": "bottom"
         },
         {
          "ax": 0,
          "ay": 0,
          "text": "adiposity",
          "x": 0.8417819820976435,
          "xanchor": "center",
          "y": -0.3808017872122046,
          "yanchor": "bottom"
         },
         {
          "ax": 0,
          "ay": 0,
          "text": "famhist",
          "x": 0.2853676664442706,
          "xanchor": "center",
          "y": 0.4156100821147697,
          "yanchor": "bottom"
         },
         {
          "ax": 0,
          "ay": 0,
          "text": "typea",
          "x": -0.023956525687394606,
          "xanchor": "center",
          "y": 0.23968134593687265,
          "yanchor": "bottom"
         },
         {
          "ax": 0,
          "ay": 0,
          "text": "obesity",
          "x": 0.5975472422126774,
          "xanchor": "center",
          "y": -0.5804419517074175,
          "yanchor": "bottom"
         },
         {
          "ax": 0,
          "ay": 0,
          "text": "alcohol",
          "x": 0.24797993511456165,
          "xanchor": "center",
          "y": 0.2840665901280992,
          "yanchor": "bottom"
         },
         {
          "ax": 0,
          "ay": 0,
          "text": "age",
          "x": 0.8121050295557362,
          "xanchor": "center",
          "y": 0.07434524151441943,
          "yanchor": "bottom"
         },
         {
          "ax": 0,
          "ay": 0,
          "text": "chd",
          "x": 0.5384722862307701,
          "xanchor": "center",
          "y": 0.5188205657084707,
          "yanchor": "bottom"
         }
        ],
        "legend": {
         "tracegroupgap": 0
        },
        "margin": {
         "t": 60
        },
        "shapes": [
         {
          "type": "line",
          "x0": 0,
          "x1": 0.5779927618614552,
          "y0": 0,
          "y1": -0.004586743707790334
         },
         {
          "type": "line",
          "x0": 0,
          "x1": 0.6127730697164941,
          "y0": 0,
          "y1": 0.3680272186784547
         },
         {
          "type": "line",
          "x0": 0,
          "x1": 0.5169903388945577,
          "y0": 0,
          "y1": -0.15188232640712498
         },
         {
          "type": "line",
          "x0": 0,
          "x1": 0.8417819820976435,
          "y0": 0,
          "y1": -0.3808017872122046
         },
         {
          "type": "line",
          "x0": 0,
          "x1": 0.2853676664442706,
          "y0": 0,
          "y1": 0.4156100821147697
         },
         {
          "type": "line",
          "x0": 0,
          "x1": -0.023956525687394606,
          "y0": 0,
          "y1": 0.23968134593687265
         },
         {
          "type": "line",
          "x0": 0,
          "x1": 0.5975472422126774,
          "y0": 0,
          "y1": -0.5804419517074175
         },
         {
          "type": "line",
          "x0": 0,
          "x1": 0.24797993511456165,
          "y0": 0,
          "y1": 0.2840665901280992
         },
         {
          "type": "line",
          "x0": 0,
          "x1": 0.8121050295557362,
          "y0": 0,
          "y1": 0.07434524151441943
         },
         {
          "type": "line",
          "x0": 0,
          "x1": 0.5384722862307701,
          "y0": 0,
          "y1": 0.5188205657084707
         }
        ],
        "template": {
         "data": {
          "bar": [
           {
            "error_x": {
             "color": "#2a3f5f"
            },
            "error_y": {
             "color": "#2a3f5f"
            },
            "marker": {
             "line": {
              "color": "#E5ECF6",
              "width": 0.5
             },
             "pattern": {
              "fillmode": "overlay",
              "size": 10,
              "solidity": 0.2
             }
            },
            "type": "bar"
           }
          ],
          "barpolar": [
           {
            "marker": {
             "line": {
              "color": "#E5ECF6",
              "width": 0.5
             },
             "pattern": {
              "fillmode": "overlay",
              "size": 10,
              "solidity": 0.2
             }
            },
            "type": "barpolar"
           }
          ],
          "carpet": [
           {
            "aaxis": {
             "endlinecolor": "#2a3f5f",
             "gridcolor": "white",
             "linecolor": "white",
             "minorgridcolor": "white",
             "startlinecolor": "#2a3f5f"
            },
            "baxis": {
             "endlinecolor": "#2a3f5f",
             "gridcolor": "white",
             "linecolor": "white",
             "minorgridcolor": "white",
             "startlinecolor": "#2a3f5f"
            },
            "type": "carpet"
           }
          ],
          "choropleth": [
           {
            "colorbar": {
             "outlinewidth": 0,
             "ticks": ""
            },
            "type": "choropleth"
           }
          ],
          "contour": [
           {
            "colorbar": {
             "outlinewidth": 0,
             "ticks": ""
            },
            "colorscale": [
             [
              0,
              "#0d0887"
             ],
             [
              0.1111111111111111,
              "#46039f"
             ],
             [
              0.2222222222222222,
              "#7201a8"
             ],
             [
              0.3333333333333333,
              "#9c179e"
             ],
             [
              0.4444444444444444,
              "#bd3786"
             ],
             [
              0.5555555555555556,
              "#d8576b"
             ],
             [
              0.6666666666666666,
              "#ed7953"
             ],
             [
              0.7777777777777778,
              "#fb9f3a"
             ],
             [
              0.8888888888888888,
              "#fdca26"
             ],
             [
              1,
              "#f0f921"
             ]
            ],
            "type": "contour"
           }
          ],
          "contourcarpet": [
           {
            "colorbar": {
             "outlinewidth": 0,
             "ticks": ""
            },
            "type": "contourcarpet"
           }
          ],
          "heatmap": [
           {
            "colorbar": {
             "outlinewidth": 0,
             "ticks": ""
            },
            "colorscale": [
             [
              0,
              "#0d0887"
             ],
             [
              0.1111111111111111,
              "#46039f"
             ],
             [
              0.2222222222222222,
              "#7201a8"
             ],
             [
              0.3333333333333333,
              "#9c179e"
             ],
             [
              0.4444444444444444,
              "#bd3786"
             ],
             [
              0.5555555555555556,
              "#d8576b"
             ],
             [
              0.6666666666666666,
              "#ed7953"
             ],
             [
              0.7777777777777778,
              "#fb9f3a"
             ],
             [
              0.8888888888888888,
              "#fdca26"
             ],
             [
              1,
              "#f0f921"
             ]
            ],
            "type": "heatmap"
           }
          ],
          "heatmapgl": [
           {
            "colorbar": {
             "outlinewidth": 0,
             "ticks": ""
            },
            "colorscale": [
             [
              0,
              "#0d0887"
             ],
             [
              0.1111111111111111,
              "#46039f"
             ],
             [
              0.2222222222222222,
              "#7201a8"
             ],
             [
              0.3333333333333333,
              "#9c179e"
             ],
             [
              0.4444444444444444,
              "#bd3786"
             ],
             [
              0.5555555555555556,
              "#d8576b"
             ],
             [
              0.6666666666666666,
              "#ed7953"
             ],
             [
              0.7777777777777778,
              "#fb9f3a"
             ],
             [
              0.8888888888888888,
              "#fdca26"
             ],
             [
              1,
              "#f0f921"
             ]
            ],
            "type": "heatmapgl"
           }
          ],
          "histogram": [
           {
            "marker": {
             "pattern": {
              "fillmode": "overlay",
              "size": 10,
              "solidity": 0.2
             }
            },
            "type": "histogram"
           }
          ],
          "histogram2d": [
           {
            "colorbar": {
             "outlinewidth": 0,
             "ticks": ""
            },
            "colorscale": [
             [
              0,
              "#0d0887"
             ],
             [
              0.1111111111111111,
              "#46039f"
             ],
             [
              0.2222222222222222,
              "#7201a8"
             ],
             [
              0.3333333333333333,
              "#9c179e"
             ],
             [
              0.4444444444444444,
              "#bd3786"
             ],
             [
              0.5555555555555556,
              "#d8576b"
             ],
             [
              0.6666666666666666,
              "#ed7953"
             ],
             [
              0.7777777777777778,
              "#fb9f3a"
             ],
             [
              0.8888888888888888,
              "#fdca26"
             ],
             [
              1,
              "#f0f921"
             ]
            ],
            "type": "histogram2d"
           }
          ],
          "histogram2dcontour": [
           {
            "colorbar": {
             "outlinewidth": 0,
             "ticks": ""
            },
            "colorscale": [
             [
              0,
              "#0d0887"
             ],
             [
              0.1111111111111111,
              "#46039f"
             ],
             [
              0.2222222222222222,
              "#7201a8"
             ],
             [
              0.3333333333333333,
              "#9c179e"
             ],
             [
              0.4444444444444444,
              "#bd3786"
             ],
             [
              0.5555555555555556,
              "#d8576b"
             ],
             [
              0.6666666666666666,
              "#ed7953"
             ],
             [
              0.7777777777777778,
              "#fb9f3a"
             ],
             [
              0.8888888888888888,
              "#fdca26"
             ],
             [
              1,
              "#f0f921"
             ]
            ],
            "type": "histogram2dcontour"
           }
          ],
          "mesh3d": [
           {
            "colorbar": {
             "outlinewidth": 0,
             "ticks": ""
            },
            "type": "mesh3d"
           }
          ],
          "parcoords": [
           {
            "line": {
             "colorbar": {
              "outlinewidth": 0,
              "ticks": ""
             }
            },
            "type": "parcoords"
           }
          ],
          "pie": [
           {
            "automargin": true,
            "type": "pie"
           }
          ],
          "scatter": [
           {
            "marker": {
             "colorbar": {
              "outlinewidth": 0,
              "ticks": ""
             }
            },
            "type": "scatter"
           }
          ],
          "scatter3d": [
           {
            "line": {
             "colorbar": {
              "outlinewidth": 0,
              "ticks": ""
             }
            },
            "marker": {
             "colorbar": {
              "outlinewidth": 0,
              "ticks": ""
             }
            },
            "type": "scatter3d"
           }
          ],
          "scattercarpet": [
           {
            "marker": {
             "colorbar": {
              "outlinewidth": 0,
              "ticks": ""
             }
            },
            "type": "scattercarpet"
           }
          ],
          "scattergeo": [
           {
            "marker": {
             "colorbar": {
              "outlinewidth": 0,
              "ticks": ""
             }
            },
            "type": "scattergeo"
           }
          ],
          "scattergl": [
           {
            "marker": {
             "colorbar": {
              "outlinewidth": 0,
              "ticks": ""
             }
            },
            "type": "scattergl"
           }
          ],
          "scattermapbox": [
           {
            "marker": {
             "colorbar": {
              "outlinewidth": 0,
              "ticks": ""
             }
            },
            "type": "scattermapbox"
           }
          ],
          "scatterpolar": [
           {
            "marker": {
             "colorbar": {
              "outlinewidth": 0,
              "ticks": ""
             }
            },
            "type": "scatterpolar"
           }
          ],
          "scatterpolargl": [
           {
            "marker": {
             "colorbar": {
              "outlinewidth": 0,
              "ticks": ""
             }
            },
            "type": "scatterpolargl"
           }
          ],
          "scatterternary": [
           {
            "marker": {
             "colorbar": {
              "outlinewidth": 0,
              "ticks": ""
             }
            },
            "type": "scatterternary"
           }
          ],
          "surface": [
           {
            "colorbar": {
             "outlinewidth": 0,
             "ticks": ""
            },
            "colorscale": [
             [
              0,
              "#0d0887"
             ],
             [
              0.1111111111111111,
              "#46039f"
             ],
             [
              0.2222222222222222,
              "#7201a8"
             ],
             [
              0.3333333333333333,
              "#9c179e"
             ],
             [
              0.4444444444444444,
              "#bd3786"
             ],
             [
              0.5555555555555556,
              "#d8576b"
             ],
             [
              0.6666666666666666,
              "#ed7953"
             ],
             [
              0.7777777777777778,
              "#fb9f3a"
             ],
             [
              0.8888888888888888,
              "#fdca26"
             ],
             [
              1,
              "#f0f921"
             ]
            ],
            "type": "surface"
           }
          ],
          "table": [
           {
            "cells": {
             "fill": {
              "color": "#EBF0F8"
             },
             "line": {
              "color": "white"
             }
            },
            "header": {
             "fill": {
              "color": "#C8D4E3"
             },
             "line": {
              "color": "white"
             }
            },
            "type": "table"
           }
          ]
         },
         "layout": {
          "annotationdefaults": {
           "arrowcolor": "#2a3f5f",
           "arrowhead": 0,
           "arrowwidth": 1
          },
          "autotypenumbers": "strict",
          "coloraxis": {
           "colorbar": {
            "outlinewidth": 0,
            "ticks": ""
           }
          },
          "colorscale": {
           "diverging": [
            [
             0,
             "#8e0152"
            ],
            [
             0.1,
             "#c51b7d"
            ],
            [
             0.2,
             "#de77ae"
            ],
            [
             0.3,
             "#f1b6da"
            ],
            [
             0.4,
             "#fde0ef"
            ],
            [
             0.5,
             "#f7f7f7"
            ],
            [
             0.6,
             "#e6f5d0"
            ],
            [
             0.7,
             "#b8e186"
            ],
            [
             0.8,
             "#7fbc41"
            ],
            [
             0.9,
             "#4d9221"
            ],
            [
             1,
             "#276419"
            ]
           ],
           "sequential": [
            [
             0,
             "#0d0887"
            ],
            [
             0.1111111111111111,
             "#46039f"
            ],
            [
             0.2222222222222222,
             "#7201a8"
            ],
            [
             0.3333333333333333,
             "#9c179e"
            ],
            [
             0.4444444444444444,
             "#bd3786"
            ],
            [
             0.5555555555555556,
             "#d8576b"
            ],
            [
             0.6666666666666666,
             "#ed7953"
            ],
            [
             0.7777777777777778,
             "#fb9f3a"
            ],
            [
             0.8888888888888888,
             "#fdca26"
            ],
            [
             1,
             "#f0f921"
            ]
           ],
           "sequentialminus": [
            [
             0,
             "#0d0887"
            ],
            [
             0.1111111111111111,
             "#46039f"
            ],
            [
             0.2222222222222222,
             "#7201a8"
            ],
            [
             0.3333333333333333,
             "#9c179e"
            ],
            [
             0.4444444444444444,
             "#bd3786"
            ],
            [
             0.5555555555555556,
             "#d8576b"
            ],
            [
             0.6666666666666666,
             "#ed7953"
            ],
            [
             0.7777777777777778,
             "#fb9f3a"
            ],
            [
             0.8888888888888888,
             "#fdca26"
            ],
            [
             1,
             "#f0f921"
            ]
           ]
          },
          "colorway": [
           "#636efa",
           "#EF553B",
           "#00cc96",
           "#ab63fa",
           "#FFA15A",
           "#19d3f3",
           "#FF6692",
           "#B6E880",
           "#FF97FF",
           "#FECB52"
          ],
          "font": {
           "color": "#2a3f5f"
          },
          "geo": {
           "bgcolor": "white",
           "lakecolor": "white",
           "landcolor": "#E5ECF6",
           "showlakes": true,
           "showland": true,
           "subunitcolor": "white"
          },
          "hoverlabel": {
           "align": "left"
          },
          "hovermode": "closest",
          "mapbox": {
           "style": "light"
          },
          "paper_bgcolor": "white",
          "plot_bgcolor": "#E5ECF6",
          "polar": {
           "angularaxis": {
            "gridcolor": "white",
            "linecolor": "white",
            "ticks": ""
           },
           "bgcolor": "#E5ECF6",
           "radialaxis": {
            "gridcolor": "white",
            "linecolor": "white",
            "ticks": ""
           }
          },
          "scene": {
           "xaxis": {
            "backgroundcolor": "#E5ECF6",
            "gridcolor": "white",
            "gridwidth": 2,
            "linecolor": "white",
            "showbackground": true,
            "ticks": "",
            "zerolinecolor": "white"
           },
           "yaxis": {
            "backgroundcolor": "#E5ECF6",
            "gridcolor": "white",
            "gridwidth": 2,
            "linecolor": "white",
            "showbackground": true,
            "ticks": "",
            "zerolinecolor": "white"
           },
           "zaxis": {
            "backgroundcolor": "#E5ECF6",
            "gridcolor": "white",
            "gridwidth": 2,
            "linecolor": "white",
            "showbackground": true,
            "ticks": "",
            "zerolinecolor": "white"
           }
          },
          "shapedefaults": {
           "line": {
            "color": "#2a3f5f"
           }
          },
          "ternary": {
           "aaxis": {
            "gridcolor": "white",
            "linecolor": "white",
            "ticks": ""
           },
           "baxis": {
            "gridcolor": "white",
            "linecolor": "white",
            "ticks": ""
           },
           "bgcolor": "#E5ECF6",
           "caxis": {
            "gridcolor": "white",
            "linecolor": "white",
            "ticks": ""
           }
          },
          "title": {
           "x": 0.05
          },
          "xaxis": {
           "automargin": true,
           "gridcolor": "white",
           "linecolor": "white",
           "ticks": "",
           "title": {
            "standoff": 15
           },
           "zerolinecolor": "white",
           "zerolinewidth": 2
          },
          "yaxis": {
           "automargin": true,
           "gridcolor": "white",
           "linecolor": "white",
           "ticks": "",
           "title": {
            "standoff": 15
           },
           "zerolinecolor": "white",
           "zerolinewidth": 2
          }
         }
        },
        "xaxis": {
         "anchor": "y",
         "domain": [
          0,
          1
         ],
         "title": {
          "text": "0"
         }
        },
        "yaxis": {
         "anchor": "x",
         "domain": [
          0,
          1
         ],
         "title": {
          "text": "1"
         }
        }
       }
      },
      "text/html": [
       "<div>                            <div id=\"68fcabd3-6e66-4495-9b34-a734e935ac50\" class=\"plotly-graph-div\" style=\"height:525px; width:100%;\"></div>            <script type=\"text/javascript\">                require([\"plotly\"], function(Plotly) {                    window.PLOTLYENV=window.PLOTLYENV || {};                                    if (document.getElementById(\"68fcabd3-6e66-4495-9b34-a734e935ac50\")) {                    Plotly.newPlot(                        \"68fcabd3-6e66-4495-9b34-a734e935ac50\",                        [{\"hovertemplate\":\"0=%{x}<br>1=%{y}<extra></extra>\",\"legendgroup\":\"\",\"marker\":{\"color\":\"#636efa\",\"symbol\":\"circle\"},\"mode\":\"markers\",\"name\":\"\",\"orientation\":\"v\",\"showlegend\":false,\"x\":[-0.20254975493465682,0.15641649949802702,0.21422464278105227,-0.25939593206149325,-0.15361948054293656,-0.2610997223259163,-0.013404404588549934,-0.06643401695375609,-0.15197069552776224,-0.2566785976408054,0.11063443636468975,-0.12687449344589302,0.11915649424085806,-0.23542089801290395,-0.18895068269355897,0.10148690107945911,0.12626273031236032,0.11964232425955101,-0.4032632526536603,-0.024979200060207374,-0.08353797265244645,-0.008429363998867711,0.13939297350774954,0.2723620555102476,0.0959525275067061,-0.2963531912046459,0.32403074777091656,0.2618340210946624,-0.30829631788499084,-0.16082189695475851,0.15119671635636392,0.08620915883106432,-0.14254380517259585,0.01266351677750555,0.32888913705669,0.14177200116160066,0.19647661912063638,0.15832592706994444,0.2797229085659955,-0.17871489606834562,-0.11974214739593132,-0.3465880854978926,0.21373469963070976,0.042471323591130934,-0.23471778290008274,-0.16662166087899447,0.2387466268588829,-0.07030910153611986,-0.03693002185594771,0.08522852395133165,0.09239954625256151,-0.1702004863173944,-0.20265976625318963,-0.04526641463945618,-0.011850721595481216,0.05095176859826573,-0.26644927501389487,0.030556753640593827,-0.3585645566908972,0.15285535486827065,0.5639134952357817,0.2284456326888808,0.33954201231349396,-0.09546646070242346,-0.055909565562647305,0.1676989611926672,0.20471234840688834,0.18884191202542677,0.12103455256171337,0.29234595215549064,-0.03965143836928732,-0.3550995308220868,0.17478597444301824,-0.3368353850559342,-0.22351864687583536,0.011609172387558373,-0.07015147463787993,-0.3238583881812154,-0.023714354263771838,0.01693041148212525,0.05782396071506016,0.04636595633585203,-0.11163069710144974,-0.004323336997714378,-0.13359717893965997,0.06737136946434615,0.4190000873482942,-0.06745537655518717,0.20459823055502308,-0.25077274399619964,-0.16386636269803367,-0.32807805076024066,0.021028820269177375,0.006253957648543385,0.18853290667186845,0.15907802095454784,0.17790405497364706,-0.3566013042154699,-0.036544089596539396,-0.08106657999463478,-0.13378987197562123,-0.11423011604993577,0.15009289502262804,-0.3463263282230314,0.05933090566299204,0.18052630171995765,-0.3302680673710476,0.09756530209540389,-0.1549433889877553,-0.02035677463397534,0.2755429797898847,0.13532618542436914,-0.12768749953634456,-0.3570633877819727,-0.23105820840268076,0.2728501861291255,-0.12395552814202022,-0.26565063924112536,-0.3872682951716254,-0.0063688854051544294,-0.1843272222705647,0.1648524965759402,0.19797767845280362,0.2815731885091063,0.13769851963018942,-0.11500140438309811,0.19108252298704295,0.30085225075605565,0.14560067254397338,-0.03292263762013313,0.14676353502685693,0.035349148977597736,-0.2066473331167699,0.4554054301424037,-0.3423637034428008,-0.24230826073323694,-0.2685315291533455,-0.22425736624107778,0.06568106407708918,0.032251515495762044,-0.06622219652936683,0.3289113175202419,-0.19557108588691866,-0.07591255753336466,-0.06942895357665362,-0.1273203669173001,0.26910908830086727,-0.13085908655279818,-0.05126442199109297,-0.2899048269512604,0.1386287547202344,-0.27855647839229447,-0.03255436288009625,-0.13159527569906732,-0.10655047120837502,-0.09170978714827988,0.19557888519862476,0.015182381817622373,-0.02055955049961533,0.0771161844630122,0.3427493842252913,-0.20955937378179879,-0.34875898314939585,0.24821194828611412,0.036903774572997046,-0.08069389365965855,0.5134810433997724,0.2787526608039026,0.10265157800304542,-0.048457487351939076,-0.2839361009245009,0.20506277674523454,-0.26936368792329407,0.24714940034318622,-0.3778802189916961,0.47460233409293917,0.11422180344455671,0.14880147272116864,0.012803728662178524,0.07170551271322544,-0.07633719743978204,-0.19863049543359435,0.16787105041592756,-0.3103193083004407,0.2084852736699487,-0.14423007641080668,0.03155438588546754,-0.1806530945241357,-0.1362600781936402,0.1121872821391525,-0.03662374016732041,-0.06898907407759637,0.25595563694806034,0.02972197537497059,-0.062177856705296485,-0.20113729350685547,-0.12901138623660408,0.2370145145977238,0.07187766727013109,-0.36144845551721616,-0.07326998058571867,0.2624544349444479,0.2568810558466806,-0.033520024752745,-0.31237362994692963,0.15796292859741567,0.14465009136630785,0.1659631663083723,-0.1087174467763316,0.0007737653955497193,-0.07633267928486007,-0.24628396019259827,-0.01785475434007339,0.14753549799289703,0.3780870349564842,0.2563834557458844,-0.08540566511303319,-0.013798609388742443,-0.3343164586556946,-0.13687246029530942,0.1682324967436051,0.3016970593342704,0.22546938662239227,-0.14939742069730058,0.026178259476159083,-0.072561266177609,0.14557355934782787,0.10768923630149799,-0.3507204287836772,0.403973230825223,0.16168695110786238,-0.2777637839963878,-0.3167547913755661,-0.18981758197263274,0.11215130679506213,0.008716410036088732,0.12634265676623535,0.33562108800470747,-0.30046127291167923,-0.26739307826383385,0.05712039530894186,0.1847071493411046,-0.017472589830239117,0.1410407153151401,0.322715551164495,0.034997025086876375,0.32712548039734624,-0.08342441644295688,0.22961781009447815,0.2884158512962223,0.19129843491127685,-0.351556178611955,0.049896906643779354,0.0994378202584978,-0.012309205740984229,-0.38703912087595543,-0.0673114697066961,-0.1652132109644448,-0.24464657736251422,0.19016132691327933,-0.24625857147584918,0.04147273351592921,-0.43608650476421834,0.1992686740796796,0.28222436776591486,0.02439699021400327,-0.37276984807500124,-0.02566826860048447,0.0480408545126249,0.24358535857700106,-0.15527242743943726,0.04700209576617373,-0.36991481958853323,0.23562169185459925,0.03798462375116569,0.18312229801162888,-0.1353065183945619,0.1842233629829148,0.04708742837856731,0.12691376566099025,0.03116397028182848,-0.14162290864891866,0.0001843447583764742,-0.11097622115625073,0.1701835802702952,-0.08899237081873462,-0.00255445447441813,-0.3245206501281035,-0.2188906809417141,0.275709227105046,-0.052945328881733644,-0.004665536323340561,-0.009352770522142898,-0.03293692835269297,0.031683115657023954,0.06885771460325713,0.1830342124504632,-0.06625011005541842,0.05153059014999686,0.17610302861714408,-0.027448920769754945,-0.23166217394742472,0.2689080364094979,-0.14715874019244415,-0.3461586623118162,0.23767551624795388,-0.29541584058437065,0.06886803161768254,-0.10453085945960412,0.2931892146456518,-0.04884927785980021,-0.0363210969031765,-0.27432025143933686,-0.014715847360152443,0.09258087531393075,-0.01037519171974622,0.23391170131544387,0.37518127549745545,0.12096055126496112,0.25065484997574006,0.10758797151138769,0.21654950478970295,-0.14633534078118873],\"xaxis\":\"x\",\"y\":[0.0769651805152574,0.06954239306281824,0.18996837587670495,-0.020631958297162828,-0.073127989585822,-0.05677613025130809,-0.23936576106096896,0.12754193043618492,0.356535966335449,0.1241712366123719,-0.019440720416695485,-0.170631231247475,-0.266954221508687,0.09486980618486428,0.07620744951954839,-0.17171991569573622,0.07162585616049504,0.28597445401766264,0.049654547135400046,0.09038369076779594,-0.18467221027908678,0.07700129053839173,0.2743619610692436,-0.1182685551452794,-0.18218317007086796,-0.04568627654405898,0.21803419796563683,0.1415338820130094,-0.06114230669569374,-0.034392195396573504,0.07366782928238978,0.09668416387360909,0.23395502564661888,-0.2410098197821486,0.07571148313552767,-0.029806939905270727,0.03816055274734175,-0.12644677094464946,0.07020088974907504,-0.08621555074280703,0.15313076389096206,0.19008294031547138,-0.32656302314285374,0.14400326045162246,0.07026254315519066,0.33301606088425806,-0.025574472629233864,-0.1782853051073594,0.46324502273610535,-0.06756525874060622,-0.2944892282815974,-0.0284074861297317,-0.08249121075206933,-0.3253651849446787,0.025160980364502955,-0.18375892632662155,0.050934176777272404,-0.30407233311742393,0.0013814985150551048,0.19455043421073343,0.18065680691873362,-0.03261662614794746,-0.05513637992141299,-0.1458611139652485,-0.12884819728966124,-0.005363291516713123,0.38148387586820254,0.1621586133739815,-0.0733797903339841,0.028373539053893095,0.24941705304286302,-0.02114173643196508,-0.2270139681424162,0.15190548177664973,-0.10769218079470098,0.2045893531419407,-0.21783396395579124,-0.0679510727740652,0.010287873446123828,-0.21895091442915016,-0.2892437459499139,0.24560606599186324,-0.18434298371630548,-0.024794971868362516,-0.05870777870477739,-0.17176502164474947,-0.41443546324990616,0.10978057329907147,0.011573917075242938,-0.17188219413450193,-0.46665036152498646,-0.07566529661449434,-0.1534765405383202,-0.3147226410276659,-0.224411872882557,-0.12608352213901386,-0.18751639887165786,-0.029810216469043298,-0.17158298505766736,-0.27390546219137707,0.1298397729083408,0.020312025708957522,0.08789542401662585,0.028715997833656356,-0.2517989314266031,0.08109442943955038,0.17932729410860082,0.099612962291332,0.04586691497428142,0.33476034980065855,0.22442061229544785,-0.20690431544855026,-0.07465052198200178,-0.015060881879495872,0.04783013239189509,-0.2604585033283875,-0.06522695241640036,0.07472901253021869,0.06286910803663102,-0.09549120161912811,-0.008776679549587642,-0.3998850116091409,-0.05364138287788547,-0.1865593180990448,0.23136333097910222,0.09938769924838499,0.056277365033701586,0.1785205695787427,-0.08350837797307645,-0.034438847677453685,-0.04216973034625663,-0.027938475128693158,0.19756379270041496,0.39266749633147113,-0.008993763559654793,0.21469940202353371,0.011128851417869916,0.024785906534661662,0.08110642869418784,-0.1991333427206692,-0.1380376099065533,0.3277241201898915,-0.14382159574055636,0.03591958576032236,-0.1631644136370047,-0.13543964044704387,0.1808682964902099,-0.14310263832780565,-0.27772938465327107,0.14578871526599801,0.15606215704379145,0.23753369826482135,0.032106268684652085,0.049095386613271036,0.007151564482052094,-0.1293353091469494,0.016301033713180434,-0.1835944644886084,-0.12122426331477422,-0.21954011542450969,-0.0792516603109701,-0.060880364238141735,0.06280115944232008,-0.2775388063203888,0.06128128768143923,-0.21340426300644125,0.24935434293310174,-0.24847308046304276,-0.03791286252917701,0.09689535009237484,-0.048237105610651886,0.16406790686656095,0.09063212953978456,-0.1704063309973222,-0.004942626974872889,0.03653970480894135,-0.039955527651997835,-0.0009159446521788417,0.008327081106647743,0.1981419682231245,-0.04243933505824846,-0.003407651905067663,0.04477905482283707,-0.09707259411873542,-0.07762170233800876,-0.1654273617112527,-0.14348985074869935,0.42483981961522554,0.08185730685998951,0.34513164392885365,0.3110596029584957,-3.286538687269319e-05,0.1420792072413774,0.2564417402775094,0.0641793931067546,-0.05461073684012268,0.0643919710331796,-0.011574924324800109,-0.1051470539801026,0.10358334521430175,0.08455476450687599,0.16044849707709924,0.215035670142717,0.3444771617576872,-0.057736069226424123,-0.19493505417761192,-0.07541812939766922,0.0564208413108829,-0.19004815151560897,-0.11718076778465021,0.23006615389425086,-0.1178636677415187,-0.2853167571463934,0.23454648715081053,-0.07450783734037553,0.016935576909896843,0.19858128051121401,-0.15495526471488288,-0.06469330645874768,0.13930958155298204,-0.27313439079104174,-0.2633732655797128,-0.24373912291783995,0.1886572549544399,-0.052171415733281115,-0.31061619288147924,0.20803705130953595,-0.21252837250920845,0.014423899776849186,0.007623946406490999,0.3784006075468898,-0.07119300501600498,0.043486431892072595,-0.12730744326541776,-0.01900013026439335,-0.1568138164069861,-0.07077665255592445,0.10862428188193393,0.1542741385822336,-0.10852839737387714,0.21127636943187564,0.08426670657287554,0.33651025572784304,-0.2594411105087715,-0.057170250901784944,0.18325206587751133,-0.10479020929351412,-0.1849660236471057,0.053790417672339844,0.3190158081134709,-0.0872863964291612,0.23399713862051147,0.5333496384750135,0.32703724416588226,0.29775152741221994,0.03450143070248968,0.09714795630582179,-0.17075328761835923,-0.10028003708699562,-0.24798307327596267,0.12897758146543345,-0.28544290824089247,0.06536423006035809,-0.3091589233383242,-0.20562802133578667,-0.038337022846597624,0.033700281098240456,0.041570485368901636,-0.03770987714702734,-0.0827319246509027,-0.05905711357625777,-0.29460558070988113,-0.05415788271776363,-0.372932097510542,0.12099659182342558,0.20968062103171387,-0.08462770412880836,0.34366402990109113,-0.08136414732595901,-0.31274706695799565,0.11073147886103762,-0.06968507866342026,0.08445710718366169,-0.2111090190033055,0.12096768943917252,-0.023331851277160722,-0.08928901013974115,0.17199829647579803,0.08581848931157246,0.2691457766422452,-0.11920825089447892,-0.14682153117447028,-0.0036439931520393753,-0.0779947485687462,-0.12266316359100743,-0.0519206555313157,0.28133447772741826,0.11550348604565427,0.0751761558514131,-0.08815658334066218,-0.0827293421908585,-0.2093703379317984,0.2385879923224866,0.1768654413202487,0.03534160471682878,0.0863809082430546,0.16696369886265142,0.0015522463652672032,-0.10744000638131339,-0.046425759742914956,-0.04320487587133146,-0.0325363528260427,-0.05455155413945635,0.08399890654407098,0.1016969351382793,0.17389201544767197,0.11152508344166058,0.10302348331299863,0.33348756415497477,-0.01017414432412256,-0.0719713716948301,0.0014500201791429394,-0.07028091524011797],\"yaxis\":\"y\",\"type\":\"scatter\"}],                        {\"template\":{\"data\":{\"bar\":[{\"error_x\":{\"color\":\"#2a3f5f\"},\"error_y\":{\"color\":\"#2a3f5f\"},\"marker\":{\"line\":{\"color\":\"#E5ECF6\",\"width\":0.5},\"pattern\":{\"fillmode\":\"overlay\",\"size\":10,\"solidity\":0.2}},\"type\":\"bar\"}],\"barpolar\":[{\"marker\":{\"line\":{\"color\":\"#E5ECF6\",\"width\":0.5},\"pattern\":{\"fillmode\":\"overlay\",\"size\":10,\"solidity\":0.2}},\"type\":\"barpolar\"}],\"carpet\":[{\"aaxis\":{\"endlinecolor\":\"#2a3f5f\",\"gridcolor\":\"white\",\"linecolor\":\"white\",\"minorgridcolor\":\"white\",\"startlinecolor\":\"#2a3f5f\"},\"baxis\":{\"endlinecolor\":\"#2a3f5f\",\"gridcolor\":\"white\",\"linecolor\":\"white\",\"minorgridcolor\":\"white\",\"startlinecolor\":\"#2a3f5f\"},\"type\":\"carpet\"}],\"choropleth\":[{\"colorbar\":{\"outlinewidth\":0,\"ticks\":\"\"},\"type\":\"choropleth\"}],\"contour\":[{\"colorbar\":{\"outlinewidth\":0,\"ticks\":\"\"},\"colorscale\":[[0.0,\"#0d0887\"],[0.1111111111111111,\"#46039f\"],[0.2222222222222222,\"#7201a8\"],[0.3333333333333333,\"#9c179e\"],[0.4444444444444444,\"#bd3786\"],[0.5555555555555556,\"#d8576b\"],[0.6666666666666666,\"#ed7953\"],[0.7777777777777778,\"#fb9f3a\"],[0.8888888888888888,\"#fdca26\"],[1.0,\"#f0f921\"]],\"type\":\"contour\"}],\"contourcarpet\":[{\"colorbar\":{\"outlinewidth\":0,\"ticks\":\"\"},\"type\":\"contourcarpet\"}],\"heatmap\":[{\"colorbar\":{\"outlinewidth\":0,\"ticks\":\"\"},\"colorscale\":[[0.0,\"#0d0887\"],[0.1111111111111111,\"#46039f\"],[0.2222222222222222,\"#7201a8\"],[0.3333333333333333,\"#9c179e\"],[0.4444444444444444,\"#bd3786\"],[0.5555555555555556,\"#d8576b\"],[0.6666666666666666,\"#ed7953\"],[0.7777777777777778,\"#fb9f3a\"],[0.8888888888888888,\"#fdca26\"],[1.0,\"#f0f921\"]],\"type\":\"heatmap\"}],\"heatmapgl\":[{\"colorbar\":{\"outlinewidth\":0,\"ticks\":\"\"},\"colorscale\":[[0.0,\"#0d0887\"],[0.1111111111111111,\"#46039f\"],[0.2222222222222222,\"#7201a8\"],[0.3333333333333333,\"#9c179e\"],[0.4444444444444444,\"#bd3786\"],[0.5555555555555556,\"#d8576b\"],[0.6666666666666666,\"#ed7953\"],[0.7777777777777778,\"#fb9f3a\"],[0.8888888888888888,\"#fdca26\"],[1.0,\"#f0f921\"]],\"type\":\"heatmapgl\"}],\"histogram\":[{\"marker\":{\"pattern\":{\"fillmode\":\"overlay\",\"size\":10,\"solidity\":0.2}},\"type\":\"histogram\"}],\"histogram2d\":[{\"colorbar\":{\"outlinewidth\":0,\"ticks\":\"\"},\"colorscale\":[[0.0,\"#0d0887\"],[0.1111111111111111,\"#46039f\"],[0.2222222222222222,\"#7201a8\"],[0.3333333333333333,\"#9c179e\"],[0.4444444444444444,\"#bd3786\"],[0.5555555555555556,\"#d8576b\"],[0.6666666666666666,\"#ed7953\"],[0.7777777777777778,\"#fb9f3a\"],[0.8888888888888888,\"#fdca26\"],[1.0,\"#f0f921\"]],\"type\":\"histogram2d\"}],\"histogram2dcontour\":[{\"colorbar\":{\"outlinewidth\":0,\"ticks\":\"\"},\"colorscale\":[[0.0,\"#0d0887\"],[0.1111111111111111,\"#46039f\"],[0.2222222222222222,\"#7201a8\"],[0.3333333333333333,\"#9c179e\"],[0.4444444444444444,\"#bd3786\"],[0.5555555555555556,\"#d8576b\"],[0.6666666666666666,\"#ed7953\"],[0.7777777777777778,\"#fb9f3a\"],[0.8888888888888888,\"#fdca26\"],[1.0,\"#f0f921\"]],\"type\":\"histogram2dcontour\"}],\"mesh3d\":[{\"colorbar\":{\"outlinewidth\":0,\"ticks\":\"\"},\"type\":\"mesh3d\"}],\"parcoords\":[{\"line\":{\"colorbar\":{\"outlinewidth\":0,\"ticks\":\"\"}},\"type\":\"parcoords\"}],\"pie\":[{\"automargin\":true,\"type\":\"pie\"}],\"scatter\":[{\"marker\":{\"colorbar\":{\"outlinewidth\":0,\"ticks\":\"\"}},\"type\":\"scatter\"}],\"scatter3d\":[{\"line\":{\"colorbar\":{\"outlinewidth\":0,\"ticks\":\"\"}},\"marker\":{\"colorbar\":{\"outlinewidth\":0,\"ticks\":\"\"}},\"type\":\"scatter3d\"}],\"scattercarpet\":[{\"marker\":{\"colorbar\":{\"outlinewidth\":0,\"ticks\":\"\"}},\"type\":\"scattercarpet\"}],\"scattergeo\":[{\"marker\":{\"colorbar\":{\"outlinewidth\":0,\"ticks\":\"\"}},\"type\":\"scattergeo\"}],\"scattergl\":[{\"marker\":{\"colorbar\":{\"outlinewidth\":0,\"ticks\":\"\"}},\"type\":\"scattergl\"}],\"scattermapbox\":[{\"marker\":{\"colorbar\":{\"outlinewidth\":0,\"ticks\":\"\"}},\"type\":\"scattermapbox\"}],\"scatterpolar\":[{\"marker\":{\"colorbar\":{\"outlinewidth\":0,\"ticks\":\"\"}},\"type\":\"scatterpolar\"}],\"scatterpolargl\":[{\"marker\":{\"colorbar\":{\"outlinewidth\":0,\"ticks\":\"\"}},\"type\":\"scatterpolargl\"}],\"scatterternary\":[{\"marker\":{\"colorbar\":{\"outlinewidth\":0,\"ticks\":\"\"}},\"type\":\"scatterternary\"}],\"surface\":[{\"colorbar\":{\"outlinewidth\":0,\"ticks\":\"\"},\"colorscale\":[[0.0,\"#0d0887\"],[0.1111111111111111,\"#46039f\"],[0.2222222222222222,\"#7201a8\"],[0.3333333333333333,\"#9c179e\"],[0.4444444444444444,\"#bd3786\"],[0.5555555555555556,\"#d8576b\"],[0.6666666666666666,\"#ed7953\"],[0.7777777777777778,\"#fb9f3a\"],[0.8888888888888888,\"#fdca26\"],[1.0,\"#f0f921\"]],\"type\":\"surface\"}],\"table\":[{\"cells\":{\"fill\":{\"color\":\"#EBF0F8\"},\"line\":{\"color\":\"white\"}},\"header\":{\"fill\":{\"color\":\"#C8D4E3\"},\"line\":{\"color\":\"white\"}},\"type\":\"table\"}]},\"layout\":{\"annotationdefaults\":{\"arrowcolor\":\"#2a3f5f\",\"arrowhead\":0,\"arrowwidth\":1},\"autotypenumbers\":\"strict\",\"coloraxis\":{\"colorbar\":{\"outlinewidth\":0,\"ticks\":\"\"}},\"colorscale\":{\"diverging\":[[0,\"#8e0152\"],[0.1,\"#c51b7d\"],[0.2,\"#de77ae\"],[0.3,\"#f1b6da\"],[0.4,\"#fde0ef\"],[0.5,\"#f7f7f7\"],[0.6,\"#e6f5d0\"],[0.7,\"#b8e186\"],[0.8,\"#7fbc41\"],[0.9,\"#4d9221\"],[1,\"#276419\"]],\"sequential\":[[0.0,\"#0d0887\"],[0.1111111111111111,\"#46039f\"],[0.2222222222222222,\"#7201a8\"],[0.3333333333333333,\"#9c179e\"],[0.4444444444444444,\"#bd3786\"],[0.5555555555555556,\"#d8576b\"],[0.6666666666666666,\"#ed7953\"],[0.7777777777777778,\"#fb9f3a\"],[0.8888888888888888,\"#fdca26\"],[1.0,\"#f0f921\"]],\"sequentialminus\":[[0.0,\"#0d0887\"],[0.1111111111111111,\"#46039f\"],[0.2222222222222222,\"#7201a8\"],[0.3333333333333333,\"#9c179e\"],[0.4444444444444444,\"#bd3786\"],[0.5555555555555556,\"#d8576b\"],[0.6666666666666666,\"#ed7953\"],[0.7777777777777778,\"#fb9f3a\"],[0.8888888888888888,\"#fdca26\"],[1.0,\"#f0f921\"]]},\"colorway\":[\"#636efa\",\"#EF553B\",\"#00cc96\",\"#ab63fa\",\"#FFA15A\",\"#19d3f3\",\"#FF6692\",\"#B6E880\",\"#FF97FF\",\"#FECB52\"],\"font\":{\"color\":\"#2a3f5f\"},\"geo\":{\"bgcolor\":\"white\",\"lakecolor\":\"white\",\"landcolor\":\"#E5ECF6\",\"showlakes\":true,\"showland\":true,\"subunitcolor\":\"white\"},\"hoverlabel\":{\"align\":\"left\"},\"hovermode\":\"closest\",\"mapbox\":{\"style\":\"light\"},\"paper_bgcolor\":\"white\",\"plot_bgcolor\":\"#E5ECF6\",\"polar\":{\"angularaxis\":{\"gridcolor\":\"white\",\"linecolor\":\"white\",\"ticks\":\"\"},\"bgcolor\":\"#E5ECF6\",\"radialaxis\":{\"gridcolor\":\"white\",\"linecolor\":\"white\",\"ticks\":\"\"}},\"scene\":{\"xaxis\":{\"backgroundcolor\":\"#E5ECF6\",\"gridcolor\":\"white\",\"gridwidth\":2,\"linecolor\":\"white\",\"showbackground\":true,\"ticks\":\"\",\"zerolinecolor\":\"white\"},\"yaxis\":{\"backgroundcolor\":\"#E5ECF6\",\"gridcolor\":\"white\",\"gridwidth\":2,\"linecolor\":\"white\",\"showbackground\":true,\"ticks\":\"\",\"zerolinecolor\":\"white\"},\"zaxis\":{\"backgroundcolor\":\"#E5ECF6\",\"gridcolor\":\"white\",\"gridwidth\":2,\"linecolor\":\"white\",\"showbackground\":true,\"ticks\":\"\",\"zerolinecolor\":\"white\"}},\"shapedefaults\":{\"line\":{\"color\":\"#2a3f5f\"}},\"ternary\":{\"aaxis\":{\"gridcolor\":\"white\",\"linecolor\":\"white\",\"ticks\":\"\"},\"baxis\":{\"gridcolor\":\"white\",\"linecolor\":\"white\",\"ticks\":\"\"},\"bgcolor\":\"#E5ECF6\",\"caxis\":{\"gridcolor\":\"white\",\"linecolor\":\"white\",\"ticks\":\"\"}},\"title\":{\"x\":0.05},\"xaxis\":{\"automargin\":true,\"gridcolor\":\"white\",\"linecolor\":\"white\",\"ticks\":\"\",\"title\":{\"standoff\":15},\"zerolinecolor\":\"white\",\"zerolinewidth\":2},\"yaxis\":{\"automargin\":true,\"gridcolor\":\"white\",\"linecolor\":\"white\",\"ticks\":\"\",\"title\":{\"standoff\":15},\"zerolinecolor\":\"white\",\"zerolinewidth\":2}}},\"xaxis\":{\"anchor\":\"y\",\"domain\":[0.0,1.0],\"title\":{\"text\":\"0\"}},\"yaxis\":{\"anchor\":\"x\",\"domain\":[0.0,1.0],\"title\":{\"text\":\"1\"}},\"legend\":{\"tracegroupgap\":0},\"margin\":{\"t\":60},\"shapes\":[{\"type\":\"line\",\"x0\":0,\"x1\":0.5779927618614552,\"y0\":0,\"y1\":-0.004586743707790334},{\"type\":\"line\",\"x0\":0,\"x1\":0.6127730697164941,\"y0\":0,\"y1\":0.3680272186784547},{\"type\":\"line\",\"x0\":0,\"x1\":0.5169903388945577,\"y0\":0,\"y1\":-0.15188232640712498},{\"type\":\"line\",\"x0\":0,\"x1\":0.8417819820976435,\"y0\":0,\"y1\":-0.3808017872122046},{\"type\":\"line\",\"x0\":0,\"x1\":0.2853676664442706,\"y0\":0,\"y1\":0.4156100821147697},{\"type\":\"line\",\"x0\":0,\"x1\":-0.023956525687394606,\"y0\":0,\"y1\":0.23968134593687265},{\"type\":\"line\",\"x0\":0,\"x1\":0.5975472422126774,\"y0\":0,\"y1\":-0.5804419517074175},{\"type\":\"line\",\"x0\":0,\"x1\":0.24797993511456165,\"y0\":0,\"y1\":0.2840665901280992},{\"type\":\"line\",\"x0\":0,\"x1\":0.8121050295557362,\"y0\":0,\"y1\":0.07434524151441943},{\"type\":\"line\",\"x0\":0,\"x1\":0.5384722862307701,\"y0\":0,\"y1\":0.5188205657084707}],\"annotations\":[{\"ax\":0,\"ay\":0,\"text\":\"sbp\",\"x\":0.5779927618614552,\"xanchor\":\"center\",\"y\":-0.004586743707790334,\"yanchor\":\"bottom\"},{\"ax\":0,\"ay\":0,\"text\":\"tobacco\",\"x\":0.6127730697164941,\"xanchor\":\"center\",\"y\":0.3680272186784547,\"yanchor\":\"bottom\"},{\"ax\":0,\"ay\":0,\"text\":\"ldl\",\"x\":0.5169903388945577,\"xanchor\":\"center\",\"y\":-0.15188232640712498,\"yanchor\":\"bottom\"},{\"ax\":0,\"ay\":0,\"text\":\"adiposity\",\"x\":0.8417819820976435,\"xanchor\":\"center\",\"y\":-0.3808017872122046,\"yanchor\":\"bottom\"},{\"ax\":0,\"ay\":0,\"text\":\"famhist\",\"x\":0.2853676664442706,\"xanchor\":\"center\",\"y\":0.4156100821147697,\"yanchor\":\"bottom\"},{\"ax\":0,\"ay\":0,\"text\":\"typea\",\"x\":-0.023956525687394606,\"xanchor\":\"center\",\"y\":0.23968134593687265,\"yanchor\":\"bottom\"},{\"ax\":0,\"ay\":0,\"text\":\"obesity\",\"x\":0.5975472422126774,\"xanchor\":\"center\",\"y\":-0.5804419517074175,\"yanchor\":\"bottom\"},{\"ax\":0,\"ay\":0,\"text\":\"alcohol\",\"x\":0.24797993511456165,\"xanchor\":\"center\",\"y\":0.2840665901280992,\"yanchor\":\"bottom\"},{\"ax\":0,\"ay\":0,\"text\":\"age\",\"x\":0.8121050295557362,\"xanchor\":\"center\",\"y\":0.07434524151441943,\"yanchor\":\"bottom\"},{\"ax\":0,\"ay\":0,\"text\":\"chd\",\"x\":0.5384722862307701,\"xanchor\":\"center\",\"y\":0.5188205657084707,\"yanchor\":\"bottom\"}]},                        {\"responsive\": true}                    ).then(function(){\n",
       "                            \n",
       "var gd = document.getElementById('68fcabd3-6e66-4495-9b34-a734e935ac50');\n",
       "var x = new MutationObserver(function (mutations, observer) {{\n",
       "        var display = window.getComputedStyle(gd).display;\n",
       "        if (!display || display === 'none') {{\n",
       "            console.log([gd, 'removed!']);\n",
       "            Plotly.purge(gd);\n",
       "            observer.disconnect();\n",
       "        }}\n",
       "}});\n",
       "\n",
       "// Listen for the removal of the full notebook cells\n",
       "var notebookContainer = gd.closest('#notebook-container');\n",
       "if (notebookContainer) {{\n",
       "    x.observe(notebookContainer, {childList: true});\n",
       "}}\n",
       "\n",
       "// Listen for the clearing of the current output cell\n",
       "var outputEl = gd.closest('.output');\n",
       "if (outputEl) {{\n",
       "    x.observe(outputEl, {childList: true});\n",
       "}}\n",
       "\n",
       "                        })                };                });            </script>        </div>"
      ]
     },
     "metadata": {},
     "output_type": "display_data"
    }
   ],
   "source": [
    "pca = PCA(n_components=2)\n",
    "components = pca.fit_transform(df1)\n",
    "#skalowanie, aby wykres był bardziej czytelny\n",
    "x = components[:,0]\n",
    "scale_x = 1.0/(x.max() - x.min())\n",
    "y = components[:,1]\n",
    "scale_y = 1.0/(y.max() - y.min())\n",
    "data = np.vstack((x .T*scale_x,y .T*scale_y))\n",
    "loadings = pca.components_ .T * np.sqrt(pca.explained_variance_)\n",
    "\n",
    "fig = px.scatter(np.transpose(data), x=0,y=1)\n",
    "for i, feature in enumerate(df1.columns.to_list()):\n",
    "    fig.add_shape(\n",
    "        type='line',\n",
    "        x0=0, y0=0,\n",
    "        x1=loadings[i, 0],\n",
    "        y1=loadings[i, 1]\n",
    "    )\n",
    "    fig.add_annotation(\n",
    "        x=loadings[i, 0],\n",
    "        y=loadings[i, 1],\n",
    "        ax=0, ay=0,\n",
    "        xanchor=\"center\",\n",
    "        yanchor=\"bottom\",\n",
    "        text=feature,\n",
    "    )\n",
    "fig.show()"
   ]
  },
  {
   "cell_type": "markdown",
   "metadata": {},
   "source": [
    "### Wnioski"
   ]
  },
  {
   "cell_type": "markdown",
   "metadata": {},
   "source": [
    "* Najlepsza liczba składowych to 3 lub 4\n",
    "* Przed zastosowaniem standaryzacji, `sbp` i `alcohol` wpływają najmocniej na składowe - `alcohol` bardziej na pierwszą, a `sbp` na drugą\n",
    "* Po standaryzacji zmienne nie różnią się już tak bardzo pod względem wpływu na składowe. Na pierwszą składową największy wpływ mają `adiposity`, `tobacco` oraz `age`, na drugą `obesity`, `adiposity` oraz `chd`.\n",
    "* Gołym okiem ciężko jest dostrzec oczywiste do rozróżnienia klastry, zarówno dla dwóch jak i trzech składowych."
   ]
  }
 ],
 "metadata": {
  "interpreter": {
   "hash": "f76ed3cc9315e48c77804955e85c084a2eab6ce07353bbf90e3475a447fc2fe0"
  },
  "kernelspec": {
   "display_name": "Python 3 (ipykernel)",
   "language": "python",
   "name": "python3"
  },
  "language_info": {
   "codemirror_mode": {
    "name": "ipython",
    "version": 3
   },
   "file_extension": ".py",
   "mimetype": "text/x-python",
   "name": "python",
   "nbconvert_exporter": "python",
   "pygments_lexer": "ipython3",
   "version": "3.8.12"
  }
 },
 "nbformat": 4,
 "nbformat_minor": 2
}
