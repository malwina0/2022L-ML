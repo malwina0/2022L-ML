{
 "cells": [
  {
   "cell_type": "markdown",
   "metadata": {},
   "source": [
    "# Wstęp do uczenia maszynowego\n",
    "##  Projekt nr 1\n",
    "#### Jakub Piwko, Malwina Wojewoda"
   ]
  },
  {
   "cell_type": "markdown",
   "metadata": {},
   "source": [
    "# TODO:\n",
    "Pogrubione jest to co zrobiłam, ale fajnie jakbyś to jakoś sprawdził\n",
    "\n",
    "Sprawdziłem, i dodatkowo kursywą+pogrubienie oznaczam to co ja zrobiłem, też zachęcam do sprawdzenia  \n",
    "\n",
    "* zrobić model z uwzględnieniem danych rasy i bez tego -  jak będziemy robić model to spróbować i z płcią i rasą i bez, \n",
    "* **podział na testowy biorąc pod uwagę zmienna celu -> DO SPRAWDZENIA** (SPOCZKO)\n",
    "* **podzielić an decyle** (SPOCZKO)\n",
    "* ***po wszystkim korelacje pirsona i spiermana żeby sprawdzić***\n",
    "* **wcześniej też analiza korelacji - nie wiem co on ma na mysli ale coś napisałam** (SPOCZKO)\n",
    "* zbadać korelacje przed zmianami i po, po powinno wzrosnąć,\n",
    "* ***jeśli będą bardzo skorelowane to usunąć to która ma mniejszą predykcyjność (sprawdzając np. accuracy score lub gini, jakbym już wiedział co to jest), i też można grupowo przebadać gini i score i wyrzucić te kolumny których predykcyjność jest poniżej 5% :')***\n",
    "* ***zamienić na WoE,***\n",
    "* **encoding zrobic** (spoczko, ale zastanawiam się czy ta korelacja na dole -1 jest okej)"
   ]
  },
  {
   "cell_type": "markdown",
   "metadata": {},
   "source": [
    "#### Pakiety"
   ]
  },
  {
   "cell_type": "code",
   "execution_count": 1,
   "metadata": {},
   "outputs": [],
   "source": [
    "import pandas as pd\n",
    "import plotly.express as px\n",
    "import numpy as np\n",
    "import sklearn \n",
    "import seaborn as sns\n",
    "import matplotlib.pyplot as plt\n",
    "import matplotlib\n",
    "from matplotlib.colors import LogNorm\n",
    "import warnings\n",
    "warnings.filterwarnings('ignore')\n",
    "np.random.seed(23)\n",
    "from sklearn.model_selection import train_test_split"
   ]
  },
  {
   "cell_type": "markdown",
   "metadata": {},
   "source": [
    "### Dane i ich opis"
   ]
  },
  {
   "cell_type": "code",
   "execution_count": 2,
   "metadata": {},
   "outputs": [
    {
     "data": {
      "text/html": [
       "<div>\n",
       "<style scoped>\n",
       "    .dataframe tbody tr th:only-of-type {\n",
       "        vertical-align: middle;\n",
       "    }\n",
       "\n",
       "    .dataframe tbody tr th {\n",
       "        vertical-align: top;\n",
       "    }\n",
       "\n",
       "    .dataframe thead th {\n",
       "        text-align: right;\n",
       "    }\n",
       "</style>\n",
       "<table border=\"1\" class=\"dataframe\">\n",
       "  <thead>\n",
       "    <tr style=\"text-align: right;\">\n",
       "      <th></th>\n",
       "      <th>age</th>\n",
       "      <th>workclass</th>\n",
       "      <th>fnlwgt</th>\n",
       "      <th>education</th>\n",
       "      <th>education_num</th>\n",
       "      <th>marital_status</th>\n",
       "      <th>occupation</th>\n",
       "      <th>relationship</th>\n",
       "      <th>race</th>\n",
       "      <th>sex</th>\n",
       "      <th>capital_gain</th>\n",
       "      <th>capital_loss</th>\n",
       "      <th>hours_per_week</th>\n",
       "      <th>native_country</th>\n",
       "      <th>income_level</th>\n",
       "    </tr>\n",
       "  </thead>\n",
       "  <tbody>\n",
       "    <tr>\n",
       "      <th>0</th>\n",
       "      <td>39</td>\n",
       "      <td>State-gov</td>\n",
       "      <td>77516.0</td>\n",
       "      <td>Bachelors</td>\n",
       "      <td>13</td>\n",
       "      <td>Never-married</td>\n",
       "      <td>Adm-clerical</td>\n",
       "      <td>Not-in-family</td>\n",
       "      <td>White</td>\n",
       "      <td>Male</td>\n",
       "      <td>2174.0</td>\n",
       "      <td>0.0</td>\n",
       "      <td>40.0</td>\n",
       "      <td>United-States</td>\n",
       "      <td>&lt;=50K</td>\n",
       "    </tr>\n",
       "    <tr>\n",
       "      <th>1</th>\n",
       "      <td>50</td>\n",
       "      <td>Self-emp-not-inc</td>\n",
       "      <td>83311.0</td>\n",
       "      <td>Bachelors</td>\n",
       "      <td>13</td>\n",
       "      <td>Married-civ-spouse</td>\n",
       "      <td>Exec-managerial</td>\n",
       "      <td>Husband</td>\n",
       "      <td>White</td>\n",
       "      <td>Male</td>\n",
       "      <td>0.0</td>\n",
       "      <td>0.0</td>\n",
       "      <td>13.0</td>\n",
       "      <td>United-States</td>\n",
       "      <td>&lt;=50K</td>\n",
       "    </tr>\n",
       "    <tr>\n",
       "      <th>2</th>\n",
       "      <td>38</td>\n",
       "      <td>Private</td>\n",
       "      <td>215646.0</td>\n",
       "      <td>HS-grad</td>\n",
       "      <td>9</td>\n",
       "      <td>Divorced</td>\n",
       "      <td>Handlers-cleaners</td>\n",
       "      <td>Not-in-family</td>\n",
       "      <td>White</td>\n",
       "      <td>Male</td>\n",
       "      <td>0.0</td>\n",
       "      <td>0.0</td>\n",
       "      <td>40.0</td>\n",
       "      <td>United-States</td>\n",
       "      <td>&lt;=50K</td>\n",
       "    </tr>\n",
       "    <tr>\n",
       "      <th>3</th>\n",
       "      <td>53</td>\n",
       "      <td>Private</td>\n",
       "      <td>234721.0</td>\n",
       "      <td>11th</td>\n",
       "      <td>7</td>\n",
       "      <td>Married-civ-spouse</td>\n",
       "      <td>Handlers-cleaners</td>\n",
       "      <td>Husband</td>\n",
       "      <td>Black</td>\n",
       "      <td>Male</td>\n",
       "      <td>0.0</td>\n",
       "      <td>0.0</td>\n",
       "      <td>40.0</td>\n",
       "      <td>United-States</td>\n",
       "      <td>&lt;=50K</td>\n",
       "    </tr>\n",
       "    <tr>\n",
       "      <th>4</th>\n",
       "      <td>28</td>\n",
       "      <td>Private</td>\n",
       "      <td>338409.0</td>\n",
       "      <td>Bachelors</td>\n",
       "      <td>13</td>\n",
       "      <td>Married-civ-spouse</td>\n",
       "      <td>Prof-specialty</td>\n",
       "      <td>Wife</td>\n",
       "      <td>Black</td>\n",
       "      <td>Female</td>\n",
       "      <td>0.0</td>\n",
       "      <td>0.0</td>\n",
       "      <td>40.0</td>\n",
       "      <td>Cuba</td>\n",
       "      <td>&lt;=50K</td>\n",
       "    </tr>\n",
       "    <tr>\n",
       "      <th>5</th>\n",
       "      <td>37</td>\n",
       "      <td>Private</td>\n",
       "      <td>284582.0</td>\n",
       "      <td>Masters</td>\n",
       "      <td>14</td>\n",
       "      <td>Married-civ-spouse</td>\n",
       "      <td>Exec-managerial</td>\n",
       "      <td>Wife</td>\n",
       "      <td>White</td>\n",
       "      <td>Female</td>\n",
       "      <td>0.0</td>\n",
       "      <td>0.0</td>\n",
       "      <td>40.0</td>\n",
       "      <td>United-States</td>\n",
       "      <td>&lt;=50K</td>\n",
       "    </tr>\n",
       "    <tr>\n",
       "      <th>6</th>\n",
       "      <td>49</td>\n",
       "      <td>Private</td>\n",
       "      <td>160187.0</td>\n",
       "      <td>9th</td>\n",
       "      <td>5</td>\n",
       "      <td>Married-spouse-absent</td>\n",
       "      <td>Other-service</td>\n",
       "      <td>Not-in-family</td>\n",
       "      <td>Black</td>\n",
       "      <td>Female</td>\n",
       "      <td>0.0</td>\n",
       "      <td>0.0</td>\n",
       "      <td>16.0</td>\n",
       "      <td>Jamaica</td>\n",
       "      <td>&lt;=50K</td>\n",
       "    </tr>\n",
       "    <tr>\n",
       "      <th>7</th>\n",
       "      <td>52</td>\n",
       "      <td>Self-emp-not-inc</td>\n",
       "      <td>209642.0</td>\n",
       "      <td>HS-grad</td>\n",
       "      <td>9</td>\n",
       "      <td>Married-civ-spouse</td>\n",
       "      <td>Exec-managerial</td>\n",
       "      <td>Husband</td>\n",
       "      <td>White</td>\n",
       "      <td>Male</td>\n",
       "      <td>0.0</td>\n",
       "      <td>0.0</td>\n",
       "      <td>45.0</td>\n",
       "      <td>United-States</td>\n",
       "      <td>&gt;50K</td>\n",
       "    </tr>\n",
       "    <tr>\n",
       "      <th>8</th>\n",
       "      <td>31</td>\n",
       "      <td>Private</td>\n",
       "      <td>45781.0</td>\n",
       "      <td>Masters</td>\n",
       "      <td>14</td>\n",
       "      <td>Never-married</td>\n",
       "      <td>Prof-specialty</td>\n",
       "      <td>Not-in-family</td>\n",
       "      <td>White</td>\n",
       "      <td>Female</td>\n",
       "      <td>14084.0</td>\n",
       "      <td>0.0</td>\n",
       "      <td>50.0</td>\n",
       "      <td>United-States</td>\n",
       "      <td>&gt;50K</td>\n",
       "    </tr>\n",
       "    <tr>\n",
       "      <th>9</th>\n",
       "      <td>42</td>\n",
       "      <td>Private</td>\n",
       "      <td>159449.0</td>\n",
       "      <td>Bachelors</td>\n",
       "      <td>13</td>\n",
       "      <td>Married-civ-spouse</td>\n",
       "      <td>Exec-managerial</td>\n",
       "      <td>Husband</td>\n",
       "      <td>White</td>\n",
       "      <td>Male</td>\n",
       "      <td>5178.0</td>\n",
       "      <td>0.0</td>\n",
       "      <td>40.0</td>\n",
       "      <td>United-States</td>\n",
       "      <td>&gt;50K</td>\n",
       "    </tr>\n",
       "  </tbody>\n",
       "</table>\n",
       "</div>"
      ],
      "text/plain": [
       "   age         workclass    fnlwgt  education  education_num  \\\n",
       "0   39         State-gov   77516.0  Bachelors             13   \n",
       "1   50  Self-emp-not-inc   83311.0  Bachelors             13   \n",
       "2   38           Private  215646.0    HS-grad              9   \n",
       "3   53           Private  234721.0       11th              7   \n",
       "4   28           Private  338409.0  Bachelors             13   \n",
       "5   37           Private  284582.0    Masters             14   \n",
       "6   49           Private  160187.0        9th              5   \n",
       "7   52  Self-emp-not-inc  209642.0    HS-grad              9   \n",
       "8   31           Private   45781.0    Masters             14   \n",
       "9   42           Private  159449.0  Bachelors             13   \n",
       "\n",
       "          marital_status         occupation   relationship   race     sex  \\\n",
       "0          Never-married       Adm-clerical  Not-in-family  White    Male   \n",
       "1     Married-civ-spouse    Exec-managerial        Husband  White    Male   \n",
       "2               Divorced  Handlers-cleaners  Not-in-family  White    Male   \n",
       "3     Married-civ-spouse  Handlers-cleaners        Husband  Black    Male   \n",
       "4     Married-civ-spouse     Prof-specialty           Wife  Black  Female   \n",
       "5     Married-civ-spouse    Exec-managerial           Wife  White  Female   \n",
       "6  Married-spouse-absent      Other-service  Not-in-family  Black  Female   \n",
       "7     Married-civ-spouse    Exec-managerial        Husband  White    Male   \n",
       "8          Never-married     Prof-specialty  Not-in-family  White  Female   \n",
       "9     Married-civ-spouse    Exec-managerial        Husband  White    Male   \n",
       "\n",
       "   capital_gain  capital_loss  hours_per_week native_country income_level  \n",
       "0        2174.0           0.0            40.0  United-States        <=50K  \n",
       "1           0.0           0.0            13.0  United-States        <=50K  \n",
       "2           0.0           0.0            40.0  United-States        <=50K  \n",
       "3           0.0           0.0            40.0  United-States        <=50K  \n",
       "4           0.0           0.0            40.0           Cuba        <=50K  \n",
       "5           0.0           0.0            40.0  United-States        <=50K  \n",
       "6           0.0           0.0            16.0        Jamaica        <=50K  \n",
       "7           0.0           0.0            45.0  United-States         >50K  \n",
       "8       14084.0           0.0            50.0  United-States         >50K  \n",
       "9        5178.0           0.0            40.0  United-States         >50K  "
      ]
     },
     "execution_count": 2,
     "metadata": {},
     "output_type": "execute_result"
    }
   ],
   "source": [
    "census_df = pd.read_csv('census_income_dataset.csv')\n",
    "census_df.head(10)"
   ]
  },
  {
   "cell_type": "code",
   "execution_count": 3,
   "metadata": {},
   "outputs": [
    {
     "data": {
      "text/html": [
       "<div>\n",
       "<style scoped>\n",
       "    .dataframe tbody tr th:only-of-type {\n",
       "        vertical-align: middle;\n",
       "    }\n",
       "\n",
       "    .dataframe tbody tr th {\n",
       "        vertical-align: top;\n",
       "    }\n",
       "\n",
       "    .dataframe thead th {\n",
       "        text-align: right;\n",
       "    }\n",
       "</style>\n",
       "<table border=\"1\" class=\"dataframe\">\n",
       "  <thead>\n",
       "    <tr style=\"text-align: right;\">\n",
       "      <th></th>\n",
       "      <th>name</th>\n",
       "      <th>type</th>\n",
       "      <th>description</th>\n",
       "    </tr>\n",
       "  </thead>\n",
       "  <tbody>\n",
       "    <tr>\n",
       "      <th>0</th>\n",
       "      <td>age</td>\n",
       "      <td>integer</td>\n",
       "      <td>age of individual</td>\n",
       "    </tr>\n",
       "    <tr>\n",
       "      <th>1</th>\n",
       "      <td>workclass</td>\n",
       "      <td>string</td>\n",
       "      <td>Values: Private, Self-emp-not-inc, Self-emp-inc, Federal-gov, Local-gov, State-gov, Without-pay, Never-worked</td>\n",
       "    </tr>\n",
       "    <tr>\n",
       "      <th>2</th>\n",
       "      <td>fnlwgt</td>\n",
       "      <td>float</td>\n",
       "      <td>Final sampling weight. Inverse of sampling fraction adjusted for non-response and over or under sampling of particular groups</td>\n",
       "    </tr>\n",
       "    <tr>\n",
       "      <th>3</th>\n",
       "      <td>education</td>\n",
       "      <td>string</td>\n",
       "      <td>Values: Bachelors, Some-college, 11th, HS-grad, Prof-school, Assoc-acdm, Assoc-voc, 9th, 7th-8th, 12th, Masters, 1st-4th, 10th, Doctorate, 5th-6th, Preschool</td>\n",
       "    </tr>\n",
       "    <tr>\n",
       "      <th>4</th>\n",
       "      <td>education_num</td>\n",
       "      <td>integer</td>\n",
       "      <td>NaN</td>\n",
       "    </tr>\n",
       "    <tr>\n",
       "      <th>5</th>\n",
       "      <td>marital_status</td>\n",
       "      <td>string</td>\n",
       "      <td>Values: Married-civ-spouse, Divorced, Never-married, Separated, Widowed, Married-spouse-absent, Married-AF-spouse</td>\n",
       "    </tr>\n",
       "    <tr>\n",
       "      <th>6</th>\n",
       "      <td>occupation</td>\n",
       "      <td>string</td>\n",
       "      <td>Values: Tech-support, Craft-repair, Other-service, Sales, Exec-managerial, Prof-specialty, Handlers-cleaners, Machine-op-inspct, Adm-clerical, Farming-fishing, Transport-moving, Priv-house-serv, Protective-serv, Armed-Forces</td>\n",
       "    </tr>\n",
       "    <tr>\n",
       "      <th>7</th>\n",
       "      <td>relationship</td>\n",
       "      <td>string</td>\n",
       "      <td>Values: Wife, Own-child, Husband, Not-in-family, Other-relative, Unmarried</td>\n",
       "    </tr>\n",
       "    <tr>\n",
       "      <th>8</th>\n",
       "      <td>race</td>\n",
       "      <td>string</td>\n",
       "      <td>Values: White, Asian-Pac-Islander, Amer-Indian-Eskimo, Other, Black</td>\n",
       "    </tr>\n",
       "    <tr>\n",
       "      <th>9</th>\n",
       "      <td>sex</td>\n",
       "      <td>string</td>\n",
       "      <td>Values: Female, Male</td>\n",
       "    </tr>\n",
       "    <tr>\n",
       "      <th>10</th>\n",
       "      <td>capital_gain</td>\n",
       "      <td>float</td>\n",
       "      <td>NaN</td>\n",
       "    </tr>\n",
       "    <tr>\n",
       "      <th>11</th>\n",
       "      <td>capital_loss</td>\n",
       "      <td>float</td>\n",
       "      <td>NaN</td>\n",
       "    </tr>\n",
       "    <tr>\n",
       "      <th>12</th>\n",
       "      <td>hours_per_week</td>\n",
       "      <td>float</td>\n",
       "      <td>working hours per week</td>\n",
       "    </tr>\n",
       "    <tr>\n",
       "      <th>13</th>\n",
       "      <td>native_country</td>\n",
       "      <td>string</td>\n",
       "      <td>Values: United-States, Cambodia, England, Puerto-Rico, Canada, Germany, Outlying-US(Guam-USVI-etc), India, Japan, Greece, South, China, Cuba, Iran, Honduras, Philippines, Italy, Poland, Jamaica, Vietnam, Mexico, Portugal, Ireland, France, Dominican-Republic, Laos, Ecuador, Taiwan, Haiti, Columbia, Hungary, Guatemala, Nicaragua, Scotland, Thailand, Yugoslavia, El-Salvador, Trinadad&amp;Tobago, Peru, Hong, Holand-Netherlands</td>\n",
       "    </tr>\n",
       "    <tr>\n",
       "      <th>14</th>\n",
       "      <td>income_level</td>\n",
       "      <td>string</td>\n",
       "      <td>Predictor class if individual earns greater or less than $50000 per year. Values: &lt;=50K, &gt;50K</td>\n",
       "    </tr>\n",
       "  </tbody>\n",
       "</table>\n",
       "</div>"
      ],
      "text/plain": [
       "              name     type  \\\n",
       "0   age             integer   \n",
       "1   workclass       string    \n",
       "2   fnlwgt          float     \n",
       "3   education       string    \n",
       "4   education_num   integer   \n",
       "5   marital_status  string    \n",
       "6   occupation      string    \n",
       "7   relationship    string    \n",
       "8   race            string    \n",
       "9   sex             string    \n",
       "10  capital_gain    float     \n",
       "11  capital_loss    float     \n",
       "12  hours_per_week  float     \n",
       "13  native_country  string    \n",
       "14  income_level    string    \n",
       "\n",
       "                                                                                                                                                                                                                                                                                                                                                                                                                               description  \n",
       "0   age of individual                                                                                                                                                                                                                                                                                                                                                                                                                       \n",
       "1   Values: Private, Self-emp-not-inc, Self-emp-inc, Federal-gov, Local-gov, State-gov, Without-pay, Never-worked                                                                                                                                                                                                                                                                                                                           \n",
       "2   Final sampling weight. Inverse of sampling fraction adjusted for non-response and over or under sampling of particular groups                                                                                                                                                                                                                                                                                                           \n",
       "3   Values: Bachelors, Some-college, 11th, HS-grad, Prof-school, Assoc-acdm, Assoc-voc, 9th, 7th-8th, 12th, Masters, 1st-4th, 10th, Doctorate, 5th-6th, Preschool                                                                                                                                                                                                                                                                           \n",
       "4   NaN                                                                                                                                                                                                                                                                                                                                                                                                                                     \n",
       "5   Values: Married-civ-spouse, Divorced, Never-married, Separated, Widowed, Married-spouse-absent, Married-AF-spouse                                                                                                                                                                                                                                                                                                                       \n",
       "6   Values: Tech-support, Craft-repair, Other-service, Sales, Exec-managerial, Prof-specialty, Handlers-cleaners, Machine-op-inspct, Adm-clerical, Farming-fishing, Transport-moving, Priv-house-serv, Protective-serv, Armed-Forces                                                                                                                                                                                                        \n",
       "7   Values: Wife, Own-child, Husband, Not-in-family, Other-relative, Unmarried                                                                                                                                                                                                                                                                                                                                                              \n",
       "8   Values: White, Asian-Pac-Islander, Amer-Indian-Eskimo, Other, Black                                                                                                                                                                                                                                                                                                                                                                     \n",
       "9   Values: Female, Male                                                                                                                                                                                                                                                                                                                                                                                                                    \n",
       "10  NaN                                                                                                                                                                                                                                                                                                                                                                                                                                     \n",
       "11  NaN                                                                                                                                                                                                                                                                                                                                                                                                                                     \n",
       "12  working hours per week                                                                                                                                                                                                                                                                                                                                                                                                                  \n",
       "13  Values: United-States, Cambodia, England, Puerto-Rico, Canada, Germany, Outlying-US(Guam-USVI-etc), India, Japan, Greece, South, China, Cuba, Iran, Honduras, Philippines, Italy, Poland, Jamaica, Vietnam, Mexico, Portugal, Ireland, France, Dominican-Republic, Laos, Ecuador, Taiwan, Haiti, Columbia, Hungary, Guatemala, Nicaragua, Scotland, Thailand, Yugoslavia, El-Salvador, Trinadad&Tobago, Peru, Hong, Holand-Netherlands  \n",
       "14  Predictor class if individual earns greater or less than $50000 per year. Values: <=50K, >50K                                                                                                                                                                                                                                                                                                                                           "
      ]
     },
     "execution_count": 3,
     "metadata": {},
     "output_type": "execute_result"
    }
   ],
   "source": [
    "pd.set_option('display.max_colwidth', -1)\n",
    "descr = pd.read_csv('attributes_census_income.csv')\n",
    "descr"
   ]
  },
  {
   "cell_type": "markdown",
   "metadata": {},
   "source": [
    "#### Podział zbioru na treningowy i walidacyjny "
   ]
  },
  {
   "cell_type": "code",
   "execution_count": 4,
   "metadata": {},
   "outputs": [],
   "source": [
    "#Wyróżnienie zbioru, na którym będziemy pracować i zbiory do walidacji\n",
    "census_df_build, census_df_valid = sklearn.model_selection.train_test_split(\n",
    "    census_df,\n",
    "    test_size=0.30, random_state=100, stratify=census_df['income_level'])\n",
    "\n",
    "census_df, census_df_test = sklearn.model_selection.train_test_split(\n",
    "    census_df,\n",
    "    test_size=0.30, random_state=100, stratify=census_df['income_level'])"
   ]
  },
  {
   "cell_type": "code",
   "execution_count": 5,
   "metadata": {},
   "outputs": [],
   "source": [
    "# census_df[\"income_level\"].value_counts()/np.shape(census_df)[0]"
   ]
  },
  {
   "cell_type": "code",
   "execution_count": 6,
   "metadata": {},
   "outputs": [],
   "source": [
    "# census_df_test[\"income_level\"].value_counts()/np.shape(census_df_test)[0]"
   ]
  },
  {
   "cell_type": "markdown",
   "metadata": {},
   "source": [
    "## Ekspoloracja  i preprocessing danych"
   ]
  },
  {
   "cell_type": "markdown",
   "metadata": {},
   "source": [
    "***Analiza braków danych***"
   ]
  },
  {
   "cell_type": "code",
   "execution_count": 7,
   "metadata": {},
   "outputs": [
    {
     "name": "stdout",
     "output_type": "stream",
     "text": [
      "<class 'pandas.core.frame.DataFrame'>\n",
      "Int64Index: 34189 entries, 9276 to 43599\n",
      "Data columns (total 15 columns):\n",
      " #   Column          Non-Null Count  Dtype  \n",
      "---  ------          --------------  -----  \n",
      " 0   age             34189 non-null  int64  \n",
      " 1   workclass       34189 non-null  object \n",
      " 2   fnlwgt          34189 non-null  float64\n",
      " 3   education       34189 non-null  object \n",
      " 4   education_num   34189 non-null  int64  \n",
      " 5   marital_status  34189 non-null  object \n",
      " 6   occupation      34189 non-null  object \n",
      " 7   relationship    34189 non-null  object \n",
      " 8   race            34189 non-null  object \n",
      " 9   sex             34189 non-null  object \n",
      " 10  capital_gain    34189 non-null  float64\n",
      " 11  capital_loss    34189 non-null  float64\n",
      " 12  hours_per_week  34189 non-null  float64\n",
      " 13  native_country  34189 non-null  object \n",
      " 14  income_level    34189 non-null  object \n",
      "dtypes: float64(4), int64(2), object(9)\n",
      "memory usage: 4.2+ MB\n"
     ]
    }
   ],
   "source": [
    "census_df.info()"
   ]
  },
  {
   "cell_type": "markdown",
   "metadata": {},
   "source": [
    "W ramce danych nie wystąpują wartości None/Null. Z opisu ramki wiemy, że takowe braki, jeśli występują, są zakodowane odpowiednimi wartościami w kolumnach:  **?** dla danych nominalnych oraz **-100000** dla numerycznych. Sprawdźmy, ile rekordów z takimi wartościami występują w ramce."
   ]
  },
  {
   "cell_type": "code",
   "execution_count": 8,
   "metadata": {},
   "outputs": [
    {
     "data": {
      "text/plain": [
       "age               0\n",
       "workclass         0\n",
       "fnlwgt            0\n",
       "education         0\n",
       "education_num     0\n",
       "marital_status    0\n",
       "occupation        0\n",
       "relationship      0\n",
       "race              0\n",
       "sex               0\n",
       "capital_gain      0\n",
       "capital_loss      0\n",
       "hours_per_week    0\n",
       "native_country    0\n",
       "income_level      0\n",
       "dtype: int64"
      ]
     },
     "execution_count": 8,
     "metadata": {},
     "output_type": "execute_result"
    }
   ],
   "source": [
    "census_df[census_df == -100000].count()"
   ]
  },
  {
   "cell_type": "code",
   "execution_count": 9,
   "metadata": {},
   "outputs": [
    {
     "data": {
      "text/plain": [
       "age               0   \n",
       "workclass         1976\n",
       "fnlwgt            0   \n",
       "education         0   \n",
       "education_num     0   \n",
       "marital_status    0   \n",
       "occupation        1984\n",
       "relationship      0   \n",
       "race              0   \n",
       "sex               0   \n",
       "capital_gain      0   \n",
       "capital_loss      0   \n",
       "hours_per_week    0   \n",
       "native_country    630 \n",
       "income_level      0   \n",
       "dtype: int64"
      ]
     },
     "execution_count": 9,
     "metadata": {},
     "output_type": "execute_result"
    }
   ],
   "source": [
    "census_df[census_df == \"?\"].count()"
   ]
  },
  {
   "cell_type": "markdown",
   "metadata": {},
   "source": [
    "Okazuje się, że mamy braki w kolumnach `workclass`, `occupation` i `workclass`. Z czego dwie pierwsze kolumny w oczywisty sposób są powiązane, bo brak zawodu może automatycznie oznaczać brak klasy roboczej. Wartościami \"?\" stanowią klasę zmiennej kategorycznej i nie ma sensu tego zmieniać w inny sposób."
   ]
  },
  {
   "cell_type": "markdown",
   "metadata": {},
   "source": [
    "##### Średnia, wartości minimalne itd. \n",
    "Warto sprawdzić jaka jest średnia, odchylenie standardowe, wartość minimalna, maksymalna oraz kwartyle danych w poszczególnych kolumnach."
   ]
  },
  {
   "cell_type": "code",
   "execution_count": 10,
   "metadata": {},
   "outputs": [
    {
     "data": {
      "text/html": [
       "<div>\n",
       "<style scoped>\n",
       "    .dataframe tbody tr th:only-of-type {\n",
       "        vertical-align: middle;\n",
       "    }\n",
       "\n",
       "    .dataframe tbody tr th {\n",
       "        vertical-align: top;\n",
       "    }\n",
       "\n",
       "    .dataframe thead th {\n",
       "        text-align: right;\n",
       "    }\n",
       "</style>\n",
       "<table border=\"1\" class=\"dataframe\">\n",
       "  <thead>\n",
       "    <tr style=\"text-align: right;\">\n",
       "      <th></th>\n",
       "      <th>age</th>\n",
       "      <th>fnlwgt</th>\n",
       "      <th>education_num</th>\n",
       "      <th>capital_gain</th>\n",
       "      <th>capital_loss</th>\n",
       "      <th>hours_per_week</th>\n",
       "    </tr>\n",
       "  </thead>\n",
       "  <tbody>\n",
       "    <tr>\n",
       "      <th>count</th>\n",
       "      <td>34189.000000</td>\n",
       "      <td>3.418900e+04</td>\n",
       "      <td>34189.000000</td>\n",
       "      <td>34189.000000</td>\n",
       "      <td>34189.000000</td>\n",
       "      <td>34189.000000</td>\n",
       "    </tr>\n",
       "    <tr>\n",
       "      <th>mean</th>\n",
       "      <td>38.623212</td>\n",
       "      <td>1.896649e+05</td>\n",
       "      <td>10.075200</td>\n",
       "      <td>1073.168300</td>\n",
       "      <td>88.376671</td>\n",
       "      <td>40.393782</td>\n",
       "    </tr>\n",
       "    <tr>\n",
       "      <th>std</th>\n",
       "      <td>13.707785</td>\n",
       "      <td>1.049949e+05</td>\n",
       "      <td>2.576816</td>\n",
       "      <td>7430.883371</td>\n",
       "      <td>405.811958</td>\n",
       "      <td>12.389336</td>\n",
       "    </tr>\n",
       "    <tr>\n",
       "      <th>min</th>\n",
       "      <td>17.000000</td>\n",
       "      <td>1.349200e+04</td>\n",
       "      <td>1.000000</td>\n",
       "      <td>0.000000</td>\n",
       "      <td>0.000000</td>\n",
       "      <td>1.000000</td>\n",
       "    </tr>\n",
       "    <tr>\n",
       "      <th>25%</th>\n",
       "      <td>28.000000</td>\n",
       "      <td>1.177670e+05</td>\n",
       "      <td>9.000000</td>\n",
       "      <td>0.000000</td>\n",
       "      <td>0.000000</td>\n",
       "      <td>40.000000</td>\n",
       "    </tr>\n",
       "    <tr>\n",
       "      <th>50%</th>\n",
       "      <td>37.000000</td>\n",
       "      <td>1.781370e+05</td>\n",
       "      <td>10.000000</td>\n",
       "      <td>0.000000</td>\n",
       "      <td>0.000000</td>\n",
       "      <td>40.000000</td>\n",
       "    </tr>\n",
       "    <tr>\n",
       "      <th>75%</th>\n",
       "      <td>48.000000</td>\n",
       "      <td>2.370440e+05</td>\n",
       "      <td>12.000000</td>\n",
       "      <td>0.000000</td>\n",
       "      <td>0.000000</td>\n",
       "      <td>45.000000</td>\n",
       "    </tr>\n",
       "    <tr>\n",
       "      <th>max</th>\n",
       "      <td>90.000000</td>\n",
       "      <td>1.490400e+06</td>\n",
       "      <td>16.000000</td>\n",
       "      <td>99999.000000</td>\n",
       "      <td>4356.000000</td>\n",
       "      <td>99.000000</td>\n",
       "    </tr>\n",
       "  </tbody>\n",
       "</table>\n",
       "</div>"
      ],
      "text/plain": [
       "                age        fnlwgt  education_num  capital_gain  capital_loss  \\\n",
       "count  34189.000000  3.418900e+04  34189.000000   34189.000000  34189.000000   \n",
       "mean   38.623212     1.896649e+05  10.075200      1073.168300   88.376671      \n",
       "std    13.707785     1.049949e+05  2.576816       7430.883371   405.811958     \n",
       "min    17.000000     1.349200e+04  1.000000       0.000000      0.000000       \n",
       "25%    28.000000     1.177670e+05  9.000000       0.000000      0.000000       \n",
       "50%    37.000000     1.781370e+05  10.000000      0.000000      0.000000       \n",
       "75%    48.000000     2.370440e+05  12.000000      0.000000      0.000000       \n",
       "max    90.000000     1.490400e+06  16.000000      99999.000000  4356.000000    \n",
       "\n",
       "       hours_per_week  \n",
       "count  34189.000000    \n",
       "mean   40.393782       \n",
       "std    12.389336       \n",
       "min    1.000000        \n",
       "25%    40.000000       \n",
       "50%    40.000000       \n",
       "75%    45.000000       \n",
       "max    99.000000       "
      ]
     },
     "execution_count": 10,
     "metadata": {},
     "output_type": "execute_result"
    }
   ],
   "source": [
    "census_df.describe()"
   ]
  },
  {
   "cell_type": "markdown",
   "metadata": {},
   "source": [
    "Już dzięki temu zestawieniu możemy powiedzieć coś o danych. Można stwierdzić, że dużo osób pracuje 40 godzin tygodniowo. Porównując średnie z wartościami minimalnymi i maskymalnymi dla kolumny `capital_gain` i `capital_loss` można stwierdzić, że wartości są bardzo rozchwiane i występują obserwacje odstające. Przyjrzyjmy sie histogramom. "
   ]
  },
  {
   "cell_type": "markdown",
   "metadata": {},
   "source": [
    "***Rozkłady zmiennych***\n"
   ]
  },
  {
   "cell_type": "code",
   "execution_count": 11,
   "metadata": {},
   "outputs": [
    {
     "data": {
      "image/png": "[encoded data removed]",
      "text/plain": [
       "<Figure size 1080x1440 with 6 Axes>"
      ]
     },
     "metadata": {
      "needs_background": "light"
     },
     "output_type": "display_data"
    }
   ],
   "source": [
    "census_df.hist(figsize=(15, 20), bins=40)\n",
    "plt.show()"
   ]
  },
  {
   "cell_type": "markdown",
   "metadata": {},
   "source": [
    "Wspomniane wcześniej wnioski się potwirerdzają. Najwięcej osób pracuje 40 godzin tygodniowo, choć znajdują się osobu pracujące powyżej 80. Kolumny `capital_gain` i `capital_loss` wyglądają niekorzytsnie, gdyż mają przeważającą liczbę obserwacji zerowych. Wiek ma dosyć regularny rozkład, ale bardziej skośny prawostronnie, czyli w stronę osób młodszych. Wydaje się też, że dane zostały ucięte na wieku 90 lat. Jak wynika z opisu, kolumna `fnlwgt` jest parametrem, który ma oddawać wagę danego rekordu. Oznacza to więc, że nie będzie miała znaczenia dla oceny zarobków i można ją usunąć. Z kolei zmienna `education_num` wydaje się być zmienną kategoryczną. "
   ]
  },
  {
   "cell_type": "code",
   "execution_count": 12,
   "metadata": {},
   "outputs": [],
   "source": [
    "census_df.drop(\"fnlwgt\", axis=1, inplace=True)"
   ]
  },
  {
   "cell_type": "code",
   "execution_count": 13,
   "metadata": {},
   "outputs": [
    {
     "data": {
      "text/html": [
       "<div>\n",
       "<style scoped>\n",
       "    .dataframe tbody tr th:only-of-type {\n",
       "        vertical-align: middle;\n",
       "    }\n",
       "\n",
       "    .dataframe tbody tr th {\n",
       "        vertical-align: top;\n",
       "    }\n",
       "\n",
       "    .dataframe thead th {\n",
       "        text-align: right;\n",
       "    }\n",
       "</style>\n",
       "<table border=\"1\" class=\"dataframe\">\n",
       "  <thead>\n",
       "    <tr style=\"text-align: right;\">\n",
       "      <th></th>\n",
       "      <th>education</th>\n",
       "      <th>education_num</th>\n",
       "      <th>counts</th>\n",
       "    </tr>\n",
       "  </thead>\n",
       "  <tbody>\n",
       "    <tr>\n",
       "      <th>13</th>\n",
       "      <td>Preschool</td>\n",
       "      <td>1</td>\n",
       "      <td>58</td>\n",
       "    </tr>\n",
       "    <tr>\n",
       "      <th>3</th>\n",
       "      <td>1st-4th</td>\n",
       "      <td>2</td>\n",
       "      <td>176</td>\n",
       "    </tr>\n",
       "    <tr>\n",
       "      <th>4</th>\n",
       "      <td>5th-6th</td>\n",
       "      <td>3</td>\n",
       "      <td>365</td>\n",
       "    </tr>\n",
       "    <tr>\n",
       "      <th>5</th>\n",
       "      <td>7th-8th</td>\n",
       "      <td>4</td>\n",
       "      <td>670</td>\n",
       "    </tr>\n",
       "    <tr>\n",
       "      <th>6</th>\n",
       "      <td>9th</td>\n",
       "      <td>5</td>\n",
       "      <td>546</td>\n",
       "    </tr>\n",
       "    <tr>\n",
       "      <th>0</th>\n",
       "      <td>10th</td>\n",
       "      <td>6</td>\n",
       "      <td>951</td>\n",
       "    </tr>\n",
       "    <tr>\n",
       "      <th>1</th>\n",
       "      <td>11th</td>\n",
       "      <td>7</td>\n",
       "      <td>1282</td>\n",
       "    </tr>\n",
       "    <tr>\n",
       "      <th>2</th>\n",
       "      <td>12th</td>\n",
       "      <td>8</td>\n",
       "      <td>453</td>\n",
       "    </tr>\n",
       "    <tr>\n",
       "      <th>11</th>\n",
       "      <td>HS-grad</td>\n",
       "      <td>9</td>\n",
       "      <td>11042</td>\n",
       "    </tr>\n",
       "    <tr>\n",
       "      <th>15</th>\n",
       "      <td>Some-college</td>\n",
       "      <td>10</td>\n",
       "      <td>7600</td>\n",
       "    </tr>\n",
       "    <tr>\n",
       "      <th>8</th>\n",
       "      <td>Assoc-voc</td>\n",
       "      <td>11</td>\n",
       "      <td>1455</td>\n",
       "    </tr>\n",
       "    <tr>\n",
       "      <th>7</th>\n",
       "      <td>Assoc-acdm</td>\n",
       "      <td>12</td>\n",
       "      <td>1125</td>\n",
       "    </tr>\n",
       "    <tr>\n",
       "      <th>9</th>\n",
       "      <td>Bachelors</td>\n",
       "      <td>13</td>\n",
       "      <td>5597</td>\n",
       "    </tr>\n",
       "    <tr>\n",
       "      <th>12</th>\n",
       "      <td>Masters</td>\n",
       "      <td>14</td>\n",
       "      <td>1865</td>\n",
       "    </tr>\n",
       "    <tr>\n",
       "      <th>14</th>\n",
       "      <td>Prof-school</td>\n",
       "      <td>15</td>\n",
       "      <td>576</td>\n",
       "    </tr>\n",
       "    <tr>\n",
       "      <th>10</th>\n",
       "      <td>Doctorate</td>\n",
       "      <td>16</td>\n",
       "      <td>428</td>\n",
       "    </tr>\n",
       "  </tbody>\n",
       "</table>\n",
       "</div>"
      ],
      "text/plain": [
       "       education  education_num  counts\n",
       "13  Preschool     1              58    \n",
       "3   1st-4th       2              176   \n",
       "4   5th-6th       3              365   \n",
       "5   7th-8th       4              670   \n",
       "6   9th           5              546   \n",
       "0   10th          6              951   \n",
       "1   11th          7              1282  \n",
       "2   12th          8              453   \n",
       "11  HS-grad       9              11042 \n",
       "15  Some-college  10             7600  \n",
       "8   Assoc-voc     11             1455  \n",
       "7   Assoc-acdm    12             1125  \n",
       "9   Bachelors     13             5597  \n",
       "12  Masters       14             1865  \n",
       "14  Prof-school   15             576   \n",
       "10  Doctorate     16             428   "
      ]
     },
     "execution_count": 13,
     "metadata": {},
     "output_type": "execute_result"
    }
   ],
   "source": [
    "census_df[['education', 'education_num', 'age']].groupby(['education', 'education_num']).size().reset_index(name='counts').sort_values(by = \"education_num\")"
   ]
  },
  {
   "cell_type": "markdown",
   "metadata": {},
   "source": [
    "Z zsumowania rekordów zawierających unikalne pary `education` + `education_num` wynika, że ta druga kolumna jest tylko numerycznym zakodowaniem kolumny opisującej osiągnięty etap edukacji z zachowaniem porządku, zatem kolumna `education` nie będzie niezbędna w dalszej predykcji, dlatego możemy ją usunąć."
   ]
  },
  {
   "cell_type": "code",
   "execution_count": 14,
   "metadata": {},
   "outputs": [],
   "source": [
    "census_df.drop(\"education\", axis=1, inplace=True)"
   ]
  },
  {
   "cell_type": "markdown",
   "metadata": {},
   "source": [
    "Zamiana wartości ostatniej kolumny:\n",
    "* z <=50K na 0\n",
    "* z >50K na 1\n",
    "\n",
    "ponieważ łatwiej pracuje się ze zmiennymi numerycznymi"
   ]
  },
  {
   "cell_type": "code",
   "execution_count": 15,
   "metadata": {},
   "outputs": [],
   "source": [
    "census_df['income_level'] = census_df['income_level'].replace(['<=50K','>50K'],[0, 1])"
   ]
  },
  {
   "cell_type": "markdown",
   "metadata": {},
   "source": [
    "##### Korelacje"
   ]
  },
  {
   "cell_type": "code",
   "execution_count": 16,
   "metadata": {},
   "outputs": [
    {
     "data": {
      "image/png": "[encoded data removed]",
      "text/plain": [
       "<Figure size 1332x432 with 4 Axes>"
      ]
     },
     "metadata": {
      "needs_background": "light"
     },
     "output_type": "display_data"
    }
   ],
   "source": [
    "fig, (ax1, ax2) = plt.subplots(1,2)\n",
    "heatmap = sns.heatmap(census_df.corr(method = 'spearman'), annot=True, vmin=-1, vmax=1, cmap=\"RdBu_r\", ax=ax1)\n",
    "heatmap = sns.heatmap(census_df.corr(method = 'pearson'), annot=True, vmin=-1, vmax=1, cmap=\"RdBu_r\", ax=ax2)\n",
    "ax1.set_title(\"Korelacje Spearmana\")\n",
    "ax2.set_title(\"Korelacje Pearsona\")\n",
    "fig.set_size_inches(18.5, 6)\n",
    "plt.show()"
   ]
  },
  {
   "cell_type": "markdown",
   "metadata": {},
   "source": [
    "Interesuje nas jak zmienne korelują ze zmienną `income_level`, ponieważ właśnie ją będziemy przewidywać. Widać, że wszystkie korelują z nią dodatnio. \n",
    "\n",
    "Zarówno dla korelacji Spearmana, jak i Pearsona widać, że zmienne korelują ze sobą dość słabo. Najsilniejsza widać między `education_num` a `income_level`, co wskazuje na to, że ta zmienna ma największy wpływ na naszą zmienną przewidywaną. \n",
    "\n",
    "Z analizy korelacji Spearmana widać, że istnieje także dośc słaba korelacja liniowa między `income_level` a wiekiem, zyskiem kapitałowym oraz czasem pracy w ciągu tygodnia. \n",
    "\n",
    "Pozostałe zmienne korelują między sobą bardzo słabo. "
   ]
  },
  {
   "cell_type": "code",
   "execution_count": 17,
   "metadata": {},
   "outputs": [
    {
     "data": {
      "text/plain": [
       "0    26008\n",
       "1    8181 \n",
       "Name: income_level, dtype: int64"
      ]
     },
     "execution_count": 17,
     "metadata": {},
     "output_type": "execute_result"
    }
   ],
   "source": [
    "census_df['income_level'].value_counts()"
   ]
  },
  {
   "cell_type": "markdown",
   "metadata": {},
   "source": [
    "Dodatkowo warto wiedzieć, że znacznie mniej osób zarabia powyżej progu 50K$. Teraz przyjrzyjmy sie rozkładom zmiennych typowo ciągłych z uwzględnieniem poziomu zarobków."
   ]
  },
  {
   "cell_type": "markdown",
   "metadata": {},
   "source": [
    "***Wiek***"
   ]
  },
  {
   "cell_type": "code",
   "execution_count": 18,
   "metadata": {},
   "outputs": [
    {
     "data": {
      "image/png": "[encoded data removed]",
      "text/plain": [
       "<Figure size 432x288 with 1 Axes>"
      ]
     },
     "metadata": {
      "needs_background": "light"
     },
     "output_type": "display_data"
    }
   ],
   "source": [
    "sns.violinplot(y = census_df['age'], x = census_df['income_level'], palette=[\"red\", \"green\"], scale = \"count\")\n",
    "plt.show()"
   ]
  },
  {
   "cell_type": "markdown",
   "metadata": {},
   "source": [
    "Z rozkładu zmiennej `age` z uwzględnieniem podziału na poziom zarobków, można stwierdzić, że wśród osobów zarabiających lepiej, rozkład przesuwa się w stronę osób starszych.\n",
    "\n",
    "Podzielmy tę zmienną na kategorie po decylach, oznaczając każdą kategorię jako numer oznaczający, w którym decylu się znalazła dana wartość."
   ]
  },
  {
   "cell_type": "code",
   "execution_count": 19,
   "metadata": {},
   "outputs": [
    {
     "data": {
      "text/plain": [
       "Series([], Name: age, dtype: category\n",
       "Categories (10, int64): [1 < 2 < 3 < 4 ... 7 < 8 < 9 < 10])"
      ]
     },
     "execution_count": 19,
     "metadata": {},
     "output_type": "execute_result"
    }
   ],
   "source": [
    "tmp = pd.qcut(census_df['age'], 10, labels=[1, 2, 3, 4, 5, 6, 7, 8, 9, 10])\n",
    "tmp[tmp.isna()] #sprawdzenie czy w ten sposób nie powstaną jakieś braki danych"
   ]
  },
  {
   "cell_type": "code",
   "execution_count": 20,
   "metadata": {},
   "outputs": [],
   "source": [
    "census_df['age'] = pd.qcut(census_df['age'], 10, labels=[1, 2, 3, 4, 5, 6, 7, 8, 9, 10])"
   ]
  },
  {
   "cell_type": "markdown",
   "metadata": {},
   "source": [
    "***Przepracowane godziny w tygodniu***"
   ]
  },
  {
   "cell_type": "code",
   "execution_count": 21,
   "metadata": {},
   "outputs": [
    {
     "data": {
      "text/plain": [
       "<matplotlib.axes._subplots.AxesSubplot at 0x1fba8be32e0>"
      ]
     },
     "execution_count": 21,
     "metadata": {},
     "output_type": "execute_result"
    },
    {
     "data": {
      "image/png": "[encoded data removed]",
      "text/plain": [
       "<Figure size 432x288 with 1 Axes>"
      ]
     },
     "metadata": {
      "needs_background": "light"
     },
     "output_type": "display_data"
    }
   ],
   "source": [
    "sns.violinplot(y = census_df['hours_per_week'], x = census_df['income_level'], palette = ['red', 'green'], scale = \"count\")"
   ]
  },
  {
   "cell_type": "markdown",
   "metadata": {},
   "source": [
    "Dzięki zachowaniu skali ilości na wykresach można zauważyć tendecję, że osoby które pracują więcej, zarabiają lepiej. Świadczy o tym skupienie prawie wszystkich obserwacji powyżej poziomu 35h dla poziomu 1, podczas, gdy dla poziomu 0 widać duży peak w okolicach 40, ale dużą liczbę obserwacji poniżej tej wartości. Tę zmienną również możemy zmienić na kategoryczną, przy czym nie sprawdzi się tu dzielenie nawet na tercyle, ponieważ wartości w okolicahc 40 jest tak dużo. Zatem propunujemy następujący podział:\n",
    "* *1* --- 0-35 godzin\n",
    "* *2* --- 36-45 godzin\n",
    "* *3* --- 46-inf godzin"
   ]
  },
  {
   "cell_type": "code",
   "execution_count": 22,
   "metadata": {},
   "outputs": [
    {
     "data": {
      "text/plain": [
       "Series([], Name: hours_per_week, dtype: category\n",
       "Categories (3, int64): [1 < 2 < 3])"
      ]
     },
     "execution_count": 22,
     "metadata": {},
     "output_type": "execute_result"
    }
   ],
   "source": [
    "tmp = pd.cut(census_df['hours_per_week'], bins=[0, 35, 45, np.inf], labels=[1, 2, 3])\n",
    "tmp[tmp.isna()] #sprawdzenie czy w ten sposób nie powstaną jakieś braki danych"
   ]
  },
  {
   "cell_type": "code",
   "execution_count": 23,
   "metadata": {},
   "outputs": [],
   "source": [
    "census_df['hours_per_week'] = pd.cut(census_df['hours_per_week'], bins=[0, 35, 45, np.inf], labels=[1, 2, 3])"
   ]
  },
  {
   "cell_type": "markdown",
   "metadata": {},
   "source": [
    "##### Zyski i straty kapitałowe\n",
    "Jako, że zmienne `capital_gain` i `capital_loss` także są typowo ciągłe, żeby uwzględnić ich rozkłady pozbędziemy się najpierw obserwacji, dla których wartości powyższych kolumn są zerowe, ponieważ wartości tych jest bardzo dużo."
   ]
  },
  {
   "cell_type": "code",
   "execution_count": 24,
   "metadata": {},
   "outputs": [
    {
     "data": {
      "image/png": "[encoded data removed]",
      "text/plain": [
       "<Figure size 432x288 with 1 Axes>"
      ]
     },
     "metadata": {
      "needs_background": "light"
     },
     "output_type": "display_data"
    }
   ],
   "source": [
    "df = census_df[census_df['capital_gain'] > 0]\n",
    "sns.violinplot(y = df['capital_gain'], x = df['income_level'], palette = ['red', 'green'], scale = \"count\")\n",
    "plt.show()"
   ]
  },
  {
   "cell_type": "markdown",
   "metadata": {},
   "source": [
    "Zobaczmy jeszcze jak to dokładniej wygląda na histogramach:"
   ]
  },
  {
   "cell_type": "code",
   "execution_count": 25,
   "metadata": {},
   "outputs": [
    {
     "data": {
      "image/png": "[encoded data removed]",
      "text/plain": [
       "<Figure size 864x432 with 2 Axes>"
      ]
     },
     "metadata": {
      "needs_background": "light"
     },
     "output_type": "display_data"
    }
   ],
   "source": [
    "tmp = census_df.loc[(census_df['capital_gain']>0) & (census_df['income_level']==1)]\n",
    "tmp2 = census_df.loc[(census_df['capital_gain']>0) & (census_df['income_level']==0)]\n",
    "\n",
    "fig, axes = plt.subplots(1, 2)\n",
    "tmp['capital_gain'].hist(bins = 40, figsize = (12,6), ax=axes[0], color = 'green')\n",
    "tmp2['capital_gain'].hist(bins = 40, figsize = (12,6), ax=axes[1], color = 'red')\n",
    "plt.ylim((0,1000))\n",
    "plt.show()"
   ]
  },
  {
   "cell_type": "markdown",
   "metadata": {},
   "source": [
    "Widać, że w przypadku zmiennej `capital_gain` więcej osób, które mają przychód >50 000 \\\\$ osiąga zysk na poziomie 0-20 000\\\\$. Wydaje się też, że dane zostały ucięte dla wartości powyżej 100 000\\\\$. Dla osób w grupie o niższych przychodach widać, że wartości zysku nie przekraczają wartości 50 000\\\\$, ponieważ to wlicza się do ogólnego przychodu. Aby to było możliwe ktoś musiałby usyskać dużą staratę kapitałową, ponieważ przychód liczony jest jako *capital_gain* - *capital_loss* + salary\n",
    "\n",
    "Tę kolumnę również zmienimy na zmienną kategoryczną, przy czym zauważyliśmy, że występuje bardzo dużo zerowych wartości, więc warto je zgupować jako osobną kategorię, oznaczoną jako *0*. Pozostałe wiersze zostaną podzielone po kwintylach. "
   ]
  },
  {
   "cell_type": "code",
   "execution_count": 26,
   "metadata": {},
   "outputs": [
    {
     "data": {
      "text/plain": [
       "[114.0, 3103.0, 5013.0, 7688.0, 15024.0, 99999.0]"
      ]
     },
     "execution_count": 26,
     "metadata": {},
     "output_type": "execute_result"
    }
   ],
   "source": [
    "tmp = census_df.loc[(census_df['capital_gain']>0)]\n",
    "res, bins = pd.qcut(tmp['capital_gain'], 5, labels=[1, 2, 3, 4, 5], retbins=True)\n",
    "bins.tolist()"
   ]
  },
  {
   "cell_type": "code",
   "execution_count": 27,
   "metadata": {},
   "outputs": [
    {
     "data": {
      "text/plain": [
       "Series([], Name: capital_gain, dtype: category\n",
       "Categories (6, int64): [0 < 1 < 2 < 3 < 4 < 5])"
      ]
     },
     "execution_count": 27,
     "metadata": {},
     "output_type": "execute_result"
    }
   ],
   "source": [
    "tmp = pd.cut(census_df['capital_gain'], bins=[-1, 114.0, 3103.0, 5013.0, 7688.0, 15024.0, np.inf], \n",
    "             labels=[0, 1, 2, 3, 4, 5])\n",
    "tmp[tmp.isna()] #sprawdzenie czy w ten sposób nie powstaną jakieś braki danych"
   ]
  },
  {
   "cell_type": "code",
   "execution_count": 28,
   "metadata": {},
   "outputs": [],
   "source": [
    "census_df['capital_gain'] = pd.cut(census_df['capital_gain'], bins=[-1, 114.0, 3103.0, 5013.0, 7688.0, 15024.0, np.inf], \n",
    "             labels=[0, 1, 2, 3, 4, 5])"
   ]
  },
  {
   "cell_type": "markdown",
   "metadata": {},
   "source": [
    "`capital_loss`"
   ]
  },
  {
   "cell_type": "code",
   "execution_count": 29,
   "metadata": {},
   "outputs": [
    {
     "data": {
      "image/png": "[encoded data removed]",
      "text/plain": [
       "<Figure size 432x288 with 1 Axes>"
      ]
     },
     "metadata": {
      "needs_background": "light"
     },
     "output_type": "display_data"
    }
   ],
   "source": [
    "df = census_df[census_df['capital_loss'] > 0]\n",
    "sns.violinplot(y = df['capital_loss'], x = df['income_level'], palette = ['red', 'green'], scale = \"count\")\n",
    "plt.show()"
   ]
  },
  {
   "cell_type": "markdown",
   "metadata": {},
   "source": [
    "Zobaczmy jeszcze jak to dokładniej wygląda na histogramach:"
   ]
  },
  {
   "cell_type": "code",
   "execution_count": 30,
   "metadata": {},
   "outputs": [
    {
     "data": {
      "image/png": "[encoded data removed]",
      "text/plain": [
       "<Figure size 864x432 with 2 Axes>"
      ]
     },
     "metadata": {
      "needs_background": "light"
     },
     "output_type": "display_data"
    }
   ],
   "source": [
    "tmp = census_df.loc[(census_df['capital_loss']>0) & (census_df['income_level']==1)]\n",
    "tmp2 = census_df.loc[(census_df['capital_loss']>0) & (census_df['income_level']==0)]\n",
    "\n",
    "fig, axes = plt.subplots(1, 2)\n",
    "tmp['capital_loss'].hist(bins = 12, figsize = (12,6), ax=axes[0], color = 'green')\n",
    "tmp2['capital_loss'].hist(bins = 12, figsize = (12,6), ax=axes[1], color = 'red')\n",
    "plt.ylim((0,625))\n",
    "plt.show()"
   ]
  },
  {
   "cell_type": "markdown",
   "metadata": {},
   "source": [
    "`capital_loss` w przypadku obu grup osób nie przekracza 5000\\\\$ i najwięcej osób (oprócz tych dla których odnotowano zerową wartość tej zmiennej) osiąga straty kapitałowe w okolicy 2000\\\\$. Rozkłady są bardzo podobne, jednak dla osób, które odnotowały mniejszy dochód bardziej przesunięte w stronę mniejszych wartości, a dla drugiej grupy w stronę większych wartości.\n",
    "\n",
    "Tę zmienną również przekształcimy na kategoryczną, analogicznie jak `capital_gain`, czyli zerowe wartości jako osobną kategorię, oznaczoną jako *0*, a pozostałe wartości po kwintylach. "
   ]
  },
  {
   "cell_type": "code",
   "execution_count": 31,
   "metadata": {},
   "outputs": [
    {
     "data": {
      "text/plain": [
       "[155.0, 1617.0, 1876.0, 1902.0, 2002.0, 4356.0]"
      ]
     },
     "execution_count": 31,
     "metadata": {},
     "output_type": "execute_result"
    }
   ],
   "source": [
    "tmp = census_df.loc[(census_df['capital_loss']>0)]\n",
    "res, bins = pd.qcut(tmp['capital_loss'], 5, labels=[1, 2, 3, 4, 5], retbins=True)\n",
    "bins.tolist()"
   ]
  },
  {
   "cell_type": "code",
   "execution_count": 32,
   "metadata": {},
   "outputs": [
    {
     "data": {
      "text/plain": [
       "Series([], Name: capital_loss, dtype: category\n",
       "Categories (6, int64): [0 < 1 < 2 < 3 < 4 < 5])"
      ]
     },
     "execution_count": 32,
     "metadata": {},
     "output_type": "execute_result"
    }
   ],
   "source": [
    "tmp = pd.cut(census_df['capital_loss'], bins=[-1, 155.0, 1619.2, 1887.0, 1902.0, 2002.0, np.inf], \n",
    "             labels=[0, 1, 2, 3, 4, 5])\n",
    "tmp[tmp.isna()] #sprawdzenie czy w ten sposób nie powstaną jakieś braki danych"
   ]
  },
  {
   "cell_type": "code",
   "execution_count": 33,
   "metadata": {},
   "outputs": [],
   "source": [
    "census_df['capital_loss'] = pd.cut(census_df['capital_loss'], bins=[-1, 155.0, 1619.2, 1887.0, 1902.0, 2002.0, np.inf], \n",
    "             labels=[0, 1, 2, 3, 4, 5])"
   ]
  },
  {
   "cell_type": "markdown",
   "metadata": {},
   "source": [
    "***Kraj pochodzenia***\n",
    "\n",
    "Teraz przyjrzymy się zależnościom między zmiennymi kategorycznymi i zmienną poziomującą zarobki"
   ]
  },
  {
   "cell_type": "code",
   "execution_count": 34,
   "metadata": {},
   "outputs": [
    {
     "data": {
      "image/png": "[encoded data removed]",
      "text/plain": [
       "<Figure size 1440x720 with 1 Axes>"
      ]
     },
     "metadata": {
      "needs_background": "light"
     },
     "output_type": "display_data"
    }
   ],
   "source": [
    "plt.figure(figsize=(20, 10))\n",
    "plt.xticks(rotation = 90)\n",
    "df = census_df.groupby(['native_country']).size().reset_index(name='counts')\n",
    "plt.bar(x=\"native_country\", height=\"counts\", data=df);\n",
    "plt.show()"
   ]
  },
  {
   "cell_type": "markdown",
   "metadata": {},
   "source": [
    "Jako że przeważająca liczba osób ze zbioru pochodzi ze Stanów Zjednoczonych, dla efektywniejszego wyciągania wniosków lepiej będzie zbadać procentowy udział osób zarabiających na danym poziomie dla każdego z krajów, z którego pochodzą emigranci."
   ]
  },
  {
   "cell_type": "code",
   "execution_count": 35,
   "metadata": {},
   "outputs": [
    {
     "data": {
      "image/png": "[encoded data removed]",
      "text/plain": [
       "<Figure size 1296x1296 with 1 Axes>"
      ]
     },
     "metadata": {
      "needs_background": "light"
     },
     "output_type": "display_data"
    }
   ],
   "source": [
    "df = census_df.groupby('native_country')[\"income_level\"].value_counts(normalize = True).unstack('income_level').sort_values(by = 1, ascending = False)\n",
    "df.plot.barh(stacked=True, figsize = (18, 18), color = ['#ff5b5c', 'green'])\n",
    "plt.show()"
   ]
  },
  {
   "cell_type": "markdown",
   "metadata": {},
   "source": [
    "Widać, że wśród krajów, z których najmniejszy procent zarabia powyżej 50K to kraje Ameryki Środkowej. Po drugiej stronie przeważają z kolei kraje Europy i Azji. Można stwierdzić, że zależy to od rozwoju danych krajów. Jasne wydaje się, że dla osób pochodzących z tych bardziej rozwiniętych łatwiej jest o wyższe zarobki.\n",
    "\n",
    "W celu zredukowania klas można by pogupować te dane w zależności od uzyskowanego dochodu, szczególnie że emigrantów jest stosunkowo mało, więc raczej nie wpłynęłoby to znacząco na dokładność predykcji, a mogłoby przyspieszyć ten proces. Spróbujmy więc zastosować taką redukcję:"
   ]
  },
  {
   "cell_type": "code",
   "execution_count": 36,
   "metadata": {},
   "outputs": [
    {
     "data": {
      "text/html": [
       "<div>\n",
       "<style scoped>\n",
       "    .dataframe tbody tr th:only-of-type {\n",
       "        vertical-align: middle;\n",
       "    }\n",
       "\n",
       "    .dataframe tbody tr th {\n",
       "        vertical-align: top;\n",
       "    }\n",
       "\n",
       "    .dataframe thead th {\n",
       "        text-align: right;\n",
       "    }\n",
       "</style>\n",
       "<table border=\"1\" class=\"dataframe\">\n",
       "  <thead>\n",
       "    <tr style=\"text-align: right;\">\n",
       "      <th></th>\n",
       "      <th>native_country</th>\n",
       "      <th>counts</th>\n",
       "    </tr>\n",
       "  </thead>\n",
       "  <tbody>\n",
       "    <tr>\n",
       "      <th>38</th>\n",
       "      <td>United-States</td>\n",
       "      <td>30693</td>\n",
       "    </tr>\n",
       "    <tr>\n",
       "      <th>25</th>\n",
       "      <td>Mexico</td>\n",
       "      <td>662</td>\n",
       "    </tr>\n",
       "    <tr>\n",
       "      <th>0</th>\n",
       "      <td>?</td>\n",
       "      <td>630</td>\n",
       "    </tr>\n",
       "    <tr>\n",
       "      <th>29</th>\n",
       "      <td>Philippines</td>\n",
       "      <td>199</td>\n",
       "    </tr>\n",
       "    <tr>\n",
       "      <th>11</th>\n",
       "      <td>Germany</td>\n",
       "      <td>151</td>\n",
       "    </tr>\n",
       "    <tr>\n",
       "      <th>32</th>\n",
       "      <td>Puerto-Rico</td>\n",
       "      <td>136</td>\n",
       "    </tr>\n",
       "    <tr>\n",
       "      <th>2</th>\n",
       "      <td>Canada</td>\n",
       "      <td>117</td>\n",
       "    </tr>\n",
       "    <tr>\n",
       "      <th>8</th>\n",
       "      <td>El-Salvador</td>\n",
       "      <td>106</td>\n",
       "    </tr>\n",
       "    <tr>\n",
       "      <th>18</th>\n",
       "      <td>India</td>\n",
       "      <td>103</td>\n",
       "    </tr>\n",
       "    <tr>\n",
       "      <th>5</th>\n",
       "      <td>Cuba</td>\n",
       "      <td>99</td>\n",
       "    </tr>\n",
       "  </tbody>\n",
       "</table>\n",
       "</div>"
      ],
      "text/plain": [
       "   native_country  counts\n",
       "38  United-States  30693 \n",
       "25  Mexico         662   \n",
       "0   ?              630   \n",
       "29  Philippines    199   \n",
       "11  Germany        151   \n",
       "32  Puerto-Rico    136   \n",
       "2   Canada         117   \n",
       "8   El-Salvador    106   \n",
       "18  India          103   \n",
       "5   Cuba           99    "
      ]
     },
     "execution_count": 36,
     "metadata": {},
     "output_type": "execute_result"
    }
   ],
   "source": [
    "census_df.groupby(['native_country']).size().reset_index(name='counts').sort_values(by = 'counts', ascending=False).head(10)"
   ]
  },
  {
   "cell_type": "markdown",
   "metadata": {},
   "source": [
    "Widać, że jedyne bardziej wyróżniające się jednostki to *United-States* oraz *Mexico*. W takim razie wszystkie inne (w tym braki danych) możemy uznać jako *Others*. Uznaliśmy, że braki danych to najprawdopodobniej osoby z innych państw niż Stany Zjednoczone, gdyż raczej nie ma problemów z identyfikacją obywatela państwa, w kótrym został przeprowadzony spis. "
   ]
  },
  {
   "cell_type": "code",
   "execution_count": 37,
   "metadata": {},
   "outputs": [],
   "source": [
    "census_df.loc[(census_df.native_country != 'United-States') & (census_df.native_country != 'United-States'), 'native_country'] = \"Other\""
   ]
  },
  {
   "cell_type": "markdown",
   "metadata": {},
   "source": [
    "***Wykształcenie***"
   ]
  },
  {
   "cell_type": "code",
   "execution_count": 38,
   "metadata": {},
   "outputs": [
    {
     "data": {
      "image/png": "[encoded data removed]",
      "text/plain": [
       "<Figure size 1080x576 with 1 Axes>"
      ]
     },
     "metadata": {
      "needs_background": "light"
     },
     "output_type": "display_data"
    }
   ],
   "source": [
    "plt.figure(figsize=(15,8))\n",
    "df = census_df.groupby(['education_num', 'income_level']).size().reset_index(name='counts')\n",
    "sns.barplot(x=\"education_num\", y=\"counts\", hue=\"income_level\", data=df, ci=None, palette=[\"red\", \"green\"]);\n",
    "plt.show()"
   ]
  },
  {
   "cell_type": "markdown",
   "metadata": {},
   "source": [
    "Możemy zaobserwować, że najwięcej osób z naszej próbki ma wykształcenie średnie (9 - HS-grad) lub uczęszczali na studia ale nie zdobyli stopnia naukowego (10 - some college). Dużo jest także osób ze stopniem licencjackim (13 - Bachelor). Widać wyrażnie, że im wyższy poziom w naukowej drabince, tym osób zarabiających powyżej 50K jest coraz więcej w stosunku do tych zarabiających mniej. Dla stopni powyżej magistra (od 14 - Masters) osoby oznaczone numerem 1 przeważają. \n",
    "\n",
    "***Stan cywilny***"
   ]
  },
  {
   "cell_type": "code",
   "execution_count": 39,
   "metadata": {},
   "outputs": [
    {
     "data": {
      "image/png": "[encoded data removed]",
      "text/plain": [
       "<Figure size 864x576 with 1 Axes>"
      ]
     },
     "metadata": {
      "needs_background": "light"
     },
     "output_type": "display_data"
    }
   ],
   "source": [
    "plt.figure(figsize=(12,8))\n",
    "df = census_df.groupby(['marital_status', 'income_level']).size().reset_index(name='counts')\n",
    "sns.barplot(x=\"marital_status\", y=\"counts\", hue=\"income_level\", data=df, ci=None, palette=[\"red\", \"green\"]);\n",
    "plt.xticks(rotation = 30)\n",
    "plt.show()"
   ]
  },
  {
   "cell_type": "markdown",
   "metadata": {},
   "source": [
    "Największe grupy osób są w związku z małżeńskim z osobą cwyilną, ewentualnie nigdy nie zawierały takiego związku lub są rozwiedzione. Pozostałe grupy są wyraźnie mniej liczne, a najmniejszą stanowią osoby w związku małzeńskim z osobą wojskową. W każdej grupie jest przewaga osób zarabiających mniej niż 50K. Jednak grupa małzeństw z osobami cywilnymi wyróżnia się najbardziej wyrównaną proporcją osób o różnym poziomie zarobków, podczas gdy wśród pozostałych zdecydowanie więcej osób nie zarabia więcej niz 50K. Może to nasuwać wniosek, że osoby w związku małżeńskim mają większą szansę na stabilność finansową, a co za tym idzie, lepsze zarobki w ogólności."
   ]
  },
  {
   "cell_type": "code",
   "execution_count": 40,
   "metadata": {},
   "outputs": [
    {
     "data": {
      "image/png": "[encoded data removed]",
      "text/plain": [
       "<Figure size 864x576 with 1 Axes>"
      ]
     },
     "metadata": {
      "needs_background": "light"
     },
     "output_type": "display_data"
    }
   ],
   "source": [
    "plt.figure(figsize=(12,8))\n",
    "df = census_df.groupby(['relationship', 'income_level']).size().reset_index(name='counts')\n",
    "sns.barplot(x=\"relationship\", y=\"counts\", hue=\"income_level\", data=df, ci=None, palette=[\"red\", \"green\"]);\n",
    "plt.show()"
   ]
  },
  {
   "cell_type": "markdown",
   "metadata": {},
   "source": [
    "Dosyć podobną do poprzedniej zmiennej jest zmienna `relationship`. Wnioski się nakładają, bo ponownie widać, że proporcja osób o różnych poziomach zarobków jest wyrównana dla osób w związku małżeńskim. Dla pozostałych grup zdecydowanie przeważają osoby o mniejszych zarobkach. \n",
    "\n",
    "***Klasa robocza i zawód***"
   ]
  },
  {
   "cell_type": "code",
   "execution_count": 41,
   "metadata": {},
   "outputs": [
    {
     "data": {
      "image/png": "[encoded data removed]",
      "text/plain": [
       "<Figure size 864x576 with 1 Axes>"
      ]
     },
     "metadata": {
      "needs_background": "light"
     },
     "output_type": "display_data"
    }
   ],
   "source": [
    "plt.figure(figsize=(12,8))\n",
    "df = census_df[census_df.workclass != \"?\"].groupby(['workclass', 'income_level']).size().reset_index(name='counts')\n",
    "sns.barplot(x=\"workclass\", y=\"counts\", hue=\"income_level\", data=df, ci=None, palette=[\"red\", \"green\"]);\n",
    "plt.show()"
   ]
  },
  {
   "cell_type": "markdown",
   "metadata": {},
   "source": [
    "Przewazająca część osób z próbki to osoby pracujące w sektorze prywatnym. Mimo, że jest tam również najwięcej osób, które zarabiają powyżej 50K, to proporcjonalnie zdecydowanie więcej osób zarabia więcej w sektorze samozatrudniających się.  \n",
    "\n",
    "Ze względu na duże zróznicowanie zawodów, najpierw przyjrzymy się jak dużo osób pracuje w poszczególnych dziedzinach."
   ]
  },
  {
   "cell_type": "code",
   "execution_count": 42,
   "metadata": {},
   "outputs": [
    {
     "data": {
      "image/png": "[encoded data removed]",
      "text/plain": [
       "<Figure size 1440x360 with 1 Axes>"
      ]
     },
     "metadata": {
      "needs_background": "light"
     },
     "output_type": "display_data"
    }
   ],
   "source": [
    "plt.figure(figsize=(20, 5))\n",
    "plt.xticks(rotation = 45)\n",
    "df = census_df[census_df.occupation != \"?\"].groupby(['occupation']).size().reset_index(name='counts').sort_values(by = \"counts\")\n",
    "plt.bar(x=\"occupation\", height=\"counts\", data=df);\n",
    "plt.show()"
   ]
  },
  {
   "cell_type": "markdown",
   "metadata": {},
   "source": [
    "Widać, że wśród osób z naszej ramki rozkład zawodów jest bardziej równowmierny. A teraz sprawdzimy jak duża część osób zarabai więcej niż 50K dla każdej grupy."
   ]
  },
  {
   "cell_type": "code",
   "execution_count": 43,
   "metadata": {},
   "outputs": [
    {
     "data": {
      "image/png": "[encoded data removed]",
      "text/plain": [
       "<Figure size 1296x720 with 1 Axes>"
      ]
     },
     "metadata": {
      "needs_background": "light"
     },
     "output_type": "display_data"
    }
   ],
   "source": [
    "df = census_df[census_df.occupation != \"?\"].groupby('occupation')[\"income_level\"].value_counts(normalize = True).unstack('income_level').sort_values(by = 1, ascending = False)\n",
    "df.plot.barh(stacked=True, figsize = (18, 10), color = ['#ff5b5c', 'green'])\n",
    "plt.show()"
   ]
  },
  {
   "cell_type": "markdown",
   "metadata": {},
   "source": [
    "Dwie grupy o największym stosunku oznaczonych 1 do oznaczonych 0 to osoby o stanowiskach kierowniczych i osoby pracujące w specjalizacji. Są to także ogólnie najliczniejsze grupy pracujących, więc można uznać że praca w tych dwóch obszarach daje lepsze wynagrodzenie Nie można tego powiedzieć o osobach pracujących w zawodach odpowiedzialnych za sprzątanie i zajmowanie się domem, gdzie osób zarabaijących powyżej 50K jest bardzo mało.\n",
    "\n",
    "***Płeć i rasa***"
   ]
  },
  {
   "cell_type": "code",
   "execution_count": 44,
   "metadata": {},
   "outputs": [
    {
     "data": {
      "image/png": "[encoded data removed]",
      "text/plain": [
       "<Figure size 1332x432 with 4 Axes>"
      ]
     },
     "metadata": {
      "needs_background": "light"
     },
     "output_type": "display_data"
    }
   ],
   "source": [
    "df1 = census_df[census_df.income_level == 0]\n",
    "df1 = df1.groupby(['sex', 'race']).size().reset_index(name='counts')\n",
    "df1 = pd.pivot(df1, index = 'race', columns = 'sex', values = 'counts')\n",
    "\n",
    "df2 = census_df[census_df.income_level == 1]\n",
    "df2 = df2.groupby(['sex', 'race']).size().reset_index(name='counts')\n",
    "df2 = pd.pivot(df2, index = 'race', columns = 'sex', values = 'counts')\n",
    "\n",
    "fig, (ax1, ax2) = plt.subplots(1,2)\n",
    "sns.heatmap(df1, annot=True, cmap='Reds', ax=ax1, fmt='g', norm=LogNorm())\n",
    "sns.heatmap(df2, annot=True, cmap='Greens', ax=ax2, fmt='g', norm=LogNorm())\n",
    "fig.set_size_inches(18.5, 6)\n",
    "plt.show()"
   ]
  },
  {
   "cell_type": "markdown",
   "metadata": {},
   "source": [
    "Dla lepszego zobrazowania ilości osób w poszczególnych grupach, używamy skali logarytmicznej. Wśród naszych obserwacji występuje więcej osób płci męskiej, a także przeważają osoby białe."
   ]
  },
  {
   "cell_type": "code",
   "execution_count": 45,
   "metadata": {},
   "outputs": [
    {
     "data": {
      "image/png": "[encoded data removed]",
      "text/plain": [
       "<Figure size 1080x360 with 1 Axes>"
      ]
     },
     "metadata": {
      "needs_background": "light"
     },
     "output_type": "display_data"
    }
   ],
   "source": [
    "tmp2 = census_df\n",
    "#tmp2['sex'] = tmp2['sex'].replace(['Famale','Male'],[1, 0])\n",
    "tmp2 = tmp2[tmp2.race != \"?\"].groupby('income_level')[\"sex\"].value_counts(normalize = True).unstack('sex')\n",
    "\n",
    "tmp2.plot.barh(stacked=True, figsize = (15, 5), color = ['lightblue', 'violet'])\n",
    "plt.show()"
   ]
  },
  {
   "cell_type": "markdown",
   "metadata": {},
   "source": [
    "Można zauważyć, że w przypadku osób zarabiających poniżej 50K, stosunek kobiet do mężczyzn jest znacznie większy. Oznacza to, że kobiety częściej zarabiają mniejsze stawki. Dysproporcje można też dostrzec porównując grupy rasowe:"
   ]
  },
  {
   "cell_type": "code",
   "execution_count": 46,
   "metadata": {},
   "outputs": [
    {
     "data": {
      "image/png": "[encoded data removed]",
      "text/plain": [
       "<Figure size 1080x360 with 1 Axes>"
      ]
     },
     "metadata": {
      "needs_background": "light"
     },
     "output_type": "display_data"
    }
   ],
   "source": [
    "tmp = census_df\n",
    "tmp = tmp[tmp.race != \"?\"].groupby('race')[\"income_level\"].value_counts(normalize = True).unstack('income_level')\n",
    "\n",
    "tmp.plot.barh(stacked=True, figsize = (15, 5), color = ['#ff5b5c', 'green'])\n",
    "plt.show()"
   ]
  },
  {
   "cell_type": "code",
   "execution_count": 47,
   "metadata": {},
   "outputs": [
    {
     "data": {
      "text/html": [
       "<div>\n",
       "<style scoped>\n",
       "    .dataframe tbody tr th:only-of-type {\n",
       "        vertical-align: middle;\n",
       "    }\n",
       "\n",
       "    .dataframe tbody tr th {\n",
       "        vertical-align: top;\n",
       "    }\n",
       "\n",
       "    .dataframe thead th {\n",
       "        text-align: right;\n",
       "    }\n",
       "</style>\n",
       "<table border=\"1\" class=\"dataframe\">\n",
       "  <thead>\n",
       "    <tr style=\"text-align: right;\">\n",
       "      <th></th>\n",
       "      <th>age</th>\n",
       "      <th>workclass</th>\n",
       "      <th>education_num</th>\n",
       "      <th>marital_status</th>\n",
       "      <th>occupation</th>\n",
       "      <th>relationship</th>\n",
       "      <th>race</th>\n",
       "      <th>sex</th>\n",
       "      <th>capital_gain</th>\n",
       "      <th>capital_loss</th>\n",
       "      <th>hours_per_week</th>\n",
       "      <th>native_country</th>\n",
       "      <th>income_level</th>\n",
       "    </tr>\n",
       "  </thead>\n",
       "  <tbody>\n",
       "    <tr>\n",
       "      <th>9276</th>\n",
       "      <td>8</td>\n",
       "      <td>Local-gov</td>\n",
       "      <td>14</td>\n",
       "      <td>Married-civ-spouse</td>\n",
       "      <td>Prof-specialty</td>\n",
       "      <td>Husband</td>\n",
       "      <td>White</td>\n",
       "      <td>Male</td>\n",
       "      <td>0</td>\n",
       "      <td>0</td>\n",
       "      <td>3</td>\n",
       "      <td>United-States</td>\n",
       "      <td>0</td>\n",
       "    </tr>\n",
       "    <tr>\n",
       "      <th>25135</th>\n",
       "      <td>6</td>\n",
       "      <td>Private</td>\n",
       "      <td>16</td>\n",
       "      <td>Married-civ-spouse</td>\n",
       "      <td>Prof-specialty</td>\n",
       "      <td>Wife</td>\n",
       "      <td>White</td>\n",
       "      <td>Female</td>\n",
       "      <td>0</td>\n",
       "      <td>4</td>\n",
       "      <td>1</td>\n",
       "      <td>United-States</td>\n",
       "      <td>1</td>\n",
       "    </tr>\n",
       "    <tr>\n",
       "      <th>4093</th>\n",
       "      <td>4</td>\n",
       "      <td>Local-gov</td>\n",
       "      <td>14</td>\n",
       "      <td>Married-civ-spouse</td>\n",
       "      <td>Prof-specialty</td>\n",
       "      <td>Husband</td>\n",
       "      <td>White</td>\n",
       "      <td>Male</td>\n",
       "      <td>0</td>\n",
       "      <td>0</td>\n",
       "      <td>2</td>\n",
       "      <td>United-States</td>\n",
       "      <td>0</td>\n",
       "    </tr>\n",
       "    <tr>\n",
       "      <th>23421</th>\n",
       "      <td>10</td>\n",
       "      <td>?</td>\n",
       "      <td>6</td>\n",
       "      <td>Married-civ-spouse</td>\n",
       "      <td>?</td>\n",
       "      <td>Husband</td>\n",
       "      <td>White</td>\n",
       "      <td>Male</td>\n",
       "      <td>0</td>\n",
       "      <td>0</td>\n",
       "      <td>3</td>\n",
       "      <td>United-States</td>\n",
       "      <td>1</td>\n",
       "    </tr>\n",
       "    <tr>\n",
       "      <th>27463</th>\n",
       "      <td>1</td>\n",
       "      <td>Private</td>\n",
       "      <td>7</td>\n",
       "      <td>Never-married</td>\n",
       "      <td>Sales</td>\n",
       "      <td>Own-child</td>\n",
       "      <td>White</td>\n",
       "      <td>Female</td>\n",
       "      <td>0</td>\n",
       "      <td>0</td>\n",
       "      <td>1</td>\n",
       "      <td>United-States</td>\n",
       "      <td>0</td>\n",
       "    </tr>\n",
       "  </tbody>\n",
       "</table>\n",
       "</div>"
      ],
      "text/plain": [
       "      age  workclass  education_num      marital_status      occupation  \\\n",
       "9276   8   Local-gov  14             Married-civ-spouse  Prof-specialty   \n",
       "25135  6   Private    16             Married-civ-spouse  Prof-specialty   \n",
       "4093   4   Local-gov  14             Married-civ-spouse  Prof-specialty   \n",
       "23421  10  ?          6              Married-civ-spouse  ?                \n",
       "27463  1   Private    7              Never-married       Sales            \n",
       "\n",
       "      relationship   race     sex capital_gain capital_loss hours_per_week  \\\n",
       "9276   Husband      White  Male    0            0            3               \n",
       "25135  Wife         White  Female  0            4            1               \n",
       "4093   Husband      White  Male    0            0            2               \n",
       "23421  Husband      White  Male    0            0            3               \n",
       "27463  Own-child    White  Female  0            0            1               \n",
       "\n",
       "      native_country  income_level  \n",
       "9276   United-States  0             \n",
       "25135  United-States  1             \n",
       "4093   United-States  0             \n",
       "23421  United-States  1             \n",
       "27463  United-States  0             "
      ]
     },
     "execution_count": 47,
     "metadata": {},
     "output_type": "execute_result"
    }
   ],
   "source": [
    "census_df.head()"
   ]
  },
  {
   "cell_type": "markdown",
   "metadata": {},
   "source": [
    "Można zauważyć, że wśród osób Czarnoskórych oraz rdzennych Amerykanów i Inuitów występuje najmniejszy procent osób zarabiających powyżej 50K. Z kolei ludzie z Azji i wysp Pacyfiku oraz ludzie biali mają mniej drastyczną różnicę procentową i około 30% zarabia lepiej.  "
   ]
  },
  {
   "cell_type": "markdown",
   "metadata": {},
   "source": [
    "### Zamiana zmiennych na numeryczne"
   ]
  },
  {
   "cell_type": "code",
   "execution_count": 48,
   "metadata": {},
   "outputs": [
    {
     "data": {
      "text/plain": [
       "(34189, 2)"
      ]
     },
     "execution_count": 48,
     "metadata": {},
     "output_type": "execute_result"
    }
   ],
   "source": [
    "country_df = pd.get_dummies(census_df['native_country'], prefix='country_')\n",
    "country_df.shape"
   ]
  },
  {
   "cell_type": "code",
   "execution_count": 49,
   "metadata": {},
   "outputs": [
    {
     "data": {
      "text/plain": [
       "(34189, 13)"
      ]
     },
     "execution_count": 49,
     "metadata": {},
     "output_type": "execute_result"
    }
   ],
   "source": [
    "census_df.shape"
   ]
  },
  {
   "cell_type": "code",
   "execution_count": 50,
   "metadata": {},
   "outputs": [],
   "source": [
    "# mają tyle samo wierszy więc łączenie obu ramek:\n",
    "census_df = pd.concat([census_df, country_df], axis=1)\n",
    "census_df.drop(['native_country'],  axis=1, inplace = True)"
   ]
  },
  {
   "cell_type": "code",
   "execution_count": 51,
   "metadata": {},
   "outputs": [
    {
     "data": {
      "text/html": [
       "<div>\n",
       "<style scoped>\n",
       "    .dataframe tbody tr th:only-of-type {\n",
       "        vertical-align: middle;\n",
       "    }\n",
       "\n",
       "    .dataframe tbody tr th {\n",
       "        vertical-align: top;\n",
       "    }\n",
       "\n",
       "    .dataframe thead th {\n",
       "        text-align: right;\n",
       "    }\n",
       "</style>\n",
       "<table border=\"1\" class=\"dataframe\">\n",
       "  <thead>\n",
       "    <tr style=\"text-align: right;\">\n",
       "      <th></th>\n",
       "      <th>age</th>\n",
       "      <th>workclass</th>\n",
       "      <th>education_num</th>\n",
       "      <th>marital_status</th>\n",
       "      <th>occupation</th>\n",
       "      <th>relationship</th>\n",
       "      <th>race</th>\n",
       "      <th>sex</th>\n",
       "      <th>capital_gain</th>\n",
       "      <th>capital_loss</th>\n",
       "      <th>hours_per_week</th>\n",
       "      <th>income_level</th>\n",
       "      <th>country__Other</th>\n",
       "      <th>country__United-States</th>\n",
       "    </tr>\n",
       "  </thead>\n",
       "  <tbody>\n",
       "    <tr>\n",
       "      <th>9276</th>\n",
       "      <td>8</td>\n",
       "      <td>Local-gov</td>\n",
       "      <td>14</td>\n",
       "      <td>Married-civ-spouse</td>\n",
       "      <td>Prof-specialty</td>\n",
       "      <td>Husband</td>\n",
       "      <td>White</td>\n",
       "      <td>Male</td>\n",
       "      <td>0</td>\n",
       "      <td>0</td>\n",
       "      <td>3</td>\n",
       "      <td>0</td>\n",
       "      <td>0</td>\n",
       "      <td>1</td>\n",
       "    </tr>\n",
       "    <tr>\n",
       "      <th>25135</th>\n",
       "      <td>6</td>\n",
       "      <td>Private</td>\n",
       "      <td>16</td>\n",
       "      <td>Married-civ-spouse</td>\n",
       "      <td>Prof-specialty</td>\n",
       "      <td>Wife</td>\n",
       "      <td>White</td>\n",
       "      <td>Female</td>\n",
       "      <td>0</td>\n",
       "      <td>4</td>\n",
       "      <td>1</td>\n",
       "      <td>1</td>\n",
       "      <td>0</td>\n",
       "      <td>1</td>\n",
       "    </tr>\n",
       "    <tr>\n",
       "      <th>4093</th>\n",
       "      <td>4</td>\n",
       "      <td>Local-gov</td>\n",
       "      <td>14</td>\n",
       "      <td>Married-civ-spouse</td>\n",
       "      <td>Prof-specialty</td>\n",
       "      <td>Husband</td>\n",
       "      <td>White</td>\n",
       "      <td>Male</td>\n",
       "      <td>0</td>\n",
       "      <td>0</td>\n",
       "      <td>2</td>\n",
       "      <td>0</td>\n",
       "      <td>0</td>\n",
       "      <td>1</td>\n",
       "    </tr>\n",
       "    <tr>\n",
       "      <th>23421</th>\n",
       "      <td>10</td>\n",
       "      <td>?</td>\n",
       "      <td>6</td>\n",
       "      <td>Married-civ-spouse</td>\n",
       "      <td>?</td>\n",
       "      <td>Husband</td>\n",
       "      <td>White</td>\n",
       "      <td>Male</td>\n",
       "      <td>0</td>\n",
       "      <td>0</td>\n",
       "      <td>3</td>\n",
       "      <td>1</td>\n",
       "      <td>0</td>\n",
       "      <td>1</td>\n",
       "    </tr>\n",
       "    <tr>\n",
       "      <th>27463</th>\n",
       "      <td>1</td>\n",
       "      <td>Private</td>\n",
       "      <td>7</td>\n",
       "      <td>Never-married</td>\n",
       "      <td>Sales</td>\n",
       "      <td>Own-child</td>\n",
       "      <td>White</td>\n",
       "      <td>Female</td>\n",
       "      <td>0</td>\n",
       "      <td>0</td>\n",
       "      <td>1</td>\n",
       "      <td>0</td>\n",
       "      <td>0</td>\n",
       "      <td>1</td>\n",
       "    </tr>\n",
       "  </tbody>\n",
       "</table>\n",
       "</div>"
      ],
      "text/plain": [
       "      age  workclass  education_num      marital_status      occupation  \\\n",
       "9276   8   Local-gov  14             Married-civ-spouse  Prof-specialty   \n",
       "25135  6   Private    16             Married-civ-spouse  Prof-specialty   \n",
       "4093   4   Local-gov  14             Married-civ-spouse  Prof-specialty   \n",
       "23421  10  ?          6              Married-civ-spouse  ?                \n",
       "27463  1   Private    7              Never-married       Sales            \n",
       "\n",
       "      relationship   race     sex capital_gain capital_loss hours_per_week  \\\n",
       "9276   Husband      White  Male    0            0            3               \n",
       "25135  Wife         White  Female  0            4            1               \n",
       "4093   Husband      White  Male    0            0            2               \n",
       "23421  Husband      White  Male    0            0            3               \n",
       "27463  Own-child    White  Female  0            0            1               \n",
       "\n",
       "       income_level  country__Other  country__United-States  \n",
       "9276   0             0               1                       \n",
       "25135  1             0               1                       \n",
       "4093   0             0               1                       \n",
       "23421  1             0               1                       \n",
       "27463  0             0               1                       "
      ]
     },
     "execution_count": 51,
     "metadata": {},
     "output_type": "execute_result"
    }
   ],
   "source": [
    "census_df.head()"
   ]
  },
  {
   "cell_type": "code",
   "execution_count": null,
   "metadata": {},
   "outputs": [],
   "source": []
  },
  {
   "cell_type": "markdown",
   "metadata": {},
   "source": [
    "### Wykorzystanie *Weight of Value* i *Information Value*"
   ]
  },
  {
   "cell_type": "markdown",
   "metadata": {},
   "source": [
    "# Całe to WOE robione na czuja, może niektóre źle podzieliłem, nie wiem"
   ]
  },
  {
   "cell_type": "markdown",
   "metadata": {},
   "source": [
    "Teraz wyliczymy wartości WoE i IV dla poszczególnych zmiennych. Dzięki WoE możemy spróbować połączyć niektore wartości o podobnych wartościach tego parametru. Analizując IV możemy także dowiedzieć się, które zmienne są dobrymi predykatorami, jako że im większa suma IV, tym zmienna może okazać się lepszym predykatorem. Skorzystamy z poniższej napisanej przez nas funckji `woefun`."
   ]
  },
  {
   "cell_type": "code",
   "execution_count": 52,
   "metadata": {},
   "outputs": [],
   "source": [
    "total_neg = census_df['income_level'].value_counts()[0]\n",
    "total_pos = census_df['income_level'].value_counts()[1]\n",
    "def woefun(colname):\n",
    "    df = census_df.groupby(['income_level', colname]).size().reset_index(name='counts')\n",
    "    df = pd.pivot(df, index = colname, columns = 'income_level', values = 'counts')\n",
    "    neg = df[0]/total_neg\n",
    "    pos = df[1]/total_pos\n",
    "    df['WoE'] = np.log(pos/neg)\n",
    "    df['IV'] = (pos - neg)*df['WoE']\n",
    "    return df"
   ]
  },
  {
   "cell_type": "code",
   "execution_count": 53,
   "metadata": {},
   "outputs": [
    {
     "data": {
      "text/html": [
       "<div>\n",
       "<style scoped>\n",
       "    .dataframe tbody tr th:only-of-type {\n",
       "        vertical-align: middle;\n",
       "    }\n",
       "\n",
       "    .dataframe tbody tr th {\n",
       "        vertical-align: top;\n",
       "    }\n",
       "\n",
       "    .dataframe thead th {\n",
       "        text-align: right;\n",
       "    }\n",
       "</style>\n",
       "<table border=\"1\" class=\"dataframe\">\n",
       "  <thead>\n",
       "    <tr style=\"text-align: right;\">\n",
       "      <th>income_level</th>\n",
       "      <th>0</th>\n",
       "      <th>1</th>\n",
       "      <th>WoE</th>\n",
       "      <th>IV</th>\n",
       "    </tr>\n",
       "    <tr>\n",
       "      <th>workclass</th>\n",
       "      <th></th>\n",
       "      <th></th>\n",
       "      <th></th>\n",
       "      <th></th>\n",
       "    </tr>\n",
       "  </thead>\n",
       "  <tbody>\n",
       "    <tr>\n",
       "      <th>Without-pay</th>\n",
       "      <td>11.0</td>\n",
       "      <td>1.0</td>\n",
       "      <td>-1.241305</td>\n",
       "      <td>0.000373</td>\n",
       "    </tr>\n",
       "    <tr>\n",
       "      <th>?</th>\n",
       "      <td>1789.0</td>\n",
       "      <td>187.0</td>\n",
       "      <td>-1.101714</td>\n",
       "      <td>0.050600</td>\n",
       "    </tr>\n",
       "    <tr>\n",
       "      <th>Private</th>\n",
       "      <td>18582.0</td>\n",
       "      <td>5195.0</td>\n",
       "      <td>-0.117907</td>\n",
       "      <td>0.009369</td>\n",
       "    </tr>\n",
       "    <tr>\n",
       "      <th>State-gov</th>\n",
       "      <td>1026.0</td>\n",
       "      <td>372.0</td>\n",
       "      <td>0.142061</td>\n",
       "      <td>0.000855</td>\n",
       "    </tr>\n",
       "    <tr>\n",
       "      <th>Self-emp-not-inc</th>\n",
       "      <td>1923.0</td>\n",
       "      <td>755.0</td>\n",
       "      <td>0.221666</td>\n",
       "      <td>0.004067</td>\n",
       "    </tr>\n",
       "    <tr>\n",
       "      <th>Local-gov</th>\n",
       "      <td>1519.0</td>\n",
       "      <td>647.0</td>\n",
       "      <td>0.303129</td>\n",
       "      <td>0.006269</td>\n",
       "    </tr>\n",
       "    <tr>\n",
       "      <th>Federal-gov</th>\n",
       "      <td>623.0</td>\n",
       "      <td>380.0</td>\n",
       "      <td>0.662215</td>\n",
       "      <td>0.014896</td>\n",
       "    </tr>\n",
       "    <tr>\n",
       "      <th>Self-emp-inc</th>\n",
       "      <td>527.0</td>\n",
       "      <td>644.0</td>\n",
       "      <td>1.357088</td>\n",
       "      <td>0.079330</td>\n",
       "    </tr>\n",
       "    <tr>\n",
       "      <th>Never-worked</th>\n",
       "      <td>8.0</td>\n",
       "      <td>NaN</td>\n",
       "      <td>NaN</td>\n",
       "      <td>NaN</td>\n",
       "    </tr>\n",
       "  </tbody>\n",
       "</table>\n",
       "</div>"
      ],
      "text/plain": [
       "income_level            0       1       WoE        IV\n",
       "workclass                                            \n",
       "Without-pay       11.0     1.0    -1.241305  0.000373\n",
       "?                 1789.0   187.0  -1.101714  0.050600\n",
       "Private           18582.0  5195.0 -0.117907  0.009369\n",
       "State-gov         1026.0   372.0   0.142061  0.000855\n",
       "Self-emp-not-inc  1923.0   755.0   0.221666  0.004067\n",
       "Local-gov         1519.0   647.0   0.303129  0.006269\n",
       "Federal-gov       623.0    380.0   0.662215  0.014896\n",
       "Self-emp-inc      527.0    644.0   1.357088  0.079330\n",
       "Never-worked      8.0     NaN     NaN       NaN      "
      ]
     },
     "execution_count": 53,
     "metadata": {},
     "output_type": "execute_result"
    }
   ],
   "source": [
    "df = woefun('workclass')\n",
    "df.sort_values('WoE')"
   ]
  },
  {
   "cell_type": "markdown",
   "metadata": {},
   "source": [
    "Widać po wartościach IV, że zmienna `workclass` będzie umiarkowanie wpływać na predykcyjność. Pogrupujemy wartości przyjmowane przez tę zmienną na kategorie według podobieństwa WoE. **Nie wiem co robić z NaN**"
   ]
  },
  {
   "cell_type": "code",
   "execution_count": 54,
   "metadata": {},
   "outputs": [],
   "source": [
    "census_df['workclass'] = census_df['workclass'].replace(['Without-pay', 'Never-worked', '?'] , 0)\n",
    "census_df['workclass'] = census_df['workclass'].replace(['Private'] , 1)\n",
    "census_df['workclass'] = census_df['workclass'].replace(['Self-emp-not-inc', 'State-gov', 'Local-gov'] , 2)\n",
    "census_df['workclass'] = census_df['workclass'].replace(['Federal-gov'] , 3)\n",
    "census_df['workclass'] = census_df['workclass'].replace(['Self-emp-inc'] , 4)"
   ]
  },
  {
   "cell_type": "code",
   "execution_count": 55,
   "metadata": {},
   "outputs": [
    {
     "data": {
      "text/html": [
       "<div>\n",
       "<style scoped>\n",
       "    .dataframe tbody tr th:only-of-type {\n",
       "        vertical-align: middle;\n",
       "    }\n",
       "\n",
       "    .dataframe tbody tr th {\n",
       "        vertical-align: top;\n",
       "    }\n",
       "\n",
       "    .dataframe thead th {\n",
       "        text-align: right;\n",
       "    }\n",
       "</style>\n",
       "<table border=\"1\" class=\"dataframe\">\n",
       "  <thead>\n",
       "    <tr style=\"text-align: right;\">\n",
       "      <th>income_level</th>\n",
       "      <th>0</th>\n",
       "      <th>1</th>\n",
       "      <th>WoE</th>\n",
       "      <th>IV</th>\n",
       "    </tr>\n",
       "    <tr>\n",
       "      <th>occupation</th>\n",
       "      <th></th>\n",
       "      <th></th>\n",
       "      <th></th>\n",
       "      <th></th>\n",
       "    </tr>\n",
       "  </thead>\n",
       "  <tbody>\n",
       "    <tr>\n",
       "      <th>Priv-house-serv</th>\n",
       "      <td>170</td>\n",
       "      <td>2</td>\n",
       "      <td>-3.286061</td>\n",
       "      <td>0.020676</td>\n",
       "    </tr>\n",
       "    <tr>\n",
       "      <th>Other-service</th>\n",
       "      <td>3301</td>\n",
       "      <td>141</td>\n",
       "      <td>-1.996631</td>\n",
       "      <td>0.219005</td>\n",
       "    </tr>\n",
       "    <tr>\n",
       "      <th>Handlers-cleaners</th>\n",
       "      <td>1352</td>\n",
       "      <td>87</td>\n",
       "      <td>-1.586842</td>\n",
       "      <td>0.065615</td>\n",
       "    </tr>\n",
       "    <tr>\n",
       "      <th>?</th>\n",
       "      <td>1797</td>\n",
       "      <td>187</td>\n",
       "      <td>-1.106175</td>\n",
       "      <td>0.051145</td>\n",
       "    </tr>\n",
       "    <tr>\n",
       "      <th>Farming-fishing</th>\n",
       "      <td>934</td>\n",
       "      <td>117</td>\n",
       "      <td>-0.920713</td>\n",
       "      <td>0.019897</td>\n",
       "    </tr>\n",
       "    <tr>\n",
       "      <th>Machine-op-inspct</th>\n",
       "      <td>1828</td>\n",
       "      <td>257</td>\n",
       "      <td>-0.805312</td>\n",
       "      <td>0.031304</td>\n",
       "    </tr>\n",
       "    <tr>\n",
       "      <th>Adm-clerical</th>\n",
       "      <td>3364</td>\n",
       "      <td>533</td>\n",
       "      <td>-0.685775</td>\n",
       "      <td>0.044023</td>\n",
       "    </tr>\n",
       "    <tr>\n",
       "      <th>Transport-moving</th>\n",
       "      <td>1311</td>\n",
       "      <td>332</td>\n",
       "      <td>-0.216821</td>\n",
       "      <td>0.002130</td>\n",
       "    </tr>\n",
       "    <tr>\n",
       "      <th>Craft-repair</th>\n",
       "      <td>3283</td>\n",
       "      <td>954</td>\n",
       "      <td>-0.079259</td>\n",
       "      <td>0.000762</td>\n",
       "    </tr>\n",
       "    <tr>\n",
       "      <th>Sales</th>\n",
       "      <td>2816</td>\n",
       "      <td>1050</td>\n",
       "      <td>0.170063</td>\n",
       "      <td>0.003413</td>\n",
       "    </tr>\n",
       "    <tr>\n",
       "      <th>Tech-support</th>\n",
       "      <td>744</td>\n",
       "      <td>289</td>\n",
       "      <td>0.210975</td>\n",
       "      <td>0.001418</td>\n",
       "    </tr>\n",
       "    <tr>\n",
       "      <th>Armed-Forces</th>\n",
       "      <td>9</td>\n",
       "      <td>4</td>\n",
       "      <td>0.345660</td>\n",
       "      <td>0.000049</td>\n",
       "    </tr>\n",
       "    <tr>\n",
       "      <th>Protective-serv</th>\n",
       "      <td>466</td>\n",
       "      <td>218</td>\n",
       "      <td>0.396899</td>\n",
       "      <td>0.003465</td>\n",
       "    </tr>\n",
       "    <tr>\n",
       "      <th>Prof-specialty</th>\n",
       "      <td>2388</td>\n",
       "      <td>1994</td>\n",
       "      <td>0.976276</td>\n",
       "      <td>0.148314</td>\n",
       "    </tr>\n",
       "    <tr>\n",
       "      <th>Exec-managerial</th>\n",
       "      <td>2245</td>\n",
       "      <td>2016</td>\n",
       "      <td>1.049000</td>\n",
       "      <td>0.167950</td>\n",
       "    </tr>\n",
       "  </tbody>\n",
       "</table>\n",
       "</div>"
      ],
      "text/plain": [
       "income_level          0     1       WoE        IV\n",
       "occupation                                       \n",
       "Priv-house-serv    170   2    -3.286061  0.020676\n",
       "Other-service      3301  141  -1.996631  0.219005\n",
       "Handlers-cleaners  1352  87   -1.586842  0.065615\n",
       "?                  1797  187  -1.106175  0.051145\n",
       "Farming-fishing    934   117  -0.920713  0.019897\n",
       "Machine-op-inspct  1828  257  -0.805312  0.031304\n",
       "Adm-clerical       3364  533  -0.685775  0.044023\n",
       "Transport-moving   1311  332  -0.216821  0.002130\n",
       "Craft-repair       3283  954  -0.079259  0.000762\n",
       "Sales              2816  1050  0.170063  0.003413\n",
       "Tech-support       744   289   0.210975  0.001418\n",
       "Armed-Forces       9     4     0.345660  0.000049\n",
       "Protective-serv    466   218   0.396899  0.003465\n",
       "Prof-specialty     2388  1994  0.976276  0.148314\n",
       "Exec-managerial    2245  2016  1.049000  0.167950"
      ]
     },
     "execution_count": 55,
     "metadata": {},
     "output_type": "execute_result"
    }
   ],
   "source": [
    "df = woefun('occupation')\n",
    "df.sort_values('WoE')"
   ]
  },
  {
   "cell_type": "markdown",
   "metadata": {},
   "source": [
    "Wydaje się, że podobnie zmienna `occupation` będzie miała wpływ na predykcję. Ją też podzielimy według otrzymanych WoE. "
   ]
  },
  {
   "cell_type": "code",
   "execution_count": 56,
   "metadata": {},
   "outputs": [],
   "source": [
    "census_df['occupation'] = census_df['occupation'].replace(['Priv-house-serv'] , 1)\n",
    "census_df['occupation'] = census_df['occupation'].replace(['Other-service', 'Handlers-cleaners' ] , 2)\n",
    "census_df['occupation'] = census_df['occupation'].replace(['?', 'Adm-clerical','Machine-op-inspct', 'Farming-fishing'] , 3)\n",
    "census_df['occupation'] = census_df['occupation'].replace(['Transport-moving', 'Craft-repair'] , 4)\n",
    "census_df['occupation'] = census_df['occupation'].replace(['Sales', 'Tech-support', 'Protective-serv', 'Armed-Forces'] , 5)\n",
    "census_df['occupation'] = census_df['occupation'].replace(['Prof-specialty', 'Exec-managerial'] , 6)"
   ]
  },
  {
   "cell_type": "code",
   "execution_count": 57,
   "metadata": {},
   "outputs": [
    {
     "data": {
      "text/html": [
       "<div>\n",
       "<style scoped>\n",
       "    .dataframe tbody tr th:only-of-type {\n",
       "        vertical-align: middle;\n",
       "    }\n",
       "\n",
       "    .dataframe tbody tr th {\n",
       "        vertical-align: top;\n",
       "    }\n",
       "\n",
       "    .dataframe thead th {\n",
       "        text-align: right;\n",
       "    }\n",
       "</style>\n",
       "<table border=\"1\" class=\"dataframe\">\n",
       "  <thead>\n",
       "    <tr style=\"text-align: right;\">\n",
       "      <th>income_level</th>\n",
       "      <th>0</th>\n",
       "      <th>1</th>\n",
       "      <th>WoE</th>\n",
       "      <th>IV</th>\n",
       "    </tr>\n",
       "    <tr>\n",
       "      <th>relationship</th>\n",
       "      <th></th>\n",
       "      <th></th>\n",
       "      <th></th>\n",
       "      <th></th>\n",
       "    </tr>\n",
       "  </thead>\n",
       "  <tbody>\n",
       "    <tr>\n",
       "      <th>Own-child</th>\n",
       "      <td>5209</td>\n",
       "      <td>77</td>\n",
       "      <td>-3.057748</td>\n",
       "      <td>0.583640</td>\n",
       "    </tr>\n",
       "    <tr>\n",
       "      <th>Other-relative</th>\n",
       "      <td>1040</td>\n",
       "      <td>33</td>\n",
       "      <td>-2.293879</td>\n",
       "      <td>0.082474</td>\n",
       "    </tr>\n",
       "    <tr>\n",
       "      <th>Unmarried</th>\n",
       "      <td>3449</td>\n",
       "      <td>221</td>\n",
       "      <td>-1.591087</td>\n",
       "      <td>0.168018</td>\n",
       "    </tr>\n",
       "    <tr>\n",
       "      <th>Not-in-family</th>\n",
       "      <td>7841</td>\n",
       "      <td>913</td>\n",
       "      <td>-0.993796</td>\n",
       "      <td>0.188706</td>\n",
       "    </tr>\n",
       "    <tr>\n",
       "      <th>Husband</th>\n",
       "      <td>7587</td>\n",
       "      <td>6176</td>\n",
       "      <td>0.950824</td>\n",
       "      <td>0.440424</td>\n",
       "    </tr>\n",
       "    <tr>\n",
       "      <th>Wife</th>\n",
       "      <td>882</td>\n",
       "      <td>761</td>\n",
       "      <td>1.009031</td>\n",
       "      <td>0.059642</td>\n",
       "    </tr>\n",
       "  </tbody>\n",
       "</table>\n",
       "</div>"
      ],
      "text/plain": [
       "income_level       0     1       WoE        IV\n",
       "relationship                                  \n",
       "Own-child       5209  77   -3.057748  0.583640\n",
       "Other-relative  1040  33   -2.293879  0.082474\n",
       "Unmarried       3449  221  -1.591087  0.168018\n",
       "Not-in-family   7841  913  -0.993796  0.188706\n",
       "Husband         7587  6176  0.950824  0.440424\n",
       "Wife            882   761   1.009031  0.059642"
      ]
     },
     "execution_count": 57,
     "metadata": {},
     "output_type": "execute_result"
    }
   ],
   "source": [
    "df = woefun('relationship')\n",
    "df.sort_values('WoE')"
   ]
  },
  {
   "cell_type": "markdown",
   "metadata": {},
   "source": [
    "Wydaje się, że wartośći IV są podejrzanie wysokie, być może zmienna `relationship` jest mocnym predykatorem. Dokonujemy analogicznego podziału."
   ]
  },
  {
   "cell_type": "code",
   "execution_count": 58,
   "metadata": {},
   "outputs": [],
   "source": [
    "census_df['relationship'] = census_df['relationship'].replace(['Own-child'] , 1)\n",
    "census_df['relationship'] = census_df['relationship'].replace(['Other-relative'] , 2)\n",
    "census_df['relationship'] = census_df['relationship'].replace(['Unmarried'] , 3)\n",
    "census_df['relationship'] = census_df['relationship'].replace(['Not-in-family'] , 4)\n",
    "census_df['relationship'] = census_df['relationship'].replace(['Wife', 'Husband'] , 5)"
   ]
  },
  {
   "cell_type": "code",
   "execution_count": 59,
   "metadata": {},
   "outputs": [
    {
     "data": {
      "text/html": [
       "<div>\n",
       "<style scoped>\n",
       "    .dataframe tbody tr th:only-of-type {\n",
       "        vertical-align: middle;\n",
       "    }\n",
       "\n",
       "    .dataframe tbody tr th {\n",
       "        vertical-align: top;\n",
       "    }\n",
       "\n",
       "    .dataframe thead th {\n",
       "        text-align: right;\n",
       "    }\n",
       "</style>\n",
       "<table border=\"1\" class=\"dataframe\">\n",
       "  <thead>\n",
       "    <tr style=\"text-align: right;\">\n",
       "      <th>income_level</th>\n",
       "      <th>0</th>\n",
       "      <th>1</th>\n",
       "      <th>WoE</th>\n",
       "      <th>IV</th>\n",
       "    </tr>\n",
       "    <tr>\n",
       "      <th>marital_status</th>\n",
       "      <th></th>\n",
       "      <th></th>\n",
       "      <th></th>\n",
       "      <th></th>\n",
       "    </tr>\n",
       "  </thead>\n",
       "  <tbody>\n",
       "    <tr>\n",
       "      <th>Never-married</th>\n",
       "      <td>10786</td>\n",
       "      <td>524</td>\n",
       "      <td>-1.867923</td>\n",
       "      <td>0.655020</td>\n",
       "    </tr>\n",
       "    <tr>\n",
       "      <th>Separated</th>\n",
       "      <td>994</td>\n",
       "      <td>71</td>\n",
       "      <td>-1.482468</td>\n",
       "      <td>0.043793</td>\n",
       "    </tr>\n",
       "    <tr>\n",
       "      <th>Widowed</th>\n",
       "      <td>978</td>\n",
       "      <td>96</td>\n",
       "      <td>-1.164572</td>\n",
       "      <td>0.030127</td>\n",
       "    </tr>\n",
       "    <tr>\n",
       "      <th>Married-spouse-absent</th>\n",
       "      <td>375</td>\n",
       "      <td>38</td>\n",
       "      <td>-1.132750</td>\n",
       "      <td>0.011071</td>\n",
       "    </tr>\n",
       "    <tr>\n",
       "      <th>Divorced</th>\n",
       "      <td>4190</td>\n",
       "      <td>476</td>\n",
       "      <td>-1.018448</td>\n",
       "      <td>0.104819</td>\n",
       "    </tr>\n",
       "    <tr>\n",
       "      <th>Married-AF-spouse</th>\n",
       "      <td>17</td>\n",
       "      <td>9</td>\n",
       "      <td>0.520601</td>\n",
       "      <td>0.000232</td>\n",
       "    </tr>\n",
       "    <tr>\n",
       "      <th>Married-civ-spouse</th>\n",
       "      <td>8668</td>\n",
       "      <td>6967</td>\n",
       "      <td>0.938136</td>\n",
       "      <td>0.486260</td>\n",
       "    </tr>\n",
       "  </tbody>\n",
       "</table>\n",
       "</div>"
      ],
      "text/plain": [
       "income_level               0     1       WoE        IV\n",
       "marital_status                                        \n",
       "Never-married          10786  524  -1.867923  0.655020\n",
       "Separated              994    71   -1.482468  0.043793\n",
       "Widowed                978    96   -1.164572  0.030127\n",
       "Married-spouse-absent  375    38   -1.132750  0.011071\n",
       "Divorced               4190   476  -1.018448  0.104819\n",
       "Married-AF-spouse      17     9     0.520601  0.000232\n",
       "Married-civ-spouse     8668   6967  0.938136  0.486260"
      ]
     },
     "execution_count": 59,
     "metadata": {},
     "output_type": "execute_result"
    }
   ],
   "source": [
    "df = woefun('marital_status')\n",
    "df.sort_values('WoE')"
   ]
  },
  {
   "cell_type": "markdown",
   "metadata": {},
   "source": [
    "Analizując IV, możemy spodziewać się, że zmienna `marita_status` będzie silnym predykatorem. Mając na uwadzę wcześniejszą analizę i wartości WoE, podzielimy tę zmienną."
   ]
  },
  {
   "cell_type": "code",
   "execution_count": 60,
   "metadata": {},
   "outputs": [],
   "source": [
    "census_df['marital_status'] = census_df['marital_status'].replace(['Never-married', 'Separated'] , 1)\n",
    "census_df['marital_status'] = census_df['marital_status'].replace(['Widowed', 'Married-spouse-absent', 'Divorced'] , 2)\n",
    "census_df['marital_status'] = census_df['marital_status'].replace(['Married-AF-spouse', 'Married-civ-spouse'] , 3)"
   ]
  },
  {
   "cell_type": "code",
   "execution_count": 61,
   "metadata": {},
   "outputs": [
    {
     "data": {
      "text/html": [
       "<div>\n",
       "<style scoped>\n",
       "    .dataframe tbody tr th:only-of-type {\n",
       "        vertical-align: middle;\n",
       "    }\n",
       "\n",
       "    .dataframe tbody tr th {\n",
       "        vertical-align: top;\n",
       "    }\n",
       "\n",
       "    .dataframe thead th {\n",
       "        text-align: right;\n",
       "    }\n",
       "</style>\n",
       "<table border=\"1\" class=\"dataframe\">\n",
       "  <thead>\n",
       "    <tr style=\"text-align: right;\">\n",
       "      <th>income_level</th>\n",
       "      <th>0</th>\n",
       "      <th>1</th>\n",
       "      <th>WoE</th>\n",
       "      <th>IV</th>\n",
       "    </tr>\n",
       "    <tr>\n",
       "      <th>race</th>\n",
       "      <th></th>\n",
       "      <th></th>\n",
       "      <th></th>\n",
       "      <th></th>\n",
       "    </tr>\n",
       "  </thead>\n",
       "  <tbody>\n",
       "    <tr>\n",
       "      <th>Other</th>\n",
       "      <td>248</td>\n",
       "      <td>28</td>\n",
       "      <td>-1.024634</td>\n",
       "      <td>0.006264</td>\n",
       "    </tr>\n",
       "    <tr>\n",
       "      <th>Amer-Indian-Eskimo</th>\n",
       "      <td>289</td>\n",
       "      <td>38</td>\n",
       "      <td>-0.872251</td>\n",
       "      <td>0.005641</td>\n",
       "    </tr>\n",
       "    <tr>\n",
       "      <th>Black</th>\n",
       "      <td>2914</td>\n",
       "      <td>401</td>\n",
       "      <td>-0.826731</td>\n",
       "      <td>0.052106</td>\n",
       "    </tr>\n",
       "    <tr>\n",
       "      <th>White</th>\n",
       "      <td>21819</td>\n",
       "      <td>7425</td>\n",
       "      <td>0.078661</td>\n",
       "      <td>0.005401</td>\n",
       "    </tr>\n",
       "    <tr>\n",
       "      <th>Asian-Pac-Islander</th>\n",
       "      <td>738</td>\n",
       "      <td>289</td>\n",
       "      <td>0.219073</td>\n",
       "      <td>0.001523</td>\n",
       "    </tr>\n",
       "  </tbody>\n",
       "</table>\n",
       "</div>"
      ],
      "text/plain": [
       "income_level            0     1       WoE        IV\n",
       "race                                               \n",
       "Other               248    28   -1.024634  0.006264\n",
       "Amer-Indian-Eskimo  289    38   -0.872251  0.005641\n",
       "Black               2914   401  -0.826731  0.052106\n",
       "White               21819  7425  0.078661  0.005401\n",
       "Asian-Pac-Islander  738    289   0.219073  0.001523"
      ]
     },
     "execution_count": 61,
     "metadata": {},
     "output_type": "execute_result"
    }
   ],
   "source": [
    "df = woefun('race')\n",
    "df.sort_values('WoE')"
   ]
  },
  {
   "cell_type": "markdown",
   "metadata": {},
   "source": [
    "Patrząc na wartości IV, zmienna `race` może być słabym predykatorem. Patrząc na wartośći WoE oraz mając na uwadzę naszą wcześniejszą analizę zmiennej, wydaje się że można podzielić wartości na dwie kategorie."
   ]
  },
  {
   "cell_type": "code",
   "execution_count": 62,
   "metadata": {},
   "outputs": [],
   "source": [
    "census_df['race'] = census_df['race'].replace(['Other', 'Amer-Indian-Eskimo', 'Black'] , 1)\n",
    "census_df['race'] = census_df['race'].replace(['White', 'Asian-Pac-Islander'] , 2)"
   ]
  },
  {
   "cell_type": "code",
   "execution_count": 63,
   "metadata": {},
   "outputs": [
    {
     "data": {
      "text/html": [
       "<div>\n",
       "<style scoped>\n",
       "    .dataframe tbody tr th:only-of-type {\n",
       "        vertical-align: middle;\n",
       "    }\n",
       "\n",
       "    .dataframe tbody tr th {\n",
       "        vertical-align: top;\n",
       "    }\n",
       "\n",
       "    .dataframe thead th {\n",
       "        text-align: right;\n",
       "    }\n",
       "</style>\n",
       "<table border=\"1\" class=\"dataframe\">\n",
       "  <thead>\n",
       "    <tr style=\"text-align: right;\">\n",
       "      <th>income_level</th>\n",
       "      <th>0</th>\n",
       "      <th>1</th>\n",
       "      <th>WoE</th>\n",
       "      <th>IV</th>\n",
       "    </tr>\n",
       "    <tr>\n",
       "      <th>education_num</th>\n",
       "      <th></th>\n",
       "      <th></th>\n",
       "      <th></th>\n",
       "      <th></th>\n",
       "    </tr>\n",
       "  </thead>\n",
       "  <tbody>\n",
       "    <tr>\n",
       "      <th>1</th>\n",
       "      <td>57</td>\n",
       "      <td>1</td>\n",
       "      <td>-2.886461</td>\n",
       "      <td>0.005973</td>\n",
       "    </tr>\n",
       "    <tr>\n",
       "      <th>2</th>\n",
       "      <td>170</td>\n",
       "      <td>6</td>\n",
       "      <td>-2.187449</td>\n",
       "      <td>0.012694</td>\n",
       "    </tr>\n",
       "    <tr>\n",
       "      <th>7</th>\n",
       "      <td>1220</td>\n",
       "      <td>62</td>\n",
       "      <td>-1.822882</td>\n",
       "      <td>0.071694</td>\n",
       "    </tr>\n",
       "    <tr>\n",
       "      <th>3</th>\n",
       "      <td>345</td>\n",
       "      <td>20</td>\n",
       "      <td>-1.691222</td>\n",
       "      <td>0.018300</td>\n",
       "    </tr>\n",
       "    <tr>\n",
       "      <th>5</th>\n",
       "      <td>515</td>\n",
       "      <td>31</td>\n",
       "      <td>-1.653590</td>\n",
       "      <td>0.026478</td>\n",
       "    </tr>\n",
       "    <tr>\n",
       "      <th>6</th>\n",
       "      <td>896</td>\n",
       "      <td>55</td>\n",
       "      <td>-1.634017</td>\n",
       "      <td>0.045308</td>\n",
       "    </tr>\n",
       "    <tr>\n",
       "      <th>8</th>\n",
       "      <td>426</td>\n",
       "      <td>27</td>\n",
       "      <td>-1.602013</td>\n",
       "      <td>0.020953</td>\n",
       "    </tr>\n",
       "    <tr>\n",
       "      <th>4</th>\n",
       "      <td>628</td>\n",
       "      <td>42</td>\n",
       "      <td>-1.548281</td>\n",
       "      <td>0.029437</td>\n",
       "    </tr>\n",
       "    <tr>\n",
       "      <th>9</th>\n",
       "      <td>9260</td>\n",
       "      <td>1782</td>\n",
       "      <td>-0.491378</td>\n",
       "      <td>0.067919</td>\n",
       "    </tr>\n",
       "    <tr>\n",
       "      <th>10</th>\n",
       "      <td>6185</td>\n",
       "      <td>1415</td>\n",
       "      <td>-0.318408</td>\n",
       "      <td>0.020649</td>\n",
       "    </tr>\n",
       "    <tr>\n",
       "      <th>12</th>\n",
       "      <td>842</td>\n",
       "      <td>283</td>\n",
       "      <td>0.066257</td>\n",
       "      <td>0.000147</td>\n",
       "    </tr>\n",
       "    <tr>\n",
       "      <th>11</th>\n",
       "      <td>1080</td>\n",
       "      <td>375</td>\n",
       "      <td>0.098799</td>\n",
       "      <td>0.000426</td>\n",
       "    </tr>\n",
       "    <tr>\n",
       "      <th>13</th>\n",
       "      <td>3294</td>\n",
       "      <td>2303</td>\n",
       "      <td>0.798700</td>\n",
       "      <td>0.123681</td>\n",
       "    </tr>\n",
       "    <tr>\n",
       "      <th>14</th>\n",
       "      <td>827</td>\n",
       "      <td>1038</td>\n",
       "      <td>1.383836</td>\n",
       "      <td>0.131577</td>\n",
       "    </tr>\n",
       "    <tr>\n",
       "      <th>16</th>\n",
       "      <td>113</td>\n",
       "      <td>315</td>\n",
       "      <td>2.181775</td>\n",
       "      <td>0.074527</td>\n",
       "    </tr>\n",
       "    <tr>\n",
       "      <th>15</th>\n",
       "      <td>150</td>\n",
       "      <td>426</td>\n",
       "      <td>2.200394</td>\n",
       "      <td>0.101888</td>\n",
       "    </tr>\n",
       "  </tbody>\n",
       "</table>\n",
       "</div>"
      ],
      "text/plain": [
       "income_level      0     1       WoE        IV\n",
       "education_num                                \n",
       "1              57    1    -2.886461  0.005973\n",
       "2              170   6    -2.187449  0.012694\n",
       "7              1220  62   -1.822882  0.071694\n",
       "3              345   20   -1.691222  0.018300\n",
       "5              515   31   -1.653590  0.026478\n",
       "6              896   55   -1.634017  0.045308\n",
       "8              426   27   -1.602013  0.020953\n",
       "4              628   42   -1.548281  0.029437\n",
       "9              9260  1782 -0.491378  0.067919\n",
       "10             6185  1415 -0.318408  0.020649\n",
       "12             842   283   0.066257  0.000147\n",
       "11             1080  375   0.098799  0.000426\n",
       "13             3294  2303  0.798700  0.123681\n",
       "14             827   1038  1.383836  0.131577\n",
       "16             113   315   2.181775  0.074527\n",
       "15             150   426   2.200394  0.101888"
      ]
     },
     "execution_count": 63,
     "metadata": {},
     "output_type": "execute_result"
    }
   ],
   "source": [
    "df = woefun('education_num')\n",
    "df.sort_values('WoE')"
   ]
  },
  {
   "cell_type": "markdown",
   "metadata": {},
   "source": [
    "Patrząc na ułożenie odpowiednich wartości zmiennej `education_num` po posegregowaniu według wartości WoE, można stwierdzić, że poziom edukacji ma znaczenie, co zauważyliśmy już wcześniej. Pogrupujmy zmienną. "
   ]
  },
  {
   "cell_type": "code",
   "execution_count": 64,
   "metadata": {},
   "outputs": [],
   "source": [
    "census_df['education_num'] = census_df['education_num'].replace([3,4,5,6,7,8] , 3)\n",
    "census_df['education_num'] = census_df['education_num'].replace([9, 10] , 4)\n",
    "census_df['education_num'] = census_df['education_num'].replace([11, 12] , 5)\n",
    "census_df['education_num'] = census_df['education_num'].replace([13] , 6)\n",
    "census_df['education_num'] = census_df['education_num'].replace([14] , 7)\n",
    "census_df['education_num'] = census_df['education_num'].replace([15, 16] , 8)"
   ]
  },
  {
   "cell_type": "code",
   "execution_count": 65,
   "metadata": {},
   "outputs": [
    {
     "data": {
      "text/html": [
       "<div>\n",
       "<style scoped>\n",
       "    .dataframe tbody tr th:only-of-type {\n",
       "        vertical-align: middle;\n",
       "    }\n",
       "\n",
       "    .dataframe tbody tr th {\n",
       "        vertical-align: top;\n",
       "    }\n",
       "\n",
       "    .dataframe thead th {\n",
       "        text-align: right;\n",
       "    }\n",
       "</style>\n",
       "<table border=\"1\" class=\"dataframe\">\n",
       "  <thead>\n",
       "    <tr style=\"text-align: right;\">\n",
       "      <th>income_level</th>\n",
       "      <th>0</th>\n",
       "      <th>1</th>\n",
       "      <th>WoE</th>\n",
       "      <th>IV</th>\n",
       "    </tr>\n",
       "    <tr>\n",
       "      <th>age</th>\n",
       "      <th></th>\n",
       "      <th></th>\n",
       "      <th></th>\n",
       "      <th></th>\n",
       "    </tr>\n",
       "  </thead>\n",
       "  <tbody>\n",
       "    <tr>\n",
       "      <th>1</th>\n",
       "      <td>4147</td>\n",
       "      <td>14</td>\n",
       "      <td>-4.534493</td>\n",
       "      <td>0.715269</td>\n",
       "    </tr>\n",
       "    <tr>\n",
       "      <th>2</th>\n",
       "      <td>3269</td>\n",
       "      <td>160</td>\n",
       "      <td>-1.860476</td>\n",
       "      <td>0.197461</td>\n",
       "    </tr>\n",
       "    <tr>\n",
       "      <th>3</th>\n",
       "      <td>2954</td>\n",
       "      <td>523</td>\n",
       "      <td>-0.574744</td>\n",
       "      <td>0.028537</td>\n",
       "    </tr>\n",
       "    <tr>\n",
       "      <th>4</th>\n",
       "      <td>2147</td>\n",
       "      <td>606</td>\n",
       "      <td>-0.108357</td>\n",
       "      <td>0.000919</td>\n",
       "    </tr>\n",
       "    <tr>\n",
       "      <th>10</th>\n",
       "      <td>2376</td>\n",
       "      <td>833</td>\n",
       "      <td>0.108450</td>\n",
       "      <td>0.001135</td>\n",
       "    </tr>\n",
       "    <tr>\n",
       "      <th>5</th>\n",
       "      <td>2583</td>\n",
       "      <td>1047</td>\n",
       "      <td>0.253567</td>\n",
       "      <td>0.007268</td>\n",
       "    </tr>\n",
       "    <tr>\n",
       "      <th>6</th>\n",
       "      <td>2287</td>\n",
       "      <td>1177</td>\n",
       "      <td>0.492318</td>\n",
       "      <td>0.027538</td>\n",
       "    </tr>\n",
       "    <tr>\n",
       "      <th>9</th>\n",
       "      <td>2284</td>\n",
       "      <td>1341</td>\n",
       "      <td>0.624077</td>\n",
       "      <td>0.047491</td>\n",
       "    </tr>\n",
       "    <tr>\n",
       "      <th>7</th>\n",
       "      <td>1962</td>\n",
       "      <td>1156</td>\n",
       "      <td>0.627591</td>\n",
       "      <td>0.041336</td>\n",
       "    </tr>\n",
       "    <tr>\n",
       "      <th>8</th>\n",
       "      <td>1999</td>\n",
       "      <td>1324</td>\n",
       "      <td>0.744600</td>\n",
       "      <td>0.063274</td>\n",
       "    </tr>\n",
       "  </tbody>\n",
       "</table>\n",
       "</div>"
      ],
      "text/plain": [
       "income_level     0     1       WoE        IV\n",
       "age                                         \n",
       "1             4147  14   -4.534493  0.715269\n",
       "2             3269  160  -1.860476  0.197461\n",
       "3             2954  523  -0.574744  0.028537\n",
       "4             2147  606  -0.108357  0.000919\n",
       "10            2376  833   0.108450  0.001135\n",
       "5             2583  1047  0.253567  0.007268\n",
       "6             2287  1177  0.492318  0.027538\n",
       "9             2284  1341  0.624077  0.047491\n",
       "7             1962  1156  0.627591  0.041336\n",
       "8             1999  1324  0.744600  0.063274"
      ]
     },
     "execution_count": 65,
     "metadata": {},
     "output_type": "execute_result"
    }
   ],
   "source": [
    "df = woefun('age')\n",
    "df.sort_values('WoE')"
   ]
  },
  {
   "cell_type": "code",
   "execution_count": 66,
   "metadata": {},
   "outputs": [],
   "source": [
    "census_df['age'] = census_df['age'].replace([4, 10, 5] , 4)\n",
    "census_df['age'] = census_df['age'].replace([6,7,8,9] , 5)"
   ]
  },
  {
   "cell_type": "code",
   "execution_count": 67,
   "metadata": {},
   "outputs": [
    {
     "data": {
      "text/html": [
       "<div>\n",
       "<style scoped>\n",
       "    .dataframe tbody tr th:only-of-type {\n",
       "        vertical-align: middle;\n",
       "    }\n",
       "\n",
       "    .dataframe tbody tr th {\n",
       "        vertical-align: top;\n",
       "    }\n",
       "\n",
       "    .dataframe thead th {\n",
       "        text-align: right;\n",
       "    }\n",
       "</style>\n",
       "<table border=\"1\" class=\"dataframe\">\n",
       "  <thead>\n",
       "    <tr style=\"text-align: right;\">\n",
       "      <th>income_level</th>\n",
       "      <th>0</th>\n",
       "      <th>1</th>\n",
       "      <th>WoE</th>\n",
       "      <th>IV</th>\n",
       "    </tr>\n",
       "    <tr>\n",
       "      <th>hours_per_week</th>\n",
       "      <th></th>\n",
       "      <th></th>\n",
       "      <th></th>\n",
       "      <th></th>\n",
       "    </tr>\n",
       "  </thead>\n",
       "  <tbody>\n",
       "    <tr>\n",
       "      <th>1</th>\n",
       "      <td>6598</td>\n",
       "      <td>607</td>\n",
       "      <td>-1.229403</td>\n",
       "      <td>0.220672</td>\n",
       "    </tr>\n",
       "    <tr>\n",
       "      <th>2</th>\n",
       "      <td>15091</td>\n",
       "      <td>4438</td>\n",
       "      <td>-0.067305</td>\n",
       "      <td>0.002542</td>\n",
       "    </tr>\n",
       "    <tr>\n",
       "      <th>3</th>\n",
       "      <td>4319</td>\n",
       "      <td>3136</td>\n",
       "      <td>0.836514</td>\n",
       "      <td>0.181743</td>\n",
       "    </tr>\n",
       "  </tbody>\n",
       "</table>\n",
       "</div>"
      ],
      "text/plain": [
       "income_level        0     1       WoE        IV\n",
       "hours_per_week                                 \n",
       "1               6598   607  -1.229403  0.220672\n",
       "2               15091  4438 -0.067305  0.002542\n",
       "3               4319   3136  0.836514  0.181743"
      ]
     },
     "execution_count": 67,
     "metadata": {},
     "output_type": "execute_result"
    }
   ],
   "source": [
    "df = woefun('hours_per_week')\n",
    "df.sort_values('WoE')"
   ]
  },
  {
   "cell_type": "markdown",
   "metadata": {},
   "source": [
    "Zmienna `hours_per_week` jest już dobrze przygotowana. "
   ]
  },
  {
   "cell_type": "code",
   "execution_count": 68,
   "metadata": {},
   "outputs": [
    {
     "data": {
      "text/html": [
       "<div>\n",
       "<style scoped>\n",
       "    .dataframe tbody tr th:only-of-type {\n",
       "        vertical-align: middle;\n",
       "    }\n",
       "\n",
       "    .dataframe tbody tr th {\n",
       "        vertical-align: top;\n",
       "    }\n",
       "\n",
       "    .dataframe thead th {\n",
       "        text-align: right;\n",
       "    }\n",
       "</style>\n",
       "<table border=\"1\" class=\"dataframe\">\n",
       "  <thead>\n",
       "    <tr style=\"text-align: right;\">\n",
       "      <th>income_level</th>\n",
       "      <th>0</th>\n",
       "      <th>1</th>\n",
       "      <th>WoE</th>\n",
       "      <th>IV</th>\n",
       "    </tr>\n",
       "    <tr>\n",
       "      <th>capital_loss</th>\n",
       "      <th></th>\n",
       "      <th></th>\n",
       "      <th></th>\n",
       "      <th></th>\n",
       "    </tr>\n",
       "  </thead>\n",
       "  <tbody>\n",
       "    <tr>\n",
       "      <th>1</th>\n",
       "      <td>251</td>\n",
       "      <td>71</td>\n",
       "      <td>-0.106183</td>\n",
       "      <td>0.000103</td>\n",
       "    </tr>\n",
       "    <tr>\n",
       "      <th>0</th>\n",
       "      <td>25216</td>\n",
       "      <td>7364</td>\n",
       "      <td>-0.074286</td>\n",
       "      <td>0.005156</td>\n",
       "    </tr>\n",
       "    <tr>\n",
       "      <th>2</th>\n",
       "      <td>273</td>\n",
       "      <td>217</td>\n",
       "      <td>0.927015</td>\n",
       "      <td>0.014858</td>\n",
       "    </tr>\n",
       "    <tr>\n",
       "      <th>5</th>\n",
       "      <td>154</td>\n",
       "      <td>157</td>\n",
       "      <td>1.175883</td>\n",
       "      <td>0.015603</td>\n",
       "    </tr>\n",
       "    <tr>\n",
       "      <th>4</th>\n",
       "      <td>102</td>\n",
       "      <td>167</td>\n",
       "      <td>1.649611</td>\n",
       "      <td>0.027204</td>\n",
       "    </tr>\n",
       "    <tr>\n",
       "      <th>3</th>\n",
       "      <td>12</td>\n",
       "      <td>205</td>\n",
       "      <td>3.994693</td>\n",
       "      <td>0.098256</td>\n",
       "    </tr>\n",
       "  </tbody>\n",
       "</table>\n",
       "</div>"
      ],
      "text/plain": [
       "income_level      0     1       WoE        IV\n",
       "capital_loss                                 \n",
       "1             251    71   -0.106183  0.000103\n",
       "0             25216  7364 -0.074286  0.005156\n",
       "2             273    217   0.927015  0.014858\n",
       "5             154    157   1.175883  0.015603\n",
       "4             102    167   1.649611  0.027204\n",
       "3             12     205   3.994693  0.098256"
      ]
     },
     "execution_count": 68,
     "metadata": {},
     "output_type": "execute_result"
    }
   ],
   "source": [
    "df = woefun('capital_loss')\n",
    "df.sort_values('WoE')"
   ]
  },
  {
   "cell_type": "code",
   "execution_count": 69,
   "metadata": {},
   "outputs": [],
   "source": [
    "census_df['capital_loss'] = census_df['capital_loss'].replace([0], 1)\n",
    "census_df['capital_loss'] = census_df['capital_loss'].replace([2, 5], 2)\n",
    "census_df['capital_loss'] = census_df['capital_loss'].replace([4], 3)\n",
    "census_df['capital_loss'] = census_df['capital_loss'].replace([3], 4)"
   ]
  },
  {
   "cell_type": "code",
   "execution_count": 70,
   "metadata": {},
   "outputs": [
    {
     "data": {
      "text/html": [
       "<div>\n",
       "<style scoped>\n",
       "    .dataframe tbody tr th:only-of-type {\n",
       "        vertical-align: middle;\n",
       "    }\n",
       "\n",
       "    .dataframe tbody tr th {\n",
       "        vertical-align: top;\n",
       "    }\n",
       "\n",
       "    .dataframe thead th {\n",
       "        text-align: right;\n",
       "    }\n",
       "</style>\n",
       "<table border=\"1\" class=\"dataframe\">\n",
       "  <thead>\n",
       "    <tr style=\"text-align: right;\">\n",
       "      <th>income_level</th>\n",
       "      <th>0</th>\n",
       "      <th>1</th>\n",
       "      <th>WoE</th>\n",
       "      <th>IV</th>\n",
       "    </tr>\n",
       "    <tr>\n",
       "      <th>capital_gain</th>\n",
       "      <th></th>\n",
       "      <th></th>\n",
       "      <th></th>\n",
       "      <th></th>\n",
       "    </tr>\n",
       "  </thead>\n",
       "  <tbody>\n",
       "    <tr>\n",
       "      <th>1</th>\n",
       "      <td>486</td>\n",
       "      <td>89</td>\n",
       "      <td>-0.540982</td>\n",
       "      <td>0.004224</td>\n",
       "    </tr>\n",
       "    <tr>\n",
       "      <th>2</th>\n",
       "      <td>475</td>\n",
       "      <td>95</td>\n",
       "      <td>-0.452848</td>\n",
       "      <td>0.003012</td>\n",
       "    </tr>\n",
       "    <tr>\n",
       "      <th>0</th>\n",
       "      <td>24961</td>\n",
       "      <td>6438</td>\n",
       "      <td>-0.198507</td>\n",
       "      <td>0.034302</td>\n",
       "    </tr>\n",
       "    <tr>\n",
       "      <th>3</th>\n",
       "      <td>71</td>\n",
       "      <td>696</td>\n",
       "      <td>3.439260</td>\n",
       "      <td>0.283207</td>\n",
       "    </tr>\n",
       "    <tr>\n",
       "      <th>5</th>\n",
       "      <td>5</td>\n",
       "      <td>264</td>\n",
       "      <td>5.123101</td>\n",
       "      <td>0.164337</td>\n",
       "    </tr>\n",
       "    <tr>\n",
       "      <th>4</th>\n",
       "      <td>10</td>\n",
       "      <td>599</td>\n",
       "      <td>5.249266</td>\n",
       "      <td>0.382325</td>\n",
       "    </tr>\n",
       "  </tbody>\n",
       "</table>\n",
       "</div>"
      ],
      "text/plain": [
       "income_level      0     1       WoE        IV\n",
       "capital_gain                                 \n",
       "1             486    89   -0.540982  0.004224\n",
       "2             475    95   -0.452848  0.003012\n",
       "0             24961  6438 -0.198507  0.034302\n",
       "3             71     696   3.439260  0.283207\n",
       "5             5      264   5.123101  0.164337\n",
       "4             10     599   5.249266  0.382325"
      ]
     },
     "execution_count": 70,
     "metadata": {},
     "output_type": "execute_result"
    }
   ],
   "source": [
    "df = woefun('capital_gain')\n",
    "df.sort_values('WoE')"
   ]
  },
  {
   "cell_type": "code",
   "execution_count": 71,
   "metadata": {},
   "outputs": [],
   "source": [
    "census_df['capital_gain'] = census_df['capital_gain'].replace([2], 1)\n",
    "census_df['capital_gain'] = census_df['capital_gain'].replace([0], 2)\n",
    "census_df['capital_gain'] = census_df['capital_gain'].replace([4,5], 4)"
   ]
  },
  {
   "cell_type": "code",
   "execution_count": 72,
   "metadata": {},
   "outputs": [
    {
     "data": {
      "text/html": [
       "<div>\n",
       "<style scoped>\n",
       "    .dataframe tbody tr th:only-of-type {\n",
       "        vertical-align: middle;\n",
       "    }\n",
       "\n",
       "    .dataframe tbody tr th {\n",
       "        vertical-align: top;\n",
       "    }\n",
       "\n",
       "    .dataframe thead th {\n",
       "        text-align: right;\n",
       "    }\n",
       "</style>\n",
       "<table border=\"1\" class=\"dataframe\">\n",
       "  <thead>\n",
       "    <tr style=\"text-align: right;\">\n",
       "      <th>income_level</th>\n",
       "      <th>0</th>\n",
       "      <th>1</th>\n",
       "      <th>WoE</th>\n",
       "      <th>IV</th>\n",
       "    </tr>\n",
       "    <tr>\n",
       "      <th>sex</th>\n",
       "      <th></th>\n",
       "      <th></th>\n",
       "      <th></th>\n",
       "      <th></th>\n",
       "    </tr>\n",
       "  </thead>\n",
       "  <tbody>\n",
       "    <tr>\n",
       "      <th>Female</th>\n",
       "      <td>10102</td>\n",
       "      <td>1211</td>\n",
       "      <td>-0.964697</td>\n",
       "      <td>0.231906</td>\n",
       "    </tr>\n",
       "    <tr>\n",
       "      <th>Male</th>\n",
       "      <td>15906</td>\n",
       "      <td>6970</td>\n",
       "      <td>0.331509</td>\n",
       "      <td>0.079692</td>\n",
       "    </tr>\n",
       "  </tbody>\n",
       "</table>\n",
       "</div>"
      ],
      "text/plain": [
       "income_level      0     1       WoE        IV\n",
       "sex                                          \n",
       "Female        10102  1211 -0.964697  0.231906\n",
       "Male          15906  6970  0.331509  0.079692"
      ]
     },
     "execution_count": 72,
     "metadata": {},
     "output_type": "execute_result"
    }
   ],
   "source": [
    "df = woefun('sex')\n",
    "df.sort_values('WoE')"
   ]
  },
  {
   "cell_type": "markdown",
   "metadata": {},
   "source": [
    "Zmienną dotyczącą płci też zmienimy na zmienną binarną."
   ]
  },
  {
   "cell_type": "code",
   "execution_count": 73,
   "metadata": {},
   "outputs": [],
   "source": [
    "census_df['sex'] = census_df['sex'].replace(['Female'], 0)\n",
    "census_df['sex'] = census_df['sex'].replace(['Male'], 1)"
   ]
  },
  {
   "cell_type": "code",
   "execution_count": 74,
   "metadata": {},
   "outputs": [
    {
     "data": {
      "image/png": "[encoded data removed]",
      "text/plain": [
       "<Figure size 1332x432 with 4 Axes>"
      ]
     },
     "metadata": {
      "needs_background": "light"
     },
     "output_type": "display_data"
    }
   ],
   "source": [
    "fig, (ax1, ax2) = plt.subplots(1,2)\n",
    "heatmap = sns.heatmap(census_df.corr(method = 'spearman'), annot=True, vmin=-1, vmax=1, cmap=\"RdBu_r\", ax=ax1)\n",
    "heatmap = sns.heatmap(census_df.corr(method = 'pearson'), annot=True, vmin=-1, vmax=1, cmap=\"RdBu_r\", ax=ax2)\n",
    "ax1.set_title(\"Korelacje Spearmana\")\n",
    "ax2.set_title(\"Korelacje Pearsona\")\n",
    "fig.set_size_inches(18.5, 6)\n",
    "plt.show()"
   ]
  },
  {
   "cell_type": "markdown",
   "metadata": {},
   "source": [
    "**Nie wiem co tu się wydarzyło w sumie :(( Nie ma żadnej ze starych zmiennych XD** \n",
    "\n",
    "Widać, że zmienne korelują ze zmienną celu na poziomie 0.1 - 0.44 dla korelacji Spearmana i prawie identycznym zakresie w przypadku korelacji Pearsona. Możemy także zauważyć, że zmienne, `relationship` i `marital_status` są od siebie wyraźnie zależne. Podobnie, korelację na poziomie -1 mają zmienne `country_Other` i `country_United_States`, co wynika z tego, że jest uprzednio zakodowana one-hot kolumna `country`.\n",
    "\n",
    "Warto spojrzeć jeszcze na zmienne pod kątem ich siły predykcji zmiennej celu. Zbadamy wskaźnik gini."
   ]
  },
  {
   "cell_type": "code",
   "execution_count": 75,
   "metadata": {},
   "outputs": [],
   "source": [
    "import copy"
   ]
  },
  {
   "cell_type": "code",
   "execution_count": 76,
   "metadata": {},
   "outputs": [],
   "source": [
    "kopia = copy.deepcopy(census_df)"
   ]
  },
  {
   "cell_type": "code",
   "execution_count": 77,
   "metadata": {},
   "outputs": [],
   "source": [
    "census_df = copy.deepcopy(kopia)"
   ]
  },
  {
   "cell_type": "code",
   "execution_count": 78,
   "metadata": {},
   "outputs": [],
   "source": [
    "from sklearn import metrics\n",
    "from sklearn.linear_model import LogisticRegression\n",
    "from sklearn.metrics import accuracy_score"
   ]
  },
  {
   "cell_type": "code",
   "execution_count": 79,
   "metadata": {},
   "outputs": [],
   "source": [
    "def gini_roc(y_test, y_pred_proba, tytul):\n",
    "    \n",
    "    fpr, tpr, _ = metrics.roc_curve(y_test,  y_pred_proba)\n",
    "    \n",
    "    plt.plot(fpr,tpr)\n",
    "    plt.title(tytul)\n",
    "    plt.ylabel('True Positive Rate')\n",
    "    plt.xlabel('False Positive Rate')\n",
    "    plt.show()\n",
    "    \n",
    "    roc_auc = metrics.auc(fpr, tpr)\n",
    "    gini = (2 * roc_auc) - 1\n",
    "\n",
    "    return gini\n",
    "\n",
    "def gini_train_val(model, X_train, y_train):\n",
    "    \n",
    "    y_pred_proba = model.predict_proba(X_train)[::,1]\n",
    "    gini_train = gini_roc(y_train, y_pred_proba, \"ROC Curve for Training Sample\")\n",
    "    print(\"gini_test: %.4f\" % gini_train)\n",
    "\n",
    "    return"
   ]
  },
  {
   "cell_type": "code",
   "execution_count": 80,
   "metadata": {},
   "outputs": [
    {
     "data": {
      "text/plain": [
       "1.5227124591036618"
      ]
     },
     "execution_count": 80,
     "metadata": {},
     "output_type": "execute_result"
    }
   ],
   "source": [
    "woefun('relationship')['IV'].sum()"
   ]
  },
  {
   "cell_type": "code",
   "execution_count": 81,
   "metadata": {},
   "outputs": [
    {
     "data": {
      "text/plain": [
       "1.3272607834972492"
      ]
     },
     "execution_count": 81,
     "metadata": {},
     "output_type": "execute_result"
    }
   ],
   "source": [
    "woefun('marital_status')['IV'].sum()"
   ]
  },
  {
   "cell_type": "code",
   "execution_count": 82,
   "metadata": {},
   "outputs": [],
   "source": [
    "y_train = census_df['income_level']\n",
    "census_df.drop('income_level', inplace = True, axis = 1)"
   ]
  },
  {
   "cell_type": "code",
   "execution_count": 83,
   "metadata": {},
   "outputs": [],
   "source": [
    "lr = LogisticRegression(max_iter=1000)"
   ]
  },
  {
   "cell_type": "code",
   "execution_count": 84,
   "metadata": {},
   "outputs": [
    {
     "data": {
      "text/plain": [
       "LogisticRegression(max_iter=1000)"
      ]
     },
     "execution_count": 84,
     "metadata": {},
     "output_type": "execute_result"
    }
   ],
   "source": [
    "lr.fit(census_df[['marital_status']], y_train)"
   ]
  },
  {
   "cell_type": "code",
   "execution_count": 85,
   "metadata": {},
   "outputs": [
    {
     "data": {
      "image/png": "[encoded data removed]",
      "text/plain": [
       "<Figure size 432x288 with 1 Axes>"
      ]
     },
     "metadata": {
      "needs_background": "light"
     },
     "output_type": "display_data"
    },
    {
     "name": "stdout",
     "output_type": "stream",
     "text": [
      "gini_test: 0.5370\n"
     ]
    }
   ],
   "source": [
    "gini_train_val(lr, census_df[['marital_status']], y_train)"
   ]
  },
  {
   "cell_type": "code",
   "execution_count": 86,
   "metadata": {},
   "outputs": [
    {
     "data": {
      "image/png": "[encoded data removed]",
      "text/plain": [
       "<Figure size 432x288 with 1 Axes>"
      ]
     },
     "metadata": {
      "needs_background": "light"
     },
     "output_type": "display_data"
    },
    {
     "name": "stdout",
     "output_type": "stream",
     "text": [
      "gini_test: 0.5569\n"
     ]
    }
   ],
   "source": [
    "lr.fit(census_df[['relationship']], y_train)\n",
    "gini_train_val(lr, census_df[['relationship']], y_train)"
   ]
  },
  {
   "cell_type": "markdown",
   "metadata": {},
   "source": [
    "Po zbadaniu gini wyłącznie dla `marital_status` i `relationship` dla regresji logistycznej, możemy stwierdzić, że uzyskany score jest lepszy dla tej drugiej zmiennej. Podobnie wnioski można wyciągnąć ze zbadania Information value, gdyż także ta wartość jest wyższa dla zmiennej `relationship`. Jako, że obie wysoko korelują ze sobą, można usunąć zmienną `marital_status`. **sens???**  "
   ]
  },
  {
   "cell_type": "code",
   "execution_count": 87,
   "metadata": {},
   "outputs": [],
   "source": [
    "# # Przetworzenie zbioru testowego\n",
    "# census_df_test.drop(\"fnlwgt\", axis=1, inplace=True)\n",
    "# census_df_test.drop(\"education\", axis=1, inplace=True)\n",
    "# census_df_test['income_level'] = census_df_test['income_level'].replace(['<=50K','>50K'],[0, 1])\n",
    "# census_df_test['age'] = pd.qcut(census_df_test['age'], 10, labels=[1, 2, 3, 4, 5, 6, 7, 8, 9, 10])\n",
    "# census_df_test['hours_per_week'] = pd.cut(census_df_test['hours_per_week'], bins=[0, 35, 45, np.inf], labels=[1, 2, 3])\n",
    "# census_df_test['capital_gain'] = pd.cut(census_df_test['capital_gain'], bins=[-1, 114.0, 3103.0, 5013.0, 7688.0, 15024.0, np.inf], \n",
    "#              labels=[0, 1, 2, 3, 4, 5])\n",
    "# census_df_test['capital_loss'] = pd.cut(census_df_test['capital_loss'], bins=[-1, 155.0, 1619.2, 1887.0, 1902.0, 2002.0, np.inf], \n",
    "#              labels=[0, 1, 2, 3, 4, 5])\n",
    "\n",
    "# census_df_test.loc[(census_df_test.native_country != 'United-States') & (census_df_test.native_country != 'United-States'), 'native_country'] = \"Other\"\n",
    "\n",
    "# country_df_test = pd.get_dummies(census_df_test['native_country'], prefix='country_')\n",
    "# census_df_test = pd.concat([census_df_test, country_df_test], axis=1)\n",
    "# census_df_test.drop(['native_country'],  axis=1, inplace = True)"
   ]
  },
  {
   "cell_type": "code",
   "execution_count": 88,
   "metadata": {},
   "outputs": [],
   "source": [
    "# def WoETransform(census_df):\n",
    "#     census_df['workclass'] = census_df['workclass'].replace(['Without-pay', 'Never-worked', '?'] , 0)\n",
    "#     census_df['workclass'] = census_df['workclass'].replace(['Private'] , 1)\n",
    "#     census_df['workclass'] = census_df['workclass'].replace(['Self-emp-not-inc', 'State-gov', 'Local-gov'] , 2)\n",
    "#     census_df['workclass'] = census_df['workclass'].replace(['Federal-gov'] , 3)\n",
    "#     census_df['workclass'] = census_df['workclass'].replace(['Self-emp-inc'] , 4)\n",
    "\n",
    "#     census_df['occupation'] = census_df['occupation'].replace(['Priv-house-serv'] , 1)\n",
    "#     census_df['occupation'] = census_df['occupation'].replace(['Other-service', 'Handlers-cleaners' ] , 2)\n",
    "#     census_df['occupation'] = census_df['occupation'].replace(['?', 'Adm-clerical','Machine-op-inspct', 'Farming-fishing'] , 3)\n",
    "#     census_df['occupation'] = census_df['occupation'].replace(['Transport-moving', 'Craft-repair'] , 4)\n",
    "#     census_df['occupation'] = census_df['occupation'].replace(['Sales', 'Tech-support', 'Protective-serv', 'Armed-Forces'] , 5)\n",
    "#     census_df['occupation'] = census_df['occupation'].replace(['Prof-specialty', 'Exec-managerial'] , 6)\n",
    "\n",
    "#     census_df['relationship'] = census_df['relationship'].replace(['Own-child'] , 1)\n",
    "#     census_df['relationship'] = census_df['relationship'].replace(['Other-relative'] , 2)\n",
    "#     census_df['relationship'] = census_df['relationship'].replace(['Unmarried'] , 3)\n",
    "#     census_df['relationship'] = census_df['relationship'].replace(['Not-in-family'] , 4)\n",
    "#     census_df['relationship'] = census_df['relationship'].replace(['Wife', 'Husband'] , 5)\n",
    "    \n",
    "#     census_df['marital_status'] = census_df['marital_status'].replace(['Never-married', 'Separated'] , 1)\n",
    "#     census_df['marital_status'] = census_df['marital_status'].replace(['Widowed', 'Married-spouse-absent', 'Divorced'] , 2)\n",
    "#     census_df['marital_status'] = census_df['marital_status'].replace(['Married-AF-spouse', 'Married-civ-spouse'] , 3)\n",
    "    \n",
    "#     census_df['race'] = census_df['race'].replace(['Other', 'Amer-Indian-Eskimo', 'Black'] , 1)\n",
    "#     census_df['race'] = census_df['race'].replace(['White', 'Asian-Pac-Islander'] , 2)\n",
    "    \n",
    "#     census_df['education_num'] = census_df['education_num'].replace([3,4,5,6,7,8] , 3)\n",
    "#     census_df['education_num'] = census_df['education_num'].replace([9, 10] , 4)\n",
    "#     census_df['education_num'] = census_df['education_num'].replace([11, 12] , 5)\n",
    "#     census_df['education_num'] = census_df['education_num'].replace([13] , 6)\n",
    "#     census_df['education_num'] = census_df['education_num'].replace([14] , 7)\n",
    "#     census_df['education_num'] = census_df['education_num'].replace([15, 16] , 8)\n",
    "    \n",
    "#     census_df['age'] = census_df['age'].replace([4, 10, 5] , 4)\n",
    "#     census_df['age'] = census_df['age'].replace([6,7,8,9] , 5)\n",
    "    \n",
    "#     census_df['capital_loss'] = census_df['capital_loss'].replace([0], 1)\n",
    "#     census_df['capital_loss'] = census_df['capital_loss'].replace([2, 5], 2)\n",
    "#     census_df['capital_loss'] = census_df['capital_loss'].replace([4], 3)\n",
    "#     census_df['capital_loss'] = census_df['capital_loss'].replace([3], 4)\n",
    "\n",
    "#     census_df['capital_gain'] = census_df['capital_gain'].replace([2], 1)\n",
    "#     census_df['capital_gain'] = census_df['capital_gain'].replace([0], 2)\n",
    "#     census_df['capital_gain'] = census_df['capital_gain'].replace([4,5], 4)\n",
    "\n",
    "#     census_df['sex'] = census_df['sex'].replace(['Female'], 0)\n",
    "#     census_df['sex'] = census_df['sex'].replace(['Male'], 1)\n",
    "    \n",
    "#     return census_df\n"
   ]
  },
  {
   "cell_type": "code",
   "execution_count": 89,
   "metadata": {},
   "outputs": [],
   "source": [
    "# census_df_test = WoETransform(census_df_test)"
   ]
  },
  {
   "cell_type": "code",
   "execution_count": 90,
   "metadata": {},
   "outputs": [],
   "source": [
    "y_test = census_df_test['income_level']\n",
    "census_df_test.drop('income_level', inplace = True, axis = 1)"
   ]
  },
  {
   "cell_type": "markdown",
   "metadata": {},
   "source": [
    "### Podsumowanie preprocessingu\n",
    "\n",
    "Dzięki eksploracji danych pod kątem dalszej predykcyjności zmiennej określającej, czy ktoś zarabia mniej czy więcej niż 50 000$ rocznie doszliśmy do następujących wniosków:\n",
    "* kolumna `fnlwgt` nie wnosi żadnej wartości pod tym kątem, dlatego została usunięta\n",
    "* kolumny `education` i `education_num` określają dokładnie te same informacje, tylko przekazane w inny sposób. Kolumna, której będziemy używać to `education_num`, ponieważ z danymi numerycznymi, które określają hierarię zmiennej łatwiej się pracuje. Druga została usunięta, ponieważ nie będzie używana w predykcji. Mamy jednak w pamięci oznaczania, których dostarcza.\n",
    "Zmienna ta pokazuje, że im wyższy poziom edukacji, tym osób zarabiających powyżej 50K jest coraz więcej w stosunku do tych zarabiających mniej. \n",
    "* kolumna `age` ujawnia tendencję, że osoby o wyższym przychodzie są starsze, najwięcej w okolicach 45 lat, natomiast wśród drugiej grupy dominują osoby mlode, około 20-letnie. Zmienna ta została podzielona na zmienną kategoryczną o 10 kategoriach, oznaczających decyle\n",
    "* z kolumny `hours_per_week` wynika, że osoby które pracują więcej, zarabiają lepiej, ponieważ znaczna większość osob o wyższych dochodach pracuje więcej niż 35 godin tygodniowo. Ta zmienna również została zamieniona na kategoryczną o 3 kategoriach\n",
    "* kolumna `capital_gain` wnosi informację, że wsród osób, które osiągają zysk kapitałowy na poziomie 10000\\\\$-20000\\\\$` jest znacznie więcej osób dochodzie większym niż 50000\\\\$, natpiast osoby o dochodzie rocznym mniejszym od tej wartości nie przekraczają zysku kapitałowego o wartości 50000\\\\$. Zmienna ta została przekształcona na kategoryczną, grupując zerowe wartości jako jedną kategorię, a pozostałe po kwintylach. \n",
    "* kolumna `capital_loss` wydaje się, że niezbyt wpływa na dochód roczny, ponieważ rozkłady dla obu grup osób są zbliżone.  Zmienna ta została przekształcona na kategoryczną, grupując zerowe wartości jako jedną kategorię, a pozostałe po kwintylach. \n",
    "* kolumna `native_country` dostarcza informacji, że więkość osób stanowią osoby pochodzące ze Stanów Zjednoczonych. Jedyną wybijającą się grupą poza nimi są obywatele Meksyku. Pozostali stanowią niewielką część, dlatego zostali zgrupowani do kategorii *Others*. Do tej kategorii zostały również zaliczone braki danych. Widać było jednak wsród nich zależność, że osoby z bardziej rozwiniętych państw zarabiają więcej.\n",
    "* kolumna `marital_status` wskazuje, że dla każdej z podgrup osób zarabiających mniej jest więcej, jednak różnica ta jest najmniejsza w przypadku osób w związkach małżeńskich\n",
    "* z kolumny `relationship` wynikają podobne informacje jak z `marital_status`. Tu również proporcja osób o różnych poziomach zarobków jest wyrównana dla osób w związku małżeńskim, a dla innych grup występuje znacząca przewaga osób o mniejszych dochodach. W przyszłości można sprawdzić, czy predykcyjność mocno się zmieni po usunięci jednej z nich oraz sprawdzić którą lepiej usunąć.\n",
    "* z kolumny `workclass` dowiadujemy się, że jedyną grupą, dla której przeważają osoby o wyższych dochodach to grupa osób, które posiadają własną firmę\n",
    "* kolumna `occupation` dostarcza informacji, że największy współczynnik osób zarabiającyh lepiej do tych zarabiajaącyh gorzej odnotowany jest wśród osób na stanowiskach kierowniczych i pracujących w specjalizacji. Najmniejszy jest natomiast dla osób pracujących w zawodach odpowiedzialnych za sprzątanie i zajmowanie się domem, gdzie osób zarabaijących powyżej 50K jest bardzo mało.\n",
    "* z kolumn `sex` i `race` można odczytać, że kobiety rzadziej zarabiają powyżej 50 000\\\\$ Jeśli chodzi o rasy to większy odsetek lepiej zarabijących jest wśród ludności białej oraz z Azji i wysp Pacyfiku."
   ]
  },
  {
   "cell_type": "markdown",
   "metadata": {},
   "source": [
    "# Modele "
   ]
  },
  {
   "cell_type": "markdown",
   "metadata": {},
   "source": [
    "Skonstruujemy teraz kilka modeli predykcyjnych. Jako, że w naszym zbiorze występują kontrowersyjne kolumny `sex` oraz `race`, zbudujemy modele zarówno na danych ze wszystkimi zmiennymi, a także po wykluczeniu tych dwóch konkretnych. "
   ]
  },
  {
   "cell_type": "code",
   "execution_count": 91,
   "metadata": {},
   "outputs": [],
   "source": [
    "census_dfv2 = census_df.drop('sex', axis = 1)\n",
    "census_dfv2 = census_dfv2.drop('race', axis = 1)\n",
    "\n",
    "census_df_testv2 = census_df_test.drop('sex', axis = 1)\n",
    "census_df_testv2 = census_df_testv2.drop('race', axis = 1)"
   ]
  },
  {
   "cell_type": "markdown",
   "metadata": {},
   "source": [
    "#### Regresja Logistyczna\n",
    "\n",
    "Na początek wykorzystamy regresję logistyczną. Wykorzystamy już wcześniej zdefiniowany model `lr`."
   ]
  },
  {
   "cell_type": "code",
   "execution_count": 92,
   "metadata": {},
   "outputs": [
    {
     "data": {
      "text/plain": [
       "array([1, 1, 1, ..., 1, 0, 0], dtype=int64)"
      ]
     },
     "execution_count": 92,
     "metadata": {},
     "output_type": "execute_result"
    }
   ],
   "source": [
    "lr.fit(census_df, y_train)\n",
    "res = lr.predict(census_df)\n",
    "res"
   ]
  },
  {
   "cell_type": "code",
   "execution_count": 93,
   "metadata": {},
   "outputs": [
    {
     "data": {
      "text/plain": [
       "0.85387112814063"
      ]
     },
     "execution_count": 93,
     "metadata": {},
     "output_type": "execute_result"
    }
   ],
   "source": [
    "accuracy_score(y_train, res)"
   ]
  },
  {
   "cell_type": "code",
   "execution_count": 94,
   "metadata": {},
   "outputs": [
    {
     "data": {
      "image/png": "[encoded data removed]",
      "text/plain": [
       "<Figure size 432x288 with 1 Axes>"
      ]
     },
     "metadata": {
      "needs_background": "light"
     },
     "output_type": "display_data"
    },
    {
     "name": "stdout",
     "output_type": "stream",
     "text": [
      "gini_test: 0.8059\n"
     ]
    }
   ],
   "source": [
    "gini_train_val(lr, census_df, y_train)"
   ]
  },
  {
   "cell_type": "markdown",
   "metadata": {},
   "source": [
    "Zarówno acuracy score jak i wskaźnik gini dla podstawowego zbioru testowego są na wysokim poziomie. Teraz sprawdźmy predykcyjność dla zbioru pozbawionego zmiennych `sex` i `race`"
   ]
  },
  {
   "cell_type": "code",
   "execution_count": 95,
   "metadata": {},
   "outputs": [
    {
     "data": {
      "text/plain": [
       "array([1, 1, 1, ..., 1, 0, 0], dtype=int64)"
      ]
     },
     "execution_count": 95,
     "metadata": {},
     "output_type": "execute_result"
    }
   ],
   "source": [
    "lr.fit(census_dfv2, y_train)\n",
    "res = lr.predict(census_dfv2)\n",
    "res"
   ]
  },
  {
   "cell_type": "code",
   "execution_count": 96,
   "metadata": {},
   "outputs": [
    {
     "data": {
      "text/plain": [
       "0.8536078855772324"
      ]
     },
     "execution_count": 96,
     "metadata": {},
     "output_type": "execute_result"
    }
   ],
   "source": [
    "accuracy_score(y_train, res)"
   ]
  },
  {
   "cell_type": "code",
   "execution_count": 97,
   "metadata": {},
   "outputs": [
    {
     "data": {
      "image/png": "[encoded data removed]",
      "text/plain": [
       "<Figure size 432x288 with 1 Axes>"
      ]
     },
     "metadata": {
      "needs_background": "light"
     },
     "output_type": "display_data"
    },
    {
     "name": "stdout",
     "output_type": "stream",
     "text": [
      "gini_test: 0.8053\n"
     ]
    }
   ],
   "source": [
    "gini_train_val(lr, census_dfv2, y_train)"
   ]
  },
  {
   "cell_type": "markdown",
   "metadata": {},
   "source": [
    "Wyniki różnią się nieznacznie od tych dla całego zbioru. Sprawdźmy jak wynik będzie wyglądał dla zbioru testowego`"
   ]
  },
  {
   "cell_type": "code",
   "execution_count": 98,
   "metadata": {},
   "outputs": [],
   "source": [
    "# lr.fit(census_df_test, y_test)\n",
    "# res = lr.predict(census_df_test)\n",
    "# res"
   ]
  },
  {
   "cell_type": "code",
   "execution_count": 99,
   "metadata": {},
   "outputs": [],
   "source": [
    "# accuracy_score(y_test, res)"
   ]
  },
  {
   "cell_type": "code",
   "execution_count": 100,
   "metadata": {},
   "outputs": [],
   "source": [
    "# gini_train_val(lr, census_df_test, y_test)"
   ]
  },
  {
   "cell_type": "code",
   "execution_count": 101,
   "metadata": {},
   "outputs": [],
   "source": [
    "# lr.fit(census_df_testv2, y_test)\n",
    "# res = lr.predict(census_df_testv2)\n",
    "# res"
   ]
  },
  {
   "cell_type": "code",
   "execution_count": 102,
   "metadata": {},
   "outputs": [],
   "source": [
    "# accuracy_score(y_test, res)"
   ]
  },
  {
   "cell_type": "code",
   "execution_count": 103,
   "metadata": {},
   "outputs": [],
   "source": [
    "# gini_train_val(lr, census_df_testv2, y_test)"
   ]
  },
  {
   "cell_type": "markdown",
   "metadata": {},
   "source": [
    "Na zbiorze testowym jest podobnie **(Sheeeeesh, to chyba niedobrze)** Nadal się zastanawiam czy testowy też wgl powinien być przetwarzany..."
   ]
  },
  {
   "cell_type": "markdown",
   "metadata": {},
   "source": [
    "#### Drzewo decyzyjne"
   ]
  },
  {
   "cell_type": "code",
   "execution_count": 104,
   "metadata": {},
   "outputs": [
    {
     "data": {
      "text/plain": [
       "array([1, 1, 1, ..., 1, 0, 0], dtype=int64)"
      ]
     },
     "execution_count": 104,
     "metadata": {},
     "output_type": "execute_result"
    }
   ],
   "source": [
    "from sklearn.tree import DecisionTreeClassifier\n",
    "\n",
    "Tree = DecisionTreeClassifier()\n",
    "Tree.fit(census_df, y_train)\n",
    "res = Tree.predict(census_df)\n",
    "res"
   ]
  },
  {
   "cell_type": "code",
   "execution_count": 105,
   "metadata": {},
   "outputs": [
    {
     "data": {
      "text/plain": [
       "0.8905788411477376"
      ]
     },
     "execution_count": 105,
     "metadata": {},
     "output_type": "execute_result"
    }
   ],
   "source": [
    "accuracy_score(y_train, res)"
   ]
  },
  {
   "cell_type": "code",
   "execution_count": 106,
   "metadata": {},
   "outputs": [
    {
     "data": {
      "image/png": "[encoded data removed]",
      "text/plain": [
       "<Figure size 432x288 with 1 Axes>"
      ]
     },
     "metadata": {
      "needs_background": "light"
     },
     "output_type": "display_data"
    },
    {
     "name": "stdout",
     "output_type": "stream",
     "text": [
      "gini_test: 0.9123\n"
     ]
    }
   ],
   "source": [
    "gini_train_val(Tree, census_df, y_train)"
   ]
  },
  {
   "cell_type": "markdown",
   "metadata": {},
   "source": [
    "OKURDE chyba jest przetrenowany, za dobrzy w to jesteśmy xD"
   ]
  },
  {
   "cell_type": "code",
   "execution_count": 107,
   "metadata": {},
   "outputs": [
    {
     "data": {
      "text/plain": [
       "array([1, 1, 1, ..., 1, 0, 0], dtype=int64)"
      ]
     },
     "execution_count": 107,
     "metadata": {},
     "output_type": "execute_result"
    }
   ],
   "source": [
    "Tree.fit(census_dfv2, y_train)\n",
    "res = Tree.predict(census_dfv2)\n",
    "res"
   ]
  },
  {
   "cell_type": "code",
   "execution_count": 108,
   "metadata": {},
   "outputs": [
    {
     "data": {
      "text/plain": [
       "0.880838866302027"
      ]
     },
     "execution_count": 108,
     "metadata": {},
     "output_type": "execute_result"
    }
   ],
   "source": [
    "accuracy_score(y_train, res)"
   ]
  },
  {
   "cell_type": "code",
   "execution_count": 109,
   "metadata": {},
   "outputs": [
    {
     "data": {
      "image/png": "[encoded data removed]",
      "text/plain": [
       "<Figure size 432x288 with 1 Axes>"
      ]
     },
     "metadata": {
      "needs_background": "light"
     },
     "output_type": "display_data"
    },
    {
     "name": "stdout",
     "output_type": "stream",
     "text": [
      "gini_test: 0.8916\n"
     ]
    }
   ],
   "source": [
    "gini_train_val(Tree, census_dfv2, y_train)"
   ]
  },
  {
   "cell_type": "code",
   "execution_count": 110,
   "metadata": {},
   "outputs": [
    {
     "data": {
      "text/plain": [
       "array([1, 1, 1, ..., 1, 0, 0], dtype=int64)"
      ]
     },
     "execution_count": 110,
     "metadata": {},
     "output_type": "execute_result"
    }
   ],
   "source": [
    "#Próba zabawy hiperparametrami \n",
    "#Oczywiście nieudana ;)\n",
    "\n",
    "Tree = DecisionTreeClassifier(criterion = 'entropy',\n",
    "                            random_state = 123,\n",
    "                            max_features = 'auto',\n",
    "                            max_depth = 12,\n",
    "                            splitter = 'random')\n",
    "Tree.fit(census_df, y_train)\n",
    "res = Tree.predict(census_df)\n",
    "res"
   ]
  },
  {
   "cell_type": "code",
   "execution_count": 111,
   "metadata": {},
   "outputs": [
    {
     "data": {
      "text/plain": [
       "0.8512679516803651"
      ]
     },
     "execution_count": 111,
     "metadata": {},
     "output_type": "execute_result"
    }
   ],
   "source": [
    "accuracy_score(y_train, res)"
   ]
  },
  {
   "cell_type": "markdown",
   "metadata": {},
   "source": [
    "#### Las losowy"
   ]
  },
  {
   "cell_type": "code",
   "execution_count": 112,
   "metadata": {},
   "outputs": [
    {
     "data": {
      "text/plain": [
       "array([1, 1, 1, ..., 1, 0, 0], dtype=int64)"
      ]
     },
     "execution_count": 112,
     "metadata": {},
     "output_type": "execute_result"
    }
   ],
   "source": [
    "from sklearn.ensemble import RandomForestClassifier\n",
    "\n",
    "rf = RandomForestClassifier()\n",
    "rf.fit(census_df, y_train)\n",
    "res = rf.predict(census_df)\n",
    "res"
   ]
  },
  {
   "cell_type": "code",
   "execution_count": 113,
   "metadata": {},
   "outputs": [
    {
     "data": {
      "text/plain": [
       "0.8905788411477376"
      ]
     },
     "execution_count": 113,
     "metadata": {},
     "output_type": "execute_result"
    }
   ],
   "source": [
    "accuracy_score(y_train, res)"
   ]
  },
  {
   "cell_type": "code",
   "execution_count": 114,
   "metadata": {},
   "outputs": [
    {
     "data": {
      "image/png": "[encoded data removed]",
      "text/plain": [
       "<Figure size 432x288 with 1 Axes>"
      ]
     },
     "metadata": {
      "needs_background": "light"
     },
     "output_type": "display_data"
    },
    {
     "name": "stdout",
     "output_type": "stream",
     "text": [
      "gini_test: 0.9076\n"
     ]
    }
   ],
   "source": [
    "gini_train_val(rf, census_df, y_train)"
   ]
  },
  {
   "cell_type": "code",
   "execution_count": 115,
   "metadata": {},
   "outputs": [
    {
     "data": {
      "text/plain": [
       "array([1, 1, 1, ..., 1, 0, 0], dtype=int64)"
      ]
     },
     "execution_count": 115,
     "metadata": {},
     "output_type": "execute_result"
    }
   ],
   "source": [
    "rf.fit(census_dfv2, y_train)\n",
    "res = rf.predict(census_dfv2)\n",
    "res"
   ]
  },
  {
   "cell_type": "code",
   "execution_count": 116,
   "metadata": {},
   "outputs": [
    {
     "data": {
      "text/plain": [
       "0.8808096171283162"
      ]
     },
     "execution_count": 116,
     "metadata": {},
     "output_type": "execute_result"
    }
   ],
   "source": [
    "accuracy_score(y_train, res)"
   ]
  },
  {
   "cell_type": "code",
   "execution_count": 117,
   "metadata": {},
   "outputs": [
    {
     "data": {
      "image/png": "[encoded data removed]",
      "text/plain": [
       "<Figure size 432x288 with 1 Axes>"
      ]
     },
     "metadata": {
      "needs_background": "light"
     },
     "output_type": "display_data"
    },
    {
     "name": "stdout",
     "output_type": "stream",
     "text": [
      "gini_test: 0.8879\n"
     ]
    }
   ],
   "source": [
    "gini_train_val(rf, census_dfv2, y_train)"
   ]
  },
  {
   "cell_type": "markdown",
   "metadata": {},
   "source": [
    "#### AdaBoost"
   ]
  },
  {
   "cell_type": "code",
   "execution_count": 118,
   "metadata": {},
   "outputs": [
    {
     "data": {
      "text/plain": [
       "array([1, 1, 1, ..., 1, 0, 0], dtype=int64)"
      ]
     },
     "execution_count": 118,
     "metadata": {},
     "output_type": "execute_result"
    }
   ],
   "source": [
    "from sklearn.ensemble import AdaBoostClassifier\n",
    "\n",
    "abc = AdaBoostClassifier()\n",
    "abc.fit(census_df, y_train)\n",
    "res = abc.predict(census_df)\n",
    "res"
   ]
  },
  {
   "cell_type": "code",
   "execution_count": 119,
   "metadata": {},
   "outputs": [
    {
     "data": {
      "text/plain": [
       "0.8548656000467987"
      ]
     },
     "execution_count": 119,
     "metadata": {},
     "output_type": "execute_result"
    }
   ],
   "source": [
    "accuracy_score(y_train, res)"
   ]
  },
  {
   "cell_type": "code",
   "execution_count": 120,
   "metadata": {},
   "outputs": [
    {
     "data": {
      "image/png": "[encoded data removed]",
      "text/plain": [
       "<Figure size 432x288 with 1 Axes>"
      ]
     },
     "metadata": {
      "needs_background": "light"
     },
     "output_type": "display_data"
    },
    {
     "name": "stdout",
     "output_type": "stream",
     "text": [
      "gini_test: 0.8174\n"
     ]
    }
   ],
   "source": [
    "gini_train_val(abc, census_df, y_train)"
   ]
  },
  {
   "cell_type": "code",
   "execution_count": 121,
   "metadata": {},
   "outputs": [
    {
     "data": {
      "text/plain": [
       "array([1, 1, 1, ..., 1, 0, 0], dtype=int64)"
      ]
     },
     "execution_count": 121,
     "metadata": {},
     "output_type": "execute_result"
    }
   ],
   "source": [
    "abc.fit(census_dfv2, y_train)\n",
    "res = abc.predict(census_dfv2)\n",
    "res"
   ]
  },
  {
   "cell_type": "code",
   "execution_count": 122,
   "metadata": {},
   "outputs": [
    {
     "data": {
      "text/plain": [
       "0.8551580917839071"
      ]
     },
     "execution_count": 122,
     "metadata": {},
     "output_type": "execute_result"
    }
   ],
   "source": [
    "accuracy_score(y_train, res)"
   ]
  },
  {
   "cell_type": "code",
   "execution_count": 123,
   "metadata": {},
   "outputs": [
    {
     "data": {
      "image/png": "[encoded data removed]",
      "text/plain": [
       "<Figure size 432x288 with 1 Axes>"
      ]
     },
     "metadata": {
      "needs_background": "light"
     },
     "output_type": "display_data"
    },
    {
     "name": "stdout",
     "output_type": "stream",
     "text": [
      "gini_test: 0.8171\n"
     ]
    }
   ],
   "source": [
    "gini_train_val(abc, census_dfv2, y_train)"
   ]
  },
  {
   "cell_type": "markdown",
   "metadata": {},
   "source": [
    "#### Gradient Boosting"
   ]
  },
  {
   "cell_type": "code",
   "execution_count": 124,
   "metadata": {},
   "outputs": [
    {
     "data": {
      "text/plain": [
       "array([1, 1, 1, ..., 1, 0, 0], dtype=int64)"
      ]
     },
     "execution_count": 124,
     "metadata": {},
     "output_type": "execute_result"
    }
   ],
   "source": [
    "from sklearn.ensemble import GradientBoostingClassifier\n",
    "\n",
    "gb = GradientBoostingClassifier()\n",
    "gb.fit(census_df, y_train)\n",
    "res = gb.predict(census_df)\n",
    "res"
   ]
  },
  {
   "cell_type": "code",
   "execution_count": 125,
   "metadata": {},
   "outputs": [
    {
     "data": {
      "text/plain": [
       "0.8600427037936178"
      ]
     },
     "execution_count": 125,
     "metadata": {},
     "output_type": "execute_result"
    }
   ],
   "source": [
    "accuracy_score(y_train, res)"
   ]
  },
  {
   "cell_type": "code",
   "execution_count": 126,
   "metadata": {},
   "outputs": [
    {
     "data": {
      "image/png": "[encoded data removed]",
      "text/plain": [
       "<Figure size 432x288 with 1 Axes>"
      ]
     },
     "metadata": {
      "needs_background": "light"
     },
     "output_type": "display_data"
    },
    {
     "name": "stdout",
     "output_type": "stream",
     "text": [
      "gini_test: 0.8299\n"
     ]
    }
   ],
   "source": [
    "gini_train_val(gb, census_df, y_train)"
   ]
  }
 ],
 "metadata": {
  "kernelspec": {
   "display_name": "Python 3",
   "language": "python",
   "name": "python3"
  },
  "language_info": {
   "codemirror_mode": {
    "name": "ipython",
    "version": 3
   },
   "file_extension": ".py",
   "mimetype": "text/x-python",
   "name": "python",
   "nbconvert_exporter": "python",
   "pygments_lexer": "ipython3",
   "version": "3.8.3"
  }
 },
 "nbformat": 4,
 "nbformat_minor": 5
}
