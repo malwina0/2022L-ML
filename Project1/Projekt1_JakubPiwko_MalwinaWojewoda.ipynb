{
 "cells": [
  {
   "cell_type": "markdown",
   "id": "295583e6",
   "metadata": {},
   "source": [
    "# Wstęp do uczenia maszynowego\n",
    "##  Projekt nr 1\n",
    "#### Jakub Piwko, Malwina Wojewoda"
   ]
  },
  {
   "cell_type": "markdown",
   "id": "ab2d3f1b",
   "metadata": {},
   "source": [
    "# TODO:\n",
    "Pogrubione jest to co zrobiłam, ale fajnie jakbyś to jakoś sprawdził\n",
    "\n",
    "Sprawdziłem, i dodatkowo kursywą+pogrubienie oznaczam to co ja zrobiłem, też zachęcam do sprawdzenia  \n",
    "* **podział na testowy biorąc pod uwagę zmienna celu -> DO SPRAWDZENIA** (SPOCZKO)\n",
    "* **podzielić an decyle** (SPOCZKO)\n",
    "* **wcześniej też analiza korelacji - nie wiem co on ma na mysli ale coś napisałam** (SPOCZKO)\n",
    "* **encoding zrobic** (spoczko, ale zastanawiam się czy ta korelacja na dole -1 jest okej)\n",
    "* **zrobić coś z brakami danych**\n",
    "\n",
    "\n",
    "* ***jeśli będą bardzo skorelowane to usunąć to która ma mniejszą predykcyjność (sprawdzając np. accuracy score lub gini, jakbym już wiedział co to jest), i też można grupowo przebadać gini i score i wyrzucić te kolumny których predykcyjność jest poniżej 5% :')***\n",
    "* ***zamienić na WoE,***\n",
    "* ***po wszystkim korelacje pirsona i spiermana żeby sprawdzić***\n",
    "* zrobić model z uwzględnieniem danych rasy i bez tego -  jak będziemy robić model to spróbować i z płcią i rasą i bez, \n",
    "* zbadać korelacje przed zmianami i po, po powinno wzrosnąć,\n"
   ]
  },
  {
   "cell_type": "markdown",
   "id": "f4bc360b",
   "metadata": {},
   "source": [
    "#### Pakiety"
   ]
  },
  {
   "cell_type": "code",
   "execution_count": 67,
   "id": "c4981da8",
   "metadata": {},
   "outputs": [],
   "source": [
    "import pandas as pd\n",
    "import plotly.express as px\n",
    "import numpy as np\n",
    "import sklearn \n",
    "import seaborn as sns\n",
    "import matplotlib.pyplot as plt\n",
    "import matplotlib\n",
    "from matplotlib.colors import LogNorm\n",
    "import warnings\n",
    "warnings.filterwarnings('ignore')\n",
    "np.random.seed(23)\n",
    "from sklearn.model_selection import train_test_split"
   ]
  },
  {
   "cell_type": "markdown",
   "id": "8418de9b",
   "metadata": {},
   "source": [
    "### Dane i ich opis"
   ]
  },
  {
   "cell_type": "code",
   "execution_count": 68,
   "id": "5fdc2bb4",
   "metadata": {},
   "outputs": [
    {
     "data": {
      "text/html": [
       "<div>\n",
       "<style scoped>\n",
       "    .dataframe tbody tr th:only-of-type {\n",
       "        vertical-align: middle;\n",
       "    }\n",
       "\n",
       "    .dataframe tbody tr th {\n",
       "        vertical-align: top;\n",
       "    }\n",
       "\n",
       "    .dataframe thead th {\n",
       "        text-align: right;\n",
       "    }\n",
       "</style>\n",
       "<table border=\"1\" class=\"dataframe\">\n",
       "  <thead>\n",
       "    <tr style=\"text-align: right;\">\n",
       "      <th></th>\n",
       "      <th>age</th>\n",
       "      <th>workclass</th>\n",
       "      <th>fnlwgt</th>\n",
       "      <th>education</th>\n",
       "      <th>education_num</th>\n",
       "      <th>marital_status</th>\n",
       "      <th>occupation</th>\n",
       "      <th>relationship</th>\n",
       "      <th>race</th>\n",
       "      <th>sex</th>\n",
       "      <th>capital_gain</th>\n",
       "      <th>capital_loss</th>\n",
       "      <th>hours_per_week</th>\n",
       "      <th>native_country</th>\n",
       "      <th>income_level</th>\n",
       "    </tr>\n",
       "  </thead>\n",
       "  <tbody>\n",
       "    <tr>\n",
       "      <th>0</th>\n",
       "      <td>39</td>\n",
       "      <td>State-gov</td>\n",
       "      <td>77516.0</td>\n",
       "      <td>Bachelors</td>\n",
       "      <td>13</td>\n",
       "      <td>Never-married</td>\n",
       "      <td>Adm-clerical</td>\n",
       "      <td>Not-in-family</td>\n",
       "      <td>White</td>\n",
       "      <td>Male</td>\n",
       "      <td>2174.0</td>\n",
       "      <td>0.0</td>\n",
       "      <td>40.0</td>\n",
       "      <td>United-States</td>\n",
       "      <td>&lt;=50K</td>\n",
       "    </tr>\n",
       "    <tr>\n",
       "      <th>1</th>\n",
       "      <td>50</td>\n",
       "      <td>Self-emp-not-inc</td>\n",
       "      <td>83311.0</td>\n",
       "      <td>Bachelors</td>\n",
       "      <td>13</td>\n",
       "      <td>Married-civ-spouse</td>\n",
       "      <td>Exec-managerial</td>\n",
       "      <td>Husband</td>\n",
       "      <td>White</td>\n",
       "      <td>Male</td>\n",
       "      <td>0.0</td>\n",
       "      <td>0.0</td>\n",
       "      <td>13.0</td>\n",
       "      <td>United-States</td>\n",
       "      <td>&lt;=50K</td>\n",
       "    </tr>\n",
       "    <tr>\n",
       "      <th>2</th>\n",
       "      <td>38</td>\n",
       "      <td>Private</td>\n",
       "      <td>215646.0</td>\n",
       "      <td>HS-grad</td>\n",
       "      <td>9</td>\n",
       "      <td>Divorced</td>\n",
       "      <td>Handlers-cleaners</td>\n",
       "      <td>Not-in-family</td>\n",
       "      <td>White</td>\n",
       "      <td>Male</td>\n",
       "      <td>0.0</td>\n",
       "      <td>0.0</td>\n",
       "      <td>40.0</td>\n",
       "      <td>United-States</td>\n",
       "      <td>&lt;=50K</td>\n",
       "    </tr>\n",
       "    <tr>\n",
       "      <th>3</th>\n",
       "      <td>53</td>\n",
       "      <td>Private</td>\n",
       "      <td>234721.0</td>\n",
       "      <td>11th</td>\n",
       "      <td>7</td>\n",
       "      <td>Married-civ-spouse</td>\n",
       "      <td>Handlers-cleaners</td>\n",
       "      <td>Husband</td>\n",
       "      <td>Black</td>\n",
       "      <td>Male</td>\n",
       "      <td>0.0</td>\n",
       "      <td>0.0</td>\n",
       "      <td>40.0</td>\n",
       "      <td>United-States</td>\n",
       "      <td>&lt;=50K</td>\n",
       "    </tr>\n",
       "    <tr>\n",
       "      <th>4</th>\n",
       "      <td>28</td>\n",
       "      <td>Private</td>\n",
       "      <td>338409.0</td>\n",
       "      <td>Bachelors</td>\n",
       "      <td>13</td>\n",
       "      <td>Married-civ-spouse</td>\n",
       "      <td>Prof-specialty</td>\n",
       "      <td>Wife</td>\n",
       "      <td>Black</td>\n",
       "      <td>Female</td>\n",
       "      <td>0.0</td>\n",
       "      <td>0.0</td>\n",
       "      <td>40.0</td>\n",
       "      <td>Cuba</td>\n",
       "      <td>&lt;=50K</td>\n",
       "    </tr>\n",
       "    <tr>\n",
       "      <th>5</th>\n",
       "      <td>37</td>\n",
       "      <td>Private</td>\n",
       "      <td>284582.0</td>\n",
       "      <td>Masters</td>\n",
       "      <td>14</td>\n",
       "      <td>Married-civ-spouse</td>\n",
       "      <td>Exec-managerial</td>\n",
       "      <td>Wife</td>\n",
       "      <td>White</td>\n",
       "      <td>Female</td>\n",
       "      <td>0.0</td>\n",
       "      <td>0.0</td>\n",
       "      <td>40.0</td>\n",
       "      <td>United-States</td>\n",
       "      <td>&lt;=50K</td>\n",
       "    </tr>\n",
       "    <tr>\n",
       "      <th>6</th>\n",
       "      <td>49</td>\n",
       "      <td>Private</td>\n",
       "      <td>160187.0</td>\n",
       "      <td>9th</td>\n",
       "      <td>5</td>\n",
       "      <td>Married-spouse-absent</td>\n",
       "      <td>Other-service</td>\n",
       "      <td>Not-in-family</td>\n",
       "      <td>Black</td>\n",
       "      <td>Female</td>\n",
       "      <td>0.0</td>\n",
       "      <td>0.0</td>\n",
       "      <td>16.0</td>\n",
       "      <td>Jamaica</td>\n",
       "      <td>&lt;=50K</td>\n",
       "    </tr>\n",
       "    <tr>\n",
       "      <th>7</th>\n",
       "      <td>52</td>\n",
       "      <td>Self-emp-not-inc</td>\n",
       "      <td>209642.0</td>\n",
       "      <td>HS-grad</td>\n",
       "      <td>9</td>\n",
       "      <td>Married-civ-spouse</td>\n",
       "      <td>Exec-managerial</td>\n",
       "      <td>Husband</td>\n",
       "      <td>White</td>\n",
       "      <td>Male</td>\n",
       "      <td>0.0</td>\n",
       "      <td>0.0</td>\n",
       "      <td>45.0</td>\n",
       "      <td>United-States</td>\n",
       "      <td>&gt;50K</td>\n",
       "    </tr>\n",
       "    <tr>\n",
       "      <th>8</th>\n",
       "      <td>31</td>\n",
       "      <td>Private</td>\n",
       "      <td>45781.0</td>\n",
       "      <td>Masters</td>\n",
       "      <td>14</td>\n",
       "      <td>Never-married</td>\n",
       "      <td>Prof-specialty</td>\n",
       "      <td>Not-in-family</td>\n",
       "      <td>White</td>\n",
       "      <td>Female</td>\n",
       "      <td>14084.0</td>\n",
       "      <td>0.0</td>\n",
       "      <td>50.0</td>\n",
       "      <td>United-States</td>\n",
       "      <td>&gt;50K</td>\n",
       "    </tr>\n",
       "    <tr>\n",
       "      <th>9</th>\n",
       "      <td>42</td>\n",
       "      <td>Private</td>\n",
       "      <td>159449.0</td>\n",
       "      <td>Bachelors</td>\n",
       "      <td>13</td>\n",
       "      <td>Married-civ-spouse</td>\n",
       "      <td>Exec-managerial</td>\n",
       "      <td>Husband</td>\n",
       "      <td>White</td>\n",
       "      <td>Male</td>\n",
       "      <td>5178.0</td>\n",
       "      <td>0.0</td>\n",
       "      <td>40.0</td>\n",
       "      <td>United-States</td>\n",
       "      <td>&gt;50K</td>\n",
       "    </tr>\n",
       "  </tbody>\n",
       "</table>\n",
       "</div>"
      ],
      "text/plain": [
       "   age         workclass    fnlwgt  education  education_num  \\\n",
       "0  39   State-gov         77516.0   Bachelors  13              \n",
       "1  50   Self-emp-not-inc  83311.0   Bachelors  13              \n",
       "2  38   Private           215646.0  HS-grad    9               \n",
       "3  53   Private           234721.0  11th       7               \n",
       "4  28   Private           338409.0  Bachelors  13              \n",
       "5  37   Private           284582.0  Masters    14              \n",
       "6  49   Private           160187.0  9th        5               \n",
       "7  52   Self-emp-not-inc  209642.0  HS-grad    9               \n",
       "8  31   Private           45781.0   Masters    14              \n",
       "9  42   Private           159449.0  Bachelors  13              \n",
       "\n",
       "          marital_status         occupation   relationship   race     sex  \\\n",
       "0  Never-married          Adm-clerical       Not-in-family  White  Male     \n",
       "1  Married-civ-spouse     Exec-managerial    Husband        White  Male     \n",
       "2  Divorced               Handlers-cleaners  Not-in-family  White  Male     \n",
       "3  Married-civ-spouse     Handlers-cleaners  Husband        Black  Male     \n",
       "4  Married-civ-spouse     Prof-specialty     Wife           Black  Female   \n",
       "5  Married-civ-spouse     Exec-managerial    Wife           White  Female   \n",
       "6  Married-spouse-absent  Other-service      Not-in-family  Black  Female   \n",
       "7  Married-civ-spouse     Exec-managerial    Husband        White  Male     \n",
       "8  Never-married          Prof-specialty     Not-in-family  White  Female   \n",
       "9  Married-civ-spouse     Exec-managerial    Husband        White  Male     \n",
       "\n",
       "   capital_gain  capital_loss  hours_per_week native_country income_level  \n",
       "0  2174.0        0.0           40.0            United-States  <=50K        \n",
       "1  0.0           0.0           13.0            United-States  <=50K        \n",
       "2  0.0           0.0           40.0            United-States  <=50K        \n",
       "3  0.0           0.0           40.0            United-States  <=50K        \n",
       "4  0.0           0.0           40.0            Cuba           <=50K        \n",
       "5  0.0           0.0           40.0            United-States  <=50K        \n",
       "6  0.0           0.0           16.0            Jamaica        <=50K        \n",
       "7  0.0           0.0           45.0            United-States  >50K         \n",
       "8  14084.0       0.0           50.0            United-States  >50K         \n",
       "9  5178.0        0.0           40.0            United-States  >50K         "
      ]
     },
     "execution_count": 68,
     "metadata": {},
     "output_type": "execute_result"
    }
   ],
   "source": [
    "census_df = pd.read_csv('census_income_dataset.csv')\n",
    "census_df.head(10)"
   ]
  },
  {
   "cell_type": "code",
   "execution_count": 69,
   "id": "d06e17b7",
   "metadata": {},
   "outputs": [
    {
     "data": {
      "text/html": [
       "<div>\n",
       "<style scoped>\n",
       "    .dataframe tbody tr th:only-of-type {\n",
       "        vertical-align: middle;\n",
       "    }\n",
       "\n",
       "    .dataframe tbody tr th {\n",
       "        vertical-align: top;\n",
       "    }\n",
       "\n",
       "    .dataframe thead th {\n",
       "        text-align: right;\n",
       "    }\n",
       "</style>\n",
       "<table border=\"1\" class=\"dataframe\">\n",
       "  <thead>\n",
       "    <tr style=\"text-align: right;\">\n",
       "      <th></th>\n",
       "      <th>name</th>\n",
       "      <th>type</th>\n",
       "      <th>description</th>\n",
       "    </tr>\n",
       "  </thead>\n",
       "  <tbody>\n",
       "    <tr>\n",
       "      <th>0</th>\n",
       "      <td>age</td>\n",
       "      <td>integer</td>\n",
       "      <td>age of individual</td>\n",
       "    </tr>\n",
       "    <tr>\n",
       "      <th>1</th>\n",
       "      <td>workclass</td>\n",
       "      <td>string</td>\n",
       "      <td>Values: Private, Self-emp-not-inc, Self-emp-inc, Federal-gov, Local-gov, State-gov, Without-pay, Never-worked</td>\n",
       "    </tr>\n",
       "    <tr>\n",
       "      <th>2</th>\n",
       "      <td>fnlwgt</td>\n",
       "      <td>float</td>\n",
       "      <td>Final sampling weight. Inverse of sampling fraction adjusted for non-response and over or under sampling of particular groups</td>\n",
       "    </tr>\n",
       "    <tr>\n",
       "      <th>3</th>\n",
       "      <td>education</td>\n",
       "      <td>string</td>\n",
       "      <td>Values: Bachelors, Some-college, 11th, HS-grad, Prof-school, Assoc-acdm, Assoc-voc, 9th, 7th-8th, 12th, Masters, 1st-4th, 10th, Doctorate, 5th-6th, Preschool</td>\n",
       "    </tr>\n",
       "    <tr>\n",
       "      <th>4</th>\n",
       "      <td>education_num</td>\n",
       "      <td>integer</td>\n",
       "      <td>NaN</td>\n",
       "    </tr>\n",
       "    <tr>\n",
       "      <th>5</th>\n",
       "      <td>marital_status</td>\n",
       "      <td>string</td>\n",
       "      <td>Values: Married-civ-spouse, Divorced, Never-married, Separated, Widowed, Married-spouse-absent, Married-AF-spouse</td>\n",
       "    </tr>\n",
       "    <tr>\n",
       "      <th>6</th>\n",
       "      <td>occupation</td>\n",
       "      <td>string</td>\n",
       "      <td>Values: Tech-support, Craft-repair, Other-service, Sales, Exec-managerial, Prof-specialty, Handlers-cleaners, Machine-op-inspct, Adm-clerical, Farming-fishing, Transport-moving, Priv-house-serv, Protective-serv, Armed-Forces</td>\n",
       "    </tr>\n",
       "    <tr>\n",
       "      <th>7</th>\n",
       "      <td>relationship</td>\n",
       "      <td>string</td>\n",
       "      <td>Values: Wife, Own-child, Husband, Not-in-family, Other-relative, Unmarried</td>\n",
       "    </tr>\n",
       "    <tr>\n",
       "      <th>8</th>\n",
       "      <td>race</td>\n",
       "      <td>string</td>\n",
       "      <td>Values: White, Asian-Pac-Islander, Amer-Indian-Eskimo, Other, Black</td>\n",
       "    </tr>\n",
       "    <tr>\n",
       "      <th>9</th>\n",
       "      <td>sex</td>\n",
       "      <td>string</td>\n",
       "      <td>Values: Female, Male</td>\n",
       "    </tr>\n",
       "    <tr>\n",
       "      <th>10</th>\n",
       "      <td>capital_gain</td>\n",
       "      <td>float</td>\n",
       "      <td>NaN</td>\n",
       "    </tr>\n",
       "    <tr>\n",
       "      <th>11</th>\n",
       "      <td>capital_loss</td>\n",
       "      <td>float</td>\n",
       "      <td>NaN</td>\n",
       "    </tr>\n",
       "    <tr>\n",
       "      <th>12</th>\n",
       "      <td>hours_per_week</td>\n",
       "      <td>float</td>\n",
       "      <td>working hours per week</td>\n",
       "    </tr>\n",
       "    <tr>\n",
       "      <th>13</th>\n",
       "      <td>native_country</td>\n",
       "      <td>string</td>\n",
       "      <td>Values: United-States, Cambodia, England, Puerto-Rico, Canada, Germany, Outlying-US(Guam-USVI-etc), India, Japan, Greece, South, China, Cuba, Iran, Honduras, Philippines, Italy, Poland, Jamaica, Vietnam, Mexico, Portugal, Ireland, France, Dominican-Republic, Laos, Ecuador, Taiwan, Haiti, Columbia, Hungary, Guatemala, Nicaragua, Scotland, Thailand, Yugoslavia, El-Salvador, Trinadad&amp;Tobago, Peru, Hong, Holand-Netherlands</td>\n",
       "    </tr>\n",
       "    <tr>\n",
       "      <th>14</th>\n",
       "      <td>income_level</td>\n",
       "      <td>string</td>\n",
       "      <td>Predictor class if individual earns greater or less than $50000 per year. Values: &lt;=50K, &gt;50K</td>\n",
       "    </tr>\n",
       "  </tbody>\n",
       "</table>\n",
       "</div>"
      ],
      "text/plain": [
       "              name     type  \\\n",
       "0   age             integer   \n",
       "1   workclass       string    \n",
       "2   fnlwgt          float     \n",
       "3   education       string    \n",
       "4   education_num   integer   \n",
       "5   marital_status  string    \n",
       "6   occupation      string    \n",
       "7   relationship    string    \n",
       "8   race            string    \n",
       "9   sex             string    \n",
       "10  capital_gain    float     \n",
       "11  capital_loss    float     \n",
       "12  hours_per_week  float     \n",
       "13  native_country  string    \n",
       "14  income_level    string    \n",
       "\n",
       "                                                                                                                                                                                                                                                                                                                                                                                                                               description  \n",
       "0   age of individual                                                                                                                                                                                                                                                                                                                                                                                                                       \n",
       "1   Values: Private, Self-emp-not-inc, Self-emp-inc, Federal-gov, Local-gov, State-gov, Without-pay, Never-worked                                                                                                                                                                                                                                                                                                                           \n",
       "2   Final sampling weight. Inverse of sampling fraction adjusted for non-response and over or under sampling of particular groups                                                                                                                                                                                                                                                                                                           \n",
       "3   Values: Bachelors, Some-college, 11th, HS-grad, Prof-school, Assoc-acdm, Assoc-voc, 9th, 7th-8th, 12th, Masters, 1st-4th, 10th, Doctorate, 5th-6th, Preschool                                                                                                                                                                                                                                                                           \n",
       "4   NaN                                                                                                                                                                                                                                                                                                                                                                                                                                     \n",
       "5   Values: Married-civ-spouse, Divorced, Never-married, Separated, Widowed, Married-spouse-absent, Married-AF-spouse                                                                                                                                                                                                                                                                                                                       \n",
       "6   Values: Tech-support, Craft-repair, Other-service, Sales, Exec-managerial, Prof-specialty, Handlers-cleaners, Machine-op-inspct, Adm-clerical, Farming-fishing, Transport-moving, Priv-house-serv, Protective-serv, Armed-Forces                                                                                                                                                                                                        \n",
       "7   Values: Wife, Own-child, Husband, Not-in-family, Other-relative, Unmarried                                                                                                                                                                                                                                                                                                                                                              \n",
       "8   Values: White, Asian-Pac-Islander, Amer-Indian-Eskimo, Other, Black                                                                                                                                                                                                                                                                                                                                                                     \n",
       "9   Values: Female, Male                                                                                                                                                                                                                                                                                                                                                                                                                    \n",
       "10  NaN                                                                                                                                                                                                                                                                                                                                                                                                                                     \n",
       "11  NaN                                                                                                                                                                                                                                                                                                                                                                                                                                     \n",
       "12  working hours per week                                                                                                                                                                                                                                                                                                                                                                                                                  \n",
       "13  Values: United-States, Cambodia, England, Puerto-Rico, Canada, Germany, Outlying-US(Guam-USVI-etc), India, Japan, Greece, South, China, Cuba, Iran, Honduras, Philippines, Italy, Poland, Jamaica, Vietnam, Mexico, Portugal, Ireland, France, Dominican-Republic, Laos, Ecuador, Taiwan, Haiti, Columbia, Hungary, Guatemala, Nicaragua, Scotland, Thailand, Yugoslavia, El-Salvador, Trinadad&Tobago, Peru, Hong, Holand-Netherlands  \n",
       "14  Predictor class if individual earns greater or less than $50000 per year. Values: <=50K, >50K                                                                                                                                                                                                                                                                                                                                           "
      ]
     },
     "execution_count": 69,
     "metadata": {},
     "output_type": "execute_result"
    }
   ],
   "source": [
    "pd.set_option('display.max_colwidth', -1)\n",
    "descr = pd.read_csv('attributes_census_income.csv')\n",
    "descr"
   ]
  },
  {
   "cell_type": "markdown",
   "id": "21668f4a",
   "metadata": {},
   "source": [
    "#### Podział zbioru na treningowy i walidacyjny "
   ]
  },
  {
   "cell_type": "code",
   "execution_count": 70,
   "id": "b39ab1a6",
   "metadata": {},
   "outputs": [],
   "source": [
    "#Wyróżnienie zbioru, na którym będziemy pracować i zbiory do walidacji\n",
    "census_df_build, census_df_valid = sklearn.model_selection.train_test_split(\n",
    "    census_df,\n",
    "    test_size=0.30, random_state=100, stratify=census_df['income_level'])\n",
    "\n",
    "census_df, census_df_test = sklearn.model_selection.train_test_split(\n",
    "    census_df,\n",
    "    test_size=0.30, random_state=100, stratify=census_df['income_level'])"
   ]
  },
  {
   "cell_type": "code",
   "execution_count": 71,
   "id": "435360a3",
   "metadata": {},
   "outputs": [],
   "source": [
    "# census_df[\"income_level\"].value_counts()/np.shape(census_df)[0]"
   ]
  },
  {
   "cell_type": "code",
   "execution_count": 72,
   "id": "13624b55",
   "metadata": {},
   "outputs": [],
   "source": [
    "# census_df_test[\"income_level\"].value_counts()/np.shape(census_df_test)[0]"
   ]
  },
  {
   "cell_type": "markdown",
   "id": "a7a7d0e2",
   "metadata": {},
   "source": [
    "## Ekspoloracja  i preprocessing danych"
   ]
  },
  {
   "cell_type": "markdown",
   "id": "cf68c5cd",
   "metadata": {},
   "source": [
    "***Analiza braków danych***"
   ]
  },
  {
   "cell_type": "code",
   "execution_count": 73,
   "id": "8ebb0b18",
   "metadata": {},
   "outputs": [
    {
     "name": "stdout",
     "output_type": "stream",
     "text": [
      "<class 'pandas.core.frame.DataFrame'>\n",
      "Int64Index: 34189 entries, 9276 to 43599\n",
      "Data columns (total 15 columns):\n",
      " #   Column          Non-Null Count  Dtype  \n",
      "---  ------          --------------  -----  \n",
      " 0   age             34189 non-null  int64  \n",
      " 1   workclass       34189 non-null  object \n",
      " 2   fnlwgt          34189 non-null  float64\n",
      " 3   education       34189 non-null  object \n",
      " 4   education_num   34189 non-null  int64  \n",
      " 5   marital_status  34189 non-null  object \n",
      " 6   occupation      34189 non-null  object \n",
      " 7   relationship    34189 non-null  object \n",
      " 8   race            34189 non-null  object \n",
      " 9   sex             34189 non-null  object \n",
      " 10  capital_gain    34189 non-null  float64\n",
      " 11  capital_loss    34189 non-null  float64\n",
      " 12  hours_per_week  34189 non-null  float64\n",
      " 13  native_country  34189 non-null  object \n",
      " 14  income_level    34189 non-null  object \n",
      "dtypes: float64(4), int64(2), object(9)\n",
      "memory usage: 4.2+ MB\n"
     ]
    }
   ],
   "source": [
    "census_df.info()"
   ]
  },
  {
   "cell_type": "markdown",
   "id": "00829cfe",
   "metadata": {},
   "source": [
    "W ramce danych nie wystąpują wartości None/Null. Z opisu ramki wiemy, że takowe braki, jeśli występują, są zakodowane odpowiednimi wartościami w kolumnach:  **?** dla danych nominalnych oraz **-100000** dla numerycznych. Sprawdźmy, ile rekordów z takimi wartościami występują w ramce."
   ]
  },
  {
   "cell_type": "code",
   "execution_count": 74,
   "id": "40314750",
   "metadata": {},
   "outputs": [
    {
     "data": {
      "text/plain": [
       "age               0\n",
       "workclass         0\n",
       "fnlwgt            0\n",
       "education         0\n",
       "education_num     0\n",
       "marital_status    0\n",
       "occupation        0\n",
       "relationship      0\n",
       "race              0\n",
       "sex               0\n",
       "capital_gain      0\n",
       "capital_loss      0\n",
       "hours_per_week    0\n",
       "native_country    0\n",
       "income_level      0\n",
       "dtype: int64"
      ]
     },
     "execution_count": 74,
     "metadata": {},
     "output_type": "execute_result"
    }
   ],
   "source": [
    "census_df[census_df == -100000].count()"
   ]
  },
  {
   "cell_type": "code",
   "execution_count": 75,
   "id": "5196310c",
   "metadata": {},
   "outputs": [
    {
     "data": {
      "text/plain": [
       "age               0   \n",
       "workclass         1976\n",
       "fnlwgt            0   \n",
       "education         0   \n",
       "education_num     0   \n",
       "marital_status    0   \n",
       "occupation        1984\n",
       "relationship      0   \n",
       "race              0   \n",
       "sex               0   \n",
       "capital_gain      0   \n",
       "capital_loss      0   \n",
       "hours_per_week    0   \n",
       "native_country    630 \n",
       "income_level      0   \n",
       "dtype: int64"
      ]
     },
     "execution_count": 75,
     "metadata": {},
     "output_type": "execute_result"
    }
   ],
   "source": [
    "census_df[census_df == \"?\"].count()"
   ]
  },
  {
   "cell_type": "markdown",
   "id": "5a23ce75",
   "metadata": {},
   "source": [
    "Okazuje się, że mamy braki w kolumnach `workclass`, `occupation` i `native_country`. Z czego dwie pierwsze kolumny w oczywisty sposób są powiązane, bo brak zawodu może automatycznie oznaczać brak klasy roboczej. Wartościami \"?\" stanowią klasę zmiennej kategorycznej i nie ma sensu tego zmieniać w inny sposób."
   ]
  },
  {
   "cell_type": "code",
   "execution_count": 76,
   "id": "b74528b0",
   "metadata": {},
   "outputs": [
    {
     "data": {
      "text/plain": [
       "True"
      ]
     },
     "execution_count": 76,
     "metadata": {},
     "output_type": "execute_result"
    }
   ],
   "source": [
    "len(census_df[(census_df.occupation == \"?\") & (census_df.workclass == \"?\")]) == len(census_df[census_df.workclass == \"?\"]) "
   ]
  },
  {
   "cell_type": "code",
   "execution_count": 77,
   "id": "a682a3a0",
   "metadata": {},
   "outputs": [
    {
     "data": {
      "text/plain": [
       "8"
      ]
     },
     "execution_count": 77,
     "metadata": {},
     "output_type": "execute_result"
    }
   ],
   "source": [
    "len(census_df[(census_df.occupation == \"?\") & (census_df.workclass != \"?\")])"
   ]
  },
  {
   "cell_type": "code",
   "execution_count": 78,
   "id": "588b91fe",
   "metadata": {},
   "outputs": [
    {
     "data": {
      "text/plain": [
       "5.803036064231185"
      ]
     },
     "execution_count": 78,
     "metadata": {},
     "output_type": "execute_result"
    }
   ],
   "source": [
    "len(census_df[(census_df.occupation == \"?\") | (census_df.workclass == \"?\")])/len(census_df)*100"
   ]
  },
  {
   "cell_type": "markdown",
   "id": "e4172be1",
   "metadata": {},
   "source": [
    "Widać, że, jeśli w danych jest brak w kolumnie `occupation` to nie wiadomo także nic o `workclass`. Rekordów, w których znamy `workclass` ale nie znamy `occupation` jest bardzo niewiele. Rekordy zawierające braki danych w tych 2 kolumnach stanowią jedynie 5.8% danych, więc najlepszym rozwiązaniem wydaje nam się ich usunięcie."
   ]
  },
  {
   "cell_type": "code",
   "execution_count": 79,
   "id": "062b8b1a",
   "metadata": {},
   "outputs": [],
   "source": [
    "census_df.drop(census_df[(census_df.occupation == \"?\") | (census_df.workclass == \"?\")].index, inplace=True)"
   ]
  },
  {
   "cell_type": "markdown",
   "id": "1d3e2b40",
   "metadata": {},
   "source": [
    "Jeśli chodzi o kolumnę `workclass` to braki danych zostaną zgrupowanie do kategorii w dalszej części, gdyż uznaliśmy, że to najprawdopodobniej osoby z innych państw niż Stany Zjednoczone, gdyż raczej nie ma problemów z identyfikacją obywatela państwa, w kótrym został przeprowadzony spis. "
   ]
  },
  {
   "cell_type": "markdown",
   "id": "354bcd69",
   "metadata": {},
   "source": [
    "##### Średnia, wartości minimalne itd. \n",
    "Warto sprawdzić jaka jest średnia, odchylenie standardowe, wartość minimalna, maksymalna oraz kwartyle danych w poszczególnych kolumnach."
   ]
  },
  {
   "cell_type": "code",
   "execution_count": 80,
   "id": "b8129c66",
   "metadata": {},
   "outputs": [
    {
     "data": {
      "text/html": [
       "<div>\n",
       "<style scoped>\n",
       "    .dataframe tbody tr th:only-of-type {\n",
       "        vertical-align: middle;\n",
       "    }\n",
       "\n",
       "    .dataframe tbody tr th {\n",
       "        vertical-align: top;\n",
       "    }\n",
       "\n",
       "    .dataframe thead th {\n",
       "        text-align: right;\n",
       "    }\n",
       "</style>\n",
       "<table border=\"1\" class=\"dataframe\">\n",
       "  <thead>\n",
       "    <tr style=\"text-align: right;\">\n",
       "      <th></th>\n",
       "      <th>age</th>\n",
       "      <th>fnlwgt</th>\n",
       "      <th>education_num</th>\n",
       "      <th>capital_gain</th>\n",
       "      <th>capital_loss</th>\n",
       "      <th>hours_per_week</th>\n",
       "    </tr>\n",
       "  </thead>\n",
       "  <tbody>\n",
       "    <tr>\n",
       "      <th>count</th>\n",
       "      <td>32205.000000</td>\n",
       "      <td>3.220500e+04</td>\n",
       "      <td>32205.000000</td>\n",
       "      <td>32205.000000</td>\n",
       "      <td>32205.000000</td>\n",
       "      <td>32205.000000</td>\n",
       "    </tr>\n",
       "    <tr>\n",
       "      <th>mean</th>\n",
       "      <td>38.550598</td>\n",
       "      <td>1.897880e+05</td>\n",
       "      <td>10.126502</td>\n",
       "      <td>1110.036175</td>\n",
       "      <td>89.566185</td>\n",
       "      <td>40.919422</td>\n",
       "    </tr>\n",
       "    <tr>\n",
       "      <th>std</th>\n",
       "      <td>13.210356</td>\n",
       "      <td>1.046987e+05</td>\n",
       "      <td>2.571416</td>\n",
       "      <td>7579.594977</td>\n",
       "      <td>407.690303</td>\n",
       "      <td>11.997329</td>\n",
       "    </tr>\n",
       "    <tr>\n",
       "      <th>min</th>\n",
       "      <td>17.000000</td>\n",
       "      <td>1.349200e+04</td>\n",
       "      <td>1.000000</td>\n",
       "      <td>0.000000</td>\n",
       "      <td>0.000000</td>\n",
       "      <td>1.000000</td>\n",
       "    </tr>\n",
       "    <tr>\n",
       "      <th>25%</th>\n",
       "      <td>28.000000</td>\n",
       "      <td>1.177890e+05</td>\n",
       "      <td>9.000000</td>\n",
       "      <td>0.000000</td>\n",
       "      <td>0.000000</td>\n",
       "      <td>40.000000</td>\n",
       "    </tr>\n",
       "    <tr>\n",
       "      <th>50%</th>\n",
       "      <td>37.000000</td>\n",
       "      <td>1.784490e+05</td>\n",
       "      <td>10.000000</td>\n",
       "      <td>0.000000</td>\n",
       "      <td>0.000000</td>\n",
       "      <td>40.000000</td>\n",
       "    </tr>\n",
       "    <tr>\n",
       "      <th>75%</th>\n",
       "      <td>47.000000</td>\n",
       "      <td>2.374660e+05</td>\n",
       "      <td>13.000000</td>\n",
       "      <td>0.000000</td>\n",
       "      <td>0.000000</td>\n",
       "      <td>45.000000</td>\n",
       "    </tr>\n",
       "    <tr>\n",
       "      <th>max</th>\n",
       "      <td>90.000000</td>\n",
       "      <td>1.490400e+06</td>\n",
       "      <td>16.000000</td>\n",
       "      <td>99999.000000</td>\n",
       "      <td>4356.000000</td>\n",
       "      <td>99.000000</td>\n",
       "    </tr>\n",
       "  </tbody>\n",
       "</table>\n",
       "</div>"
      ],
      "text/plain": [
       "                age        fnlwgt  education_num  capital_gain  capital_loss  \\\n",
       "count  32205.000000  3.220500e+04  32205.000000   32205.000000  32205.000000   \n",
       "mean   38.550598     1.897880e+05  10.126502      1110.036175   89.566185      \n",
       "std    13.210356     1.046987e+05  2.571416       7579.594977   407.690303     \n",
       "min    17.000000     1.349200e+04  1.000000       0.000000      0.000000       \n",
       "25%    28.000000     1.177890e+05  9.000000       0.000000      0.000000       \n",
       "50%    37.000000     1.784490e+05  10.000000      0.000000      0.000000       \n",
       "75%    47.000000     2.374660e+05  13.000000      0.000000      0.000000       \n",
       "max    90.000000     1.490400e+06  16.000000      99999.000000  4356.000000    \n",
       "\n",
       "       hours_per_week  \n",
       "count  32205.000000    \n",
       "mean   40.919422       \n",
       "std    11.997329       \n",
       "min    1.000000        \n",
       "25%    40.000000       \n",
       "50%    40.000000       \n",
       "75%    45.000000       \n",
       "max    99.000000       "
      ]
     },
     "execution_count": 80,
     "metadata": {},
     "output_type": "execute_result"
    }
   ],
   "source": [
    "census_df.describe()"
   ]
  },
  {
   "cell_type": "markdown",
   "id": "ad38cc38",
   "metadata": {},
   "source": [
    "Już dzięki temu zestawieniu możemy powiedzieć coś o danych. Można stwierdzić, że dużo osób pracuje 40 godzin tygodniowo. Porównując średnie z wartościami minimalnymi i maskymalnymi dla kolumny `capital_gain` i `capital_loss` można stwierdzić, że wartości są bardzo rozchwiane i występują obserwacje odstające. Przyjrzyjmy sie histogramom. "
   ]
  },
  {
   "cell_type": "markdown",
   "id": "15d9d6fc",
   "metadata": {},
   "source": [
    "***Rozkłady zmiennych***\n"
   ]
  },
  {
   "cell_type": "code",
   "execution_count": 81,
   "id": "b5b36400",
   "metadata": {},
   "outputs": [
    {
     "data": {
      "image/png": "[encoded data removed]",
      "text/plain": [
       "<Figure size 1080x1440 with 6 Axes>"
      ]
     },
     "metadata": {
      "needs_background": "light"
     },
     "output_type": "display_data"
    }
   ],
   "source": [
    "census_df.hist(figsize=(15, 20), bins=40)\n",
    "plt.show()"
   ]
  },
  {
   "cell_type": "markdown",
   "id": "02d2c495",
   "metadata": {},
   "source": [
    "Wspomniane wcześniej wnioski się potwirerdzają. Najwięcej osób pracuje 40 godzin tygodniowo, choć znajdują się osobu pracujące powyżej 80. Kolumny `capital_gain` i `capital_loss` wyglądają niekorzytsnie, gdyż mają przeważającą liczbę obserwacji zerowych. Wiek ma dosyć regularny rozkład, ale bardziej skośny prawostronnie, czyli w stronę osób młodszych. Wydaje się też, że dane zostały ucięte na wieku 90 lat. Jak wynika z opisu, kolumna `fnlwgt` jest parametrem, który ma oddawać wagę danego rekordu. Oznacza to więc, że nie będzie miała znaczenia dla oceny zarobków i można ją usunąć. Z kolei zmienna `education_num` wydaje się być zmienną kategoryczną. "
   ]
  },
  {
   "cell_type": "code",
   "execution_count": 82,
   "id": "2dd793e9",
   "metadata": {},
   "outputs": [],
   "source": [
    "census_df.drop(\"fnlwgt\", axis=1, inplace=True)"
   ]
  },
  {
   "cell_type": "code",
   "execution_count": 83,
   "id": "710c232d",
   "metadata": {},
   "outputs": [
    {
     "data": {
      "text/html": [
       "<div>\n",
       "<style scoped>\n",
       "    .dataframe tbody tr th:only-of-type {\n",
       "        vertical-align: middle;\n",
       "    }\n",
       "\n",
       "    .dataframe tbody tr th {\n",
       "        vertical-align: top;\n",
       "    }\n",
       "\n",
       "    .dataframe thead th {\n",
       "        text-align: right;\n",
       "    }\n",
       "</style>\n",
       "<table border=\"1\" class=\"dataframe\">\n",
       "  <thead>\n",
       "    <tr style=\"text-align: right;\">\n",
       "      <th></th>\n",
       "      <th>education</th>\n",
       "      <th>education_num</th>\n",
       "      <th>counts</th>\n",
       "    </tr>\n",
       "  </thead>\n",
       "  <tbody>\n",
       "    <tr>\n",
       "      <th>13</th>\n",
       "      <td>Preschool</td>\n",
       "      <td>1</td>\n",
       "      <td>51</td>\n",
       "    </tr>\n",
       "    <tr>\n",
       "      <th>3</th>\n",
       "      <td>1st-4th</td>\n",
       "      <td>2</td>\n",
       "      <td>166</td>\n",
       "    </tr>\n",
       "    <tr>\n",
       "      <th>4</th>\n",
       "      <td>5th-6th</td>\n",
       "      <td>3</td>\n",
       "      <td>336</td>\n",
       "    </tr>\n",
       "    <tr>\n",
       "      <th>5</th>\n",
       "      <td>7th-8th</td>\n",
       "      <td>4</td>\n",
       "      <td>590</td>\n",
       "    </tr>\n",
       "    <tr>\n",
       "      <th>6</th>\n",
       "      <td>9th</td>\n",
       "      <td>5</td>\n",
       "      <td>494</td>\n",
       "    </tr>\n",
       "    <tr>\n",
       "      <th>0</th>\n",
       "      <td>10th</td>\n",
       "      <td>6</td>\n",
       "      <td>851</td>\n",
       "    </tr>\n",
       "    <tr>\n",
       "      <th>1</th>\n",
       "      <td>11th</td>\n",
       "      <td>7</td>\n",
       "      <td>1156</td>\n",
       "    </tr>\n",
       "    <tr>\n",
       "      <th>2</th>\n",
       "      <td>12th</td>\n",
       "      <td>8</td>\n",
       "      <td>413</td>\n",
       "    </tr>\n",
       "    <tr>\n",
       "      <th>11</th>\n",
       "      <td>HS-grad</td>\n",
       "      <td>9</td>\n",
       "      <td>10460</td>\n",
       "    </tr>\n",
       "    <tr>\n",
       "      <th>15</th>\n",
       "      <td>Some-college</td>\n",
       "      <td>10</td>\n",
       "      <td>6996</td>\n",
       "    </tr>\n",
       "    <tr>\n",
       "      <th>8</th>\n",
       "      <td>Assoc-voc</td>\n",
       "      <td>11</td>\n",
       "      <td>1402</td>\n",
       "    </tr>\n",
       "    <tr>\n",
       "      <th>7</th>\n",
       "      <td>Assoc-acdm</td>\n",
       "      <td>12</td>\n",
       "      <td>1071</td>\n",
       "    </tr>\n",
       "    <tr>\n",
       "      <th>9</th>\n",
       "      <td>Bachelors</td>\n",
       "      <td>13</td>\n",
       "      <td>5425</td>\n",
       "    </tr>\n",
       "    <tr>\n",
       "      <th>12</th>\n",
       "      <td>Masters</td>\n",
       "      <td>14</td>\n",
       "      <td>1820</td>\n",
       "    </tr>\n",
       "    <tr>\n",
       "      <th>14</th>\n",
       "      <td>Prof-school</td>\n",
       "      <td>15</td>\n",
       "      <td>562</td>\n",
       "    </tr>\n",
       "    <tr>\n",
       "      <th>10</th>\n",
       "      <td>Doctorate</td>\n",
       "      <td>16</td>\n",
       "      <td>412</td>\n",
       "    </tr>\n",
       "  </tbody>\n",
       "</table>\n",
       "</div>"
      ],
      "text/plain": [
       "       education  education_num  counts\n",
       "13  Preschool     1              51    \n",
       "3   1st-4th       2              166   \n",
       "4   5th-6th       3              336   \n",
       "5   7th-8th       4              590   \n",
       "6   9th           5              494   \n",
       "0   10th          6              851   \n",
       "1   11th          7              1156  \n",
       "2   12th          8              413   \n",
       "11  HS-grad       9              10460 \n",
       "15  Some-college  10             6996  \n",
       "8   Assoc-voc     11             1402  \n",
       "7   Assoc-acdm    12             1071  \n",
       "9   Bachelors     13             5425  \n",
       "12  Masters       14             1820  \n",
       "14  Prof-school   15             562   \n",
       "10  Doctorate     16             412   "
      ]
     },
     "execution_count": 83,
     "metadata": {},
     "output_type": "execute_result"
    }
   ],
   "source": [
    "census_df[['education', 'education_num', 'age']].groupby(['education', 'education_num']).size().reset_index(name='counts').sort_values(by = \"education_num\")"
   ]
  },
  {
   "cell_type": "markdown",
   "id": "06384cba",
   "metadata": {},
   "source": [
    "Z zsumowania rekordów zawierających unikalne pary `education` + `education_num` wynika, że ta druga kolumna jest tylko numerycznym zakodowaniem kolumny opisującej osiągnięty etap edukacji z zachowaniem porządku, zatem kolumna `education` nie będzie niezbędna w dalszej predykcji, dlatego możemy ją usunąć."
   ]
  },
  {
   "cell_type": "code",
   "execution_count": 84,
   "id": "d7a99136",
   "metadata": {},
   "outputs": [],
   "source": [
    "census_df.drop(\"education\", axis=1, inplace=True)"
   ]
  },
  {
   "cell_type": "markdown",
   "id": "82143507",
   "metadata": {},
   "source": [
    "Zamiana wartości ostatniej kolumny:\n",
    "* z <=50K na 0\n",
    "* z >50K na 1\n",
    "\n",
    "ponieważ łatwiej pracuje się ze zmiennymi numerycznymi"
   ]
  },
  {
   "cell_type": "code",
   "execution_count": 85,
   "id": "f9df4286",
   "metadata": {},
   "outputs": [],
   "source": [
    "census_df['income_level'] = census_df['income_level'].replace(['<=50K','>50K'],[0, 1])"
   ]
  },
  {
   "cell_type": "markdown",
   "id": "ccf0dc1a",
   "metadata": {},
   "source": [
    "##### Korelacje"
   ]
  },
  {
   "cell_type": "code",
   "execution_count": 86,
   "id": "0f4cf796",
   "metadata": {},
   "outputs": [
    {
     "data": {
      "image/png": "[encoded data removed]",
      "text/plain": [
       "<Figure size 1332x432 with 4 Axes>"
      ]
     },
     "metadata": {
      "needs_background": "light"
     },
     "output_type": "display_data"
    }
   ],
   "source": [
    "fig, (ax1, ax2) = plt.subplots(1,2)\n",
    "heatmap = sns.heatmap(census_df.corr(method = 'spearman'), annot=True, vmin=-1, vmax=1, cmap=\"RdBu_r\", ax=ax1)\n",
    "heatmap = sns.heatmap(census_df.corr(method = 'pearson'), annot=True, vmin=-1, vmax=1, cmap=\"RdBu_r\", ax=ax2)\n",
    "ax1.set_title(\"Korelacje Spearmana\")\n",
    "ax2.set_title(\"Korelacje Pearsona\")\n",
    "fig.set_size_inches(18.5, 6)\n",
    "plt.show()"
   ]
  },
  {
   "cell_type": "markdown",
   "id": "0a656ae4",
   "metadata": {},
   "source": [
    "Interesuje nas jak zmienne korelują ze zmienną `income_level`, ponieważ właśnie ją będziemy przewidywać. Widać, że wszystkie korelują z nią dodatnio. \n",
    "\n",
    "Zarówno dla korelacji Spearmana, jak i Pearsona widać, że zmienne korelują ze sobą dość słabo. Najsilniejsza widać między `education_num` a `income_level`, co wskazuje na to, że ta zmienna ma największy wpływ na naszą zmienną przewidywaną. \n",
    "\n",
    "Z analizy korelacji Spearmana widać, że istnieje także dośc słaba korelacja liniowa między `income_level` a wiekiem, zyskiem kapitałowym oraz czasem pracy w ciągu tygodnia. \n",
    "\n",
    "Pozostałe zmienne korelują między sobą bardzo słabo. "
   ]
  },
  {
   "cell_type": "code",
   "execution_count": 87,
   "id": "365fbd07",
   "metadata": {},
   "outputs": [
    {
     "data": {
      "text/plain": [
       "0    24211\n",
       "1    7994 \n",
       "Name: income_level, dtype: int64"
      ]
     },
     "execution_count": 87,
     "metadata": {},
     "output_type": "execute_result"
    }
   ],
   "source": [
    "census_df['income_level'].value_counts()"
   ]
  },
  {
   "cell_type": "markdown",
   "id": "94b31bae",
   "metadata": {},
   "source": [
    "Dodatkowo warto wiedzieć, że znacznie mniej osób zarabia powyżej progu 50K$. Teraz przyjrzyjmy sie rozkładom zmiennych typowo ciągłych z uwzględnieniem poziomu zarobków."
   ]
  },
  {
   "cell_type": "markdown",
   "id": "f2952b56",
   "metadata": {},
   "source": [
    "***Wiek***"
   ]
  },
  {
   "cell_type": "code",
   "execution_count": 88,
   "id": "8474eb2f",
   "metadata": {},
   "outputs": [
    {
     "data": {
      "image/png": "[encoded data removed]",
      "text/plain": [
       "<Figure size 432x288 with 1 Axes>"
      ]
     },
     "metadata": {
      "needs_background": "light"
     },
     "output_type": "display_data"
    }
   ],
   "source": [
    "sns.violinplot(y = census_df['age'], x = census_df['income_level'], palette=[\"red\", \"green\"], scale = \"count\")\n",
    "plt.show()"
   ]
  },
  {
   "cell_type": "markdown",
   "id": "6428063d",
   "metadata": {},
   "source": [
    "Z rozkładu zmiennej `age` z uwzględnieniem podziału na poziom zarobków, można stwierdzić, że wśród osobów zarabiających lepiej, rozkład przesuwa się w stronę osób starszych.\n",
    "\n",
    "Podzielmy tę zmienną na kategorie po decylach, oznaczając każdą kategorię jako numer oznaczający, w którym decylu się znalazła dana wartość."
   ]
  },
  {
   "cell_type": "code",
   "execution_count": 89,
   "id": "9b423b90",
   "metadata": {},
   "outputs": [
    {
     "data": {
      "text/plain": [
       "Series([], Name: age, dtype: category\n",
       "Categories (10, int64): [1 < 2 < 3 < 4 ... 7 < 8 < 9 < 10])"
      ]
     },
     "execution_count": 89,
     "metadata": {},
     "output_type": "execute_result"
    }
   ],
   "source": [
    "tmp = pd.qcut(census_df['age'], 10, labels=[1, 2, 3, 4, 5, 6, 7, 8, 9, 10])\n",
    "tmp[tmp.isna()] #sprawdzenie czy w ten sposób nie powstaną jakieś braki danych"
   ]
  },
  {
   "cell_type": "code",
   "execution_count": 90,
   "id": "6d4076f0",
   "metadata": {},
   "outputs": [],
   "source": [
    "census_df['age'] = pd.qcut(census_df['age'], 10, labels=[1, 2, 3, 4, 5, 6, 7, 8, 9, 10])"
   ]
  },
  {
   "cell_type": "markdown",
   "id": "ce68db5c",
   "metadata": {},
   "source": [
    "***Przepracowane godziny w tygodniu***"
   ]
  },
  {
   "cell_type": "code",
   "execution_count": 91,
   "id": "1c1ceb9b",
   "metadata": {},
   "outputs": [
    {
     "data": {
      "text/plain": [
       "<AxesSubplot:xlabel='income_level', ylabel='hours_per_week'>"
      ]
     },
     "execution_count": 91,
     "metadata": {},
     "output_type": "execute_result"
    },
    {
     "data": {
      "image/png": "[encoded data removed]",
      "text/plain": [
       "<Figure size 432x288 with 1 Axes>"
      ]
     },
     "metadata": {
      "needs_background": "light"
     },
     "output_type": "display_data"
    }
   ],
   "source": [
    "sns.violinplot(y = census_df['hours_per_week'], x = census_df['income_level'], palette = ['red', 'green'], scale = \"count\")"
   ]
  },
  {
   "cell_type": "markdown",
   "id": "37a866de",
   "metadata": {},
   "source": [
    "Dzięki zachowaniu skali ilości na wykresach można zauważyć tendecję, że osoby które pracują więcej, zarabiają lepiej. Świadczy o tym skupienie prawie wszystkich obserwacji powyżej poziomu 35h dla poziomu 1, podczas, gdy dla poziomu 0 widać duży peak w okolicach 40, ale dużą liczbę obserwacji poniżej tej wartości. Tę zmienną również możemy zmienić na kategoryczną, przy czym nie sprawdzi się tu dzielenie nawet na tercyle, ponieważ wartości w okolicahc 40 jest tak dużo. Zatem propunujemy następujący podział:\n",
    "* *1* --- 0-35 godzin\n",
    "* *2* --- 36-45 godzin\n",
    "* *3* --- 46-inf godzin"
   ]
  },
  {
   "cell_type": "code",
   "execution_count": 92,
   "id": "4b72d04c",
   "metadata": {},
   "outputs": [
    {
     "data": {
      "text/plain": [
       "Series([], Name: hours_per_week, dtype: category\n",
       "Categories (3, int64): [1 < 2 < 3])"
      ]
     },
     "execution_count": 92,
     "metadata": {},
     "output_type": "execute_result"
    }
   ],
   "source": [
    "tmp = pd.cut(census_df['hours_per_week'], bins=[0, 35, 45, np.inf], labels=[1, 2, 3])\n",
    "tmp[tmp.isna()] #sprawdzenie czy w ten sposób nie powstaną jakieś braki danych"
   ]
  },
  {
   "cell_type": "code",
   "execution_count": 93,
   "id": "77aec298",
   "metadata": {},
   "outputs": [],
   "source": [
    "census_df['hours_per_week'] = pd.cut(census_df['hours_per_week'], bins=[0, 35, 45, np.inf], labels=[1, 2, 3])"
   ]
  },
  {
   "cell_type": "markdown",
   "id": "c7eb3cd8",
   "metadata": {},
   "source": [
    "##### Zyski i straty kapitałowe\n",
    "Jako, że zmienne `capital_gain` i `capital_loss` także są typowo ciągłe, żeby uwzględnić ich rozkłady pozbędziemy się najpierw obserwacji, dla których wartości powyższych kolumn są zerowe, ponieważ wartości tych jest bardzo dużo."
   ]
  },
  {
   "cell_type": "code",
   "execution_count": 94,
   "id": "6e672a1e",
   "metadata": {},
   "outputs": [
    {
     "data": {
      "image/png": "[encoded data removed]",
      "text/plain": [
       "<Figure size 432x288 with 1 Axes>"
      ]
     },
     "metadata": {
      "needs_background": "light"
     },
     "output_type": "display_data"
    }
   ],
   "source": [
    "df = census_df[census_df['capital_gain'] > 0]\n",
    "sns.violinplot(y = df['capital_gain'], x = df['income_level'], palette = ['red', 'green'], scale = \"count\")\n",
    "plt.show()"
   ]
  },
  {
   "cell_type": "markdown",
   "id": "3b9ec1dd",
   "metadata": {},
   "source": [
    "Zobaczmy jeszcze jak to dokładniej wygląda na histogramach:"
   ]
  },
  {
   "cell_type": "code",
   "execution_count": 95,
   "id": "7d2671b6",
   "metadata": {},
   "outputs": [
    {
     "data": {
      "image/png": "[encoded data removed]",
      "text/plain": [
       "<Figure size 864x432 with 2 Axes>"
      ]
     },
     "metadata": {
      "needs_background": "light"
     },
     "output_type": "display_data"
    }
   ],
   "source": [
    "tmp = census_df.loc[(census_df['capital_gain']>0) & (census_df['income_level']==1)]\n",
    "tmp2 = census_df.loc[(census_df['capital_gain']>0) & (census_df['income_level']==0)]\n",
    "\n",
    "fig, axes = plt.subplots(1, 2)\n",
    "tmp['capital_gain'].hist(bins = 40, figsize = (12,6), ax=axes[0], color = 'green')\n",
    "tmp2['capital_gain'].hist(bins = 40, figsize = (12,6), ax=axes[1], color = 'red')\n",
    "plt.ylim((0,1000))\n",
    "plt.show()"
   ]
  },
  {
   "cell_type": "markdown",
   "id": "dd9cd5e6",
   "metadata": {},
   "source": [
    "Widać, że w przypadku zmiennej `capital_gain` więcej osób, które mają przychód >50 000 \\\\$ osiąga zysk na poziomie 0-20 000\\\\$. Wydaje się też, że dane zostały ucięte dla wartości powyżej 100 000\\\\$. Dla osób w grupie o niższych przychodach widać, że wartości zysku nie przekraczają wartości 50 000\\\\$, ponieważ to wlicza się do ogólnego przychodu. Aby to było możliwe ktoś musiałby usyskać dużą staratę kapitałową, ponieważ przychód liczony jest jako *capital_gain* - *capital_loss* + salary\n",
    "\n",
    "Tę kolumnę również zmienimy na zmienną kategoryczną, przy czym zauważyliśmy, że występuje bardzo dużo zerowych wartości, więc warto je zgupować jako osobną kategorię, oznaczoną jako *0*. Pozostałe wiersze zostaną podzielone po kwintylach. "
   ]
  },
  {
   "cell_type": "code",
   "execution_count": 96,
   "id": "1421bbc6",
   "metadata": {},
   "outputs": [
    {
     "data": {
      "text/plain": [
       "[114.0, 3137.0, 5013.0, 7688.0, 15024.0, 99999.0]"
      ]
     },
     "execution_count": 96,
     "metadata": {},
     "output_type": "execute_result"
    }
   ],
   "source": [
    "tmp = census_df.loc[(census_df['capital_gain']>0)]\n",
    "res, bins = pd.qcut(tmp['capital_gain'], 5, labels=[1, 2, 3, 4, 5], retbins=True)\n",
    "bins.tolist()"
   ]
  },
  {
   "cell_type": "code",
   "execution_count": 97,
   "id": "807085a7",
   "metadata": {},
   "outputs": [
    {
     "data": {
      "text/plain": [
       "Series([], Name: capital_gain, dtype: category\n",
       "Categories (6, int64): [0 < 1 < 2 < 3 < 4 < 5])"
      ]
     },
     "execution_count": 97,
     "metadata": {},
     "output_type": "execute_result"
    }
   ],
   "source": [
    "tmp = pd.cut(census_df['capital_gain'], bins=[-1, 114.0, 3103.0, 5013.0, 7688.0, 15024.0, np.inf], \n",
    "             labels=[0, 1, 2, 3, 4, 5])\n",
    "tmp[tmp.isna()] #sprawdzenie czy w ten sposób nie powstaną jakieś braki danych"
   ]
  },
  {
   "cell_type": "code",
   "execution_count": 98,
   "id": "5889b0e9",
   "metadata": {},
   "outputs": [],
   "source": [
    "census_df['capital_gain'] = pd.cut(census_df['capital_gain'], bins=[-1, 114.0, 3103.0, 5013.0, 7688.0, 15024.0, np.inf], \n",
    "             labels=[0, 1, 2, 3, 4, 5])"
   ]
  },
  {
   "cell_type": "markdown",
   "id": "3d2121e2",
   "metadata": {},
   "source": [
    "`capital_loss`"
   ]
  },
  {
   "cell_type": "code",
   "execution_count": 99,
   "id": "22f049bb",
   "metadata": {},
   "outputs": [
    {
     "data": {
      "image/png": "[encoded data removed]",
      "text/plain": [
       "<Figure size 432x288 with 1 Axes>"
      ]
     },
     "metadata": {
      "needs_background": "light"
     },
     "output_type": "display_data"
    }
   ],
   "source": [
    "df = census_df[census_df['capital_loss'] > 0]\n",
    "sns.violinplot(y = df['capital_loss'], x = df['income_level'], palette = ['red', 'green'], scale = \"count\")\n",
    "plt.show()"
   ]
  },
  {
   "cell_type": "markdown",
   "id": "e4e79852",
   "metadata": {},
   "source": [
    "Zobaczmy jeszcze jak to dokładniej wygląda na histogramach:"
   ]
  },
  {
   "cell_type": "code",
   "execution_count": 100,
   "id": "d6a05b7b",
   "metadata": {},
   "outputs": [
    {
     "data": {
      "image/png": "[encoded data removed]",
      "text/plain": [
       "<Figure size 864x432 with 2 Axes>"
      ]
     },
     "metadata": {
      "needs_background": "light"
     },
     "output_type": "display_data"
    }
   ],
   "source": [
    "tmp = census_df.loc[(census_df['capital_loss']>0) & (census_df['income_level']==1)]\n",
    "tmp2 = census_df.loc[(census_df['capital_loss']>0) & (census_df['income_level']==0)]\n",
    "\n",
    "fig, axes = plt.subplots(1, 2)\n",
    "tmp['capital_loss'].hist(bins = 12, figsize = (12,6), ax=axes[0], color = 'green')\n",
    "tmp2['capital_loss'].hist(bins = 12, figsize = (12,6), ax=axes[1], color = 'red')\n",
    "plt.ylim((0,625))\n",
    "plt.show()"
   ]
  },
  {
   "cell_type": "markdown",
   "id": "b67ae5ec",
   "metadata": {},
   "source": [
    "`capital_loss` w przypadku obu grup osób nie przekracza 5000\\\\$ i najwięcej osób (oprócz tych dla których odnotowano zerową wartość tej zmiennej) osiąga straty kapitałowe w okolicy 2000\\\\$. Rozkłady są bardzo podobne, jednak dla osób, które odnotowały mniejszy dochód bardziej przesunięte w stronę mniejszych wartości, a dla drugiej grupy w stronę większych wartości.\n",
    "\n",
    "Tę zmienną również przekształcimy na kategoryczną, analogicznie jak `capital_gain`, czyli zerowe wartości jako osobną kategorię, oznaczoną jako *0*, a pozostałe wartości po kwintylach. "
   ]
  },
  {
   "cell_type": "code",
   "execution_count": 101,
   "id": "a7bb5379",
   "metadata": {},
   "outputs": [
    {
     "data": {
      "text/plain": [
       "[155.0, 1628.0, 1887.0, 1902.0, 2002.0, 4356.0]"
      ]
     },
     "execution_count": 101,
     "metadata": {},
     "output_type": "execute_result"
    }
   ],
   "source": [
    "tmp = census_df.loc[(census_df['capital_loss']>0)]\n",
    "res, bins = pd.qcut(tmp['capital_loss'], 5, labels=[1, 2, 3, 4, 5], retbins=True)\n",
    "bins.tolist()"
   ]
  },
  {
   "cell_type": "code",
   "execution_count": 102,
   "id": "b4e7aaee",
   "metadata": {},
   "outputs": [
    {
     "data": {
      "text/plain": [
       "Series([], Name: capital_loss, dtype: category\n",
       "Categories (6, int64): [0 < 1 < 2 < 3 < 4 < 5])"
      ]
     },
     "execution_count": 102,
     "metadata": {},
     "output_type": "execute_result"
    }
   ],
   "source": [
    "tmp = pd.cut(census_df['capital_loss'], bins=[-1, 155.0, 1619.2, 1887.0, 1902.0, 2002.0, np.inf], \n",
    "             labels=[0, 1, 2, 3, 4, 5])\n",
    "tmp[tmp.isna()] #sprawdzenie czy w ten sposób nie powstaną jakieś braki danych"
   ]
  },
  {
   "cell_type": "code",
   "execution_count": 103,
   "id": "1788a38c",
   "metadata": {},
   "outputs": [],
   "source": [
    "census_df['capital_loss'] = pd.cut(census_df['capital_loss'], bins=[-1, 155.0, 1619.2, 1887.0, 1902.0, 2002.0, np.inf], \n",
    "             labels=[0, 1, 2, 3, 4, 5])"
   ]
  },
  {
   "cell_type": "markdown",
   "id": "740e393a",
   "metadata": {},
   "source": [
    "***Kraj pochodzenia***\n",
    "\n",
    "Teraz przyjrzymy się zależnościom między zmiennymi kategorycznymi i zmienną poziomującą zarobki"
   ]
  },
  {
   "cell_type": "code",
   "execution_count": 104,
   "id": "d4a49136",
   "metadata": {},
   "outputs": [
    {
     "data": {
      "image/png": "[encoded data removed]",
      "text/plain": [
       "<Figure size 1440x720 with 1 Axes>"
      ]
     },
     "metadata": {
      "needs_background": "light"
     },
     "output_type": "display_data"
    }
   ],
   "source": [
    "plt.figure(figsize=(20, 10))\n",
    "plt.xticks(rotation = 90)\n",
    "df = census_df.groupby(['native_country']).size().reset_index(name='counts')\n",
    "plt.bar(x=\"native_country\", height=\"counts\", data=df);\n",
    "plt.show()"
   ]
  },
  {
   "cell_type": "markdown",
   "id": "0a5b66ea",
   "metadata": {},
   "source": [
    "Jako że przeważająca liczba osób ze zbioru pochodzi ze Stanów Zjednoczonych, dla efektywniejszego wyciągania wniosków lepiej będzie zbadać procentowy udział osób zarabiających na danym poziomie dla każdego z krajów, z którego pochodzą emigranci."
   ]
  },
  {
   "cell_type": "code",
   "execution_count": 105,
   "id": "787c0991",
   "metadata": {},
   "outputs": [
    {
     "data": {
      "image/png": "[encoded data removed]",
      "text/plain": [
       "<Figure size 1296x1296 with 1 Axes>"
      ]
     },
     "metadata": {
      "needs_background": "light"
     },
     "output_type": "display_data"
    }
   ],
   "source": [
    "df = census_df.groupby('native_country')[\"income_level\"].value_counts(normalize = True).unstack('income_level').sort_values(by = 1, ascending = False)\n",
    "df.plot.barh(stacked=True, figsize = (18, 18), color = ['#ff5b5c', 'green'])\n",
    "plt.show()"
   ]
  },
  {
   "cell_type": "markdown",
   "id": "7efb41bb",
   "metadata": {},
   "source": [
    "Widać, że wśród krajów, z których najmniejszy procent zarabia powyżej 50K to kraje Ameryki Środkowej. Po drugiej stronie przeważają z kolei kraje Europy i Azji. Można stwierdzić, że zależy to od rozwoju danych krajów. Jasne wydaje się, że dla osób pochodzących z tych bardziej rozwiniętych łatwiej jest o wyższe zarobki.\n",
    "\n",
    "W celu zredukowania klas można by pogupować te dane w zależności od uzyskowanego dochodu, szczególnie że emigrantów jest stosunkowo mało, więc raczej nie wpłynęłoby to znacząco na dokładność predykcji, a mogłoby przyspieszyć ten proces. Spróbujmy więc zastosować taką redukcję:"
   ]
  },
  {
   "cell_type": "code",
   "execution_count": 106,
   "id": "c01df824",
   "metadata": {},
   "outputs": [
    {
     "data": {
      "text/html": [
       "<div>\n",
       "<style scoped>\n",
       "    .dataframe tbody tr th:only-of-type {\n",
       "        vertical-align: middle;\n",
       "    }\n",
       "\n",
       "    .dataframe tbody tr th {\n",
       "        vertical-align: top;\n",
       "    }\n",
       "\n",
       "    .dataframe thead th {\n",
       "        text-align: right;\n",
       "    }\n",
       "</style>\n",
       "<table border=\"1\" class=\"dataframe\">\n",
       "  <thead>\n",
       "    <tr style=\"text-align: right;\">\n",
       "      <th></th>\n",
       "      <th>native_country</th>\n",
       "      <th>counts</th>\n",
       "    </tr>\n",
       "  </thead>\n",
       "  <tbody>\n",
       "    <tr>\n",
       "      <th>38</th>\n",
       "      <td>United-States</td>\n",
       "      <td>28889</td>\n",
       "    </tr>\n",
       "    <tr>\n",
       "      <th>25</th>\n",
       "      <td>Mexico</td>\n",
       "      <td>636</td>\n",
       "    </tr>\n",
       "    <tr>\n",
       "      <th>0</th>\n",
       "      <td>?</td>\n",
       "      <td>601</td>\n",
       "    </tr>\n",
       "    <tr>\n",
       "      <th>29</th>\n",
       "      <td>Philippines</td>\n",
       "      <td>193</td>\n",
       "    </tr>\n",
       "    <tr>\n",
       "      <th>11</th>\n",
       "      <td>Germany</td>\n",
       "      <td>142</td>\n",
       "    </tr>\n",
       "    <tr>\n",
       "      <th>32</th>\n",
       "      <td>Puerto-Rico</td>\n",
       "      <td>128</td>\n",
       "    </tr>\n",
       "    <tr>\n",
       "      <th>2</th>\n",
       "      <td>Canada</td>\n",
       "      <td>104</td>\n",
       "    </tr>\n",
       "    <tr>\n",
       "      <th>8</th>\n",
       "      <td>El-Salvador</td>\n",
       "      <td>101</td>\n",
       "    </tr>\n",
       "    <tr>\n",
       "      <th>18</th>\n",
       "      <td>India</td>\n",
       "      <td>101</td>\n",
       "    </tr>\n",
       "    <tr>\n",
       "      <th>5</th>\n",
       "      <td>Cuba</td>\n",
       "      <td>96</td>\n",
       "    </tr>\n",
       "  </tbody>\n",
       "</table>\n",
       "</div>"
      ],
      "text/plain": [
       "   native_country  counts\n",
       "38  United-States  28889 \n",
       "25  Mexico         636   \n",
       "0   ?              601   \n",
       "29  Philippines    193   \n",
       "11  Germany        142   \n",
       "32  Puerto-Rico    128   \n",
       "2   Canada         104   \n",
       "8   El-Salvador    101   \n",
       "18  India          101   \n",
       "5   Cuba           96    "
      ]
     },
     "execution_count": 106,
     "metadata": {},
     "output_type": "execute_result"
    }
   ],
   "source": [
    "census_df.groupby(['native_country']).size().reset_index(name='counts').sort_values(by = 'counts', ascending=False).head(10)"
   ]
  },
  {
   "cell_type": "markdown",
   "id": "dc3bea6c",
   "metadata": {},
   "source": [
    "Widać, że jedyne bardziej wyróżniające się jednostki to *United-States* oraz *Mexico*. W takim razie wszystkie inne (w tym braki danych) możemy uznać jako *Others*. Uznaliśmy, że braki danych to najprawdopodobniej osoby z innych państw niż Stany Zjednoczone, gdyż raczej nie ma problemów z identyfikacją obywatela państwa, w kótrym został przeprowadzony spis. "
   ]
  },
  {
   "cell_type": "code",
   "execution_count": 107,
   "id": "84c9e21c",
   "metadata": {},
   "outputs": [],
   "source": [
    "census_df.loc[(census_df.native_country != 'United-States') & (census_df.native_country != 'United-States'), 'native_country'] = \"Other\""
   ]
  },
  {
   "cell_type": "markdown",
   "id": "d0b58e71",
   "metadata": {},
   "source": [
    "***Wykształcenie***"
   ]
  },
  {
   "cell_type": "code",
   "execution_count": 108,
   "id": "3b57260b",
   "metadata": {},
   "outputs": [
    {
     "data": {
      "image/png": "[encoded data removed]",
      "text/plain": [
       "<Figure size 1080x576 with 1 Axes>"
      ]
     },
     "metadata": {
      "needs_background": "light"
     },
     "output_type": "display_data"
    }
   ],
   "source": [
    "plt.figure(figsize=(15,8))\n",
    "df = census_df.groupby(['education_num', 'income_level']).size().reset_index(name='counts')\n",
    "sns.barplot(x=\"education_num\", y=\"counts\", hue=\"income_level\", data=df, ci=None, palette=[\"red\", \"green\"]);\n",
    "plt.show()"
   ]
  },
  {
   "cell_type": "markdown",
   "id": "9c2fab28",
   "metadata": {},
   "source": [
    "Możemy zaobserwować, że najwięcej osób z naszej próbki ma wykształcenie średnie (9 - HS-grad) lub uczęszczali na studia ale nie zdobyli stopnia naukowego (10 - some college). Dużo jest także osób ze stopniem licencjackim (13 - Bachelor). Widać wyrażnie, że im wyższy poziom w naukowej drabince, tym osób zarabiających powyżej 50K jest coraz więcej w stosunku do tych zarabiających mniej. Dla stopni powyżej magistra (od 14 - Masters) osoby oznaczone numerem 1 przeważają. \n",
    "\n",
    "***Stan cywilny***"
   ]
  },
  {
   "cell_type": "code",
   "execution_count": 109,
   "id": "c010b9aa",
   "metadata": {},
   "outputs": [
    {
     "data": {
      "image/png": "[encoded data removed]",
      "text/plain": [
       "<Figure size 864x576 with 1 Axes>"
      ]
     },
     "metadata": {
      "needs_background": "light"
     },
     "output_type": "display_data"
    }
   ],
   "source": [
    "plt.figure(figsize=(12,8))\n",
    "df = census_df.groupby(['marital_status', 'income_level']).size().reset_index(name='counts')\n",
    "sns.barplot(x=\"marital_status\", y=\"counts\", hue=\"income_level\", data=df, ci=None, palette=[\"red\", \"green\"]);\n",
    "plt.xticks(rotation = 30)\n",
    "plt.show()"
   ]
  },
  {
   "cell_type": "markdown",
   "id": "fe81bba3",
   "metadata": {},
   "source": [
    "Największe grupy osób są w związku z małżeńskim z osobą cwyilną, ewentualnie nigdy nie zawierały takiego związku lub są rozwiedzione. Pozostałe grupy są wyraźnie mniej liczne, a najmniejszą stanowią osoby w związku małzeńskim z osobą wojskową. W każdej grupie jest przewaga osób zarabiających mniej niż 50K. Jednak grupa małzeństw z osobami cywilnymi wyróżnia się najbardziej wyrównaną proporcją osób o różnym poziomie zarobków, podczas gdy wśród pozostałych zdecydowanie więcej osób nie zarabia więcej niz 50K. Może to nasuwać wniosek, że osoby w związku małżeńskim mają większą szansę na stabilność finansową, a co za tym idzie, lepsze zarobki w ogólności."
   ]
  },
  {
   "cell_type": "code",
   "execution_count": 110,
   "id": "76784207",
   "metadata": {},
   "outputs": [
    {
     "data": {
      "image/png": "[encoded data removed]",
      "text/plain": [
       "<Figure size 864x576 with 1 Axes>"
      ]
     },
     "metadata": {
      "needs_background": "light"
     },
     "output_type": "display_data"
    }
   ],
   "source": [
    "plt.figure(figsize=(12,8))\n",
    "df = census_df.groupby(['relationship', 'income_level']).size().reset_index(name='counts')\n",
    "sns.barplot(x=\"relationship\", y=\"counts\", hue=\"income_level\", data=df, ci=None, palette=[\"red\", \"green\"]);\n",
    "plt.show()"
   ]
  },
  {
   "cell_type": "markdown",
   "id": "2b93de34",
   "metadata": {},
   "source": [
    "Dosyć podobną do poprzedniej zmiennej jest zmienna `relationship`. Wnioski się nakładają, bo ponownie widać, że proporcja osób o różnych poziomach zarobków jest wyrównana dla osób w związku małżeńskim. Dla pozostałych grup zdecydowanie przeważają osoby o mniejszych zarobkach. \n",
    "\n",
    "***Klasa robocza i zawód***"
   ]
  },
  {
   "cell_type": "code",
   "execution_count": 111,
   "id": "6dbec102",
   "metadata": {},
   "outputs": [
    {
     "data": {
      "image/png": "[encoded data removed]",
      "text/plain": [
       "<Figure size 864x576 with 1 Axes>"
      ]
     },
     "metadata": {
      "needs_background": "light"
     },
     "output_type": "display_data"
    }
   ],
   "source": [
    "plt.figure(figsize=(12,8))\n",
    "df = census_df.groupby(['workclass', 'income_level']).size().reset_index(name='counts')\n",
    "sns.barplot(x=\"workclass\", y=\"counts\", hue=\"income_level\", data=df, ci=None, palette=[\"red\", \"green\"]);\n",
    "plt.show()"
   ]
  },
  {
   "cell_type": "markdown",
   "id": "7f8a07cd",
   "metadata": {},
   "source": [
    "Przewazająca część osób z próbki to osoby pracujące w sektorze prywatnym. Mimo, że jest tam również najwięcej osób, które zarabiają powyżej 50K, to proporcjonalnie zdecydowanie więcej osób zarabia więcej w sektorze samozatrudniających się.  \n",
    "\n",
    "Ze względu na duże zróznicowanie zawodów, najpierw przyjrzymy się jak dużo osób pracuje w poszczególnych dziedzinach."
   ]
  },
  {
   "cell_type": "code",
   "execution_count": 112,
   "id": "06826b42",
   "metadata": {},
   "outputs": [
    {
     "data": {
      "image/png": "[encoded data removed]",
      "text/plain": [
       "<Figure size 1440x360 with 1 Axes>"
      ]
     },
     "metadata": {
      "needs_background": "light"
     },
     "output_type": "display_data"
    }
   ],
   "source": [
    "plt.figure(figsize=(20, 5))\n",
    "plt.xticks(rotation = 45)\n",
    "df = census_df.groupby(['occupation']).size().reset_index(name='counts').sort_values(by = \"counts\")\n",
    "plt.bar(x=\"occupation\", height=\"counts\", data=df);\n",
    "plt.show()"
   ]
  },
  {
   "cell_type": "markdown",
   "id": "4d0e41b1",
   "metadata": {},
   "source": [
    "Widać, że wśród osób z naszej ramki rozkład zawodów jest bardziej równowmierny. A teraz sprawdzimy jak duża część osób zarabai więcej niż 50K dla każdej grupy."
   ]
  },
  {
   "cell_type": "code",
   "execution_count": 113,
   "id": "bc10bbef",
   "metadata": {},
   "outputs": [
    {
     "data": {
      "image/png": "[encoded data removed]",
      "text/plain": [
       "<Figure size 1296x720 with 1 Axes>"
      ]
     },
     "metadata": {
      "needs_background": "light"
     },
     "output_type": "display_data"
    }
   ],
   "source": [
    "df = census_df.groupby('occupation')[\"income_level\"].value_counts(normalize = True).unstack('income_level').sort_values(by = 1, ascending = False)\n",
    "df.plot.barh(stacked=True, figsize = (18, 10), color = ['#ff5b5c', 'green'])\n",
    "plt.show()"
   ]
  },
  {
   "cell_type": "markdown",
   "id": "b32ce9d1",
   "metadata": {},
   "source": [
    "Dwie grupy o największym stosunku oznaczonych 1 do oznaczonych 0 to osoby o stanowiskach kierowniczych i osoby pracujące w specjalizacji. Są to także ogólnie najliczniejsze grupy pracujących, więc można uznać że praca w tych dwóch obszarach daje lepsze wynagrodzenie Nie można tego powiedzieć o osobach pracujących w zawodach odpowiedzialnych za sprzątanie i zajmowanie się domem, gdzie osób zarabaijących powyżej 50K jest bardzo mało.\n",
    "\n",
    "***Płeć i rasa***"
   ]
  },
  {
   "cell_type": "code",
   "execution_count": 114,
   "id": "da8577fb",
   "metadata": {},
   "outputs": [
    {
     "data": {
      "image/png": "[encoded data removed]",
      "text/plain": [
       "<Figure size 1332x432 with 4 Axes>"
      ]
     },
     "metadata": {
      "needs_background": "light"
     },
     "output_type": "display_data"
    }
   ],
   "source": [
    "df1 = census_df[census_df.income_level == 0]\n",
    "df1 = df1.groupby(['sex', 'race']).size().reset_index(name='counts')\n",
    "df1 = pd.pivot(df1, index = 'race', columns = 'sex', values = 'counts')\n",
    "\n",
    "df2 = census_df[census_df.income_level == 1]\n",
    "df2 = df2.groupby(['sex', 'race']).size().reset_index(name='counts')\n",
    "df2 = pd.pivot(df2, index = 'race', columns = 'sex', values = 'counts')\n",
    "\n",
    "fig, (ax1, ax2) = plt.subplots(1,2)\n",
    "sns.heatmap(df1, annot=True, cmap='Reds', ax=ax1, fmt='g', norm=LogNorm())\n",
    "sns.heatmap(df2, annot=True, cmap='Greens', ax=ax2, fmt='g', norm=LogNorm())\n",
    "fig.set_size_inches(18.5, 6)\n",
    "plt.show()"
   ]
  },
  {
   "cell_type": "markdown",
   "id": "267d1376",
   "metadata": {},
   "source": [
    "Dla lepszego zobrazowania ilości osób w poszczególnych grupach, używamy skali logarytmicznej. Wśród naszych obserwacji występuje więcej osób płci męskiej, a także przeważają osoby białe."
   ]
  },
  {
   "cell_type": "code",
   "execution_count": 115,
   "id": "263f1aa2",
   "metadata": {},
   "outputs": [
    {
     "data": {
      "image/png": "[encoded data removed]",
      "text/plain": [
       "<Figure size 1080x360 with 1 Axes>"
      ]
     },
     "metadata": {
      "needs_background": "light"
     },
     "output_type": "display_data"
    }
   ],
   "source": [
    "tmp2 = census_df\n",
    "#tmp2['sex'] = tmp2['sex'].replace(['Famale','Male'],[1, 0])\n",
    "tmp2 = tmp2[tmp2.race != \"?\"].groupby('income_level')[\"sex\"].value_counts(normalize = True).unstack('sex')\n",
    "\n",
    "tmp2.plot.barh(stacked=True, figsize = (15, 5), color = ['lightblue', 'violet'])\n",
    "plt.show()"
   ]
  },
  {
   "cell_type": "markdown",
   "id": "f9dc1717",
   "metadata": {},
   "source": [
    "Można zauważyć, że w przypadku osób zarabiających poniżej 50K, stosunek kobiet do mężczyzn jest znacznie większy. Oznacza to, że kobiety częściej zarabiają mniejsze stawki. Dysproporcje można też dostrzec porównując grupy rasowe:"
   ]
  },
  {
   "cell_type": "code",
   "execution_count": 116,
   "id": "8d129fed",
   "metadata": {},
   "outputs": [
    {
     "data": {
      "image/png": "[encoded data removed]",
      "text/plain": [
       "<Figure size 1080x360 with 1 Axes>"
      ]
     },
     "metadata": {
      "needs_background": "light"
     },
     "output_type": "display_data"
    }
   ],
   "source": [
    "tmp = census_df\n",
    "tmp = tmp[tmp.race != \"?\"].groupby('race')[\"income_level\"].value_counts(normalize = True).unstack('income_level')\n",
    "\n",
    "tmp.plot.barh(stacked=True, figsize = (15, 5), color = ['#ff5b5c', 'green'])\n",
    "plt.show()"
   ]
  },
  {
   "cell_type": "code",
   "execution_count": 117,
   "id": "88974428",
   "metadata": {},
   "outputs": [
    {
     "data": {
      "text/html": [
       "<div>\n",
       "<style scoped>\n",
       "    .dataframe tbody tr th:only-of-type {\n",
       "        vertical-align: middle;\n",
       "    }\n",
       "\n",
       "    .dataframe tbody tr th {\n",
       "        vertical-align: top;\n",
       "    }\n",
       "\n",
       "    .dataframe thead th {\n",
       "        text-align: right;\n",
       "    }\n",
       "</style>\n",
       "<table border=\"1\" class=\"dataframe\">\n",
       "  <thead>\n",
       "    <tr style=\"text-align: right;\">\n",
       "      <th></th>\n",
       "      <th>age</th>\n",
       "      <th>workclass</th>\n",
       "      <th>education_num</th>\n",
       "      <th>marital_status</th>\n",
       "      <th>occupation</th>\n",
       "      <th>relationship</th>\n",
       "      <th>race</th>\n",
       "      <th>sex</th>\n",
       "      <th>capital_gain</th>\n",
       "      <th>capital_loss</th>\n",
       "      <th>hours_per_week</th>\n",
       "      <th>native_country</th>\n",
       "      <th>income_level</th>\n",
       "    </tr>\n",
       "  </thead>\n",
       "  <tbody>\n",
       "    <tr>\n",
       "      <th>9276</th>\n",
       "      <td>8</td>\n",
       "      <td>Local-gov</td>\n",
       "      <td>14</td>\n",
       "      <td>Married-civ-spouse</td>\n",
       "      <td>Prof-specialty</td>\n",
       "      <td>Husband</td>\n",
       "      <td>White</td>\n",
       "      <td>Male</td>\n",
       "      <td>0</td>\n",
       "      <td>0</td>\n",
       "      <td>3</td>\n",
       "      <td>United-States</td>\n",
       "      <td>0</td>\n",
       "    </tr>\n",
       "    <tr>\n",
       "      <th>25135</th>\n",
       "      <td>6</td>\n",
       "      <td>Private</td>\n",
       "      <td>16</td>\n",
       "      <td>Married-civ-spouse</td>\n",
       "      <td>Prof-specialty</td>\n",
       "      <td>Wife</td>\n",
       "      <td>White</td>\n",
       "      <td>Female</td>\n",
       "      <td>0</td>\n",
       "      <td>4</td>\n",
       "      <td>1</td>\n",
       "      <td>United-States</td>\n",
       "      <td>1</td>\n",
       "    </tr>\n",
       "    <tr>\n",
       "      <th>4093</th>\n",
       "      <td>4</td>\n",
       "      <td>Local-gov</td>\n",
       "      <td>14</td>\n",
       "      <td>Married-civ-spouse</td>\n",
       "      <td>Prof-specialty</td>\n",
       "      <td>Husband</td>\n",
       "      <td>White</td>\n",
       "      <td>Male</td>\n",
       "      <td>0</td>\n",
       "      <td>0</td>\n",
       "      <td>2</td>\n",
       "      <td>United-States</td>\n",
       "      <td>0</td>\n",
       "    </tr>\n",
       "    <tr>\n",
       "      <th>27463</th>\n",
       "      <td>1</td>\n",
       "      <td>Private</td>\n",
       "      <td>7</td>\n",
       "      <td>Never-married</td>\n",
       "      <td>Sales</td>\n",
       "      <td>Own-child</td>\n",
       "      <td>White</td>\n",
       "      <td>Female</td>\n",
       "      <td>0</td>\n",
       "      <td>0</td>\n",
       "      <td>1</td>\n",
       "      <td>United-States</td>\n",
       "      <td>0</td>\n",
       "    </tr>\n",
       "    <tr>\n",
       "      <th>7446</th>\n",
       "      <td>4</td>\n",
       "      <td>Private</td>\n",
       "      <td>9</td>\n",
       "      <td>Divorced</td>\n",
       "      <td>Exec-managerial</td>\n",
       "      <td>Unmarried</td>\n",
       "      <td>White</td>\n",
       "      <td>Female</td>\n",
       "      <td>0</td>\n",
       "      <td>0</td>\n",
       "      <td>2</td>\n",
       "      <td>United-States</td>\n",
       "      <td>0</td>\n",
       "    </tr>\n",
       "  </tbody>\n",
       "</table>\n",
       "</div>"
      ],
      "text/plain": [
       "      age  workclass  education_num      marital_status       occupation  \\\n",
       "9276   8   Local-gov  14             Married-civ-spouse  Prof-specialty    \n",
       "25135  6   Private    16             Married-civ-spouse  Prof-specialty    \n",
       "4093   4   Local-gov  14             Married-civ-spouse  Prof-specialty    \n",
       "27463  1   Private    7              Never-married       Sales             \n",
       "7446   4   Private    9              Divorced            Exec-managerial   \n",
       "\n",
       "      relationship   race     sex capital_gain capital_loss hours_per_week  \\\n",
       "9276   Husband      White  Male    0            0            3               \n",
       "25135  Wife         White  Female  0            4            1               \n",
       "4093   Husband      White  Male    0            0            2               \n",
       "27463  Own-child    White  Female  0            0            1               \n",
       "7446   Unmarried    White  Female  0            0            2               \n",
       "\n",
       "      native_country  income_level  \n",
       "9276   United-States  0             \n",
       "25135  United-States  1             \n",
       "4093   United-States  0             \n",
       "27463  United-States  0             \n",
       "7446   United-States  0             "
      ]
     },
     "execution_count": 117,
     "metadata": {},
     "output_type": "execute_result"
    }
   ],
   "source": [
    "census_df.head()"
   ]
  },
  {
   "cell_type": "markdown",
   "id": "13fb18bf",
   "metadata": {},
   "source": [
    "Można zauważyć, że wśród osób Czarnoskórych oraz rdzennych Amerykanów i Inuitów występuje najmniejszy procent osób zarabiających powyżej 50K. Z kolei ludzie z Azji i wysp Pacyfiku oraz ludzie biali mają mniej drastyczną różnicę procentową i około 30% zarabia lepiej.  "
   ]
  },
  {
   "cell_type": "markdown",
   "id": "5533690f",
   "metadata": {},
   "source": [
    "### Zamiana zmiennych na numeryczne"
   ]
  },
  {
   "cell_type": "code",
   "execution_count": 118,
   "id": "74497e8d",
   "metadata": {},
   "outputs": [
    {
     "data": {
      "text/plain": [
       "(32205, 2)"
      ]
     },
     "execution_count": 118,
     "metadata": {},
     "output_type": "execute_result"
    }
   ],
   "source": [
    "country_df = pd.get_dummies(census_df['native_country'], prefix='country_')\n",
    "country_df.shape"
   ]
  },
  {
   "cell_type": "code",
   "execution_count": 119,
   "id": "5f79a1f5",
   "metadata": {},
   "outputs": [
    {
     "data": {
      "text/plain": [
       "(32205, 13)"
      ]
     },
     "execution_count": 119,
     "metadata": {},
     "output_type": "execute_result"
    }
   ],
   "source": [
    "census_df.shape"
   ]
  },
  {
   "cell_type": "code",
   "execution_count": 120,
   "id": "3f07ad9c",
   "metadata": {},
   "outputs": [],
   "source": [
    "# mają tyle samo wierszy więc łączenie obu ramek:\n",
    "census_df = pd.concat([census_df, country_df], axis=1)\n",
    "census_df.drop(['native_country'],  axis=1, inplace = True)"
   ]
  },
  {
   "cell_type": "code",
   "execution_count": 121,
   "id": "6926242e",
   "metadata": {},
   "outputs": [
    {
     "data": {
      "text/html": [
       "<div>\n",
       "<style scoped>\n",
       "    .dataframe tbody tr th:only-of-type {\n",
       "        vertical-align: middle;\n",
       "    }\n",
       "\n",
       "    .dataframe tbody tr th {\n",
       "        vertical-align: top;\n",
       "    }\n",
       "\n",
       "    .dataframe thead th {\n",
       "        text-align: right;\n",
       "    }\n",
       "</style>\n",
       "<table border=\"1\" class=\"dataframe\">\n",
       "  <thead>\n",
       "    <tr style=\"text-align: right;\">\n",
       "      <th></th>\n",
       "      <th>age</th>\n",
       "      <th>workclass</th>\n",
       "      <th>education_num</th>\n",
       "      <th>marital_status</th>\n",
       "      <th>occupation</th>\n",
       "      <th>relationship</th>\n",
       "      <th>race</th>\n",
       "      <th>sex</th>\n",
       "      <th>capital_gain</th>\n",
       "      <th>capital_loss</th>\n",
       "      <th>hours_per_week</th>\n",
       "      <th>income_level</th>\n",
       "      <th>country__Other</th>\n",
       "      <th>country__United-States</th>\n",
       "    </tr>\n",
       "  </thead>\n",
       "  <tbody>\n",
       "    <tr>\n",
       "      <th>9276</th>\n",
       "      <td>8</td>\n",
       "      <td>Local-gov</td>\n",
       "      <td>14</td>\n",
       "      <td>Married-civ-spouse</td>\n",
       "      <td>Prof-specialty</td>\n",
       "      <td>Husband</td>\n",
       "      <td>White</td>\n",
       "      <td>Male</td>\n",
       "      <td>0</td>\n",
       "      <td>0</td>\n",
       "      <td>3</td>\n",
       "      <td>0</td>\n",
       "      <td>0</td>\n",
       "      <td>1</td>\n",
       "    </tr>\n",
       "    <tr>\n",
       "      <th>25135</th>\n",
       "      <td>6</td>\n",
       "      <td>Private</td>\n",
       "      <td>16</td>\n",
       "      <td>Married-civ-spouse</td>\n",
       "      <td>Prof-specialty</td>\n",
       "      <td>Wife</td>\n",
       "      <td>White</td>\n",
       "      <td>Female</td>\n",
       "      <td>0</td>\n",
       "      <td>4</td>\n",
       "      <td>1</td>\n",
       "      <td>1</td>\n",
       "      <td>0</td>\n",
       "      <td>1</td>\n",
       "    </tr>\n",
       "    <tr>\n",
       "      <th>4093</th>\n",
       "      <td>4</td>\n",
       "      <td>Local-gov</td>\n",
       "      <td>14</td>\n",
       "      <td>Married-civ-spouse</td>\n",
       "      <td>Prof-specialty</td>\n",
       "      <td>Husband</td>\n",
       "      <td>White</td>\n",
       "      <td>Male</td>\n",
       "      <td>0</td>\n",
       "      <td>0</td>\n",
       "      <td>2</td>\n",
       "      <td>0</td>\n",
       "      <td>0</td>\n",
       "      <td>1</td>\n",
       "    </tr>\n",
       "    <tr>\n",
       "      <th>27463</th>\n",
       "      <td>1</td>\n",
       "      <td>Private</td>\n",
       "      <td>7</td>\n",
       "      <td>Never-married</td>\n",
       "      <td>Sales</td>\n",
       "      <td>Own-child</td>\n",
       "      <td>White</td>\n",
       "      <td>Female</td>\n",
       "      <td>0</td>\n",
       "      <td>0</td>\n",
       "      <td>1</td>\n",
       "      <td>0</td>\n",
       "      <td>0</td>\n",
       "      <td>1</td>\n",
       "    </tr>\n",
       "    <tr>\n",
       "      <th>7446</th>\n",
       "      <td>4</td>\n",
       "      <td>Private</td>\n",
       "      <td>9</td>\n",
       "      <td>Divorced</td>\n",
       "      <td>Exec-managerial</td>\n",
       "      <td>Unmarried</td>\n",
       "      <td>White</td>\n",
       "      <td>Female</td>\n",
       "      <td>0</td>\n",
       "      <td>0</td>\n",
       "      <td>2</td>\n",
       "      <td>0</td>\n",
       "      <td>0</td>\n",
       "      <td>1</td>\n",
       "    </tr>\n",
       "  </tbody>\n",
       "</table>\n",
       "</div>"
      ],
      "text/plain": [
       "      age  workclass  education_num      marital_status       occupation  \\\n",
       "9276   8   Local-gov  14             Married-civ-spouse  Prof-specialty    \n",
       "25135  6   Private    16             Married-civ-spouse  Prof-specialty    \n",
       "4093   4   Local-gov  14             Married-civ-spouse  Prof-specialty    \n",
       "27463  1   Private    7              Never-married       Sales             \n",
       "7446   4   Private    9              Divorced            Exec-managerial   \n",
       "\n",
       "      relationship   race     sex capital_gain capital_loss hours_per_week  \\\n",
       "9276   Husband      White  Male    0            0            3               \n",
       "25135  Wife         White  Female  0            4            1               \n",
       "4093   Husband      White  Male    0            0            2               \n",
       "27463  Own-child    White  Female  0            0            1               \n",
       "7446   Unmarried    White  Female  0            0            2               \n",
       "\n",
       "       income_level  country__Other  country__United-States  \n",
       "9276   0             0               1                       \n",
       "25135  1             0               1                       \n",
       "4093   0             0               1                       \n",
       "27463  0             0               1                       \n",
       "7446   0             0               1                       "
      ]
     },
     "execution_count": 121,
     "metadata": {},
     "output_type": "execute_result"
    }
   ],
   "source": [
    "census_df.head()"
   ]
  },
  {
   "cell_type": "markdown",
   "id": "3242375c",
   "metadata": {},
   "source": [
    "### Wykorzystanie *Weight of Value* i *Information Value*"
   ]
  },
  {
   "cell_type": "markdown",
   "id": "ecab8550",
   "metadata": {},
   "source": [
    "# Całe to WOE robione na czuja, może niektóre źle podzieliłem, nie wiem"
   ]
  },
  {
   "cell_type": "markdown",
   "id": "e3eeb333",
   "metadata": {},
   "source": [
    "Teraz wyliczymy wartości WoE i Information Value dla poszczególnych zmiennych. Dzięki WoE możemy spróbować połączyć niektore wartości o podobnych wartościach tego parametru. Analizując I.V. możemy także dowiedzieć się, które zmienne są dobrymi predykatorami, jako że im większa suma I.V., tym zmienna może okazać się lepszym predykatorem. Skorzystamy z poniższej napisanej przez nas funckji `woefun`."
   ]
  },
  {
   "cell_type": "code",
   "execution_count": 122,
   "id": "249942bc",
   "metadata": {},
   "outputs": [],
   "source": [
    "total_neg = census_df['income_level'].value_counts()[0]\n",
    "total_pos = census_df['income_level'].value_counts()[1]\n",
    "def woefun(colname):\n",
    "    df = census_df.groupby(['income_level', colname]).size().reset_index(name='counts')\n",
    "    df = pd.pivot(df, index = colname, columns = 'income_level', values = 'counts')\n",
    "    neg = df[0]/total_neg\n",
    "    pos = df[1]/total_pos\n",
    "    df['WoE'] = np.log(pos/neg)\n",
    "    df['IV'] = (pos - neg)*df['WoE']\n",
    "    return df"
   ]
  },
  {
   "cell_type": "code",
   "execution_count": 123,
   "id": "1dd12348",
   "metadata": {},
   "outputs": [
    {
     "data": {
      "text/html": [
       "<div>\n",
       "<style scoped>\n",
       "    .dataframe tbody tr th:only-of-type {\n",
       "        vertical-align: middle;\n",
       "    }\n",
       "\n",
       "    .dataframe tbody tr th {\n",
       "        vertical-align: top;\n",
       "    }\n",
       "\n",
       "    .dataframe thead th {\n",
       "        text-align: right;\n",
       "    }\n",
       "</style>\n",
       "<table border=\"1\" class=\"dataframe\">\n",
       "  <thead>\n",
       "    <tr style=\"text-align: right;\">\n",
       "      <th>income_level</th>\n",
       "      <th>0</th>\n",
       "      <th>1</th>\n",
       "      <th>WoE</th>\n",
       "      <th>IV</th>\n",
       "    </tr>\n",
       "    <tr>\n",
       "      <th>workclass</th>\n",
       "      <th></th>\n",
       "      <th></th>\n",
       "      <th></th>\n",
       "      <th></th>\n",
       "    </tr>\n",
       "  </thead>\n",
       "  <tbody>\n",
       "    <tr>\n",
       "      <th>Without-pay</th>\n",
       "      <td>11</td>\n",
       "      <td>1</td>\n",
       "      <td>-1.289779</td>\n",
       "      <td>0.000425</td>\n",
       "    </tr>\n",
       "    <tr>\n",
       "      <th>Private</th>\n",
       "      <td>18582</td>\n",
       "      <td>5195</td>\n",
       "      <td>-0.166381</td>\n",
       "      <td>0.019573</td>\n",
       "    </tr>\n",
       "    <tr>\n",
       "      <th>State-gov</th>\n",
       "      <td>1026</td>\n",
       "      <td>372</td>\n",
       "      <td>0.093587</td>\n",
       "      <td>0.000389</td>\n",
       "    </tr>\n",
       "    <tr>\n",
       "      <th>Self-emp-not-inc</th>\n",
       "      <td>1923</td>\n",
       "      <td>755</td>\n",
       "      <td>0.173192</td>\n",
       "      <td>0.002601</td>\n",
       "    </tr>\n",
       "    <tr>\n",
       "      <th>Local-gov</th>\n",
       "      <td>1519</td>\n",
       "      <td>647</td>\n",
       "      <td>0.254655</td>\n",
       "      <td>0.004634</td>\n",
       "    </tr>\n",
       "    <tr>\n",
       "      <th>Federal-gov</th>\n",
       "      <td>623</td>\n",
       "      <td>380</td>\n",
       "      <td>0.613741</td>\n",
       "      <td>0.013382</td>\n",
       "    </tr>\n",
       "    <tr>\n",
       "      <th>Self-emp-inc</th>\n",
       "      <td>527</td>\n",
       "      <td>644</td>\n",
       "      <td>1.308614</td>\n",
       "      <td>0.076938</td>\n",
       "    </tr>\n",
       "  </tbody>\n",
       "</table>\n",
       "</div>"
      ],
      "text/plain": [
       "income_level          0     1       WoE        IV\n",
       "workclass                                        \n",
       "Without-pay       11     1    -1.289779  0.000425\n",
       "Private           18582  5195 -0.166381  0.019573\n",
       "State-gov         1026   372   0.093587  0.000389\n",
       "Self-emp-not-inc  1923   755   0.173192  0.002601\n",
       "Local-gov         1519   647   0.254655  0.004634\n",
       "Federal-gov       623    380   0.613741  0.013382\n",
       "Self-emp-inc      527    644   1.308614  0.076938"
      ]
     },
     "execution_count": 123,
     "metadata": {},
     "output_type": "execute_result"
    }
   ],
   "source": [
    "df = woefun('workclass')\n",
    "df.sort_values('WoE')"
   ]
  },
  {
   "cell_type": "markdown",
   "id": "a001af4a",
   "metadata": {},
   "source": [
    "Widać po wartościach IV, że zmienna `workclass` będzie umiarkowanie wpływać na predykcyjność. Pogrupujemy wartości przyjmowane przez tę zmienną na kategorie według podobieństwa WoE."
   ]
  },
  {
   "cell_type": "code",
   "execution_count": 125,
   "id": "5449eb35",
   "metadata": {},
   "outputs": [],
   "source": [
    "census_df['workclass'] = census_df['workclass'].replace(['Without-pay', 'Never-worked', '?'] , 0)\n",
    "census_df['workclass'] = census_df['workclass'].replace(['Private'] , 1)\n",
    "census_df['workclass'] = census_df['workclass'].replace(['Self-emp-not-inc', 'State-gov', 'Local-gov'] , 2)\n",
    "census_df['workclass'] = census_df['workclass'].replace(['Federal-gov'] , 3)\n",
    "census_df['workclass'] = census_df['workclass'].replace(['Self-emp-inc'] , 4)"
   ]
  },
  {
   "cell_type": "code",
   "execution_count": 126,
   "id": "1cfd2cbe",
   "metadata": {},
   "outputs": [
    {
     "data": {
      "text/html": [
       "<div>\n",
       "<style scoped>\n",
       "    .dataframe tbody tr th:only-of-type {\n",
       "        vertical-align: middle;\n",
       "    }\n",
       "\n",
       "    .dataframe tbody tr th {\n",
       "        vertical-align: top;\n",
       "    }\n",
       "\n",
       "    .dataframe thead th {\n",
       "        text-align: right;\n",
       "    }\n",
       "</style>\n",
       "<table border=\"1\" class=\"dataframe\">\n",
       "  <thead>\n",
       "    <tr style=\"text-align: right;\">\n",
       "      <th>income_level</th>\n",
       "      <th>0</th>\n",
       "      <th>1</th>\n",
       "      <th>WoE</th>\n",
       "      <th>IV</th>\n",
       "    </tr>\n",
       "    <tr>\n",
       "      <th>occupation</th>\n",
       "      <th></th>\n",
       "      <th></th>\n",
       "      <th></th>\n",
       "      <th></th>\n",
       "    </tr>\n",
       "  </thead>\n",
       "  <tbody>\n",
       "    <tr>\n",
       "      <th>Priv-house-serv</th>\n",
       "      <td>170</td>\n",
       "      <td>2</td>\n",
       "      <td>-3.334535</td>\n",
       "      <td>0.022580</td>\n",
       "    </tr>\n",
       "    <tr>\n",
       "      <th>Other-service</th>\n",
       "      <td>3301</td>\n",
       "      <td>141</td>\n",
       "      <td>-2.045105</td>\n",
       "      <td>0.242764</td>\n",
       "    </tr>\n",
       "    <tr>\n",
       "      <th>Handlers-cleaners</th>\n",
       "      <td>1352</td>\n",
       "      <td>87</td>\n",
       "      <td>-1.635316</td>\n",
       "      <td>0.073523</td>\n",
       "    </tr>\n",
       "    <tr>\n",
       "      <th>Farming-fishing</th>\n",
       "      <td>934</td>\n",
       "      <td>117</td>\n",
       "      <td>-0.969187</td>\n",
       "      <td>0.023204</td>\n",
       "    </tr>\n",
       "    <tr>\n",
       "      <th>Machine-op-inspct</th>\n",
       "      <td>1828</td>\n",
       "      <td>257</td>\n",
       "      <td>-0.853786</td>\n",
       "      <td>0.037015</td>\n",
       "    </tr>\n",
       "    <tr>\n",
       "      <th>Adm-clerical</th>\n",
       "      <td>3364</td>\n",
       "      <td>533</td>\n",
       "      <td>-0.734249</td>\n",
       "      <td>0.053064</td>\n",
       "    </tr>\n",
       "    <tr>\n",
       "      <th>Transport-moving</th>\n",
       "      <td>1311</td>\n",
       "      <td>332</td>\n",
       "      <td>-0.265295</td>\n",
       "      <td>0.003347</td>\n",
       "    </tr>\n",
       "    <tr>\n",
       "      <th>Craft-repair</th>\n",
       "      <td>3283</td>\n",
       "      <td>954</td>\n",
       "      <td>-0.127733</td>\n",
       "      <td>0.002077</td>\n",
       "    </tr>\n",
       "    <tr>\n",
       "      <th>Sales</th>\n",
       "      <td>2816</td>\n",
       "      <td>1050</td>\n",
       "      <td>0.121589</td>\n",
       "      <td>0.001828</td>\n",
       "    </tr>\n",
       "    <tr>\n",
       "      <th>Tech-support</th>\n",
       "      <td>744</td>\n",
       "      <td>289</td>\n",
       "      <td>0.162501</td>\n",
       "      <td>0.000881</td>\n",
       "    </tr>\n",
       "    <tr>\n",
       "      <th>Armed-Forces</th>\n",
       "      <td>9</td>\n",
       "      <td>4</td>\n",
       "      <td>0.297186</td>\n",
       "      <td>0.000038</td>\n",
       "    </tr>\n",
       "    <tr>\n",
       "      <th>Protective-serv</th>\n",
       "      <td>466</td>\n",
       "      <td>218</td>\n",
       "      <td>0.348425</td>\n",
       "      <td>0.002795</td>\n",
       "    </tr>\n",
       "    <tr>\n",
       "      <th>Prof-specialty</th>\n",
       "      <td>2388</td>\n",
       "      <td>1994</td>\n",
       "      <td>0.927802</td>\n",
       "      <td>0.139917</td>\n",
       "    </tr>\n",
       "    <tr>\n",
       "      <th>Exec-managerial</th>\n",
       "      <td>2245</td>\n",
       "      <td>2016</td>\n",
       "      <td>1.000526</td>\n",
       "      <td>0.159547</td>\n",
       "    </tr>\n",
       "  </tbody>\n",
       "</table>\n",
       "</div>"
      ],
      "text/plain": [
       "income_level          0     1       WoE        IV\n",
       "occupation                                       \n",
       "Priv-house-serv    170   2    -3.334535  0.022580\n",
       "Other-service      3301  141  -2.045105  0.242764\n",
       "Handlers-cleaners  1352  87   -1.635316  0.073523\n",
       "Farming-fishing    934   117  -0.969187  0.023204\n",
       "Machine-op-inspct  1828  257  -0.853786  0.037015\n",
       "Adm-clerical       3364  533  -0.734249  0.053064\n",
       "Transport-moving   1311  332  -0.265295  0.003347\n",
       "Craft-repair       3283  954  -0.127733  0.002077\n",
       "Sales              2816  1050  0.121589  0.001828\n",
       "Tech-support       744   289   0.162501  0.000881\n",
       "Armed-Forces       9     4     0.297186  0.000038\n",
       "Protective-serv    466   218   0.348425  0.002795\n",
       "Prof-specialty     2388  1994  0.927802  0.139917\n",
       "Exec-managerial    2245  2016  1.000526  0.159547"
      ]
     },
     "execution_count": 126,
     "metadata": {},
     "output_type": "execute_result"
    }
   ],
   "source": [
    "df = woefun('occupation')\n",
    "df.sort_values('WoE')"
   ]
  },
  {
   "cell_type": "markdown",
   "id": "cd79bc54",
   "metadata": {},
   "source": [
    "Wydaje się, że podobnie zmienna `occupation` będzie miała wpływ na predykcję. Ją też podzielimy według otrzymanych WoE. "
   ]
  },
  {
   "cell_type": "code",
   "execution_count": 56,
   "id": "34e8db96",
   "metadata": {},
   "outputs": [],
   "source": [
    "census_df['occupation'] = census_df['occupation'].replace(['Priv-house-serv'] , 1)\n",
    "census_df['occupation'] = census_df['occupation'].replace(['Other-service', 'Handlers-cleaners' ] , 2)\n",
    "census_df['occupation'] = census_df['occupation'].replace(['?', 'Adm-clerical','Machine-op-inspct', 'Farming-fishing'] , 3)\n",
    "census_df['occupation'] = census_df['occupation'].replace(['Transport-moving', 'Craft-repair'] , 4)\n",
    "census_df['occupation'] = census_df['occupation'].replace(['Sales', 'Tech-support', 'Protective-serv', 'Armed-Forces'] , 5)\n",
    "census_df['occupation'] = census_df['occupation'].replace(['Prof-specialty', 'Exec-managerial'] , 6)"
   ]
  },
  {
   "cell_type": "code",
   "execution_count": 57,
   "id": "01cc00cc",
   "metadata": {},
   "outputs": [
    {
     "data": {
      "text/html": [
       "<div>\n",
       "<style scoped>\n",
       "    .dataframe tbody tr th:only-of-type {\n",
       "        vertical-align: middle;\n",
       "    }\n",
       "\n",
       "    .dataframe tbody tr th {\n",
       "        vertical-align: top;\n",
       "    }\n",
       "\n",
       "    .dataframe thead th {\n",
       "        text-align: right;\n",
       "    }\n",
       "</style>\n",
       "<table border=\"1\" class=\"dataframe\">\n",
       "  <thead>\n",
       "    <tr style=\"text-align: right;\">\n",
       "      <th>income_level</th>\n",
       "      <th>0</th>\n",
       "      <th>1</th>\n",
       "      <th>WoE</th>\n",
       "      <th>IV</th>\n",
       "    </tr>\n",
       "    <tr>\n",
       "      <th>relationship</th>\n",
       "      <th></th>\n",
       "      <th></th>\n",
       "      <th></th>\n",
       "      <th></th>\n",
       "    </tr>\n",
       "  </thead>\n",
       "  <tbody>\n",
       "    <tr>\n",
       "      <th>Own-child</th>\n",
       "      <td>5209</td>\n",
       "      <td>77</td>\n",
       "      <td>-3.057748</td>\n",
       "      <td>0.583640</td>\n",
       "    </tr>\n",
       "    <tr>\n",
       "      <th>Other-relative</th>\n",
       "      <td>1040</td>\n",
       "      <td>33</td>\n",
       "      <td>-2.293879</td>\n",
       "      <td>0.082474</td>\n",
       "    </tr>\n",
       "    <tr>\n",
       "      <th>Unmarried</th>\n",
       "      <td>3449</td>\n",
       "      <td>221</td>\n",
       "      <td>-1.591087</td>\n",
       "      <td>0.168018</td>\n",
       "    </tr>\n",
       "    <tr>\n",
       "      <th>Not-in-family</th>\n",
       "      <td>7841</td>\n",
       "      <td>913</td>\n",
       "      <td>-0.993796</td>\n",
       "      <td>0.188706</td>\n",
       "    </tr>\n",
       "    <tr>\n",
       "      <th>Husband</th>\n",
       "      <td>7587</td>\n",
       "      <td>6176</td>\n",
       "      <td>0.950824</td>\n",
       "      <td>0.440424</td>\n",
       "    </tr>\n",
       "    <tr>\n",
       "      <th>Wife</th>\n",
       "      <td>882</td>\n",
       "      <td>761</td>\n",
       "      <td>1.009031</td>\n",
       "      <td>0.059642</td>\n",
       "    </tr>\n",
       "  </tbody>\n",
       "</table>\n",
       "</div>"
      ],
      "text/plain": [
       "income_level       0     1       WoE        IV\n",
       "relationship                                  \n",
       "Own-child       5209  77   -3.057748  0.583640\n",
       "Other-relative  1040  33   -2.293879  0.082474\n",
       "Unmarried       3449  221  -1.591087  0.168018\n",
       "Not-in-family   7841  913  -0.993796  0.188706\n",
       "Husband         7587  6176  0.950824  0.440424\n",
       "Wife            882   761   1.009031  0.059642"
      ]
     },
     "execution_count": 57,
     "metadata": {},
     "output_type": "execute_result"
    }
   ],
   "source": [
    "df = woefun('relationship')\n",
    "df.sort_values('WoE')"
   ]
  },
  {
   "cell_type": "markdown",
   "id": "1811d42c",
   "metadata": {},
   "source": [
    "Wydaje się, że wartośći IV są podejrzanie wysokie, być może zmienna `relationship` jest mocnym predykatorem. Dokonujemy analogicznego podziału."
   ]
  },
  {
   "cell_type": "code",
   "execution_count": 58,
   "id": "6557cfed",
   "metadata": {},
   "outputs": [],
   "source": [
    "census_df['relationship'] = census_df['relationship'].replace(['Own-child'] , 1)\n",
    "census_df['relationship'] = census_df['relationship'].replace(['Other-relative'] , 2)\n",
    "census_df['relationship'] = census_df['relationship'].replace(['Unmarried'] , 3)\n",
    "census_df['relationship'] = census_df['relationship'].replace(['Not-in-family'] , 4)\n",
    "census_df['relationship'] = census_df['relationship'].replace(['Wife', 'Husband'] , 5)"
   ]
  },
  {
   "cell_type": "code",
   "execution_count": 59,
   "id": "863f0d7f",
   "metadata": {},
   "outputs": [
    {
     "data": {
      "text/html": [
       "<div>\n",
       "<style scoped>\n",
       "    .dataframe tbody tr th:only-of-type {\n",
       "        vertical-align: middle;\n",
       "    }\n",
       "\n",
       "    .dataframe tbody tr th {\n",
       "        vertical-align: top;\n",
       "    }\n",
       "\n",
       "    .dataframe thead th {\n",
       "        text-align: right;\n",
       "    }\n",
       "</style>\n",
       "<table border=\"1\" class=\"dataframe\">\n",
       "  <thead>\n",
       "    <tr style=\"text-align: right;\">\n",
       "      <th>income_level</th>\n",
       "      <th>0</th>\n",
       "      <th>1</th>\n",
       "      <th>WoE</th>\n",
       "      <th>IV</th>\n",
       "    </tr>\n",
       "    <tr>\n",
       "      <th>marital_status</th>\n",
       "      <th></th>\n",
       "      <th></th>\n",
       "      <th></th>\n",
       "      <th></th>\n",
       "    </tr>\n",
       "  </thead>\n",
       "  <tbody>\n",
       "    <tr>\n",
       "      <th>Never-married</th>\n",
       "      <td>10786</td>\n",
       "      <td>524</td>\n",
       "      <td>-1.867923</td>\n",
       "      <td>0.655020</td>\n",
       "    </tr>\n",
       "    <tr>\n",
       "      <th>Separated</th>\n",
       "      <td>994</td>\n",
       "      <td>71</td>\n",
       "      <td>-1.482468</td>\n",
       "      <td>0.043793</td>\n",
       "    </tr>\n",
       "    <tr>\n",
       "      <th>Widowed</th>\n",
       "      <td>978</td>\n",
       "      <td>96</td>\n",
       "      <td>-1.164572</td>\n",
       "      <td>0.030127</td>\n",
       "    </tr>\n",
       "    <tr>\n",
       "      <th>Married-spouse-absent</th>\n",
       "      <td>375</td>\n",
       "      <td>38</td>\n",
       "      <td>-1.132750</td>\n",
       "      <td>0.011071</td>\n",
       "    </tr>\n",
       "    <tr>\n",
       "      <th>Divorced</th>\n",
       "      <td>4190</td>\n",
       "      <td>476</td>\n",
       "      <td>-1.018448</td>\n",
       "      <td>0.104819</td>\n",
       "    </tr>\n",
       "    <tr>\n",
       "      <th>Married-AF-spouse</th>\n",
       "      <td>17</td>\n",
       "      <td>9</td>\n",
       "      <td>0.520601</td>\n",
       "      <td>0.000232</td>\n",
       "    </tr>\n",
       "    <tr>\n",
       "      <th>Married-civ-spouse</th>\n",
       "      <td>8668</td>\n",
       "      <td>6967</td>\n",
       "      <td>0.938136</td>\n",
       "      <td>0.486260</td>\n",
       "    </tr>\n",
       "  </tbody>\n",
       "</table>\n",
       "</div>"
      ],
      "text/plain": [
       "income_level               0     1       WoE        IV\n",
       "marital_status                                        \n",
       "Never-married          10786  524  -1.867923  0.655020\n",
       "Separated              994    71   -1.482468  0.043793\n",
       "Widowed                978    96   -1.164572  0.030127\n",
       "Married-spouse-absent  375    38   -1.132750  0.011071\n",
       "Divorced               4190   476  -1.018448  0.104819\n",
       "Married-AF-spouse      17     9     0.520601  0.000232\n",
       "Married-civ-spouse     8668   6967  0.938136  0.486260"
      ]
     },
     "execution_count": 59,
     "metadata": {},
     "output_type": "execute_result"
    }
   ],
   "source": [
    "df = woefun('marital_status')\n",
    "df.sort_values('WoE')"
   ]
  },
  {
   "cell_type": "markdown",
   "id": "47a68cec",
   "metadata": {},
   "source": [
    "Analizując IV, możemy spodziewać się, że zmienna `marita_status` będzie silnym predykatorem. Mając na uwadzę wcześniejszą analizę i wartości WoE, podzielimy tę zmienną."
   ]
  },
  {
   "cell_type": "code",
   "execution_count": 60,
   "id": "c3e17070",
   "metadata": {},
   "outputs": [],
   "source": [
    "census_df['marital_status'] = census_df['marital_status'].replace(['Never-married', 'Separated'] , 1)\n",
    "census_df['marital_status'] = census_df['marital_status'].replace(['Widowed', 'Married-spouse-absent', 'Divorced'] , 2)\n",
    "census_df['marital_status'] = census_df['marital_status'].replace(['Married-AF-spouse', 'Married-civ-spouse'] , 3)"
   ]
  },
  {
   "cell_type": "code",
   "execution_count": 61,
   "id": "9e920446",
   "metadata": {},
   "outputs": [
    {
     "data": {
      "text/html": [
       "<div>\n",
       "<style scoped>\n",
       "    .dataframe tbody tr th:only-of-type {\n",
       "        vertical-align: middle;\n",
       "    }\n",
       "\n",
       "    .dataframe tbody tr th {\n",
       "        vertical-align: top;\n",
       "    }\n",
       "\n",
       "    .dataframe thead th {\n",
       "        text-align: right;\n",
       "    }\n",
       "</style>\n",
       "<table border=\"1\" class=\"dataframe\">\n",
       "  <thead>\n",
       "    <tr style=\"text-align: right;\">\n",
       "      <th>income_level</th>\n",
       "      <th>0</th>\n",
       "      <th>1</th>\n",
       "      <th>WoE</th>\n",
       "      <th>IV</th>\n",
       "    </tr>\n",
       "    <tr>\n",
       "      <th>race</th>\n",
       "      <th></th>\n",
       "      <th></th>\n",
       "      <th></th>\n",
       "      <th></th>\n",
       "    </tr>\n",
       "  </thead>\n",
       "  <tbody>\n",
       "    <tr>\n",
       "      <th>Other</th>\n",
       "      <td>248</td>\n",
       "      <td>28</td>\n",
       "      <td>-1.024634</td>\n",
       "      <td>0.006264</td>\n",
       "    </tr>\n",
       "    <tr>\n",
       "      <th>Amer-Indian-Eskimo</th>\n",
       "      <td>289</td>\n",
       "      <td>38</td>\n",
       "      <td>-0.872251</td>\n",
       "      <td>0.005641</td>\n",
       "    </tr>\n",
       "    <tr>\n",
       "      <th>Black</th>\n",
       "      <td>2914</td>\n",
       "      <td>401</td>\n",
       "      <td>-0.826731</td>\n",
       "      <td>0.052106</td>\n",
       "    </tr>\n",
       "    <tr>\n",
       "      <th>White</th>\n",
       "      <td>21819</td>\n",
       "      <td>7425</td>\n",
       "      <td>0.078661</td>\n",
       "      <td>0.005401</td>\n",
       "    </tr>\n",
       "    <tr>\n",
       "      <th>Asian-Pac-Islander</th>\n",
       "      <td>738</td>\n",
       "      <td>289</td>\n",
       "      <td>0.219073</td>\n",
       "      <td>0.001523</td>\n",
       "    </tr>\n",
       "  </tbody>\n",
       "</table>\n",
       "</div>"
      ],
      "text/plain": [
       "income_level            0     1       WoE        IV\n",
       "race                                               \n",
       "Other               248    28   -1.024634  0.006264\n",
       "Amer-Indian-Eskimo  289    38   -0.872251  0.005641\n",
       "Black               2914   401  -0.826731  0.052106\n",
       "White               21819  7425  0.078661  0.005401\n",
       "Asian-Pac-Islander  738    289   0.219073  0.001523"
      ]
     },
     "execution_count": 61,
     "metadata": {},
     "output_type": "execute_result"
    }
   ],
   "source": [
    "df = woefun('race')\n",
    "df.sort_values('WoE')"
   ]
  },
  {
   "cell_type": "markdown",
   "id": "6fbfca39",
   "metadata": {},
   "source": [
    "Patrząc na wartości IV, zmienna `race` może być słabym predykatorem. Patrząc na wartośći WoE oraz mając na uwadzę naszą wcześniejszą analizę zmiennej, wydaje się że można podzielić wartości na dwie kategorie."
   ]
  },
  {
   "cell_type": "code",
   "execution_count": 62,
   "id": "1e96bd3c",
   "metadata": {},
   "outputs": [],
   "source": [
    "census_df['race'] = census_df['race'].replace(['Other', 'Amer-Indian-Eskimo', 'Black'] , 1)\n",
    "census_df['race'] = census_df['race'].replace(['White', 'Asian-Pac-Islander'] , 2)"
   ]
  },
  {
   "cell_type": "code",
   "execution_count": 63,
   "id": "a895e9f5",
   "metadata": {},
   "outputs": [
    {
     "data": {
      "text/html": [
       "<div>\n",
       "<style scoped>\n",
       "    .dataframe tbody tr th:only-of-type {\n",
       "        vertical-align: middle;\n",
       "    }\n",
       "\n",
       "    .dataframe tbody tr th {\n",
       "        vertical-align: top;\n",
       "    }\n",
       "\n",
       "    .dataframe thead th {\n",
       "        text-align: right;\n",
       "    }\n",
       "</style>\n",
       "<table border=\"1\" class=\"dataframe\">\n",
       "  <thead>\n",
       "    <tr style=\"text-align: right;\">\n",
       "      <th>income_level</th>\n",
       "      <th>0</th>\n",
       "      <th>1</th>\n",
       "      <th>WoE</th>\n",
       "      <th>IV</th>\n",
       "    </tr>\n",
       "    <tr>\n",
       "      <th>education_num</th>\n",
       "      <th></th>\n",
       "      <th></th>\n",
       "      <th></th>\n",
       "      <th></th>\n",
       "    </tr>\n",
       "  </thead>\n",
       "  <tbody>\n",
       "    <tr>\n",
       "      <th>1</th>\n",
       "      <td>57</td>\n",
       "      <td>1</td>\n",
       "      <td>-2.886461</td>\n",
       "      <td>0.005973</td>\n",
       "    </tr>\n",
       "    <tr>\n",
       "      <th>2</th>\n",
       "      <td>170</td>\n",
       "      <td>6</td>\n",
       "      <td>-2.187449</td>\n",
       "      <td>0.012694</td>\n",
       "    </tr>\n",
       "    <tr>\n",
       "      <th>7</th>\n",
       "      <td>1220</td>\n",
       "      <td>62</td>\n",
       "      <td>-1.822882</td>\n",
       "      <td>0.071694</td>\n",
       "    </tr>\n",
       "    <tr>\n",
       "      <th>3</th>\n",
       "      <td>345</td>\n",
       "      <td>20</td>\n",
       "      <td>-1.691222</td>\n",
       "      <td>0.018300</td>\n",
       "    </tr>\n",
       "    <tr>\n",
       "      <th>5</th>\n",
       "      <td>515</td>\n",
       "      <td>31</td>\n",
       "      <td>-1.653590</td>\n",
       "      <td>0.026478</td>\n",
       "    </tr>\n",
       "    <tr>\n",
       "      <th>6</th>\n",
       "      <td>896</td>\n",
       "      <td>55</td>\n",
       "      <td>-1.634017</td>\n",
       "      <td>0.045308</td>\n",
       "    </tr>\n",
       "    <tr>\n",
       "      <th>8</th>\n",
       "      <td>426</td>\n",
       "      <td>27</td>\n",
       "      <td>-1.602013</td>\n",
       "      <td>0.020953</td>\n",
       "    </tr>\n",
       "    <tr>\n",
       "      <th>4</th>\n",
       "      <td>628</td>\n",
       "      <td>42</td>\n",
       "      <td>-1.548281</td>\n",
       "      <td>0.029437</td>\n",
       "    </tr>\n",
       "    <tr>\n",
       "      <th>9</th>\n",
       "      <td>9260</td>\n",
       "      <td>1782</td>\n",
       "      <td>-0.491378</td>\n",
       "      <td>0.067919</td>\n",
       "    </tr>\n",
       "    <tr>\n",
       "      <th>10</th>\n",
       "      <td>6185</td>\n",
       "      <td>1415</td>\n",
       "      <td>-0.318408</td>\n",
       "      <td>0.020649</td>\n",
       "    </tr>\n",
       "    <tr>\n",
       "      <th>12</th>\n",
       "      <td>842</td>\n",
       "      <td>283</td>\n",
       "      <td>0.066257</td>\n",
       "      <td>0.000147</td>\n",
       "    </tr>\n",
       "    <tr>\n",
       "      <th>11</th>\n",
       "      <td>1080</td>\n",
       "      <td>375</td>\n",
       "      <td>0.098799</td>\n",
       "      <td>0.000426</td>\n",
       "    </tr>\n",
       "    <tr>\n",
       "      <th>13</th>\n",
       "      <td>3294</td>\n",
       "      <td>2303</td>\n",
       "      <td>0.798700</td>\n",
       "      <td>0.123681</td>\n",
       "    </tr>\n",
       "    <tr>\n",
       "      <th>14</th>\n",
       "      <td>827</td>\n",
       "      <td>1038</td>\n",
       "      <td>1.383836</td>\n",
       "      <td>0.131577</td>\n",
       "    </tr>\n",
       "    <tr>\n",
       "      <th>16</th>\n",
       "      <td>113</td>\n",
       "      <td>315</td>\n",
       "      <td>2.181775</td>\n",
       "      <td>0.074527</td>\n",
       "    </tr>\n",
       "    <tr>\n",
       "      <th>15</th>\n",
       "      <td>150</td>\n",
       "      <td>426</td>\n",
       "      <td>2.200394</td>\n",
       "      <td>0.101888</td>\n",
       "    </tr>\n",
       "  </tbody>\n",
       "</table>\n",
       "</div>"
      ],
      "text/plain": [
       "income_level      0     1       WoE        IV\n",
       "education_num                                \n",
       "1              57    1    -2.886461  0.005973\n",
       "2              170   6    -2.187449  0.012694\n",
       "7              1220  62   -1.822882  0.071694\n",
       "3              345   20   -1.691222  0.018300\n",
       "5              515   31   -1.653590  0.026478\n",
       "6              896   55   -1.634017  0.045308\n",
       "8              426   27   -1.602013  0.020953\n",
       "4              628   42   -1.548281  0.029437\n",
       "9              9260  1782 -0.491378  0.067919\n",
       "10             6185  1415 -0.318408  0.020649\n",
       "12             842   283   0.066257  0.000147\n",
       "11             1080  375   0.098799  0.000426\n",
       "13             3294  2303  0.798700  0.123681\n",
       "14             827   1038  1.383836  0.131577\n",
       "16             113   315   2.181775  0.074527\n",
       "15             150   426   2.200394  0.101888"
      ]
     },
     "execution_count": 63,
     "metadata": {},
     "output_type": "execute_result"
    }
   ],
   "source": [
    "df = woefun('education_num')\n",
    "df.sort_values('WoE')"
   ]
  },
  {
   "cell_type": "markdown",
   "id": "23924658",
   "metadata": {},
   "source": [
    "Patrząc na ułożenie odpowiednich wartości zmiennej `education_num` po posegregowaniu według wartości WoE, można stwierdzić, że poziom edukacji ma znaczenie, co zauważyliśmy już wcześniej. Pogrupujmy zmienną. "
   ]
  },
  {
   "cell_type": "code",
   "execution_count": 64,
   "id": "67568e34",
   "metadata": {},
   "outputs": [],
   "source": [
    "census_df['education_num'] = census_df['education_num'].replace([3,4,5,6,7,8] , 3)\n",
    "census_df['education_num'] = census_df['education_num'].replace([9, 10] , 4)\n",
    "census_df['education_num'] = census_df['education_num'].replace([11, 12] , 5)\n",
    "census_df['education_num'] = census_df['education_num'].replace([13] , 6)\n",
    "census_df['education_num'] = census_df['education_num'].replace([14] , 7)\n",
    "census_df['education_num'] = census_df['education_num'].replace([15, 16] , 8)"
   ]
  },
  {
   "cell_type": "code",
   "execution_count": 65,
   "id": "f7981a51",
   "metadata": {},
   "outputs": [
    {
     "data": {
      "text/html": [
       "<div>\n",
       "<style scoped>\n",
       "    .dataframe tbody tr th:only-of-type {\n",
       "        vertical-align: middle;\n",
       "    }\n",
       "\n",
       "    .dataframe tbody tr th {\n",
       "        vertical-align: top;\n",
       "    }\n",
       "\n",
       "    .dataframe thead th {\n",
       "        text-align: right;\n",
       "    }\n",
       "</style>\n",
       "<table border=\"1\" class=\"dataframe\">\n",
       "  <thead>\n",
       "    <tr style=\"text-align: right;\">\n",
       "      <th>income_level</th>\n",
       "      <th>0</th>\n",
       "      <th>1</th>\n",
       "      <th>WoE</th>\n",
       "      <th>IV</th>\n",
       "    </tr>\n",
       "    <tr>\n",
       "      <th>age</th>\n",
       "      <th></th>\n",
       "      <th></th>\n",
       "      <th></th>\n",
       "      <th></th>\n",
       "    </tr>\n",
       "  </thead>\n",
       "  <tbody>\n",
       "    <tr>\n",
       "      <th>1</th>\n",
       "      <td>4147</td>\n",
       "      <td>14</td>\n",
       "      <td>-4.534493</td>\n",
       "      <td>0.715269</td>\n",
       "    </tr>\n",
       "    <tr>\n",
       "      <th>2</th>\n",
       "      <td>3269</td>\n",
       "      <td>160</td>\n",
       "      <td>-1.860476</td>\n",
       "      <td>0.197461</td>\n",
       "    </tr>\n",
       "    <tr>\n",
       "      <th>3</th>\n",
       "      <td>2954</td>\n",
       "      <td>523</td>\n",
       "      <td>-0.574744</td>\n",
       "      <td>0.028537</td>\n",
       "    </tr>\n",
       "    <tr>\n",
       "      <th>4</th>\n",
       "      <td>2147</td>\n",
       "      <td>606</td>\n",
       "      <td>-0.108357</td>\n",
       "      <td>0.000919</td>\n",
       "    </tr>\n",
       "    <tr>\n",
       "      <th>10</th>\n",
       "      <td>2376</td>\n",
       "      <td>833</td>\n",
       "      <td>0.108450</td>\n",
       "      <td>0.001135</td>\n",
       "    </tr>\n",
       "    <tr>\n",
       "      <th>5</th>\n",
       "      <td>2583</td>\n",
       "      <td>1047</td>\n",
       "      <td>0.253567</td>\n",
       "      <td>0.007268</td>\n",
       "    </tr>\n",
       "    <tr>\n",
       "      <th>6</th>\n",
       "      <td>2287</td>\n",
       "      <td>1177</td>\n",
       "      <td>0.492318</td>\n",
       "      <td>0.027538</td>\n",
       "    </tr>\n",
       "    <tr>\n",
       "      <th>9</th>\n",
       "      <td>2284</td>\n",
       "      <td>1341</td>\n",
       "      <td>0.624077</td>\n",
       "      <td>0.047491</td>\n",
       "    </tr>\n",
       "    <tr>\n",
       "      <th>7</th>\n",
       "      <td>1962</td>\n",
       "      <td>1156</td>\n",
       "      <td>0.627591</td>\n",
       "      <td>0.041336</td>\n",
       "    </tr>\n",
       "    <tr>\n",
       "      <th>8</th>\n",
       "      <td>1999</td>\n",
       "      <td>1324</td>\n",
       "      <td>0.744600</td>\n",
       "      <td>0.063274</td>\n",
       "    </tr>\n",
       "  </tbody>\n",
       "</table>\n",
       "</div>"
      ],
      "text/plain": [
       "income_level     0     1       WoE        IV\n",
       "age                                         \n",
       "1             4147  14   -4.534493  0.715269\n",
       "2             3269  160  -1.860476  0.197461\n",
       "3             2954  523  -0.574744  0.028537\n",
       "4             2147  606  -0.108357  0.000919\n",
       "10            2376  833   0.108450  0.001135\n",
       "5             2583  1047  0.253567  0.007268\n",
       "6             2287  1177  0.492318  0.027538\n",
       "9             2284  1341  0.624077  0.047491\n",
       "7             1962  1156  0.627591  0.041336\n",
       "8             1999  1324  0.744600  0.063274"
      ]
     },
     "execution_count": 65,
     "metadata": {},
     "output_type": "execute_result"
    }
   ],
   "source": [
    "df = woefun('age')\n",
    "df.sort_values('WoE')"
   ]
  },
  {
   "cell_type": "code",
   "execution_count": 66,
   "id": "4d07db45",
   "metadata": {},
   "outputs": [],
   "source": [
    "census_df['age'] = census_df['age'].replace([4, 10, 5] , 4)\n",
    "census_df['age'] = census_df['age'].replace([6,7,8,9] , 5)"
   ]
  },
  {
   "cell_type": "code",
   "execution_count": 67,
   "id": "af040eea",
   "metadata": {},
   "outputs": [
    {
     "data": {
      "text/html": [
       "<div>\n",
       "<style scoped>\n",
       "    .dataframe tbody tr th:only-of-type {\n",
       "        vertical-align: middle;\n",
       "    }\n",
       "\n",
       "    .dataframe tbody tr th {\n",
       "        vertical-align: top;\n",
       "    }\n",
       "\n",
       "    .dataframe thead th {\n",
       "        text-align: right;\n",
       "    }\n",
       "</style>\n",
       "<table border=\"1\" class=\"dataframe\">\n",
       "  <thead>\n",
       "    <tr style=\"text-align: right;\">\n",
       "      <th>income_level</th>\n",
       "      <th>0</th>\n",
       "      <th>1</th>\n",
       "      <th>WoE</th>\n",
       "      <th>IV</th>\n",
       "    </tr>\n",
       "    <tr>\n",
       "      <th>hours_per_week</th>\n",
       "      <th></th>\n",
       "      <th></th>\n",
       "      <th></th>\n",
       "      <th></th>\n",
       "    </tr>\n",
       "  </thead>\n",
       "  <tbody>\n",
       "    <tr>\n",
       "      <th>1</th>\n",
       "      <td>6598</td>\n",
       "      <td>607</td>\n",
       "      <td>-1.229403</td>\n",
       "      <td>0.220672</td>\n",
       "    </tr>\n",
       "    <tr>\n",
       "      <th>2</th>\n",
       "      <td>15091</td>\n",
       "      <td>4438</td>\n",
       "      <td>-0.067305</td>\n",
       "      <td>0.002542</td>\n",
       "    </tr>\n",
       "    <tr>\n",
       "      <th>3</th>\n",
       "      <td>4319</td>\n",
       "      <td>3136</td>\n",
       "      <td>0.836514</td>\n",
       "      <td>0.181743</td>\n",
       "    </tr>\n",
       "  </tbody>\n",
       "</table>\n",
       "</div>"
      ],
      "text/plain": [
       "income_level        0     1       WoE        IV\n",
       "hours_per_week                                 \n",
       "1               6598   607  -1.229403  0.220672\n",
       "2               15091  4438 -0.067305  0.002542\n",
       "3               4319   3136  0.836514  0.181743"
      ]
     },
     "execution_count": 67,
     "metadata": {},
     "output_type": "execute_result"
    }
   ],
   "source": [
    "df = woefun('hours_per_week')\n",
    "df.sort_values('WoE')"
   ]
  },
  {
   "cell_type": "markdown",
   "id": "ca869b1e",
   "metadata": {},
   "source": [
    "Zmienna `hours_per_week` jest już dobrze przygotowana. "
   ]
  },
  {
   "cell_type": "code",
   "execution_count": 68,
   "id": "48cef496",
   "metadata": {},
   "outputs": [
    {
     "data": {
      "text/html": [
       "<div>\n",
       "<style scoped>\n",
       "    .dataframe tbody tr th:only-of-type {\n",
       "        vertical-align: middle;\n",
       "    }\n",
       "\n",
       "    .dataframe tbody tr th {\n",
       "        vertical-align: top;\n",
       "    }\n",
       "\n",
       "    .dataframe thead th {\n",
       "        text-align: right;\n",
       "    }\n",
       "</style>\n",
       "<table border=\"1\" class=\"dataframe\">\n",
       "  <thead>\n",
       "    <tr style=\"text-align: right;\">\n",
       "      <th>income_level</th>\n",
       "      <th>0</th>\n",
       "      <th>1</th>\n",
       "      <th>WoE</th>\n",
       "      <th>IV</th>\n",
       "    </tr>\n",
       "    <tr>\n",
       "      <th>capital_loss</th>\n",
       "      <th></th>\n",
       "      <th></th>\n",
       "      <th></th>\n",
       "      <th></th>\n",
       "    </tr>\n",
       "  </thead>\n",
       "  <tbody>\n",
       "    <tr>\n",
       "      <th>1</th>\n",
       "      <td>251</td>\n",
       "      <td>71</td>\n",
       "      <td>-0.106183</td>\n",
       "      <td>0.000103</td>\n",
       "    </tr>\n",
       "    <tr>\n",
       "      <th>0</th>\n",
       "      <td>25216</td>\n",
       "      <td>7364</td>\n",
       "      <td>-0.074286</td>\n",
       "      <td>0.005156</td>\n",
       "    </tr>\n",
       "    <tr>\n",
       "      <th>2</th>\n",
       "      <td>273</td>\n",
       "      <td>217</td>\n",
       "      <td>0.927015</td>\n",
       "      <td>0.014858</td>\n",
       "    </tr>\n",
       "    <tr>\n",
       "      <th>5</th>\n",
       "      <td>154</td>\n",
       "      <td>157</td>\n",
       "      <td>1.175883</td>\n",
       "      <td>0.015603</td>\n",
       "    </tr>\n",
       "    <tr>\n",
       "      <th>4</th>\n",
       "      <td>102</td>\n",
       "      <td>167</td>\n",
       "      <td>1.649611</td>\n",
       "      <td>0.027204</td>\n",
       "    </tr>\n",
       "    <tr>\n",
       "      <th>3</th>\n",
       "      <td>12</td>\n",
       "      <td>205</td>\n",
       "      <td>3.994693</td>\n",
       "      <td>0.098256</td>\n",
       "    </tr>\n",
       "  </tbody>\n",
       "</table>\n",
       "</div>"
      ],
      "text/plain": [
       "income_level      0     1       WoE        IV\n",
       "capital_loss                                 \n",
       "1             251    71   -0.106183  0.000103\n",
       "0             25216  7364 -0.074286  0.005156\n",
       "2             273    217   0.927015  0.014858\n",
       "5             154    157   1.175883  0.015603\n",
       "4             102    167   1.649611  0.027204\n",
       "3             12     205   3.994693  0.098256"
      ]
     },
     "execution_count": 68,
     "metadata": {},
     "output_type": "execute_result"
    }
   ],
   "source": [
    "df = woefun('capital_loss')\n",
    "df.sort_values('WoE')"
   ]
  },
  {
   "cell_type": "code",
   "execution_count": 69,
   "id": "6187e88c",
   "metadata": {},
   "outputs": [],
   "source": [
    "census_df['capital_loss'] = census_df['capital_loss'].replace([0], 1)\n",
    "census_df['capital_loss'] = census_df['capital_loss'].replace([2, 5], 2)\n",
    "census_df['capital_loss'] = census_df['capital_loss'].replace([4], 3)\n",
    "census_df['capital_loss'] = census_df['capital_loss'].replace([3], 4)"
   ]
  },
  {
   "cell_type": "code",
   "execution_count": 70,
   "id": "1f81ca4b",
   "metadata": {},
   "outputs": [
    {
     "data": {
      "text/html": [
       "<div>\n",
       "<style scoped>\n",
       "    .dataframe tbody tr th:only-of-type {\n",
       "        vertical-align: middle;\n",
       "    }\n",
       "\n",
       "    .dataframe tbody tr th {\n",
       "        vertical-align: top;\n",
       "    }\n",
       "\n",
       "    .dataframe thead th {\n",
       "        text-align: right;\n",
       "    }\n",
       "</style>\n",
       "<table border=\"1\" class=\"dataframe\">\n",
       "  <thead>\n",
       "    <tr style=\"text-align: right;\">\n",
       "      <th>income_level</th>\n",
       "      <th>0</th>\n",
       "      <th>1</th>\n",
       "      <th>WoE</th>\n",
       "      <th>IV</th>\n",
       "    </tr>\n",
       "    <tr>\n",
       "      <th>capital_gain</th>\n",
       "      <th></th>\n",
       "      <th></th>\n",
       "      <th></th>\n",
       "      <th></th>\n",
       "    </tr>\n",
       "  </thead>\n",
       "  <tbody>\n",
       "    <tr>\n",
       "      <th>1</th>\n",
       "      <td>486</td>\n",
       "      <td>89</td>\n",
       "      <td>-0.540982</td>\n",
       "      <td>0.004224</td>\n",
       "    </tr>\n",
       "    <tr>\n",
       "      <th>2</th>\n",
       "      <td>475</td>\n",
       "      <td>95</td>\n",
       "      <td>-0.452848</td>\n",
       "      <td>0.003012</td>\n",
       "    </tr>\n",
       "    <tr>\n",
       "      <th>0</th>\n",
       "      <td>24961</td>\n",
       "      <td>6438</td>\n",
       "      <td>-0.198507</td>\n",
       "      <td>0.034302</td>\n",
       "    </tr>\n",
       "    <tr>\n",
       "      <th>3</th>\n",
       "      <td>71</td>\n",
       "      <td>696</td>\n",
       "      <td>3.439260</td>\n",
       "      <td>0.283207</td>\n",
       "    </tr>\n",
       "    <tr>\n",
       "      <th>5</th>\n",
       "      <td>5</td>\n",
       "      <td>264</td>\n",
       "      <td>5.123101</td>\n",
       "      <td>0.164337</td>\n",
       "    </tr>\n",
       "    <tr>\n",
       "      <th>4</th>\n",
       "      <td>10</td>\n",
       "      <td>599</td>\n",
       "      <td>5.249266</td>\n",
       "      <td>0.382325</td>\n",
       "    </tr>\n",
       "  </tbody>\n",
       "</table>\n",
       "</div>"
      ],
      "text/plain": [
       "income_level      0     1       WoE        IV\n",
       "capital_gain                                 \n",
       "1             486    89   -0.540982  0.004224\n",
       "2             475    95   -0.452848  0.003012\n",
       "0             24961  6438 -0.198507  0.034302\n",
       "3             71     696   3.439260  0.283207\n",
       "5             5      264   5.123101  0.164337\n",
       "4             10     599   5.249266  0.382325"
      ]
     },
     "execution_count": 70,
     "metadata": {},
     "output_type": "execute_result"
    }
   ],
   "source": [
    "df = woefun('capital_gain')\n",
    "df.sort_values('WoE')"
   ]
  },
  {
   "cell_type": "code",
   "execution_count": 71,
   "id": "84912982",
   "metadata": {},
   "outputs": [],
   "source": [
    "census_df['capital_gain'] = census_df['capital_gain'].replace([2], 1)\n",
    "census_df['capital_gain'] = census_df['capital_gain'].replace([0], 2)\n",
    "census_df['capital_gain'] = census_df['capital_gain'].replace([4,5], 4)"
   ]
  },
  {
   "cell_type": "code",
   "execution_count": 72,
   "id": "8290216c",
   "metadata": {},
   "outputs": [
    {
     "data": {
      "text/html": [
       "<div>\n",
       "<style scoped>\n",
       "    .dataframe tbody tr th:only-of-type {\n",
       "        vertical-align: middle;\n",
       "    }\n",
       "\n",
       "    .dataframe tbody tr th {\n",
       "        vertical-align: top;\n",
       "    }\n",
       "\n",
       "    .dataframe thead th {\n",
       "        text-align: right;\n",
       "    }\n",
       "</style>\n",
       "<table border=\"1\" class=\"dataframe\">\n",
       "  <thead>\n",
       "    <tr style=\"text-align: right;\">\n",
       "      <th>income_level</th>\n",
       "      <th>0</th>\n",
       "      <th>1</th>\n",
       "      <th>WoE</th>\n",
       "      <th>IV</th>\n",
       "    </tr>\n",
       "    <tr>\n",
       "      <th>sex</th>\n",
       "      <th></th>\n",
       "      <th></th>\n",
       "      <th></th>\n",
       "      <th></th>\n",
       "    </tr>\n",
       "  </thead>\n",
       "  <tbody>\n",
       "    <tr>\n",
       "      <th>Female</th>\n",
       "      <td>10102</td>\n",
       "      <td>1211</td>\n",
       "      <td>-0.964697</td>\n",
       "      <td>0.231906</td>\n",
       "    </tr>\n",
       "    <tr>\n",
       "      <th>Male</th>\n",
       "      <td>15906</td>\n",
       "      <td>6970</td>\n",
       "      <td>0.331509</td>\n",
       "      <td>0.079692</td>\n",
       "    </tr>\n",
       "  </tbody>\n",
       "</table>\n",
       "</div>"
      ],
      "text/plain": [
       "income_level      0     1       WoE        IV\n",
       "sex                                          \n",
       "Female        10102  1211 -0.964697  0.231906\n",
       "Male          15906  6970  0.331509  0.079692"
      ]
     },
     "execution_count": 72,
     "metadata": {},
     "output_type": "execute_result"
    }
   ],
   "source": [
    "df = woefun('sex')\n",
    "df.sort_values('WoE')"
   ]
  },
  {
   "cell_type": "markdown",
   "id": "bc32e7da",
   "metadata": {},
   "source": [
    "Zmienną dotyczącą płci też zmienimy na zmienną binarną."
   ]
  },
  {
   "cell_type": "code",
   "execution_count": 73,
   "id": "9e541ba9",
   "metadata": {},
   "outputs": [],
   "source": [
    "census_df['sex'] = census_df['sex'].replace(['Female'], 0)\n",
    "census_df['sex'] = census_df['sex'].replace(['Male'], 1)"
   ]
  },
  {
   "cell_type": "code",
   "execution_count": 74,
   "id": "6c3c4c24",
   "metadata": {},
   "outputs": [
    {
     "data": {
      "image/png": "[encoded data removed]",
      "text/plain": [
       "<Figure size 1332x432 with 4 Axes>"
      ]
     },
     "metadata": {
      "needs_background": "light"
     },
     "output_type": "display_data"
    }
   ],
   "source": [
    "fig, (ax1, ax2) = plt.subplots(1,2)\n",
    "heatmap = sns.heatmap(census_df.corr(method = 'spearman'), annot=True, vmin=-1, vmax=1, cmap=\"RdBu_r\", ax=ax1)\n",
    "heatmap = sns.heatmap(census_df.corr(method = 'pearson'), annot=True, vmin=-1, vmax=1, cmap=\"RdBu_r\", ax=ax2)\n",
    "ax1.set_title(\"Korelacje Spearmana\")\n",
    "ax2.set_title(\"Korelacje Pearsona\")\n",
    "fig.set_size_inches(18.5, 6)\n",
    "plt.show()"
   ]
  },
  {
   "cell_type": "markdown",
   "id": "e916a8e1",
   "metadata": {},
   "source": [
    "**Nie wiem co tu się wydarzyło w sumie :(( Nie ma żadnej ze starych zmiennych XD** \n",
    "\n",
    "Widać, że zmienne korelują ze zmienną celu na poziomie 0.1 - 0.44 dla korelacji Spearmana i prawie identycznym zakresie w przypadku korelacji Pearsona. Możemy także zauważyć, że zmienne, `relationship` i `marital_status` są od siebie wyraźnie zależne. Podobnie, korelację na poziomie -1 mają zmienne `country_Other` i `country_United_States`, co wynika z tego, że jest uprzednio zakodowana one-hot kolumna `country`.\n",
    "\n",
    "Warto spojrzeć jeszcze na zmienne pod kątem ich siły predykcji zmiennej celu. Zbadamy wskaźnik gini."
   ]
  },
  {
   "cell_type": "code",
   "execution_count": 75,
   "id": "7c182e68",
   "metadata": {},
   "outputs": [],
   "source": [
    "import copy"
   ]
  },
  {
   "cell_type": "code",
   "execution_count": 76,
   "id": "0c3234fa",
   "metadata": {},
   "outputs": [],
   "source": [
    "kopia = copy.deepcopy(census_df)"
   ]
  },
  {
   "cell_type": "code",
   "execution_count": 77,
   "id": "c452f28f",
   "metadata": {},
   "outputs": [],
   "source": [
    "census_df = copy.deepcopy(kopia)"
   ]
  },
  {
   "cell_type": "code",
   "execution_count": 78,
   "id": "199b2ce2",
   "metadata": {},
   "outputs": [],
   "source": [
    "from sklearn import metrics\n",
    "from sklearn.linear_model import LogisticRegression\n",
    "from sklearn.metrics import accuracy_score"
   ]
  },
  {
   "cell_type": "code",
   "execution_count": 79,
   "id": "3b379661",
   "metadata": {},
   "outputs": [],
   "source": [
    "def gini_roc(y_test, y_pred_proba, tytul):\n",
    "    \n",
    "    fpr, tpr, _ = metrics.roc_curve(y_test,  y_pred_proba)\n",
    "    \n",
    "    plt.plot(fpr,tpr)\n",
    "    plt.title(tytul)\n",
    "    plt.ylabel('True Positive Rate')\n",
    "    plt.xlabel('False Positive Rate')\n",
    "    plt.show()\n",
    "    \n",
    "    roc_auc = metrics.auc(fpr, tpr)\n",
    "    gini = (2 * roc_auc) - 1\n",
    "\n",
    "    return gini\n",
    "\n",
    "def gini_train_val(model, X_train, y_train):\n",
    "    \n",
    "    y_pred_proba = model.predict_proba(X_train)[::,1]\n",
    "    gini_train = gini_roc(y_train, y_pred_proba, \"ROC Curve for Training Sample\")\n",
    "    print(\"gini_test: %.4f\" % gini_train)\n",
    "\n",
    "    return"
   ]
  },
  {
   "cell_type": "code",
   "execution_count": 80,
   "id": "ecccf427",
   "metadata": {},
   "outputs": [
    {
     "data": {
      "text/plain": [
       "1.5227124591036618"
      ]
     },
     "execution_count": 80,
     "metadata": {},
     "output_type": "execute_result"
    }
   ],
   "source": [
    "woefun('relationship')['IV'].sum()"
   ]
  },
  {
   "cell_type": "code",
   "execution_count": 81,
   "id": "18e34e2b",
   "metadata": {},
   "outputs": [
    {
     "data": {
      "text/plain": [
       "1.3272607834972492"
      ]
     },
     "execution_count": 81,
     "metadata": {},
     "output_type": "execute_result"
    }
   ],
   "source": [
    "woefun('marital_status')['IV'].sum()"
   ]
  },
  {
   "cell_type": "code",
   "execution_count": 82,
   "id": "df588419",
   "metadata": {},
   "outputs": [],
   "source": [
    "y_train = census_df['income_level']\n",
    "census_df.drop('income_level', inplace = True, axis = 1)"
   ]
  },
  {
   "cell_type": "code",
   "execution_count": 83,
   "id": "ba1a1c0a",
   "metadata": {},
   "outputs": [],
   "source": [
    "lr = LogisticRegression(max_iter=1000)"
   ]
  },
  {
   "cell_type": "code",
   "execution_count": 84,
   "id": "4b37c745",
   "metadata": {},
   "outputs": [
    {
     "data": {
      "text/plain": [
       "LogisticRegression(max_iter=1000)"
      ]
     },
     "execution_count": 84,
     "metadata": {},
     "output_type": "execute_result"
    }
   ],
   "source": [
    "lr.fit(census_df[['marital_status']], y_train)"
   ]
  },
  {
   "cell_type": "code",
   "execution_count": 85,
   "id": "a7426f7b",
   "metadata": {},
   "outputs": [
    {
     "data": {
      "image/png": "[encoded data removed]",
      "text/plain": [
       "<Figure size 432x288 with 1 Axes>"
      ]
     },
     "metadata": {
      "needs_background": "light"
     },
     "output_type": "display_data"
    },
    {
     "name": "stdout",
     "output_type": "stream",
     "text": [
      "gini_test: 0.5370\n"
     ]
    }
   ],
   "source": [
    "gini_train_val(lr, census_df[['marital_status']], y_train)"
   ]
  },
  {
   "cell_type": "code",
   "execution_count": 86,
   "id": "27d7e02d",
   "metadata": {},
   "outputs": [
    {
     "data": {
      "image/png": "[encoded data removed]",
      "text/plain": [
       "<Figure size 432x288 with 1 Axes>"
      ]
     },
     "metadata": {
      "needs_background": "light"
     },
     "output_type": "display_data"
    },
    {
     "name": "stdout",
     "output_type": "stream",
     "text": [
      "gini_test: 0.5569\n"
     ]
    }
   ],
   "source": [
    "lr.fit(census_df[['relationship']], y_train)\n",
    "gini_train_val(lr, census_df[['relationship']], y_train)"
   ]
  },
  {
   "cell_type": "markdown",
   "id": "751bf284",
   "metadata": {},
   "source": [
    "Po zbadaniu gini wyłącznie dla `marital_status` i `relationship` dla regresji logistycznej, możemy stwierdzić, że uzyskany score jest lepszy dla tej drugiej zmiennej. Podobnie wnioski można wyciągnąć ze zbadania Information value, gdyż także ta wartość jest wyższa dla zmiennej `relationship`. Jako, że obie wysoko korelują ze sobą, można usunąć zmienną `marital_status`. **sens???**  "
   ]
  },
  {
   "cell_type": "code",
   "execution_count": 87,
   "id": "826b309c",
   "metadata": {},
   "outputs": [],
   "source": [
    "# # Przetworzenie zbioru testowego\n",
    "# census_df_test.drop(\"fnlwgt\", axis=1, inplace=True)\n",
    "# census_df_test.drop(\"education\", axis=1, inplace=True)\n",
    "# census_df_test['income_level'] = census_df_test['income_level'].replace(['<=50K','>50K'],[0, 1])\n",
    "# census_df_test['age'] = pd.qcut(census_df_test['age'], 10, labels=[1, 2, 3, 4, 5, 6, 7, 8, 9, 10])\n",
    "# census_df_test['hours_per_week'] = pd.cut(census_df_test['hours_per_week'], bins=[0, 35, 45, np.inf], labels=[1, 2, 3])\n",
    "# census_df_test['capital_gain'] = pd.cut(census_df_test['capital_gain'], bins=[-1, 114.0, 3103.0, 5013.0, 7688.0, 15024.0, np.inf], \n",
    "#              labels=[0, 1, 2, 3, 4, 5])\n",
    "# census_df_test['capital_loss'] = pd.cut(census_df_test['capital_loss'], bins=[-1, 155.0, 1619.2, 1887.0, 1902.0, 2002.0, np.inf], \n",
    "#              labels=[0, 1, 2, 3, 4, 5])\n",
    "\n",
    "# census_df_test.loc[(census_df_test.native_country != 'United-States') & (census_df_test.native_country != 'United-States'), 'native_country'] = \"Other\"\n",
    "\n",
    "# country_df_test = pd.get_dummies(census_df_test['native_country'], prefix='country_')\n",
    "# census_df_test = pd.concat([census_df_test, country_df_test], axis=1)\n",
    "# census_df_test.drop(['native_country'],  axis=1, inplace = True)"
   ]
  },
  {
   "cell_type": "code",
   "execution_count": 88,
   "id": "a976311e",
   "metadata": {},
   "outputs": [],
   "source": [
    "# def WoETransform(census_df):\n",
    "#     census_df['workclass'] = census_df['workclass'].replace(['Without-pay', 'Never-worked', '?'] , 0)\n",
    "#     census_df['workclass'] = census_df['workclass'].replace(['Private'] , 1)\n",
    "#     census_df['workclass'] = census_df['workclass'].replace(['Self-emp-not-inc', 'State-gov', 'Local-gov'] , 2)\n",
    "#     census_df['workclass'] = census_df['workclass'].replace(['Federal-gov'] , 3)\n",
    "#     census_df['workclass'] = census_df['workclass'].replace(['Self-emp-inc'] , 4)\n",
    "\n",
    "#     census_df['occupation'] = census_df['occupation'].replace(['Priv-house-serv'] , 1)\n",
    "#     census_df['occupation'] = census_df['occupation'].replace(['Other-service', 'Handlers-cleaners' ] , 2)\n",
    "#     census_df['occupation'] = census_df['occupation'].replace(['?', 'Adm-clerical','Machine-op-inspct', 'Farming-fishing'] , 3)\n",
    "#     census_df['occupation'] = census_df['occupation'].replace(['Transport-moving', 'Craft-repair'] , 4)\n",
    "#     census_df['occupation'] = census_df['occupation'].replace(['Sales', 'Tech-support', 'Protective-serv', 'Armed-Forces'] , 5)\n",
    "#     census_df['occupation'] = census_df['occupation'].replace(['Prof-specialty', 'Exec-managerial'] , 6)\n",
    "\n",
    "#     census_df['relationship'] = census_df['relationship'].replace(['Own-child'] , 1)\n",
    "#     census_df['relationship'] = census_df['relationship'].replace(['Other-relative'] , 2)\n",
    "#     census_df['relationship'] = census_df['relationship'].replace(['Unmarried'] , 3)\n",
    "#     census_df['relationship'] = census_df['relationship'].replace(['Not-in-family'] , 4)\n",
    "#     census_df['relationship'] = census_df['relationship'].replace(['Wife', 'Husband'] , 5)\n",
    "    \n",
    "#     census_df['marital_status'] = census_df['marital_status'].replace(['Never-married', 'Separated'] , 1)\n",
    "#     census_df['marital_status'] = census_df['marital_status'].replace(['Widowed', 'Married-spouse-absent', 'Divorced'] , 2)\n",
    "#     census_df['marital_status'] = census_df['marital_status'].replace(['Married-AF-spouse', 'Married-civ-spouse'] , 3)\n",
    "    \n",
    "#     census_df['race'] = census_df['race'].replace(['Other', 'Amer-Indian-Eskimo', 'Black'] , 1)\n",
    "#     census_df['race'] = census_df['race'].replace(['White', 'Asian-Pac-Islander'] , 2)\n",
    "    \n",
    "#     census_df['education_num'] = census_df['education_num'].replace([3,4,5,6,7,8] , 3)\n",
    "#     census_df['education_num'] = census_df['education_num'].replace([9, 10] , 4)\n",
    "#     census_df['education_num'] = census_df['education_num'].replace([11, 12] , 5)\n",
    "#     census_df['education_num'] = census_df['education_num'].replace([13] , 6)\n",
    "#     census_df['education_num'] = census_df['education_num'].replace([14] , 7)\n",
    "#     census_df['education_num'] = census_df['education_num'].replace([15, 16] , 8)\n",
    "    \n",
    "#     census_df['age'] = census_df['age'].replace([4, 10, 5] , 4)\n",
    "#     census_df['age'] = census_df['age'].replace([6,7,8,9] , 5)\n",
    "    \n",
    "#     census_df['capital_loss'] = census_df['capital_loss'].replace([0], 1)\n",
    "#     census_df['capital_loss'] = census_df['capital_loss'].replace([2, 5], 2)\n",
    "#     census_df['capital_loss'] = census_df['capital_loss'].replace([4], 3)\n",
    "#     census_df['capital_loss'] = census_df['capital_loss'].replace([3], 4)\n",
    "\n",
    "#     census_df['capital_gain'] = census_df['capital_gain'].replace([2], 1)\n",
    "#     census_df['capital_gain'] = census_df['capital_gain'].replace([0], 2)\n",
    "#     census_df['capital_gain'] = census_df['capital_gain'].replace([4,5], 4)\n",
    "\n",
    "#     census_df['sex'] = census_df['sex'].replace(['Female'], 0)\n",
    "#     census_df['sex'] = census_df['sex'].replace(['Male'], 1)\n",
    "    \n",
    "#     return census_df\n"
   ]
  },
  {
   "cell_type": "code",
   "execution_count": 89,
   "id": "a1d5cdf1",
   "metadata": {},
   "outputs": [],
   "source": [
    "# census_df_test = WoETransform(census_df_test)"
   ]
  },
  {
   "cell_type": "code",
   "execution_count": 90,
   "id": "fe9b82ac",
   "metadata": {},
   "outputs": [],
   "source": [
    "y_test = census_df_test['income_level']\n",
    "census_df_test.drop('income_level', inplace = True, axis = 1)"
   ]
  },
  {
   "cell_type": "markdown",
   "id": "41024a3b",
   "metadata": {},
   "source": [
    "### Podsumowanie preprocessingu\n",
    "\n",
    "Dzięki eksploracji danych pod kątem dalszej predykcyjności zmiennej określającej, czy ktoś zarabia mniej czy więcej niż 50 000$ rocznie doszliśmy do następujących wniosków:\n",
    "* kolumna `fnlwgt` nie wnosi żadnej wartości pod tym kątem, dlatego została usunięta\n",
    "* kolumny `education` i `education_num` określają dokładnie te same informacje, tylko przekazane w inny sposób. Kolumna, której będziemy używać to `education_num`, ponieważ z danymi numerycznymi, które określają hierarię zmiennej łatwiej się pracuje. Druga została usunięta, ponieważ nie będzie używana w predykcji. Mamy jednak w pamięci oznaczania, których dostarcza.\n",
    "Zmienna ta pokazuje, że im wyższy poziom edukacji, tym osób zarabiających powyżej 50K jest coraz więcej w stosunku do tych zarabiających mniej. \n",
    "* kolumna `age` ujawnia tendencję, że osoby o wyższym przychodzie są starsze, najwięcej w okolicach 45 lat, natomiast wśród drugiej grupy dominują osoby mlode, około 20-letnie. Zmienna ta została podzielona na zmienną kategoryczną o 10 kategoriach, oznaczających decyle\n",
    "* z kolumny `hours_per_week` wynika, że osoby które pracują więcej, zarabiają lepiej, ponieważ znaczna większość osob o wyższych dochodach pracuje więcej niż 35 godin tygodniowo. Ta zmienna również została zamieniona na kategoryczną o 3 kategoriach\n",
    "* kolumna `capital_gain` wnosi informację, że wsród osób, które osiągają zysk kapitałowy na poziomie 10000\\\\$-20000\\\\$` jest znacznie więcej osób dochodzie większym niż 50000\\\\$, natpiast osoby o dochodzie rocznym mniejszym od tej wartości nie przekraczają zysku kapitałowego o wartości 50000\\\\$. Zmienna ta została przekształcona na kategoryczną, grupując zerowe wartości jako jedną kategorię, a pozostałe po kwintylach. \n",
    "* kolumna `capital_loss` wydaje się, że niezbyt wpływa na dochód roczny, ponieważ rozkłady dla obu grup osób są zbliżone.  Zmienna ta została przekształcona na kategoryczną, grupując zerowe wartości jako jedną kategorię, a pozostałe po kwintylach. \n",
    "* kolumna `native_country` dostarcza informacji, że więkość osób stanowią osoby pochodzące ze Stanów Zjednoczonych. Jedyną wybijającą się grupą poza nimi są obywatele Meksyku. Pozostali stanowią niewielką część, dlatego zostali zgrupowani do kategorii *Others*. Do tej kategorii zostały również zaliczone braki danych. Widać było jednak wsród nich zależność, że osoby z bardziej rozwiniętych państw zarabiają więcej.\n",
    "* kolumna `marital_status` wskazuje, że dla każdej z podgrup osób zarabiających mniej jest więcej, jednak różnica ta jest najmniejsza w przypadku osób w związkach małżeńskich\n",
    "* z kolumny `relationship` wynikają podobne informacje jak z `marital_status`. Tu również proporcja osób o różnych poziomach zarobków jest wyrównana dla osób w związku małżeńskim, a dla innych grup występuje znacząca przewaga osób o mniejszych dochodach. W przyszłości można sprawdzić, czy predykcyjność mocno się zmieni po usunięci jednej z nich oraz sprawdzić którą lepiej usunąć.\n",
    "* z kolumny `workclass` dowiadujemy się, że jedyną grupą, dla której przeważają osoby o wyższych dochodach to grupa osób, które posiadają własną firmę\n",
    "* kolumna `occupation` dostarcza informacji, że największy współczynnik osób zarabiającyh lepiej do tych zarabiajaącyh gorzej odnotowany jest wśród osób na stanowiskach kierowniczych i pracujących w specjalizacji. Najmniejszy jest natomiast dla osób pracujących w zawodach odpowiedzialnych za sprzątanie i zajmowanie się domem, gdzie osób zarabaijących powyżej 50K jest bardzo mało.\n",
    "* z kolumn `sex` i `race` można odczytać, że kobiety rzadziej zarabiają powyżej 50 000\\\\$ Jeśli chodzi o rasy to większy odsetek lepiej zarabijących jest wśród ludności białej oraz z Azji i wysp Pacyfiku."
   ]
  },
  {
   "cell_type": "markdown",
   "id": "18455e54",
   "metadata": {},
   "source": [
    "# Modele "
   ]
  },
  {
   "cell_type": "markdown",
   "id": "21550f6a",
   "metadata": {},
   "source": [
    "Skonstruujemy teraz kilka modeli predykcyjnych. Jako, że w naszym zbiorze występują kontrowersyjne kolumny `sex` oraz `race`, zbudujemy modele zarówno na danych ze wszystkimi zmiennymi, a także po wykluczeniu tych dwóch konkretnych. "
   ]
  },
  {
   "cell_type": "code",
   "execution_count": 91,
   "id": "96975002",
   "metadata": {},
   "outputs": [],
   "source": [
    "census_dfv2 = census_df.drop('sex', axis = 1)\n",
    "census_dfv2 = census_dfv2.drop('race', axis = 1)\n",
    "\n",
    "census_df_testv2 = census_df_test.drop('sex', axis = 1)\n",
    "census_df_testv2 = census_df_testv2.drop('race', axis = 1)"
   ]
  },
  {
   "cell_type": "markdown",
   "id": "22d11d09",
   "metadata": {},
   "source": [
    "#### Regresja Logistyczna\n",
    "\n",
    "Na początek wykorzystamy regresję logistyczną. Wykorzystamy już wcześniej zdefiniowany model `lr`."
   ]
  },
  {
   "cell_type": "code",
   "execution_count": 92,
   "id": "65824a77",
   "metadata": {},
   "outputs": [
    {
     "data": {
      "text/plain": [
       "array([1, 1, 1, ..., 1, 0, 0], dtype=int64)"
      ]
     },
     "execution_count": 92,
     "metadata": {},
     "output_type": "execute_result"
    }
   ],
   "source": [
    "lr.fit(census_df, y_train)\n",
    "res = lr.predict(census_df)\n",
    "res"
   ]
  },
  {
   "cell_type": "code",
   "execution_count": 93,
   "id": "0ca231a2",
   "metadata": {},
   "outputs": [
    {
     "data": {
      "text/plain": [
       "0.85387112814063"
      ]
     },
     "execution_count": 93,
     "metadata": {},
     "output_type": "execute_result"
    }
   ],
   "source": [
    "accuracy_score(y_train, res)"
   ]
  },
  {
   "cell_type": "code",
   "execution_count": 94,
   "id": "7311369f",
   "metadata": {},
   "outputs": [
    {
     "data": {
      "image/png": "[encoded data removed]",
      "text/plain": [
       "<Figure size 432x288 with 1 Axes>"
      ]
     },
     "metadata": {
      "needs_background": "light"
     },
     "output_type": "display_data"
    },
    {
     "name": "stdout",
     "output_type": "stream",
     "text": [
      "gini_test: 0.8059\n"
     ]
    }
   ],
   "source": [
    "gini_train_val(lr, census_df, y_train)"
   ]
  },
  {
   "cell_type": "markdown",
   "id": "30032f3d",
   "metadata": {},
   "source": [
    "Zarówno acuracy score jak i wskaźnik gini dla podstawowego zbioru testowego są na wysokim poziomie. Teraz sprawdźmy predykcyjność dla zbioru pozbawionego zmiennych `sex` i `race`"
   ]
  },
  {
   "cell_type": "code",
   "execution_count": 95,
   "id": "18cd0deb",
   "metadata": {},
   "outputs": [
    {
     "data": {
      "text/plain": [
       "array([1, 1, 1, ..., 1, 0, 0], dtype=int64)"
      ]
     },
     "execution_count": 95,
     "metadata": {},
     "output_type": "execute_result"
    }
   ],
   "source": [
    "lr.fit(census_dfv2, y_train)\n",
    "res = lr.predict(census_dfv2)\n",
    "res"
   ]
  },
  {
   "cell_type": "code",
   "execution_count": 96,
   "id": "c4df05ae",
   "metadata": {},
   "outputs": [
    {
     "data": {
      "text/plain": [
       "0.8536078855772324"
      ]
     },
     "execution_count": 96,
     "metadata": {},
     "output_type": "execute_result"
    }
   ],
   "source": [
    "accuracy_score(y_train, res)"
   ]
  },
  {
   "cell_type": "code",
   "execution_count": 97,
   "id": "413b07bb",
   "metadata": {},
   "outputs": [
    {
     "data": {
      "image/png": "[encoded data removed]",
      "text/plain": [
       "<Figure size 432x288 with 1 Axes>"
      ]
     },
     "metadata": {
      "needs_background": "light"
     },
     "output_type": "display_data"
    },
    {
     "name": "stdout",
     "output_type": "stream",
     "text": [
      "gini_test: 0.8053\n"
     ]
    }
   ],
   "source": [
    "gini_train_val(lr, census_dfv2, y_train)"
   ]
  },
  {
   "cell_type": "markdown",
   "id": "fbd247d3",
   "metadata": {},
   "source": [
    "Wyniki różnią się nieznacznie od tych dla całego zbioru. Sprawdźmy jak wynik będzie wyglądał dla zbioru testowego`"
   ]
  },
  {
   "cell_type": "code",
   "execution_count": 98,
   "id": "e1f177b8",
   "metadata": {},
   "outputs": [],
   "source": [
    "# lr.fit(census_df_test, y_test)\n",
    "# res = lr.predict(census_df_test)\n",
    "# res"
   ]
  },
  {
   "cell_type": "code",
   "execution_count": 99,
   "id": "6b73b180",
   "metadata": {},
   "outputs": [],
   "source": [
    "# accuracy_score(y_test, res)"
   ]
  },
  {
   "cell_type": "code",
   "execution_count": 100,
   "id": "b58c2d4d",
   "metadata": {},
   "outputs": [],
   "source": [
    "# gini_train_val(lr, census_df_test, y_test)"
   ]
  },
  {
   "cell_type": "code",
   "execution_count": 101,
   "id": "2bbeeb03",
   "metadata": {},
   "outputs": [],
   "source": [
    "# lr.fit(census_df_testv2, y_test)\n",
    "# res = lr.predict(census_df_testv2)\n",
    "# res"
   ]
  },
  {
   "cell_type": "code",
   "execution_count": 102,
   "id": "89b84c97",
   "metadata": {},
   "outputs": [],
   "source": [
    "# accuracy_score(y_test, res)"
   ]
  },
  {
   "cell_type": "code",
   "execution_count": 103,
   "id": "5bd9160f",
   "metadata": {},
   "outputs": [],
   "source": [
    "# gini_train_val(lr, census_df_testv2, y_test)"
   ]
  },
  {
   "cell_type": "markdown",
   "id": "d1c3b524",
   "metadata": {},
   "source": [
    "Na zbiorze testowym jest podobnie **(Sheeeeesh, to chyba niedobrze)** Nadal się zastanawiam czy testowy też wgl powinien być przetwarzany..."
   ]
  },
  {
   "cell_type": "markdown",
   "id": "c3adbb90",
   "metadata": {},
   "source": [
    "#### Drzewo decyzyjne"
   ]
  },
  {
   "cell_type": "code",
   "execution_count": 104,
   "id": "4f934070",
   "metadata": {},
   "outputs": [
    {
     "data": {
      "text/plain": [
       "array([1, 1, 1, ..., 1, 0, 0], dtype=int64)"
      ]
     },
     "execution_count": 104,
     "metadata": {},
     "output_type": "execute_result"
    }
   ],
   "source": [
    "from sklearn.tree import DecisionTreeClassifier\n",
    "\n",
    "Tree = DecisionTreeClassifier()\n",
    "Tree.fit(census_df, y_train)\n",
    "res = Tree.predict(census_df)\n",
    "res"
   ]
  },
  {
   "cell_type": "code",
   "execution_count": 105,
   "id": "95df937d",
   "metadata": {},
   "outputs": [
    {
     "data": {
      "text/plain": [
       "0.8905788411477376"
      ]
     },
     "execution_count": 105,
     "metadata": {},
     "output_type": "execute_result"
    }
   ],
   "source": [
    "accuracy_score(y_train, res)"
   ]
  },
  {
   "cell_type": "code",
   "execution_count": 106,
   "id": "8f382629",
   "metadata": {},
   "outputs": [
    {
     "data": {
      "image/png": "[encoded data removed]",
      "text/plain": [
       "<Figure size 432x288 with 1 Axes>"
      ]
     },
     "metadata": {
      "needs_background": "light"
     },
     "output_type": "display_data"
    },
    {
     "name": "stdout",
     "output_type": "stream",
     "text": [
      "gini_test: 0.9123\n"
     ]
    }
   ],
   "source": [
    "gini_train_val(Tree, census_df, y_train)"
   ]
  },
  {
   "cell_type": "markdown",
   "id": "fbba9a81",
   "metadata": {},
   "source": [
    "OKURDE chyba jest przetrenowany, za dobrzy w to jesteśmy xD"
   ]
  },
  {
   "cell_type": "code",
   "execution_count": 107,
   "id": "629dc508",
   "metadata": {},
   "outputs": [
    {
     "data": {
      "text/plain": [
       "array([1, 1, 1, ..., 1, 0, 0], dtype=int64)"
      ]
     },
     "execution_count": 107,
     "metadata": {},
     "output_type": "execute_result"
    }
   ],
   "source": [
    "Tree.fit(census_dfv2, y_train)\n",
    "res = Tree.predict(census_dfv2)\n",
    "res"
   ]
  },
  {
   "cell_type": "code",
   "execution_count": 108,
   "id": "ffb2f79a",
   "metadata": {},
   "outputs": [
    {
     "data": {
      "text/plain": [
       "0.880838866302027"
      ]
     },
     "execution_count": 108,
     "metadata": {},
     "output_type": "execute_result"
    }
   ],
   "source": [
    "accuracy_score(y_train, res)"
   ]
  },
  {
   "cell_type": "code",
   "execution_count": 109,
   "id": "8b439c8d",
   "metadata": {},
   "outputs": [
    {
     "data": {
      "image/png": "[encoded data removed]",
      "text/plain": [
       "<Figure size 432x288 with 1 Axes>"
      ]
     },
     "metadata": {
      "needs_background": "light"
     },
     "output_type": "display_data"
    },
    {
     "name": "stdout",
     "output_type": "stream",
     "text": [
      "gini_test: 0.8916\n"
     ]
    }
   ],
   "source": [
    "gini_train_val(Tree, census_dfv2, y_train)"
   ]
  },
  {
   "cell_type": "code",
   "execution_count": 110,
   "id": "51382791",
   "metadata": {},
   "outputs": [
    {
     "data": {
      "text/plain": [
       "array([1, 1, 1, ..., 1, 0, 0], dtype=int64)"
      ]
     },
     "execution_count": 110,
     "metadata": {},
     "output_type": "execute_result"
    }
   ],
   "source": [
    "#Próba zabawy hiperparametrami \n",
    "#Oczywiście nieudana ;)\n",
    "\n",
    "Tree = DecisionTreeClassifier(criterion = 'entropy',\n",
    "                            random_state = 123,\n",
    "                            max_features = 'auto',\n",
    "                            max_depth = 12,\n",
    "                            splitter = 'random')\n",
    "Tree.fit(census_df, y_train)\n",
    "res = Tree.predict(census_df)\n",
    "res"
   ]
  },
  {
   "cell_type": "code",
   "execution_count": 111,
   "id": "87b2a463",
   "metadata": {},
   "outputs": [
    {
     "data": {
      "text/plain": [
       "0.8512679516803651"
      ]
     },
     "execution_count": 111,
     "metadata": {},
     "output_type": "execute_result"
    }
   ],
   "source": [
    "accuracy_score(y_train, res)"
   ]
  },
  {
   "cell_type": "markdown",
   "id": "bc0a2c93",
   "metadata": {},
   "source": [
    "#### Las losowy"
   ]
  },
  {
   "cell_type": "code",
   "execution_count": 112,
   "id": "0eb111e5",
   "metadata": {},
   "outputs": [
    {
     "data": {
      "text/plain": [
       "array([1, 1, 1, ..., 1, 0, 0], dtype=int64)"
      ]
     },
     "execution_count": 112,
     "metadata": {},
     "output_type": "execute_result"
    }
   ],
   "source": [
    "from sklearn.ensemble import RandomForestClassifier\n",
    "\n",
    "rf = RandomForestClassifier()\n",
    "rf.fit(census_df, y_train)\n",
    "res = rf.predict(census_df)\n",
    "res"
   ]
  },
  {
   "cell_type": "code",
   "execution_count": 113,
   "id": "ebf6ee37",
   "metadata": {},
   "outputs": [
    {
     "data": {
      "text/plain": [
       "0.8905788411477376"
      ]
     },
     "execution_count": 113,
     "metadata": {},
     "output_type": "execute_result"
    }
   ],
   "source": [
    "accuracy_score(y_train, res)"
   ]
  },
  {
   "cell_type": "code",
   "execution_count": 114,
   "id": "ae09b4d0",
   "metadata": {},
   "outputs": [
    {
     "data": {
      "image/png": "[encoded data removed]",
      "text/plain": [
       "<Figure size 432x288 with 1 Axes>"
      ]
     },
     "metadata": {
      "needs_background": "light"
     },
     "output_type": "display_data"
    },
    {
     "name": "stdout",
     "output_type": "stream",
     "text": [
      "gini_test: 0.9076\n"
     ]
    }
   ],
   "source": [
    "gini_train_val(rf, census_df, y_train)"
   ]
  },
  {
   "cell_type": "code",
   "execution_count": 115,
   "id": "49a5c2f4",
   "metadata": {},
   "outputs": [
    {
     "data": {
      "text/plain": [
       "array([1, 1, 1, ..., 1, 0, 0], dtype=int64)"
      ]
     },
     "execution_count": 115,
     "metadata": {},
     "output_type": "execute_result"
    }
   ],
   "source": [
    "rf.fit(census_dfv2, y_train)\n",
    "res = rf.predict(census_dfv2)\n",
    "res"
   ]
  },
  {
   "cell_type": "code",
   "execution_count": 116,
   "id": "0b3ee71e",
   "metadata": {},
   "outputs": [
    {
     "data": {
      "text/plain": [
       "0.8808096171283162"
      ]
     },
     "execution_count": 116,
     "metadata": {},
     "output_type": "execute_result"
    }
   ],
   "source": [
    "accuracy_score(y_train, res)"
   ]
  },
  {
   "cell_type": "code",
   "execution_count": 117,
   "id": "80322b88",
   "metadata": {},
   "outputs": [
    {
     "data": {
      "image/png": "[encoded data removed]",
      "text/plain": [
       "<Figure size 432x288 with 1 Axes>"
      ]
     },
     "metadata": {
      "needs_background": "light"
     },
     "output_type": "display_data"
    },
    {
     "name": "stdout",
     "output_type": "stream",
     "text": [
      "gini_test: 0.8879\n"
     ]
    }
   ],
   "source": [
    "gini_train_val(rf, census_dfv2, y_train)"
   ]
  },
  {
   "cell_type": "markdown",
   "id": "5208687f",
   "metadata": {},
   "source": [
    "#### AdaBoost"
   ]
  },
  {
   "cell_type": "code",
   "execution_count": 118,
   "id": "7352649d",
   "metadata": {},
   "outputs": [
    {
     "data": {
      "text/plain": [
       "array([1, 1, 1, ..., 1, 0, 0], dtype=int64)"
      ]
     },
     "execution_count": 118,
     "metadata": {},
     "output_type": "execute_result"
    }
   ],
   "source": [
    "from sklearn.ensemble import AdaBoostClassifier\n",
    "\n",
    "abc = AdaBoostClassifier()\n",
    "abc.fit(census_df, y_train)\n",
    "res = abc.predict(census_df)\n",
    "res"
   ]
  },
  {
   "cell_type": "code",
   "execution_count": 119,
   "id": "b2efa99e",
   "metadata": {},
   "outputs": [
    {
     "data": {
      "text/plain": [
       "0.8548656000467987"
      ]
     },
     "execution_count": 119,
     "metadata": {},
     "output_type": "execute_result"
    }
   ],
   "source": [
    "accuracy_score(y_train, res)"
   ]
  },
  {
   "cell_type": "code",
   "execution_count": 120,
   "id": "12ff5449",
   "metadata": {},
   "outputs": [
    {
     "data": {
      "image/png": "[encoded data removed]",
      "text/plain": [
       "<Figure size 432x288 with 1 Axes>"
      ]
     },
     "metadata": {
      "needs_background": "light"
     },
     "output_type": "display_data"
    },
    {
     "name": "stdout",
     "output_type": "stream",
     "text": [
      "gini_test: 0.8174\n"
     ]
    }
   ],
   "source": [
    "gini_train_val(abc, census_df, y_train)"
   ]
  },
  {
   "cell_type": "code",
   "execution_count": 121,
   "id": "e9c92c0f",
   "metadata": {},
   "outputs": [
    {
     "data": {
      "text/plain": [
       "array([1, 1, 1, ..., 1, 0, 0], dtype=int64)"
      ]
     },
     "execution_count": 121,
     "metadata": {},
     "output_type": "execute_result"
    }
   ],
   "source": [
    "abc.fit(census_dfv2, y_train)\n",
    "res = abc.predict(census_dfv2)\n",
    "res"
   ]
  },
  {
   "cell_type": "code",
   "execution_count": 122,
   "id": "8a7d0748",
   "metadata": {},
   "outputs": [
    {
     "data": {
      "text/plain": [
       "0.8551580917839071"
      ]
     },
     "execution_count": 122,
     "metadata": {},
     "output_type": "execute_result"
    }
   ],
   "source": [
    "accuracy_score(y_train, res)"
   ]
  },
  {
   "cell_type": "code",
   "execution_count": 123,
   "id": "30e65a28",
   "metadata": {},
   "outputs": [
    {
     "data": {
      "image/png": "[encoded data removed]",
      "text/plain": [
       "<Figure size 432x288 with 1 Axes>"
      ]
     },
     "metadata": {
      "needs_background": "light"
     },
     "output_type": "display_data"
    },
    {
     "name": "stdout",
     "output_type": "stream",
     "text": [
      "gini_test: 0.8171\n"
     ]
    }
   ],
   "source": [
    "gini_train_val(abc, census_dfv2, y_train)"
   ]
  },
  {
   "cell_type": "markdown",
   "id": "7eef8bf4",
   "metadata": {},
   "source": [
    "#### Gradient Boosting"
   ]
  },
  {
   "cell_type": "code",
   "execution_count": 124,
   "id": "ed40c190",
   "metadata": {},
   "outputs": [
    {
     "data": {
      "text/plain": [
       "array([1, 1, 1, ..., 1, 0, 0], dtype=int64)"
      ]
     },
     "execution_count": 124,
     "metadata": {},
     "output_type": "execute_result"
    }
   ],
   "source": [
    "from sklearn.ensemble import GradientBoostingClassifier\n",
    "\n",
    "gb = GradientBoostingClassifier()\n",
    "gb.fit(census_df, y_train)\n",
    "res = gb.predict(census_df)\n",
    "res"
   ]
  },
  {
   "cell_type": "code",
   "execution_count": 125,
   "id": "a6ceefb8",
   "metadata": {},
   "outputs": [
    {
     "data": {
      "text/plain": [
       "0.8600427037936178"
      ]
     },
     "execution_count": 125,
     "metadata": {},
     "output_type": "execute_result"
    }
   ],
   "source": [
    "accuracy_score(y_train, res)"
   ]
  },
  {
   "cell_type": "code",
   "execution_count": 126,
   "id": "2159700b",
   "metadata": {},
   "outputs": [
    {
     "data": {
      "image/png": "[encoded data removed]",
      "text/plain": [
       "<Figure size 432x288 with 1 Axes>"
      ]
     },
     "metadata": {
      "needs_background": "light"
     },
     "output_type": "display_data"
    },
    {
     "name": "stdout",
     "output_type": "stream",
     "text": [
      "gini_test: 0.8299\n"
     ]
    }
   ],
   "source": [
    "gini_train_val(gb, census_df, y_train)"
   ]
  }
 ],
 "metadata": {
  "kernelspec": {
   "display_name": "Python 3 (ipykernel)",
   "language": "python",
   "name": "python3"
  },
  "language_info": {
   "codemirror_mode": {
    "name": "ipython",
    "version": 3
   },
   "file_extension": ".py",
   "mimetype": "text/x-python",
   "name": "python",
   "nbconvert_exporter": "python",
   "pygments_lexer": "ipython3",
   "version": "3.8.12"
  }
 },
 "nbformat": 4,
 "nbformat_minor": 5
}
