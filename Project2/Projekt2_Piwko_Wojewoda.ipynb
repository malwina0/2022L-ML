{
 "cells": [
  {
   "cell_type": "markdown",
   "id": "1f045822",
   "metadata": {},
   "source": [
    "# Wstęp do uczenia maszynowego\n",
    "##  Projekt nr 2\n",
    "#### Jakub Piwko, Malwina Wojewoda"
   ]
  },
  {
   "cell_type": "markdown",
   "id": "4f4eda7b",
   "metadata": {},
   "source": [
    "#### Pakiety"
   ]
  },
  {
   "cell_type": "code",
   "execution_count": 18,
   "id": "42a21539",
   "metadata": {},
   "outputs": [],
   "source": [
    "import pandas as pd\n",
    "#import numpy as np\n",
    "#from sklearn.cluster import KMeans, AgglomerativeClustering\n",
    "import matplotlib.pyplot as plt\n",
    "#import seaborn as sns"
   ]
  },
  {
   "cell_type": "markdown",
   "id": "f98017a4",
   "metadata": {},
   "source": [
    "### Wczytanie danych oraz ich opis"
   ]
  },
  {
   "cell_type": "markdown",
   "id": "d50484f7",
   "metadata": {},
   "source": [
    "Jak dowiadujemy się z opisu danych są one obrobioną nieco wersją zbioru USCensus1990raw. Zawierał  on 1 % próbki z pełnego spisu powszechnego z 1990r. W naszym pliku rekordy zostały losowo przemieszane. Aby uzyskać zbiór, którym się zajmujemy zostały wykonane następujące operacje: \n",
    "* randomizacja: rekordy z USCensus1990raw zostały losowo permutowane\n",
    "* zmiany w kolumnach: kilka zmiennych ciągłych zostało zdyskretyzowane, a zmienne dyskretne, które miały dużo wartości zostało zwinięte do mniejszej liczby wartości; kolumny, które nie uległy zmianie oznaczone są prefiksem \"i\", a te które były zmienione - prefiksem \"d\"; dokładne zmieny zostały opisane w pliku *USCensus1990.mapping.sql*\n",
    "* usunięto kolumny, które były mało przydatne\n",
    "\n",
    "Pierwszym atrybutem jest caseid i powinnien on być ignorowany podczas analizy.  \n",
    "Wszystkie dane są numeryczne."
   ]
  },
  {
   "cell_type": "code",
   "execution_count": 2,
   "id": "43db5ab7",
   "metadata": {},
   "outputs": [
    {
     "data": {
      "text/html": [
       "<div>\n",
       "<style scoped>\n",
       "    .dataframe tbody tr th:only-of-type {\n",
       "        vertical-align: middle;\n",
       "    }\n",
       "\n",
       "    .dataframe tbody tr th {\n",
       "        vertical-align: top;\n",
       "    }\n",
       "\n",
       "    .dataframe thead th {\n",
       "        text-align: right;\n",
       "    }\n",
       "</style>\n",
       "<table border=\"1\" class=\"dataframe\">\n",
       "  <thead>\n",
       "    <tr style=\"text-align: right;\">\n",
       "      <th></th>\n",
       "      <th>caseid</th>\n",
       "      <th>dAge</th>\n",
       "      <th>dAncstry1</th>\n",
       "      <th>dAncstry2</th>\n",
       "      <th>iAvail</th>\n",
       "      <th>iCitizen</th>\n",
       "      <th>iClass</th>\n",
       "      <th>dDepart</th>\n",
       "      <th>iDisabl1</th>\n",
       "      <th>iDisabl2</th>\n",
       "      <th>...</th>\n",
       "      <th>iTmpabsnt</th>\n",
       "      <th>dTravtime</th>\n",
       "      <th>iVietnam</th>\n",
       "      <th>dWeek89</th>\n",
       "      <th>iWork89</th>\n",
       "      <th>iWorklwk</th>\n",
       "      <th>iWWII</th>\n",
       "      <th>iYearsch</th>\n",
       "      <th>iYearwrk</th>\n",
       "      <th>dYrsserv</th>\n",
       "    </tr>\n",
       "  </thead>\n",
       "  <tbody>\n",
       "    <tr>\n",
       "      <th>0</th>\n",
       "      <td>10000</td>\n",
       "      <td>5</td>\n",
       "      <td>0</td>\n",
       "      <td>1</td>\n",
       "      <td>0</td>\n",
       "      <td>0</td>\n",
       "      <td>5</td>\n",
       "      <td>3</td>\n",
       "      <td>2</td>\n",
       "      <td>2</td>\n",
       "      <td>...</td>\n",
       "      <td>0</td>\n",
       "      <td>5</td>\n",
       "      <td>0</td>\n",
       "      <td>2</td>\n",
       "      <td>1</td>\n",
       "      <td>1</td>\n",
       "      <td>0</td>\n",
       "      <td>11</td>\n",
       "      <td>1</td>\n",
       "      <td>0</td>\n",
       "    </tr>\n",
       "    <tr>\n",
       "      <th>1</th>\n",
       "      <td>10001</td>\n",
       "      <td>6</td>\n",
       "      <td>1</td>\n",
       "      <td>1</td>\n",
       "      <td>0</td>\n",
       "      <td>0</td>\n",
       "      <td>7</td>\n",
       "      <td>5</td>\n",
       "      <td>2</td>\n",
       "      <td>2</td>\n",
       "      <td>...</td>\n",
       "      <td>0</td>\n",
       "      <td>1</td>\n",
       "      <td>0</td>\n",
       "      <td>2</td>\n",
       "      <td>1</td>\n",
       "      <td>1</td>\n",
       "      <td>0</td>\n",
       "      <td>5</td>\n",
       "      <td>1</td>\n",
       "      <td>0</td>\n",
       "    </tr>\n",
       "    <tr>\n",
       "      <th>2</th>\n",
       "      <td>10002</td>\n",
       "      <td>3</td>\n",
       "      <td>1</td>\n",
       "      <td>2</td>\n",
       "      <td>0</td>\n",
       "      <td>0</td>\n",
       "      <td>7</td>\n",
       "      <td>4</td>\n",
       "      <td>2</td>\n",
       "      <td>2</td>\n",
       "      <td>...</td>\n",
       "      <td>0</td>\n",
       "      <td>2</td>\n",
       "      <td>0</td>\n",
       "      <td>2</td>\n",
       "      <td>1</td>\n",
       "      <td>1</td>\n",
       "      <td>0</td>\n",
       "      <td>10</td>\n",
       "      <td>1</td>\n",
       "      <td>0</td>\n",
       "    </tr>\n",
       "    <tr>\n",
       "      <th>3</th>\n",
       "      <td>10003</td>\n",
       "      <td>4</td>\n",
       "      <td>1</td>\n",
       "      <td>2</td>\n",
       "      <td>0</td>\n",
       "      <td>0</td>\n",
       "      <td>1</td>\n",
       "      <td>3</td>\n",
       "      <td>2</td>\n",
       "      <td>2</td>\n",
       "      <td>...</td>\n",
       "      <td>0</td>\n",
       "      <td>1</td>\n",
       "      <td>0</td>\n",
       "      <td>1</td>\n",
       "      <td>1</td>\n",
       "      <td>1</td>\n",
       "      <td>0</td>\n",
       "      <td>10</td>\n",
       "      <td>1</td>\n",
       "      <td>0</td>\n",
       "    </tr>\n",
       "    <tr>\n",
       "      <th>4</th>\n",
       "      <td>10004</td>\n",
       "      <td>7</td>\n",
       "      <td>1</td>\n",
       "      <td>1</td>\n",
       "      <td>0</td>\n",
       "      <td>0</td>\n",
       "      <td>0</td>\n",
       "      <td>0</td>\n",
       "      <td>2</td>\n",
       "      <td>2</td>\n",
       "      <td>...</td>\n",
       "      <td>3</td>\n",
       "      <td>0</td>\n",
       "      <td>0</td>\n",
       "      <td>0</td>\n",
       "      <td>2</td>\n",
       "      <td>2</td>\n",
       "      <td>0</td>\n",
       "      <td>5</td>\n",
       "      <td>6</td>\n",
       "      <td>0</td>\n",
       "    </tr>\n",
       "  </tbody>\n",
       "</table>\n",
       "<p>5 rows × 69 columns</p>\n",
       "</div>"
      ],
      "text/plain": [
       "   caseid  dAge  dAncstry1  dAncstry2  iAvail  iCitizen  iClass  dDepart  \\\n",
       "0   10000     5          0          1       0         0       5        3   \n",
       "1   10001     6          1          1       0         0       7        5   \n",
       "2   10002     3          1          2       0         0       7        4   \n",
       "3   10003     4          1          2       0         0       1        3   \n",
       "4   10004     7          1          1       0         0       0        0   \n",
       "\n",
       "   iDisabl1  iDisabl2  ...  iTmpabsnt  dTravtime  iVietnam  dWeek89  iWork89  \\\n",
       "0         2         2  ...          0          5         0        2        1   \n",
       "1         2         2  ...          0          1         0        2        1   \n",
       "2         2         2  ...          0          2         0        2        1   \n",
       "3         2         2  ...          0          1         0        1        1   \n",
       "4         2         2  ...          3          0         0        0        2   \n",
       "\n",
       "   iWorklwk  iWWII  iYearsch  iYearwrk  dYrsserv  \n",
       "0         1      0        11         1         0  \n",
       "1         1      0         5         1         0  \n",
       "2         1      0        10         1         0  \n",
       "3         1      0        10         1         0  \n",
       "4         2      0         5         6         0  \n",
       "\n",
       "[5 rows x 69 columns]"
      ]
     },
     "execution_count": 2,
     "metadata": {},
     "output_type": "execute_result"
    }
   ],
   "source": [
    "X = pd.read_csv('USCensus1990.data.txt')\n",
    "X.head()"
   ]
  },
  {
   "cell_type": "code",
   "execution_count": 3,
   "id": "7835bec2",
   "metadata": {},
   "outputs": [
    {
     "data": {
      "text/plain": [
       "(2458285, 69)"
      ]
     },
     "execution_count": 3,
     "metadata": {},
     "output_type": "execute_result"
    }
   ],
   "source": [
    "X.shape"
   ]
  },
  {
   "cell_type": "markdown",
   "id": "fbf1ebe1",
   "metadata": {},
   "source": [
    "Sprawdźmy czy w zbiorze są jakieś braki danych:"
   ]
  },
  {
   "cell_type": "code",
   "execution_count": 4,
   "id": "0c01f356",
   "metadata": {},
   "outputs": [
    {
     "data": {
      "text/plain": [
       "0"
      ]
     },
     "execution_count": 4,
     "metadata": {},
     "output_type": "execute_result"
    }
   ],
   "source": [
    "X.isna().sum().sum()"
   ]
  },
  {
   "cell_type": "code",
   "execution_count": 5,
   "id": "8b932c1b",
   "metadata": {},
   "outputs": [
    {
     "data": {
      "text/plain": [
       "0"
      ]
     },
     "execution_count": 5,
     "metadata": {},
     "output_type": "execute_result"
    }
   ],
   "source": [
    "X.isnull().sum().sum()"
   ]
  },
  {
   "cell_type": "markdown",
   "id": "c4c7c36a",
   "metadata": {},
   "source": [
    "Wygląda na to, że w naszym zbiorze nie ma braków danych."
   ]
  },
  {
   "cell_type": "code",
   "execution_count": 11,
   "id": "70f177c3",
   "metadata": {},
   "outputs": [
    {
     "data": {
      "text/plain": [
       "0"
      ]
     },
     "execution_count": 11,
     "metadata": {},
     "output_type": "execute_result"
    }
   ],
   "source": [
    "X.duplicated().sum()"
   ]
  },
  {
   "cell_type": "markdown",
   "id": "5cb652cf",
   "metadata": {},
   "source": [
    "Nie ma też zduplikowanych wierszy."
   ]
  },
  {
   "cell_type": "markdown",
   "id": "88acf015",
   "metadata": {},
   "source": [
    "# takie coś jest w task descr ale nigdzie nei mogłam tego znalezc, poza tym to z 2001 wiec chyba nei ma sensu o tym myśleć, jakbyś też wpadł na taki głupi pomysł\n",
    "\n",
    "Meek, Thiesson, and Heckerman (2001) provide a method for selecting the number of points to use during the construction of a clustering model and demonstrate the method can lead to substantial speedups while obtaining clusters with comparable predictive power. Their analysis is performed on several data sets including the USCensus1990 data set.\n",
    "\n",
    "Meek, Thiesson, and Heckerman (2001), \"The Learning Curve Method Applied to Clustering\", to appear in The Journal of Machine Learning Research. (Also see MSR-TR-2001-34\n",
    "\n",
    "\n"
   ]
  },
  {
   "cell_type": "markdown",
   "id": "fcf0b926",
   "metadata": {},
   "source": [
    "Sprawdzimy jeszcze ile unikalnych wartości występuje w każdej z kolumn:"
   ]
  },
  {
   "cell_type": "code",
   "execution_count": 6,
   "id": "03f237c3",
   "metadata": {
    "scrolled": true
   },
   "outputs": [
    {
     "data": {
      "text/plain": [
       "caseid       2458285\n",
       "dAge               8\n",
       "dAncstry1         12\n",
       "dAncstry2         12\n",
       "iAvail             5\n",
       "iCitizen           5\n",
       "iClass            10\n",
       "dDepart            6\n",
       "iDisabl1           3\n",
       "iDisabl2           3\n",
       "iEnglish           5\n",
       "iFeb55             2\n",
       "iFertil           14\n",
       "dHispanic         10\n",
       "dHour89            6\n",
       "dHours             6\n",
       "iImmigr           11\n",
       "dIncome1           5\n",
       "dIncome2           2\n",
       "dIncome3           2\n",
       "dIncome4           2\n",
       "dIncome5           2\n",
       "dIncome6           2\n",
       "dIncome7           2\n",
       "dIncome8           2\n",
       "dIndustry         13\n",
       "iKorean            2\n",
       "iLang1             3\n",
       "iLooking           3\n",
       "iMarital           5\n",
       "iMay75880          2\n",
       "iMeans            13\n",
       "iMilitary          5\n",
       "iMobility          3\n",
       "iMobillim          3\n",
       "dOccup             9\n",
       "iOthrserv          2\n",
       "iPerscare          3\n",
       "dPOB               7\n",
       "dPoverty           3\n",
       "dPwgt1             4\n",
       "iRagechld          5\n",
       "dRearning          6\n",
       "iRelat1           14\n",
       "iRelat2           10\n",
       "iRemplpar         16\n",
       "iRiders            9\n",
       "iRlabor            7\n",
       "iRownchld          2\n",
       "dRpincome          6\n",
       "iRPOB             14\n",
       "iRrelchld          2\n",
       "iRspouse           7\n",
       "iRvetserv         12\n",
       "iSchool            4\n",
       "iSept80            2\n",
       "iSex               2\n",
       "iSubfam1           4\n",
       "iSubfam2           4\n",
       "iTmpabsnt          4\n",
       "dTravtime          7\n",
       "iVietnam           2\n",
       "dWeek89            3\n",
       "iWork89            3\n",
       "iWorklwk           3\n",
       "iWWII              2\n",
       "iYearsch          18\n",
       "iYearwrk           8\n",
       "dYrsserv           3\n",
       "dtype: int64"
      ]
     },
     "execution_count": 6,
     "metadata": {},
     "output_type": "execute_result"
    }
   ],
   "source": [
    "pd.set_option('display.max_rows', None) \n",
    "uniqueval = X.nunique()\n",
    "uniqueval"
   ]
  },
  {
   "cell_type": "code",
   "execution_count": 7,
   "id": "48b2212f",
   "metadata": {},
   "outputs": [],
   "source": [
    "pd.set_option('display.max_rows', 10) #back to default"
   ]
  },
  {
   "cell_type": "markdown",
   "id": "de680348",
   "metadata": {},
   "source": [
    "Tam, gdzie unikalnych wartości jest 2 sprawdzimy jakie to wartości:"
   ]
  },
  {
   "cell_type": "code",
   "execution_count": 35,
   "id": "d922836d",
   "metadata": {},
   "outputs": [],
   "source": [
    "uniqueval2 = pd.DataFrame(uniqueval, columns=['count'])\n",
    "only2val = list(uniqueval2.loc[uniqueval2['count'] == 2].index.values)\n",
    "tmp = X[[c for c in X.columns if c in only2val]] #select columns where number of unique values = 2"
   ]
  },
  {
   "cell_type": "code",
   "execution_count": 36,
   "id": "e073ca03",
   "metadata": {},
   "outputs": [
    {
     "name": "stderr",
     "output_type": "stream",
     "text": [
      "C:\\Users\\wojew\\AppData\\Local\\Temp/ipykernel_11904/1383572738.py:3: UserWarning: To output multiple subplots, the figure containing the passed axes is being cleared\n",
      "  tmp.hist(ax = ax)\n"
     ]
    },
    {
     "data": {
      "image/png": "[encoded data removed]",
      "text/plain": [
       "<Figure size 1080x1080 with 20 Axes>"
      ]
     },
     "metadata": {
      "needs_background": "light"
     },
     "output_type": "display_data"
    }
   ],
   "source": [
    "fig = plt.figure(figsize = (15,15))\n",
    "ax = fig.gca()\n",
    "tmp.hist(ax = ax)\n",
    "plt.show()"
   ]
  },
  {
   "cell_type": "markdown",
   "id": "9bd490c2",
   "metadata": {},
   "source": [
    "Widać, że w przypadku tych kolumn wartości są dyskretne: 0 lub 1."
   ]
  },
  {
   "cell_type": "code",
   "execution_count": null,
   "id": "86528cfc",
   "metadata": {},
   "outputs": [],
   "source": []
  }
 ],
 "metadata": {
  "kernelspec": {
   "display_name": "Python 3 (ipykernel)",
   "language": "python",
   "name": "python3"
  },
  "language_info": {
   "codemirror_mode": {
    "name": "ipython",
    "version": 3
   },
   "file_extension": ".py",
   "mimetype": "text/x-python",
   "name": "python",
   "nbconvert_exporter": "python",
   "pygments_lexer": "ipython3",
   "version": "3.8.12"
  }
 },
 "nbformat": 4,
 "nbformat_minor": 5
}
