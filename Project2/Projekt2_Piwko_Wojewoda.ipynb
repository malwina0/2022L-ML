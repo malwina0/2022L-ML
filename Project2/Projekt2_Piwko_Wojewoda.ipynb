{
 "cells": [
  {
   "cell_type": "markdown",
   "id": "ed28e9c4",
   "metadata": {},
   "source": [
    "# Wstęp do uczenia maszynowego\n",
    "##  Projekt nr 2\n",
    "#### Jakub Piwko, Malwina Wojewoda"
   ]
  },
  {
   "cell_type": "markdown",
   "id": "0c94925c",
   "metadata": {},
   "source": [
    "#### Pakiety"
   ]
  },
  {
   "cell_type": "markdown",
   "id": "f8b5c87b",
   "metadata": {},
   "source": [
    "### Wczyatnie danych oraz ich opis"
   ]
  },
  {
   "cell_type": "code",
   "execution_count": null,
   "id": "834a5a04",
   "metadata": {},
   "outputs": [],
   "source": []
  }
 ],
 "metadata": {
  "kernelspec": {
   "display_name": "Python 3 (ipykernel)",
   "language": "python",
   "name": "python3"
  },
  "language_info": {
   "codemirror_mode": {
    "name": "ipython",
    "version": 3
   },
   "file_extension": ".py",
   "mimetype": "text/x-python",
   "name": "python",
   "nbconvert_exporter": "python",
   "pygments_lexer": "ipython3",
   "version": "3.8.12"
  }
 },
 "nbformat": 4,
 "nbformat_minor": 5
}
