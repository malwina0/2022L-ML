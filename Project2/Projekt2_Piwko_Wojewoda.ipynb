{
 "cells": [
  {
   "cell_type": "markdown",
   "id": "1f045822",
   "metadata": {},
   "source": [
    "# Wstęp do uczenia maszynowego\n",
    "##  Projekt nr 2\n",
    "#### Jakub Piwko, Malwina Wojewoda"
   ]
  },
  {
   "cell_type": "markdown",
   "id": "4f4eda7b",
   "metadata": {},
   "source": [
    "#### Pakiety"
   ]
  },
  {
   "cell_type": "code",
   "execution_count": 2,
   "id": "42a21539",
   "metadata": {},
   "outputs": [],
   "source": [
    "import pandas as pd\n",
    "#import numpy as np\n",
    "#from sklearn.cluster import KMeans, AgglomerativeClustering\n",
    "import matplotlib.pyplot as plt\n",
    "#import seaborn as sns"
   ]
  },
  {
   "cell_type": "markdown",
   "id": "f98017a4",
   "metadata": {},
   "source": [
    "### Wczytanie danych oraz ich opis"
   ]
  },
  {
   "cell_type": "markdown",
   "id": "d50484f7",
   "metadata": {},
   "source": [
    "Jak dowiadujemy się z opisu danych są one obrobioną nieco wersją zbioru USCensus1990raw. Zawierał  on 1 % próbki z pełnego spisu powszechnego z 1990r. W naszym pliku rekordy zostały losowo przemieszane. Aby uzyskać zbiór, którym się zajmujemy zostały wykonane następujące operacje: \n",
    "* randomizacja: rekordy z USCensus1990raw zostały losowo permutowane\n",
    "* zmiany w kolumnach: kilka zmiennych ciągłych zostało zdyskretyzowane, a zmienne dyskretne, które miały dużo wartości zostało zwinięte do mniejszej liczby wartości; kolumny, które nie uległy zmianie oznaczone są prefiksem \"i\", a te które były zmienione - prefiksem \"d\"; dokładne zmieny zostały opisane w pliku *USCensus1990.mapping.sql*\n",
    "* usunięto kolumny, które były mało przydatne\n",
    "\n",
    "Można więc powiedzieć, że na danych został już wykonany preprocessing.\n",
    "\n",
    "Pierwszym atrybutem jest caseid i powinnien on być ignorowany podczas analizy.  \n",
    "Wszystkie dane są numeryczne."
   ]
  },
  {
   "cell_type": "code",
   "execution_count": 3,
   "id": "43db5ab7",
   "metadata": {},
   "outputs": [
    {
     "data": {
      "text/html": [
       "<div>\n",
       "<style scoped>\n",
       "    .dataframe tbody tr th:only-of-type {\n",
       "        vertical-align: middle;\n",
       "    }\n",
       "\n",
       "    .dataframe tbody tr th {\n",
       "        vertical-align: top;\n",
       "    }\n",
       "\n",
       "    .dataframe thead th {\n",
       "        text-align: right;\n",
       "    }\n",
       "</style>\n",
       "<table border=\"1\" class=\"dataframe\">\n",
       "  <thead>\n",
       "    <tr style=\"text-align: right;\">\n",
       "      <th></th>\n",
       "      <th>caseid</th>\n",
       "      <th>dAge</th>\n",
       "      <th>dAncstry1</th>\n",
       "      <th>dAncstry2</th>\n",
       "      <th>iAvail</th>\n",
       "      <th>iCitizen</th>\n",
       "      <th>iClass</th>\n",
       "      <th>dDepart</th>\n",
       "      <th>iDisabl1</th>\n",
       "      <th>iDisabl2</th>\n",
       "      <th>...</th>\n",
       "      <th>iTmpabsnt</th>\n",
       "      <th>dTravtime</th>\n",
       "      <th>iVietnam</th>\n",
       "      <th>dWeek89</th>\n",
       "      <th>iWork89</th>\n",
       "      <th>iWorklwk</th>\n",
       "      <th>iWWII</th>\n",
       "      <th>iYearsch</th>\n",
       "      <th>iYearwrk</th>\n",
       "      <th>dYrsserv</th>\n",
       "    </tr>\n",
       "  </thead>\n",
       "  <tbody>\n",
       "    <tr>\n",
       "      <th>0</th>\n",
       "      <td>10000</td>\n",
       "      <td>5</td>\n",
       "      <td>0</td>\n",
       "      <td>1</td>\n",
       "      <td>0</td>\n",
       "      <td>0</td>\n",
       "      <td>5</td>\n",
       "      <td>3</td>\n",
       "      <td>2</td>\n",
       "      <td>2</td>\n",
       "      <td>...</td>\n",
       "      <td>0</td>\n",
       "      <td>5</td>\n",
       "      <td>0</td>\n",
       "      <td>2</td>\n",
       "      <td>1</td>\n",
       "      <td>1</td>\n",
       "      <td>0</td>\n",
       "      <td>11</td>\n",
       "      <td>1</td>\n",
       "      <td>0</td>\n",
       "    </tr>\n",
       "    <tr>\n",
       "      <th>1</th>\n",
       "      <td>10001</td>\n",
       "      <td>6</td>\n",
       "      <td>1</td>\n",
       "      <td>1</td>\n",
       "      <td>0</td>\n",
       "      <td>0</td>\n",
       "      <td>7</td>\n",
       "      <td>5</td>\n",
       "      <td>2</td>\n",
       "      <td>2</td>\n",
       "      <td>...</td>\n",
       "      <td>0</td>\n",
       "      <td>1</td>\n",
       "      <td>0</td>\n",
       "      <td>2</td>\n",
       "      <td>1</td>\n",
       "      <td>1</td>\n",
       "      <td>0</td>\n",
       "      <td>5</td>\n",
       "      <td>1</td>\n",
       "      <td>0</td>\n",
       "    </tr>\n",
       "    <tr>\n",
       "      <th>2</th>\n",
       "      <td>10002</td>\n",
       "      <td>3</td>\n",
       "      <td>1</td>\n",
       "      <td>2</td>\n",
       "      <td>0</td>\n",
       "      <td>0</td>\n",
       "      <td>7</td>\n",
       "      <td>4</td>\n",
       "      <td>2</td>\n",
       "      <td>2</td>\n",
       "      <td>...</td>\n",
       "      <td>0</td>\n",
       "      <td>2</td>\n",
       "      <td>0</td>\n",
       "      <td>2</td>\n",
       "      <td>1</td>\n",
       "      <td>1</td>\n",
       "      <td>0</td>\n",
       "      <td>10</td>\n",
       "      <td>1</td>\n",
       "      <td>0</td>\n",
       "    </tr>\n",
       "    <tr>\n",
       "      <th>3</th>\n",
       "      <td>10003</td>\n",
       "      <td>4</td>\n",
       "      <td>1</td>\n",
       "      <td>2</td>\n",
       "      <td>0</td>\n",
       "      <td>0</td>\n",
       "      <td>1</td>\n",
       "      <td>3</td>\n",
       "      <td>2</td>\n",
       "      <td>2</td>\n",
       "      <td>...</td>\n",
       "      <td>0</td>\n",
       "      <td>1</td>\n",
       "      <td>0</td>\n",
       "      <td>1</td>\n",
       "      <td>1</td>\n",
       "      <td>1</td>\n",
       "      <td>0</td>\n",
       "      <td>10</td>\n",
       "      <td>1</td>\n",
       "      <td>0</td>\n",
       "    </tr>\n",
       "    <tr>\n",
       "      <th>4</th>\n",
       "      <td>10004</td>\n",
       "      <td>7</td>\n",
       "      <td>1</td>\n",
       "      <td>1</td>\n",
       "      <td>0</td>\n",
       "      <td>0</td>\n",
       "      <td>0</td>\n",
       "      <td>0</td>\n",
       "      <td>2</td>\n",
       "      <td>2</td>\n",
       "      <td>...</td>\n",
       "      <td>3</td>\n",
       "      <td>0</td>\n",
       "      <td>0</td>\n",
       "      <td>0</td>\n",
       "      <td>2</td>\n",
       "      <td>2</td>\n",
       "      <td>0</td>\n",
       "      <td>5</td>\n",
       "      <td>6</td>\n",
       "      <td>0</td>\n",
       "    </tr>\n",
       "  </tbody>\n",
       "</table>\n",
       "<p>5 rows × 69 columns</p>\n",
       "</div>"
      ],
      "text/plain": [
       "   caseid  dAge  dAncstry1  dAncstry2  iAvail  iCitizen  iClass  dDepart  \\\n",
       "0   10000     5          0          1       0         0       5        3   \n",
       "1   10001     6          1          1       0         0       7        5   \n",
       "2   10002     3          1          2       0         0       7        4   \n",
       "3   10003     4          1          2       0         0       1        3   \n",
       "4   10004     7          1          1       0         0       0        0   \n",
       "\n",
       "   iDisabl1  iDisabl2  ...  iTmpabsnt  dTravtime  iVietnam  dWeek89  iWork89  \\\n",
       "0         2         2  ...          0          5         0        2        1   \n",
       "1         2         2  ...          0          1         0        2        1   \n",
       "2         2         2  ...          0          2         0        2        1   \n",
       "3         2         2  ...          0          1         0        1        1   \n",
       "4         2         2  ...          3          0         0        0        2   \n",
       "\n",
       "   iWorklwk  iWWII  iYearsch  iYearwrk  dYrsserv  \n",
       "0         1      0        11         1         0  \n",
       "1         1      0         5         1         0  \n",
       "2         1      0        10         1         0  \n",
       "3         1      0        10         1         0  \n",
       "4         2      0         5         6         0  \n",
       "\n",
       "[5 rows x 69 columns]"
      ]
     },
     "execution_count": 3,
     "metadata": {},
     "output_type": "execute_result"
    }
   ],
   "source": [
    "X = pd.read_csv('USCensus1990.data.txt')\n",
    "X.head()"
   ]
  },
  {
   "cell_type": "code",
   "execution_count": 3,
   "id": "7835bec2",
   "metadata": {},
   "outputs": [
    {
     "data": {
      "text/plain": [
       "(2458285, 69)"
      ]
     },
     "execution_count": 3,
     "metadata": {},
     "output_type": "execute_result"
    }
   ],
   "source": [
    "X.shape"
   ]
  },
  {
   "cell_type": "markdown",
   "id": "fbf1ebe1",
   "metadata": {},
   "source": [
    "Sprawdźmy czy w zbiorze są jakieś braki danych:"
   ]
  },
  {
   "cell_type": "code",
   "execution_count": 4,
   "id": "0c01f356",
   "metadata": {},
   "outputs": [
    {
     "data": {
      "text/plain": [
       "0"
      ]
     },
     "execution_count": 4,
     "metadata": {},
     "output_type": "execute_result"
    }
   ],
   "source": [
    "X.isna().sum().sum()"
   ]
  },
  {
   "cell_type": "code",
   "execution_count": 5,
   "id": "8b932c1b",
   "metadata": {},
   "outputs": [
    {
     "data": {
      "text/plain": [
       "0"
      ]
     },
     "execution_count": 5,
     "metadata": {},
     "output_type": "execute_result"
    }
   ],
   "source": [
    "X.isnull().sum().sum()"
   ]
  },
  {
   "cell_type": "markdown",
   "id": "c4c7c36a",
   "metadata": {},
   "source": [
    "Wygląda na to, że w naszym zbiorze nie ma braków danych."
   ]
  },
  {
   "cell_type": "code",
   "execution_count": 11,
   "id": "70f177c3",
   "metadata": {},
   "outputs": [
    {
     "data": {
      "text/plain": [
       "0"
      ]
     },
     "execution_count": 11,
     "metadata": {},
     "output_type": "execute_result"
    }
   ],
   "source": [
    "X.duplicated().sum()"
   ]
  },
  {
   "cell_type": "markdown",
   "id": "5cb652cf",
   "metadata": {},
   "source": [
    "Nie ma też zduplikowanych wierszy."
   ]
  },
  {
   "cell_type": "markdown",
   "id": "88acf015",
   "metadata": {},
   "source": [
    "# takie coś jest w task descr ale nigdzie nei mogłam tego znalezc, poza tym to z 2001 wiec chyba nei ma sensu o tym myśleć, jakbyś też wpadł na taki głupi pomysł\n",
    "\n",
    "Meek, Thiesson, and Heckerman (2001) provide a method for selecting the number of points to use during the construction of a clustering model and demonstrate the method can lead to substantial speedups while obtaining clusters with comparable predictive power. Their analysis is performed on several data sets including the USCensus1990 data set.\n",
    "\n",
    "Meek, Thiesson, and Heckerman (2001), \"The Learning Curve Method Applied to Clustering\", to appear in The Journal of Machine Learning Research. (Also see MSR-TR-2001-34\n",
    "\n",
    "\n"
   ]
  },
  {
   "cell_type": "markdown",
   "id": "fcf0b926",
   "metadata": {},
   "source": [
    "Sprawdzimy jeszcze jakie są unikalne wartości w każdej z kolumn:"
   ]
  },
  {
   "cell_type": "code",
   "execution_count": 9,
   "id": "86528cfc",
   "metadata": {},
   "outputs": [
    {
     "name": "stdout",
     "output_type": "stream",
     "text": [
      "caseid       [10000, 10001, 10002, 10003, 10004, 10005, 100...\n",
      "dAge                                  [5, 6, 3, 4, 7, 1, 2, 0]\n",
      "dAncstry1               [0, 1, 11, 3, 2, 9, 8, 10, 4, 6, 7, 5]\n",
      "dAncstry2              [1, 2, 12, 3, 4, 10, 7, 5, 11, 8, 6, 9]\n",
      "iAvail                                         [0, 3, 4, 2, 1]\n",
      "iCitizen                                       [0, 3, 4, 2, 1]\n",
      "iClass                          [5, 7, 1, 0, 6, 3, 4, 2, 8, 9]\n",
      "dDepart                                     [3, 5, 4, 0, 2, 1]\n",
      "iDisabl1                                             [2, 0, 1]\n",
      "iDisabl2                                             [2, 0, 1]\n",
      "iEnglish                                       [1, 0, 2, 3, 4]\n",
      "iFeb55                                                  [0, 1]\n",
      "iFertil         [1, 3, 0, 4, 7, 2, 5, 6, 12, 8, 13, 10, 9, 11]\n",
      "dHispanic                       [0, 1, 9, 2, 6, 3, 4, 8, 7, 5]\n",
      "dHour89                                     [4, 1, 3, 0, 5, 2]\n",
      "dHours                                      [3, 1, 4, 0, 5, 2]\n",
      "iImmigr                     [0, 5, 1, 8, 3, 10, 6, 7, 4, 2, 9]\n",
      "dIncome1                                       [2, 1, 0, 3, 4]\n",
      "dIncome2                                                [0, 1]\n",
      "dIncome3                                                [0, 1]\n",
      "dIncome4                                                [1, 0]\n",
      "dIncome5                                                [0, 1]\n",
      "dIncome6                                                [0, 1]\n",
      "dIncome7                                                [0, 1]\n",
      "dIncome8                                                [0, 1]\n",
      "dIndustry           [10, 4, 1, 0, 9, 7, 6, 3, 5, 8, 11, 12, 2]\n",
      "iKorean                                                 [0, 1]\n",
      "iLang1                                               [1, 2, 0]\n",
      "iLooking                                             [0, 2, 1]\n",
      "iMarital                                       [1, 0, 4, 2, 3]\n",
      "iMay75880                                               [0, 1]\n",
      "iMeans              [1, 10, 0, 11, 2, 4, 8, 5, 12, 3, 7, 9, 6]\n",
      "iMilitary                                      [4, 0, 2, 3, 1]\n",
      "iMobility                                            [2, 1, 0]\n",
      "iMobillim                                            [2, 0, 1]\n",
      "dOccup                             [3, 2, 4, 0, 6, 1, 5, 8, 7]\n",
      "iOthrserv                                               [0, 1]\n",
      "iPerscare                                            [2, 0, 1]\n",
      "dPOB                                     [0, 3, 4, 6, 2, 1, 5]\n",
      "dPoverty                                             [2, 1, 0]\n",
      "dPwgt1                                            [1, 2, 0, 3]\n",
      "iRagechld                                      [4, 2, 0, 3, 1]\n",
      "dRearning                                   [3, 2, 0, 4, 5, 1]\n",
      "iRelat1         [0, 1, 2, 10, 12, 9, 7, 4, 3, 13, 11, 6, 8, 5]\n",
      "iRelat2                         [0, 6, 9, 1, 8, 2, 4, 3, 7, 5]\n",
      "iRemplpar    [0, 121, 112, 211, 111, 122, 222, 221, 223, 11...\n",
      "iRiders                            [3, 1, 0, 2, 4, 8, 6, 5, 7]\n",
      "iRlabor                                  [1, 6, 0, 3, 4, 2, 5]\n",
      "iRownchld                                               [0, 1]\n",
      "dRpincome                                   [3, 2, 0, 4, 5, 1]\n",
      "iRPOB        [22, 10, 21, 23, 51, 24, 52, 40, 31, 35, 36, 3...\n",
      "iRrelchld                                               [0, 1]\n",
      "iRspouse                                 [3, 1, 6, 4, 0, 5, 2]\n",
      "iRvetserv               [0, 1, 3, 8, 10, 4, 7, 2, 5, 9, 6, 11]\n",
      "iSchool                                           [1, 2, 3, 0]\n",
      "iSept80                                                 [0, 1]\n",
      "iSex                                                    [1, 0]\n",
      "iSubfam1                                          [0, 2, 3, 1]\n",
      "iSubfam2                                          [0, 1, 2, 3]\n",
      "iTmpabsnt                                         [0, 3, 1, 2]\n",
      "dTravtime                                [5, 1, 2, 0, 4, 3, 6]\n",
      "iVietnam                                                [0, 1]\n",
      "dWeek89                                              [2, 1, 0]\n",
      "iWork89                                              [1, 2, 0]\n",
      "iWorklwk                                             [1, 2, 0]\n",
      "iWWII                                                   [0, 1]\n",
      "iYearsch     [11, 5, 10, 4, 8, 1, 7, 6, 12, 14, 15, 2, 0, 9...\n",
      "iYearwrk                              [1, 6, 0, 7, 4, 2, 3, 5]\n",
      "dYrsserv                                             [0, 1, 2]\n",
      "dtype: object\n"
     ]
    }
   ],
   "source": [
    "pd.set_option('display.max_rows', None) \n",
    "print(X.apply(lambda col: col.unique()))"
   ]
  },
  {
   "cell_type": "code",
   "execution_count": null,
   "id": "4e51f184",
   "metadata": {},
   "outputs": [],
   "source": [
    "pd.set_option('display.max_rows', 10) #back to default"
   ]
  }
 ],
 "metadata": {
  "kernelspec": {
   "display_name": "Python 3 (ipykernel)",
   "language": "python",
   "name": "python3"
  },
  "language_info": {
   "codemirror_mode": {
    "name": "ipython",
    "version": 3
   },
   "file_extension": ".py",
   "mimetype": "text/x-python",
   "name": "python",
   "nbconvert_exporter": "python",
   "pygments_lexer": "ipython3",
   "version": "3.8.12"
  }
 },
 "nbformat": 4,
 "nbformat_minor": 5
}
